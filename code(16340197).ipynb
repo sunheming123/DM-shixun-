{
 "cells": [
  {
   "cell_type": "code",
   "execution_count": 2,
   "metadata": {},
   "outputs": [],
   "source": [
    "import pandas as pd\n",
    "import numpy as np\n",
    "import lightgbm as lgb\n",
    "from tqdm import tqdm\n",
    "#from progressbar import *  \n",
    "from tqdm._tqdm import trange\n",
    "import warnings\n",
    "import gc\n",
    "warnings.filterwarnings('ignore')"
   ]
  },
  {
   "cell_type": "code",
   "execution_count": 6,
   "metadata": {},
   "outputs": [],
   "source": [
    "pd.set_option('display.max_columns',None)"
   ]
  },
  {
   "cell_type": "code",
   "execution_count": 3,
   "metadata": {},
   "outputs": [],
   "source": [
    "#读取数据\n",
    "age_train = pd.read_csv(\"age_train.csv\", names=['uid','age_group'])\n",
    "age_test = pd.read_csv(\"age_test.csv\", names=['uid'])\n",
    "user_basic_info = pd.read_csv(\"user_basic_info.csv\", names=['uid','gender','city','prodName','ramCapacity','ramLeftRation','romCapacity','romLeftRation','color','fontSize','ct','carrier','os'])\n",
    "user_behavior_info = pd.read_csv(\"user_behavior_info.csv\", names=['uid','bootTimes','AFuncTimes','BFuncTimes','CFuncTimes','DFuncTimes','EFuncTimes','FFuncTimes','FFuncSum'])\n",
    "user_app_actived = pd.read_csv(\"user_app_actived.csv\", names=['uid','appId'])\n",
    "\n",
    "app_info = pd.read_csv(\"app_info.csv\", names=['appId', 'category'])"
   ]
  },
  {
   "cell_type": "code",
   "execution_count": 4,
   "metadata": {},
   "outputs": [],
   "source": [
    "#处理数据量较大的user_app_usage.csv，结合app_info.csv简单统计得到appuseProcessed.csv作为特征\n",
    "def f(x):\n",
    "    s = x.value_counts()\n",
    "    return np.nan if len(s) == 0 else s.index[0]\n",
    "def processUserAppUsage():\n",
    "    resTable = pd.DataFrame()\n",
    "    reader = pd.read_csv(\"user_app_usage.csv\", names=['uid','appId','duration','times','use_date'], iterator=True)\n",
    "    last_df = pd.DataFrame()\n",
    "    \n",
    "    app_info = pd.read_csv(\"app_info.csv\", names=['appId','category'])\n",
    "    # 统计出共有多少种类别的app\n",
    "    cats = list(set(app_info['category']))\n",
    "    category2id = dict(zip(sorted(cats), range(0,len(cats))))\n",
    "    id2category = dict(zip(range(0,len(cats)), sorted(cats)))\n",
    "    app_info['category'] = app_info['category'].apply(lambda x: category2id[x])\n",
    "    i = 1\n",
    "    \n",
    "    while True:\n",
    "        try:\n",
    "            print(\"index: {}\".format(i))\n",
    "            i+=1\n",
    "            df = reader.get_chunk(1000000)\n",
    "            df = pd.concat([last_df, df])\n",
    "            idx = df.shape[0]-1\n",
    "            last_user = df.iat[idx,0]\n",
    "            while(df.iat[idx,0]==last_user):\n",
    "                idx-=1\n",
    "            last_df = df[idx+1:]\n",
    "            df = df[:idx+1]\n",
    "\n",
    "            now_df = pd.DataFrame()\n",
    "            now_df['uid'] = df['uid'].unique()\n",
    "            now_df = now_df.merge(df.groupby('uid')['appId'].count().to_frame(), how='left', on='uid')\n",
    "            now_df = now_df.merge(df.groupby('uid')['appId','use_date'].agg(['nunique']), how='left', on='uid')\n",
    "            now_df = now_df.merge(df.groupby('uid')['duration','times'].agg(['mean','max','std']), how='left', on='uid')    \n",
    "\n",
    "            now_df.columns = ['uid','usage_cnt','usage_appid_cnt','usage_date_cnt','duration_mean','duration_max','duration_std','times_mean','times_max','times_std']\n",
    "\n",
    "\n",
    "            df = df.merge(app_info, how='left', on='appId')\n",
    "            now_df = now_df.merge(df.groupby('uid')['category'].nunique().to_frame(), how='left', on='uid')\n",
    "            #print(df.groupby(['uid'])['category'].value_counts().index[0])\n",
    "            now_df['usage_most_used_category'] = df.groupby(['uid'])['category'].transform(f)\n",
    "            resTable = pd.concat([resTable, now_df])\n",
    "        except StopIteration:\n",
    "            break\n",
    "    \n",
    "    resTable.to_csv(\"appuseProcessed.csv\",index=0)\n",
    "    \n",
    "    print(\"Iterator is stopped\")"
   ]
  },
  {
   "cell_type": "code",
   "execution_count": 5,
   "metadata": {
    "scrolled": true
   },
   "outputs": [
    {
     "name": "stdout",
     "output_type": "stream",
     "text": [
      "index: 1\n",
      "index: 2\n",
      "index: 3\n",
      "index: 4\n",
      "index: 5\n",
      "index: 6\n",
      "index: 7\n",
      "index: 8\n",
      "index: 9\n",
      "index: 10\n",
      "index: 11\n",
      "index: 12\n",
      "index: 13\n",
      "index: 14\n",
      "index: 15\n",
      "index: 16\n",
      "index: 17\n",
      "index: 18\n",
      "index: 19\n",
      "index: 20\n",
      "index: 21\n",
      "index: 22\n",
      "index: 23\n",
      "index: 24\n",
      "index: 25\n",
      "index: 26\n",
      "index: 27\n",
      "index: 28\n",
      "index: 29\n",
      "index: 30\n",
      "index: 31\n",
      "index: 32\n",
      "index: 33\n",
      "index: 34\n",
      "index: 35\n",
      "index: 36\n",
      "index: 37\n",
      "index: 38\n",
      "index: 39\n",
      "index: 40\n",
      "index: 41\n",
      "index: 42\n",
      "index: 43\n",
      "index: 44\n",
      "index: 45\n",
      "index: 46\n",
      "index: 47\n",
      "index: 48\n",
      "index: 49\n",
      "index: 50\n",
      "index: 51\n",
      "index: 52\n",
      "index: 53\n",
      "index: 54\n",
      "index: 55\n",
      "index: 56\n",
      "index: 57\n",
      "index: 58\n",
      "index: 59\n",
      "index: 60\n",
      "index: 61\n",
      "index: 62\n",
      "index: 63\n",
      "index: 64\n",
      "index: 65\n",
      "index: 66\n",
      "index: 67\n",
      "index: 68\n",
      "index: 69\n",
      "index: 70\n",
      "index: 71\n",
      "index: 72\n",
      "index: 73\n",
      "index: 74\n",
      "index: 75\n",
      "index: 76\n",
      "index: 77\n",
      "index: 78\n",
      "index: 79\n",
      "index: 80\n",
      "index: 81\n",
      "index: 82\n",
      "index: 83\n",
      "index: 84\n",
      "index: 85\n",
      "index: 86\n",
      "index: 87\n",
      "index: 88\n",
      "index: 89\n",
      "index: 90\n",
      "index: 91\n",
      "index: 92\n",
      "index: 93\n",
      "index: 94\n",
      "index: 95\n",
      "index: 96\n",
      "index: 97\n",
      "index: 98\n",
      "index: 99\n",
      "index: 100\n",
      "index: 101\n",
      "index: 102\n",
      "index: 103\n",
      "index: 104\n",
      "index: 105\n",
      "index: 106\n",
      "index: 107\n",
      "index: 108\n",
      "index: 109\n",
      "index: 110\n",
      "index: 111\n",
      "index: 112\n",
      "index: 113\n",
      "index: 114\n",
      "index: 115\n",
      "index: 116\n",
      "index: 117\n",
      "index: 118\n",
      "index: 119\n",
      "index: 120\n",
      "index: 121\n",
      "index: 122\n",
      "index: 123\n",
      "index: 124\n",
      "index: 125\n",
      "index: 126\n",
      "index: 127\n",
      "index: 128\n",
      "index: 129\n",
      "index: 130\n",
      "index: 131\n",
      "index: 132\n",
      "index: 133\n",
      "index: 134\n",
      "index: 135\n",
      "index: 136\n",
      "index: 137\n",
      "index: 138\n",
      "index: 139\n",
      "index: 140\n",
      "index: 141\n",
      "index: 142\n",
      "index: 143\n",
      "index: 144\n",
      "index: 145\n",
      "index: 146\n",
      "index: 147\n",
      "index: 148\n",
      "index: 149\n",
      "index: 150\n",
      "index: 151\n",
      "index: 152\n",
      "index: 153\n",
      "index: 154\n",
      "index: 155\n",
      "index: 156\n",
      "index: 157\n",
      "index: 158\n",
      "index: 159\n",
      "index: 160\n",
      "index: 161\n",
      "index: 162\n",
      "index: 163\n",
      "index: 164\n",
      "index: 165\n",
      "index: 166\n",
      "index: 167\n",
      "index: 168\n",
      "index: 169\n",
      "index: 170\n",
      "index: 171\n",
      "index: 172\n",
      "index: 173\n",
      "index: 174\n",
      "index: 175\n",
      "index: 176\n",
      "index: 177\n",
      "index: 178\n",
      "index: 179\n",
      "index: 180\n",
      "index: 181\n",
      "index: 182\n",
      "index: 183\n",
      "index: 184\n",
      "index: 185\n",
      "index: 186\n",
      "index: 187\n",
      "index: 188\n",
      "index: 189\n",
      "index: 190\n",
      "index: 191\n",
      "index: 192\n",
      "index: 193\n",
      "index: 194\n",
      "index: 195\n",
      "index: 196\n",
      "index: 197\n",
      "index: 198\n",
      "index: 199\n",
      "index: 200\n",
      "index: 201\n",
      "index: 202\n",
      "index: 203\n",
      "index: 204\n",
      "index: 205\n",
      "index: 206\n",
      "index: 207\n",
      "index: 208\n",
      "index: 209\n",
      "index: 210\n",
      "index: 211\n",
      "index: 212\n",
      "index: 213\n",
      "index: 214\n",
      "index: 215\n",
      "index: 216\n",
      "index: 217\n",
      "index: 218\n",
      "index: 219\n",
      "index: 220\n",
      "index: 221\n",
      "index: 222\n",
      "index: 223\n",
      "index: 224\n",
      "index: 225\n",
      "index: 226\n",
      "index: 227\n",
      "index: 228\n",
      "index: 229\n",
      "index: 230\n",
      "index: 231\n",
      "index: 232\n",
      "index: 233\n",
      "index: 234\n",
      "index: 235\n",
      "index: 236\n",
      "index: 237\n",
      "index: 238\n",
      "index: 239\n",
      "index: 240\n",
      "index: 241\n",
      "index: 242\n",
      "index: 243\n",
      "index: 244\n",
      "index: 245\n",
      "index: 246\n",
      "index: 247\n",
      "index: 248\n",
      "index: 249\n",
      "index: 250\n",
      "index: 251\n",
      "index: 252\n",
      "index: 253\n",
      "index: 254\n",
      "index: 255\n",
      "index: 256\n",
      "index: 257\n",
      "index: 258\n",
      "index: 259\n",
      "index: 260\n",
      "index: 261\n",
      "index: 262\n",
      "index: 263\n",
      "index: 264\n",
      "index: 265\n",
      "index: 266\n",
      "index: 267\n",
      "index: 268\n",
      "index: 269\n",
      "index: 270\n",
      "index: 271\n",
      "index: 272\n",
      "index: 273\n",
      "index: 274\n",
      "index: 275\n",
      "index: 276\n",
      "index: 277\n",
      "index: 278\n",
      "index: 279\n",
      "index: 280\n",
      "index: 281\n",
      "index: 282\n",
      "index: 283\n",
      "index: 284\n",
      "index: 285\n",
      "index: 286\n",
      "index: 287\n",
      "index: 288\n",
      "index: 289\n",
      "index: 290\n",
      "index: 291\n",
      "index: 292\n",
      "index: 293\n",
      "index: 294\n",
      "index: 295\n",
      "index: 296\n",
      "index: 297\n",
      "index: 298\n",
      "index: 299\n",
      "index: 300\n",
      "index: 301\n",
      "index: 302\n",
      "index: 303\n",
      "index: 304\n",
      "index: 305\n",
      "index: 306\n",
      "index: 307\n",
      "index: 308\n",
      "index: 309\n",
      "index: 310\n",
      "index: 311\n",
      "index: 312\n",
      "index: 313\n",
      "index: 314\n",
      "index: 315\n",
      "index: 316\n",
      "index: 317\n",
      "index: 318\n",
      "index: 319\n",
      "index: 320\n",
      "index: 321\n",
      "index: 322\n",
      "index: 323\n",
      "index: 324\n",
      "index: 325\n",
      "index: 326\n",
      "index: 327\n",
      "index: 328\n",
      "index: 329\n",
      "index: 330\n",
      "index: 331\n",
      "index: 332\n",
      "index: 333\n",
      "index: 334\n",
      "index: 335\n",
      "index: 336\n",
      "index: 337\n",
      "index: 338\n",
      "index: 339\n",
      "index: 340\n",
      "index: 341\n",
      "index: 342\n",
      "index: 343\n",
      "index: 344\n",
      "index: 345\n",
      "index: 346\n",
      "index: 347\n",
      "index: 348\n",
      "index: 349\n",
      "index: 350\n",
      "index: 351\n",
      "index: 352\n",
      "index: 353\n",
      "index: 354\n",
      "index: 355\n",
      "index: 356\n",
      "index: 357\n",
      "index: 358\n",
      "index: 359\n",
      "index: 360\n",
      "index: 361\n",
      "index: 362\n",
      "index: 363\n",
      "index: 364\n",
      "index: 365\n",
      "index: 366\n",
      "index: 367\n",
      "index: 368\n",
      "index: 369\n",
      "index: 370\n",
      "index: 371\n",
      "index: 372\n",
      "index: 373\n",
      "index: 374\n",
      "index: 375\n",
      "index: 376\n",
      "index: 377\n",
      "index: 378\n",
      "index: 379\n",
      "index: 380\n",
      "index: 381\n",
      "index: 382\n",
      "index: 383\n",
      "index: 384\n",
      "index: 385\n",
      "index: 386\n",
      "index: 387\n",
      "index: 388\n",
      "index: 389\n",
      "index: 390\n",
      "index: 391\n",
      "index: 392\n",
      "index: 393\n",
      "index: 394\n",
      "index: 395\n",
      "index: 396\n",
      "index: 397\n",
      "index: 398\n",
      "index: 399\n",
      "index: 400\n",
      "index: 401\n",
      "index: 402\n",
      "index: 403\n",
      "index: 404\n",
      "index: 405\n",
      "index: 406\n",
      "index: 407\n",
      "index: 408\n",
      "index: 409\n",
      "index: 410\n",
      "index: 411\n",
      "index: 412\n",
      "index: 413\n",
      "index: 414\n",
      "index: 415\n",
      "index: 416\n",
      "index: 417\n",
      "index: 418\n",
      "index: 419\n",
      "index: 420\n",
      "index: 421\n",
      "index: 422\n",
      "index: 423\n",
      "index: 424\n",
      "index: 425\n",
      "index: 426\n",
      "index: 427\n",
      "index: 428\n",
      "index: 429\n",
      "index: 430\n",
      "index: 431\n",
      "index: 432\n",
      "index: 433\n",
      "index: 434\n",
      "index: 435\n",
      "index: 436\n",
      "index: 437\n",
      "index: 438\n",
      "index: 439\n",
      "index: 440\n",
      "index: 441\n",
      "index: 442\n",
      "index: 443\n",
      "index: 444\n",
      "index: 445\n",
      "index: 446\n",
      "index: 447\n",
      "index: 448\n",
      "index: 449\n",
      "index: 450\n",
      "index: 451\n",
      "index: 452\n",
      "index: 453\n",
      "index: 454\n",
      "index: 455\n",
      "index: 456\n",
      "index: 457\n",
      "index: 458\n",
      "index: 459\n",
      "index: 460\n",
      "index: 461\n",
      "index: 462\n",
      "index: 463\n",
      "index: 464\n",
      "index: 465\n",
      "index: 466\n",
      "index: 467\n",
      "index: 468\n",
      "index: 469\n",
      "index: 470\n",
      "index: 471\n",
      "index: 472\n",
      "index: 473\n",
      "index: 474\n",
      "index: 475\n",
      "index: 476\n",
      "index: 477\n",
      "index: 478\n",
      "index: 479\n",
      "index: 480\n",
      "index: 481\n",
      "index: 482\n",
      "index: 483\n",
      "index: 484\n",
      "index: 485\n",
      "index: 486\n",
      "index: 487\n",
      "index: 488\n",
      "index: 489\n",
      "index: 490\n",
      "index: 491\n",
      "index: 492\n",
      "index: 493\n",
      "index: 494\n",
      "index: 495\n",
      "index: 496\n",
      "index: 497\n",
      "index: 498\n",
      "index: 499\n",
      "index: 500\n",
      "index: 501\n",
      "index: 502\n",
      "index: 503\n",
      "index: 504\n",
      "index: 505\n",
      "index: 506\n",
      "index: 507\n",
      "index: 508\n",
      "index: 509\n",
      "index: 510\n",
      "index: 511\n",
      "index: 512\n",
      "index: 513\n",
      "index: 514\n",
      "index: 515\n",
      "index: 516\n",
      "index: 517\n",
      "index: 518\n",
      "index: 519\n",
      "index: 520\n",
      "index: 521\n",
      "index: 522\n",
      "index: 523\n",
      "index: 524\n",
      "index: 525\n",
      "index: 526\n",
      "index: 527\n",
      "index: 528\n",
      "index: 529\n",
      "index: 530\n",
      "index: 531\n",
      "index: 532\n",
      "index: 533\n",
      "index: 534\n",
      "index: 535\n",
      "index: 536\n",
      "index: 537\n",
      "index: 538\n",
      "index: 539\n",
      "index: 540\n",
      "index: 541\n",
      "index: 542\n",
      "index: 543\n",
      "index: 544\n",
      "index: 545\n",
      "index: 546\n",
      "index: 547\n",
      "index: 548\n",
      "index: 549\n",
      "index: 550\n",
      "index: 551\n",
      "index: 552\n",
      "index: 553\n",
      "index: 554\n",
      "index: 555\n",
      "index: 556\n",
      "index: 557\n",
      "index: 558\n",
      "index: 559\n",
      "index: 560\n",
      "index: 561\n",
      "index: 562\n",
      "index: 563\n",
      "index: 564\n",
      "index: 565\n",
      "index: 566\n",
      "index: 567\n",
      "index: 568\n",
      "index: 569\n",
      "index: 570\n",
      "index: 571\n",
      "index: 572\n",
      "index: 573\n",
      "index: 574\n",
      "index: 575\n",
      "index: 576\n",
      "index: 577\n",
      "index: 578\n",
      "index: 579\n",
      "index: 580\n",
      "index: 581\n",
      "index: 582\n",
      "index: 583\n",
      "index: 584\n",
      "index: 585\n",
      "index: 586\n",
      "index: 587\n",
      "index: 588\n",
      "index: 589\n",
      "index: 590\n",
      "index: 591\n",
      "index: 592\n",
      "index: 593\n",
      "index: 594\n",
      "index: 595\n",
      "index: 596\n",
      "index: 597\n",
      "index: 598\n",
      "index: 599\n",
      "index: 600\n",
      "index: 601\n",
      "index: 602\n",
      "index: 603\n",
      "index: 604\n",
      "index: 605\n",
      "index: 606\n",
      "index: 607\n",
      "index: 608\n",
      "index: 609\n",
      "index: 610\n",
      "index: 611\n",
      "index: 612\n",
      "index: 613\n",
      "index: 614\n",
      "index: 615\n",
      "index: 616\n",
      "index: 617\n",
      "index: 618\n",
      "index: 619\n",
      "index: 620\n",
      "index: 621\n",
      "index: 622\n",
      "index: 623\n",
      "index: 624\n",
      "index: 625\n",
      "index: 626\n",
      "index: 627\n",
      "index: 628\n",
      "index: 629\n",
      "index: 630\n",
      "index: 631\n",
      "index: 632\n",
      "index: 633\n",
      "index: 634\n",
      "index: 635\n",
      "index: 636\n",
      "index: 637\n",
      "index: 638\n",
      "index: 639\n",
      "index: 640\n",
      "index: 641\n",
      "index: 642\n",
      "index: 643\n",
      "index: 644\n",
      "index: 645\n",
      "index: 646\n",
      "index: 647\n",
      "index: 648\n",
      "index: 649\n",
      "index: 650\n",
      "index: 651\n",
      "index: 652\n",
      "index: 653\n",
      "Iterator is stopped\n"
     ]
    }
   ],
   "source": [
    "processUserAppUsage()"
   ]
  },
  {
   "cell_type": "code",
   "execution_count": 5,
   "metadata": {},
   "outputs": [],
   "source": [
    "#将user_basic_info.csv 和 user_behavior_info.csv中的字符值编码成可以训练的数值类型，合并\n",
    "class2id = {}\n",
    "id2class = {}\n",
    "def mergeBasicTables(baseTable):\n",
    "    resTable = baseTable.merge(user_basic_info, how='left', on='uid', suffixes=('_base0', '_ubaf'))\n",
    "    resTable = resTable.merge(user_behavior_info, how='left', on='uid', suffixes=('_base1', '_ubef'))\n",
    "    cat_columns = ['city','prodName','color','carrier','os','ct']\n",
    "    for c in cat_columns:\n",
    "        resTable[c] = resTable[c].apply(lambda x: x if type(x)==str else str(x))\n",
    "        sort_temp = sorted(list(set(resTable[c])))  \n",
    "        class2id[c+'2id'] = dict(zip(sort_temp, range(1, len(sort_temp)+1)))\n",
    "        id2class['id2'+c] = dict(zip(range(1,len(sort_temp)+1), sort_temp))\n",
    "        resTable[c] = resTable[c].apply(lambda x: class2id[c+'2id'][x])\n",
    "        \n",
    "    return resTable"
   ]
  },
  {
   "cell_type": "code",
   "execution_count": 6,
   "metadata": {},
   "outputs": [],
   "source": [
    "#处理app使用相关数据\n",
    "#对user_app_actived.csv简单统计\n",
    "# 将之前训练的appuseProcess.csv进行合并，只统计激活的app的个数\n",
    "\n",
    "# 进阶——对user_app_actived.csv高级统计——统计用户安装的每种APP的数目\n",
    "\n",
    "def mergeAppData(baseTable):\n",
    "    resTable = baseTable.merge(user_app_actived, how='left', on='uid')\n",
    "    resTable['appId'] = resTable['appId'].apply(lambda x: len(list(x.split('#'))))\n",
    "    appusedTable = pd.read_csv(\"appuseProcessed.csv\")\n",
    "    resTable = resTable.merge(appusedTable, how='left', on='uid')\n",
    "    resTable[['category', 'usage_most_used_category']] = resTable[['category', 'usage_most_used_category']].fillna(41)\n",
    "    resTable = resTable.fillna(0)\n",
    "    #print(resTable[:5])\n",
    "    return resTable\n",
    "\n",
    "import csv\n",
    "\n",
    "def SaveFile2csv(path,contents):\n",
    "    f=open(path,'a+')\n",
    "    writer=csv.writer(f)\n",
    "    writer.writerow(contents)\n",
    "    f.close()"
   ]
  },
  {
   "cell_type": "code",
   "execution_count": 8,
   "metadata": {
    "scrolled": true
   },
   "outputs": [],
   "source": [
    "#  cats = list(set(app_info['category']))\n",
    "#  category2id = dict(zip(sorted(cats), range(0,len(cats))))\n",
    "#  id2category = dict(zip(range(0,len(cats)), sorted(cats)))\n",
    "#  app_info['category'] = app_info['category'].apply(lambda x: category2id[x])\n",
    "\n",
    "\n",
    "# 统计出共有多少种类别的app\n",
    "#app_info = pd.read_csv(\"app_info.csv\", names=['appId','category'])\n",
    "#cats = list(set(app_info['category']))\n",
    "#category2id = dict(zip(sorted(cats), range(0,len(cats))))\n",
    "#id2category = dict(zip(range(0,len(cats)), sorted(cats)))\n",
    "#app_info['category'] = app_info['category'].apply(lambda x: category2id[x])\n",
    "\n",
    "\n",
    "\n",
    "#print(app_info)\n",
    "#print(len(set(app_info['category'])))\n",
    "#print(id2category)\n",
    "#print(category2id)"
   ]
  },
  {
   "cell_type": "code",
   "execution_count": 28,
   "metadata": {},
   "outputs": [
    {
     "data": {
      "text/html": [
       "<div>\n",
       "<style scoped>\n",
       "    .dataframe tbody tr th:only-of-type {\n",
       "        vertical-align: middle;\n",
       "    }\n",
       "\n",
       "    .dataframe tbody tr th {\n",
       "        vertical-align: top;\n",
       "    }\n",
       "\n",
       "    .dataframe thead th {\n",
       "        text-align: right;\n",
       "    }\n",
       "</style>\n",
       "<table border=\"1\" class=\"dataframe\">\n",
       "  <thead>\n",
       "    <tr style=\"text-align: right;\">\n",
       "      <th></th>\n",
       "      <th>uid</th>\n",
       "      <th>age_group</th>\n",
       "      <th>gender</th>\n",
       "      <th>city</th>\n",
       "      <th>prodName</th>\n",
       "      <th>ramCapacity</th>\n",
       "      <th>ramLeftRation</th>\n",
       "      <th>romCapacity</th>\n",
       "      <th>romLeftRation</th>\n",
       "      <th>color</th>\n",
       "      <th>fontSize</th>\n",
       "      <th>ct</th>\n",
       "      <th>carrier</th>\n",
       "      <th>os</th>\n",
       "      <th>bootTimes</th>\n",
       "      <th>AFuncTimes</th>\n",
       "      <th>BFuncTimes</th>\n",
       "      <th>CFuncTimes</th>\n",
       "      <th>DFuncTimes</th>\n",
       "      <th>EFuncTimes</th>\n",
       "      <th>FFuncTimes</th>\n",
       "      <th>FFuncSum</th>\n",
       "    </tr>\n",
       "  </thead>\n",
       "  <tbody>\n",
       "    <tr>\n",
       "      <th>0</th>\n",
       "      <td>1000001</td>\n",
       "      <td>4</td>\n",
       "      <td>0</td>\n",
       "      <td>51</td>\n",
       "      <td>78</td>\n",
       "      <td>3.0</td>\n",
       "      <td>0.43</td>\n",
       "      <td>32.0</td>\n",
       "      <td>0.46</td>\n",
       "      <td>80</td>\n",
       "      <td>1.15</td>\n",
       "      <td>5</td>\n",
       "      <td>1</td>\n",
       "      <td>14</td>\n",
       "      <td>108</td>\n",
       "      <td>0.0</td>\n",
       "      <td>0.0</td>\n",
       "      <td>1.00</td>\n",
       "      <td>0.07</td>\n",
       "      <td>0.0</td>\n",
       "      <td>0.0</td>\n",
       "      <td>3319</td>\n",
       "    </tr>\n",
       "    <tr>\n",
       "      <th>1</th>\n",
       "      <td>1000011</td>\n",
       "      <td>3</td>\n",
       "      <td>0</td>\n",
       "      <td>30</td>\n",
       "      <td>138</td>\n",
       "      <td>NaN</td>\n",
       "      <td>NaN</td>\n",
       "      <td>NaN</td>\n",
       "      <td>NaN</td>\n",
       "      <td>16</td>\n",
       "      <td>NaN</td>\n",
       "      <td>6</td>\n",
       "      <td>1</td>\n",
       "      <td>15</td>\n",
       "      <td>0</td>\n",
       "      <td>0.0</td>\n",
       "      <td>0.0</td>\n",
       "      <td>0.00</td>\n",
       "      <td>0.00</td>\n",
       "      <td>0.0</td>\n",
       "      <td>0.0</td>\n",
       "      <td>220</td>\n",
       "    </tr>\n",
       "    <tr>\n",
       "      <th>2</th>\n",
       "      <td>1000015</td>\n",
       "      <td>5</td>\n",
       "      <td>1</td>\n",
       "      <td>228</td>\n",
       "      <td>78</td>\n",
       "      <td>3.0</td>\n",
       "      <td>0.34</td>\n",
       "      <td>32.0</td>\n",
       "      <td>0.06</td>\n",
       "      <td>80</td>\n",
       "      <td>1.30</td>\n",
       "      <td>8</td>\n",
       "      <td>2</td>\n",
       "      <td>14</td>\n",
       "      <td>12</td>\n",
       "      <td>0.0</td>\n",
       "      <td>0.0</td>\n",
       "      <td>0.03</td>\n",
       "      <td>0.13</td>\n",
       "      <td>0.0</td>\n",
       "      <td>0.0</td>\n",
       "      <td>21881</td>\n",
       "    </tr>\n",
       "    <tr>\n",
       "      <th>3</th>\n",
       "      <td>1000019</td>\n",
       "      <td>3</td>\n",
       "      <td>0</td>\n",
       "      <td>57</td>\n",
       "      <td>166</td>\n",
       "      <td>2.0</td>\n",
       "      <td>NaN</td>\n",
       "      <td>17.0</td>\n",
       "      <td>NaN</td>\n",
       "      <td>100</td>\n",
       "      <td>NaN</td>\n",
       "      <td>7</td>\n",
       "      <td>3</td>\n",
       "      <td>15</td>\n",
       "      <td>0</td>\n",
       "      <td>0.0</td>\n",
       "      <td>0.0</td>\n",
       "      <td>0.00</td>\n",
       "      <td>0.00</td>\n",
       "      <td>0.0</td>\n",
       "      <td>0.0</td>\n",
       "      <td>0</td>\n",
       "    </tr>\n",
       "    <tr>\n",
       "      <th>4</th>\n",
       "      <td>1000023</td>\n",
       "      <td>2</td>\n",
       "      <td>1</td>\n",
       "      <td>293</td>\n",
       "      <td>164</td>\n",
       "      <td>2.0</td>\n",
       "      <td>0.34</td>\n",
       "      <td>16.0</td>\n",
       "      <td>0.06</td>\n",
       "      <td>119</td>\n",
       "      <td>1.00</td>\n",
       "      <td>8</td>\n",
       "      <td>2</td>\n",
       "      <td>12</td>\n",
       "      <td>5</td>\n",
       "      <td>0.0</td>\n",
       "      <td>0.0</td>\n",
       "      <td>0.00</td>\n",
       "      <td>0.13</td>\n",
       "      <td>0.0</td>\n",
       "      <td>0.0</td>\n",
       "      <td>0</td>\n",
       "    </tr>\n",
       "  </tbody>\n",
       "</table>\n",
       "</div>"
      ],
      "text/plain": [
       "       uid  age_group  gender  city  prodName  ramCapacity  ramLeftRation  \\\n",
       "0  1000001          4       0    51        78          3.0           0.43   \n",
       "1  1000011          3       0    30       138          NaN            NaN   \n",
       "2  1000015          5       1   228        78          3.0           0.34   \n",
       "3  1000019          3       0    57       166          2.0            NaN   \n",
       "4  1000023          2       1   293       164          2.0           0.34   \n",
       "\n",
       "   romCapacity  romLeftRation  color  fontSize  ct  carrier  os  bootTimes  \\\n",
       "0         32.0           0.46     80      1.15   5        1  14        108   \n",
       "1          NaN            NaN     16       NaN   6        1  15          0   \n",
       "2         32.0           0.06     80      1.30   8        2  14         12   \n",
       "3         17.0            NaN    100       NaN   7        3  15          0   \n",
       "4         16.0           0.06    119      1.00   8        2  12          5   \n",
       "\n",
       "   AFuncTimes  BFuncTimes  CFuncTimes  DFuncTimes  EFuncTimes  FFuncTimes  \\\n",
       "0         0.0         0.0        1.00        0.07         0.0         0.0   \n",
       "1         0.0         0.0        0.00        0.00         0.0         0.0   \n",
       "2         0.0         0.0        0.03        0.13         0.0         0.0   \n",
       "3         0.0         0.0        0.00        0.00         0.0         0.0   \n",
       "4         0.0         0.0        0.00        0.13         0.0         0.0   \n",
       "\n",
       "   FFuncSum  \n",
       "0      3319  \n",
       "1       220  \n",
       "2     21881  \n",
       "3         0  \n",
       "4         0  "
      ]
     },
     "execution_count": 28,
     "metadata": {},
     "output_type": "execute_result"
    }
   ],
   "source": [
    "temp = mergeBasicTables(age_train)\n",
    "temp.head()"
   ]
  },
  {
   "cell_type": "code",
   "execution_count": 3,
   "metadata": {},
   "outputs": [
    {
     "data": {
      "text/html": [
       "<div>\n",
       "<style scoped>\n",
       "    .dataframe tbody tr th:only-of-type {\n",
       "        vertical-align: middle;\n",
       "    }\n",
       "\n",
       "    .dataframe tbody tr th {\n",
       "        vertical-align: top;\n",
       "    }\n",
       "\n",
       "    .dataframe thead th {\n",
       "        text-align: right;\n",
       "    }\n",
       "</style>\n",
       "<table border=\"1\" class=\"dataframe\">\n",
       "  <thead>\n",
       "    <tr style=\"text-align: right;\">\n",
       "      <th></th>\n",
       "      <th>uid</th>\n",
       "      <th>usage_cnt</th>\n",
       "      <th>usage_appid_cnt</th>\n",
       "      <th>usage_date_cnt</th>\n",
       "      <th>duration_mean</th>\n",
       "      <th>duration_max</th>\n",
       "      <th>duration_std</th>\n",
       "      <th>times_mean</th>\n",
       "      <th>times_max</th>\n",
       "      <th>times_std</th>\n",
       "      <th>category</th>\n",
       "      <th>usage_most_used_category</th>\n",
       "    </tr>\n",
       "  </thead>\n",
       "  <tbody>\n",
       "    <tr>\n",
       "      <th>0</th>\n",
       "      <td>1000364</td>\n",
       "      <td>198</td>\n",
       "      <td>13</td>\n",
       "      <td>30</td>\n",
       "      <td>1973.515152</td>\n",
       "      <td>44845.0</td>\n",
       "      <td>4600.297805</td>\n",
       "      <td>32.272727</td>\n",
       "      <td>241.0</td>\n",
       "      <td>48.347162</td>\n",
       "      <td>8</td>\n",
       "      <td>18.0</td>\n",
       "    </tr>\n",
       "    <tr>\n",
       "      <th>1</th>\n",
       "      <td>1000387</td>\n",
       "      <td>491</td>\n",
       "      <td>41</td>\n",
       "      <td>30</td>\n",
       "      <td>1986.160896</td>\n",
       "      <td>24954.0</td>\n",
       "      <td>3338.793126</td>\n",
       "      <td>63.010183</td>\n",
       "      <td>1442.0</td>\n",
       "      <td>169.986128</td>\n",
       "      <td>14</td>\n",
       "      <td>18.0</td>\n",
       "    </tr>\n",
       "    <tr>\n",
       "      <th>2</th>\n",
       "      <td>1000872</td>\n",
       "      <td>406</td>\n",
       "      <td>29</td>\n",
       "      <td>30</td>\n",
       "      <td>861.123153</td>\n",
       "      <td>11875.0</td>\n",
       "      <td>1912.555912</td>\n",
       "      <td>56.347291</td>\n",
       "      <td>604.0</td>\n",
       "      <td>119.863091</td>\n",
       "      <td>12</td>\n",
       "      <td>18.0</td>\n",
       "    </tr>\n",
       "    <tr>\n",
       "      <th>3</th>\n",
       "      <td>1000951</td>\n",
       "      <td>223</td>\n",
       "      <td>21</td>\n",
       "      <td>30</td>\n",
       "      <td>1677.932735</td>\n",
       "      <td>17073.0</td>\n",
       "      <td>2826.470570</td>\n",
       "      <td>28.520179</td>\n",
       "      <td>208.0</td>\n",
       "      <td>44.027717</td>\n",
       "      <td>11</td>\n",
       "      <td>18.0</td>\n",
       "    </tr>\n",
       "    <tr>\n",
       "      <th>4</th>\n",
       "      <td>1001091</td>\n",
       "      <td>1019</td>\n",
       "      <td>160</td>\n",
       "      <td>30</td>\n",
       "      <td>871.041217</td>\n",
       "      <td>33739.0</td>\n",
       "      <td>2445.063938</td>\n",
       "      <td>35.236506</td>\n",
       "      <td>1552.0</td>\n",
       "      <td>111.937386</td>\n",
       "      <td>20</td>\n",
       "      <td>18.0</td>\n",
       "    </tr>\n",
       "  </tbody>\n",
       "</table>\n",
       "</div>"
      ],
      "text/plain": [
       "       uid  usage_cnt  usage_appid_cnt  usage_date_cnt  duration_mean  \\\n",
       "0  1000364        198               13              30    1973.515152   \n",
       "1  1000387        491               41              30    1986.160896   \n",
       "2  1000872        406               29              30     861.123153   \n",
       "3  1000951        223               21              30    1677.932735   \n",
       "4  1001091       1019              160              30     871.041217   \n",
       "\n",
       "   duration_max  duration_std  times_mean  times_max   times_std  category  \\\n",
       "0       44845.0   4600.297805   32.272727      241.0   48.347162         8   \n",
       "1       24954.0   3338.793126   63.010183     1442.0  169.986128        14   \n",
       "2       11875.0   1912.555912   56.347291      604.0  119.863091        12   \n",
       "3       17073.0   2826.470570   28.520179      208.0   44.027717        11   \n",
       "4       33739.0   2445.063938   35.236506     1552.0  111.937386        20   \n",
       "\n",
       "   usage_most_used_category  \n",
       "0                      18.0  \n",
       "1                      18.0  \n",
       "2                      18.0  \n",
       "3                      18.0  \n",
       "4                      18.0  "
      ]
     },
     "execution_count": 3,
     "metadata": {},
     "output_type": "execute_result"
    }
   ],
   "source": [
    "appuseProcessed_df = pd.read_csv(\"appuseProcessed.csv\")\n",
    "appuseProcessed_df.head()"
   ]
  },
  {
   "cell_type": "code",
   "execution_count": 33,
   "metadata": {},
   "outputs": [
    {
     "data": {
      "text/html": [
       "<div>\n",
       "<style scoped>\n",
       "    .dataframe tbody tr th:only-of-type {\n",
       "        vertical-align: middle;\n",
       "    }\n",
       "\n",
       "    .dataframe tbody tr th {\n",
       "        vertical-align: top;\n",
       "    }\n",
       "\n",
       "    .dataframe thead th {\n",
       "        text-align: right;\n",
       "    }\n",
       "</style>\n",
       "<table border=\"1\" class=\"dataframe\">\n",
       "  <thead>\n",
       "    <tr style=\"text-align: right;\">\n",
       "      <th></th>\n",
       "      <th>uid</th>\n",
       "      <th>appId</th>\n",
       "    </tr>\n",
       "  </thead>\n",
       "  <tbody>\n",
       "    <tr>\n",
       "      <th>0</th>\n",
       "      <td>1000008</td>\n",
       "      <td>a00105157#a00109386#a00134746#a0013952#a001451...</td>\n",
       "    </tr>\n",
       "    <tr>\n",
       "      <th>1</th>\n",
       "      <td>1000010</td>\n",
       "      <td>a00102782#a00107077#a00109386#a00134746#a00136...</td>\n",
       "    </tr>\n",
       "    <tr>\n",
       "      <th>2</th>\n",
       "      <td>1000011</td>\n",
       "      <td>a00158535#a00163116#a00170432#a00187480#a00224...</td>\n",
       "    </tr>\n",
       "    <tr>\n",
       "      <th>3</th>\n",
       "      <td>1000013</td>\n",
       "      <td>a00109386#a0011601#a0012768#a00136287#a0014516...</td>\n",
       "    </tr>\n",
       "    <tr>\n",
       "      <th>4</th>\n",
       "      <td>1000014</td>\n",
       "      <td>a00109386#a0011894#a0013059#a00134840#a0013578...</td>\n",
       "    </tr>\n",
       "  </tbody>\n",
       "</table>\n",
       "</div>"
      ],
      "text/plain": [
       "       uid                                              appId\n",
       "0  1000008  a00105157#a00109386#a00134746#a0013952#a001451...\n",
       "1  1000010  a00102782#a00107077#a00109386#a00134746#a00136...\n",
       "2  1000011  a00158535#a00163116#a00170432#a00187480#a00224...\n",
       "3  1000013  a00109386#a0011601#a0012768#a00136287#a0014516...\n",
       "4  1000014  a00109386#a0011894#a0013059#a00134840#a0013578..."
      ]
     },
     "execution_count": 33,
     "metadata": {},
     "output_type": "execute_result"
    }
   ],
   "source": [
    "\n",
    "aaa = pd.merge(temp,user_app_actived, how='left', on='uid')\n",
    "\n",
    "user_app_actived.head()\n",
    "#print(appusedTable)"
   ]
  },
  {
   "cell_type": "code",
   "execution_count": 32,
   "metadata": {},
   "outputs": [
    {
     "data": {
      "text/html": [
       "<div>\n",
       "<style scoped>\n",
       "    .dataframe tbody tr th:only-of-type {\n",
       "        vertical-align: middle;\n",
       "    }\n",
       "\n",
       "    .dataframe tbody tr th {\n",
       "        vertical-align: top;\n",
       "    }\n",
       "\n",
       "    .dataframe thead th {\n",
       "        text-align: right;\n",
       "    }\n",
       "</style>\n",
       "<table border=\"1\" class=\"dataframe\">\n",
       "  <thead>\n",
       "    <tr style=\"text-align: right;\">\n",
       "      <th></th>\n",
       "      <th>uid</th>\n",
       "      <th>age_group</th>\n",
       "      <th>gender</th>\n",
       "      <th>city</th>\n",
       "      <th>prodName</th>\n",
       "      <th>ramCapacity</th>\n",
       "      <th>ramLeftRation</th>\n",
       "      <th>romCapacity</th>\n",
       "      <th>romLeftRation</th>\n",
       "      <th>color</th>\n",
       "      <th>fontSize</th>\n",
       "      <th>ct</th>\n",
       "      <th>carrier</th>\n",
       "      <th>os</th>\n",
       "      <th>bootTimes</th>\n",
       "      <th>AFuncTimes</th>\n",
       "      <th>BFuncTimes</th>\n",
       "      <th>CFuncTimes</th>\n",
       "      <th>DFuncTimes</th>\n",
       "      <th>EFuncTimes</th>\n",
       "      <th>FFuncTimes</th>\n",
       "      <th>FFuncSum</th>\n",
       "      <th>appId</th>\n",
       "    </tr>\n",
       "  </thead>\n",
       "  <tbody>\n",
       "    <tr>\n",
       "      <th>0</th>\n",
       "      <td>1000001</td>\n",
       "      <td>4</td>\n",
       "      <td>0</td>\n",
       "      <td>51</td>\n",
       "      <td>78</td>\n",
       "      <td>3.0</td>\n",
       "      <td>0.43</td>\n",
       "      <td>32.0</td>\n",
       "      <td>0.46</td>\n",
       "      <td>80</td>\n",
       "      <td>1.15</td>\n",
       "      <td>5</td>\n",
       "      <td>1</td>\n",
       "      <td>14</td>\n",
       "      <td>108</td>\n",
       "      <td>0.0</td>\n",
       "      <td>0.0</td>\n",
       "      <td>1.00</td>\n",
       "      <td>0.07</td>\n",
       "      <td>0.0</td>\n",
       "      <td>0.0</td>\n",
       "      <td>3319</td>\n",
       "      <td>a00140327#a00170298#a00184278#a00187480#a00239...</td>\n",
       "    </tr>\n",
       "    <tr>\n",
       "      <th>1</th>\n",
       "      <td>1000011</td>\n",
       "      <td>3</td>\n",
       "      <td>0</td>\n",
       "      <td>30</td>\n",
       "      <td>138</td>\n",
       "      <td>NaN</td>\n",
       "      <td>NaN</td>\n",
       "      <td>NaN</td>\n",
       "      <td>NaN</td>\n",
       "      <td>16</td>\n",
       "      <td>NaN</td>\n",
       "      <td>6</td>\n",
       "      <td>1</td>\n",
       "      <td>15</td>\n",
       "      <td>0</td>\n",
       "      <td>0.0</td>\n",
       "      <td>0.0</td>\n",
       "      <td>0.00</td>\n",
       "      <td>0.00</td>\n",
       "      <td>0.0</td>\n",
       "      <td>0.0</td>\n",
       "      <td>220</td>\n",
       "      <td>a00158535#a00163116#a00170432#a00187480#a00224...</td>\n",
       "    </tr>\n",
       "    <tr>\n",
       "      <th>2</th>\n",
       "      <td>1000015</td>\n",
       "      <td>5</td>\n",
       "      <td>1</td>\n",
       "      <td>228</td>\n",
       "      <td>78</td>\n",
       "      <td>3.0</td>\n",
       "      <td>0.34</td>\n",
       "      <td>32.0</td>\n",
       "      <td>0.06</td>\n",
       "      <td>80</td>\n",
       "      <td>1.30</td>\n",
       "      <td>8</td>\n",
       "      <td>2</td>\n",
       "      <td>14</td>\n",
       "      <td>12</td>\n",
       "      <td>0.0</td>\n",
       "      <td>0.0</td>\n",
       "      <td>0.03</td>\n",
       "      <td>0.13</td>\n",
       "      <td>0.0</td>\n",
       "      <td>0.0</td>\n",
       "      <td>21881</td>\n",
       "      <td>a00109386#a00170432#a0021880#a00244790#a002475...</td>\n",
       "    </tr>\n",
       "    <tr>\n",
       "      <th>3</th>\n",
       "      <td>1000019</td>\n",
       "      <td>3</td>\n",
       "      <td>0</td>\n",
       "      <td>57</td>\n",
       "      <td>166</td>\n",
       "      <td>2.0</td>\n",
       "      <td>NaN</td>\n",
       "      <td>17.0</td>\n",
       "      <td>NaN</td>\n",
       "      <td>100</td>\n",
       "      <td>NaN</td>\n",
       "      <td>7</td>\n",
       "      <td>3</td>\n",
       "      <td>15</td>\n",
       "      <td>0</td>\n",
       "      <td>0.0</td>\n",
       "      <td>0.0</td>\n",
       "      <td>0.00</td>\n",
       "      <td>0.00</td>\n",
       "      <td>0.0</td>\n",
       "      <td>0.0</td>\n",
       "      <td>0</td>\n",
       "      <td>a00157060#a00274701</td>\n",
       "    </tr>\n",
       "    <tr>\n",
       "      <th>4</th>\n",
       "      <td>1000023</td>\n",
       "      <td>2</td>\n",
       "      <td>1</td>\n",
       "      <td>293</td>\n",
       "      <td>164</td>\n",
       "      <td>2.0</td>\n",
       "      <td>0.34</td>\n",
       "      <td>16.0</td>\n",
       "      <td>0.06</td>\n",
       "      <td>119</td>\n",
       "      <td>1.00</td>\n",
       "      <td>8</td>\n",
       "      <td>2</td>\n",
       "      <td>12</td>\n",
       "      <td>5</td>\n",
       "      <td>0.0</td>\n",
       "      <td>0.0</td>\n",
       "      <td>0.00</td>\n",
       "      <td>0.13</td>\n",
       "      <td>0.0</td>\n",
       "      <td>0.0</td>\n",
       "      <td>0</td>\n",
       "      <td>a00170298#a00203358#a00275200#a00278905#a00289...</td>\n",
       "    </tr>\n",
       "  </tbody>\n",
       "</table>\n",
       "</div>"
      ],
      "text/plain": [
       "       uid  age_group  gender  city  prodName  ramCapacity  ramLeftRation  \\\n",
       "0  1000001          4       0    51        78          3.0           0.43   \n",
       "1  1000011          3       0    30       138          NaN            NaN   \n",
       "2  1000015          5       1   228        78          3.0           0.34   \n",
       "3  1000019          3       0    57       166          2.0            NaN   \n",
       "4  1000023          2       1   293       164          2.0           0.34   \n",
       "\n",
       "   romCapacity  romLeftRation  color  fontSize  ct  carrier  os  bootTimes  \\\n",
       "0         32.0           0.46     80      1.15   5        1  14        108   \n",
       "1          NaN            NaN     16       NaN   6        1  15          0   \n",
       "2         32.0           0.06     80      1.30   8        2  14         12   \n",
       "3         17.0            NaN    100       NaN   7        3  15          0   \n",
       "4         16.0           0.06    119      1.00   8        2  12          5   \n",
       "\n",
       "   AFuncTimes  BFuncTimes  CFuncTimes  DFuncTimes  EFuncTimes  FFuncTimes  \\\n",
       "0         0.0         0.0        1.00        0.07         0.0         0.0   \n",
       "1         0.0         0.0        0.00        0.00         0.0         0.0   \n",
       "2         0.0         0.0        0.03        0.13         0.0         0.0   \n",
       "3         0.0         0.0        0.00        0.00         0.0         0.0   \n",
       "4         0.0         0.0        0.00        0.13         0.0         0.0   \n",
       "\n",
       "   FFuncSum                                              appId  \n",
       "0      3319  a00140327#a00170298#a00184278#a00187480#a00239...  \n",
       "1       220  a00158535#a00163116#a00170432#a00187480#a00224...  \n",
       "2     21881  a00109386#a00170432#a0021880#a00244790#a002475...  \n",
       "3         0                                a00157060#a00274701  \n",
       "4         0  a00170298#a00203358#a00275200#a00278905#a00289...  "
      ]
     },
     "execution_count": 32,
     "metadata": {},
     "output_type": "execute_result"
    }
   ],
   "source": [
    "aaa.head()"
   ]
  },
  {
   "cell_type": "code",
   "execution_count": 7,
   "metadata": {},
   "outputs": [],
   "source": [
    "#tempBaseTable = mergeBasicTables(age_train)\n",
    "#app_actived_table = tempBaseTable.merge(user_app_actived, how='left', on='uid')\n",
    "\n",
    "#print(user_app_actived)\n",
    "#def calculate_used_app_info_for_every_user(now_df, user_app_actived, app_info_dict):\n",
    "#    for index, row in user_app_actived.iterrows():\n",
    "#        appIdList = row[\"appId\"].split('#')\n",
    "        #print(appIdList)\n",
    "        #print(index)\n",
    "#        for appId in appIdList:\n",
    "#            if appId in app_info_dict.keys():\n",
    "#                now_df.at[index, str(app_info_dict[appId][0])] += 1\n",
    "                #print(app_info_dict[appId][0])\n"
   ]
  },
  {
   "cell_type": "markdown",
   "metadata": {},
   "source": [
    "## 第一次特征工程——结合app_info.csv统计用户激活的每类APP的个数"
   ]
  },
  {
   "cell_type": "code",
   "execution_count": 8,
   "metadata": {},
   "outputs": [],
   "source": [
    "def mergeAppDataUpgrade(baseTable):\n",
    "    \n",
    "    resTable = baseTable.merge(user_app_actived, how='left', on='uid')\n",
    "    resTable['appId'] = resTable['appId'].apply(lambda x: len(list(x.split('#'))))\n",
    "\n",
    "    appusedTable = pd.read_csv(\"appuseProcessed.csv\")\n",
    "    resTable = resTable.merge(appusedTable, how='left', on='uid')\n",
    "    resTable[['category', 'usage_most_used_category']] = resTable[['category', 'usage_most_used_category']].fillna(41)\n",
    "    resTable = resTable.fillna(0)\n",
    "\n",
    "\n",
    "    now_df = pd.DataFrame()\n",
    "    now_df['uid'] = resTable['uid']\n",
    "    for i in range(40):\n",
    "        now_df[str(i)] = 0\n",
    "\n",
    "    now_df = pd.merge(resTable, now_df, how='left', on='uid')\n",
    "\n",
    "    now_df = now_df.fillna(0)\n",
    "\n",
    "    #    now_df = now_df.merge(df.groupby('uid')['category'].nunique().to_frame(), how='left', on='uid')\n",
    "        #print(df.groupby(['uid'])['category'].value_counts().index[0])\n",
    "\n",
    "        # 开始计算每类APP的个数\n",
    "    #resTable = pd.merge(resTable, now_df, how='left', on='uid')\n",
    "\n",
    "\n",
    "\n",
    "    # 注意给的数据中，用户激活的app中有一些是不在app_info 中的，可以先忽略或者单独归为一类\n",
    "    app_info = pd.read_csv(\"app_info.csv\", names=['appId','category'])\n",
    "    # 统计出共有多少种类别的app\n",
    "    cats = list(set(app_info['category']))\n",
    "    category2id = dict(zip(sorted(cats), range(0,len(cats))))\n",
    "    id2category = dict(zip(range(0,len(cats)), sorted(cats)))\n",
    "    app_info['category'] = app_info['category'].apply(lambda x: category2id[x])\n",
    "    \n",
    "    # app_info转dict\n",
    "    app_info_dict = app_info.set_index('appId').T.to_dict('list')\n",
    "\n",
    "    now_df = pd.merge(now_df, user_app_actived, how='left', on='uid')\n",
    "    \n",
    "    try:\n",
    "        with tqdm(range(0, len(now_df))) as t:\n",
    "            for index in t:\n",
    "                appIdList = now_df.at[index, 'appId_y'].split('#')\n",
    "                for appId in appIdList:\n",
    "                    if appId in app_info_dict.keys():\n",
    "                        now_df.at[index, str(app_info_dict[appId][0])] += 1\n",
    "    except KeyboardInterrupt:\n",
    "        t.close()\n",
    "        raise\n",
    "    t.close()     \n",
    "\n",
    "    now_df = now_df.drop(['appId_y'], axis=1)\n",
    "   \n",
    "    return now_df"
   ]
  },
  {
   "cell_type": "code",
   "execution_count": null,
   "metadata": {
    "scrolled": true
   },
   "outputs": [],
   "source": [
    "#合并用户基本特征以及app使用相关特征，作为训练集和测试集\n",
    "df_train = mergeAppDataUpgrade(mergeBasicTables(age_train))\n",
    "df_test = mergeAppDataUpgrade(mergeBasicTables(age_test))\n",
    "print(df_train.shape)\n",
    "print(df_test.shape)"
   ]
  },
  {
   "cell_type": "code",
   "execution_count": 67,
   "metadata": {},
   "outputs": [],
   "source": [
    "df_train.to_csv(\"add_40_actived_classes_features.csv\",index=0)"
   ]
  },
  {
   "cell_type": "code",
   "execution_count": 7,
   "metadata": {},
   "outputs": [
    {
     "data": {
      "text/html": [
       "<div>\n",
       "<style scoped>\n",
       "    .dataframe tbody tr th:only-of-type {\n",
       "        vertical-align: middle;\n",
       "    }\n",
       "\n",
       "    .dataframe tbody tr th {\n",
       "        vertical-align: top;\n",
       "    }\n",
       "\n",
       "    .dataframe thead th {\n",
       "        text-align: right;\n",
       "    }\n",
       "</style>\n",
       "<table border=\"1\" class=\"dataframe\">\n",
       "  <thead>\n",
       "    <tr style=\"text-align: right;\">\n",
       "      <th></th>\n",
       "      <th>uid</th>\n",
       "      <th>age_group</th>\n",
       "      <th>gender</th>\n",
       "      <th>city</th>\n",
       "      <th>prodName</th>\n",
       "      <th>ramCapacity</th>\n",
       "      <th>ramLeftRation</th>\n",
       "      <th>romCapacity</th>\n",
       "      <th>romLeftRation</th>\n",
       "      <th>color</th>\n",
       "      <th>fontSize</th>\n",
       "      <th>ct</th>\n",
       "      <th>carrier</th>\n",
       "      <th>os</th>\n",
       "      <th>bootTimes</th>\n",
       "      <th>AFuncTimes</th>\n",
       "      <th>BFuncTimes</th>\n",
       "      <th>CFuncTimes</th>\n",
       "      <th>DFuncTimes</th>\n",
       "      <th>EFuncTimes</th>\n",
       "      <th>FFuncTimes</th>\n",
       "      <th>FFuncSum</th>\n",
       "      <th>appId_x</th>\n",
       "      <th>usage_cnt</th>\n",
       "      <th>usage_appid_cnt</th>\n",
       "      <th>usage_date_cnt</th>\n",
       "      <th>duration_mean</th>\n",
       "      <th>duration_max</th>\n",
       "      <th>duration_std</th>\n",
       "      <th>times_mean</th>\n",
       "      <th>times_max</th>\n",
       "      <th>times_std</th>\n",
       "      <th>category</th>\n",
       "      <th>usage_most_used_category</th>\n",
       "      <th>0</th>\n",
       "      <th>1</th>\n",
       "      <th>2</th>\n",
       "      <th>3</th>\n",
       "      <th>4</th>\n",
       "      <th>5</th>\n",
       "      <th>6</th>\n",
       "      <th>7</th>\n",
       "      <th>8</th>\n",
       "      <th>9</th>\n",
       "      <th>10</th>\n",
       "      <th>11</th>\n",
       "      <th>12</th>\n",
       "      <th>13</th>\n",
       "      <th>14</th>\n",
       "      <th>15</th>\n",
       "      <th>16</th>\n",
       "      <th>17</th>\n",
       "      <th>18</th>\n",
       "      <th>19</th>\n",
       "      <th>20</th>\n",
       "      <th>21</th>\n",
       "      <th>22</th>\n",
       "      <th>23</th>\n",
       "      <th>24</th>\n",
       "      <th>25</th>\n",
       "      <th>26</th>\n",
       "      <th>27</th>\n",
       "      <th>28</th>\n",
       "      <th>29</th>\n",
       "      <th>30</th>\n",
       "      <th>31</th>\n",
       "      <th>32</th>\n",
       "      <th>33</th>\n",
       "      <th>34</th>\n",
       "      <th>35</th>\n",
       "      <th>36</th>\n",
       "      <th>37</th>\n",
       "      <th>38</th>\n",
       "      <th>39</th>\n",
       "    </tr>\n",
       "  </thead>\n",
       "  <tbody>\n",
       "    <tr>\n",
       "      <th>0</th>\n",
       "      <td>1000001</td>\n",
       "      <td>4</td>\n",
       "      <td>0</td>\n",
       "      <td>51</td>\n",
       "      <td>78</td>\n",
       "      <td>3.0</td>\n",
       "      <td>0.43</td>\n",
       "      <td>32.0</td>\n",
       "      <td>0.46</td>\n",
       "      <td>80</td>\n",
       "      <td>1.15</td>\n",
       "      <td>5</td>\n",
       "      <td>1</td>\n",
       "      <td>14</td>\n",
       "      <td>108</td>\n",
       "      <td>0.0</td>\n",
       "      <td>0.0</td>\n",
       "      <td>1.00</td>\n",
       "      <td>0.07</td>\n",
       "      <td>0.0</td>\n",
       "      <td>0.0</td>\n",
       "      <td>3319</td>\n",
       "      <td>21</td>\n",
       "      <td>251.0</td>\n",
       "      <td>24.0</td>\n",
       "      <td>30.0</td>\n",
       "      <td>806.215139</td>\n",
       "      <td>12646.0</td>\n",
       "      <td>1651.473740</td>\n",
       "      <td>49.330677</td>\n",
       "      <td>396.0</td>\n",
       "      <td>72.519668</td>\n",
       "      <td>11.0</td>\n",
       "      <td>17.0</td>\n",
       "      <td>0</td>\n",
       "      <td>0</td>\n",
       "      <td>0</td>\n",
       "      <td>0</td>\n",
       "      <td>0</td>\n",
       "      <td>0</td>\n",
       "      <td>0</td>\n",
       "      <td>1</td>\n",
       "      <td>0</td>\n",
       "      <td>1</td>\n",
       "      <td>0</td>\n",
       "      <td>0</td>\n",
       "      <td>0</td>\n",
       "      <td>0</td>\n",
       "      <td>0</td>\n",
       "      <td>0</td>\n",
       "      <td>0</td>\n",
       "      <td>9</td>\n",
       "      <td>2</td>\n",
       "      <td>1</td>\n",
       "      <td>0</td>\n",
       "      <td>0</td>\n",
       "      <td>0</td>\n",
       "      <td>0</td>\n",
       "      <td>0</td>\n",
       "      <td>0</td>\n",
       "      <td>3</td>\n",
       "      <td>0</td>\n",
       "      <td>0</td>\n",
       "      <td>2</td>\n",
       "      <td>0</td>\n",
       "      <td>0</td>\n",
       "      <td>0</td>\n",
       "      <td>0</td>\n",
       "      <td>0</td>\n",
       "      <td>0</td>\n",
       "      <td>0</td>\n",
       "      <td>0</td>\n",
       "      <td>0</td>\n",
       "      <td>1</td>\n",
       "    </tr>\n",
       "    <tr>\n",
       "      <th>1</th>\n",
       "      <td>1000011</td>\n",
       "      <td>3</td>\n",
       "      <td>0</td>\n",
       "      <td>30</td>\n",
       "      <td>138</td>\n",
       "      <td>0.0</td>\n",
       "      <td>0.00</td>\n",
       "      <td>0.0</td>\n",
       "      <td>0.00</td>\n",
       "      <td>16</td>\n",
       "      <td>0.00</td>\n",
       "      <td>6</td>\n",
       "      <td>1</td>\n",
       "      <td>15</td>\n",
       "      <td>0</td>\n",
       "      <td>0.0</td>\n",
       "      <td>0.0</td>\n",
       "      <td>0.00</td>\n",
       "      <td>0.00</td>\n",
       "      <td>0.0</td>\n",
       "      <td>0.0</td>\n",
       "      <td>220</td>\n",
       "      <td>16</td>\n",
       "      <td>0.0</td>\n",
       "      <td>0.0</td>\n",
       "      <td>0.0</td>\n",
       "      <td>0.000000</td>\n",
       "      <td>0.0</td>\n",
       "      <td>0.000000</td>\n",
       "      <td>0.000000</td>\n",
       "      <td>0.0</td>\n",
       "      <td>0.000000</td>\n",
       "      <td>41.0</td>\n",
       "      <td>41.0</td>\n",
       "      <td>0</td>\n",
       "      <td>0</td>\n",
       "      <td>0</td>\n",
       "      <td>0</td>\n",
       "      <td>0</td>\n",
       "      <td>0</td>\n",
       "      <td>0</td>\n",
       "      <td>0</td>\n",
       "      <td>0</td>\n",
       "      <td>0</td>\n",
       "      <td>0</td>\n",
       "      <td>1</td>\n",
       "      <td>0</td>\n",
       "      <td>0</td>\n",
       "      <td>0</td>\n",
       "      <td>0</td>\n",
       "      <td>0</td>\n",
       "      <td>2</td>\n",
       "      <td>3</td>\n",
       "      <td>0</td>\n",
       "      <td>0</td>\n",
       "      <td>2</td>\n",
       "      <td>0</td>\n",
       "      <td>0</td>\n",
       "      <td>0</td>\n",
       "      <td>0</td>\n",
       "      <td>0</td>\n",
       "      <td>0</td>\n",
       "      <td>0</td>\n",
       "      <td>3</td>\n",
       "      <td>0</td>\n",
       "      <td>1</td>\n",
       "      <td>0</td>\n",
       "      <td>0</td>\n",
       "      <td>0</td>\n",
       "      <td>1</td>\n",
       "      <td>0</td>\n",
       "      <td>3</td>\n",
       "      <td>0</td>\n",
       "      <td>0</td>\n",
       "    </tr>\n",
       "    <tr>\n",
       "      <th>2</th>\n",
       "      <td>1000015</td>\n",
       "      <td>5</td>\n",
       "      <td>1</td>\n",
       "      <td>228</td>\n",
       "      <td>78</td>\n",
       "      <td>3.0</td>\n",
       "      <td>0.34</td>\n",
       "      <td>32.0</td>\n",
       "      <td>0.06</td>\n",
       "      <td>80</td>\n",
       "      <td>1.30</td>\n",
       "      <td>8</td>\n",
       "      <td>2</td>\n",
       "      <td>14</td>\n",
       "      <td>12</td>\n",
       "      <td>0.0</td>\n",
       "      <td>0.0</td>\n",
       "      <td>0.03</td>\n",
       "      <td>0.13</td>\n",
       "      <td>0.0</td>\n",
       "      <td>0.0</td>\n",
       "      <td>21881</td>\n",
       "      <td>19</td>\n",
       "      <td>87.0</td>\n",
       "      <td>10.0</td>\n",
       "      <td>19.0</td>\n",
       "      <td>2860.620690</td>\n",
       "      <td>14839.0</td>\n",
       "      <td>3242.297894</td>\n",
       "      <td>146.333333</td>\n",
       "      <td>991.0</td>\n",
       "      <td>231.758328</td>\n",
       "      <td>10.0</td>\n",
       "      <td>17.0</td>\n",
       "      <td>0</td>\n",
       "      <td>0</td>\n",
       "      <td>0</td>\n",
       "      <td>0</td>\n",
       "      <td>0</td>\n",
       "      <td>0</td>\n",
       "      <td>0</td>\n",
       "      <td>0</td>\n",
       "      <td>0</td>\n",
       "      <td>0</td>\n",
       "      <td>0</td>\n",
       "      <td>0</td>\n",
       "      <td>0</td>\n",
       "      <td>0</td>\n",
       "      <td>0</td>\n",
       "      <td>0</td>\n",
       "      <td>0</td>\n",
       "      <td>5</td>\n",
       "      <td>1</td>\n",
       "      <td>1</td>\n",
       "      <td>3</td>\n",
       "      <td>1</td>\n",
       "      <td>0</td>\n",
       "      <td>0</td>\n",
       "      <td>0</td>\n",
       "      <td>0</td>\n",
       "      <td>0</td>\n",
       "      <td>0</td>\n",
       "      <td>0</td>\n",
       "      <td>2</td>\n",
       "      <td>0</td>\n",
       "      <td>0</td>\n",
       "      <td>0</td>\n",
       "      <td>0</td>\n",
       "      <td>0</td>\n",
       "      <td>0</td>\n",
       "      <td>0</td>\n",
       "      <td>3</td>\n",
       "      <td>0</td>\n",
       "      <td>2</td>\n",
       "    </tr>\n",
       "    <tr>\n",
       "      <th>3</th>\n",
       "      <td>1000019</td>\n",
       "      <td>3</td>\n",
       "      <td>0</td>\n",
       "      <td>57</td>\n",
       "      <td>166</td>\n",
       "      <td>2.0</td>\n",
       "      <td>0.00</td>\n",
       "      <td>17.0</td>\n",
       "      <td>0.00</td>\n",
       "      <td>100</td>\n",
       "      <td>0.00</td>\n",
       "      <td>7</td>\n",
       "      <td>3</td>\n",
       "      <td>15</td>\n",
       "      <td>0</td>\n",
       "      <td>0.0</td>\n",
       "      <td>0.0</td>\n",
       "      <td>0.00</td>\n",
       "      <td>0.00</td>\n",
       "      <td>0.0</td>\n",
       "      <td>0.0</td>\n",
       "      <td>0</td>\n",
       "      <td>2</td>\n",
       "      <td>0.0</td>\n",
       "      <td>0.0</td>\n",
       "      <td>0.0</td>\n",
       "      <td>0.000000</td>\n",
       "      <td>0.0</td>\n",
       "      <td>0.000000</td>\n",
       "      <td>0.000000</td>\n",
       "      <td>0.0</td>\n",
       "      <td>0.000000</td>\n",
       "      <td>41.0</td>\n",
       "      <td>41.0</td>\n",
       "      <td>0</td>\n",
       "      <td>0</td>\n",
       "      <td>0</td>\n",
       "      <td>0</td>\n",
       "      <td>0</td>\n",
       "      <td>0</td>\n",
       "      <td>0</td>\n",
       "      <td>0</td>\n",
       "      <td>0</td>\n",
       "      <td>0</td>\n",
       "      <td>0</td>\n",
       "      <td>0</td>\n",
       "      <td>0</td>\n",
       "      <td>0</td>\n",
       "      <td>0</td>\n",
       "      <td>0</td>\n",
       "      <td>0</td>\n",
       "      <td>1</td>\n",
       "      <td>0</td>\n",
       "      <td>1</td>\n",
       "      <td>0</td>\n",
       "      <td>0</td>\n",
       "      <td>0</td>\n",
       "      <td>0</td>\n",
       "      <td>0</td>\n",
       "      <td>0</td>\n",
       "      <td>0</td>\n",
       "      <td>0</td>\n",
       "      <td>0</td>\n",
       "      <td>0</td>\n",
       "      <td>0</td>\n",
       "      <td>0</td>\n",
       "      <td>0</td>\n",
       "      <td>0</td>\n",
       "      <td>0</td>\n",
       "      <td>0</td>\n",
       "      <td>0</td>\n",
       "      <td>0</td>\n",
       "      <td>0</td>\n",
       "      <td>0</td>\n",
       "    </tr>\n",
       "    <tr>\n",
       "      <th>4</th>\n",
       "      <td>1000023</td>\n",
       "      <td>2</td>\n",
       "      <td>1</td>\n",
       "      <td>293</td>\n",
       "      <td>164</td>\n",
       "      <td>2.0</td>\n",
       "      <td>0.34</td>\n",
       "      <td>16.0</td>\n",
       "      <td>0.06</td>\n",
       "      <td>119</td>\n",
       "      <td>1.00</td>\n",
       "      <td>8</td>\n",
       "      <td>2</td>\n",
       "      <td>12</td>\n",
       "      <td>5</td>\n",
       "      <td>0.0</td>\n",
       "      <td>0.0</td>\n",
       "      <td>0.00</td>\n",
       "      <td>0.13</td>\n",
       "      <td>0.0</td>\n",
       "      <td>0.0</td>\n",
       "      <td>0</td>\n",
       "      <td>13</td>\n",
       "      <td>112.0</td>\n",
       "      <td>8.0</td>\n",
       "      <td>29.0</td>\n",
       "      <td>2667.589286</td>\n",
       "      <td>70806.0</td>\n",
       "      <td>9595.549063</td>\n",
       "      <td>10.955357</td>\n",
       "      <td>87.0</td>\n",
       "      <td>15.857694</td>\n",
       "      <td>7.0</td>\n",
       "      <td>17.0</td>\n",
       "      <td>0</td>\n",
       "      <td>0</td>\n",
       "      <td>0</td>\n",
       "      <td>0</td>\n",
       "      <td>0</td>\n",
       "      <td>0</td>\n",
       "      <td>0</td>\n",
       "      <td>0</td>\n",
       "      <td>0</td>\n",
       "      <td>0</td>\n",
       "      <td>0</td>\n",
       "      <td>0</td>\n",
       "      <td>0</td>\n",
       "      <td>0</td>\n",
       "      <td>0</td>\n",
       "      <td>0</td>\n",
       "      <td>0</td>\n",
       "      <td>6</td>\n",
       "      <td>2</td>\n",
       "      <td>1</td>\n",
       "      <td>0</td>\n",
       "      <td>0</td>\n",
       "      <td>0</td>\n",
       "      <td>0</td>\n",
       "      <td>0</td>\n",
       "      <td>0</td>\n",
       "      <td>0</td>\n",
       "      <td>0</td>\n",
       "      <td>0</td>\n",
       "      <td>3</td>\n",
       "      <td>0</td>\n",
       "      <td>0</td>\n",
       "      <td>0</td>\n",
       "      <td>0</td>\n",
       "      <td>0</td>\n",
       "      <td>0</td>\n",
       "      <td>0</td>\n",
       "      <td>1</td>\n",
       "      <td>0</td>\n",
       "      <td>0</td>\n",
       "    </tr>\n",
       "  </tbody>\n",
       "</table>\n",
       "</div>"
      ],
      "text/plain": [
       "       uid  age_group  gender  city  prodName  ramCapacity  ramLeftRation  \\\n",
       "0  1000001          4       0    51        78          3.0           0.43   \n",
       "1  1000011          3       0    30       138          0.0           0.00   \n",
       "2  1000015          5       1   228        78          3.0           0.34   \n",
       "3  1000019          3       0    57       166          2.0           0.00   \n",
       "4  1000023          2       1   293       164          2.0           0.34   \n",
       "\n",
       "   romCapacity  romLeftRation  color  fontSize  ct  carrier  os  bootTimes  \\\n",
       "0         32.0           0.46     80      1.15   5        1  14        108   \n",
       "1          0.0           0.00     16      0.00   6        1  15          0   \n",
       "2         32.0           0.06     80      1.30   8        2  14         12   \n",
       "3         17.0           0.00    100      0.00   7        3  15          0   \n",
       "4         16.0           0.06    119      1.00   8        2  12          5   \n",
       "\n",
       "   AFuncTimes  BFuncTimes  CFuncTimes  DFuncTimes  EFuncTimes  FFuncTimes  \\\n",
       "0         0.0         0.0        1.00        0.07         0.0         0.0   \n",
       "1         0.0         0.0        0.00        0.00         0.0         0.0   \n",
       "2         0.0         0.0        0.03        0.13         0.0         0.0   \n",
       "3         0.0         0.0        0.00        0.00         0.0         0.0   \n",
       "4         0.0         0.0        0.00        0.13         0.0         0.0   \n",
       "\n",
       "   FFuncSum  appId_x  usage_cnt  usage_appid_cnt  usage_date_cnt  \\\n",
       "0      3319       21      251.0             24.0            30.0   \n",
       "1       220       16        0.0              0.0             0.0   \n",
       "2     21881       19       87.0             10.0            19.0   \n",
       "3         0        2        0.0              0.0             0.0   \n",
       "4         0       13      112.0              8.0            29.0   \n",
       "\n",
       "   duration_mean  duration_max  duration_std  times_mean  times_max  \\\n",
       "0     806.215139       12646.0   1651.473740   49.330677      396.0   \n",
       "1       0.000000           0.0      0.000000    0.000000        0.0   \n",
       "2    2860.620690       14839.0   3242.297894  146.333333      991.0   \n",
       "3       0.000000           0.0      0.000000    0.000000        0.0   \n",
       "4    2667.589286       70806.0   9595.549063   10.955357       87.0   \n",
       "\n",
       "    times_std  category  usage_most_used_category  0  1  2  3  4  5  6  7  8  \\\n",
       "0   72.519668      11.0                      17.0  0  0  0  0  0  0  0  1  0   \n",
       "1    0.000000      41.0                      41.0  0  0  0  0  0  0  0  0  0   \n",
       "2  231.758328      10.0                      17.0  0  0  0  0  0  0  0  0  0   \n",
       "3    0.000000      41.0                      41.0  0  0  0  0  0  0  0  0  0   \n",
       "4   15.857694       7.0                      17.0  0  0  0  0  0  0  0  0  0   \n",
       "\n",
       "   9  10  11  12  13  14  15  16  17  18  19  20  21  22  23  24  25  26  27  \\\n",
       "0  1   0   0   0   0   0   0   0   9   2   1   0   0   0   0   0   0   3   0   \n",
       "1  0   0   1   0   0   0   0   0   2   3   0   0   2   0   0   0   0   0   0   \n",
       "2  0   0   0   0   0   0   0   0   5   1   1   3   1   0   0   0   0   0   0   \n",
       "3  0   0   0   0   0   0   0   0   1   0   1   0   0   0   0   0   0   0   0   \n",
       "4  0   0   0   0   0   0   0   0   6   2   1   0   0   0   0   0   0   0   0   \n",
       "\n",
       "   28  29  30  31  32  33  34  35  36  37  38  39  \n",
       "0   0   2   0   0   0   0   0   0   0   0   0   1  \n",
       "1   0   3   0   1   0   0   0   1   0   3   0   0  \n",
       "2   0   2   0   0   0   0   0   0   0   3   0   2  \n",
       "3   0   0   0   0   0   0   0   0   0   0   0   0  \n",
       "4   0   3   0   0   0   0   0   0   0   1   0   0  "
      ]
     },
     "execution_count": 7,
     "metadata": {},
     "output_type": "execute_result"
    }
   ],
   "source": [
    "# 第二次特征工程——使用user_app_usage，计算每类app的使用时长\n",
    "\n",
    "df_train = pd.read_csv(\"add_40_actived_classes_features.csv\")\n",
    "#df_test = mergeAppDataUpgrade(mergeBasicTables(age_test))\n",
    "df_train.head()\n"
   ]
  },
  {
   "cell_type": "code",
   "execution_count": 14,
   "metadata": {},
   "outputs": [
    {
     "name": "stdout",
     "output_type": "stream",
     "text": [
      "       uid  age_group  gender  city  prodName  ramCapacity  ramLeftRation  \\\n",
      "0  1000001          4       0    51        78          3.0           0.43   \n",
      "1  1000011          3       0    30       138          0.0           0.00   \n",
      "2  1000015          5       1   228        78          3.0           0.34   \n",
      "3  1000019          3       0    57       166          2.0           0.00   \n",
      "4  1000023          2       1   293       164          2.0           0.34   \n",
      "\n",
      "   romCapacity  romLeftRation  color  fontSize  ct  carrier  os  bootTimes  \\\n",
      "0         32.0           0.46     80      1.15   5        1  14        108   \n",
      "1          0.0           0.00     16      0.00   6        1  15          0   \n",
      "2         32.0           0.06     80      1.30   8        2  14         12   \n",
      "3         17.0           0.00    100      0.00   7        3  15          0   \n",
      "4         16.0           0.06    119      1.00   8        2  12          5   \n",
      "\n",
      "   AFuncTimes  BFuncTimes  CFuncTimes  DFuncTimes  EFuncTimes  FFuncTimes  \\\n",
      "0         0.0         0.0        1.00        0.07         0.0         0.0   \n",
      "1         0.0         0.0        0.00        0.00         0.0         0.0   \n",
      "2         0.0         0.0        0.03        0.13         0.0         0.0   \n",
      "3         0.0         0.0        0.00        0.00         0.0         0.0   \n",
      "4         0.0         0.0        0.00        0.13         0.0         0.0   \n",
      "\n",
      "   FFuncSum  appId_x  usage_cnt  usage_appid_cnt  usage_date_cnt  \\\n",
      "0      3319       21      251.0             24.0            30.0   \n",
      "1       220       16        0.0              0.0             0.0   \n",
      "2     21881       19       87.0             10.0            19.0   \n",
      "3         0        2        0.0              0.0             0.0   \n",
      "4         0       13      112.0              8.0            29.0   \n",
      "\n",
      "   duration_mean  duration_max  duration_std  times_mean  times_max  \\\n",
      "0     806.215139       12646.0   1651.473740   49.330677      396.0   \n",
      "1       0.000000           0.0      0.000000    0.000000        0.0   \n",
      "2    2860.620690       14839.0   3242.297894  146.333333      991.0   \n",
      "3       0.000000           0.0      0.000000    0.000000        0.0   \n",
      "4    2667.589286       70806.0   9595.549063   10.955357       87.0   \n",
      "\n",
      "    times_std  category  usage_most_used_category  0  1  2  3  4  5  6  7  8  \\\n",
      "0   72.519668      11.0                      17.0  0  0  0  0  0  0  0  1  0   \n",
      "1    0.000000      41.0                      41.0  0  0  0  0  0  0  0  0  0   \n",
      "2  231.758328      10.0                      17.0  0  0  0  0  0  0  0  0  0   \n",
      "3    0.000000      41.0                      41.0  0  0  0  0  0  0  0  0  0   \n",
      "4   15.857694       7.0                      17.0  0  0  0  0  0  0  0  0  0   \n",
      "\n",
      "   9  10  11  12  13  14  15  16  17  18  19  20  21  22  23  24  25  26  27  \\\n",
      "0  1   0   0   0   0   0   0   0   9   2   1   0   0   0   0   0   0   3   0   \n",
      "1  0   0   1   0   0   0   0   0   2   3   0   0   2   0   0   0   0   0   0   \n",
      "2  0   0   0   0   0   0   0   0   5   1   1   3   1   0   0   0   0   0   0   \n",
      "3  0   0   0   0   0   0   0   0   1   0   1   0   0   0   0   0   0   0   0   \n",
      "4  0   0   0   0   0   0   0   0   6   2   1   0   0   0   0   0   0   0   0   \n",
      "\n",
      "   28  29  30  31  32  33  34  35  36  37  38  39  \n",
      "0   0   2   0   0   0   0   0   0   0   0   0   1  \n",
      "1   0   3   0   1   0   0   0   1   0   3   0   0  \n",
      "2   0   2   0   0   0   0   0   0   0   3   0   2  \n",
      "3   0   0   0   0   0   0   0   0   0   0   0   0  \n",
      "4   0   3   0   0   0   0   0   0   0   1   0   0  \n",
      "       uid  gender  city  prodName  ramCapacity  ramLeftRation  romCapacity  \\\n",
      "0  1000002       1   298       113          0.0           0.26          0.0   \n",
      "1  1000003       0   222         6          8.0           0.35        128.0   \n",
      "2  1000004       1   198        31          3.0           0.36         32.0   \n",
      "3  1000005       0   107         1          6.0           0.00         68.0   \n",
      "4  1000006       0   284       146          2.0           0.19         16.0   \n",
      "\n",
      "   romLeftRation  color  fontSize  ct  carrier  os  bootTimes  AFuncTimes  \\\n",
      "0           0.59     56       1.0   8        1  13         14         0.0   \n",
      "1           0.60     85       1.0   6        1  13         13         1.0   \n",
      "2           0.09     20       1.0   6        1  11         57         0.0   \n",
      "3           0.00     15       0.0   6        1  13          0         0.0   \n",
      "4           0.42     57       0.0   7        1   8         33         0.0   \n",
      "\n",
      "   BFuncTimes  CFuncTimes  DFuncTimes  EFuncTimes  FFuncTimes  FFuncSum  \\\n",
      "0        0.17        4.93        1.23         3.9         1.0       245   \n",
      "1        0.00        7.73        3.00         1.7         0.0      5987   \n",
      "2        0.03        1.37        0.63         0.0         0.0      7460   \n",
      "3        0.00        0.00        0.00         0.0         0.0         0   \n",
      "4        0.00        0.00        0.00         0.0         0.0         0   \n",
      "\n",
      "   appId_x  usage_cnt  usage_appid_cnt  usage_date_cnt  duration_mean  \\\n",
      "0       69      556.0             55.0            30.0    1259.872302   \n",
      "1       80      794.0             68.0            30.0     715.931990   \n",
      "2       26      475.0             27.0            30.0    1080.627368   \n",
      "3       34        0.0              0.0             0.0       0.000000   \n",
      "4       10        0.0              0.0             0.0       0.000000   \n",
      "\n",
      "   duration_max  duration_std  times_mean  times_max   times_std  category  \\\n",
      "0       17160.0   2376.881227   32.674460      498.0   57.986704      19.0   \n",
      "1        8178.0   1216.493068   26.872796      353.0   44.789154      15.0   \n",
      "2       16888.0   2125.300262   80.381053     1032.0  181.679321      10.0   \n",
      "3           0.0      0.000000    0.000000        0.0    0.000000      41.0   \n",
      "4           0.0      0.000000    0.000000        0.0    0.000000      41.0   \n",
      "\n",
      "   usage_most_used_category  0  1  2  3  4  5  6  7  8  9  10  11  12  13  14  \\\n",
      "0                      39.0  0  0  0  0  3  0  2  3  0  4   0   1   0   0   0   \n",
      "1                      17.0  0  0  0  0  0  0  0  1  0  4   0   0   0   0   0   \n",
      "2                      17.0  0  0  0  0  0  0  0  2  0  2   0   0   0   0   0   \n",
      "3                      41.0  0  0  0  0  0  0  0  0  0  1   0   0   0   0   6   \n",
      "4                      41.0  0  0  0  0  0  0  0  0  0  1   0   0   0   0   0   \n",
      "\n",
      "   15  16  17  18  19  20  21  22  23  24  25  26  27  28  29  30  31  32  33  \\\n",
      "0   0   0  10   6   1   6   4   3   0   0   0   2   0   0   6   0   2   0   3   \n",
      "1   0   0  17  13   2   1  10   3   0   0   0   0   0   0   8   0   0   0   1   \n",
      "2   0   0   6   2   0   1   1   0   0   0   0   0   0   0   5   0   0   0   0   \n",
      "3   0   0   3   6   2   0   2   0   0   0   0   0   0   0   5   0   0   0   1   \n",
      "4   0   0   4   1   0   2   0   0   0   0   0   0   0   0   2   0   0   0   0   \n",
      "\n",
      "   34  35  36  37  38  39  \n",
      "0   0   0   0   6   0   6  \n",
      "1   0   0   0   9   3   5  \n",
      "2   0   0   0   7   0   0  \n",
      "3   0   0   0   6   0   2  \n",
      "4   0   0   0   0   0   0  \n"
     ]
    }
   ],
   "source": [
    "print(df_train.head())\n",
    "print(df_test.head())"
   ]
  },
  {
   "cell_type": "code",
   "execution_count": 8,
   "metadata": {},
   "outputs": [],
   "source": [
    "\n",
    "#df_train = pd.read_csv(\"add_40_actived_classes_features.csv\")\n"
   ]
  },
  {
   "attachments": {},
   "cell_type": "markdown",
   "metadata": {},
   "source": [
    "## 第二次特征工程——迭代处理数据量较大的user_app_usage.csv，结合app_info.csv统计得到用户每一类APP的使用时长（duration）"
   ]
  },
  {
   "cell_type": "code",
   "execution_count": 8,
   "metadata": {},
   "outputs": [],
   "source": [
    "def processUserAppUsageUpgrade(table, name):\n",
    "    #if name == 'trainSet':\n",
    "    #    resTable = pd.read_csv(\"add_40_actived_classes_features.csv\")\n",
    "    #else :\n",
    "    #    resTable = table\n",
    "    reader = pd.read_csv(\"user_app_usage.csv\", names=['uid','appId','duration','times','use_date'], iterator=True)\n",
    "    last_df = pd.DataFrame()\n",
    "    i = 1\n",
    "    while True:\n",
    "        try:\n",
    "            \n",
    "            \n",
    "            print(\"index: {}\".format(i))\n",
    "            i+=1\n",
    "            df = reader.get_chunk(1000000)\n",
    "            # 最后的user去掉\n",
    "            df = pd.concat([last_df, df])\n",
    "            idx = df.shape[0]-1\n",
    "            last_user = df.iat[idx,0]\n",
    "            while(df.iat[idx,0]==last_user):\n",
    "                idx-=1\n",
    "            last_df = df[idx+1:]\n",
    "            df = df[:idx+1]\n",
    "            \n",
    "            # 添加列，计算每类app的使用时长\n",
    "            for ii in range(40):\n",
    "                df['duration' + str(ii)] = 0\n",
    "            \n",
    "            \n",
    "            # 注意给的数据中，用户激活的app中有一些是不在app_info 中的，可以先忽略或者单独归为一类\n",
    "            app_info = pd.read_csv(\"app_info.csv\", names=['appId','category'])\n",
    "            # 统计出共有多少种类别的app\n",
    "            cats = list(set(app_info['category']))\n",
    "            category2id = dict(zip(sorted(cats), range(0,len(cats))))\n",
    "            id2category = dict(zip(range(0,len(cats)), sorted(cats)))\n",
    "            app_info['category'] = app_info['category'].apply(lambda x: category2id[x])\n",
    "\n",
    "            # app_info转dict\n",
    "            app_info_dict = app_info.set_index('appId').T.to_dict('list')\n",
    "            \n",
    "            df_dict = df.to_dict(orient= 'dict')\n",
    "            \n",
    "            pbar = tqdm(total=len(df_dict['uid']))  \n",
    "            first_user = 'abc'\n",
    "            first_user_idx = 0\n",
    "            \n",
    "            for index in df_dict['uid']:\n",
    "                pbar.update(1)\n",
    "                \n",
    "                appId = df_dict['appId'][index]\n",
    "                curUID = df_dict['uid'][index]\n",
    "                curDuration = df_dict['duration'][index]\n",
    "                if curUID != first_user :\n",
    "                    first_user = curUID\n",
    "                    first_user_idx = index\n",
    "                    \n",
    "                \n",
    "                if appId in app_info_dict.keys():\n",
    "                    df_dict[\"duration\" + str(app_info_dict[appId][0])][first_user_idx] += curDuration\n",
    "                        #if index < 10:\n",
    "                         #   print(df.head())\n",
    "                          #  print(df.shape)\n",
    "                           # print(\"first_user_idx:\" + str(first_user_idx))\n",
    "            pbar.close()\n",
    "            \n",
    "            #字典完再转回dataframe\n",
    "            df = pd.DataFrame.from_dict(df_dict)\n",
    "            #去除uid的重复项\n",
    "            df = df.drop_duplicates(['uid'])\n",
    "            df = df.drop(['appId', 'duration', 'times', 'use_date'], axis = 1)\n",
    "            \n",
    "            if i==2 :\n",
    "                df.to_csv('process_user_app_usage.csv', mode='a', header=True)\n",
    "                #resTable = resTable.fillna(0)\n",
    "                #print(resTable.head())\n",
    "                #for index, row in df.iterrows():\n",
    "                #    if(row['uid'] == 1000364):\n",
    "                #        print(row)\n",
    "                #        break\n",
    "            #break\n",
    "            else:\n",
    "                df.to_csv('process_user_app_usage.csv', mode='a', header=False)\n",
    "\n",
    "            #print(df.head())\n",
    "            \n",
    "            # resTable = resTable.merge(df, how='left', on='uid')\n",
    "            del df\n",
    "            del df_dict\n",
    "            gc.collect()\n",
    "        except StopIteration:\n",
    "            break\n",
    "        \n",
    "        \n",
    "    #resTable.to_csv(\"2nd_featureEngineering_\"+ name + \".csv\",index=0)\n",
    "    \n",
    "    print(\"Iterator is stopped\")\n",
    "    #return resTable"
   ]
  },
  {
   "cell_type": "code",
   "execution_count": 9,
   "metadata": {
    "scrolled": true
   },
   "outputs": [
    {
     "name": "stdout",
     "output_type": "stream",
     "text": [
      "index: 1\n"
     ]
    },
    {
     "name": "stderr",
     "output_type": "stream",
     "text": [
      "100%|██████████████████████████████████████████████████████████████████████| 999900/999900 [00:01<00:00, 905662.05it/s]\n"
     ]
    },
    {
     "name": "stdout",
     "output_type": "stream",
     "text": [
      "index: 2\n"
     ]
    },
    {
     "name": "stderr",
     "output_type": "stream",
     "text": [
      "100%|██████████████████████████████████████████████████████████████████████| 999691/999691 [00:01<00:00, 914560.81it/s]\n"
     ]
    },
    {
     "name": "stdout",
     "output_type": "stream",
     "text": [
      "index: 3\n"
     ]
    },
    {
     "name": "stderr",
     "output_type": "stream",
     "text": [
      "100%|████████████████████████████████████████████████████████████████████| 1000195/1000195 [00:01<00:00, 920885.78it/s]\n"
     ]
    },
    {
     "name": "stdout",
     "output_type": "stream",
     "text": [
      "index: 4\n"
     ]
    },
    {
     "name": "stderr",
     "output_type": "stream",
     "text": [
      "100%|████████████████████████████████████████████████████████████████████| 1000137/1000137 [00:01<00:00, 810025.42it/s]\n"
     ]
    },
    {
     "name": "stdout",
     "output_type": "stream",
     "text": [
      "index: 5\n"
     ]
    },
    {
     "name": "stderr",
     "output_type": "stream",
     "text": [
      "100%|██████████████████████████████████████████████████████████████████████| 999923/999923 [00:01<00:00, 922286.57it/s]\n"
     ]
    },
    {
     "name": "stdout",
     "output_type": "stream",
     "text": [
      "index: 6\n"
     ]
    },
    {
     "name": "stderr",
     "output_type": "stream",
     "text": [
      "100%|██████████████████████████████████████████████████████████████████████| 999626/999626 [00:01<00:00, 919914.82it/s]\n"
     ]
    },
    {
     "name": "stdout",
     "output_type": "stream",
     "text": [
      "index: 7\n"
     ]
    },
    {
     "name": "stderr",
     "output_type": "stream",
     "text": [
      "100%|████████████████████████████████████████████████████████████████████| 1000103/1000103 [00:01<00:00, 918886.06it/s]\n"
     ]
    },
    {
     "name": "stdout",
     "output_type": "stream",
     "text": [
      "index: 8\n"
     ]
    },
    {
     "name": "stderr",
     "output_type": "stream",
     "text": [
      "100%|██████████████████████████████████████████████████████████████████████| 999954/999954 [00:01<00:00, 923206.01it/s]\n"
     ]
    },
    {
     "name": "stdout",
     "output_type": "stream",
     "text": [
      "index: 9\n"
     ]
    },
    {
     "name": "stderr",
     "output_type": "stream",
     "text": [
      "100%|████████████████████████████████████████████████████████████████████| 1000224/1000224 [00:01<00:00, 845762.88it/s]\n"
     ]
    },
    {
     "name": "stdout",
     "output_type": "stream",
     "text": [
      "index: 10\n"
     ]
    },
    {
     "name": "stderr",
     "output_type": "stream",
     "text": [
      "100%|████████████████████████████████████████████████████████████████████| 1000204/1000204 [00:01<00:00, 902224.84it/s]\n"
     ]
    },
    {
     "name": "stdout",
     "output_type": "stream",
     "text": [
      "index: 11\n"
     ]
    },
    {
     "name": "stderr",
     "output_type": "stream",
     "text": [
      "100%|██████████████████████████████████████████████████████████████████████| 999631/999631 [00:01<00:00, 943260.11it/s]\n"
     ]
    },
    {
     "name": "stdout",
     "output_type": "stream",
     "text": [
      "index: 12\n"
     ]
    },
    {
     "name": "stderr",
     "output_type": "stream",
     "text": [
      "100%|████████████████████████████████████████████████████████████████████| 1000350/1000350 [00:01<00:00, 888416.57it/s]\n"
     ]
    },
    {
     "name": "stdout",
     "output_type": "stream",
     "text": [
      "index: 13\n"
     ]
    },
    {
     "name": "stderr",
     "output_type": "stream",
     "text": [
      "100%|██████████████████████████████████████████████████████████████████████| 999430/999430 [00:01<00:00, 928732.74it/s]\n"
     ]
    },
    {
     "name": "stdout",
     "output_type": "stream",
     "text": [
      "index: 14\n"
     ]
    },
    {
     "name": "stderr",
     "output_type": "stream",
     "text": [
      "100%|████████████████████████████████████████████████████████████████████| 1000385/1000385 [00:01<00:00, 924479.58it/s]\n"
     ]
    },
    {
     "name": "stdout",
     "output_type": "stream",
     "text": [
      "index: 15\n"
     ]
    },
    {
     "name": "stderr",
     "output_type": "stream",
     "text": [
      "100%|██████████████████████████████████████████████████████████████████████| 999646/999646 [00:01<00:00, 928906.50it/s]\n"
     ]
    },
    {
     "name": "stdout",
     "output_type": "stream",
     "text": [
      "index: 16\n"
     ]
    },
    {
     "name": "stderr",
     "output_type": "stream",
     "text": [
      "100%|████████████████████████████████████████████████████████████████████| 1000397/1000397 [00:01<00:00, 946320.32it/s]\n"
     ]
    },
    {
     "name": "stdout",
     "output_type": "stream",
     "text": [
      "index: 17\n"
     ]
    },
    {
     "name": "stderr",
     "output_type": "stream",
     "text": [
      "100%|██████████████████████████████████████████████████████████████████████| 999917/999917 [00:01<00:00, 936124.74it/s]\n"
     ]
    },
    {
     "name": "stdout",
     "output_type": "stream",
     "text": [
      "index: 18\n"
     ]
    },
    {
     "name": "stderr",
     "output_type": "stream",
     "text": [
      "100%|████████████████████████████████████████████████████████████████████| 1000152/1000152 [00:01<00:00, 941621.47it/s]\n"
     ]
    },
    {
     "name": "stdout",
     "output_type": "stream",
     "text": [
      "index: 19\n"
     ]
    },
    {
     "name": "stderr",
     "output_type": "stream",
     "text": [
      "100%|████████████████████████████████████████████████████████████████████| 1000035/1000035 [00:01<00:00, 938865.64it/s]\n"
     ]
    },
    {
     "name": "stdout",
     "output_type": "stream",
     "text": [
      "index: 20\n"
     ]
    },
    {
     "name": "stderr",
     "output_type": "stream",
     "text": [
      "100%|██████████████████████████████████████████████████████████████████████| 999944/999944 [00:01<00:00, 953964.38it/s]\n"
     ]
    },
    {
     "name": "stdout",
     "output_type": "stream",
     "text": [
      "index: 21\n"
     ]
    },
    {
     "name": "stderr",
     "output_type": "stream",
     "text": [
      "100%|██████████████████████████████████████████████████████████████████████| 999909/999909 [00:01<00:00, 936992.94it/s]\n"
     ]
    },
    {
     "name": "stdout",
     "output_type": "stream",
     "text": [
      "index: 22\n"
     ]
    },
    {
     "name": "stderr",
     "output_type": "stream",
     "text": [
      "100%|██████████████████████████████████████████████████████████████████████| 999975/999975 [00:01<00:00, 939689.36it/s]\n"
     ]
    },
    {
     "name": "stdout",
     "output_type": "stream",
     "text": [
      "index: 23\n"
     ]
    },
    {
     "name": "stderr",
     "output_type": "stream",
     "text": [
      "100%|████████████████████████████████████████████████████████████████████| 1000092/1000092 [00:01<00:00, 911604.33it/s]\n"
     ]
    },
    {
     "name": "stdout",
     "output_type": "stream",
     "text": [
      "index: 24\n"
     ]
    },
    {
     "name": "stderr",
     "output_type": "stream",
     "text": [
      "100%|██████████████████████████████████████████████████████████████████████| 999803/999803 [00:01<00:00, 936874.15it/s]\n"
     ]
    },
    {
     "name": "stdout",
     "output_type": "stream",
     "text": [
      "index: 25\n"
     ]
    },
    {
     "name": "stderr",
     "output_type": "stream",
     "text": [
      "100%|████████████████████████████████████████████████████████████████████| 1000349/1000349 [00:01<00:00, 931313.14it/s]\n"
     ]
    },
    {
     "name": "stdout",
     "output_type": "stream",
     "text": [
      "index: 26\n"
     ]
    },
    {
     "name": "stderr",
     "output_type": "stream",
     "text": [
      "100%|██████████████████████████████████████████████████████████████████████| 999657/999657 [00:01<00:00, 948278.03it/s]\n"
     ]
    },
    {
     "name": "stdout",
     "output_type": "stream",
     "text": [
      "index: 27\n"
     ]
    },
    {
     "name": "stderr",
     "output_type": "stream",
     "text": [
      "100%|████████████████████████████████████████████████████████████████████| 1000330/1000330 [00:01<00:00, 961654.75it/s]\n"
     ]
    },
    {
     "name": "stdout",
     "output_type": "stream",
     "text": [
      "index: 28\n"
     ]
    },
    {
     "name": "stderr",
     "output_type": "stream",
     "text": [
      "100%|██████████████████████████████████████████████████████████████████████| 999868/999868 [00:01<00:00, 930840.75it/s]\n"
     ]
    },
    {
     "name": "stdout",
     "output_type": "stream",
     "text": [
      "index: 29\n"
     ]
    },
    {
     "name": "stderr",
     "output_type": "stream",
     "text": [
      "100%|██████████████████████████████████████████████████████████████████████| 999887/999887 [00:01<00:00, 925749.63it/s]\n"
     ]
    },
    {
     "name": "stdout",
     "output_type": "stream",
     "text": [
      "index: 30\n"
     ]
    },
    {
     "name": "stderr",
     "output_type": "stream",
     "text": [
      "100%|██████████████████████████████████████████████████████████████████████| 999812/999812 [00:01<00:00, 903955.29it/s]\n"
     ]
    },
    {
     "name": "stdout",
     "output_type": "stream",
     "text": [
      "index: 31\n"
     ]
    },
    {
     "name": "stderr",
     "output_type": "stream",
     "text": [
      "100%|████████████████████████████████████████████████████████████████████| 1000464/1000464 [00:01<00:00, 958999.10it/s]\n"
     ]
    },
    {
     "name": "stdout",
     "output_type": "stream",
     "text": [
      "index: 32\n"
     ]
    },
    {
     "name": "stderr",
     "output_type": "stream",
     "text": [
      "100%|██████████████████████████████████████████████████████████████████████| 999923/999923 [00:01<00:00, 936111.35it/s]\n"
     ]
    },
    {
     "name": "stdout",
     "output_type": "stream",
     "text": [
      "index: 33\n"
     ]
    },
    {
     "name": "stderr",
     "output_type": "stream",
     "text": [
      "100%|██████████████████████████████████████████████████████████████████████| 999969/999969 [00:01<00:00, 888867.55it/s]\n"
     ]
    },
    {
     "name": "stdout",
     "output_type": "stream",
     "text": [
      "index: 34\n"
     ]
    },
    {
     "name": "stderr",
     "output_type": "stream",
     "text": [
      "100%|██████████████████████████████████████████████████████████████████████| 999918/999918 [00:01<00:00, 862275.75it/s]\n"
     ]
    },
    {
     "name": "stdout",
     "output_type": "stream",
     "text": [
      "index: 35\n"
     ]
    },
    {
     "name": "stderr",
     "output_type": "stream",
     "text": [
      "100%|████████████████████████████████████████████████████████████████████| 1000173/1000173 [00:01<00:00, 944537.81it/s]\n"
     ]
    },
    {
     "name": "stdout",
     "output_type": "stream",
     "text": [
      "index: 36\n"
     ]
    },
    {
     "name": "stderr",
     "output_type": "stream",
     "text": [
      "100%|██████████████████████████████████████████████████████████████████████| 999904/999904 [00:01<00:00, 922727.22it/s]\n"
     ]
    },
    {
     "name": "stdout",
     "output_type": "stream",
     "text": [
      "index: 37\n"
     ]
    },
    {
     "name": "stderr",
     "output_type": "stream",
     "text": [
      "100%|██████████████████████████████████████████████████████████████████████| 999837/999837 [00:01<00:00, 875474.74it/s]\n"
     ]
    },
    {
     "name": "stdout",
     "output_type": "stream",
     "text": [
      "index: 38\n"
     ]
    },
    {
     "name": "stderr",
     "output_type": "stream",
     "text": [
      "100%|████████████████████████████████████████████████████████████████████| 1000017/1000017 [00:01<00:00, 922510.81it/s]\n"
     ]
    },
    {
     "name": "stdout",
     "output_type": "stream",
     "text": [
      "index: 39\n"
     ]
    },
    {
     "name": "stderr",
     "output_type": "stream",
     "text": [
      "100%|████████████████████████████████████████████████████████████████████| 1000191/1000191 [00:01<00:00, 930894.75it/s]\n"
     ]
    },
    {
     "name": "stdout",
     "output_type": "stream",
     "text": [
      "index: 40\n"
     ]
    },
    {
     "name": "stderr",
     "output_type": "stream",
     "text": [
      "100%|████████████████████████████████████████████████████████████████████| 1000040/1000040 [00:01<00:00, 930317.80it/s]\n"
     ]
    },
    {
     "name": "stdout",
     "output_type": "stream",
     "text": [
      "index: 41\n"
     ]
    },
    {
     "name": "stderr",
     "output_type": "stream",
     "text": [
      "100%|██████████████████████████████████████████████████████████████████████| 999888/999888 [00:01<00:00, 896739.44it/s]\n"
     ]
    },
    {
     "name": "stdout",
     "output_type": "stream",
     "text": [
      "index: 42\n"
     ]
    },
    {
     "name": "stderr",
     "output_type": "stream",
     "text": [
      "100%|██████████████████████████████████████████████████████████████████████| 999805/999805 [00:01<00:00, 913755.27it/s]\n"
     ]
    },
    {
     "name": "stdout",
     "output_type": "stream",
     "text": [
      "index: 43\n"
     ]
    },
    {
     "name": "stderr",
     "output_type": "stream",
     "text": [
      "100%|████████████████████████████████████████████████████████████████████| 1000036/1000036 [00:01<00:00, 949906.15it/s]\n"
     ]
    },
    {
     "name": "stdout",
     "output_type": "stream",
     "text": [
      "index: 44\n"
     ]
    },
    {
     "name": "stderr",
     "output_type": "stream",
     "text": [
      "100%|████████████████████████████████████████████████████████████████████| 1000224/1000224 [00:01<00:00, 869817.99it/s]\n"
     ]
    },
    {
     "name": "stdout",
     "output_type": "stream",
     "text": [
      "index: 45\n"
     ]
    },
    {
     "name": "stderr",
     "output_type": "stream",
     "text": [
      "100%|██████████████████████████████████████████████████████████████████████| 999508/999508 [00:01<00:00, 949060.30it/s]\n"
     ]
    },
    {
     "name": "stdout",
     "output_type": "stream",
     "text": [
      "index: 46\n"
     ]
    },
    {
     "name": "stderr",
     "output_type": "stream",
     "text": [
      "100%|████████████████████████████████████████████████████████████████████| 1000576/1000576 [00:01<00:00, 867679.09it/s]\n"
     ]
    },
    {
     "name": "stdout",
     "output_type": "stream",
     "text": [
      "index: 47\n"
     ]
    },
    {
     "name": "stderr",
     "output_type": "stream",
     "text": [
      "100%|██████████████████████████████████████████████████████████████████████| 999743/999743 [00:01<00:00, 890493.11it/s]\n"
     ]
    },
    {
     "name": "stdout",
     "output_type": "stream",
     "text": [
      "index: 48\n"
     ]
    },
    {
     "name": "stderr",
     "output_type": "stream",
     "text": [
      "100%|████████████████████████████████████████████████████████████████████| 1000178/1000178 [00:01<00:00, 938493.63it/s]\n"
     ]
    },
    {
     "name": "stdout",
     "output_type": "stream",
     "text": [
      "index: 49\n"
     ]
    },
    {
     "name": "stderr",
     "output_type": "stream",
     "text": [
      "100%|██████████████████████████████████████████████████████████████████████| 999567/999567 [00:01<00:00, 960706.34it/s]\n"
     ]
    },
    {
     "name": "stdout",
     "output_type": "stream",
     "text": [
      "index: 50\n"
     ]
    },
    {
     "name": "stderr",
     "output_type": "stream",
     "text": [
      "100%|████████████████████████████████████████████████████████████████████| 1000370/1000370 [00:01<00:00, 924278.36it/s]\n"
     ]
    },
    {
     "name": "stdout",
     "output_type": "stream",
     "text": [
      "index: 51\n"
     ]
    },
    {
     "name": "stderr",
     "output_type": "stream",
     "text": [
      "100%|████████████████████████████████████████████████████████████████████| 1000135/1000135 [00:01<00:00, 885768.86it/s]\n"
     ]
    },
    {
     "name": "stdout",
     "output_type": "stream",
     "text": [
      "index: 52\n"
     ]
    },
    {
     "name": "stderr",
     "output_type": "stream",
     "text": [
      "100%|██████████████████████████████████████████████████████████████████████| 999936/999936 [00:01<00:00, 886905.41it/s]\n"
     ]
    },
    {
     "name": "stdout",
     "output_type": "stream",
     "text": [
      "index: 53\n"
     ]
    },
    {
     "name": "stderr",
     "output_type": "stream",
     "text": [
      "100%|██████████████████████████████████████████████████████████████████████| 999755/999755 [00:01<00:00, 916319.20it/s]\n"
     ]
    },
    {
     "name": "stdout",
     "output_type": "stream",
     "text": [
      "index: 54\n"
     ]
    },
    {
     "name": "stderr",
     "output_type": "stream",
     "text": [
      "100%|████████████████████████████████████████████████████████████████████| 1000034/1000034 [00:01<00:00, 930133.98it/s]\n"
     ]
    },
    {
     "name": "stdout",
     "output_type": "stream",
     "text": [
      "index: 55\n"
     ]
    },
    {
     "name": "stderr",
     "output_type": "stream",
     "text": [
      "100%|████████████████████████████████████████████████████████████████████| 1000165/1000165 [00:01<00:00, 923401.22it/s]\n"
     ]
    },
    {
     "name": "stdout",
     "output_type": "stream",
     "text": [
      "index: 56\n"
     ]
    },
    {
     "name": "stderr",
     "output_type": "stream",
     "text": [
      "100%|██████████████████████████████████████████████████████████████████████| 999933/999933 [00:01<00:00, 911481.58it/s]\n"
     ]
    },
    {
     "name": "stdout",
     "output_type": "stream",
     "text": [
      "index: 57\n"
     ]
    },
    {
     "name": "stderr",
     "output_type": "stream",
     "text": [
      "100%|████████████████████████████████████████████████████████████████████| 1000142/1000142 [00:01<00:00, 917487.49it/s]\n"
     ]
    },
    {
     "name": "stdout",
     "output_type": "stream",
     "text": [
      "index: 58\n"
     ]
    },
    {
     "name": "stderr",
     "output_type": "stream",
     "text": [
      "100%|██████████████████████████████████████████████████████████████████████| 999594/999594 [00:01<00:00, 911957.42it/s]\n"
     ]
    },
    {
     "name": "stdout",
     "output_type": "stream",
     "text": [
      "index: 59\n"
     ]
    },
    {
     "name": "stderr",
     "output_type": "stream",
     "text": [
      "100%|████████████████████████████████████████████████████████████████████| 1000400/1000400 [00:01<00:00, 912537.73it/s]\n"
     ]
    },
    {
     "name": "stdout",
     "output_type": "stream",
     "text": [
      "index: 60\n"
     ]
    },
    {
     "name": "stderr",
     "output_type": "stream",
     "text": [
      "100%|████████████████████████████████████████████████████████████████████| 1000030/1000030 [00:01<00:00, 904725.36it/s]\n"
     ]
    },
    {
     "name": "stdout",
     "output_type": "stream",
     "text": [
      "index: 61\n"
     ]
    },
    {
     "name": "stderr",
     "output_type": "stream",
     "text": [
      "100%|██████████████████████████████████████████████████████████████████████| 999638/999638 [00:01<00:00, 905402.26it/s]\n"
     ]
    },
    {
     "name": "stdout",
     "output_type": "stream",
     "text": [
      "index: 62\n"
     ]
    },
    {
     "name": "stderr",
     "output_type": "stream",
     "text": [
      "100%|████████████████████████████████████████████████████████████████████| 1000235/1000235 [00:01<00:00, 943901.19it/s]\n"
     ]
    },
    {
     "name": "stdout",
     "output_type": "stream",
     "text": [
      "index: 63\n"
     ]
    },
    {
     "name": "stderr",
     "output_type": "stream",
     "text": [
      "100%|████████████████████████████████████████████████████████████████████| 1000134/1000134 [00:01<00:00, 948534.87it/s]\n"
     ]
    },
    {
     "name": "stdout",
     "output_type": "stream",
     "text": [
      "index: 64\n"
     ]
    },
    {
     "name": "stderr",
     "output_type": "stream",
     "text": [
      "100%|██████████████████████████████████████████████████████████████████████| 999726/999726 [00:01<00:00, 945077.49it/s]\n"
     ]
    },
    {
     "name": "stdout",
     "output_type": "stream",
     "text": [
      "index: 65\n"
     ]
    },
    {
     "name": "stderr",
     "output_type": "stream",
     "text": [
      "100%|████████████████████████████████████████████████████████████████████| 1000103/1000103 [00:01<00:00, 901640.04it/s]\n"
     ]
    },
    {
     "name": "stdout",
     "output_type": "stream",
     "text": [
      "index: 66\n"
     ]
    },
    {
     "name": "stderr",
     "output_type": "stream",
     "text": [
      "100%|████████████████████████████████████████████████████████████████████| 1000111/1000111 [00:01<00:00, 943665.91it/s]\n"
     ]
    },
    {
     "name": "stdout",
     "output_type": "stream",
     "text": [
      "index: 67\n"
     ]
    },
    {
     "name": "stderr",
     "output_type": "stream",
     "text": [
      "100%|██████████████████████████████████████████████████████████████████████| 999993/999993 [00:01<00:00, 925320.18it/s]\n"
     ]
    },
    {
     "name": "stdout",
     "output_type": "stream",
     "text": [
      "index: 68\n"
     ]
    },
    {
     "name": "stderr",
     "output_type": "stream",
     "text": [
      "100%|████████████████████████████████████████████████████████████████████| 1000005/1000005 [00:01<00:00, 926812.04it/s]\n"
     ]
    },
    {
     "name": "stdout",
     "output_type": "stream",
     "text": [
      "index: 69\n"
     ]
    },
    {
     "name": "stderr",
     "output_type": "stream",
     "text": [
      "100%|██████████████████████████████████████████████████████████████████████| 999826/999826 [00:01<00:00, 901027.76it/s]\n"
     ]
    },
    {
     "name": "stdout",
     "output_type": "stream",
     "text": [
      "index: 70\n"
     ]
    },
    {
     "name": "stderr",
     "output_type": "stream",
     "text": [
      "100%|████████████████████████████████████████████████████████████████████| 1000147/1000147 [00:01<00:00, 902634.66it/s]\n"
     ]
    },
    {
     "name": "stdout",
     "output_type": "stream",
     "text": [
      "index: 71\n"
     ]
    },
    {
     "name": "stderr",
     "output_type": "stream",
     "text": [
      "100%|██████████████████████████████████████████████████████████████████████| 999718/999718 [00:01<00:00, 899812.77it/s]\n"
     ]
    },
    {
     "name": "stdout",
     "output_type": "stream",
     "text": [
      "index: 72\n"
     ]
    },
    {
     "name": "stderr",
     "output_type": "stream",
     "text": [
      "100%|████████████████████████████████████████████████████████████████████| 1000367/1000367 [00:01<00:00, 881333.79it/s]\n"
     ]
    },
    {
     "name": "stdout",
     "output_type": "stream",
     "text": [
      "index: 73\n"
     ]
    },
    {
     "name": "stderr",
     "output_type": "stream",
     "text": [
      "100%|██████████████████████████████████████████████████████████████████████| 999431/999431 [00:01<00:00, 956369.45it/s]\n"
     ]
    },
    {
     "name": "stdout",
     "output_type": "stream",
     "text": [
      "index: 74\n"
     ]
    },
    {
     "name": "stderr",
     "output_type": "stream",
     "text": [
      "100%|████████████████████████████████████████████████████████████████████| 1000505/1000505 [00:01<00:00, 907905.95it/s]\n"
     ]
    },
    {
     "name": "stdout",
     "output_type": "stream",
     "text": [
      "index: 75\n"
     ]
    },
    {
     "name": "stderr",
     "output_type": "stream",
     "text": [
      "100%|██████████████████████████████████████████████████████████████████████| 999653/999653 [00:01<00:00, 912566.84it/s]\n"
     ]
    },
    {
     "name": "stdout",
     "output_type": "stream",
     "text": [
      "index: 76\n"
     ]
    },
    {
     "name": "stderr",
     "output_type": "stream",
     "text": [
      "100%|████████████████████████████████████████████████████████████████████| 1000382/1000382 [00:01<00:00, 930366.46it/s]\n"
     ]
    },
    {
     "name": "stdout",
     "output_type": "stream",
     "text": [
      "index: 77\n"
     ]
    },
    {
     "name": "stderr",
     "output_type": "stream",
     "text": [
      "100%|██████████████████████████████████████████████████████████████████████| 999457/999457 [00:01<00:00, 932206.94it/s]\n"
     ]
    },
    {
     "name": "stdout",
     "output_type": "stream",
     "text": [
      "index: 78\n"
     ]
    },
    {
     "name": "stderr",
     "output_type": "stream",
     "text": [
      "100%|████████████████████████████████████████████████████████████████████| 1000214/1000214 [00:01<00:00, 932399.00it/s]\n"
     ]
    },
    {
     "name": "stdout",
     "output_type": "stream",
     "text": [
      "index: 79\n"
     ]
    },
    {
     "name": "stderr",
     "output_type": "stream",
     "text": [
      "100%|████████████████████████████████████████████████████████████████████| 1000292/1000292 [00:01<00:00, 941324.77it/s]\n"
     ]
    },
    {
     "name": "stdout",
     "output_type": "stream",
     "text": [
      "index: 80\n"
     ]
    },
    {
     "name": "stderr",
     "output_type": "stream",
     "text": [
      "100%|██████████████████████████████████████████████████████████████████████| 999740/999740 [00:01<00:00, 941168.93it/s]\n"
     ]
    },
    {
     "name": "stdout",
     "output_type": "stream",
     "text": [
      "index: 81\n"
     ]
    },
    {
     "name": "stderr",
     "output_type": "stream",
     "text": [
      "100%|████████████████████████████████████████████████████████████████████| 1000060/1000060 [00:01<00:00, 920330.77it/s]\n"
     ]
    },
    {
     "name": "stdout",
     "output_type": "stream",
     "text": [
      "index: 82\n"
     ]
    },
    {
     "name": "stderr",
     "output_type": "stream",
     "text": [
      "100%|██████████████████████████████████████████████████████████████████████| 999830/999830 [00:01<00:00, 929857.22it/s]\n"
     ]
    },
    {
     "name": "stdout",
     "output_type": "stream",
     "text": [
      "index: 83\n"
     ]
    },
    {
     "name": "stderr",
     "output_type": "stream",
     "text": [
      "100%|████████████████████████████████████████████████████████████████████| 1000263/1000263 [00:01<00:00, 926902.67it/s]\n"
     ]
    },
    {
     "name": "stdout",
     "output_type": "stream",
     "text": [
      "index: 84\n"
     ]
    },
    {
     "name": "stderr",
     "output_type": "stream",
     "text": [
      "100%|████████████████████████████████████████████████████████████████████| 1000080/1000080 [00:01<00:00, 942272.18it/s]\n"
     ]
    },
    {
     "name": "stdout",
     "output_type": "stream",
     "text": [
      "index: 85\n"
     ]
    },
    {
     "name": "stderr",
     "output_type": "stream",
     "text": [
      "100%|██████████████████████████████████████████████████████████████████████| 999796/999796 [00:01<00:00, 925574.46it/s]\n"
     ]
    },
    {
     "name": "stdout",
     "output_type": "stream",
     "text": [
      "index: 86\n"
     ]
    },
    {
     "name": "stderr",
     "output_type": "stream",
     "text": [
      "100%|██████████████████████████████████████████████████████████████████████| 999802/999802 [00:01<00:00, 907950.44it/s]\n"
     ]
    },
    {
     "name": "stdout",
     "output_type": "stream",
     "text": [
      "index: 87\n"
     ]
    },
    {
     "name": "stderr",
     "output_type": "stream",
     "text": [
      "100%|████████████████████████████████████████████████████████████████████| 1000173/1000173 [00:01<00:00, 922911.30it/s]\n"
     ]
    },
    {
     "name": "stdout",
     "output_type": "stream",
     "text": [
      "index: 88\n"
     ]
    },
    {
     "name": "stderr",
     "output_type": "stream",
     "text": [
      "100%|████████████████████████████████████████████████████████████████████| 1000230/1000230 [00:01<00:00, 912148.19it/s]\n"
     ]
    },
    {
     "name": "stdout",
     "output_type": "stream",
     "text": [
      "index: 89\n"
     ]
    },
    {
     "name": "stderr",
     "output_type": "stream",
     "text": [
      "100%|████████████████████████████████████████████████████████████████████| 1000103/1000103 [00:01<00:00, 932996.83it/s]\n"
     ]
    },
    {
     "name": "stdout",
     "output_type": "stream",
     "text": [
      "index: 90\n"
     ]
    },
    {
     "name": "stderr",
     "output_type": "stream",
     "text": [
      "100%|██████████████████████████████████████████████████████████████████████| 999947/999947 [00:01<00:00, 903563.92it/s]\n"
     ]
    },
    {
     "name": "stdout",
     "output_type": "stream",
     "text": [
      "index: 91\n"
     ]
    },
    {
     "name": "stderr",
     "output_type": "stream",
     "text": [
      "100%|██████████████████████████████████████████████████████████████████████| 999950/999950 [00:01<00:00, 912306.42it/s]\n"
     ]
    },
    {
     "name": "stdout",
     "output_type": "stream",
     "text": [
      "index: 92\n"
     ]
    },
    {
     "name": "stderr",
     "output_type": "stream",
     "text": [
      "100%|██████████████████████████████████████████████████████████████████████| 999693/999693 [00:01<00:00, 912880.52it/s]\n"
     ]
    },
    {
     "name": "stdout",
     "output_type": "stream",
     "text": [
      "index: 93\n"
     ]
    },
    {
     "name": "stderr",
     "output_type": "stream",
     "text": [
      "100%|████████████████████████████████████████████████████████████████████| 1000180/1000180 [00:01<00:00, 880445.19it/s]\n"
     ]
    },
    {
     "name": "stdout",
     "output_type": "stream",
     "text": [
      "index: 94\n"
     ]
    },
    {
     "name": "stderr",
     "output_type": "stream",
     "text": [
      "100%|██████████████████████████████████████████████████████████████████████| 999795/999795 [00:01<00:00, 958407.55it/s]\n"
     ]
    },
    {
     "name": "stdout",
     "output_type": "stream",
     "text": [
      "index: 95\n"
     ]
    },
    {
     "name": "stderr",
     "output_type": "stream",
     "text": [
      "100%|████████████████████████████████████████████████████████████████████| 1000165/1000165 [00:01<00:00, 808742.38it/s]\n"
     ]
    },
    {
     "name": "stdout",
     "output_type": "stream",
     "text": [
      "index: 96\n"
     ]
    },
    {
     "name": "stderr",
     "output_type": "stream",
     "text": [
      "100%|████████████████████████████████████████████████████████████████████| 1000072/1000072 [00:01<00:00, 878062.23it/s]\n"
     ]
    },
    {
     "name": "stdout",
     "output_type": "stream",
     "text": [
      "index: 97\n"
     ]
    },
    {
     "name": "stderr",
     "output_type": "stream",
     "text": [
      "100%|████████████████████████████████████████████████████████████████████| 1000166/1000166 [00:01<00:00, 865267.85it/s]\n"
     ]
    },
    {
     "name": "stdout",
     "output_type": "stream",
     "text": [
      "index: 98\n"
     ]
    },
    {
     "name": "stderr",
     "output_type": "stream",
     "text": [
      "100%|██████████████████████████████████████████████████████████████████████| 999896/999896 [00:01<00:00, 893527.68it/s]\n"
     ]
    },
    {
     "name": "stdout",
     "output_type": "stream",
     "text": [
      "index: 99\n"
     ]
    },
    {
     "name": "stderr",
     "output_type": "stream",
     "text": [
      "100%|████████████████████████████████████████████████████████████████████| 1000045/1000045 [00:01<00:00, 908236.80it/s]\n"
     ]
    },
    {
     "name": "stdout",
     "output_type": "stream",
     "text": [
      "index: 100\n"
     ]
    },
    {
     "name": "stderr",
     "output_type": "stream",
     "text": [
      "100%|██████████████████████████████████████████████████████████████████████| 999742/999742 [00:01<00:00, 931598.74it/s]\n"
     ]
    },
    {
     "name": "stdout",
     "output_type": "stream",
     "text": [
      "index: 101\n"
     ]
    },
    {
     "name": "stderr",
     "output_type": "stream",
     "text": [
      "100%|████████████████████████████████████████████████████████████████████| 1000040/1000040 [00:01<00:00, 938017.68it/s]\n"
     ]
    },
    {
     "name": "stdout",
     "output_type": "stream",
     "text": [
      "index: 102\n"
     ]
    },
    {
     "name": "stderr",
     "output_type": "stream",
     "text": [
      "100%|████████████████████████████████████████████████████████████████████| 1000259/1000259 [00:01<00:00, 944374.07it/s]\n"
     ]
    },
    {
     "name": "stdout",
     "output_type": "stream",
     "text": [
      "index: 103\n"
     ]
    },
    {
     "name": "stderr",
     "output_type": "stream",
     "text": [
      "100%|██████████████████████████████████████████████████████████████████████| 999918/999918 [00:01<00:00, 917285.01it/s]\n"
     ]
    },
    {
     "name": "stdout",
     "output_type": "stream",
     "text": [
      "index: 104\n"
     ]
    },
    {
     "name": "stderr",
     "output_type": "stream",
     "text": [
      "100%|██████████████████████████████████████████████████████████████████████| 999844/999844 [00:01<00:00, 934337.94it/s]\n"
     ]
    },
    {
     "name": "stdout",
     "output_type": "stream",
     "text": [
      "index: 105\n"
     ]
    },
    {
     "name": "stderr",
     "output_type": "stream",
     "text": [
      "100%|████████████████████████████████████████████████████████████████████| 1000035/1000035 [00:01<00:00, 947769.76it/s]\n"
     ]
    },
    {
     "name": "stdout",
     "output_type": "stream",
     "text": [
      "index: 106\n"
     ]
    },
    {
     "name": "stderr",
     "output_type": "stream",
     "text": [
      "100%|██████████████████████████████████████████████████████████████████████| 999873/999873 [00:01<00:00, 961214.53it/s]\n"
     ]
    },
    {
     "name": "stdout",
     "output_type": "stream",
     "text": [
      "index: 107\n"
     ]
    },
    {
     "name": "stderr",
     "output_type": "stream",
     "text": [
      "100%|████████████████████████████████████████████████████████████████████| 1000231/1000231 [00:01<00:00, 919229.60it/s]\n"
     ]
    },
    {
     "name": "stdout",
     "output_type": "stream",
     "text": [
      "index: 108\n"
     ]
    },
    {
     "name": "stderr",
     "output_type": "stream",
     "text": [
      "100%|██████████████████████████████████████████████████████████████████████| 999926/999926 [00:01<00:00, 869537.39it/s]\n"
     ]
    },
    {
     "name": "stdout",
     "output_type": "stream",
     "text": [
      "index: 109\n"
     ]
    },
    {
     "name": "stderr",
     "output_type": "stream",
     "text": [
      "100%|██████████████████████████████████████████████████████████████████████| 999945/999945 [00:01<00:00, 825199.86it/s]\n"
     ]
    },
    {
     "name": "stdout",
     "output_type": "stream",
     "text": [
      "index: 110\n"
     ]
    },
    {
     "name": "stderr",
     "output_type": "stream",
     "text": [
      "100%|████████████████████████████████████████████████████████████████████| 1000073/1000073 [00:01<00:00, 938048.43it/s]\n"
     ]
    },
    {
     "name": "stdout",
     "output_type": "stream",
     "text": [
      "index: 111\n"
     ]
    },
    {
     "name": "stderr",
     "output_type": "stream",
     "text": [
      "100%|████████████████████████████████████████████████████████████████████| 1000180/1000180 [00:01<00:00, 897810.48it/s]\n"
     ]
    },
    {
     "name": "stdout",
     "output_type": "stream",
     "text": [
      "index: 112\n"
     ]
    },
    {
     "name": "stderr",
     "output_type": "stream",
     "text": [
      "100%|██████████████████████████████████████████████████████████████████████| 999969/999969 [00:01<00:00, 910688.48it/s]\n"
     ]
    },
    {
     "name": "stdout",
     "output_type": "stream",
     "text": [
      "index: 113\n"
     ]
    },
    {
     "name": "stderr",
     "output_type": "stream",
     "text": [
      "100%|██████████████████████████████████████████████████████████████████████| 999706/999706 [00:01<00:00, 895803.72it/s]\n"
     ]
    },
    {
     "name": "stdout",
     "output_type": "stream",
     "text": [
      "index: 114\n"
     ]
    },
    {
     "name": "stderr",
     "output_type": "stream",
     "text": [
      "100%|██████████████████████████████████████████████████████████████████████| 999912/999912 [00:01<00:00, 948520.57it/s]\n"
     ]
    },
    {
     "name": "stdout",
     "output_type": "stream",
     "text": [
      "index: 115\n"
     ]
    },
    {
     "name": "stderr",
     "output_type": "stream",
     "text": [
      "100%|████████████████████████████████████████████████████████████████████| 1000364/1000364 [00:01<00:00, 923608.74it/s]\n"
     ]
    },
    {
     "name": "stdout",
     "output_type": "stream",
     "text": [
      "index: 116\n"
     ]
    },
    {
     "name": "stderr",
     "output_type": "stream",
     "text": [
      "100%|██████████████████████████████████████████████████████████████████████| 999995/999995 [00:01<00:00, 934450.73it/s]\n"
     ]
    },
    {
     "name": "stdout",
     "output_type": "stream",
     "text": [
      "index: 117\n"
     ]
    },
    {
     "name": "stderr",
     "output_type": "stream",
     "text": [
      "100%|██████████████████████████████████████████████████████████████████████| 999999/999999 [00:01<00:00, 931852.30it/s]\n"
     ]
    },
    {
     "name": "stdout",
     "output_type": "stream",
     "text": [
      "index: 118\n"
     ]
    },
    {
     "name": "stderr",
     "output_type": "stream",
     "text": [
      "100%|████████████████████████████████████████████████████████████████████| 1000004/1000004 [00:01<00:00, 917341.83it/s]\n"
     ]
    },
    {
     "name": "stdout",
     "output_type": "stream",
     "text": [
      "index: 119\n"
     ]
    },
    {
     "name": "stderr",
     "output_type": "stream",
     "text": [
      "100%|██████████████████████████████████████████████████████████████████████| 999609/999609 [00:01<00:00, 899713.31it/s]\n"
     ]
    },
    {
     "name": "stdout",
     "output_type": "stream",
     "text": [
      "index: 120\n"
     ]
    },
    {
     "name": "stderr",
     "output_type": "stream",
     "text": [
      "100%|████████████████████████████████████████████████████████████████████| 1000418/1000418 [00:01<00:00, 907753.16it/s]\n"
     ]
    },
    {
     "name": "stdout",
     "output_type": "stream",
     "text": [
      "index: 121\n"
     ]
    },
    {
     "name": "stderr",
     "output_type": "stream",
     "text": [
      "100%|████████████████████████████████████████████████████████████████████| 1000052/1000052 [00:01<00:00, 922476.96it/s]\n"
     ]
    },
    {
     "name": "stdout",
     "output_type": "stream",
     "text": [
      "index: 122\n"
     ]
    },
    {
     "name": "stderr",
     "output_type": "stream",
     "text": [
      "100%|██████████████████████████████████████████████████████████████████████| 999863/999863 [00:01<00:00, 894299.02it/s]\n"
     ]
    },
    {
     "name": "stdout",
     "output_type": "stream",
     "text": [
      "index: 123\n"
     ]
    },
    {
     "name": "stderr",
     "output_type": "stream",
     "text": [
      "100%|██████████████████████████████████████████████████████████████████████| 999691/999691 [00:01<00:00, 937664.75it/s]\n"
     ]
    },
    {
     "name": "stdout",
     "output_type": "stream",
     "text": [
      "index: 124\n"
     ]
    },
    {
     "name": "stderr",
     "output_type": "stream",
     "text": [
      "100%|██████████████████████████████████████████████████████████████████████| 999935/999935 [00:01<00:00, 918116.68it/s]\n"
     ]
    },
    {
     "name": "stdout",
     "output_type": "stream",
     "text": [
      "index: 125\n"
     ]
    },
    {
     "name": "stderr",
     "output_type": "stream",
     "text": [
      "100%|████████████████████████████████████████████████████████████████████| 1000491/1000491 [00:01<00:00, 948173.22it/s]\n"
     ]
    },
    {
     "name": "stdout",
     "output_type": "stream",
     "text": [
      "index: 126\n"
     ]
    },
    {
     "name": "stderr",
     "output_type": "stream",
     "text": [
      "100%|██████████████████████████████████████████████████████████████████████| 999831/999831 [00:01<00:00, 918044.10it/s]\n"
     ]
    },
    {
     "name": "stdout",
     "output_type": "stream",
     "text": [
      "index: 127\n"
     ]
    },
    {
     "name": "stderr",
     "output_type": "stream",
     "text": [
      "100%|██████████████████████████████████████████████████████████████████████| 999762/999762 [00:01<00:00, 907181.08it/s]\n"
     ]
    },
    {
     "name": "stdout",
     "output_type": "stream",
     "text": [
      "index: 128\n"
     ]
    },
    {
     "name": "stderr",
     "output_type": "stream",
     "text": [
      "100%|████████████████████████████████████████████████████████████████████| 1000356/1000356 [00:01<00:00, 902844.46it/s]\n"
     ]
    },
    {
     "name": "stdout",
     "output_type": "stream",
     "text": [
      "index: 129\n"
     ]
    },
    {
     "name": "stderr",
     "output_type": "stream",
     "text": [
      "100%|████████████████████████████████████████████████████████████████████| 1000023/1000023 [00:01<00:00, 937946.36it/s]\n"
     ]
    },
    {
     "name": "stdout",
     "output_type": "stream",
     "text": [
      "index: 130\n"
     ]
    },
    {
     "name": "stderr",
     "output_type": "stream",
     "text": [
      "100%|██████████████████████████████████████████████████████████████████████| 999538/999538 [00:01<00:00, 938402.61it/s]\n"
     ]
    },
    {
     "name": "stdout",
     "output_type": "stream",
     "text": [
      "index: 131\n"
     ]
    },
    {
     "name": "stderr",
     "output_type": "stream",
     "text": [
      "100%|████████████████████████████████████████████████████████████████████| 1000467/1000467 [00:01<00:00, 943690.17it/s]\n"
     ]
    },
    {
     "name": "stdout",
     "output_type": "stream",
     "text": [
      "index: 132\n"
     ]
    },
    {
     "name": "stderr",
     "output_type": "stream",
     "text": [
      "100%|████████████████████████████████████████████████████████████████████| 1000044/1000044 [00:01<00:00, 915723.43it/s]\n"
     ]
    },
    {
     "name": "stdout",
     "output_type": "stream",
     "text": [
      "index: 133\n"
     ]
    },
    {
     "name": "stderr",
     "output_type": "stream",
     "text": [
      "100%|██████████████████████████████████████████████████████████████████████| 999877/999877 [00:01<00:00, 889574.19it/s]\n"
     ]
    },
    {
     "name": "stdout",
     "output_type": "stream",
     "text": [
      "index: 134\n"
     ]
    },
    {
     "name": "stderr",
     "output_type": "stream",
     "text": [
      "100%|██████████████████████████████████████████████████████████████████████| 999979/999979 [00:01<00:00, 934439.32it/s]\n"
     ]
    },
    {
     "name": "stdout",
     "output_type": "stream",
     "text": [
      "index: 135\n"
     ]
    },
    {
     "name": "stderr",
     "output_type": "stream",
     "text": [
      "100%|██████████████████████████████████████████████████████████████████████| 999957/999957 [00:01<00:00, 915644.76it/s]\n"
     ]
    },
    {
     "name": "stdout",
     "output_type": "stream",
     "text": [
      "index: 136\n"
     ]
    },
    {
     "name": "stderr",
     "output_type": "stream",
     "text": [
      "100%|████████████████████████████████████████████████████████████████████| 1000040/1000040 [00:01<00:00, 920742.26it/s]\n"
     ]
    },
    {
     "name": "stdout",
     "output_type": "stream",
     "text": [
      "index: 137\n"
     ]
    },
    {
     "name": "stderr",
     "output_type": "stream",
     "text": [
      "100%|██████████████████████████████████████████████████████████████████████| 999653/999653 [00:01<00:00, 905435.98it/s]\n"
     ]
    },
    {
     "name": "stdout",
     "output_type": "stream",
     "text": [
      "index: 138\n"
     ]
    },
    {
     "name": "stderr",
     "output_type": "stream",
     "text": [
      "100%|██████████████████████████████████████████████████████████████████████| 999965/999965 [00:01<00:00, 938774.71it/s]\n"
     ]
    },
    {
     "name": "stdout",
     "output_type": "stream",
     "text": [
      "index: 139\n"
     ]
    },
    {
     "name": "stderr",
     "output_type": "stream",
     "text": [
      "100%|██████████████████████████████████████████████████████████████████████| 999933/999933 [00:01<00:00, 880269.89it/s]\n"
     ]
    },
    {
     "name": "stdout",
     "output_type": "stream",
     "text": [
      "index: 140\n"
     ]
    },
    {
     "name": "stderr",
     "output_type": "stream",
     "text": [
      "100%|████████████████████████████████████████████████████████████████████| 1000120/1000120 [00:01<00:00, 939826.88it/s]\n"
     ]
    },
    {
     "name": "stdout",
     "output_type": "stream",
     "text": [
      "index: 141\n"
     ]
    },
    {
     "name": "stderr",
     "output_type": "stream",
     "text": [
      "100%|████████████████████████████████████████████████████████████████████| 1000316/1000316 [00:01<00:00, 913470.31it/s]\n"
     ]
    },
    {
     "name": "stdout",
     "output_type": "stream",
     "text": [
      "index: 142\n"
     ]
    },
    {
     "name": "stderr",
     "output_type": "stream",
     "text": [
      "100%|████████████████████████████████████████████████████████████████████| 1000013/1000013 [00:01<00:00, 933600.61it/s]\n"
     ]
    },
    {
     "name": "stdout",
     "output_type": "stream",
     "text": [
      "index: 143\n"
     ]
    },
    {
     "name": "stderr",
     "output_type": "stream",
     "text": [
      "100%|██████████████████████████████████████████████████████████████████████| 999917/999917 [00:01<00:00, 950331.16it/s]\n"
     ]
    },
    {
     "name": "stdout",
     "output_type": "stream",
     "text": [
      "index: 144\n"
     ]
    },
    {
     "name": "stderr",
     "output_type": "stream",
     "text": [
      "100%|████████████████████████████████████████████████████████████████████| 1000212/1000212 [00:01<00:00, 870561.68it/s]\n"
     ]
    },
    {
     "name": "stdout",
     "output_type": "stream",
     "text": [
      "index: 145\n"
     ]
    },
    {
     "name": "stderr",
     "output_type": "stream",
     "text": [
      "100%|██████████████████████████████████████████████████████████████████████| 999643/999643 [00:01<00:00, 963766.11it/s]\n"
     ]
    },
    {
     "name": "stdout",
     "output_type": "stream",
     "text": [
      "index: 146\n"
     ]
    },
    {
     "name": "stderr",
     "output_type": "stream",
     "text": [
      "100%|████████████████████████████████████████████████████████████████████| 1000242/1000242 [00:01<00:00, 937284.89it/s]\n"
     ]
    },
    {
     "name": "stdout",
     "output_type": "stream",
     "text": [
      "index: 147\n"
     ]
    },
    {
     "name": "stderr",
     "output_type": "stream",
     "text": [
      "100%|██████████████████████████████████████████████████████████████████████| 999830/999830 [00:01<00:00, 900723.26it/s]\n"
     ]
    },
    {
     "name": "stdout",
     "output_type": "stream",
     "text": [
      "index: 148\n"
     ]
    },
    {
     "name": "stderr",
     "output_type": "stream",
     "text": [
      "100%|████████████████████████████████████████████████████████████████████| 1000153/1000153 [00:01<00:00, 910808.79it/s]\n"
     ]
    },
    {
     "name": "stdout",
     "output_type": "stream",
     "text": [
      "index: 149\n"
     ]
    },
    {
     "name": "stderr",
     "output_type": "stream",
     "text": [
      "100%|████████████████████████████████████████████████████████████████████| 1000013/1000013 [00:01<00:00, 923264.95it/s]\n"
     ]
    },
    {
     "name": "stdout",
     "output_type": "stream",
     "text": [
      "index: 150\n"
     ]
    },
    {
     "name": "stderr",
     "output_type": "stream",
     "text": [
      "100%|██████████████████████████████████████████████████████████████████████| 999952/999952 [00:01<00:00, 946766.50it/s]\n"
     ]
    },
    {
     "name": "stdout",
     "output_type": "stream",
     "text": [
      "index: 151\n"
     ]
    },
    {
     "name": "stderr",
     "output_type": "stream",
     "text": [
      "100%|████████████████████████████████████████████████████████████████████| 1000146/1000146 [00:01<00:00, 918333.54it/s]\n"
     ]
    },
    {
     "name": "stdout",
     "output_type": "stream",
     "text": [
      "index: 152\n"
     ]
    },
    {
     "name": "stderr",
     "output_type": "stream",
     "text": [
      "100%|██████████████████████████████████████████████████████████████████████| 999869/999869 [00:01<00:00, 899971.08it/s]\n"
     ]
    },
    {
     "name": "stdout",
     "output_type": "stream",
     "text": [
      "index: 153\n"
     ]
    },
    {
     "name": "stderr",
     "output_type": "stream",
     "text": [
      "100%|██████████████████████████████████████████████████████████████████████| 999977/999977 [00:01<00:00, 903266.05it/s]\n"
     ]
    },
    {
     "name": "stdout",
     "output_type": "stream",
     "text": [
      "index: 154\n"
     ]
    },
    {
     "name": "stderr",
     "output_type": "stream",
     "text": [
      "100%|██████████████████████████████████████████████████████████████████████| 999793/999793 [00:01<00:00, 885548.06it/s]\n"
     ]
    },
    {
     "name": "stdout",
     "output_type": "stream",
     "text": [
      "index: 155\n"
     ]
    },
    {
     "name": "stderr",
     "output_type": "stream",
     "text": [
      "100%|████████████████████████████████████████████████████████████████████| 1000122/1000122 [00:01<00:00, 917502.85it/s]\n"
     ]
    },
    {
     "name": "stdout",
     "output_type": "stream",
     "text": [
      "index: 156\n"
     ]
    },
    {
     "name": "stderr",
     "output_type": "stream",
     "text": [
      "100%|██████████████████████████████████████████████████████████████████████| 999713/999713 [00:01<00:00, 948306.27it/s]\n"
     ]
    },
    {
     "name": "stdout",
     "output_type": "stream",
     "text": [
      "index: 157\n"
     ]
    },
    {
     "name": "stderr",
     "output_type": "stream",
     "text": [
      "100%|████████████████████████████████████████████████████████████████████| 1000541/1000541 [00:01<00:00, 947324.81it/s]\n"
     ]
    },
    {
     "name": "stdout",
     "output_type": "stream",
     "text": [
      "index: 158\n"
     ]
    },
    {
     "name": "stderr",
     "output_type": "stream",
     "text": [
      "100%|██████████████████████████████████████████████████████████████████████| 999884/999884 [00:01<00:00, 925732.55it/s]\n"
     ]
    },
    {
     "name": "stdout",
     "output_type": "stream",
     "text": [
      "index: 159\n"
     ]
    },
    {
     "name": "stderr",
     "output_type": "stream",
     "text": [
      "100%|██████████████████████████████████████████████████████████████████████| 999807/999807 [00:01<00:00, 959285.94it/s]\n"
     ]
    },
    {
     "name": "stdout",
     "output_type": "stream",
     "text": [
      "index: 160\n"
     ]
    },
    {
     "name": "stderr",
     "output_type": "stream",
     "text": [
      "100%|██████████████████████████████████████████████████████████████████████| 999993/999993 [00:01<00:00, 896839.36it/s]\n"
     ]
    },
    {
     "name": "stdout",
     "output_type": "stream",
     "text": [
      "index: 161\n"
     ]
    },
    {
     "name": "stderr",
     "output_type": "stream",
     "text": [
      "100%|████████████████████████████████████████████████████████████████████| 1000074/1000074 [00:01<00:00, 917406.25it/s]\n"
     ]
    },
    {
     "name": "stdout",
     "output_type": "stream",
     "text": [
      "index: 162\n"
     ]
    },
    {
     "name": "stderr",
     "output_type": "stream",
     "text": [
      "100%|████████████████████████████████████████████████████████████████████| 1000077/1000077 [00:01<00:00, 881905.03it/s]\n"
     ]
    },
    {
     "name": "stdout",
     "output_type": "stream",
     "text": [
      "index: 163\n"
     ]
    },
    {
     "name": "stderr",
     "output_type": "stream",
     "text": [
      "100%|████████████████████████████████████████████████████████████████████| 1000049/1000049 [00:01<00:00, 894489.79it/s]\n"
     ]
    },
    {
     "name": "stdout",
     "output_type": "stream",
     "text": [
      "index: 164\n"
     ]
    },
    {
     "name": "stderr",
     "output_type": "stream",
     "text": [
      "100%|██████████████████████████████████████████████████████████████████████| 999972/999972 [00:01<00:00, 953965.93it/s]\n"
     ]
    },
    {
     "name": "stdout",
     "output_type": "stream",
     "text": [
      "index: 165\n"
     ]
    },
    {
     "name": "stderr",
     "output_type": "stream",
     "text": [
      "100%|████████████████████████████████████████████████████████████████████| 1000117/1000117 [00:01<00:00, 925914.75it/s]\n"
     ]
    },
    {
     "name": "stdout",
     "output_type": "stream",
     "text": [
      "index: 166\n"
     ]
    },
    {
     "name": "stderr",
     "output_type": "stream",
     "text": [
      "100%|██████████████████████████████████████████████████████████████████████| 999792/999792 [00:01<00:00, 912992.39it/s]\n"
     ]
    },
    {
     "name": "stdout",
     "output_type": "stream",
     "text": [
      "index: 167\n"
     ]
    },
    {
     "name": "stderr",
     "output_type": "stream",
     "text": [
      "100%|████████████████████████████████████████████████████████████████████| 1000231/1000231 [00:01<00:00, 914206.96it/s]\n"
     ]
    },
    {
     "name": "stdout",
     "output_type": "stream",
     "text": [
      "index: 168\n"
     ]
    },
    {
     "name": "stderr",
     "output_type": "stream",
     "text": [
      "100%|██████████████████████████████████████████████████████████████████████| 999850/999850 [00:01<00:00, 935215.96it/s]\n"
     ]
    },
    {
     "name": "stdout",
     "output_type": "stream",
     "text": [
      "index: 169\n"
     ]
    },
    {
     "name": "stderr",
     "output_type": "stream",
     "text": [
      "100%|██████████████████████████████████████████████████████████████████████| 999953/999953 [00:01<00:00, 937911.54it/s]\n"
     ]
    },
    {
     "name": "stdout",
     "output_type": "stream",
     "text": [
      "index: 170\n"
     ]
    },
    {
     "name": "stderr",
     "output_type": "stream",
     "text": [
      "100%|████████████████████████████████████████████████████████████████████| 1000094/1000094 [00:01<00:00, 921638.25it/s]\n"
     ]
    },
    {
     "name": "stdout",
     "output_type": "stream",
     "text": [
      "index: 171\n"
     ]
    },
    {
     "name": "stderr",
     "output_type": "stream",
     "text": [
      "100%|██████████████████████████████████████████████████████████████████████| 999709/999709 [00:01<00:00, 901423.75it/s]\n"
     ]
    },
    {
     "name": "stdout",
     "output_type": "stream",
     "text": [
      "index: 172\n"
     ]
    },
    {
     "name": "stderr",
     "output_type": "stream",
     "text": [
      "100%|████████████████████████████████████████████████████████████████████| 1000389/1000389 [00:01<00:00, 921941.31it/s]\n"
     ]
    },
    {
     "name": "stdout",
     "output_type": "stream",
     "text": [
      "index: 173\n"
     ]
    },
    {
     "name": "stderr",
     "output_type": "stream",
     "text": [
      "100%|██████████████████████████████████████████████████████████████████████| 999900/999900 [00:01<00:00, 926568.13it/s]\n"
     ]
    },
    {
     "name": "stdout",
     "output_type": "stream",
     "text": [
      "index: 174\n"
     ]
    },
    {
     "name": "stderr",
     "output_type": "stream",
     "text": [
      "100%|████████████████████████████████████████████████████████████████████| 1000036/1000036 [00:01<00:00, 900881.95it/s]\n"
     ]
    },
    {
     "name": "stdout",
     "output_type": "stream",
     "text": [
      "index: 175\n"
     ]
    },
    {
     "name": "stderr",
     "output_type": "stream",
     "text": [
      "100%|██████████████████████████████████████████████████████████████████████| 999715/999715 [00:01<00:00, 930698.93it/s]\n"
     ]
    },
    {
     "name": "stdout",
     "output_type": "stream",
     "text": [
      "index: 176\n"
     ]
    },
    {
     "name": "stderr",
     "output_type": "stream",
     "text": [
      "100%|██████████████████████████████████████████████████████████████████████| 999825/999825 [00:01<00:00, 957495.53it/s]\n"
     ]
    },
    {
     "name": "stdout",
     "output_type": "stream",
     "text": [
      "index: 177\n"
     ]
    },
    {
     "name": "stderr",
     "output_type": "stream",
     "text": [
      "100%|████████████████████████████████████████████████████████████████████| 1000474/1000474 [00:01<00:00, 934030.79it/s]\n"
     ]
    },
    {
     "name": "stdout",
     "output_type": "stream",
     "text": [
      "index: 178\n"
     ]
    },
    {
     "name": "stderr",
     "output_type": "stream",
     "text": [
      "100%|██████████████████████████████████████████████████████████████████████| 999785/999785 [00:01<00:00, 916299.84it/s]\n"
     ]
    },
    {
     "name": "stdout",
     "output_type": "stream",
     "text": [
      "index: 179\n"
     ]
    },
    {
     "name": "stderr",
     "output_type": "stream",
     "text": [
      "100%|████████████████████████████████████████████████████████████████████| 1000164/1000164 [00:01<00:00, 955995.38it/s]\n"
     ]
    },
    {
     "name": "stdout",
     "output_type": "stream",
     "text": [
      "index: 180\n"
     ]
    },
    {
     "name": "stderr",
     "output_type": "stream",
     "text": [
      "100%|████████████████████████████████████████████████████████████████████| 1000090/1000090 [00:01<00:00, 938917.70it/s]\n"
     ]
    },
    {
     "name": "stdout",
     "output_type": "stream",
     "text": [
      "index: 181\n"
     ]
    },
    {
     "name": "stderr",
     "output_type": "stream",
     "text": [
      "100%|██████████████████████████████████████████████████████████████████████| 999871/999871 [00:01<00:00, 906434.41it/s]\n"
     ]
    },
    {
     "name": "stdout",
     "output_type": "stream",
     "text": [
      "index: 182\n"
     ]
    },
    {
     "name": "stderr",
     "output_type": "stream",
     "text": [
      "100%|████████████████████████████████████████████████████████████████████| 1000122/1000122 [00:01<00:00, 943364.33it/s]\n"
     ]
    },
    {
     "name": "stdout",
     "output_type": "stream",
     "text": [
      "index: 183\n"
     ]
    },
    {
     "name": "stderr",
     "output_type": "stream",
     "text": [
      "100%|██████████████████████████████████████████████████████████████████████| 999842/999842 [00:01<00:00, 903166.48it/s]\n"
     ]
    },
    {
     "name": "stdout",
     "output_type": "stream",
     "text": [
      "index: 184\n"
     ]
    },
    {
     "name": "stderr",
     "output_type": "stream",
     "text": [
      "100%|████████████████████████████████████████████████████████████████████| 1000136/1000136 [00:01<00:00, 938055.08it/s]\n"
     ]
    },
    {
     "name": "stdout",
     "output_type": "stream",
     "text": [
      "index: 185\n"
     ]
    },
    {
     "name": "stderr",
     "output_type": "stream",
     "text": [
      "100%|████████████████████████████████████████████████████████████████████| 1000018/1000018 [00:01<00:00, 931004.57it/s]\n"
     ]
    },
    {
     "name": "stdout",
     "output_type": "stream",
     "text": [
      "index: 186\n"
     ]
    },
    {
     "name": "stderr",
     "output_type": "stream",
     "text": [
      "100%|██████████████████████████████████████████████████████████████████████| 999250/999250 [00:01<00:00, 924682.23it/s]\n"
     ]
    },
    {
     "name": "stdout",
     "output_type": "stream",
     "text": [
      "index: 187\n"
     ]
    },
    {
     "name": "stderr",
     "output_type": "stream",
     "text": [
      "100%|████████████████████████████████████████████████████████████████████| 1000639/1000639 [00:01<00:00, 879304.78it/s]\n"
     ]
    },
    {
     "name": "stdout",
     "output_type": "stream",
     "text": [
      "index: 188\n"
     ]
    },
    {
     "name": "stderr",
     "output_type": "stream",
     "text": [
      "100%|██████████████████████████████████████████████████████████████████████| 999636/999636 [00:01<00:00, 915374.21it/s]\n"
     ]
    },
    {
     "name": "stdout",
     "output_type": "stream",
     "text": [
      "index: 189\n"
     ]
    },
    {
     "name": "stderr",
     "output_type": "stream",
     "text": [
      "100%|████████████████████████████████████████████████████████████████████| 1000234/1000234 [00:01<00:00, 911710.18it/s]\n"
     ]
    },
    {
     "name": "stdout",
     "output_type": "stream",
     "text": [
      "index: 190\n"
     ]
    },
    {
     "name": "stderr",
     "output_type": "stream",
     "text": [
      "100%|████████████████████████████████████████████████████████████████████| 1000229/1000229 [00:01<00:00, 912564.34it/s]\n"
     ]
    },
    {
     "name": "stdout",
     "output_type": "stream",
     "text": [
      "index: 191\n"
     ]
    },
    {
     "name": "stderr",
     "output_type": "stream",
     "text": [
      "100%|████████████████████████████████████████████████████████████████████| 1000006/1000006 [00:01<00:00, 943285.67it/s]\n"
     ]
    },
    {
     "name": "stdout",
     "output_type": "stream",
     "text": [
      "index: 192\n"
     ]
    },
    {
     "name": "stderr",
     "output_type": "stream",
     "text": [
      "100%|██████████████████████████████████████████████████████████████████████| 999647/999647 [00:01<00:00, 911178.90it/s]\n"
     ]
    },
    {
     "name": "stdout",
     "output_type": "stream",
     "text": [
      "index: 193\n"
     ]
    },
    {
     "name": "stderr",
     "output_type": "stream",
     "text": [
      "100%|████████████████████████████████████████████████████████████████████| 1000039/1000039 [00:01<00:00, 938009.20it/s]\n"
     ]
    },
    {
     "name": "stdout",
     "output_type": "stream",
     "text": [
      "index: 194\n"
     ]
    },
    {
     "name": "stderr",
     "output_type": "stream",
     "text": [
      "100%|██████████████████████████████████████████████████████████████████████| 999650/999650 [00:01<00:00, 954593.67it/s]\n"
     ]
    },
    {
     "name": "stdout",
     "output_type": "stream",
     "text": [
      "index: 195\n"
     ]
    },
    {
     "name": "stderr",
     "output_type": "stream",
     "text": [
      "100%|████████████████████████████████████████████████████████████████████| 1000358/1000358 [00:01<00:00, 948079.31it/s]\n"
     ]
    },
    {
     "name": "stdout",
     "output_type": "stream",
     "text": [
      "index: 196\n"
     ]
    },
    {
     "name": "stderr",
     "output_type": "stream",
     "text": [
      "100%|██████████████████████████████████████████████████████████████████████| 999974/999974 [00:01<00:00, 965009.11it/s]\n"
     ]
    },
    {
     "name": "stdout",
     "output_type": "stream",
     "text": [
      "index: 197\n"
     ]
    },
    {
     "name": "stderr",
     "output_type": "stream",
     "text": [
      "100%|████████████████████████████████████████████████████████████████████| 1000328/1000328 [00:01<00:00, 934739.41it/s]\n"
     ]
    },
    {
     "name": "stdout",
     "output_type": "stream",
     "text": [
      "index: 198\n"
     ]
    },
    {
     "name": "stderr",
     "output_type": "stream",
     "text": [
      "100%|██████████████████████████████████████████████████████████████████████| 999853/999853 [00:01<00:00, 952066.75it/s]\n"
     ]
    },
    {
     "name": "stdout",
     "output_type": "stream",
     "text": [
      "index: 199\n"
     ]
    },
    {
     "name": "stderr",
     "output_type": "stream",
     "text": [
      "100%|██████████████████████████████████████████████████████████████████████| 999918/999918 [00:01<00:00, 944947.83it/s]\n"
     ]
    },
    {
     "name": "stdout",
     "output_type": "stream",
     "text": [
      "index: 200\n"
     ]
    },
    {
     "name": "stderr",
     "output_type": "stream",
     "text": [
      "100%|██████████████████████████████████████████████████████████████████████| 999733/999733 [00:01<00:00, 923901.07it/s]\n"
     ]
    },
    {
     "name": "stdout",
     "output_type": "stream",
     "text": [
      "index: 201\n"
     ]
    },
    {
     "name": "stderr",
     "output_type": "stream",
     "text": [
      "100%|████████████████████████████████████████████████████████████████████| 1000522/1000522 [00:01<00:00, 887785.25it/s]\n"
     ]
    },
    {
     "name": "stdout",
     "output_type": "stream",
     "text": [
      "index: 202\n"
     ]
    },
    {
     "name": "stderr",
     "output_type": "stream",
     "text": [
      "100%|██████████████████████████████████████████████████████████████████████| 999733/999733 [00:01<00:00, 951027.33it/s]\n"
     ]
    },
    {
     "name": "stdout",
     "output_type": "stream",
     "text": [
      "index: 203\n"
     ]
    },
    {
     "name": "stderr",
     "output_type": "stream",
     "text": [
      "100%|████████████████████████████████████████████████████████████████████| 1000017/1000017 [00:01<00:00, 940610.77it/s]\n"
     ]
    },
    {
     "name": "stdout",
     "output_type": "stream",
     "text": [
      "index: 204\n"
     ]
    },
    {
     "name": "stderr",
     "output_type": "stream",
     "text": [
      "100%|██████████████████████████████████████████████████████████████████████| 999789/999789 [00:01<00:00, 955609.94it/s]\n"
     ]
    },
    {
     "name": "stdout",
     "output_type": "stream",
     "text": [
      "index: 205\n"
     ]
    },
    {
     "name": "stderr",
     "output_type": "stream",
     "text": [
      "100%|████████████████████████████████████████████████████████████████████| 1000324/1000324 [00:01<00:00, 926136.85it/s]\n"
     ]
    },
    {
     "name": "stdout",
     "output_type": "stream",
     "text": [
      "index: 206\n"
     ]
    },
    {
     "name": "stderr",
     "output_type": "stream",
     "text": [
      "100%|██████████████████████████████████████████████████████████████████████| 999661/999661 [00:01<00:00, 958231.79it/s]\n"
     ]
    },
    {
     "name": "stdout",
     "output_type": "stream",
     "text": [
      "index: 207\n"
     ]
    },
    {
     "name": "stderr",
     "output_type": "stream",
     "text": [
      "100%|████████████████████████████████████████████████████████████████████| 1000286/1000286 [00:01<00:00, 903577.67it/s]\n"
     ]
    },
    {
     "name": "stdout",
     "output_type": "stream",
     "text": [
      "index: 208\n"
     ]
    },
    {
     "name": "stderr",
     "output_type": "stream",
     "text": [
      "100%|██████████████████████████████████████████████████████████████████████| 999984/999984 [00:01<00:00, 924134.66it/s]\n"
     ]
    },
    {
     "name": "stdout",
     "output_type": "stream",
     "text": [
      "index: 209\n"
     ]
    },
    {
     "name": "stderr",
     "output_type": "stream",
     "text": [
      "100%|████████████████████████████████████████████████████████████████████| 1000245/1000245 [00:01<00:00, 946125.96it/s]\n"
     ]
    },
    {
     "name": "stdout",
     "output_type": "stream",
     "text": [
      "index: 210\n"
     ]
    },
    {
     "name": "stderr",
     "output_type": "stream",
     "text": [
      "100%|██████████████████████████████████████████████████████████████████████| 999895/999895 [00:01<00:00, 929188.73it/s]\n"
     ]
    },
    {
     "name": "stdout",
     "output_type": "stream",
     "text": [
      "index: 211\n"
     ]
    },
    {
     "name": "stderr",
     "output_type": "stream",
     "text": [
      "100%|██████████████████████████████████████████████████████████████████████| 999921/999921 [00:01<00:00, 946714.49it/s]\n"
     ]
    },
    {
     "name": "stdout",
     "output_type": "stream",
     "text": [
      "index: 212\n"
     ]
    },
    {
     "name": "stderr",
     "output_type": "stream",
     "text": [
      "100%|████████████████████████████████████████████████████████████████████| 1000023/1000023 [00:01<00:00, 920772.70it/s]\n"
     ]
    },
    {
     "name": "stdout",
     "output_type": "stream",
     "text": [
      "index: 213\n"
     ]
    },
    {
     "name": "stderr",
     "output_type": "stream",
     "text": [
      "100%|██████████████████████████████████████████████████████████████████████| 999817/999817 [00:01<00:00, 903144.67it/s]\n"
     ]
    },
    {
     "name": "stdout",
     "output_type": "stream",
     "text": [
      "index: 214\n"
     ]
    },
    {
     "name": "stderr",
     "output_type": "stream",
     "text": [
      "100%|████████████████████████████████████████████████████████████████████| 1000051/1000051 [00:01<00:00, 958613.73it/s]\n"
     ]
    },
    {
     "name": "stdout",
     "output_type": "stream",
     "text": [
      "index: 215\n"
     ]
    },
    {
     "name": "stderr",
     "output_type": "stream",
     "text": [
      "100%|████████████████████████████████████████████████████████████████████| 1000122/1000122 [00:01<00:00, 869749.49it/s]\n"
     ]
    },
    {
     "name": "stdout",
     "output_type": "stream",
     "text": [
      "index: 216\n"
     ]
    },
    {
     "name": "stderr",
     "output_type": "stream",
     "text": [
      "100%|████████████████████████████████████████████████████████████████████| 1000093/1000093 [00:01<00:00, 935447.01it/s]\n"
     ]
    },
    {
     "name": "stdout",
     "output_type": "stream",
     "text": [
      "index: 217\n"
     ]
    },
    {
     "name": "stderr",
     "output_type": "stream",
     "text": [
      "100%|██████████████████████████████████████████████████████████████████████| 999728/999728 [00:01<00:00, 935076.41it/s]\n"
     ]
    },
    {
     "name": "stdout",
     "output_type": "stream",
     "text": [
      "index: 218\n"
     ]
    },
    {
     "name": "stderr",
     "output_type": "stream",
     "text": [
      "100%|██████████████████████████████████████████████████████████████████████| 999850/999850 [00:01<00:00, 915546.98it/s]\n"
     ]
    },
    {
     "name": "stdout",
     "output_type": "stream",
     "text": [
      "index: 219\n"
     ]
    },
    {
     "name": "stderr",
     "output_type": "stream",
     "text": [
      "100%|██████████████████████████████████████████████████████████████████████| 999980/999980 [00:01<00:00, 924952.88it/s]\n"
     ]
    },
    {
     "name": "stdout",
     "output_type": "stream",
     "text": [
      "index: 220\n"
     ]
    },
    {
     "name": "stderr",
     "output_type": "stream",
     "text": [
      "100%|████████████████████████████████████████████████████████████████████| 1000442/1000442 [00:01<00:00, 924531.44it/s]\n"
     ]
    },
    {
     "name": "stdout",
     "output_type": "stream",
     "text": [
      "index: 221\n"
     ]
    },
    {
     "name": "stderr",
     "output_type": "stream",
     "text": [
      "100%|██████████████████████████████████████████████████████████████████████| 999903/999903 [00:01<00:00, 951205.23it/s]\n"
     ]
    },
    {
     "name": "stdout",
     "output_type": "stream",
     "text": [
      "index: 222\n"
     ]
    },
    {
     "name": "stderr",
     "output_type": "stream",
     "text": [
      "100%|████████████████████████████████████████████████████████████████████| 1000157/1000157 [00:01<00:00, 918327.55it/s]\n"
     ]
    },
    {
     "name": "stdout",
     "output_type": "stream",
     "text": [
      "index: 223\n"
     ]
    },
    {
     "name": "stderr",
     "output_type": "stream",
     "text": [
      "100%|██████████████████████████████████████████████████████████████████████| 999812/999812 [00:01<00:00, 911341.57it/s]\n"
     ]
    },
    {
     "name": "stdout",
     "output_type": "stream",
     "text": [
      "index: 224\n"
     ]
    },
    {
     "name": "stderr",
     "output_type": "stream",
     "text": [
      "100%|████████████████████████████████████████████████████████████████████| 1000180/1000180 [00:01<00:00, 893013.96it/s]\n"
     ]
    },
    {
     "name": "stdout",
     "output_type": "stream",
     "text": [
      "index: 225\n"
     ]
    },
    {
     "name": "stderr",
     "output_type": "stream",
     "text": [
      "100%|████████████████████████████████████████████████████████████████████| 1000008/1000008 [00:01<00:00, 936210.57it/s]\n"
     ]
    },
    {
     "name": "stdout",
     "output_type": "stream",
     "text": [
      "index: 226\n"
     ]
    },
    {
     "name": "stderr",
     "output_type": "stream",
     "text": [
      "100%|██████████████████████████████████████████████████████████████████████| 999596/999596 [00:01<00:00, 925431.79it/s]\n"
     ]
    },
    {
     "name": "stdout",
     "output_type": "stream",
     "text": [
      "index: 227\n"
     ]
    },
    {
     "name": "stderr",
     "output_type": "stream",
     "text": [
      "100%|████████████████████████████████████████████████████████████████████| 1000271/1000271 [00:01<00:00, 944394.12it/s]\n"
     ]
    },
    {
     "name": "stdout",
     "output_type": "stream",
     "text": [
      "index: 228\n"
     ]
    },
    {
     "name": "stderr",
     "output_type": "stream",
     "text": [
      "100%|██████████████████████████████████████████████████████████████████████| 999992/999992 [00:01<00:00, 957642.34it/s]\n"
     ]
    },
    {
     "name": "stdout",
     "output_type": "stream",
     "text": [
      "index: 229\n"
     ]
    },
    {
     "name": "stderr",
     "output_type": "stream",
     "text": [
      "100%|████████████████████████████████████████████████████████████████████| 1000072/1000072 [00:01<00:00, 942406.05it/s]\n"
     ]
    },
    {
     "name": "stdout",
     "output_type": "stream",
     "text": [
      "index: 230\n"
     ]
    },
    {
     "name": "stderr",
     "output_type": "stream",
     "text": [
      "100%|██████████████████████████████████████████████████████████████████████| 999852/999852 [00:01<00:00, 915548.81it/s]\n"
     ]
    },
    {
     "name": "stdout",
     "output_type": "stream",
     "text": [
      "index: 231\n"
     ]
    },
    {
     "name": "stderr",
     "output_type": "stream",
     "text": [
      "100%|████████████████████████████████████████████████████████████████████| 1000132/1000132 [00:01<00:00, 900186.56it/s]\n"
     ]
    },
    {
     "name": "stdout",
     "output_type": "stream",
     "text": [
      "index: 232\n"
     ]
    },
    {
     "name": "stderr",
     "output_type": "stream",
     "text": [
      "100%|██████████████████████████████████████████████████████████████████████| 999993/999993 [00:01<00:00, 945938.37it/s]\n"
     ]
    },
    {
     "name": "stdout",
     "output_type": "stream",
     "text": [
      "index: 233\n"
     ]
    },
    {
     "name": "stderr",
     "output_type": "stream",
     "text": [
      "100%|████████████████████████████████████████████████████████████████████| 1000109/1000109 [00:01<00:00, 906699.36it/s]\n"
     ]
    },
    {
     "name": "stdout",
     "output_type": "stream",
     "text": [
      "index: 234\n"
     ]
    },
    {
     "name": "stderr",
     "output_type": "stream",
     "text": [
      "100%|██████████████████████████████████████████████████████████████████████| 999666/999666 [00:01<00:00, 927208.19it/s]\n"
     ]
    },
    {
     "name": "stdout",
     "output_type": "stream",
     "text": [
      "index: 235\n"
     ]
    },
    {
     "name": "stderr",
     "output_type": "stream",
     "text": [
      "100%|████████████████████████████████████████████████████████████████████| 1000028/1000028 [00:01<00:00, 888918.86it/s]\n"
     ]
    },
    {
     "name": "stdout",
     "output_type": "stream",
     "text": [
      "index: 236\n"
     ]
    },
    {
     "name": "stderr",
     "output_type": "stream",
     "text": [
      "100%|██████████████████████████████████████████████████████████████████████| 999871/999871 [00:01<00:00, 790650.07it/s]\n"
     ]
    },
    {
     "name": "stdout",
     "output_type": "stream",
     "text": [
      "index: 237\n"
     ]
    },
    {
     "name": "stderr",
     "output_type": "stream",
     "text": [
      "100%|████████████████████████████████████████████████████████████████████| 1000109/1000109 [00:01<00:00, 848360.04it/s]\n"
     ]
    },
    {
     "name": "stdout",
     "output_type": "stream",
     "text": [
      "index: 238\n"
     ]
    },
    {
     "name": "stderr",
     "output_type": "stream",
     "text": [
      "100%|████████████████████████████████████████████████████████████████████| 1000143/1000143 [00:01<00:00, 865243.49it/s]\n"
     ]
    },
    {
     "name": "stdout",
     "output_type": "stream",
     "text": [
      "index: 239\n"
     ]
    },
    {
     "name": "stderr",
     "output_type": "stream",
     "text": [
      "100%|████████████████████████████████████████████████████████████████████| 1000032/1000032 [00:01<00:00, 818545.96it/s]\n"
     ]
    },
    {
     "name": "stdout",
     "output_type": "stream",
     "text": [
      "index: 240\n"
     ]
    },
    {
     "name": "stderr",
     "output_type": "stream",
     "text": [
      "100%|██████████████████████████████████████████████████████████████████████| 999664/999664 [00:01<00:00, 839187.02it/s]\n"
     ]
    },
    {
     "name": "stdout",
     "output_type": "stream",
     "text": [
      "index: 241\n"
     ]
    },
    {
     "name": "stderr",
     "output_type": "stream",
     "text": [
      "100%|████████████████████████████████████████████████████████████████████| 1000148/1000148 [00:01<00:00, 810437.14it/s]\n"
     ]
    },
    {
     "name": "stdout",
     "output_type": "stream",
     "text": [
      "index: 242\n"
     ]
    },
    {
     "name": "stderr",
     "output_type": "stream",
     "text": [
      "100%|██████████████████████████████████████████████████████████████████████| 999890/999890 [00:01<00:00, 836969.88it/s]\n"
     ]
    },
    {
     "name": "stdout",
     "output_type": "stream",
     "text": [
      "index: 243\n"
     ]
    },
    {
     "name": "stderr",
     "output_type": "stream",
     "text": [
      "100%|████████████████████████████████████████████████████████████████████| 1000378/1000378 [00:01<00:00, 838223.32it/s]\n"
     ]
    },
    {
     "name": "stdout",
     "output_type": "stream",
     "text": [
      "index: 244\n"
     ]
    },
    {
     "name": "stderr",
     "output_type": "stream",
     "text": [
      "100%|██████████████████████████████████████████████████████████████████████| 999850/999850 [00:01<00:00, 827218.27it/s]\n"
     ]
    },
    {
     "name": "stdout",
     "output_type": "stream",
     "text": [
      "index: 245\n"
     ]
    },
    {
     "name": "stderr",
     "output_type": "stream",
     "text": [
      "100%|██████████████████████████████████████████████████████████████████████| 999876/999876 [00:01<00:00, 842874.05it/s]\n"
     ]
    },
    {
     "name": "stdout",
     "output_type": "stream",
     "text": [
      "index: 246\n"
     ]
    },
    {
     "name": "stderr",
     "output_type": "stream",
     "text": [
      "100%|██████████████████████████████████████████████████████████████████████| 999967/999967 [00:01<00:00, 803450.29it/s]\n"
     ]
    },
    {
     "name": "stdout",
     "output_type": "stream",
     "text": [
      "index: 247\n"
     ]
    },
    {
     "name": "stderr",
     "output_type": "stream",
     "text": [
      "100%|████████████████████████████████████████████████████████████████████| 1000335/1000335 [00:01<00:00, 827202.96it/s]\n"
     ]
    },
    {
     "name": "stdout",
     "output_type": "stream",
     "text": [
      "index: 248\n"
     ]
    },
    {
     "name": "stderr",
     "output_type": "stream",
     "text": [
      "100%|██████████████████████████████████████████████████████████████████████| 999860/999860 [00:01<00:00, 828171.91it/s]\n"
     ]
    },
    {
     "name": "stdout",
     "output_type": "stream",
     "text": [
      "index: 249\n"
     ]
    },
    {
     "name": "stderr",
     "output_type": "stream",
     "text": [
      "100%|████████████████████████████████████████████████████████████████████| 1000081/1000081 [00:01<00:00, 862932.60it/s]\n"
     ]
    },
    {
     "name": "stdout",
     "output_type": "stream",
     "text": [
      "index: 250\n"
     ]
    },
    {
     "name": "stderr",
     "output_type": "stream",
     "text": [
      "100%|██████████████████████████████████████████████████████████████████████| 999493/999493 [00:01<00:00, 807506.08it/s]\n"
     ]
    },
    {
     "name": "stdout",
     "output_type": "stream",
     "text": [
      "index: 251\n"
     ]
    },
    {
     "name": "stderr",
     "output_type": "stream",
     "text": [
      "100%|████████████████████████████████████████████████████████████████████| 1000498/1000498 [00:01<00:00, 844174.77it/s]\n"
     ]
    },
    {
     "name": "stdout",
     "output_type": "stream",
     "text": [
      "index: 252\n"
     ]
    },
    {
     "name": "stderr",
     "output_type": "stream",
     "text": [
      "100%|██████████████████████████████████████████████████████████████████████| 999927/999927 [00:01<00:00, 876960.87it/s]\n"
     ]
    },
    {
     "name": "stdout",
     "output_type": "stream",
     "text": [
      "index: 253\n"
     ]
    },
    {
     "name": "stderr",
     "output_type": "stream",
     "text": [
      "100%|██████████████████████████████████████████████████████████████████████| 999998/999998 [00:01<00:00, 869918.88it/s]\n"
     ]
    },
    {
     "name": "stdout",
     "output_type": "stream",
     "text": [
      "index: 254\n"
     ]
    },
    {
     "name": "stderr",
     "output_type": "stream",
     "text": [
      "100%|██████████████████████████████████████████████████████████████████████| 999936/999936 [00:01<00:00, 846440.82it/s]\n"
     ]
    },
    {
     "name": "stdout",
     "output_type": "stream",
     "text": [
      "index: 255\n"
     ]
    },
    {
     "name": "stderr",
     "output_type": "stream",
     "text": [
      "100%|████████████████████████████████████████████████████████████████████| 1000068/1000068 [00:01<00:00, 815885.24it/s]\n"
     ]
    },
    {
     "name": "stdout",
     "output_type": "stream",
     "text": [
      "index: 256\n"
     ]
    },
    {
     "name": "stderr",
     "output_type": "stream",
     "text": [
      "100%|████████████████████████████████████████████████████████████████████| 1000071/1000071 [00:01<00:00, 862747.73it/s]\n"
     ]
    },
    {
     "name": "stdout",
     "output_type": "stream",
     "text": [
      "index: 257\n"
     ]
    },
    {
     "name": "stderr",
     "output_type": "stream",
     "text": [
      "100%|██████████████████████████████████████████████████████████████████████| 999765/999765 [00:01<00:00, 838363.70it/s]\n"
     ]
    },
    {
     "name": "stdout",
     "output_type": "stream",
     "text": [
      "index: 258\n"
     ]
    },
    {
     "name": "stderr",
     "output_type": "stream",
     "text": [
      "100%|████████████████████████████████████████████████████████████████████| 1000303/1000303 [00:01<00:00, 838876.06it/s]\n"
     ]
    },
    {
     "name": "stdout",
     "output_type": "stream",
     "text": [
      "index: 259\n"
     ]
    },
    {
     "name": "stderr",
     "output_type": "stream",
     "text": [
      "100%|██████████████████████████████████████████████████████████████████████| 999840/999840 [00:01<00:00, 838923.23it/s]\n"
     ]
    },
    {
     "name": "stdout",
     "output_type": "stream",
     "text": [
      "index: 260\n"
     ]
    },
    {
     "name": "stderr",
     "output_type": "stream",
     "text": [
      "100%|██████████████████████████████████████████████████████████████████████| 999866/999866 [00:01<00:00, 846150.86it/s]\n"
     ]
    },
    {
     "name": "stdout",
     "output_type": "stream",
     "text": [
      "index: 261\n"
     ]
    },
    {
     "name": "stderr",
     "output_type": "stream",
     "text": [
      "100%|████████████████████████████████████████████████████████████████████| 1000135/1000135 [00:01<00:00, 895417.97it/s]\n"
     ]
    },
    {
     "name": "stdout",
     "output_type": "stream",
     "text": [
      "index: 262\n"
     ]
    },
    {
     "name": "stderr",
     "output_type": "stream",
     "text": [
      "100%|██████████████████████████████████████████████████████████████████████| 999742/999742 [00:01<00:00, 867721.55it/s]\n"
     ]
    },
    {
     "name": "stdout",
     "output_type": "stream",
     "text": [
      "index: 263\n"
     ]
    },
    {
     "name": "stderr",
     "output_type": "stream",
     "text": [
      "100%|██████████████████████████████████████████████████████████████████████| 999901/999901 [00:01<00:00, 823439.54it/s]\n"
     ]
    },
    {
     "name": "stdout",
     "output_type": "stream",
     "text": [
      "index: 264\n"
     ]
    },
    {
     "name": "stderr",
     "output_type": "stream",
     "text": [
      "100%|████████████████████████████████████████████████████████████████████| 1000557/1000557 [00:01<00:00, 836401.98it/s]\n"
     ]
    },
    {
     "name": "stdout",
     "output_type": "stream",
     "text": [
      "index: 265\n"
     ]
    },
    {
     "name": "stderr",
     "output_type": "stream",
     "text": [
      "100%|██████████████████████████████████████████████████████████████████████| 999651/999651 [00:01<00:00, 783650.15it/s]\n"
     ]
    },
    {
     "name": "stdout",
     "output_type": "stream",
     "text": [
      "index: 266\n"
     ]
    },
    {
     "name": "stderr",
     "output_type": "stream",
     "text": [
      "100%|████████████████████████████████████████████████████████████████████| 1000274/1000274 [00:01<00:00, 805180.78it/s]\n"
     ]
    },
    {
     "name": "stdout",
     "output_type": "stream",
     "text": [
      "index: 267\n"
     ]
    },
    {
     "name": "stderr",
     "output_type": "stream",
     "text": [
      "100%|██████████████████████████████████████████████████████████████████████| 999659/999659 [00:01<00:00, 827441.20it/s]\n"
     ]
    },
    {
     "name": "stdout",
     "output_type": "stream",
     "text": [
      "index: 268\n"
     ]
    },
    {
     "name": "stderr",
     "output_type": "stream",
     "text": [
      "100%|████████████████████████████████████████████████████████████████████| 1000297/1000297 [00:01<00:00, 846399.81it/s]\n"
     ]
    },
    {
     "name": "stdout",
     "output_type": "stream",
     "text": [
      "index: 269\n"
     ]
    },
    {
     "name": "stderr",
     "output_type": "stream",
     "text": [
      "100%|██████████████████████████████████████████████████████████████████████| 999962/999962 [00:01<00:00, 836163.57it/s]\n"
     ]
    },
    {
     "name": "stdout",
     "output_type": "stream",
     "text": [
      "index: 270\n"
     ]
    },
    {
     "name": "stderr",
     "output_type": "stream",
     "text": [
      "100%|██████████████████████████████████████████████████████████████████████| 999680/999680 [00:01<00:00, 862135.21it/s]\n"
     ]
    },
    {
     "name": "stdout",
     "output_type": "stream",
     "text": [
      "index: 271\n"
     ]
    },
    {
     "name": "stderr",
     "output_type": "stream",
     "text": [
      "100%|████████████████████████████████████████████████████████████████████| 1000446/1000446 [00:01<00:00, 792667.16it/s]\n"
     ]
    },
    {
     "name": "stdout",
     "output_type": "stream",
     "text": [
      "index: 272\n"
     ]
    },
    {
     "name": "stderr",
     "output_type": "stream",
     "text": [
      "100%|██████████████████████████████████████████████████████████████████████| 999933/999933 [00:01<00:00, 844001.62it/s]\n"
     ]
    },
    {
     "name": "stdout",
     "output_type": "stream",
     "text": [
      "index: 273\n"
     ]
    },
    {
     "name": "stderr",
     "output_type": "stream",
     "text": [
      "100%|██████████████████████████████████████████████████████████████████████| 999922/999922 [00:01<00:00, 840399.19it/s]\n"
     ]
    },
    {
     "name": "stdout",
     "output_type": "stream",
     "text": [
      "index: 274\n"
     ]
    },
    {
     "name": "stderr",
     "output_type": "stream",
     "text": [
      "100%|████████████████████████████████████████████████████████████████████| 1000066/1000066 [00:01<00:00, 869706.20it/s]\n"
     ]
    },
    {
     "name": "stdout",
     "output_type": "stream",
     "text": [
      "index: 275\n"
     ]
    },
    {
     "name": "stderr",
     "output_type": "stream",
     "text": [
      "100%|████████████████████████████████████████████████████████████████████| 1000083/1000083 [00:01<00:00, 822145.83it/s]\n"
     ]
    },
    {
     "name": "stdout",
     "output_type": "stream",
     "text": [
      "index: 276\n"
     ]
    },
    {
     "name": "stderr",
     "output_type": "stream",
     "text": [
      "100%|████████████████████████████████████████████████████████████████████| 1000008/1000008 [00:01<00:00, 868981.18it/s]\n"
     ]
    },
    {
     "name": "stdout",
     "output_type": "stream",
     "text": [
      "index: 277\n"
     ]
    },
    {
     "name": "stderr",
     "output_type": "stream",
     "text": [
      "100%|██████████████████████████████████████████████████████████████████████| 999708/999708 [00:01<00:00, 811140.26it/s]\n"
     ]
    },
    {
     "name": "stdout",
     "output_type": "stream",
     "text": [
      "index: 278\n"
     ]
    },
    {
     "name": "stderr",
     "output_type": "stream",
     "text": [
      "100%|████████████████████████████████████████████████████████████████████| 1000066/1000066 [00:01<00:00, 811277.25it/s]\n"
     ]
    },
    {
     "name": "stdout",
     "output_type": "stream",
     "text": [
      "index: 279\n"
     ]
    },
    {
     "name": "stderr",
     "output_type": "stream",
     "text": [
      "100%|████████████████████████████████████████████████████████████████████| 1000010/1000010 [00:01<00:00, 854347.92it/s]\n"
     ]
    },
    {
     "name": "stdout",
     "output_type": "stream",
     "text": [
      "index: 280\n"
     ]
    },
    {
     "name": "stderr",
     "output_type": "stream",
     "text": [
      "100%|██████████████████████████████████████████████████████████████████████| 999985/999985 [00:01<00:00, 815218.93it/s]\n"
     ]
    },
    {
     "name": "stdout",
     "output_type": "stream",
     "text": [
      "index: 281\n"
     ]
    },
    {
     "name": "stderr",
     "output_type": "stream",
     "text": [
      "100%|████████████████████████████████████████████████████████████████████| 1000227/1000227 [00:01<00:00, 816743.82it/s]\n"
     ]
    },
    {
     "name": "stdout",
     "output_type": "stream",
     "text": [
      "index: 282\n"
     ]
    },
    {
     "name": "stderr",
     "output_type": "stream",
     "text": [
      "100%|██████████████████████████████████████████████████████████████████████| 999649/999649 [00:01<00:00, 821551.53it/s]\n"
     ]
    },
    {
     "name": "stdout",
     "output_type": "stream",
     "text": [
      "index: 283\n"
     ]
    },
    {
     "name": "stderr",
     "output_type": "stream",
     "text": [
      "100%|████████████████████████████████████████████████████████████████████| 1000295/1000295 [00:01<00:00, 845893.86it/s]\n"
     ]
    },
    {
     "name": "stdout",
     "output_type": "stream",
     "text": [
      "index: 284\n"
     ]
    },
    {
     "name": "stderr",
     "output_type": "stream",
     "text": [
      "100%|██████████████████████████████████████████████████████████████████████| 999522/999522 [00:01<00:00, 816532.34it/s]\n"
     ]
    },
    {
     "name": "stdout",
     "output_type": "stream",
     "text": [
      "index: 285\n"
     ]
    },
    {
     "name": "stderr",
     "output_type": "stream",
     "text": [
      "100%|████████████████████████████████████████████████████████████████████| 1000496/1000496 [00:01<00:00, 825235.33it/s]\n"
     ]
    },
    {
     "name": "stdout",
     "output_type": "stream",
     "text": [
      "index: 286\n"
     ]
    },
    {
     "name": "stderr",
     "output_type": "stream",
     "text": [
      "100%|██████████████████████████████████████████████████████████████████████| 999849/999849 [00:01<00:00, 832270.39it/s]\n"
     ]
    },
    {
     "name": "stdout",
     "output_type": "stream",
     "text": [
      "index: 287\n"
     ]
    },
    {
     "name": "stderr",
     "output_type": "stream",
     "text": [
      "100%|████████████████████████████████████████████████████████████████████| 1000165/1000165 [00:01<00:00, 828431.41it/s]\n"
     ]
    },
    {
     "name": "stdout",
     "output_type": "stream",
     "text": [
      "index: 288\n"
     ]
    },
    {
     "name": "stderr",
     "output_type": "stream",
     "text": [
      "100%|██████████████████████████████████████████████████████████████████████| 999960/999960 [00:01<00:00, 846986.26it/s]\n"
     ]
    },
    {
     "name": "stdout",
     "output_type": "stream",
     "text": [
      "index: 289\n"
     ]
    },
    {
     "name": "stderr",
     "output_type": "stream",
     "text": [
      "100%|██████████████████████████████████████████████████████████████████████| 999735/999735 [00:01<00:00, 779457.42it/s]\n"
     ]
    },
    {
     "name": "stdout",
     "output_type": "stream",
     "text": [
      "index: 290\n"
     ]
    },
    {
     "name": "stderr",
     "output_type": "stream",
     "text": [
      "100%|████████████████████████████████████████████████████████████████████| 1000309/1000309 [00:01<00:00, 833718.35it/s]\n"
     ]
    },
    {
     "name": "stdout",
     "output_type": "stream",
     "text": [
      "index: 291\n"
     ]
    },
    {
     "name": "stderr",
     "output_type": "stream",
     "text": [
      "100%|██████████████████████████████████████████████████████████████████████| 999888/999888 [00:01<00:00, 800259.48it/s]\n"
     ]
    },
    {
     "name": "stdout",
     "output_type": "stream",
     "text": [
      "index: 292\n"
     ]
    },
    {
     "name": "stderr",
     "output_type": "stream",
     "text": [
      "100%|████████████████████████████████████████████████████████████████████| 1000003/1000003 [00:01<00:00, 816371.15it/s]\n"
     ]
    },
    {
     "name": "stdout",
     "output_type": "stream",
     "text": [
      "index: 293\n"
     ]
    },
    {
     "name": "stderr",
     "output_type": "stream",
     "text": [
      "100%|██████████████████████████████████████████████████████████████████████| 999886/999886 [00:01<00:00, 812173.63it/s]\n"
     ]
    },
    {
     "name": "stdout",
     "output_type": "stream",
     "text": [
      "index: 294\n"
     ]
    },
    {
     "name": "stderr",
     "output_type": "stream",
     "text": [
      "100%|████████████████████████████████████████████████████████████████████| 1000218/1000218 [00:01<00:00, 856048.74it/s]\n"
     ]
    },
    {
     "name": "stdout",
     "output_type": "stream",
     "text": [
      "index: 295\n"
     ]
    },
    {
     "name": "stderr",
     "output_type": "stream",
     "text": [
      "100%|██████████████████████████████████████████████████████████████████████| 999814/999814 [00:01<00:00, 839098.98it/s]\n"
     ]
    },
    {
     "name": "stdout",
     "output_type": "stream",
     "text": [
      "index: 296\n"
     ]
    },
    {
     "name": "stderr",
     "output_type": "stream",
     "text": [
      "100%|██████████████████████████████████████████████████████████████████████| 999918/999918 [00:01<00:00, 821697.90it/s]\n"
     ]
    },
    {
     "name": "stdout",
     "output_type": "stream",
     "text": [
      "index: 297\n"
     ]
    },
    {
     "name": "stderr",
     "output_type": "stream",
     "text": [
      "100%|████████████████████████████████████████████████████████████████████| 1000192/1000192 [00:01<00:00, 808442.99it/s]\n"
     ]
    },
    {
     "name": "stdout",
     "output_type": "stream",
     "text": [
      "index: 298\n"
     ]
    },
    {
     "name": "stderr",
     "output_type": "stream",
     "text": [
      "100%|██████████████████████████████████████████████████████████████████████| 999338/999338 [00:01<00:00, 857754.02it/s]\n"
     ]
    },
    {
     "name": "stdout",
     "output_type": "stream",
     "text": [
      "index: 299\n"
     ]
    },
    {
     "name": "stderr",
     "output_type": "stream",
     "text": [
      "100%|████████████████████████████████████████████████████████████████████| 1000487/1000487 [00:01<00:00, 818786.24it/s]\n"
     ]
    },
    {
     "name": "stdout",
     "output_type": "stream",
     "text": [
      "index: 300\n"
     ]
    },
    {
     "name": "stderr",
     "output_type": "stream",
     "text": [
      "100%|████████████████████████████████████████████████████████████████████| 1000151/1000151 [00:01<00:00, 792967.59it/s]\n"
     ]
    },
    {
     "name": "stdout",
     "output_type": "stream",
     "text": [
      "index: 301\n"
     ]
    },
    {
     "name": "stderr",
     "output_type": "stream",
     "text": [
      "100%|██████████████████████████████████████████████████████████████████████| 999876/999876 [00:01<00:00, 785432.36it/s]\n"
     ]
    },
    {
     "name": "stdout",
     "output_type": "stream",
     "text": [
      "index: 302\n"
     ]
    },
    {
     "name": "stderr",
     "output_type": "stream",
     "text": [
      "100%|████████████████████████████████████████████████████████████████████| 1000199/1000199 [00:01<00:00, 791791.36it/s]\n"
     ]
    },
    {
     "name": "stdout",
     "output_type": "stream",
     "text": [
      "index: 303\n"
     ]
    },
    {
     "name": "stderr",
     "output_type": "stream",
     "text": [
      "100%|████████████████████████████████████████████████████████████████████| 1000069/1000069 [00:01<00:00, 821893.33it/s]\n"
     ]
    },
    {
     "name": "stdout",
     "output_type": "stream",
     "text": [
      "index: 304\n"
     ]
    },
    {
     "name": "stderr",
     "output_type": "stream",
     "text": [
      "100%|██████████████████████████████████████████████████████████████████████| 999324/999324 [00:01<00:00, 849632.41it/s]\n"
     ]
    },
    {
     "name": "stdout",
     "output_type": "stream",
     "text": [
      "index: 305\n"
     ]
    },
    {
     "name": "stderr",
     "output_type": "stream",
     "text": [
      "100%|████████████████████████████████████████████████████████████████████| 1000148/1000148 [00:01<00:00, 807721.91it/s]\n"
     ]
    },
    {
     "name": "stdout",
     "output_type": "stream",
     "text": [
      "index: 306\n"
     ]
    },
    {
     "name": "stderr",
     "output_type": "stream",
     "text": [
      "100%|████████████████████████████████████████████████████████████████████| 1000266/1000266 [00:01<00:00, 835695.69it/s]\n"
     ]
    },
    {
     "name": "stdout",
     "output_type": "stream",
     "text": [
      "index: 307\n"
     ]
    },
    {
     "name": "stderr",
     "output_type": "stream",
     "text": [
      "100%|████████████████████████████████████████████████████████████████████| 1000187/1000187 [00:01<00:00, 828075.80it/s]\n"
     ]
    },
    {
     "name": "stdout",
     "output_type": "stream",
     "text": [
      "index: 308\n"
     ]
    },
    {
     "name": "stderr",
     "output_type": "stream",
     "text": [
      "100%|██████████████████████████████████████████████████████████████████████| 999801/999801 [00:01<00:00, 826803.44it/s]\n"
     ]
    },
    {
     "name": "stdout",
     "output_type": "stream",
     "text": [
      "index: 309\n"
     ]
    },
    {
     "name": "stderr",
     "output_type": "stream",
     "text": [
      "100%|████████████████████████████████████████████████████████████████████| 1000210/1000210 [00:01<00:00, 817129.87it/s]\n"
     ]
    },
    {
     "name": "stdout",
     "output_type": "stream",
     "text": [
      "index: 310\n"
     ]
    },
    {
     "name": "stderr",
     "output_type": "stream",
     "text": [
      "100%|██████████████████████████████████████████████████████████████████████| 999707/999707 [00:01<00:00, 848292.85it/s]\n"
     ]
    },
    {
     "name": "stdout",
     "output_type": "stream",
     "text": [
      "index: 311\n"
     ]
    },
    {
     "name": "stderr",
     "output_type": "stream",
     "text": [
      "100%|████████████████████████████████████████████████████████████████████| 1000187/1000187 [00:01<00:00, 820004.55it/s]\n"
     ]
    },
    {
     "name": "stdout",
     "output_type": "stream",
     "text": [
      "index: 312\n"
     ]
    },
    {
     "name": "stderr",
     "output_type": "stream",
     "text": [
      "100%|████████████████████████████████████████████████████████████████████| 1000112/1000112 [00:01<00:00, 847029.14it/s]\n"
     ]
    },
    {
     "name": "stdout",
     "output_type": "stream",
     "text": [
      "index: 313\n"
     ]
    },
    {
     "name": "stderr",
     "output_type": "stream",
     "text": [
      "100%|██████████████████████████████████████████████████████████████████████| 999934/999934 [00:01<00:00, 805579.78it/s]\n"
     ]
    },
    {
     "name": "stdout",
     "output_type": "stream",
     "text": [
      "index: 314\n"
     ]
    },
    {
     "name": "stderr",
     "output_type": "stream",
     "text": [
      "100%|████████████████████████████████████████████████████████████████████| 1000112/1000112 [00:01<00:00, 856849.54it/s]\n"
     ]
    },
    {
     "name": "stdout",
     "output_type": "stream",
     "text": [
      "index: 315\n"
     ]
    },
    {
     "name": "stderr",
     "output_type": "stream",
     "text": [
      "100%|██████████████████████████████████████████████████████████████████████| 999716/999716 [00:01<00:00, 849813.93it/s]\n"
     ]
    },
    {
     "name": "stdout",
     "output_type": "stream",
     "text": [
      "index: 316\n"
     ]
    },
    {
     "name": "stderr",
     "output_type": "stream",
     "text": [
      "100%|██████████████████████████████████████████████████████████████████████| 999442/999442 [00:01<00:00, 810768.22it/s]\n"
     ]
    },
    {
     "name": "stdout",
     "output_type": "stream",
     "text": [
      "index: 317\n"
     ]
    },
    {
     "name": "stderr",
     "output_type": "stream",
     "text": [
      "100%|████████████████████████████████████████████████████████████████████| 1000268/1000268 [00:01<00:00, 873631.27it/s]\n"
     ]
    },
    {
     "name": "stdout",
     "output_type": "stream",
     "text": [
      "index: 318\n"
     ]
    },
    {
     "name": "stderr",
     "output_type": "stream",
     "text": [
      "100%|████████████████████████████████████████████████████████████████████| 1000379/1000379 [00:01<00:00, 818388.71it/s]\n"
     ]
    },
    {
     "name": "stdout",
     "output_type": "stream",
     "text": [
      "index: 319\n"
     ]
    },
    {
     "name": "stderr",
     "output_type": "stream",
     "text": [
      "100%|██████████████████████████████████████████████████████████████████████| 999974/999974 [00:01<00:00, 783910.83it/s]\n"
     ]
    },
    {
     "name": "stdout",
     "output_type": "stream",
     "text": [
      "index: 320\n"
     ]
    },
    {
     "name": "stderr",
     "output_type": "stream",
     "text": [
      "100%|████████████████████████████████████████████████████████████████████| 1000235/1000235 [00:01<00:00, 835681.78it/s]\n"
     ]
    },
    {
     "name": "stdout",
     "output_type": "stream",
     "text": [
      "index: 321\n"
     ]
    },
    {
     "name": "stderr",
     "output_type": "stream",
     "text": [
      "100%|██████████████████████████████████████████████████████████████████████| 999983/999983 [00:01<00:00, 837619.93it/s]\n"
     ]
    },
    {
     "name": "stdout",
     "output_type": "stream",
     "text": [
      "index: 322\n"
     ]
    },
    {
     "name": "stderr",
     "output_type": "stream",
     "text": [
      "100%|██████████████████████████████████████████████████████████████████████| 999687/999687 [00:01<00:00, 817184.09it/s]\n"
     ]
    },
    {
     "name": "stdout",
     "output_type": "stream",
     "text": [
      "index: 323\n"
     ]
    },
    {
     "name": "stderr",
     "output_type": "stream",
     "text": [
      "100%|████████████████████████████████████████████████████████████████████| 1000036/1000036 [00:01<00:00, 822474.25it/s]\n"
     ]
    },
    {
     "name": "stdout",
     "output_type": "stream",
     "text": [
      "index: 324\n"
     ]
    },
    {
     "name": "stderr",
     "output_type": "stream",
     "text": [
      "100%|████████████████████████████████████████████████████████████████████| 1000112/1000112 [00:01<00:00, 823240.25it/s]\n"
     ]
    },
    {
     "name": "stdout",
     "output_type": "stream",
     "text": [
      "index: 325\n"
     ]
    },
    {
     "name": "stderr",
     "output_type": "stream",
     "text": [
      "100%|██████████████████████████████████████████████████████████████████████| 999831/999831 [00:01<00:00, 844734.39it/s]\n"
     ]
    },
    {
     "name": "stdout",
     "output_type": "stream",
     "text": [
      "index: 326\n"
     ]
    },
    {
     "name": "stderr",
     "output_type": "stream",
     "text": [
      "100%|████████████████████████████████████████████████████████████████████| 1000338/1000338 [00:01<00:00, 763499.27it/s]\n"
     ]
    },
    {
     "name": "stdout",
     "output_type": "stream",
     "text": [
      "index: 327\n"
     ]
    },
    {
     "name": "stderr",
     "output_type": "stream",
     "text": [
      "100%|██████████████████████████████████████████████████████████████████████| 999774/999774 [00:01<00:00, 849808.30it/s]\n"
     ]
    },
    {
     "name": "stdout",
     "output_type": "stream",
     "text": [
      "index: 328\n"
     ]
    },
    {
     "name": "stderr",
     "output_type": "stream",
     "text": [
      "100%|████████████████████████████████████████████████████████████████████| 1000077/1000077 [00:01<00:00, 851232.34it/s]\n"
     ]
    },
    {
     "name": "stdout",
     "output_type": "stream",
     "text": [
      "index: 329\n"
     ]
    },
    {
     "name": "stderr",
     "output_type": "stream",
     "text": [
      "100%|████████████████████████████████████████████████████████████████████| 1000098/1000098 [00:01<00:00, 803530.92it/s]\n"
     ]
    },
    {
     "name": "stdout",
     "output_type": "stream",
     "text": [
      "index: 330\n"
     ]
    },
    {
     "name": "stderr",
     "output_type": "stream",
     "text": [
      "100%|██████████████████████████████████████████████████████████████████████| 999716/999716 [00:01<00:00, 876069.63it/s]\n"
     ]
    },
    {
     "name": "stdout",
     "output_type": "stream",
     "text": [
      "index: 331\n"
     ]
    },
    {
     "name": "stderr",
     "output_type": "stream",
     "text": [
      "100%|████████████████████████████████████████████████████████████████████| 1000160/1000160 [00:01<00:00, 824662.71it/s]\n"
     ]
    },
    {
     "name": "stdout",
     "output_type": "stream",
     "text": [
      "index: 332\n"
     ]
    },
    {
     "name": "stderr",
     "output_type": "stream",
     "text": [
      "100%|████████████████████████████████████████████████████████████████████| 1000080/1000080 [00:01<00:00, 815298.60it/s]\n"
     ]
    },
    {
     "name": "stdout",
     "output_type": "stream",
     "text": [
      "index: 333\n"
     ]
    },
    {
     "name": "stderr",
     "output_type": "stream",
     "text": [
      "100%|██████████████████████████████████████████████████████████████████████| 999839/999839 [00:01<00:00, 845847.78it/s]\n"
     ]
    },
    {
     "name": "stdout",
     "output_type": "stream",
     "text": [
      "index: 334\n"
     ]
    },
    {
     "name": "stderr",
     "output_type": "stream",
     "text": [
      "100%|██████████████████████████████████████████████████████████████████████| 999984/999984 [00:01<00:00, 849255.69it/s]\n"
     ]
    },
    {
     "name": "stdout",
     "output_type": "stream",
     "text": [
      "index: 335\n"
     ]
    },
    {
     "name": "stderr",
     "output_type": "stream",
     "text": [
      "100%|██████████████████████████████████████████████████████████████████████| 999996/999996 [00:01<00:00, 830967.41it/s]\n"
     ]
    },
    {
     "name": "stdout",
     "output_type": "stream",
     "text": [
      "index: 336\n"
     ]
    },
    {
     "name": "stderr",
     "output_type": "stream",
     "text": [
      "100%|████████████████████████████████████████████████████████████████████| 1000051/1000051 [00:01<00:00, 821652.33it/s]\n"
     ]
    },
    {
     "name": "stdout",
     "output_type": "stream",
     "text": [
      "index: 337\n"
     ]
    },
    {
     "name": "stderr",
     "output_type": "stream",
     "text": [
      "100%|████████████████████████████████████████████████████████████████████| 1000197/1000197 [00:01<00:00, 819083.82it/s]\n"
     ]
    },
    {
     "name": "stdout",
     "output_type": "stream",
     "text": [
      "index: 338\n"
     ]
    },
    {
     "name": "stderr",
     "output_type": "stream",
     "text": [
      "100%|████████████████████████████████████████████████████████████████████| 1000041/1000041 [00:01<00:00, 821337.78it/s]\n"
     ]
    },
    {
     "name": "stdout",
     "output_type": "stream",
     "text": [
      "index: 339\n"
     ]
    },
    {
     "name": "stderr",
     "output_type": "stream",
     "text": [
      "100%|██████████████████████████████████████████████████████████████████████| 999811/999811 [00:01<00:00, 806294.07it/s]\n"
     ]
    },
    {
     "name": "stdout",
     "output_type": "stream",
     "text": [
      "index: 340\n"
     ]
    },
    {
     "name": "stderr",
     "output_type": "stream",
     "text": [
      "100%|████████████████████████████████████████████████████████████████████| 1000132/1000132 [00:01<00:00, 825241.00it/s]\n"
     ]
    },
    {
     "name": "stdout",
     "output_type": "stream",
     "text": [
      "index: 341\n"
     ]
    },
    {
     "name": "stderr",
     "output_type": "stream",
     "text": [
      "100%|██████████████████████████████████████████████████████████████████████| 999958/999958 [00:01<00:00, 809130.48it/s]\n"
     ]
    },
    {
     "name": "stdout",
     "output_type": "stream",
     "text": [
      "index: 342\n"
     ]
    },
    {
     "name": "stderr",
     "output_type": "stream",
     "text": [
      "100%|██████████████████████████████████████████████████████████████████████| 999495/999495 [00:01<00:00, 790400.58it/s]\n"
     ]
    },
    {
     "name": "stdout",
     "output_type": "stream",
     "text": [
      "index: 343\n"
     ]
    },
    {
     "name": "stderr",
     "output_type": "stream",
     "text": [
      "100%|████████████████████████████████████████████████████████████████████| 1000537/1000537 [00:01<00:00, 755836.80it/s]\n"
     ]
    },
    {
     "name": "stdout",
     "output_type": "stream",
     "text": [
      "index: 344\n"
     ]
    },
    {
     "name": "stderr",
     "output_type": "stream",
     "text": [
      "100%|████████████████████████████████████████████████████████████████████| 1000025/1000025 [00:01<00:00, 845675.76it/s]\n"
     ]
    },
    {
     "name": "stdout",
     "output_type": "stream",
     "text": [
      "index: 345\n"
     ]
    },
    {
     "name": "stderr",
     "output_type": "stream",
     "text": [
      "100%|██████████████████████████████████████████████████████████████████████| 999959/999959 [00:01<00:00, 807373.40it/s]\n"
     ]
    },
    {
     "name": "stdout",
     "output_type": "stream",
     "text": [
      "index: 346\n"
     ]
    },
    {
     "name": "stderr",
     "output_type": "stream",
     "text": [
      "100%|██████████████████████████████████████████████████████████████████████| 999894/999894 [00:01<00:00, 805218.27it/s]\n"
     ]
    },
    {
     "name": "stdout",
     "output_type": "stream",
     "text": [
      "index: 347\n"
     ]
    },
    {
     "name": "stderr",
     "output_type": "stream",
     "text": [
      "100%|████████████████████████████████████████████████████████████████████| 1000014/1000014 [00:01<00:00, 806644.36it/s]\n"
     ]
    },
    {
     "name": "stdout",
     "output_type": "stream",
     "text": [
      "index: 348\n"
     ]
    },
    {
     "name": "stderr",
     "output_type": "stream",
     "text": [
      "100%|██████████████████████████████████████████████████████████████████████| 999851/999851 [00:01<00:00, 810363.37it/s]\n"
     ]
    },
    {
     "name": "stdout",
     "output_type": "stream",
     "text": [
      "index: 349\n"
     ]
    },
    {
     "name": "stderr",
     "output_type": "stream",
     "text": [
      "100%|██████████████████████████████████████████████████████████████████████| 999610/999610 [00:01<00:00, 799190.61it/s]\n"
     ]
    },
    {
     "name": "stdout",
     "output_type": "stream",
     "text": [
      "index: 350\n"
     ]
    },
    {
     "name": "stderr",
     "output_type": "stream",
     "text": [
      "100%|████████████████████████████████████████████████████████████████████| 1000700/1000700 [00:01<00:00, 811768.17it/s]\n"
     ]
    },
    {
     "name": "stdout",
     "output_type": "stream",
     "text": [
      "index: 351\n"
     ]
    },
    {
     "name": "stderr",
     "output_type": "stream",
     "text": [
      "100%|██████████████████████████████████████████████████████████████████████| 999844/999844 [00:01<00:00, 847756.51it/s]\n"
     ]
    },
    {
     "name": "stdout",
     "output_type": "stream",
     "text": [
      "index: 352\n"
     ]
    },
    {
     "name": "stderr",
     "output_type": "stream",
     "text": [
      "100%|████████████████████████████████████████████████████████████████████| 1000128/1000128 [00:01<00:00, 814682.81it/s]\n"
     ]
    },
    {
     "name": "stdout",
     "output_type": "stream",
     "text": [
      "index: 353\n"
     ]
    },
    {
     "name": "stderr",
     "output_type": "stream",
     "text": [
      "100%|████████████████████████████████████████████████████████████████████| 1000027/1000027 [00:01<00:00, 790610.66it/s]\n"
     ]
    },
    {
     "name": "stdout",
     "output_type": "stream",
     "text": [
      "index: 354\n"
     ]
    },
    {
     "name": "stderr",
     "output_type": "stream",
     "text": [
      "100%|██████████████████████████████████████████████████████████████████████| 999652/999652 [00:01<00:00, 795222.11it/s]\n"
     ]
    },
    {
     "name": "stdout",
     "output_type": "stream",
     "text": [
      "index: 355\n"
     ]
    },
    {
     "name": "stderr",
     "output_type": "stream",
     "text": [
      "100%|████████████████████████████████████████████████████████████████████| 1000083/1000083 [00:01<00:00, 657335.97it/s]\n"
     ]
    },
    {
     "name": "stdout",
     "output_type": "stream",
     "text": [
      "index: 356\n"
     ]
    },
    {
     "name": "stderr",
     "output_type": "stream",
     "text": [
      "100%|████████████████████████████████████████████████████████████████████| 1000059/1000059 [00:01<00:00, 677988.72it/s]\n"
     ]
    },
    {
     "name": "stdout",
     "output_type": "stream",
     "text": [
      "index: 357\n"
     ]
    },
    {
     "name": "stderr",
     "output_type": "stream",
     "text": [
      "100%|██████████████████████████████████████████████████████████████████████| 999893/999893 [00:01<00:00, 712779.07it/s]\n"
     ]
    },
    {
     "name": "stdout",
     "output_type": "stream",
     "text": [
      "index: 358\n"
     ]
    },
    {
     "name": "stderr",
     "output_type": "stream",
     "text": [
      "100%|████████████████████████████████████████████████████████████████████| 1000050/1000050 [00:01<00:00, 678841.66it/s]\n"
     ]
    },
    {
     "name": "stdout",
     "output_type": "stream",
     "text": [
      "index: 359\n"
     ]
    },
    {
     "name": "stderr",
     "output_type": "stream",
     "text": [
      "100%|██████████████████████████████████████████████████████████████████████| 999868/999868 [00:01<00:00, 681318.49it/s]\n"
     ]
    },
    {
     "name": "stdout",
     "output_type": "stream",
     "text": [
      "index: 360\n"
     ]
    },
    {
     "name": "stderr",
     "output_type": "stream",
     "text": [
      "100%|████████████████████████████████████████████████████████████████████| 1000332/1000332 [00:01<00:00, 708063.92it/s]\n"
     ]
    },
    {
     "name": "stdout",
     "output_type": "stream",
     "text": [
      "index: 361\n"
     ]
    },
    {
     "name": "stderr",
     "output_type": "stream",
     "text": [
      "100%|██████████████████████████████████████████████████████████████████████| 999761/999761 [00:01<00:00, 716955.29it/s]\n"
     ]
    },
    {
     "name": "stdout",
     "output_type": "stream",
     "text": [
      "index: 362\n"
     ]
    },
    {
     "name": "stderr",
     "output_type": "stream",
     "text": [
      "100%|████████████████████████████████████████████████████████████████████| 1000288/1000288 [00:01<00:00, 714305.87it/s]\n"
     ]
    },
    {
     "name": "stdout",
     "output_type": "stream",
     "text": [
      "index: 363\n"
     ]
    },
    {
     "name": "stderr",
     "output_type": "stream",
     "text": [
      "100%|██████████████████████████████████████████████████████████████████████| 999848/999848 [00:01<00:00, 678868.35it/s]\n"
     ]
    },
    {
     "name": "stdout",
     "output_type": "stream",
     "text": [
      "index: 364\n"
     ]
    },
    {
     "name": "stderr",
     "output_type": "stream",
     "text": [
      "100%|██████████████████████████████████████████████████████████████████████| 999964/999964 [00:01<00:00, 776052.03it/s]\n"
     ]
    },
    {
     "name": "stdout",
     "output_type": "stream",
     "text": [
      "index: 365\n"
     ]
    },
    {
     "name": "stderr",
     "output_type": "stream",
     "text": [
      "100%|██████████████████████████████████████████████████████████████████████| 999853/999853 [00:01<00:00, 847350.29it/s]\n"
     ]
    },
    {
     "name": "stdout",
     "output_type": "stream",
     "text": [
      "index: 366\n"
     ]
    },
    {
     "name": "stderr",
     "output_type": "stream",
     "text": [
      "100%|████████████████████████████████████████████████████████████████████| 1000309/1000309 [00:01<00:00, 857510.52it/s]\n"
     ]
    },
    {
     "name": "stdout",
     "output_type": "stream",
     "text": [
      "index: 367\n"
     ]
    },
    {
     "name": "stderr",
     "output_type": "stream",
     "text": [
      "100%|██████████████████████████████████████████████████████████████████████| 999865/999865 [00:01<00:00, 821312.41it/s]\n"
     ]
    },
    {
     "name": "stdout",
     "output_type": "stream",
     "text": [
      "index: 368\n"
     ]
    },
    {
     "name": "stderr",
     "output_type": "stream",
     "text": [
      "100%|████████████████████████████████████████████████████████████████████| 1000131/1000131 [00:01<00:00, 821728.53it/s]\n"
     ]
    },
    {
     "name": "stdout",
     "output_type": "stream",
     "text": [
      "index: 369\n"
     ]
    },
    {
     "name": "stderr",
     "output_type": "stream",
     "text": [
      "100%|██████████████████████████████████████████████████████████████████████| 999790/999790 [00:01<00:00, 797784.77it/s]\n"
     ]
    },
    {
     "name": "stdout",
     "output_type": "stream",
     "text": [
      "index: 370\n"
     ]
    },
    {
     "name": "stderr",
     "output_type": "stream",
     "text": [
      "100%|████████████████████████████████████████████████████████████████████| 1000035/1000035 [00:01<00:00, 823705.64it/s]\n"
     ]
    },
    {
     "name": "stdout",
     "output_type": "stream",
     "text": [
      "index: 371\n"
     ]
    },
    {
     "name": "stderr",
     "output_type": "stream",
     "text": [
      "100%|████████████████████████████████████████████████████████████████████| 1000231/1000231 [00:01<00:00, 863379.25it/s]\n"
     ]
    },
    {
     "name": "stdout",
     "output_type": "stream",
     "text": [
      "index: 372\n"
     ]
    },
    {
     "name": "stderr",
     "output_type": "stream",
     "text": [
      "100%|██████████████████████████████████████████████████████████████████████| 999803/999803 [00:01<00:00, 812061.24it/s]\n"
     ]
    },
    {
     "name": "stdout",
     "output_type": "stream",
     "text": [
      "index: 373\n"
     ]
    },
    {
     "name": "stderr",
     "output_type": "stream",
     "text": [
      "100%|██████████████████████████████████████████████████████████████████████| 999976/999976 [00:01<00:00, 797139.59it/s]\n"
     ]
    },
    {
     "name": "stdout",
     "output_type": "stream",
     "text": [
      "index: 374\n"
     ]
    },
    {
     "name": "stderr",
     "output_type": "stream",
     "text": [
      "100%|████████████████████████████████████████████████████████████████████| 1000115/1000115 [00:01<00:00, 809969.12it/s]\n"
     ]
    },
    {
     "name": "stdout",
     "output_type": "stream",
     "text": [
      "index: 375\n"
     ]
    },
    {
     "name": "stderr",
     "output_type": "stream",
     "text": [
      "100%|██████████████████████████████████████████████████████████████████████| 999634/999634 [00:01<00:00, 813212.29it/s]\n"
     ]
    },
    {
     "name": "stdout",
     "output_type": "stream",
     "text": [
      "index: 376\n"
     ]
    },
    {
     "name": "stderr",
     "output_type": "stream",
     "text": [
      "100%|████████████████████████████████████████████████████████████████████| 1000229/1000229 [00:01<00:00, 827416.12it/s]\n"
     ]
    },
    {
     "name": "stdout",
     "output_type": "stream",
     "text": [
      "index: 377\n"
     ]
    },
    {
     "name": "stderr",
     "output_type": "stream",
     "text": [
      "100%|████████████████████████████████████████████████████████████████████| 1000198/1000198 [00:01<00:00, 819302.67it/s]\n"
     ]
    },
    {
     "name": "stdout",
     "output_type": "stream",
     "text": [
      "index: 378\n"
     ]
    },
    {
     "name": "stderr",
     "output_type": "stream",
     "text": [
      "100%|████████████████████████████████████████████████████████████████████| 1000006/1000006 [00:01<00:00, 827257.26it/s]\n"
     ]
    },
    {
     "name": "stdout",
     "output_type": "stream",
     "text": [
      "index: 379\n"
     ]
    },
    {
     "name": "stderr",
     "output_type": "stream",
     "text": [
      "100%|██████████████████████████████████████████████████████████████████████| 999791/999791 [00:01<00:00, 843862.57it/s]\n"
     ]
    },
    {
     "name": "stdout",
     "output_type": "stream",
     "text": [
      "index: 380\n"
     ]
    },
    {
     "name": "stderr",
     "output_type": "stream",
     "text": [
      "100%|██████████████████████████████████████████████████████████████████████| 999366/999366 [00:01<00:00, 856286.84it/s]\n"
     ]
    },
    {
     "name": "stdout",
     "output_type": "stream",
     "text": [
      "index: 381\n"
     ]
    },
    {
     "name": "stderr",
     "output_type": "stream",
     "text": [
      "100%|████████████████████████████████████████████████████████████████████| 1000790/1000790 [00:01<00:00, 822388.70it/s]\n"
     ]
    },
    {
     "name": "stdout",
     "output_type": "stream",
     "text": [
      "index: 382\n"
     ]
    },
    {
     "name": "stderr",
     "output_type": "stream",
     "text": [
      "100%|██████████████████████████████████████████████████████████████████████| 999941/999941 [00:01<00:00, 838403.00it/s]\n"
     ]
    },
    {
     "name": "stdout",
     "output_type": "stream",
     "text": [
      "index: 383\n"
     ]
    },
    {
     "name": "stderr",
     "output_type": "stream",
     "text": [
      "100%|████████████████████████████████████████████████████████████████████| 1000143/1000143 [00:01<00:00, 796057.35it/s]\n"
     ]
    },
    {
     "name": "stdout",
     "output_type": "stream",
     "text": [
      "index: 384\n"
     ]
    },
    {
     "name": "stderr",
     "output_type": "stream",
     "text": [
      "100%|██████████████████████████████████████████████████████████████████████| 999421/999421 [00:01<00:00, 761118.39it/s]\n"
     ]
    },
    {
     "name": "stdout",
     "output_type": "stream",
     "text": [
      "index: 385\n"
     ]
    },
    {
     "name": "stderr",
     "output_type": "stream",
     "text": [
      "100%|████████████████████████████████████████████████████████████████████| 1000206/1000206 [00:01<00:00, 801293.18it/s]\n"
     ]
    },
    {
     "name": "stdout",
     "output_type": "stream",
     "text": [
      "index: 386\n"
     ]
    },
    {
     "name": "stderr",
     "output_type": "stream",
     "text": [
      "100%|██████████████████████████████████████████████████████████████████████| 999946/999946 [00:01<00:00, 765926.00it/s]\n"
     ]
    },
    {
     "name": "stdout",
     "output_type": "stream",
     "text": [
      "index: 387\n"
     ]
    },
    {
     "name": "stderr",
     "output_type": "stream",
     "text": [
      "100%|████████████████████████████████████████████████████████████████████| 1000312/1000312 [00:01<00:00, 849548.87it/s]\n"
     ]
    },
    {
     "name": "stdout",
     "output_type": "stream",
     "text": [
      "index: 388\n"
     ]
    },
    {
     "name": "stderr",
     "output_type": "stream",
     "text": [
      "100%|██████████████████████████████████████████████████████████████████████| 999984/999984 [00:01<00:00, 786284.42it/s]\n"
     ]
    },
    {
     "name": "stdout",
     "output_type": "stream",
     "text": [
      "index: 389\n"
     ]
    },
    {
     "name": "stderr",
     "output_type": "stream",
     "text": [
      "100%|██████████████████████████████████████████████████████████████████████| 999866/999866 [00:01<00:00, 822773.42it/s]\n"
     ]
    },
    {
     "name": "stdout",
     "output_type": "stream",
     "text": [
      "index: 390\n"
     ]
    },
    {
     "name": "stderr",
     "output_type": "stream",
     "text": [
      "100%|████████████████████████████████████████████████████████████████████| 1000119/1000119 [00:01<00:00, 839277.03it/s]\n"
     ]
    },
    {
     "name": "stdout",
     "output_type": "stream",
     "text": [
      "index: 391\n"
     ]
    },
    {
     "name": "stderr",
     "output_type": "stream",
     "text": [
      "100%|████████████████████████████████████████████████████████████████████| 1000012/1000012 [00:01<00:00, 800539.28it/s]\n"
     ]
    },
    {
     "name": "stdout",
     "output_type": "stream",
     "text": [
      "index: 392\n"
     ]
    },
    {
     "name": "stderr",
     "output_type": "stream",
     "text": [
      "100%|██████████████████████████████████████████████████████████████████████| 999939/999939 [00:01<00:00, 847872.71it/s]\n"
     ]
    },
    {
     "name": "stdout",
     "output_type": "stream",
     "text": [
      "index: 393\n"
     ]
    },
    {
     "name": "stderr",
     "output_type": "stream",
     "text": [
      "100%|████████████████████████████████████████████████████████████████████| 1000036/1000036 [00:01<00:00, 815385.71it/s]\n"
     ]
    },
    {
     "name": "stdout",
     "output_type": "stream",
     "text": [
      "index: 394\n"
     ]
    },
    {
     "name": "stderr",
     "output_type": "stream",
     "text": [
      "100%|████████████████████████████████████████████████████████████████████| 1000008/1000008 [00:01<00:00, 876433.92it/s]\n"
     ]
    },
    {
     "name": "stdout",
     "output_type": "stream",
     "text": [
      "index: 395\n"
     ]
    },
    {
     "name": "stderr",
     "output_type": "stream",
     "text": [
      "100%|██████████████████████████████████████████████████████████████████████| 999656/999656 [00:01<00:00, 770997.82it/s]\n"
     ]
    },
    {
     "name": "stdout",
     "output_type": "stream",
     "text": [
      "index: 396\n"
     ]
    },
    {
     "name": "stderr",
     "output_type": "stream",
     "text": [
      "100%|████████████████████████████████████████████████████████████████████| 1000231/1000231 [00:01<00:00, 809929.82it/s]\n"
     ]
    },
    {
     "name": "stdout",
     "output_type": "stream",
     "text": [
      "index: 397\n"
     ]
    },
    {
     "name": "stderr",
     "output_type": "stream",
     "text": [
      "100%|██████████████████████████████████████████████████████████████████████| 999892/999892 [00:01<00:00, 801454.18it/s]\n"
     ]
    },
    {
     "name": "stdout",
     "output_type": "stream",
     "text": [
      "index: 398\n"
     ]
    },
    {
     "name": "stderr",
     "output_type": "stream",
     "text": [
      "100%|████████████████████████████████████████████████████████████████████| 1000098/1000098 [00:01<00:00, 840546.77it/s]\n"
     ]
    },
    {
     "name": "stdout",
     "output_type": "stream",
     "text": [
      "index: 399\n"
     ]
    },
    {
     "name": "stderr",
     "output_type": "stream",
     "text": [
      "100%|████████████████████████████████████████████████████████████████████| 1000093/1000093 [00:01<00:00, 845536.02it/s]\n"
     ]
    },
    {
     "name": "stdout",
     "output_type": "stream",
     "text": [
      "index: 400\n"
     ]
    },
    {
     "name": "stderr",
     "output_type": "stream",
     "text": [
      "100%|██████████████████████████████████████████████████████████████████████| 999997/999997 [00:01<00:00, 789171.42it/s]\n"
     ]
    },
    {
     "name": "stdout",
     "output_type": "stream",
     "text": [
      "index: 401\n"
     ]
    },
    {
     "name": "stderr",
     "output_type": "stream",
     "text": [
      "100%|██████████████████████████████████████████████████████████████████████| 999883/999883 [00:01<00:00, 833662.80it/s]\n"
     ]
    },
    {
     "name": "stdout",
     "output_type": "stream",
     "text": [
      "index: 402\n"
     ]
    },
    {
     "name": "stderr",
     "output_type": "stream",
     "text": [
      "100%|████████████████████████████████████████████████████████████████████| 1000101/1000101 [00:01<00:00, 822944.84it/s]\n"
     ]
    },
    {
     "name": "stdout",
     "output_type": "stream",
     "text": [
      "index: 403\n"
     ]
    },
    {
     "name": "stderr",
     "output_type": "stream",
     "text": [
      "100%|████████████████████████████████████████████████████████████████████| 1000144/1000144 [00:01<00:00, 828764.59it/s]\n"
     ]
    },
    {
     "name": "stdout",
     "output_type": "stream",
     "text": [
      "index: 404\n"
     ]
    },
    {
     "name": "stderr",
     "output_type": "stream",
     "text": [
      "100%|████████████████████████████████████████████████████████████████████| 1000021/1000021 [00:01<00:00, 818918.43it/s]\n"
     ]
    },
    {
     "name": "stdout",
     "output_type": "stream",
     "text": [
      "index: 405\n"
     ]
    },
    {
     "name": "stderr",
     "output_type": "stream",
     "text": [
      "100%|██████████████████████████████████████████████████████████████████████| 999797/999797 [00:01<00:00, 806445.75it/s]\n"
     ]
    },
    {
     "name": "stdout",
     "output_type": "stream",
     "text": [
      "index: 406\n"
     ]
    },
    {
     "name": "stderr",
     "output_type": "stream",
     "text": [
      "100%|████████████████████████████████████████████████████████████████████| 1000111/1000111 [00:01<00:00, 818208.24it/s]\n"
     ]
    },
    {
     "name": "stdout",
     "output_type": "stream",
     "text": [
      "index: 407\n"
     ]
    },
    {
     "name": "stderr",
     "output_type": "stream",
     "text": [
      "100%|████████████████████████████████████████████████████████████████████| 1000054/1000054 [00:01<00:00, 800765.02it/s]\n"
     ]
    },
    {
     "name": "stdout",
     "output_type": "stream",
     "text": [
      "index: 408\n"
     ]
    },
    {
     "name": "stderr",
     "output_type": "stream",
     "text": [
      "100%|████████████████████████████████████████████████████████████████████| 1000040/1000040 [00:01<00:00, 808330.26it/s]\n"
     ]
    },
    {
     "name": "stdout",
     "output_type": "stream",
     "text": [
      "index: 409\n"
     ]
    },
    {
     "name": "stderr",
     "output_type": "stream",
     "text": [
      "100%|████████████████████████████████████████████████████████████████████| 1000039/1000039 [00:01<00:00, 836939.10it/s]\n"
     ]
    },
    {
     "name": "stdout",
     "output_type": "stream",
     "text": [
      "index: 410\n"
     ]
    },
    {
     "name": "stderr",
     "output_type": "stream",
     "text": [
      "100%|██████████████████████████████████████████████████████████████████████| 999959/999959 [00:01<00:00, 759316.69it/s]\n"
     ]
    },
    {
     "name": "stdout",
     "output_type": "stream",
     "text": [
      "index: 411\n"
     ]
    },
    {
     "name": "stderr",
     "output_type": "stream",
     "text": [
      "100%|██████████████████████████████████████████████████████████████████████| 999897/999897 [00:01<00:00, 737348.82it/s]\n"
     ]
    },
    {
     "name": "stdout",
     "output_type": "stream",
     "text": [
      "index: 412\n"
     ]
    },
    {
     "name": "stderr",
     "output_type": "stream",
     "text": [
      "100%|██████████████████████████████████████████████████████████████████████| 999936/999936 [00:01<00:00, 801090.64it/s]\n"
     ]
    },
    {
     "name": "stdout",
     "output_type": "stream",
     "text": [
      "index: 413\n"
     ]
    },
    {
     "name": "stderr",
     "output_type": "stream",
     "text": [
      "100%|████████████████████████████████████████████████████████████████████| 1000168/1000168 [00:01<00:00, 825823.57it/s]\n"
     ]
    },
    {
     "name": "stdout",
     "output_type": "stream",
     "text": [
      "index: 414\n"
     ]
    },
    {
     "name": "stderr",
     "output_type": "stream",
     "text": [
      "100%|██████████████████████████████████████████████████████████████████████| 999299/999299 [00:01<00:00, 806086.53it/s]\n"
     ]
    },
    {
     "name": "stdout",
     "output_type": "stream",
     "text": [
      "index: 415\n"
     ]
    },
    {
     "name": "stderr",
     "output_type": "stream",
     "text": [
      "100%|████████████████████████████████████████████████████████████████████| 1000623/1000623 [00:01<00:00, 818703.45it/s]\n"
     ]
    },
    {
     "name": "stdout",
     "output_type": "stream",
     "text": [
      "index: 416\n"
     ]
    },
    {
     "name": "stderr",
     "output_type": "stream",
     "text": [
      "100%|████████████████████████████████████████████████████████████████████| 1000037/1000037 [00:01<00:00, 820688.48it/s]\n"
     ]
    },
    {
     "name": "stdout",
     "output_type": "stream",
     "text": [
      "index: 417\n"
     ]
    },
    {
     "name": "stderr",
     "output_type": "stream",
     "text": [
      "100%|██████████████████████████████████████████████████████████████████████| 999869/999869 [00:01<00:00, 828112.48it/s]\n"
     ]
    },
    {
     "name": "stdout",
     "output_type": "stream",
     "text": [
      "index: 418\n"
     ]
    },
    {
     "name": "stderr",
     "output_type": "stream",
     "text": [
      "100%|████████████████████████████████████████████████████████████████████| 1000125/1000125 [00:01<00:00, 852669.07it/s]\n"
     ]
    },
    {
     "name": "stdout",
     "output_type": "stream",
     "text": [
      "index: 419\n"
     ]
    },
    {
     "name": "stderr",
     "output_type": "stream",
     "text": [
      "100%|██████████████████████████████████████████████████████████████████████| 999794/999794 [00:01<00:00, 830350.94it/s]\n"
     ]
    },
    {
     "name": "stdout",
     "output_type": "stream",
     "text": [
      "index: 420\n"
     ]
    },
    {
     "name": "stderr",
     "output_type": "stream",
     "text": [
      "100%|████████████████████████████████████████████████████████████████████| 1000140/1000140 [00:01<00:00, 797338.66it/s]\n"
     ]
    },
    {
     "name": "stdout",
     "output_type": "stream",
     "text": [
      "index: 421\n"
     ]
    },
    {
     "name": "stderr",
     "output_type": "stream",
     "text": [
      "100%|████████████████████████████████████████████████████████████████████| 1000028/1000028 [00:01<00:00, 817172.35it/s]\n"
     ]
    },
    {
     "name": "stdout",
     "output_type": "stream",
     "text": [
      "index: 422\n"
     ]
    },
    {
     "name": "stderr",
     "output_type": "stream",
     "text": [
      "100%|████████████████████████████████████████████████████████████████████| 1000057/1000057 [00:01<00:00, 822481.20it/s]\n"
     ]
    },
    {
     "name": "stdout",
     "output_type": "stream",
     "text": [
      "index: 423\n"
     ]
    },
    {
     "name": "stderr",
     "output_type": "stream",
     "text": [
      "100%|██████████████████████████████████████████████████████████████████████| 999979/999979 [00:01<00:00, 786628.22it/s]\n"
     ]
    },
    {
     "name": "stdout",
     "output_type": "stream",
     "text": [
      "index: 424\n"
     ]
    },
    {
     "name": "stderr",
     "output_type": "stream",
     "text": [
      "100%|████████████████████████████████████████████████████████████████████| 1000064/1000064 [00:01<00:00, 836280.87it/s]\n"
     ]
    },
    {
     "name": "stdout",
     "output_type": "stream",
     "text": [
      "index: 425\n"
     ]
    },
    {
     "name": "stderr",
     "output_type": "stream",
     "text": [
      "100%|██████████████████████████████████████████████████████████████████████| 999913/999913 [00:01<00:00, 803293.95it/s]\n"
     ]
    },
    {
     "name": "stdout",
     "output_type": "stream",
     "text": [
      "index: 426\n"
     ]
    },
    {
     "name": "stderr",
     "output_type": "stream",
     "text": [
      "100%|████████████████████████████████████████████████████████████████████| 1000029/1000029 [00:01<00:00, 881894.41it/s]\n"
     ]
    },
    {
     "name": "stdout",
     "output_type": "stream",
     "text": [
      "index: 427\n"
     ]
    },
    {
     "name": "stderr",
     "output_type": "stream",
     "text": [
      "100%|██████████████████████████████████████████████████████████████████████| 999856/999856 [00:01<00:00, 811986.04it/s]\n"
     ]
    },
    {
     "name": "stdout",
     "output_type": "stream",
     "text": [
      "index: 428\n"
     ]
    },
    {
     "name": "stderr",
     "output_type": "stream",
     "text": [
      "100%|██████████████████████████████████████████████████████████████████████| 999574/999574 [00:01<00:00, 761021.97it/s]\n"
     ]
    },
    {
     "name": "stdout",
     "output_type": "stream",
     "text": [
      "index: 429\n"
     ]
    },
    {
     "name": "stderr",
     "output_type": "stream",
     "text": [
      "100%|████████████████████████████████████████████████████████████████████| 1000504/1000504 [00:01<00:00, 782194.79it/s]\n"
     ]
    },
    {
     "name": "stdout",
     "output_type": "stream",
     "text": [
      "index: 430\n"
     ]
    },
    {
     "name": "stderr",
     "output_type": "stream",
     "text": [
      "100%|████████████████████████████████████████████████████████████████████| 1000092/1000092 [00:01<00:00, 793140.91it/s]\n"
     ]
    },
    {
     "name": "stdout",
     "output_type": "stream",
     "text": [
      "index: 431\n"
     ]
    },
    {
     "name": "stderr",
     "output_type": "stream",
     "text": [
      "100%|██████████████████████████████████████████████████████████████████████| 999390/999390 [00:01<00:00, 775235.90it/s]\n"
     ]
    },
    {
     "name": "stdout",
     "output_type": "stream",
     "text": [
      "index: 432\n"
     ]
    },
    {
     "name": "stderr",
     "output_type": "stream",
     "text": [
      "100%|████████████████████████████████████████████████████████████████████| 1000586/1000586 [00:01<00:00, 808183.33it/s]\n"
     ]
    },
    {
     "name": "stdout",
     "output_type": "stream",
     "text": [
      "index: 433\n"
     ]
    },
    {
     "name": "stderr",
     "output_type": "stream",
     "text": [
      "100%|████████████████████████████████████████████████████████████████████| 1000030/1000030 [00:01<00:00, 774806.52it/s]\n"
     ]
    },
    {
     "name": "stdout",
     "output_type": "stream",
     "text": [
      "index: 434\n"
     ]
    },
    {
     "name": "stderr",
     "output_type": "stream",
     "text": [
      "100%|██████████████████████████████████████████████████████████████████████| 999971/999971 [00:01<00:00, 817346.79it/s]\n"
     ]
    },
    {
     "name": "stdout",
     "output_type": "stream",
     "text": [
      "index: 435\n"
     ]
    },
    {
     "name": "stderr",
     "output_type": "stream",
     "text": [
      "100%|██████████████████████████████████████████████████████████████████████| 999777/999777 [00:01<00:00, 794592.75it/s]\n"
     ]
    },
    {
     "name": "stdout",
     "output_type": "stream",
     "text": [
      "index: 436\n"
     ]
    },
    {
     "name": "stderr",
     "output_type": "stream",
     "text": [
      "100%|████████████████████████████████████████████████████████████████████| 1000078/1000078 [00:01<00:00, 790931.26it/s]\n"
     ]
    },
    {
     "name": "stdout",
     "output_type": "stream",
     "text": [
      "index: 437\n"
     ]
    },
    {
     "name": "stderr",
     "output_type": "stream",
     "text": [
      "100%|████████████████████████████████████████████████████████████████████| 1000094/1000094 [00:01<00:00, 802508.80it/s]\n"
     ]
    },
    {
     "name": "stdout",
     "output_type": "stream",
     "text": [
      "index: 438\n"
     ]
    },
    {
     "name": "stderr",
     "output_type": "stream",
     "text": [
      "100%|██████████████████████████████████████████████████████████████████████| 999983/999983 [00:01<00:00, 780879.66it/s]\n"
     ]
    },
    {
     "name": "stdout",
     "output_type": "stream",
     "text": [
      "index: 439\n"
     ]
    },
    {
     "name": "stderr",
     "output_type": "stream",
     "text": [
      "100%|██████████████████████████████████████████████████████████████████████| 999835/999835 [00:01<00:00, 808366.61it/s]\n"
     ]
    },
    {
     "name": "stdout",
     "output_type": "stream",
     "text": [
      "index: 440\n"
     ]
    },
    {
     "name": "stderr",
     "output_type": "stream",
     "text": [
      "100%|████████████████████████████████████████████████████████████████████| 1000289/1000289 [00:01<00:00, 796921.54it/s]\n"
     ]
    },
    {
     "name": "stdout",
     "output_type": "stream",
     "text": [
      "index: 441\n"
     ]
    },
    {
     "name": "stderr",
     "output_type": "stream",
     "text": [
      "100%|██████████████████████████████████████████████████████████████████████| 999971/999971 [00:01<00:00, 834428.85it/s]\n"
     ]
    },
    {
     "name": "stdout",
     "output_type": "stream",
     "text": [
      "index: 442\n"
     ]
    },
    {
     "name": "stderr",
     "output_type": "stream",
     "text": [
      "100%|██████████████████████████████████████████████████████████████████████| 999801/999801 [00:01<00:00, 774669.59it/s]\n"
     ]
    },
    {
     "name": "stdout",
     "output_type": "stream",
     "text": [
      "index: 443\n"
     ]
    },
    {
     "name": "stderr",
     "output_type": "stream",
     "text": [
      "100%|████████████████████████████████████████████████████████████████████| 1000104/1000104 [00:01<00:00, 800433.73it/s]\n"
     ]
    },
    {
     "name": "stdout",
     "output_type": "stream",
     "text": [
      "index: 444\n"
     ]
    },
    {
     "name": "stderr",
     "output_type": "stream",
     "text": [
      "100%|██████████████████████████████████████████████████████████████████████| 999938/999938 [00:01<00:00, 792323.19it/s]\n"
     ]
    },
    {
     "name": "stdout",
     "output_type": "stream",
     "text": [
      "index: 445\n"
     ]
    },
    {
     "name": "stderr",
     "output_type": "stream",
     "text": [
      "100%|████████████████████████████████████████████████████████████████████| 1000000/1000000 [00:01<00:00, 833885.84it/s]\n"
     ]
    },
    {
     "name": "stdout",
     "output_type": "stream",
     "text": [
      "index: 446\n"
     ]
    },
    {
     "name": "stderr",
     "output_type": "stream",
     "text": [
      "100%|████████████████████████████████████████████████████████████████████| 1000097/1000097 [00:01<00:00, 792333.32it/s]\n"
     ]
    },
    {
     "name": "stdout",
     "output_type": "stream",
     "text": [
      "index: 447\n"
     ]
    },
    {
     "name": "stderr",
     "output_type": "stream",
     "text": [
      "100%|██████████████████████████████████████████████████████████████████████| 999793/999793 [00:01<00:00, 834369.63it/s]\n"
     ]
    },
    {
     "name": "stdout",
     "output_type": "stream",
     "text": [
      "index: 448\n"
     ]
    },
    {
     "name": "stderr",
     "output_type": "stream",
     "text": [
      "100%|████████████████████████████████████████████████████████████████████| 1000295/1000295 [00:01<00:00, 789559.61it/s]\n"
     ]
    },
    {
     "name": "stdout",
     "output_type": "stream",
     "text": [
      "index: 449\n"
     ]
    },
    {
     "name": "stderr",
     "output_type": "stream",
     "text": [
      "100%|██████████████████████████████████████████████████████████████████████| 999773/999773 [00:01<00:00, 803827.82it/s]\n"
     ]
    },
    {
     "name": "stdout",
     "output_type": "stream",
     "text": [
      "index: 450\n"
     ]
    },
    {
     "name": "stderr",
     "output_type": "stream",
     "text": [
      "100%|██████████████████████████████████████████████████████████████████████| 999980/999980 [00:01<00:00, 824995.65it/s]\n"
     ]
    },
    {
     "name": "stdout",
     "output_type": "stream",
     "text": [
      "index: 451\n"
     ]
    },
    {
     "name": "stderr",
     "output_type": "stream",
     "text": [
      "100%|████████████████████████████████████████████████████████████████████| 1000144/1000144 [00:01<00:00, 779615.15it/s]\n"
     ]
    },
    {
     "name": "stdout",
     "output_type": "stream",
     "text": [
      "index: 452\n"
     ]
    },
    {
     "name": "stderr",
     "output_type": "stream",
     "text": [
      "100%|████████████████████████████████████████████████████████████████████| 1000115/1000115 [00:01<00:00, 834202.98it/s]\n"
     ]
    },
    {
     "name": "stdout",
     "output_type": "stream",
     "text": [
      "index: 453\n"
     ]
    },
    {
     "name": "stderr",
     "output_type": "stream",
     "text": [
      "100%|██████████████████████████████████████████████████████████████████████| 999538/999538 [00:01<00:00, 803158.37it/s]\n"
     ]
    },
    {
     "name": "stdout",
     "output_type": "stream",
     "text": [
      "index: 454\n"
     ]
    },
    {
     "name": "stderr",
     "output_type": "stream",
     "text": [
      "100%|████████████████████████████████████████████████████████████████████| 1000312/1000312 [00:01<00:00, 777633.35it/s]\n"
     ]
    },
    {
     "name": "stdout",
     "output_type": "stream",
     "text": [
      "index: 455\n"
     ]
    },
    {
     "name": "stderr",
     "output_type": "stream",
     "text": [
      "100%|████████████████████████████████████████████████████████████████████| 1000127/1000127 [00:01<00:00, 811437.69it/s]\n"
     ]
    },
    {
     "name": "stdout",
     "output_type": "stream",
     "text": [
      "index: 456\n"
     ]
    },
    {
     "name": "stderr",
     "output_type": "stream",
     "text": [
      "100%|██████████████████████████████████████████████████████████████████████| 999907/999907 [00:01<00:00, 818124.65it/s]\n"
     ]
    },
    {
     "name": "stdout",
     "output_type": "stream",
     "text": [
      "index: 457\n"
     ]
    },
    {
     "name": "stderr",
     "output_type": "stream",
     "text": [
      "100%|██████████████████████████████████████████████████████████████████████| 999999/999999 [00:01<00:00, 806660.80it/s]\n"
     ]
    },
    {
     "name": "stdout",
     "output_type": "stream",
     "text": [
      "index: 458\n"
     ]
    },
    {
     "name": "stderr",
     "output_type": "stream",
     "text": [
      "100%|████████████████████████████████████████████████████████████████████| 1000036/1000036 [00:01<00:00, 831372.56it/s]\n"
     ]
    },
    {
     "name": "stdout",
     "output_type": "stream",
     "text": [
      "index: 459\n"
     ]
    },
    {
     "name": "stderr",
     "output_type": "stream",
     "text": [
      "100%|██████████████████████████████████████████████████████████████████████| 999959/999959 [00:01<00:00, 847393.04it/s]\n"
     ]
    },
    {
     "name": "stdout",
     "output_type": "stream",
     "text": [
      "index: 460\n"
     ]
    },
    {
     "name": "stderr",
     "output_type": "stream",
     "text": [
      "100%|██████████████████████████████████████████████████████████████████████| 999321/999321 [00:01<00:00, 818991.35it/s]\n"
     ]
    },
    {
     "name": "stdout",
     "output_type": "stream",
     "text": [
      "index: 461\n"
     ]
    },
    {
     "name": "stderr",
     "output_type": "stream",
     "text": [
      "100%|████████████████████████████████████████████████████████████████████| 1000817/1000817 [00:01<00:00, 855004.63it/s]\n"
     ]
    },
    {
     "name": "stdout",
     "output_type": "stream",
     "text": [
      "index: 462\n"
     ]
    },
    {
     "name": "stderr",
     "output_type": "stream",
     "text": [
      "100%|██████████████████████████████████████████████████████████████████████| 999671/999671 [00:01<00:00, 831851.31it/s]\n"
     ]
    },
    {
     "name": "stdout",
     "output_type": "stream",
     "text": [
      "index: 463\n"
     ]
    },
    {
     "name": "stderr",
     "output_type": "stream",
     "text": [
      "100%|████████████████████████████████████████████████████████████████████| 1000294/1000294 [00:01<00:00, 739751.54it/s]\n"
     ]
    },
    {
     "name": "stdout",
     "output_type": "stream",
     "text": [
      "index: 464\n"
     ]
    },
    {
     "name": "stderr",
     "output_type": "stream",
     "text": [
      "100%|██████████████████████████████████████████████████████████████████████| 999771/999771 [00:01<00:00, 821553.76it/s]\n"
     ]
    },
    {
     "name": "stdout",
     "output_type": "stream",
     "text": [
      "index: 465\n"
     ]
    },
    {
     "name": "stderr",
     "output_type": "stream",
     "text": [
      "100%|████████████████████████████████████████████████████████████████████| 1000203/1000203 [00:01<00:00, 857096.28it/s]\n"
     ]
    },
    {
     "name": "stdout",
     "output_type": "stream",
     "text": [
      "index: 466\n"
     ]
    },
    {
     "name": "stderr",
     "output_type": "stream",
     "text": [
      "100%|██████████████████████████████████████████████████████████████████████| 999807/999807 [00:01<00:00, 860016.47it/s]\n"
     ]
    },
    {
     "name": "stdout",
     "output_type": "stream",
     "text": [
      "index: 467\n"
     ]
    },
    {
     "name": "stderr",
     "output_type": "stream",
     "text": [
      "100%|████████████████████████████████████████████████████████████████████| 1000111/1000111 [00:01<00:00, 803481.80it/s]\n"
     ]
    },
    {
     "name": "stdout",
     "output_type": "stream",
     "text": [
      "index: 468\n"
     ]
    },
    {
     "name": "stderr",
     "output_type": "stream",
     "text": [
      "100%|████████████████████████████████████████████████████████████████████| 1000009/1000009 [00:01<00:00, 810520.09it/s]\n"
     ]
    },
    {
     "name": "stdout",
     "output_type": "stream",
     "text": [
      "index: 469\n"
     ]
    },
    {
     "name": "stderr",
     "output_type": "stream",
     "text": [
      "100%|████████████████████████████████████████████████████████████████████| 1000124/1000124 [00:01<00:00, 831020.10it/s]\n"
     ]
    },
    {
     "name": "stdout",
     "output_type": "stream",
     "text": [
      "index: 470\n"
     ]
    },
    {
     "name": "stderr",
     "output_type": "stream",
     "text": [
      "100%|██████████████████████████████████████████████████████████████████████| 999701/999701 [00:01<00:00, 831137.88it/s]\n"
     ]
    },
    {
     "name": "stdout",
     "output_type": "stream",
     "text": [
      "index: 471\n"
     ]
    },
    {
     "name": "stderr",
     "output_type": "stream",
     "text": [
      "100%|██████████████████████████████████████████████████████████████████████| 999758/999758 [00:01<00:00, 825149.76it/s]\n"
     ]
    },
    {
     "name": "stdout",
     "output_type": "stream",
     "text": [
      "index: 472\n"
     ]
    },
    {
     "name": "stderr",
     "output_type": "stream",
     "text": [
      "100%|████████████████████████████████████████████████████████████████████| 1000399/1000399 [00:01<00:00, 813008.97it/s]\n"
     ]
    },
    {
     "name": "stdout",
     "output_type": "stream",
     "text": [
      "index: 473\n"
     ]
    },
    {
     "name": "stderr",
     "output_type": "stream",
     "text": [
      "100%|████████████████████████████████████████████████████████████████████| 1000004/1000004 [00:01<00:00, 816138.93it/s]\n"
     ]
    },
    {
     "name": "stdout",
     "output_type": "stream",
     "text": [
      "index: 474\n"
     ]
    },
    {
     "name": "stderr",
     "output_type": "stream",
     "text": [
      "100%|██████████████████████████████████████████████████████████████████████| 999529/999529 [00:01<00:00, 820425.04it/s]\n"
     ]
    },
    {
     "name": "stdout",
     "output_type": "stream",
     "text": [
      "index: 475\n"
     ]
    },
    {
     "name": "stderr",
     "output_type": "stream",
     "text": [
      "100%|██████████████████████████████████████████████████████████████████████| 999867/999867 [00:01<00:00, 828498.88it/s]\n"
     ]
    },
    {
     "name": "stdout",
     "output_type": "stream",
     "text": [
      "index: 476\n"
     ]
    },
    {
     "name": "stderr",
     "output_type": "stream",
     "text": [
      "100%|████████████████████████████████████████████████████████████████████| 1000665/1000665 [00:01<00:00, 809389.01it/s]\n"
     ]
    },
    {
     "name": "stdout",
     "output_type": "stream",
     "text": [
      "index: 477\n"
     ]
    },
    {
     "name": "stderr",
     "output_type": "stream",
     "text": [
      "100%|██████████████████████████████████████████████████████████████████████| 999822/999822 [00:01<00:00, 774339.12it/s]\n"
     ]
    },
    {
     "name": "stdout",
     "output_type": "stream",
     "text": [
      "index: 478\n"
     ]
    },
    {
     "name": "stderr",
     "output_type": "stream",
     "text": [
      "100%|██████████████████████████████████████████████████████████████████████| 999984/999984 [00:01<00:00, 824153.22it/s]\n"
     ]
    },
    {
     "name": "stdout",
     "output_type": "stream",
     "text": [
      "index: 479\n"
     ]
    },
    {
     "name": "stderr",
     "output_type": "stream",
     "text": [
      "100%|██████████████████████████████████████████████████████████████████████| 999996/999996 [00:01<00:00, 813980.41it/s]\n"
     ]
    },
    {
     "name": "stdout",
     "output_type": "stream",
     "text": [
      "index: 480\n"
     ]
    },
    {
     "name": "stderr",
     "output_type": "stream",
     "text": [
      "100%|████████████████████████████████████████████████████████████████████| 1000150/1000150 [00:01<00:00, 785898.99it/s]\n"
     ]
    },
    {
     "name": "stdout",
     "output_type": "stream",
     "text": [
      "index: 481\n"
     ]
    },
    {
     "name": "stderr",
     "output_type": "stream",
     "text": [
      "100%|████████████████████████████████████████████████████████████████████| 1000123/1000123 [00:01<00:00, 827877.54it/s]\n"
     ]
    },
    {
     "name": "stdout",
     "output_type": "stream",
     "text": [
      "index: 482\n"
     ]
    },
    {
     "name": "stderr",
     "output_type": "stream",
     "text": [
      "100%|██████████████████████████████████████████████████████████████████████| 999871/999871 [00:01<00:00, 803932.96it/s]\n"
     ]
    },
    {
     "name": "stdout",
     "output_type": "stream",
     "text": [
      "index: 483\n"
     ]
    },
    {
     "name": "stderr",
     "output_type": "stream",
     "text": [
      "100%|██████████████████████████████████████████████████████████████████████| 999499/999499 [00:01<00:00, 786775.94it/s]\n"
     ]
    },
    {
     "name": "stdout",
     "output_type": "stream",
     "text": [
      "index: 484\n"
     ]
    },
    {
     "name": "stderr",
     "output_type": "stream",
     "text": [
      "100%|████████████████████████████████████████████████████████████████████| 1000431/1000431 [00:01<00:00, 788768.16it/s]\n"
     ]
    },
    {
     "name": "stdout",
     "output_type": "stream",
     "text": [
      "index: 485\n"
     ]
    },
    {
     "name": "stderr",
     "output_type": "stream",
     "text": [
      "100%|██████████████████████████████████████████████████████████████████████| 999756/999756 [00:01<00:00, 802811.70it/s]\n"
     ]
    },
    {
     "name": "stdout",
     "output_type": "stream",
     "text": [
      "index: 486\n"
     ]
    },
    {
     "name": "stderr",
     "output_type": "stream",
     "text": [
      "100%|████████████████████████████████████████████████████████████████████| 1000403/1000403 [00:01<00:00, 793022.13it/s]\n"
     ]
    },
    {
     "name": "stdout",
     "output_type": "stream",
     "text": [
      "index: 487\n"
     ]
    },
    {
     "name": "stderr",
     "output_type": "stream",
     "text": [
      "100%|████████████████████████████████████████████████████████████████████| 1000029/1000029 [00:01<00:00, 727499.31it/s]\n"
     ]
    },
    {
     "name": "stdout",
     "output_type": "stream",
     "text": [
      "index: 488\n"
     ]
    },
    {
     "name": "stderr",
     "output_type": "stream",
     "text": [
      "100%|██████████████████████████████████████████████████████████████████████| 999962/999962 [00:01<00:00, 782893.09it/s]\n"
     ]
    },
    {
     "name": "stdout",
     "output_type": "stream",
     "text": [
      "index: 489\n"
     ]
    },
    {
     "name": "stderr",
     "output_type": "stream",
     "text": [
      "100%|████████████████████████████████████████████████████████████████████| 1000001/1000001 [00:01<00:00, 807659.34it/s]\n"
     ]
    },
    {
     "name": "stdout",
     "output_type": "stream",
     "text": [
      "index: 490\n"
     ]
    },
    {
     "name": "stderr",
     "output_type": "stream",
     "text": [
      "100%|██████████████████████████████████████████████████████████████████████| 999879/999879 [00:01<00:00, 813292.98it/s]\n"
     ]
    },
    {
     "name": "stdout",
     "output_type": "stream",
     "text": [
      "index: 491\n"
     ]
    },
    {
     "name": "stderr",
     "output_type": "stream",
     "text": [
      "100%|████████████████████████████████████████████████████████████████████| 1000043/1000043 [00:01<00:00, 809820.43it/s]\n"
     ]
    },
    {
     "name": "stdout",
     "output_type": "stream",
     "text": [
      "index: 492\n"
     ]
    },
    {
     "name": "stderr",
     "output_type": "stream",
     "text": [
      "100%|██████████████████████████████████████████████████████████████████████| 999940/999940 [00:01<00:00, 802967.29it/s]\n"
     ]
    },
    {
     "name": "stdout",
     "output_type": "stream",
     "text": [
      "index: 493\n"
     ]
    },
    {
     "name": "stderr",
     "output_type": "stream",
     "text": [
      "100%|██████████████████████████████████████████████████████████████████████| 999981/999981 [00:01<00:00, 837441.64it/s]\n"
     ]
    },
    {
     "name": "stdout",
     "output_type": "stream",
     "text": [
      "index: 494\n"
     ]
    },
    {
     "name": "stderr",
     "output_type": "stream",
     "text": [
      "100%|██████████████████████████████████████████████████████████████████████| 999605/999605 [00:01<00:00, 804352.67it/s]\n"
     ]
    },
    {
     "name": "stdout",
     "output_type": "stream",
     "text": [
      "index: 495\n"
     ]
    },
    {
     "name": "stderr",
     "output_type": "stream",
     "text": [
      "100%|████████████████████████████████████████████████████████████████████| 1000610/1000610 [00:01<00:00, 815193.22it/s]\n"
     ]
    },
    {
     "name": "stdout",
     "output_type": "stream",
     "text": [
      "index: 496\n"
     ]
    },
    {
     "name": "stderr",
     "output_type": "stream",
     "text": [
      "100%|██████████████████████████████████████████████████████████████████████| 999624/999624 [00:01<00:00, 802052.79it/s]\n"
     ]
    },
    {
     "name": "stdout",
     "output_type": "stream",
     "text": [
      "index: 497\n"
     ]
    },
    {
     "name": "stderr",
     "output_type": "stream",
     "text": [
      "100%|████████████████████████████████████████████████████████████████████| 1000082/1000082 [00:01<00:00, 804807.98it/s]\n"
     ]
    },
    {
     "name": "stdout",
     "output_type": "stream",
     "text": [
      "index: 498\n"
     ]
    },
    {
     "name": "stderr",
     "output_type": "stream",
     "text": [
      "100%|██████████████████████████████████████████████████████████████████████| 999929/999929 [00:01<00:00, 841791.45it/s]\n"
     ]
    },
    {
     "name": "stdout",
     "output_type": "stream",
     "text": [
      "index: 499\n"
     ]
    },
    {
     "name": "stderr",
     "output_type": "stream",
     "text": [
      "100%|████████████████████████████████████████████████████████████████████| 1000290/1000290 [00:01<00:00, 812753.15it/s]\n"
     ]
    },
    {
     "name": "stdout",
     "output_type": "stream",
     "text": [
      "index: 500\n"
     ]
    },
    {
     "name": "stderr",
     "output_type": "stream",
     "text": [
      "100%|██████████████████████████████████████████████████████████████████████| 999844/999844 [00:01<00:00, 806848.61it/s]\n"
     ]
    },
    {
     "name": "stdout",
     "output_type": "stream",
     "text": [
      "index: 501\n"
     ]
    },
    {
     "name": "stderr",
     "output_type": "stream",
     "text": [
      "100%|██████████████████████████████████████████████████████████████████████| 999940/999940 [00:01<00:00, 810838.64it/s]\n"
     ]
    },
    {
     "name": "stdout",
     "output_type": "stream",
     "text": [
      "index: 502\n"
     ]
    },
    {
     "name": "stderr",
     "output_type": "stream",
     "text": [
      "100%|████████████████████████████████████████████████████████████████████| 1000249/1000249 [00:01<00:00, 799180.80it/s]\n"
     ]
    },
    {
     "name": "stdout",
     "output_type": "stream",
     "text": [
      "index: 503\n"
     ]
    },
    {
     "name": "stderr",
     "output_type": "stream",
     "text": [
      "100%|████████████████████████████████████████████████████████████████████| 1000041/1000041 [00:01<00:00, 848868.03it/s]\n"
     ]
    },
    {
     "name": "stdout",
     "output_type": "stream",
     "text": [
      "index: 504\n"
     ]
    },
    {
     "name": "stderr",
     "output_type": "stream",
     "text": [
      "100%|██████████████████████████████████████████████████████████████████████| 999450/999450 [00:01<00:00, 801010.19it/s]\n"
     ]
    },
    {
     "name": "stdout",
     "output_type": "stream",
     "text": [
      "index: 505\n"
     ]
    },
    {
     "name": "stderr",
     "output_type": "stream",
     "text": [
      "100%|████████████████████████████████████████████████████████████████████| 1000232/1000232 [00:01<00:00, 848415.30it/s]\n"
     ]
    },
    {
     "name": "stdout",
     "output_type": "stream",
     "text": [
      "index: 506\n"
     ]
    },
    {
     "name": "stderr",
     "output_type": "stream",
     "text": [
      "100%|████████████████████████████████████████████████████████████████████| 1000195/1000195 [00:01<00:00, 804430.03it/s]\n"
     ]
    },
    {
     "name": "stdout",
     "output_type": "stream",
     "text": [
      "index: 507\n"
     ]
    },
    {
     "name": "stderr",
     "output_type": "stream",
     "text": [
      "100%|██████████████████████████████████████████████████████████████████████| 999854/999854 [00:01<00:00, 844423.15it/s]\n"
     ]
    },
    {
     "name": "stdout",
     "output_type": "stream",
     "text": [
      "index: 508\n"
     ]
    },
    {
     "name": "stderr",
     "output_type": "stream",
     "text": [
      "100%|██████████████████████████████████████████████████████████████████████| 999900/999900 [00:01<00:00, 794840.21it/s]\n"
     ]
    },
    {
     "name": "stdout",
     "output_type": "stream",
     "text": [
      "index: 509\n"
     ]
    },
    {
     "name": "stderr",
     "output_type": "stream",
     "text": [
      "100%|████████████████████████████████████████████████████████████████████| 1000345/1000345 [00:01<00:00, 777241.81it/s]\n"
     ]
    },
    {
     "name": "stdout",
     "output_type": "stream",
     "text": [
      "index: 510\n"
     ]
    },
    {
     "name": "stderr",
     "output_type": "stream",
     "text": [
      "100%|██████████████████████████████████████████████████████████████████████| 999900/999900 [00:01<00:00, 746298.84it/s]\n"
     ]
    },
    {
     "name": "stdout",
     "output_type": "stream",
     "text": [
      "index: 511\n"
     ]
    },
    {
     "name": "stderr",
     "output_type": "stream",
     "text": [
      "100%|████████████████████████████████████████████████████████████████████| 1000014/1000014 [00:01<00:00, 792800.83it/s]\n"
     ]
    },
    {
     "name": "stdout",
     "output_type": "stream",
     "text": [
      "index: 512\n"
     ]
    },
    {
     "name": "stderr",
     "output_type": "stream",
     "text": [
      "100%|██████████████████████████████████████████████████████████████████████| 999222/999222 [00:01<00:00, 796091.73it/s]\n"
     ]
    },
    {
     "name": "stdout",
     "output_type": "stream",
     "text": [
      "index: 513\n"
     ]
    },
    {
     "name": "stderr",
     "output_type": "stream",
     "text": [
      "100%|████████████████████████████████████████████████████████████████████| 1000796/1000796 [00:01<00:00, 819411.97it/s]\n"
     ]
    },
    {
     "name": "stdout",
     "output_type": "stream",
     "text": [
      "index: 514\n"
     ]
    },
    {
     "name": "stderr",
     "output_type": "stream",
     "text": [
      "100%|████████████████████████████████████████████████████████████████████| 1000015/1000015 [00:01<00:00, 805182.30it/s]\n"
     ]
    },
    {
     "name": "stdout",
     "output_type": "stream",
     "text": [
      "index: 515\n"
     ]
    },
    {
     "name": "stderr",
     "output_type": "stream",
     "text": [
      "100%|████████████████████████████████████████████████████████████████████| 1000021/1000021 [00:01<00:00, 794442.54it/s]\n"
     ]
    },
    {
     "name": "stdout",
     "output_type": "stream",
     "text": [
      "index: 516\n"
     ]
    },
    {
     "name": "stderr",
     "output_type": "stream",
     "text": [
      "100%|██████████████████████████████████████████████████████████████████████| 999959/999959 [00:01<00:00, 838984.47it/s]\n"
     ]
    },
    {
     "name": "stdout",
     "output_type": "stream",
     "text": [
      "index: 517\n"
     ]
    },
    {
     "name": "stderr",
     "output_type": "stream",
     "text": [
      "100%|██████████████████████████████████████████████████████████████████████| 999751/999751 [00:01<00:00, 845235.46it/s]\n"
     ]
    },
    {
     "name": "stdout",
     "output_type": "stream",
     "text": [
      "index: 518\n"
     ]
    },
    {
     "name": "stderr",
     "output_type": "stream",
     "text": [
      "100%|████████████████████████████████████████████████████████████████████| 1000088/1000088 [00:01<00:00, 813127.58it/s]\n"
     ]
    },
    {
     "name": "stdout",
     "output_type": "stream",
     "text": [
      "index: 519\n"
     ]
    },
    {
     "name": "stderr",
     "output_type": "stream",
     "text": [
      "100%|██████████████████████████████████████████████████████████████████████| 999768/999768 [00:01<00:00, 764006.83it/s]\n"
     ]
    },
    {
     "name": "stdout",
     "output_type": "stream",
     "text": [
      "index: 520\n"
     ]
    },
    {
     "name": "stderr",
     "output_type": "stream",
     "text": [
      "100%|████████████████████████████████████████████████████████████████████| 1000497/1000497 [00:01<00:00, 825970.50it/s]\n"
     ]
    },
    {
     "name": "stdout",
     "output_type": "stream",
     "text": [
      "index: 521\n"
     ]
    },
    {
     "name": "stderr",
     "output_type": "stream",
     "text": [
      "100%|██████████████████████████████████████████████████████████████████████| 999623/999623 [00:01<00:00, 739808.39it/s]\n"
     ]
    },
    {
     "name": "stdout",
     "output_type": "stream",
     "text": [
      "index: 522\n"
     ]
    },
    {
     "name": "stderr",
     "output_type": "stream",
     "text": [
      "100%|████████████████████████████████████████████████████████████████████| 1000190/1000190 [00:01<00:00, 748870.82it/s]\n"
     ]
    },
    {
     "name": "stdout",
     "output_type": "stream",
     "text": [
      "index: 523\n"
     ]
    },
    {
     "name": "stderr",
     "output_type": "stream",
     "text": [
      "100%|██████████████████████████████████████████████████████████████████████| 999858/999858 [00:01<00:00, 781050.19it/s]\n"
     ]
    },
    {
     "name": "stdout",
     "output_type": "stream",
     "text": [
      "index: 524\n"
     ]
    },
    {
     "name": "stderr",
     "output_type": "stream",
     "text": [
      "100%|████████████████████████████████████████████████████████████████████| 1000217/1000217 [00:01<00:00, 800919.54it/s]\n"
     ]
    },
    {
     "name": "stdout",
     "output_type": "stream",
     "text": [
      "index: 525\n"
     ]
    },
    {
     "name": "stderr",
     "output_type": "stream",
     "text": [
      "100%|████████████████████████████████████████████████████████████████████| 1000003/1000003 [00:01<00:00, 827938.01it/s]\n"
     ]
    },
    {
     "name": "stdout",
     "output_type": "stream",
     "text": [
      "index: 526\n"
     ]
    },
    {
     "name": "stderr",
     "output_type": "stream",
     "text": [
      "100%|██████████████████████████████████████████████████████████████████████| 999876/999876 [00:01<00:00, 819982.94it/s]\n"
     ]
    },
    {
     "name": "stdout",
     "output_type": "stream",
     "text": [
      "index: 527\n"
     ]
    },
    {
     "name": "stderr",
     "output_type": "stream",
     "text": [
      "100%|████████████████████████████████████████████████████████████████████| 1000145/1000145 [00:01<00:00, 809968.55it/s]\n"
     ]
    },
    {
     "name": "stdout",
     "output_type": "stream",
     "text": [
      "index: 528\n"
     ]
    },
    {
     "name": "stderr",
     "output_type": "stream",
     "text": [
      "100%|██████████████████████████████████████████████████████████████████████| 999999/999999 [00:01<00:00, 813405.26it/s]\n"
     ]
    },
    {
     "name": "stdout",
     "output_type": "stream",
     "text": [
      "index: 529\n"
     ]
    },
    {
     "name": "stderr",
     "output_type": "stream",
     "text": [
      "100%|██████████████████████████████████████████████████████████████████████| 999528/999528 [00:01<00:00, 794411.86it/s]\n"
     ]
    },
    {
     "name": "stdout",
     "output_type": "stream",
     "text": [
      "index: 530\n"
     ]
    },
    {
     "name": "stderr",
     "output_type": "stream",
     "text": [
      "100%|██████████████████████████████████████████████████████████████████████| 999838/999838 [00:01<00:00, 781068.32it/s]\n"
     ]
    },
    {
     "name": "stdout",
     "output_type": "stream",
     "text": [
      "index: 531\n"
     ]
    },
    {
     "name": "stderr",
     "output_type": "stream",
     "text": [
      "100%|████████████████████████████████████████████████████████████████████| 1000628/1000628 [00:01<00:00, 808384.76it/s]\n"
     ]
    },
    {
     "name": "stdout",
     "output_type": "stream",
     "text": [
      "index: 532\n"
     ]
    },
    {
     "name": "stderr",
     "output_type": "stream",
     "text": [
      "100%|██████████████████████████████████████████████████████████████████████| 999890/999890 [00:01<00:00, 839248.24it/s]\n"
     ]
    },
    {
     "name": "stdout",
     "output_type": "stream",
     "text": [
      "index: 533\n"
     ]
    },
    {
     "name": "stderr",
     "output_type": "stream",
     "text": [
      "100%|██████████████████████████████████████████████████████████████████████| 999976/999976 [00:01<00:00, 792053.44it/s]\n"
     ]
    },
    {
     "name": "stdout",
     "output_type": "stream",
     "text": [
      "index: 534\n"
     ]
    },
    {
     "name": "stderr",
     "output_type": "stream",
     "text": [
      "100%|██████████████████████████████████████████████████████████████████████| 999875/999875 [00:01<00:00, 793354.64it/s]\n"
     ]
    },
    {
     "name": "stdout",
     "output_type": "stream",
     "text": [
      "index: 535\n"
     ]
    },
    {
     "name": "stderr",
     "output_type": "stream",
     "text": [
      "100%|██████████████████████████████████████████████████████████████████████| 999966/999966 [00:01<00:00, 808753.13it/s]\n"
     ]
    },
    {
     "name": "stdout",
     "output_type": "stream",
     "text": [
      "index: 536\n"
     ]
    },
    {
     "name": "stderr",
     "output_type": "stream",
     "text": [
      "100%|████████████████████████████████████████████████████████████████████| 1000100/1000100 [00:01<00:00, 803813.38it/s]\n"
     ]
    },
    {
     "name": "stdout",
     "output_type": "stream",
     "text": [
      "index: 537\n"
     ]
    },
    {
     "name": "stderr",
     "output_type": "stream",
     "text": [
      "100%|████████████████████████████████████████████████████████████████████| 1000144/1000144 [00:01<00:00, 846205.14it/s]\n"
     ]
    },
    {
     "name": "stdout",
     "output_type": "stream",
     "text": [
      "index: 538\n"
     ]
    },
    {
     "name": "stderr",
     "output_type": "stream",
     "text": [
      "100%|██████████████████████████████████████████████████████████████████████| 999787/999787 [00:01<00:00, 783084.82it/s]\n"
     ]
    },
    {
     "name": "stdout",
     "output_type": "stream",
     "text": [
      "index: 539\n"
     ]
    },
    {
     "name": "stderr",
     "output_type": "stream",
     "text": [
      "100%|████████████████████████████████████████████████████████████████████| 1000231/1000231 [00:01<00:00, 843079.95it/s]\n"
     ]
    },
    {
     "name": "stdout",
     "output_type": "stream",
     "text": [
      "index: 540\n"
     ]
    },
    {
     "name": "stderr",
     "output_type": "stream",
     "text": [
      "100%|██████████████████████████████████████████████████████████████████████| 999926/999926 [00:01<00:00, 770035.34it/s]\n"
     ]
    },
    {
     "name": "stdout",
     "output_type": "stream",
     "text": [
      "index: 541\n"
     ]
    },
    {
     "name": "stderr",
     "output_type": "stream",
     "text": [
      "100%|██████████████████████████████████████████████████████████████████████| 999770/999770 [00:01<00:00, 809706.44it/s]\n"
     ]
    },
    {
     "name": "stdout",
     "output_type": "stream",
     "text": [
      "index: 542\n"
     ]
    },
    {
     "name": "stderr",
     "output_type": "stream",
     "text": [
      "100%|████████████████████████████████████████████████████████████████████| 1000388/1000388 [00:01<00:00, 817346.29it/s]\n"
     ]
    },
    {
     "name": "stdout",
     "output_type": "stream",
     "text": [
      "index: 543\n"
     ]
    },
    {
     "name": "stderr",
     "output_type": "stream",
     "text": [
      "100%|██████████████████████████████████████████████████████████████████████| 999925/999925 [00:01<00:00, 808261.29it/s]\n"
     ]
    },
    {
     "name": "stdout",
     "output_type": "stream",
     "text": [
      "index: 544\n"
     ]
    },
    {
     "name": "stderr",
     "output_type": "stream",
     "text": [
      "100%|████████████████████████████████████████████████████████████████████| 1000061/1000061 [00:01<00:00, 814086.56it/s]\n"
     ]
    },
    {
     "name": "stdout",
     "output_type": "stream",
     "text": [
      "index: 545\n"
     ]
    },
    {
     "name": "stderr",
     "output_type": "stream",
     "text": [
      "100%|██████████████████████████████████████████████████████████████████████| 999766/999766 [00:01<00:00, 880124.16it/s]\n"
     ]
    },
    {
     "name": "stdout",
     "output_type": "stream",
     "text": [
      "index: 546\n"
     ]
    },
    {
     "name": "stderr",
     "output_type": "stream",
     "text": [
      "100%|██████████████████████████████████████████████████████████████████████| 999992/999992 [00:01<00:00, 854352.73it/s]\n"
     ]
    },
    {
     "name": "stdout",
     "output_type": "stream",
     "text": [
      "index: 547\n"
     ]
    },
    {
     "name": "stderr",
     "output_type": "stream",
     "text": [
      "100%|████████████████████████████████████████████████████████████████████| 1000153/1000153 [00:01<00:00, 770341.26it/s]\n"
     ]
    },
    {
     "name": "stdout",
     "output_type": "stream",
     "text": [
      "index: 548\n"
     ]
    },
    {
     "name": "stderr",
     "output_type": "stream",
     "text": [
      "100%|████████████████████████████████████████████████████████████████████| 1000107/1000107 [00:01<00:00, 829639.51it/s]\n"
     ]
    },
    {
     "name": "stdout",
     "output_type": "stream",
     "text": [
      "index: 549\n"
     ]
    },
    {
     "name": "stderr",
     "output_type": "stream",
     "text": [
      "100%|██████████████████████████████████████████████████████████████████████| 999714/999714 [00:01<00:00, 794003.60it/s]\n"
     ]
    },
    {
     "name": "stdout",
     "output_type": "stream",
     "text": [
      "index: 550\n"
     ]
    },
    {
     "name": "stderr",
     "output_type": "stream",
     "text": [
      "100%|████████████████████████████████████████████████████████████████████| 1000284/1000284 [00:01<00:00, 787882.72it/s]\n"
     ]
    },
    {
     "name": "stdout",
     "output_type": "stream",
     "text": [
      "index: 551\n"
     ]
    },
    {
     "name": "stderr",
     "output_type": "stream",
     "text": [
      "100%|██████████████████████████████████████████████████████████████████████| 999778/999778 [00:01<00:00, 835397.31it/s]\n"
     ]
    },
    {
     "name": "stdout",
     "output_type": "stream",
     "text": [
      "index: 552\n"
     ]
    },
    {
     "name": "stderr",
     "output_type": "stream",
     "text": [
      "100%|██████████████████████████████████████████████████████████████████████| 999513/999513 [00:01<00:00, 812937.11it/s]\n"
     ]
    },
    {
     "name": "stdout",
     "output_type": "stream",
     "text": [
      "index: 553\n"
     ]
    },
    {
     "name": "stderr",
     "output_type": "stream",
     "text": [
      "100%|████████████████████████████████████████████████████████████████████| 1000721/1000721 [00:01<00:00, 844294.65it/s]\n"
     ]
    },
    {
     "name": "stdout",
     "output_type": "stream",
     "text": [
      "index: 554\n"
     ]
    },
    {
     "name": "stderr",
     "output_type": "stream",
     "text": [
      "100%|██████████████████████████████████████████████████████████████████████| 999851/999851 [00:01<00:00, 804581.33it/s]\n"
     ]
    },
    {
     "name": "stdout",
     "output_type": "stream",
     "text": [
      "index: 555\n"
     ]
    },
    {
     "name": "stderr",
     "output_type": "stream",
     "text": [
      "100%|██████████████████████████████████████████████████████████████████████| 999901/999901 [00:01<00:00, 849094.25it/s]\n"
     ]
    },
    {
     "name": "stdout",
     "output_type": "stream",
     "text": [
      "index: 556\n"
     ]
    },
    {
     "name": "stderr",
     "output_type": "stream",
     "text": [
      "100%|████████████████████████████████████████████████████████████████████| 1000269/1000269 [00:01<00:00, 789922.77it/s]\n"
     ]
    },
    {
     "name": "stdout",
     "output_type": "stream",
     "text": [
      "index: 557\n"
     ]
    },
    {
     "name": "stderr",
     "output_type": "stream",
     "text": [
      "100%|██████████████████████████████████████████████████████████████████████| 999769/999769 [00:01<00:00, 820324.89it/s]\n"
     ]
    },
    {
     "name": "stdout",
     "output_type": "stream",
     "text": [
      "index: 558\n"
     ]
    },
    {
     "name": "stderr",
     "output_type": "stream",
     "text": [
      "100%|████████████████████████████████████████████████████████████████████| 1000002/1000002 [00:01<00:00, 830292.53it/s]\n"
     ]
    },
    {
     "name": "stdout",
     "output_type": "stream",
     "text": [
      "index: 559\n"
     ]
    },
    {
     "name": "stderr",
     "output_type": "stream",
     "text": [
      "100%|██████████████████████████████████████████████████████████████████████| 999681/999681 [00:01<00:00, 782928.99it/s]\n"
     ]
    },
    {
     "name": "stdout",
     "output_type": "stream",
     "text": [
      "index: 560\n"
     ]
    },
    {
     "name": "stderr",
     "output_type": "stream",
     "text": [
      "100%|████████████████████████████████████████████████████████████████████| 1000426/1000426 [00:01<00:00, 812818.62it/s]\n"
     ]
    },
    {
     "name": "stdout",
     "output_type": "stream",
     "text": [
      "index: 561\n"
     ]
    },
    {
     "name": "stderr",
     "output_type": "stream",
     "text": [
      "100%|██████████████████████████████████████████████████████████████████████| 999497/999497 [00:01<00:00, 835056.04it/s]\n"
     ]
    },
    {
     "name": "stdout",
     "output_type": "stream",
     "text": [
      "index: 562\n"
     ]
    },
    {
     "name": "stderr",
     "output_type": "stream",
     "text": [
      "100%|████████████████████████████████████████████████████████████████████| 1000474/1000474 [00:01<00:00, 811208.77it/s]\n"
     ]
    },
    {
     "name": "stdout",
     "output_type": "stream",
     "text": [
      "index: 563\n"
     ]
    },
    {
     "name": "stderr",
     "output_type": "stream",
     "text": [
      "100%|██████████████████████████████████████████████████████████████████████| 999790/999790 [00:01<00:00, 792588.79it/s]\n"
     ]
    },
    {
     "name": "stdout",
     "output_type": "stream",
     "text": [
      "index: 564\n"
     ]
    },
    {
     "name": "stderr",
     "output_type": "stream",
     "text": [
      "100%|████████████████████████████████████████████████████████████████████| 1000088/1000088 [00:01<00:00, 802452.10it/s]\n"
     ]
    },
    {
     "name": "stdout",
     "output_type": "stream",
     "text": [
      "index: 565\n"
     ]
    },
    {
     "name": "stderr",
     "output_type": "stream",
     "text": [
      "100%|████████████████████████████████████████████████████████████████████| 1000161/1000161 [00:01<00:00, 788065.84it/s]\n"
     ]
    },
    {
     "name": "stdout",
     "output_type": "stream",
     "text": [
      "index: 566\n"
     ]
    },
    {
     "name": "stderr",
     "output_type": "stream",
     "text": [
      "100%|████████████████████████████████████████████████████████████████████| 1000069/1000069 [00:01<00:00, 796082.29it/s]\n"
     ]
    },
    {
     "name": "stdout",
     "output_type": "stream",
     "text": [
      "index: 567\n"
     ]
    },
    {
     "name": "stderr",
     "output_type": "stream",
     "text": [
      "100%|██████████████████████████████████████████████████████████████████████| 999942/999942 [00:01<00:00, 783472.80it/s]\n"
     ]
    },
    {
     "name": "stdout",
     "output_type": "stream",
     "text": [
      "index: 568\n"
     ]
    },
    {
     "name": "stderr",
     "output_type": "stream",
     "text": [
      "100%|████████████████████████████████████████████████████████████████████| 1000073/1000073 [00:01<00:00, 837932.77it/s]\n"
     ]
    },
    {
     "name": "stdout",
     "output_type": "stream",
     "text": [
      "index: 569\n"
     ]
    },
    {
     "name": "stderr",
     "output_type": "stream",
     "text": [
      "100%|██████████████████████████████████████████████████████████████████████| 999506/999506 [00:01<00:00, 843925.00it/s]\n"
     ]
    },
    {
     "name": "stdout",
     "output_type": "stream",
     "text": [
      "index: 570\n"
     ]
    },
    {
     "name": "stderr",
     "output_type": "stream",
     "text": [
      "100%|████████████████████████████████████████████████████████████████████| 1000324/1000324 [00:01<00:00, 766529.38it/s]\n"
     ]
    },
    {
     "name": "stdout",
     "output_type": "stream",
     "text": [
      "index: 571\n"
     ]
    },
    {
     "name": "stderr",
     "output_type": "stream",
     "text": [
      "100%|████████████████████████████████████████████████████████████████████| 1000088/1000088 [00:01<00:00, 807004.67it/s]\n"
     ]
    },
    {
     "name": "stdout",
     "output_type": "stream",
     "text": [
      "index: 572\n"
     ]
    },
    {
     "name": "stderr",
     "output_type": "stream",
     "text": [
      "100%|██████████████████████████████████████████████████████████████████████| 999891/999891 [00:01<00:00, 795608.86it/s]\n"
     ]
    },
    {
     "name": "stdout",
     "output_type": "stream",
     "text": [
      "index: 573\n"
     ]
    },
    {
     "name": "stderr",
     "output_type": "stream",
     "text": [
      "100%|████████████████████████████████████████████████████████████████████| 1000089/1000089 [00:01<00:00, 831078.28it/s]\n"
     ]
    },
    {
     "name": "stdout",
     "output_type": "stream",
     "text": [
      "index: 574\n"
     ]
    },
    {
     "name": "stderr",
     "output_type": "stream",
     "text": [
      "100%|██████████████████████████████████████████████████████████████████████| 999989/999989 [00:01<00:00, 832665.70it/s]\n"
     ]
    },
    {
     "name": "stdout",
     "output_type": "stream",
     "text": [
      "index: 575\n"
     ]
    },
    {
     "name": "stderr",
     "output_type": "stream",
     "text": [
      "100%|████████████████████████████████████████████████████████████████████| 1000048/1000048 [00:01<00:00, 823395.22it/s]\n"
     ]
    },
    {
     "name": "stdout",
     "output_type": "stream",
     "text": [
      "index: 576\n"
     ]
    },
    {
     "name": "stderr",
     "output_type": "stream",
     "text": [
      "100%|██████████████████████████████████████████████████████████████████████| 999858/999858 [00:01<00:00, 837896.91it/s]\n"
     ]
    },
    {
     "name": "stdout",
     "output_type": "stream",
     "text": [
      "index: 577\n"
     ]
    },
    {
     "name": "stderr",
     "output_type": "stream",
     "text": [
      "100%|██████████████████████████████████████████████████████████████████████| 999815/999815 [00:01<00:00, 774048.70it/s]\n"
     ]
    },
    {
     "name": "stdout",
     "output_type": "stream",
     "text": [
      "index: 578\n"
     ]
    },
    {
     "name": "stderr",
     "output_type": "stream",
     "text": [
      "100%|████████████████████████████████████████████████████████████████████| 1000302/1000302 [00:01<00:00, 816127.10it/s]\n"
     ]
    },
    {
     "name": "stdout",
     "output_type": "stream",
     "text": [
      "index: 579\n"
     ]
    },
    {
     "name": "stderr",
     "output_type": "stream",
     "text": [
      "100%|████████████████████████████████████████████████████████████████████| 1000108/1000108 [00:01<00:00, 819911.89it/s]\n"
     ]
    },
    {
     "name": "stdout",
     "output_type": "stream",
     "text": [
      "index: 580\n"
     ]
    },
    {
     "name": "stderr",
     "output_type": "stream",
     "text": [
      "100%|██████████████████████████████████████████████████████████████████████| 999822/999822 [00:01<00:00, 826547.35it/s]\n"
     ]
    },
    {
     "name": "stdout",
     "output_type": "stream",
     "text": [
      "index: 581\n"
     ]
    },
    {
     "name": "stderr",
     "output_type": "stream",
     "text": [
      "100%|████████████████████████████████████████████████████████████████████| 1000116/1000116 [00:01<00:00, 822578.43it/s]\n"
     ]
    },
    {
     "name": "stdout",
     "output_type": "stream",
     "text": [
      "index: 582\n"
     ]
    },
    {
     "name": "stderr",
     "output_type": "stream",
     "text": [
      "100%|██████████████████████████████████████████████████████████████████████| 999981/999981 [00:01<00:00, 799970.00it/s]\n"
     ]
    },
    {
     "name": "stdout",
     "output_type": "stream",
     "text": [
      "index: 583\n"
     ]
    },
    {
     "name": "stderr",
     "output_type": "stream",
     "text": [
      "100%|██████████████████████████████████████████████████████████████████████| 999895/999895 [00:01<00:00, 820770.75it/s]\n"
     ]
    },
    {
     "name": "stdout",
     "output_type": "stream",
     "text": [
      "index: 584\n"
     ]
    },
    {
     "name": "stderr",
     "output_type": "stream",
     "text": [
      "100%|████████████████████████████████████████████████████████████████████| 1000030/1000030 [00:01<00:00, 808561.05it/s]\n"
     ]
    },
    {
     "name": "stdout",
     "output_type": "stream",
     "text": [
      "index: 585\n"
     ]
    },
    {
     "name": "stderr",
     "output_type": "stream",
     "text": [
      "100%|██████████████████████████████████████████████████████████████████████| 999600/999600 [00:01<00:00, 792359.99it/s]\n"
     ]
    },
    {
     "name": "stdout",
     "output_type": "stream",
     "text": [
      "index: 586\n"
     ]
    },
    {
     "name": "stderr",
     "output_type": "stream",
     "text": [
      "100%|████████████████████████████████████████████████████████████████████| 1000457/1000457 [00:01<00:00, 807651.42it/s]\n"
     ]
    },
    {
     "name": "stdout",
     "output_type": "stream",
     "text": [
      "index: 587\n"
     ]
    },
    {
     "name": "stderr",
     "output_type": "stream",
     "text": [
      "100%|██████████████████████████████████████████████████████████████████████| 999406/999406 [00:01<00:00, 854171.70it/s]\n"
     ]
    },
    {
     "name": "stdout",
     "output_type": "stream",
     "text": [
      "index: 588\n"
     ]
    },
    {
     "name": "stderr",
     "output_type": "stream",
     "text": [
      "100%|████████████████████████████████████████████████████████████████████| 1000649/1000649 [00:01<00:00, 806326.02it/s]\n"
     ]
    },
    {
     "name": "stdout",
     "output_type": "stream",
     "text": [
      "index: 589\n"
     ]
    },
    {
     "name": "stderr",
     "output_type": "stream",
     "text": [
      "100%|████████████████████████████████████████████████████████████████████| 1000020/1000020 [00:01<00:00, 807192.37it/s]\n"
     ]
    },
    {
     "name": "stdout",
     "output_type": "stream",
     "text": [
      "index: 590\n"
     ]
    },
    {
     "name": "stderr",
     "output_type": "stream",
     "text": [
      "100%|████████████████████████████████████████████████████████████████████| 1000018/1000018 [00:01<00:00, 816461.10it/s]\n"
     ]
    },
    {
     "name": "stdout",
     "output_type": "stream",
     "text": [
      "index: 591\n"
     ]
    },
    {
     "name": "stderr",
     "output_type": "stream",
     "text": [
      "100%|██████████████████████████████████████████████████████████████████████| 999831/999831 [00:01<00:00, 785588.28it/s]\n"
     ]
    },
    {
     "name": "stdout",
     "output_type": "stream",
     "text": [
      "index: 592\n"
     ]
    },
    {
     "name": "stderr",
     "output_type": "stream",
     "text": [
      "100%|██████████████████████████████████████████████████████████████████████| 999853/999853 [00:01<00:00, 797762.19it/s]\n"
     ]
    },
    {
     "name": "stdout",
     "output_type": "stream",
     "text": [
      "index: 593\n"
     ]
    },
    {
     "name": "stderr",
     "output_type": "stream",
     "text": [
      "100%|████████████████████████████████████████████████████████████████████| 1000181/1000181 [00:01<00:00, 808688.43it/s]\n"
     ]
    },
    {
     "name": "stdout",
     "output_type": "stream",
     "text": [
      "index: 594\n"
     ]
    },
    {
     "name": "stderr",
     "output_type": "stream",
     "text": [
      "100%|██████████████████████████████████████████████████████████████████████| 999512/999512 [00:01<00:00, 819085.79it/s]\n"
     ]
    },
    {
     "name": "stdout",
     "output_type": "stream",
     "text": [
      "index: 595\n"
     ]
    },
    {
     "name": "stderr",
     "output_type": "stream",
     "text": [
      "100%|████████████████████████████████████████████████████████████████████| 1000391/1000391 [00:01<00:00, 786418.10it/s]\n"
     ]
    },
    {
     "name": "stdout",
     "output_type": "stream",
     "text": [
      "index: 596\n"
     ]
    },
    {
     "name": "stderr",
     "output_type": "stream",
     "text": [
      "100%|████████████████████████████████████████████████████████████████████| 1000088/1000088 [00:01<00:00, 793037.42it/s]\n"
     ]
    },
    {
     "name": "stdout",
     "output_type": "stream",
     "text": [
      "index: 597\n"
     ]
    },
    {
     "name": "stderr",
     "output_type": "stream",
     "text": [
      "100%|██████████████████████████████████████████████████████████████████████| 999956/999956 [00:01<00:00, 803987.90it/s]\n"
     ]
    },
    {
     "name": "stdout",
     "output_type": "stream",
     "text": [
      "index: 598\n"
     ]
    },
    {
     "name": "stderr",
     "output_type": "stream",
     "text": [
      "100%|████████████████████████████████████████████████████████████████████| 1000210/1000210 [00:01<00:00, 802196.87it/s]\n"
     ]
    },
    {
     "name": "stdout",
     "output_type": "stream",
     "text": [
      "index: 599\n"
     ]
    },
    {
     "name": "stderr",
     "output_type": "stream",
     "text": [
      "100%|██████████████████████████████████████████████████████████████████████| 999891/999891 [00:01<00:00, 783532.37it/s]\n"
     ]
    },
    {
     "name": "stdout",
     "output_type": "stream",
     "text": [
      "index: 600\n"
     ]
    },
    {
     "name": "stderr",
     "output_type": "stream",
     "text": [
      "100%|██████████████████████████████████████████████████████████████████████| 999857/999857 [00:01<00:00, 790368.85it/s]\n"
     ]
    },
    {
     "name": "stdout",
     "output_type": "stream",
     "text": [
      "index: 601\n"
     ]
    },
    {
     "name": "stderr",
     "output_type": "stream",
     "text": [
      "100%|████████████████████████████████████████████████████████████████████| 1000007/1000007 [00:01<00:00, 810572.82it/s]\n"
     ]
    },
    {
     "name": "stdout",
     "output_type": "stream",
     "text": [
      "index: 602\n"
     ]
    },
    {
     "name": "stderr",
     "output_type": "stream",
     "text": [
      "100%|████████████████████████████████████████████████████████████████████| 1000105/1000105 [00:01<00:00, 804034.64it/s]\n"
     ]
    },
    {
     "name": "stdout",
     "output_type": "stream",
     "text": [
      "index: 603\n"
     ]
    },
    {
     "name": "stderr",
     "output_type": "stream",
     "text": [
      "100%|██████████████████████████████████████████████████████████████████████| 999901/999901 [00:01<00:00, 770579.61it/s]\n"
     ]
    },
    {
     "name": "stdout",
     "output_type": "stream",
     "text": [
      "index: 604\n"
     ]
    },
    {
     "name": "stderr",
     "output_type": "stream",
     "text": [
      "100%|████████████████████████████████████████████████████████████████████| 1000203/1000203 [00:01<00:00, 799688.34it/s]\n"
     ]
    },
    {
     "name": "stdout",
     "output_type": "stream",
     "text": [
      "index: 605\n"
     ]
    },
    {
     "name": "stderr",
     "output_type": "stream",
     "text": [
      "100%|██████████████████████████████████████████████████████████████████████| 999659/999659 [00:01<00:00, 808600.42it/s]\n"
     ]
    },
    {
     "name": "stdout",
     "output_type": "stream",
     "text": [
      "index: 606\n"
     ]
    },
    {
     "name": "stderr",
     "output_type": "stream",
     "text": [
      "100%|████████████████████████████████████████████████████████████████████| 1000092/1000092 [00:01<00:00, 824828.30it/s]\n"
     ]
    },
    {
     "name": "stdout",
     "output_type": "stream",
     "text": [
      "index: 607\n"
     ]
    },
    {
     "name": "stderr",
     "output_type": "stream",
     "text": [
      "100%|██████████████████████████████████████████████████████████████████████| 999945/999945 [00:01<00:00, 797605.42it/s]\n"
     ]
    },
    {
     "name": "stdout",
     "output_type": "stream",
     "text": [
      "index: 608\n"
     ]
    },
    {
     "name": "stderr",
     "output_type": "stream",
     "text": [
      "100%|██████████████████████████████████████████████████████████████████████| 999931/999931 [00:01<00:00, 810525.94it/s]\n"
     ]
    },
    {
     "name": "stdout",
     "output_type": "stream",
     "text": [
      "index: 609\n"
     ]
    },
    {
     "name": "stderr",
     "output_type": "stream",
     "text": [
      "100%|████████████████████████████████████████████████████████████████████| 1000262/1000262 [00:01<00:00, 861490.53it/s]\n"
     ]
    },
    {
     "name": "stdout",
     "output_type": "stream",
     "text": [
      "index: 610\n"
     ]
    },
    {
     "name": "stderr",
     "output_type": "stream",
     "text": [
      "100%|████████████████████████████████████████████████████████████████████| 1000072/1000072 [00:01<00:00, 795806.77it/s]\n"
     ]
    },
    {
     "name": "stdout",
     "output_type": "stream",
     "text": [
      "index: 611\n"
     ]
    },
    {
     "name": "stderr",
     "output_type": "stream",
     "text": [
      "100%|████████████████████████████████████████████████████████████████████| 1000062/1000062 [00:01<00:00, 861966.98it/s]\n"
     ]
    },
    {
     "name": "stdout",
     "output_type": "stream",
     "text": [
      "index: 612\n"
     ]
    },
    {
     "name": "stderr",
     "output_type": "stream",
     "text": [
      "100%|██████████████████████████████████████████████████████████████████████| 999711/999711 [00:01<00:00, 812401.99it/s]\n"
     ]
    },
    {
     "name": "stdout",
     "output_type": "stream",
     "text": [
      "index: 613\n"
     ]
    },
    {
     "name": "stderr",
     "output_type": "stream",
     "text": [
      "100%|████████████████████████████████████████████████████████████████████| 1000306/1000306 [00:01<00:00, 857730.06it/s]\n"
     ]
    },
    {
     "name": "stdout",
     "output_type": "stream",
     "text": [
      "index: 614\n"
     ]
    },
    {
     "name": "stderr",
     "output_type": "stream",
     "text": [
      "100%|██████████████████████████████████████████████████████████████████████| 999840/999840 [00:01<00:00, 823956.34it/s]\n"
     ]
    },
    {
     "name": "stdout",
     "output_type": "stream",
     "text": [
      "index: 615\n"
     ]
    },
    {
     "name": "stderr",
     "output_type": "stream",
     "text": [
      "100%|████████████████████████████████████████████████████████████████████| 1000141/1000141 [00:01<00:00, 815614.81it/s]\n"
     ]
    },
    {
     "name": "stdout",
     "output_type": "stream",
     "text": [
      "index: 616\n"
     ]
    },
    {
     "name": "stderr",
     "output_type": "stream",
     "text": [
      "100%|██████████████████████████████████████████████████████████████████████| 999370/999370 [00:01<00:00, 848691.45it/s]\n"
     ]
    },
    {
     "name": "stdout",
     "output_type": "stream",
     "text": [
      "index: 617\n"
     ]
    },
    {
     "name": "stderr",
     "output_type": "stream",
     "text": [
      "100%|████████████████████████████████████████████████████████████████████| 1000282/1000282 [00:01<00:00, 792771.29it/s]\n"
     ]
    },
    {
     "name": "stdout",
     "output_type": "stream",
     "text": [
      "index: 618\n"
     ]
    },
    {
     "name": "stderr",
     "output_type": "stream",
     "text": [
      "100%|████████████████████████████████████████████████████████████████████| 1000188/1000188 [00:01<00:00, 852629.89it/s]\n"
     ]
    },
    {
     "name": "stdout",
     "output_type": "stream",
     "text": [
      "index: 619\n"
     ]
    },
    {
     "name": "stderr",
     "output_type": "stream",
     "text": [
      "100%|████████████████████████████████████████████████████████████████████| 1000129/1000129 [00:01<00:00, 825986.00it/s]\n"
     ]
    },
    {
     "name": "stdout",
     "output_type": "stream",
     "text": [
      "index: 620\n"
     ]
    },
    {
     "name": "stderr",
     "output_type": "stream",
     "text": [
      "100%|██████████████████████████████████████████████████████████████████████| 999634/999634 [00:01<00:00, 793704.25it/s]\n"
     ]
    },
    {
     "name": "stdout",
     "output_type": "stream",
     "text": [
      "index: 621\n"
     ]
    },
    {
     "name": "stderr",
     "output_type": "stream",
     "text": [
      "100%|██████████████████████████████████████████████████████████████████████| 999929/999929 [00:01<00:00, 841376.36it/s]\n"
     ]
    },
    {
     "name": "stdout",
     "output_type": "stream",
     "text": [
      "index: 622\n"
     ]
    },
    {
     "name": "stderr",
     "output_type": "stream",
     "text": [
      "100%|████████████████████████████████████████████████████████████████████| 1000443/1000443 [00:01<00:00, 825536.27it/s]\n"
     ]
    },
    {
     "name": "stdout",
     "output_type": "stream",
     "text": [
      "index: 623\n"
     ]
    },
    {
     "name": "stderr",
     "output_type": "stream",
     "text": [
      "100%|██████████████████████████████████████████████████████████████████████| 999849/999849 [00:01<00:00, 847930.96it/s]\n"
     ]
    },
    {
     "name": "stdout",
     "output_type": "stream",
     "text": [
      "index: 624\n"
     ]
    },
    {
     "name": "stderr",
     "output_type": "stream",
     "text": [
      "100%|██████████████████████████████████████████████████████████████████████| 999853/999853 [00:01<00:00, 814017.72it/s]\n"
     ]
    },
    {
     "name": "stdout",
     "output_type": "stream",
     "text": [
      "index: 625\n"
     ]
    },
    {
     "name": "stderr",
     "output_type": "stream",
     "text": [
      "100%|████████████████████████████████████████████████████████████████████| 1000183/1000183 [00:01<00:00, 848806.65it/s]\n"
     ]
    },
    {
     "name": "stdout",
     "output_type": "stream",
     "text": [
      "index: 626\n"
     ]
    },
    {
     "name": "stderr",
     "output_type": "stream",
     "text": [
      "100%|██████████████████████████████████████████████████████████████████████| 999842/999842 [00:01<00:00, 815915.27it/s]\n"
     ]
    },
    {
     "name": "stdout",
     "output_type": "stream",
     "text": [
      "index: 627\n"
     ]
    },
    {
     "name": "stderr",
     "output_type": "stream",
     "text": [
      "100%|████████████████████████████████████████████████████████████████████| 1000196/1000196 [00:01<00:00, 832840.54it/s]\n"
     ]
    },
    {
     "name": "stdout",
     "output_type": "stream",
     "text": [
      "index: 628\n"
     ]
    },
    {
     "name": "stderr",
     "output_type": "stream",
     "text": [
      "100%|██████████████████████████████████████████████████████████████████████| 999740/999740 [00:01<00:00, 848444.44it/s]\n"
     ]
    },
    {
     "name": "stdout",
     "output_type": "stream",
     "text": [
      "index: 629\n"
     ]
    },
    {
     "name": "stderr",
     "output_type": "stream",
     "text": [
      "100%|████████████████████████████████████████████████████████████████████| 1000263/1000263 [00:01<00:00, 825156.09it/s]\n"
     ]
    },
    {
     "name": "stdout",
     "output_type": "stream",
     "text": [
      "index: 630\n"
     ]
    },
    {
     "name": "stderr",
     "output_type": "stream",
     "text": [
      "100%|██████████████████████████████████████████████████████████████████████| 999735/999735 [00:01<00:00, 774831.73it/s]\n"
     ]
    },
    {
     "name": "stdout",
     "output_type": "stream",
     "text": [
      "index: 631\n"
     ]
    },
    {
     "name": "stderr",
     "output_type": "stream",
     "text": [
      "100%|██████████████████████████████████████████████████████████████████████| 999908/999908 [00:01<00:00, 803017.85it/s]\n"
     ]
    },
    {
     "name": "stdout",
     "output_type": "stream",
     "text": [
      "index: 632\n"
     ]
    },
    {
     "name": "stderr",
     "output_type": "stream",
     "text": [
      "100%|████████████████████████████████████████████████████████████████████| 1000015/1000015 [00:01<00:00, 830020.55it/s]\n"
     ]
    },
    {
     "name": "stdout",
     "output_type": "stream",
     "text": [
      "index: 633\n"
     ]
    },
    {
     "name": "stderr",
     "output_type": "stream",
     "text": [
      "100%|██████████████████████████████████████████████████████████████████████| 999581/999581 [00:01<00:00, 855890.57it/s]\n"
     ]
    },
    {
     "name": "stdout",
     "output_type": "stream",
     "text": [
      "index: 634\n"
     ]
    },
    {
     "name": "stderr",
     "output_type": "stream",
     "text": [
      "100%|████████████████████████████████████████████████████████████████████| 1000665/1000665 [00:01<00:00, 811251.66it/s]\n"
     ]
    },
    {
     "name": "stdout",
     "output_type": "stream",
     "text": [
      "index: 635\n"
     ]
    },
    {
     "name": "stderr",
     "output_type": "stream",
     "text": [
      "100%|██████████████████████████████████████████████████████████████████████| 999975/999975 [00:01<00:00, 840727.26it/s]\n"
     ]
    },
    {
     "name": "stdout",
     "output_type": "stream",
     "text": [
      "index: 636\n"
     ]
    },
    {
     "name": "stderr",
     "output_type": "stream",
     "text": [
      "100%|██████████████████████████████████████████████████████████████████████| 999988/999988 [00:01<00:00, 783295.50it/s]\n"
     ]
    },
    {
     "name": "stdout",
     "output_type": "stream",
     "text": [
      "index: 637\n"
     ]
    },
    {
     "name": "stderr",
     "output_type": "stream",
     "text": [
      "100%|████████████████████████████████████████████████████████████████████| 1000247/1000247 [00:01<00:00, 827159.22it/s]\n"
     ]
    },
    {
     "name": "stdout",
     "output_type": "stream",
     "text": [
      "index: 638\n"
     ]
    },
    {
     "name": "stderr",
     "output_type": "stream",
     "text": [
      "100%|██████████████████████████████████████████████████████████████████████| 999887/999887 [00:01<00:00, 850343.09it/s]\n"
     ]
    },
    {
     "name": "stdout",
     "output_type": "stream",
     "text": [
      "index: 639\n"
     ]
    },
    {
     "name": "stderr",
     "output_type": "stream",
     "text": [
      "100%|██████████████████████████████████████████████████████████████████████| 999894/999894 [00:01<00:00, 810777.20it/s]\n"
     ]
    },
    {
     "name": "stdout",
     "output_type": "stream",
     "text": [
      "index: 640\n"
     ]
    },
    {
     "name": "stderr",
     "output_type": "stream",
     "text": [
      "100%|██████████████████████████████████████████████████████████████████████| 999950/999950 [00:01<00:00, 821992.02it/s]\n"
     ]
    },
    {
     "name": "stdout",
     "output_type": "stream",
     "text": [
      "index: 641\n"
     ]
    },
    {
     "name": "stderr",
     "output_type": "stream",
     "text": [
      "100%|████████████████████████████████████████████████████████████████████| 1000236/1000236 [00:01<00:00, 811775.48it/s]\n"
     ]
    },
    {
     "name": "stdout",
     "output_type": "stream",
     "text": [
      "index: 642\n"
     ]
    },
    {
     "name": "stderr",
     "output_type": "stream",
     "text": [
      "100%|██████████████████████████████████████████████████████████████████████| 999855/999855 [00:01<00:00, 867586.41it/s]\n"
     ]
    },
    {
     "name": "stdout",
     "output_type": "stream",
     "text": [
      "index: 643\n"
     ]
    },
    {
     "name": "stderr",
     "output_type": "stream",
     "text": [
      "100%|████████████████████████████████████████████████████████████████████| 1000166/1000166 [00:01<00:00, 817608.95it/s]\n"
     ]
    },
    {
     "name": "stdout",
     "output_type": "stream",
     "text": [
      "index: 644\n"
     ]
    },
    {
     "name": "stderr",
     "output_type": "stream",
     "text": [
      "100%|██████████████████████████████████████████████████████████████████████| 999974/999974 [00:01<00:00, 756404.51it/s]\n"
     ]
    },
    {
     "name": "stdout",
     "output_type": "stream",
     "text": [
      "index: 645\n"
     ]
    },
    {
     "name": "stderr",
     "output_type": "stream",
     "text": [
      "100%|██████████████████████████████████████████████████████████████████████| 999703/999703 [00:01<00:00, 830770.84it/s]\n"
     ]
    },
    {
     "name": "stdout",
     "output_type": "stream",
     "text": [
      "index: 646\n"
     ]
    },
    {
     "name": "stderr",
     "output_type": "stream",
     "text": [
      "100%|██████████████████████████████████████████████████████████████████████| 999913/999913 [00:01<00:00, 816755.83it/s]\n"
     ]
    },
    {
     "name": "stdout",
     "output_type": "stream",
     "text": [
      "index: 647\n"
     ]
    },
    {
     "name": "stderr",
     "output_type": "stream",
     "text": [
      "100%|████████████████████████████████████████████████████████████████████| 1000231/1000231 [00:01<00:00, 819339.79it/s]\n"
     ]
    },
    {
     "name": "stdout",
     "output_type": "stream",
     "text": [
      "index: 648\n"
     ]
    },
    {
     "name": "stderr",
     "output_type": "stream",
     "text": [
      "100%|██████████████████████████████████████████████████████████████████████| 999544/999544 [00:01<00:00, 817699.07it/s]\n"
     ]
    },
    {
     "name": "stdout",
     "output_type": "stream",
     "text": [
      "index: 649\n"
     ]
    },
    {
     "name": "stderr",
     "output_type": "stream",
     "text": [
      "100%|████████████████████████████████████████████████████████████████████| 1000592/1000592 [00:01<00:00, 853542.43it/s]\n"
     ]
    },
    {
     "name": "stdout",
     "output_type": "stream",
     "text": [
      "index: 650\n"
     ]
    },
    {
     "name": "stderr",
     "output_type": "stream",
     "text": [
      "100%|██████████████████████████████████████████████████████████████████████| 999704/999704 [00:01<00:00, 781142.15it/s]\n"
     ]
    },
    {
     "name": "stdout",
     "output_type": "stream",
     "text": [
      "index: 651\n"
     ]
    },
    {
     "name": "stderr",
     "output_type": "stream",
     "text": [
      "100%|████████████████████████████████████████████████████████████████████| 1000267/1000267 [00:01<00:00, 792962.58it/s]\n"
     ]
    },
    {
     "name": "stdout",
     "output_type": "stream",
     "text": [
      "index: 652\n"
     ]
    },
    {
     "name": "stderr",
     "output_type": "stream",
     "text": [
      "100%|██████████████████████████████████████████████████████████████████████████| 7743/7743 [00:00<00:00, 862566.62it/s]\n"
     ]
    },
    {
     "name": "stdout",
     "output_type": "stream",
     "text": [
      "index: 653\n",
      "Iterator is stopped\n"
     ]
    }
   ],
   "source": [
    "processUserAppUsageUpgrade(\"\", 'trainSet')\n"
   ]
  },
  {
   "cell_type": "code",
   "execution_count": 9,
   "metadata": {
    "scrolled": true
   },
   "outputs": [
    {
     "data": {
      "text/html": [
       "<div>\n",
       "<style scoped>\n",
       "    .dataframe tbody tr th:only-of-type {\n",
       "        vertical-align: middle;\n",
       "    }\n",
       "\n",
       "    .dataframe tbody tr th {\n",
       "        vertical-align: top;\n",
       "    }\n",
       "\n",
       "    .dataframe thead th {\n",
       "        text-align: right;\n",
       "    }\n",
       "</style>\n",
       "<table border=\"1\" class=\"dataframe\">\n",
       "  <thead>\n",
       "    <tr style=\"text-align: right;\">\n",
       "      <th></th>\n",
       "      <th>Unnamed: 0</th>\n",
       "      <th>uid</th>\n",
       "      <th>duration0</th>\n",
       "      <th>duration1</th>\n",
       "      <th>duration2</th>\n",
       "      <th>duration3</th>\n",
       "      <th>duration4</th>\n",
       "      <th>duration5</th>\n",
       "      <th>duration6</th>\n",
       "      <th>duration7</th>\n",
       "      <th>duration8</th>\n",
       "      <th>duration9</th>\n",
       "      <th>duration10</th>\n",
       "      <th>duration11</th>\n",
       "      <th>duration12</th>\n",
       "      <th>duration13</th>\n",
       "      <th>duration14</th>\n",
       "      <th>duration15</th>\n",
       "      <th>duration16</th>\n",
       "      <th>duration17</th>\n",
       "      <th>duration18</th>\n",
       "      <th>duration19</th>\n",
       "      <th>duration20</th>\n",
       "      <th>duration21</th>\n",
       "      <th>duration22</th>\n",
       "      <th>duration23</th>\n",
       "      <th>duration24</th>\n",
       "      <th>duration25</th>\n",
       "      <th>duration26</th>\n",
       "      <th>duration27</th>\n",
       "      <th>duration28</th>\n",
       "      <th>duration29</th>\n",
       "      <th>duration30</th>\n",
       "      <th>duration31</th>\n",
       "      <th>duration32</th>\n",
       "      <th>duration33</th>\n",
       "      <th>duration34</th>\n",
       "      <th>duration35</th>\n",
       "      <th>duration36</th>\n",
       "      <th>duration37</th>\n",
       "      <th>duration38</th>\n",
       "      <th>duration39</th>\n",
       "    </tr>\n",
       "  </thead>\n",
       "  <tbody>\n",
       "    <tr>\n",
       "      <th>0</th>\n",
       "      <td>0</td>\n",
       "      <td>1000364</td>\n",
       "      <td>0.0</td>\n",
       "      <td>0</td>\n",
       "      <td>0.0</td>\n",
       "      <td>0</td>\n",
       "      <td>0.0</td>\n",
       "      <td>0.0</td>\n",
       "      <td>0.0</td>\n",
       "      <td>0.0</td>\n",
       "      <td>0.0</td>\n",
       "      <td>0.0</td>\n",
       "      <td>0.0</td>\n",
       "      <td>0.0</td>\n",
       "      <td>0.0</td>\n",
       "      <td>0.0</td>\n",
       "      <td>0.0</td>\n",
       "      <td>0.0</td>\n",
       "      <td>0.0</td>\n",
       "      <td>10.0</td>\n",
       "      <td>40589.0</td>\n",
       "      <td>0.0</td>\n",
       "      <td>32.0</td>\n",
       "      <td>30228.0</td>\n",
       "      <td>0.0</td>\n",
       "      <td>0.0</td>\n",
       "      <td>0.0</td>\n",
       "      <td>0.0</td>\n",
       "      <td>0.0</td>\n",
       "      <td>0.0</td>\n",
       "      <td>0.0</td>\n",
       "      <td>281740.0</td>\n",
       "      <td>0.0</td>\n",
       "      <td>0.0</td>\n",
       "      <td>0.0</td>\n",
       "      <td>0.0</td>\n",
       "      <td>0.0</td>\n",
       "      <td>0.0</td>\n",
       "      <td>0.0</td>\n",
       "      <td>37765.0</td>\n",
       "      <td>0.0</td>\n",
       "      <td>392.0</td>\n",
       "    </tr>\n",
       "    <tr>\n",
       "      <th>1</th>\n",
       "      <td>198</td>\n",
       "      <td>1000387</td>\n",
       "      <td>0.0</td>\n",
       "      <td>0</td>\n",
       "      <td>0.0</td>\n",
       "      <td>0</td>\n",
       "      <td>0.0</td>\n",
       "      <td>0.0</td>\n",
       "      <td>0.0</td>\n",
       "      <td>6330.0</td>\n",
       "      <td>0.0</td>\n",
       "      <td>12871.0</td>\n",
       "      <td>0.0</td>\n",
       "      <td>109901.0</td>\n",
       "      <td>0.0</td>\n",
       "      <td>0.0</td>\n",
       "      <td>0.0</td>\n",
       "      <td>0.0</td>\n",
       "      <td>0.0</td>\n",
       "      <td>39409.0</td>\n",
       "      <td>195735.0</td>\n",
       "      <td>274784.0</td>\n",
       "      <td>2408.0</td>\n",
       "      <td>55456.0</td>\n",
       "      <td>0.0</td>\n",
       "      <td>0.0</td>\n",
       "      <td>0.0</td>\n",
       "      <td>0.0</td>\n",
       "      <td>1157.0</td>\n",
       "      <td>0.0</td>\n",
       "      <td>0.0</td>\n",
       "      <td>133202.0</td>\n",
       "      <td>0.0</td>\n",
       "      <td>0.0</td>\n",
       "      <td>0.0</td>\n",
       "      <td>0.0</td>\n",
       "      <td>0.0</td>\n",
       "      <td>0.0</td>\n",
       "      <td>0.0</td>\n",
       "      <td>50881.0</td>\n",
       "      <td>29069.0</td>\n",
       "      <td>6277.0</td>\n",
       "    </tr>\n",
       "    <tr>\n",
       "      <th>2</th>\n",
       "      <td>689</td>\n",
       "      <td>1000872</td>\n",
       "      <td>0.0</td>\n",
       "      <td>0</td>\n",
       "      <td>0.0</td>\n",
       "      <td>0</td>\n",
       "      <td>0.0</td>\n",
       "      <td>0.0</td>\n",
       "      <td>0.0</td>\n",
       "      <td>25421.0</td>\n",
       "      <td>0.0</td>\n",
       "      <td>17558.0</td>\n",
       "      <td>0.0</td>\n",
       "      <td>0.0</td>\n",
       "      <td>0.0</td>\n",
       "      <td>0.0</td>\n",
       "      <td>20772.0</td>\n",
       "      <td>0.0</td>\n",
       "      <td>0.0</td>\n",
       "      <td>5135.0</td>\n",
       "      <td>10821.0</td>\n",
       "      <td>5278.0</td>\n",
       "      <td>707.0</td>\n",
       "      <td>1683.0</td>\n",
       "      <td>0.0</td>\n",
       "      <td>0.0</td>\n",
       "      <td>0.0</td>\n",
       "      <td>0.0</td>\n",
       "      <td>0.0</td>\n",
       "      <td>0.0</td>\n",
       "      <td>0.0</td>\n",
       "      <td>213779.0</td>\n",
       "      <td>0.0</td>\n",
       "      <td>0.0</td>\n",
       "      <td>0.0</td>\n",
       "      <td>0.0</td>\n",
       "      <td>0.0</td>\n",
       "      <td>0.0</td>\n",
       "      <td>0.0</td>\n",
       "      <td>33108.0</td>\n",
       "      <td>320.0</td>\n",
       "      <td>14950.0</td>\n",
       "    </tr>\n",
       "    <tr>\n",
       "      <th>3</th>\n",
       "      <td>1095</td>\n",
       "      <td>1000951</td>\n",
       "      <td>0.0</td>\n",
       "      <td>0</td>\n",
       "      <td>0.0</td>\n",
       "      <td>0</td>\n",
       "      <td>0.0</td>\n",
       "      <td>0.0</td>\n",
       "      <td>0.0</td>\n",
       "      <td>724.0</td>\n",
       "      <td>0.0</td>\n",
       "      <td>13677.0</td>\n",
       "      <td>0.0</td>\n",
       "      <td>0.0</td>\n",
       "      <td>0.0</td>\n",
       "      <td>0.0</td>\n",
       "      <td>0.0</td>\n",
       "      <td>0.0</td>\n",
       "      <td>0.0</td>\n",
       "      <td>10325.0</td>\n",
       "      <td>81252.0</td>\n",
       "      <td>678.0</td>\n",
       "      <td>0.0</td>\n",
       "      <td>0.0</td>\n",
       "      <td>0.0</td>\n",
       "      <td>0.0</td>\n",
       "      <td>188948.0</td>\n",
       "      <td>0.0</td>\n",
       "      <td>0.0</td>\n",
       "      <td>0.0</td>\n",
       "      <td>0.0</td>\n",
       "      <td>72441.0</td>\n",
       "      <td>0.0</td>\n",
       "      <td>0.0</td>\n",
       "      <td>0.0</td>\n",
       "      <td>0.0</td>\n",
       "      <td>0.0</td>\n",
       "      <td>0.0</td>\n",
       "      <td>0.0</td>\n",
       "      <td>5243.0</td>\n",
       "      <td>0.0</td>\n",
       "      <td>787.0</td>\n",
       "    </tr>\n",
       "    <tr>\n",
       "      <th>4</th>\n",
       "      <td>1318</td>\n",
       "      <td>1001091</td>\n",
       "      <td>1271.0</td>\n",
       "      <td>0</td>\n",
       "      <td>0.0</td>\n",
       "      <td>0</td>\n",
       "      <td>0.0</td>\n",
       "      <td>0.0</td>\n",
       "      <td>0.0</td>\n",
       "      <td>2550.0</td>\n",
       "      <td>0.0</td>\n",
       "      <td>16552.0</td>\n",
       "      <td>0.0</td>\n",
       "      <td>23718.0</td>\n",
       "      <td>0.0</td>\n",
       "      <td>0.0</td>\n",
       "      <td>7326.0</td>\n",
       "      <td>0.0</td>\n",
       "      <td>0.0</td>\n",
       "      <td>51220.0</td>\n",
       "      <td>214100.0</td>\n",
       "      <td>11368.0</td>\n",
       "      <td>601.0</td>\n",
       "      <td>3221.0</td>\n",
       "      <td>8543.0</td>\n",
       "      <td>0.0</td>\n",
       "      <td>0.0</td>\n",
       "      <td>0.0</td>\n",
       "      <td>0.0</td>\n",
       "      <td>0.0</td>\n",
       "      <td>0.0</td>\n",
       "      <td>282536.0</td>\n",
       "      <td>0.0</td>\n",
       "      <td>7390.0</td>\n",
       "      <td>5854.0</td>\n",
       "      <td>6315.0</td>\n",
       "      <td>0.0</td>\n",
       "      <td>0.0</td>\n",
       "      <td>0.0</td>\n",
       "      <td>54666.0</td>\n",
       "      <td>16.0</td>\n",
       "      <td>13487.0</td>\n",
       "    </tr>\n",
       "  </tbody>\n",
       "</table>\n",
       "</div>"
      ],
      "text/plain": [
       "   Unnamed: 0      uid  duration0  duration1  duration2  duration3  duration4  \\\n",
       "0           0  1000364        0.0          0        0.0          0        0.0   \n",
       "1         198  1000387        0.0          0        0.0          0        0.0   \n",
       "2         689  1000872        0.0          0        0.0          0        0.0   \n",
       "3        1095  1000951        0.0          0        0.0          0        0.0   \n",
       "4        1318  1001091     1271.0          0        0.0          0        0.0   \n",
       "\n",
       "   duration5  duration6  duration7  duration8  duration9  duration10  \\\n",
       "0        0.0        0.0        0.0        0.0        0.0         0.0   \n",
       "1        0.0        0.0     6330.0        0.0    12871.0         0.0   \n",
       "2        0.0        0.0    25421.0        0.0    17558.0         0.0   \n",
       "3        0.0        0.0      724.0        0.0    13677.0         0.0   \n",
       "4        0.0        0.0     2550.0        0.0    16552.0         0.0   \n",
       "\n",
       "   duration11  duration12  duration13  duration14  duration15  duration16  \\\n",
       "0         0.0         0.0         0.0         0.0         0.0         0.0   \n",
       "1    109901.0         0.0         0.0         0.0         0.0         0.0   \n",
       "2         0.0         0.0         0.0     20772.0         0.0         0.0   \n",
       "3         0.0         0.0         0.0         0.0         0.0         0.0   \n",
       "4     23718.0         0.0         0.0      7326.0         0.0         0.0   \n",
       "\n",
       "   duration17  duration18  duration19  duration20  duration21  duration22  \\\n",
       "0        10.0     40589.0         0.0        32.0     30228.0         0.0   \n",
       "1     39409.0    195735.0    274784.0      2408.0     55456.0         0.0   \n",
       "2      5135.0     10821.0      5278.0       707.0      1683.0         0.0   \n",
       "3     10325.0     81252.0       678.0         0.0         0.0         0.0   \n",
       "4     51220.0    214100.0     11368.0       601.0      3221.0      8543.0   \n",
       "\n",
       "   duration23  duration24  duration25  duration26  duration27  duration28  \\\n",
       "0         0.0         0.0         0.0         0.0         0.0         0.0   \n",
       "1         0.0         0.0         0.0      1157.0         0.0         0.0   \n",
       "2         0.0         0.0         0.0         0.0         0.0         0.0   \n",
       "3         0.0    188948.0         0.0         0.0         0.0         0.0   \n",
       "4         0.0         0.0         0.0         0.0         0.0         0.0   \n",
       "\n",
       "   duration29  duration30  duration31  duration32  duration33  duration34  \\\n",
       "0    281740.0         0.0         0.0         0.0         0.0         0.0   \n",
       "1    133202.0         0.0         0.0         0.0         0.0         0.0   \n",
       "2    213779.0         0.0         0.0         0.0         0.0         0.0   \n",
       "3     72441.0         0.0         0.0         0.0         0.0         0.0   \n",
       "4    282536.0         0.0      7390.0      5854.0      6315.0         0.0   \n",
       "\n",
       "   duration35  duration36  duration37  duration38  duration39  \n",
       "0         0.0         0.0     37765.0         0.0       392.0  \n",
       "1         0.0         0.0     50881.0     29069.0      6277.0  \n",
       "2         0.0         0.0     33108.0       320.0     14950.0  \n",
       "3         0.0         0.0      5243.0         0.0       787.0  \n",
       "4         0.0         0.0     54666.0        16.0     13487.0  "
      ]
     },
     "execution_count": 9,
     "metadata": {},
     "output_type": "execute_result"
    }
   ],
   "source": [
    "tempdf = pd.read_csv('process_user_app_usage.csv')\n",
    "tempdf.head()\n",
    "\n"
   ]
  },
  {
   "cell_type": "code",
   "execution_count": 35,
   "metadata": {
    "scrolled": true
   },
   "outputs": [
    {
     "data": {
      "text/html": [
       "<div>\n",
       "<style scoped>\n",
       "    .dataframe tbody tr th:only-of-type {\n",
       "        vertical-align: middle;\n",
       "    }\n",
       "\n",
       "    .dataframe tbody tr th {\n",
       "        vertical-align: top;\n",
       "    }\n",
       "\n",
       "    .dataframe thead th {\n",
       "        text-align: right;\n",
       "    }\n",
       "</style>\n",
       "<table border=\"1\" class=\"dataframe\">\n",
       "  <thead>\n",
       "    <tr style=\"text-align: right;\">\n",
       "      <th></th>\n",
       "      <th>uid</th>\n",
       "      <th>duration0</th>\n",
       "      <th>duration1</th>\n",
       "      <th>duration2</th>\n",
       "      <th>duration3</th>\n",
       "      <th>duration4</th>\n",
       "      <th>duration5</th>\n",
       "      <th>duration6</th>\n",
       "      <th>duration7</th>\n",
       "      <th>duration8</th>\n",
       "      <th>duration9</th>\n",
       "      <th>duration10</th>\n",
       "      <th>duration11</th>\n",
       "      <th>duration12</th>\n",
       "      <th>duration13</th>\n",
       "      <th>duration14</th>\n",
       "      <th>duration15</th>\n",
       "      <th>duration16</th>\n",
       "      <th>duration17</th>\n",
       "      <th>duration18</th>\n",
       "      <th>duration19</th>\n",
       "      <th>duration20</th>\n",
       "      <th>duration21</th>\n",
       "      <th>duration22</th>\n",
       "      <th>duration23</th>\n",
       "      <th>duration24</th>\n",
       "      <th>duration25</th>\n",
       "      <th>duration26</th>\n",
       "      <th>duration27</th>\n",
       "      <th>duration28</th>\n",
       "      <th>duration29</th>\n",
       "      <th>duration30</th>\n",
       "      <th>duration31</th>\n",
       "      <th>duration32</th>\n",
       "      <th>duration33</th>\n",
       "      <th>duration34</th>\n",
       "      <th>duration35</th>\n",
       "      <th>duration36</th>\n",
       "      <th>duration37</th>\n",
       "      <th>duration38</th>\n",
       "      <th>duration39</th>\n",
       "    </tr>\n",
       "  </thead>\n",
       "  <tbody>\n",
       "    <tr>\n",
       "      <th>0</th>\n",
       "      <td>1000364</td>\n",
       "      <td>0.0</td>\n",
       "      <td>0</td>\n",
       "      <td>0.0</td>\n",
       "      <td>0</td>\n",
       "      <td>0.0</td>\n",
       "      <td>0.0</td>\n",
       "      <td>0.0</td>\n",
       "      <td>0.0</td>\n",
       "      <td>0.0</td>\n",
       "      <td>0.0</td>\n",
       "      <td>0.0</td>\n",
       "      <td>0.0</td>\n",
       "      <td>0.0</td>\n",
       "      <td>0.0</td>\n",
       "      <td>0.0</td>\n",
       "      <td>0.0</td>\n",
       "      <td>0.0</td>\n",
       "      <td>10.0</td>\n",
       "      <td>40589.0</td>\n",
       "      <td>0.0</td>\n",
       "      <td>32.0</td>\n",
       "      <td>30228.0</td>\n",
       "      <td>0.0</td>\n",
       "      <td>0.0</td>\n",
       "      <td>0.0</td>\n",
       "      <td>0.0</td>\n",
       "      <td>0.0</td>\n",
       "      <td>0.0</td>\n",
       "      <td>0.0</td>\n",
       "      <td>281740.0</td>\n",
       "      <td>0.0</td>\n",
       "      <td>0.0</td>\n",
       "      <td>0.0</td>\n",
       "      <td>0.0</td>\n",
       "      <td>0.0</td>\n",
       "      <td>0.0</td>\n",
       "      <td>0.0</td>\n",
       "      <td>37765.0</td>\n",
       "      <td>0.0</td>\n",
       "      <td>392.0</td>\n",
       "    </tr>\n",
       "    <tr>\n",
       "      <th>1</th>\n",
       "      <td>1000387</td>\n",
       "      <td>0.0</td>\n",
       "      <td>0</td>\n",
       "      <td>0.0</td>\n",
       "      <td>0</td>\n",
       "      <td>0.0</td>\n",
       "      <td>0.0</td>\n",
       "      <td>0.0</td>\n",
       "      <td>6330.0</td>\n",
       "      <td>0.0</td>\n",
       "      <td>12871.0</td>\n",
       "      <td>0.0</td>\n",
       "      <td>109901.0</td>\n",
       "      <td>0.0</td>\n",
       "      <td>0.0</td>\n",
       "      <td>0.0</td>\n",
       "      <td>0.0</td>\n",
       "      <td>0.0</td>\n",
       "      <td>39409.0</td>\n",
       "      <td>195735.0</td>\n",
       "      <td>274784.0</td>\n",
       "      <td>2408.0</td>\n",
       "      <td>55456.0</td>\n",
       "      <td>0.0</td>\n",
       "      <td>0.0</td>\n",
       "      <td>0.0</td>\n",
       "      <td>0.0</td>\n",
       "      <td>1157.0</td>\n",
       "      <td>0.0</td>\n",
       "      <td>0.0</td>\n",
       "      <td>133202.0</td>\n",
       "      <td>0.0</td>\n",
       "      <td>0.0</td>\n",
       "      <td>0.0</td>\n",
       "      <td>0.0</td>\n",
       "      <td>0.0</td>\n",
       "      <td>0.0</td>\n",
       "      <td>0.0</td>\n",
       "      <td>50881.0</td>\n",
       "      <td>29069.0</td>\n",
       "      <td>6277.0</td>\n",
       "    </tr>\n",
       "    <tr>\n",
       "      <th>2</th>\n",
       "      <td>1000872</td>\n",
       "      <td>0.0</td>\n",
       "      <td>0</td>\n",
       "      <td>0.0</td>\n",
       "      <td>0</td>\n",
       "      <td>0.0</td>\n",
       "      <td>0.0</td>\n",
       "      <td>0.0</td>\n",
       "      <td>25421.0</td>\n",
       "      <td>0.0</td>\n",
       "      <td>17558.0</td>\n",
       "      <td>0.0</td>\n",
       "      <td>0.0</td>\n",
       "      <td>0.0</td>\n",
       "      <td>0.0</td>\n",
       "      <td>20772.0</td>\n",
       "      <td>0.0</td>\n",
       "      <td>0.0</td>\n",
       "      <td>5135.0</td>\n",
       "      <td>10821.0</td>\n",
       "      <td>5278.0</td>\n",
       "      <td>707.0</td>\n",
       "      <td>1683.0</td>\n",
       "      <td>0.0</td>\n",
       "      <td>0.0</td>\n",
       "      <td>0.0</td>\n",
       "      <td>0.0</td>\n",
       "      <td>0.0</td>\n",
       "      <td>0.0</td>\n",
       "      <td>0.0</td>\n",
       "      <td>213779.0</td>\n",
       "      <td>0.0</td>\n",
       "      <td>0.0</td>\n",
       "      <td>0.0</td>\n",
       "      <td>0.0</td>\n",
       "      <td>0.0</td>\n",
       "      <td>0.0</td>\n",
       "      <td>0.0</td>\n",
       "      <td>33108.0</td>\n",
       "      <td>320.0</td>\n",
       "      <td>14950.0</td>\n",
       "    </tr>\n",
       "    <tr>\n",
       "      <th>3</th>\n",
       "      <td>1000951</td>\n",
       "      <td>0.0</td>\n",
       "      <td>0</td>\n",
       "      <td>0.0</td>\n",
       "      <td>0</td>\n",
       "      <td>0.0</td>\n",
       "      <td>0.0</td>\n",
       "      <td>0.0</td>\n",
       "      <td>724.0</td>\n",
       "      <td>0.0</td>\n",
       "      <td>13677.0</td>\n",
       "      <td>0.0</td>\n",
       "      <td>0.0</td>\n",
       "      <td>0.0</td>\n",
       "      <td>0.0</td>\n",
       "      <td>0.0</td>\n",
       "      <td>0.0</td>\n",
       "      <td>0.0</td>\n",
       "      <td>10325.0</td>\n",
       "      <td>81252.0</td>\n",
       "      <td>678.0</td>\n",
       "      <td>0.0</td>\n",
       "      <td>0.0</td>\n",
       "      <td>0.0</td>\n",
       "      <td>0.0</td>\n",
       "      <td>188948.0</td>\n",
       "      <td>0.0</td>\n",
       "      <td>0.0</td>\n",
       "      <td>0.0</td>\n",
       "      <td>0.0</td>\n",
       "      <td>72441.0</td>\n",
       "      <td>0.0</td>\n",
       "      <td>0.0</td>\n",
       "      <td>0.0</td>\n",
       "      <td>0.0</td>\n",
       "      <td>0.0</td>\n",
       "      <td>0.0</td>\n",
       "      <td>0.0</td>\n",
       "      <td>5243.0</td>\n",
       "      <td>0.0</td>\n",
       "      <td>787.0</td>\n",
       "    </tr>\n",
       "    <tr>\n",
       "      <th>4</th>\n",
       "      <td>1001091</td>\n",
       "      <td>1271.0</td>\n",
       "      <td>0</td>\n",
       "      <td>0.0</td>\n",
       "      <td>0</td>\n",
       "      <td>0.0</td>\n",
       "      <td>0.0</td>\n",
       "      <td>0.0</td>\n",
       "      <td>2550.0</td>\n",
       "      <td>0.0</td>\n",
       "      <td>16552.0</td>\n",
       "      <td>0.0</td>\n",
       "      <td>23718.0</td>\n",
       "      <td>0.0</td>\n",
       "      <td>0.0</td>\n",
       "      <td>7326.0</td>\n",
       "      <td>0.0</td>\n",
       "      <td>0.0</td>\n",
       "      <td>51220.0</td>\n",
       "      <td>214100.0</td>\n",
       "      <td>11368.0</td>\n",
       "      <td>601.0</td>\n",
       "      <td>3221.0</td>\n",
       "      <td>8543.0</td>\n",
       "      <td>0.0</td>\n",
       "      <td>0.0</td>\n",
       "      <td>0.0</td>\n",
       "      <td>0.0</td>\n",
       "      <td>0.0</td>\n",
       "      <td>0.0</td>\n",
       "      <td>282536.0</td>\n",
       "      <td>0.0</td>\n",
       "      <td>7390.0</td>\n",
       "      <td>5854.0</td>\n",
       "      <td>6315.0</td>\n",
       "      <td>0.0</td>\n",
       "      <td>0.0</td>\n",
       "      <td>0.0</td>\n",
       "      <td>54666.0</td>\n",
       "      <td>16.0</td>\n",
       "      <td>13487.0</td>\n",
       "    </tr>\n",
       "    <tr>\n",
       "      <th>5</th>\n",
       "      <td>1001365</td>\n",
       "      <td>0.0</td>\n",
       "      <td>0</td>\n",
       "      <td>0.0</td>\n",
       "      <td>0</td>\n",
       "      <td>0.0</td>\n",
       "      <td>0.0</td>\n",
       "      <td>0.0</td>\n",
       "      <td>5472.0</td>\n",
       "      <td>0.0</td>\n",
       "      <td>4250.0</td>\n",
       "      <td>0.0</td>\n",
       "      <td>0.0</td>\n",
       "      <td>0.0</td>\n",
       "      <td>0.0</td>\n",
       "      <td>1581.0</td>\n",
       "      <td>0.0</td>\n",
       "      <td>0.0</td>\n",
       "      <td>4193.0</td>\n",
       "      <td>7825.0</td>\n",
       "      <td>0.0</td>\n",
       "      <td>0.0</td>\n",
       "      <td>0.0</td>\n",
       "      <td>0.0</td>\n",
       "      <td>0.0</td>\n",
       "      <td>0.0</td>\n",
       "      <td>0.0</td>\n",
       "      <td>306.0</td>\n",
       "      <td>0.0</td>\n",
       "      <td>0.0</td>\n",
       "      <td>87414.0</td>\n",
       "      <td>0.0</td>\n",
       "      <td>0.0</td>\n",
       "      <td>0.0</td>\n",
       "      <td>75.0</td>\n",
       "      <td>0.0</td>\n",
       "      <td>0.0</td>\n",
       "      <td>0.0</td>\n",
       "      <td>13788.0</td>\n",
       "      <td>0.0</td>\n",
       "      <td>27495.0</td>\n",
       "    </tr>\n",
       "    <tr>\n",
       "      <th>6</th>\n",
       "      <td>1001441</td>\n",
       "      <td>0.0</td>\n",
       "      <td>0</td>\n",
       "      <td>0.0</td>\n",
       "      <td>0</td>\n",
       "      <td>0.0</td>\n",
       "      <td>0.0</td>\n",
       "      <td>0.0</td>\n",
       "      <td>151790.0</td>\n",
       "      <td>0.0</td>\n",
       "      <td>1348.0</td>\n",
       "      <td>0.0</td>\n",
       "      <td>0.0</td>\n",
       "      <td>0.0</td>\n",
       "      <td>0.0</td>\n",
       "      <td>0.0</td>\n",
       "      <td>0.0</td>\n",
       "      <td>0.0</td>\n",
       "      <td>6192.0</td>\n",
       "      <td>195634.0</td>\n",
       "      <td>78716.0</td>\n",
       "      <td>1150.0</td>\n",
       "      <td>139516.0</td>\n",
       "      <td>712.0</td>\n",
       "      <td>0.0</td>\n",
       "      <td>0.0</td>\n",
       "      <td>0.0</td>\n",
       "      <td>0.0</td>\n",
       "      <td>0.0</td>\n",
       "      <td>0.0</td>\n",
       "      <td>160048.0</td>\n",
       "      <td>0.0</td>\n",
       "      <td>0.0</td>\n",
       "      <td>0.0</td>\n",
       "      <td>0.0</td>\n",
       "      <td>0.0</td>\n",
       "      <td>0.0</td>\n",
       "      <td>0.0</td>\n",
       "      <td>45521.0</td>\n",
       "      <td>0.0</td>\n",
       "      <td>11675.0</td>\n",
       "    </tr>\n",
       "    <tr>\n",
       "      <th>7</th>\n",
       "      <td>1001627</td>\n",
       "      <td>0.0</td>\n",
       "      <td>0</td>\n",
       "      <td>0.0</td>\n",
       "      <td>0</td>\n",
       "      <td>0.0</td>\n",
       "      <td>0.0</td>\n",
       "      <td>0.0</td>\n",
       "      <td>3449.0</td>\n",
       "      <td>0.0</td>\n",
       "      <td>5184.0</td>\n",
       "      <td>0.0</td>\n",
       "      <td>0.0</td>\n",
       "      <td>0.0</td>\n",
       "      <td>0.0</td>\n",
       "      <td>0.0</td>\n",
       "      <td>0.0</td>\n",
       "      <td>0.0</td>\n",
       "      <td>5711.0</td>\n",
       "      <td>81032.0</td>\n",
       "      <td>0.0</td>\n",
       "      <td>6.0</td>\n",
       "      <td>0.0</td>\n",
       "      <td>0.0</td>\n",
       "      <td>0.0</td>\n",
       "      <td>0.0</td>\n",
       "      <td>0.0</td>\n",
       "      <td>0.0</td>\n",
       "      <td>0.0</td>\n",
       "      <td>0.0</td>\n",
       "      <td>129590.0</td>\n",
       "      <td>0.0</td>\n",
       "      <td>366847.0</td>\n",
       "      <td>0.0</td>\n",
       "      <td>0.0</td>\n",
       "      <td>0.0</td>\n",
       "      <td>0.0</td>\n",
       "      <td>0.0</td>\n",
       "      <td>25004.0</td>\n",
       "      <td>0.0</td>\n",
       "      <td>3931.0</td>\n",
       "    </tr>\n",
       "    <tr>\n",
       "      <th>8</th>\n",
       "      <td>1001700</td>\n",
       "      <td>0.0</td>\n",
       "      <td>0</td>\n",
       "      <td>0.0</td>\n",
       "      <td>0</td>\n",
       "      <td>44061.0</td>\n",
       "      <td>0.0</td>\n",
       "      <td>0.0</td>\n",
       "      <td>2753.0</td>\n",
       "      <td>0.0</td>\n",
       "      <td>14119.0</td>\n",
       "      <td>0.0</td>\n",
       "      <td>0.0</td>\n",
       "      <td>0.0</td>\n",
       "      <td>0.0</td>\n",
       "      <td>0.0</td>\n",
       "      <td>0.0</td>\n",
       "      <td>0.0</td>\n",
       "      <td>52482.0</td>\n",
       "      <td>56869.0</td>\n",
       "      <td>33709.0</td>\n",
       "      <td>110355.0</td>\n",
       "      <td>23291.0</td>\n",
       "      <td>0.0</td>\n",
       "      <td>0.0</td>\n",
       "      <td>27732.0</td>\n",
       "      <td>0.0</td>\n",
       "      <td>2624.0</td>\n",
       "      <td>0.0</td>\n",
       "      <td>0.0</td>\n",
       "      <td>127161.0</td>\n",
       "      <td>0.0</td>\n",
       "      <td>0.0</td>\n",
       "      <td>0.0</td>\n",
       "      <td>3831.0</td>\n",
       "      <td>0.0</td>\n",
       "      <td>0.0</td>\n",
       "      <td>0.0</td>\n",
       "      <td>10128.0</td>\n",
       "      <td>10997.0</td>\n",
       "      <td>2683.0</td>\n",
       "    </tr>\n",
       "    <tr>\n",
       "      <th>9</th>\n",
       "      <td>1001710</td>\n",
       "      <td>0.0</td>\n",
       "      <td>0</td>\n",
       "      <td>0.0</td>\n",
       "      <td>0</td>\n",
       "      <td>27833.0</td>\n",
       "      <td>0.0</td>\n",
       "      <td>0.0</td>\n",
       "      <td>33252.0</td>\n",
       "      <td>0.0</td>\n",
       "      <td>6896.0</td>\n",
       "      <td>0.0</td>\n",
       "      <td>0.0</td>\n",
       "      <td>0.0</td>\n",
       "      <td>0.0</td>\n",
       "      <td>0.0</td>\n",
       "      <td>0.0</td>\n",
       "      <td>0.0</td>\n",
       "      <td>13561.0</td>\n",
       "      <td>43192.0</td>\n",
       "      <td>0.0</td>\n",
       "      <td>1876.0</td>\n",
       "      <td>160697.0</td>\n",
       "      <td>4429.0</td>\n",
       "      <td>0.0</td>\n",
       "      <td>0.0</td>\n",
       "      <td>0.0</td>\n",
       "      <td>372.0</td>\n",
       "      <td>0.0</td>\n",
       "      <td>0.0</td>\n",
       "      <td>155099.0</td>\n",
       "      <td>0.0</td>\n",
       "      <td>0.0</td>\n",
       "      <td>0.0</td>\n",
       "      <td>0.0</td>\n",
       "      <td>0.0</td>\n",
       "      <td>0.0</td>\n",
       "      <td>0.0</td>\n",
       "      <td>29133.0</td>\n",
       "      <td>0.0</td>\n",
       "      <td>9638.0</td>\n",
       "    </tr>\n",
       "    <tr>\n",
       "      <th>10</th>\n",
       "      <td>1002654</td>\n",
       "      <td>0.0</td>\n",
       "      <td>0</td>\n",
       "      <td>0.0</td>\n",
       "      <td>0</td>\n",
       "      <td>0.0</td>\n",
       "      <td>0.0</td>\n",
       "      <td>0.0</td>\n",
       "      <td>13814.0</td>\n",
       "      <td>0.0</td>\n",
       "      <td>7667.0</td>\n",
       "      <td>0.0</td>\n",
       "      <td>0.0</td>\n",
       "      <td>0.0</td>\n",
       "      <td>0.0</td>\n",
       "      <td>0.0</td>\n",
       "      <td>0.0</td>\n",
       "      <td>0.0</td>\n",
       "      <td>573263.0</td>\n",
       "      <td>35705.0</td>\n",
       "      <td>105642.0</td>\n",
       "      <td>0.0</td>\n",
       "      <td>2308.0</td>\n",
       "      <td>0.0</td>\n",
       "      <td>0.0</td>\n",
       "      <td>0.0</td>\n",
       "      <td>0.0</td>\n",
       "      <td>0.0</td>\n",
       "      <td>0.0</td>\n",
       "      <td>0.0</td>\n",
       "      <td>76400.0</td>\n",
       "      <td>0.0</td>\n",
       "      <td>0.0</td>\n",
       "      <td>0.0</td>\n",
       "      <td>3.0</td>\n",
       "      <td>0.0</td>\n",
       "      <td>0.0</td>\n",
       "      <td>0.0</td>\n",
       "      <td>2598.0</td>\n",
       "      <td>0.0</td>\n",
       "      <td>18704.0</td>\n",
       "    </tr>\n",
       "    <tr>\n",
       "      <th>11</th>\n",
       "      <td>1002722</td>\n",
       "      <td>0.0</td>\n",
       "      <td>0</td>\n",
       "      <td>0.0</td>\n",
       "      <td>0</td>\n",
       "      <td>0.0</td>\n",
       "      <td>0.0</td>\n",
       "      <td>0.0</td>\n",
       "      <td>2172.0</td>\n",
       "      <td>0.0</td>\n",
       "      <td>0.0</td>\n",
       "      <td>0.0</td>\n",
       "      <td>0.0</td>\n",
       "      <td>0.0</td>\n",
       "      <td>0.0</td>\n",
       "      <td>0.0</td>\n",
       "      <td>0.0</td>\n",
       "      <td>0.0</td>\n",
       "      <td>2910.0</td>\n",
       "      <td>13774.0</td>\n",
       "      <td>13449.0</td>\n",
       "      <td>66.0</td>\n",
       "      <td>0.0</td>\n",
       "      <td>0.0</td>\n",
       "      <td>0.0</td>\n",
       "      <td>0.0</td>\n",
       "      <td>0.0</td>\n",
       "      <td>0.0</td>\n",
       "      <td>0.0</td>\n",
       "      <td>0.0</td>\n",
       "      <td>46128.0</td>\n",
       "      <td>0.0</td>\n",
       "      <td>0.0</td>\n",
       "      <td>0.0</td>\n",
       "      <td>5885.0</td>\n",
       "      <td>0.0</td>\n",
       "      <td>0.0</td>\n",
       "      <td>0.0</td>\n",
       "      <td>20224.0</td>\n",
       "      <td>0.0</td>\n",
       "      <td>0.0</td>\n",
       "    </tr>\n",
       "    <tr>\n",
       "      <th>12</th>\n",
       "      <td>1003058</td>\n",
       "      <td>0.0</td>\n",
       "      <td>0</td>\n",
       "      <td>0.0</td>\n",
       "      <td>0</td>\n",
       "      <td>27504.0</td>\n",
       "      <td>0.0</td>\n",
       "      <td>0.0</td>\n",
       "      <td>15731.0</td>\n",
       "      <td>0.0</td>\n",
       "      <td>868.0</td>\n",
       "      <td>0.0</td>\n",
       "      <td>0.0</td>\n",
       "      <td>0.0</td>\n",
       "      <td>0.0</td>\n",
       "      <td>0.0</td>\n",
       "      <td>0.0</td>\n",
       "      <td>0.0</td>\n",
       "      <td>118230.0</td>\n",
       "      <td>149617.0</td>\n",
       "      <td>0.0</td>\n",
       "      <td>7212.0</td>\n",
       "      <td>29633.0</td>\n",
       "      <td>0.0</td>\n",
       "      <td>0.0</td>\n",
       "      <td>196447.0</td>\n",
       "      <td>0.0</td>\n",
       "      <td>0.0</td>\n",
       "      <td>0.0</td>\n",
       "      <td>0.0</td>\n",
       "      <td>52203.0</td>\n",
       "      <td>0.0</td>\n",
       "      <td>0.0</td>\n",
       "      <td>0.0</td>\n",
       "      <td>0.0</td>\n",
       "      <td>0.0</td>\n",
       "      <td>0.0</td>\n",
       "      <td>0.0</td>\n",
       "      <td>1310.0</td>\n",
       "      <td>0.0</td>\n",
       "      <td>94.0</td>\n",
       "    </tr>\n",
       "    <tr>\n",
       "      <th>13</th>\n",
       "      <td>1003472</td>\n",
       "      <td>0.0</td>\n",
       "      <td>0</td>\n",
       "      <td>0.0</td>\n",
       "      <td>0</td>\n",
       "      <td>206465.0</td>\n",
       "      <td>0.0</td>\n",
       "      <td>0.0</td>\n",
       "      <td>0.0</td>\n",
       "      <td>0.0</td>\n",
       "      <td>0.0</td>\n",
       "      <td>0.0</td>\n",
       "      <td>0.0</td>\n",
       "      <td>0.0</td>\n",
       "      <td>0.0</td>\n",
       "      <td>0.0</td>\n",
       "      <td>0.0</td>\n",
       "      <td>0.0</td>\n",
       "      <td>17545.0</td>\n",
       "      <td>210335.0</td>\n",
       "      <td>723.0</td>\n",
       "      <td>0.0</td>\n",
       "      <td>2830.0</td>\n",
       "      <td>0.0</td>\n",
       "      <td>0.0</td>\n",
       "      <td>0.0</td>\n",
       "      <td>0.0</td>\n",
       "      <td>0.0</td>\n",
       "      <td>0.0</td>\n",
       "      <td>0.0</td>\n",
       "      <td>87487.0</td>\n",
       "      <td>0.0</td>\n",
       "      <td>0.0</td>\n",
       "      <td>0.0</td>\n",
       "      <td>0.0</td>\n",
       "      <td>0.0</td>\n",
       "      <td>0.0</td>\n",
       "      <td>0.0</td>\n",
       "      <td>24012.0</td>\n",
       "      <td>0.0</td>\n",
       "      <td>1815.0</td>\n",
       "    </tr>\n",
       "    <tr>\n",
       "      <th>14</th>\n",
       "      <td>1003568</td>\n",
       "      <td>0.0</td>\n",
       "      <td>0</td>\n",
       "      <td>0.0</td>\n",
       "      <td>0</td>\n",
       "      <td>0.0</td>\n",
       "      <td>0.0</td>\n",
       "      <td>0.0</td>\n",
       "      <td>58670.0</td>\n",
       "      <td>0.0</td>\n",
       "      <td>7474.0</td>\n",
       "      <td>0.0</td>\n",
       "      <td>0.0</td>\n",
       "      <td>0.0</td>\n",
       "      <td>0.0</td>\n",
       "      <td>0.0</td>\n",
       "      <td>0.0</td>\n",
       "      <td>0.0</td>\n",
       "      <td>323.0</td>\n",
       "      <td>0.0</td>\n",
       "      <td>0.0</td>\n",
       "      <td>76.0</td>\n",
       "      <td>212447.0</td>\n",
       "      <td>322.0</td>\n",
       "      <td>0.0</td>\n",
       "      <td>0.0</td>\n",
       "      <td>0.0</td>\n",
       "      <td>0.0</td>\n",
       "      <td>0.0</td>\n",
       "      <td>0.0</td>\n",
       "      <td>47454.0</td>\n",
       "      <td>0.0</td>\n",
       "      <td>0.0</td>\n",
       "      <td>0.0</td>\n",
       "      <td>0.0</td>\n",
       "      <td>0.0</td>\n",
       "      <td>0.0</td>\n",
       "      <td>0.0</td>\n",
       "      <td>59143.0</td>\n",
       "      <td>0.0</td>\n",
       "      <td>376.0</td>\n",
       "    </tr>\n",
       "    <tr>\n",
       "      <th>15</th>\n",
       "      <td>1003619</td>\n",
       "      <td>0.0</td>\n",
       "      <td>0</td>\n",
       "      <td>0.0</td>\n",
       "      <td>0</td>\n",
       "      <td>0.0</td>\n",
       "      <td>0.0</td>\n",
       "      <td>0.0</td>\n",
       "      <td>3254.0</td>\n",
       "      <td>0.0</td>\n",
       "      <td>13032.0</td>\n",
       "      <td>0.0</td>\n",
       "      <td>89444.0</td>\n",
       "      <td>0.0</td>\n",
       "      <td>0.0</td>\n",
       "      <td>15086.0</td>\n",
       "      <td>0.0</td>\n",
       "      <td>0.0</td>\n",
       "      <td>28941.0</td>\n",
       "      <td>64491.0</td>\n",
       "      <td>237406.0</td>\n",
       "      <td>1584.0</td>\n",
       "      <td>5398.0</td>\n",
       "      <td>0.0</td>\n",
       "      <td>0.0</td>\n",
       "      <td>7337.0</td>\n",
       "      <td>0.0</td>\n",
       "      <td>9.0</td>\n",
       "      <td>0.0</td>\n",
       "      <td>0.0</td>\n",
       "      <td>186779.0</td>\n",
       "      <td>0.0</td>\n",
       "      <td>69324.0</td>\n",
       "      <td>0.0</td>\n",
       "      <td>757.0</td>\n",
       "      <td>0.0</td>\n",
       "      <td>0.0</td>\n",
       "      <td>0.0</td>\n",
       "      <td>2095.0</td>\n",
       "      <td>0.0</td>\n",
       "      <td>700.0</td>\n",
       "    </tr>\n",
       "    <tr>\n",
       "      <th>16</th>\n",
       "      <td>1004358</td>\n",
       "      <td>0.0</td>\n",
       "      <td>0</td>\n",
       "      <td>0.0</td>\n",
       "      <td>0</td>\n",
       "      <td>0.0</td>\n",
       "      <td>0.0</td>\n",
       "      <td>0.0</td>\n",
       "      <td>289.0</td>\n",
       "      <td>0.0</td>\n",
       "      <td>11724.0</td>\n",
       "      <td>0.0</td>\n",
       "      <td>0.0</td>\n",
       "      <td>0.0</td>\n",
       "      <td>0.0</td>\n",
       "      <td>498.0</td>\n",
       "      <td>0.0</td>\n",
       "      <td>0.0</td>\n",
       "      <td>7303.0</td>\n",
       "      <td>68193.0</td>\n",
       "      <td>0.0</td>\n",
       "      <td>51.0</td>\n",
       "      <td>296.0</td>\n",
       "      <td>0.0</td>\n",
       "      <td>0.0</td>\n",
       "      <td>25694.0</td>\n",
       "      <td>0.0</td>\n",
       "      <td>0.0</td>\n",
       "      <td>0.0</td>\n",
       "      <td>0.0</td>\n",
       "      <td>208086.0</td>\n",
       "      <td>0.0</td>\n",
       "      <td>0.0</td>\n",
       "      <td>0.0</td>\n",
       "      <td>0.0</td>\n",
       "      <td>0.0</td>\n",
       "      <td>0.0</td>\n",
       "      <td>0.0</td>\n",
       "      <td>295530.0</td>\n",
       "      <td>3869.0</td>\n",
       "      <td>72108.0</td>\n",
       "    </tr>\n",
       "    <tr>\n",
       "      <th>17</th>\n",
       "      <td>1004475</td>\n",
       "      <td>0.0</td>\n",
       "      <td>0</td>\n",
       "      <td>0.0</td>\n",
       "      <td>0</td>\n",
       "      <td>0.0</td>\n",
       "      <td>0.0</td>\n",
       "      <td>0.0</td>\n",
       "      <td>0.0</td>\n",
       "      <td>0.0</td>\n",
       "      <td>0.0</td>\n",
       "      <td>0.0</td>\n",
       "      <td>0.0</td>\n",
       "      <td>0.0</td>\n",
       "      <td>0.0</td>\n",
       "      <td>0.0</td>\n",
       "      <td>0.0</td>\n",
       "      <td>0.0</td>\n",
       "      <td>246.0</td>\n",
       "      <td>5904.0</td>\n",
       "      <td>3103.0</td>\n",
       "      <td>146.0</td>\n",
       "      <td>429.0</td>\n",
       "      <td>0.0</td>\n",
       "      <td>0.0</td>\n",
       "      <td>0.0</td>\n",
       "      <td>0.0</td>\n",
       "      <td>0.0</td>\n",
       "      <td>0.0</td>\n",
       "      <td>0.0</td>\n",
       "      <td>8740.0</td>\n",
       "      <td>0.0</td>\n",
       "      <td>3639.0</td>\n",
       "      <td>0.0</td>\n",
       "      <td>656.0</td>\n",
       "      <td>0.0</td>\n",
       "      <td>0.0</td>\n",
       "      <td>0.0</td>\n",
       "      <td>931.0</td>\n",
       "      <td>0.0</td>\n",
       "      <td>0.0</td>\n",
       "    </tr>\n",
       "    <tr>\n",
       "      <th>18</th>\n",
       "      <td>1004705</td>\n",
       "      <td>0.0</td>\n",
       "      <td>0</td>\n",
       "      <td>0.0</td>\n",
       "      <td>0</td>\n",
       "      <td>0.0</td>\n",
       "      <td>0.0</td>\n",
       "      <td>0.0</td>\n",
       "      <td>15344.0</td>\n",
       "      <td>122.0</td>\n",
       "      <td>5962.0</td>\n",
       "      <td>0.0</td>\n",
       "      <td>0.0</td>\n",
       "      <td>0.0</td>\n",
       "      <td>0.0</td>\n",
       "      <td>9326.0</td>\n",
       "      <td>0.0</td>\n",
       "      <td>0.0</td>\n",
       "      <td>8594.0</td>\n",
       "      <td>145289.0</td>\n",
       "      <td>189807.0</td>\n",
       "      <td>2538.0</td>\n",
       "      <td>54.0</td>\n",
       "      <td>746.0</td>\n",
       "      <td>0.0</td>\n",
       "      <td>0.0</td>\n",
       "      <td>0.0</td>\n",
       "      <td>0.0</td>\n",
       "      <td>0.0</td>\n",
       "      <td>0.0</td>\n",
       "      <td>179556.0</td>\n",
       "      <td>0.0</td>\n",
       "      <td>0.0</td>\n",
       "      <td>0.0</td>\n",
       "      <td>1382.0</td>\n",
       "      <td>0.0</td>\n",
       "      <td>0.0</td>\n",
       "      <td>0.0</td>\n",
       "      <td>46280.0</td>\n",
       "      <td>2012.0</td>\n",
       "      <td>6833.0</td>\n",
       "    </tr>\n",
       "    <tr>\n",
       "      <th>19</th>\n",
       "      <td>1004744</td>\n",
       "      <td>0.0</td>\n",
       "      <td>0</td>\n",
       "      <td>0.0</td>\n",
       "      <td>0</td>\n",
       "      <td>0.0</td>\n",
       "      <td>0.0</td>\n",
       "      <td>0.0</td>\n",
       "      <td>1121.0</td>\n",
       "      <td>0.0</td>\n",
       "      <td>1622.0</td>\n",
       "      <td>0.0</td>\n",
       "      <td>0.0</td>\n",
       "      <td>0.0</td>\n",
       "      <td>0.0</td>\n",
       "      <td>0.0</td>\n",
       "      <td>0.0</td>\n",
       "      <td>0.0</td>\n",
       "      <td>2349.0</td>\n",
       "      <td>39661.0</td>\n",
       "      <td>2218.0</td>\n",
       "      <td>1164.0</td>\n",
       "      <td>0.0</td>\n",
       "      <td>0.0</td>\n",
       "      <td>0.0</td>\n",
       "      <td>0.0</td>\n",
       "      <td>0.0</td>\n",
       "      <td>0.0</td>\n",
       "      <td>0.0</td>\n",
       "      <td>0.0</td>\n",
       "      <td>68741.0</td>\n",
       "      <td>0.0</td>\n",
       "      <td>0.0</td>\n",
       "      <td>0.0</td>\n",
       "      <td>0.0</td>\n",
       "      <td>0.0</td>\n",
       "      <td>0.0</td>\n",
       "      <td>0.0</td>\n",
       "      <td>4632.0</td>\n",
       "      <td>0.0</td>\n",
       "      <td>7737.0</td>\n",
       "    </tr>\n",
       "    <tr>\n",
       "      <th>20</th>\n",
       "      <td>1004976</td>\n",
       "      <td>0.0</td>\n",
       "      <td>0</td>\n",
       "      <td>0.0</td>\n",
       "      <td>0</td>\n",
       "      <td>241117.0</td>\n",
       "      <td>0.0</td>\n",
       "      <td>0.0</td>\n",
       "      <td>3100.0</td>\n",
       "      <td>0.0</td>\n",
       "      <td>0.0</td>\n",
       "      <td>0.0</td>\n",
       "      <td>0.0</td>\n",
       "      <td>0.0</td>\n",
       "      <td>0.0</td>\n",
       "      <td>17965.0</td>\n",
       "      <td>0.0</td>\n",
       "      <td>0.0</td>\n",
       "      <td>68662.0</td>\n",
       "      <td>2195.0</td>\n",
       "      <td>10527.0</td>\n",
       "      <td>3787.0</td>\n",
       "      <td>3640.0</td>\n",
       "      <td>0.0</td>\n",
       "      <td>0.0</td>\n",
       "      <td>0.0</td>\n",
       "      <td>0.0</td>\n",
       "      <td>0.0</td>\n",
       "      <td>0.0</td>\n",
       "      <td>0.0</td>\n",
       "      <td>43671.0</td>\n",
       "      <td>0.0</td>\n",
       "      <td>0.0</td>\n",
       "      <td>0.0</td>\n",
       "      <td>0.0</td>\n",
       "      <td>0.0</td>\n",
       "      <td>0.0</td>\n",
       "      <td>0.0</td>\n",
       "      <td>6012.0</td>\n",
       "      <td>0.0</td>\n",
       "      <td>0.0</td>\n",
       "    </tr>\n",
       "    <tr>\n",
       "      <th>21</th>\n",
       "      <td>1005101</td>\n",
       "      <td>0.0</td>\n",
       "      <td>0</td>\n",
       "      <td>0.0</td>\n",
       "      <td>0</td>\n",
       "      <td>0.0</td>\n",
       "      <td>0.0</td>\n",
       "      <td>0.0</td>\n",
       "      <td>619.0</td>\n",
       "      <td>0.0</td>\n",
       "      <td>93935.0</td>\n",
       "      <td>0.0</td>\n",
       "      <td>55208.0</td>\n",
       "      <td>0.0</td>\n",
       "      <td>0.0</td>\n",
       "      <td>0.0</td>\n",
       "      <td>0.0</td>\n",
       "      <td>0.0</td>\n",
       "      <td>7655.0</td>\n",
       "      <td>51334.0</td>\n",
       "      <td>124369.0</td>\n",
       "      <td>324.0</td>\n",
       "      <td>3554.0</td>\n",
       "      <td>2832.0</td>\n",
       "      <td>0.0</td>\n",
       "      <td>57.0</td>\n",
       "      <td>0.0</td>\n",
       "      <td>169.0</td>\n",
       "      <td>0.0</td>\n",
       "      <td>0.0</td>\n",
       "      <td>242272.0</td>\n",
       "      <td>0.0</td>\n",
       "      <td>0.0</td>\n",
       "      <td>0.0</td>\n",
       "      <td>46.0</td>\n",
       "      <td>0.0</td>\n",
       "      <td>0.0</td>\n",
       "      <td>0.0</td>\n",
       "      <td>3677.0</td>\n",
       "      <td>0.0</td>\n",
       "      <td>2755.0</td>\n",
       "    </tr>\n",
       "    <tr>\n",
       "      <th>22</th>\n",
       "      <td>1005832</td>\n",
       "      <td>0.0</td>\n",
       "      <td>0</td>\n",
       "      <td>0.0</td>\n",
       "      <td>0</td>\n",
       "      <td>0.0</td>\n",
       "      <td>0.0</td>\n",
       "      <td>0.0</td>\n",
       "      <td>1166.0</td>\n",
       "      <td>0.0</td>\n",
       "      <td>4328.0</td>\n",
       "      <td>0.0</td>\n",
       "      <td>0.0</td>\n",
       "      <td>0.0</td>\n",
       "      <td>0.0</td>\n",
       "      <td>0.0</td>\n",
       "      <td>0.0</td>\n",
       "      <td>0.0</td>\n",
       "      <td>3570.0</td>\n",
       "      <td>308497.0</td>\n",
       "      <td>36786.0</td>\n",
       "      <td>201295.0</td>\n",
       "      <td>98.0</td>\n",
       "      <td>26548.0</td>\n",
       "      <td>0.0</td>\n",
       "      <td>0.0</td>\n",
       "      <td>0.0</td>\n",
       "      <td>0.0</td>\n",
       "      <td>0.0</td>\n",
       "      <td>0.0</td>\n",
       "      <td>147886.0</td>\n",
       "      <td>0.0</td>\n",
       "      <td>0.0</td>\n",
       "      <td>0.0</td>\n",
       "      <td>0.0</td>\n",
       "      <td>0.0</td>\n",
       "      <td>0.0</td>\n",
       "      <td>0.0</td>\n",
       "      <td>36785.0</td>\n",
       "      <td>0.0</td>\n",
       "      <td>5384.0</td>\n",
       "    </tr>\n",
       "    <tr>\n",
       "      <th>23</th>\n",
       "      <td>1006498</td>\n",
       "      <td>0.0</td>\n",
       "      <td>0</td>\n",
       "      <td>0.0</td>\n",
       "      <td>0</td>\n",
       "      <td>0.0</td>\n",
       "      <td>0.0</td>\n",
       "      <td>0.0</td>\n",
       "      <td>570.0</td>\n",
       "      <td>0.0</td>\n",
       "      <td>0.0</td>\n",
       "      <td>0.0</td>\n",
       "      <td>0.0</td>\n",
       "      <td>0.0</td>\n",
       "      <td>0.0</td>\n",
       "      <td>21090.0</td>\n",
       "      <td>0.0</td>\n",
       "      <td>0.0</td>\n",
       "      <td>856.0</td>\n",
       "      <td>9347.0</td>\n",
       "      <td>27.0</td>\n",
       "      <td>0.0</td>\n",
       "      <td>0.0</td>\n",
       "      <td>0.0</td>\n",
       "      <td>0.0</td>\n",
       "      <td>0.0</td>\n",
       "      <td>0.0</td>\n",
       "      <td>0.0</td>\n",
       "      <td>0.0</td>\n",
       "      <td>0.0</td>\n",
       "      <td>237864.0</td>\n",
       "      <td>0.0</td>\n",
       "      <td>0.0</td>\n",
       "      <td>0.0</td>\n",
       "      <td>0.0</td>\n",
       "      <td>0.0</td>\n",
       "      <td>0.0</td>\n",
       "      <td>0.0</td>\n",
       "      <td>30120.0</td>\n",
       "      <td>0.0</td>\n",
       "      <td>9085.0</td>\n",
       "    </tr>\n",
       "    <tr>\n",
       "      <th>24</th>\n",
       "      <td>1006566</td>\n",
       "      <td>0.0</td>\n",
       "      <td>0</td>\n",
       "      <td>0.0</td>\n",
       "      <td>0</td>\n",
       "      <td>0.0</td>\n",
       "      <td>0.0</td>\n",
       "      <td>0.0</td>\n",
       "      <td>4132.0</td>\n",
       "      <td>0.0</td>\n",
       "      <td>0.0</td>\n",
       "      <td>0.0</td>\n",
       "      <td>3829.0</td>\n",
       "      <td>0.0</td>\n",
       "      <td>0.0</td>\n",
       "      <td>0.0</td>\n",
       "      <td>0.0</td>\n",
       "      <td>0.0</td>\n",
       "      <td>45462.0</td>\n",
       "      <td>24170.0</td>\n",
       "      <td>0.0</td>\n",
       "      <td>1.0</td>\n",
       "      <td>111757.0</td>\n",
       "      <td>0.0</td>\n",
       "      <td>0.0</td>\n",
       "      <td>22292.0</td>\n",
       "      <td>0.0</td>\n",
       "      <td>0.0</td>\n",
       "      <td>0.0</td>\n",
       "      <td>0.0</td>\n",
       "      <td>193258.0</td>\n",
       "      <td>0.0</td>\n",
       "      <td>69010.0</td>\n",
       "      <td>0.0</td>\n",
       "      <td>1713.0</td>\n",
       "      <td>0.0</td>\n",
       "      <td>0.0</td>\n",
       "      <td>0.0</td>\n",
       "      <td>18771.0</td>\n",
       "      <td>0.0</td>\n",
       "      <td>0.0</td>\n",
       "    </tr>\n",
       "    <tr>\n",
       "      <th>25</th>\n",
       "      <td>1007354</td>\n",
       "      <td>0.0</td>\n",
       "      <td>0</td>\n",
       "      <td>0.0</td>\n",
       "      <td>0</td>\n",
       "      <td>156.0</td>\n",
       "      <td>0.0</td>\n",
       "      <td>2170.0</td>\n",
       "      <td>154.0</td>\n",
       "      <td>0.0</td>\n",
       "      <td>0.0</td>\n",
       "      <td>0.0</td>\n",
       "      <td>0.0</td>\n",
       "      <td>0.0</td>\n",
       "      <td>0.0</td>\n",
       "      <td>0.0</td>\n",
       "      <td>0.0</td>\n",
       "      <td>0.0</td>\n",
       "      <td>4184.0</td>\n",
       "      <td>34233.0</td>\n",
       "      <td>3732.0</td>\n",
       "      <td>818.0</td>\n",
       "      <td>0.0</td>\n",
       "      <td>0.0</td>\n",
       "      <td>0.0</td>\n",
       "      <td>0.0</td>\n",
       "      <td>0.0</td>\n",
       "      <td>0.0</td>\n",
       "      <td>0.0</td>\n",
       "      <td>0.0</td>\n",
       "      <td>21590.0</td>\n",
       "      <td>0.0</td>\n",
       "      <td>0.0</td>\n",
       "      <td>0.0</td>\n",
       "      <td>0.0</td>\n",
       "      <td>0.0</td>\n",
       "      <td>0.0</td>\n",
       "      <td>0.0</td>\n",
       "      <td>6412.0</td>\n",
       "      <td>0.0</td>\n",
       "      <td>0.0</td>\n",
       "    </tr>\n",
       "    <tr>\n",
       "      <th>26</th>\n",
       "      <td>1007859</td>\n",
       "      <td>0.0</td>\n",
       "      <td>0</td>\n",
       "      <td>0.0</td>\n",
       "      <td>0</td>\n",
       "      <td>18.0</td>\n",
       "      <td>0.0</td>\n",
       "      <td>0.0</td>\n",
       "      <td>417.0</td>\n",
       "      <td>0.0</td>\n",
       "      <td>1764.0</td>\n",
       "      <td>0.0</td>\n",
       "      <td>84.0</td>\n",
       "      <td>0.0</td>\n",
       "      <td>0.0</td>\n",
       "      <td>0.0</td>\n",
       "      <td>0.0</td>\n",
       "      <td>0.0</td>\n",
       "      <td>52683.0</td>\n",
       "      <td>378441.0</td>\n",
       "      <td>31066.0</td>\n",
       "      <td>0.0</td>\n",
       "      <td>191.0</td>\n",
       "      <td>376.0</td>\n",
       "      <td>0.0</td>\n",
       "      <td>327893.0</td>\n",
       "      <td>0.0</td>\n",
       "      <td>0.0</td>\n",
       "      <td>0.0</td>\n",
       "      <td>0.0</td>\n",
       "      <td>282689.0</td>\n",
       "      <td>0.0</td>\n",
       "      <td>73856.0</td>\n",
       "      <td>0.0</td>\n",
       "      <td>14.0</td>\n",
       "      <td>0.0</td>\n",
       "      <td>0.0</td>\n",
       "      <td>0.0</td>\n",
       "      <td>9172.0</td>\n",
       "      <td>889.0</td>\n",
       "      <td>4002.0</td>\n",
       "    </tr>\n",
       "    <tr>\n",
       "      <th>27</th>\n",
       "      <td>1008159</td>\n",
       "      <td>452.0</td>\n",
       "      <td>0</td>\n",
       "      <td>0.0</td>\n",
       "      <td>0</td>\n",
       "      <td>127311.0</td>\n",
       "      <td>0.0</td>\n",
       "      <td>2224.0</td>\n",
       "      <td>26880.0</td>\n",
       "      <td>560.0</td>\n",
       "      <td>38646.0</td>\n",
       "      <td>0.0</td>\n",
       "      <td>62615.0</td>\n",
       "      <td>0.0</td>\n",
       "      <td>0.0</td>\n",
       "      <td>34895.0</td>\n",
       "      <td>0.0</td>\n",
       "      <td>0.0</td>\n",
       "      <td>901562.0</td>\n",
       "      <td>1861871.0</td>\n",
       "      <td>438644.0</td>\n",
       "      <td>239949.0</td>\n",
       "      <td>1513489.0</td>\n",
       "      <td>188400.0</td>\n",
       "      <td>0.0</td>\n",
       "      <td>4381.0</td>\n",
       "      <td>0.0</td>\n",
       "      <td>81818.0</td>\n",
       "      <td>0.0</td>\n",
       "      <td>0.0</td>\n",
       "      <td>680006.0</td>\n",
       "      <td>0.0</td>\n",
       "      <td>174934.0</td>\n",
       "      <td>0.0</td>\n",
       "      <td>32578.0</td>\n",
       "      <td>0.0</td>\n",
       "      <td>703.0</td>\n",
       "      <td>0.0</td>\n",
       "      <td>135077.0</td>\n",
       "      <td>26281.0</td>\n",
       "      <td>95766.0</td>\n",
       "    </tr>\n",
       "    <tr>\n",
       "      <th>28</th>\n",
       "      <td>1008197</td>\n",
       "      <td>0.0</td>\n",
       "      <td>0</td>\n",
       "      <td>0.0</td>\n",
       "      <td>0</td>\n",
       "      <td>0.0</td>\n",
       "      <td>0.0</td>\n",
       "      <td>0.0</td>\n",
       "      <td>244.0</td>\n",
       "      <td>0.0</td>\n",
       "      <td>1009.0</td>\n",
       "      <td>0.0</td>\n",
       "      <td>0.0</td>\n",
       "      <td>0.0</td>\n",
       "      <td>0.0</td>\n",
       "      <td>0.0</td>\n",
       "      <td>0.0</td>\n",
       "      <td>0.0</td>\n",
       "      <td>19450.0</td>\n",
       "      <td>2963.0</td>\n",
       "      <td>0.0</td>\n",
       "      <td>10772.0</td>\n",
       "      <td>64587.0</td>\n",
       "      <td>0.0</td>\n",
       "      <td>0.0</td>\n",
       "      <td>0.0</td>\n",
       "      <td>0.0</td>\n",
       "      <td>0.0</td>\n",
       "      <td>0.0</td>\n",
       "      <td>0.0</td>\n",
       "      <td>132666.0</td>\n",
       "      <td>0.0</td>\n",
       "      <td>0.0</td>\n",
       "      <td>0.0</td>\n",
       "      <td>5508.0</td>\n",
       "      <td>0.0</td>\n",
       "      <td>0.0</td>\n",
       "      <td>0.0</td>\n",
       "      <td>49144.0</td>\n",
       "      <td>0.0</td>\n",
       "      <td>712.0</td>\n",
       "    </tr>\n",
       "    <tr>\n",
       "      <th>29</th>\n",
       "      <td>1008222</td>\n",
       "      <td>0.0</td>\n",
       "      <td>0</td>\n",
       "      <td>0.0</td>\n",
       "      <td>0</td>\n",
       "      <td>0.0</td>\n",
       "      <td>0.0</td>\n",
       "      <td>0.0</td>\n",
       "      <td>40.0</td>\n",
       "      <td>20.0</td>\n",
       "      <td>0.0</td>\n",
       "      <td>0.0</td>\n",
       "      <td>0.0</td>\n",
       "      <td>0.0</td>\n",
       "      <td>0.0</td>\n",
       "      <td>0.0</td>\n",
       "      <td>0.0</td>\n",
       "      <td>0.0</td>\n",
       "      <td>218.0</td>\n",
       "      <td>142711.0</td>\n",
       "      <td>0.0</td>\n",
       "      <td>0.0</td>\n",
       "      <td>33552.0</td>\n",
       "      <td>0.0</td>\n",
       "      <td>0.0</td>\n",
       "      <td>0.0</td>\n",
       "      <td>0.0</td>\n",
       "      <td>0.0</td>\n",
       "      <td>0.0</td>\n",
       "      <td>0.0</td>\n",
       "      <td>26201.0</td>\n",
       "      <td>0.0</td>\n",
       "      <td>0.0</td>\n",
       "      <td>0.0</td>\n",
       "      <td>0.0</td>\n",
       "      <td>0.0</td>\n",
       "      <td>0.0</td>\n",
       "      <td>0.0</td>\n",
       "      <td>30390.0</td>\n",
       "      <td>0.0</td>\n",
       "      <td>154.0</td>\n",
       "    </tr>\n",
       "    <tr>\n",
       "      <th>...</th>\n",
       "      <td>...</td>\n",
       "      <td>...</td>\n",
       "      <td>...</td>\n",
       "      <td>...</td>\n",
       "      <td>...</td>\n",
       "      <td>...</td>\n",
       "      <td>...</td>\n",
       "      <td>...</td>\n",
       "      <td>...</td>\n",
       "      <td>...</td>\n",
       "      <td>...</td>\n",
       "      <td>...</td>\n",
       "      <td>...</td>\n",
       "      <td>...</td>\n",
       "      <td>...</td>\n",
       "      <td>...</td>\n",
       "      <td>...</td>\n",
       "      <td>...</td>\n",
       "      <td>...</td>\n",
       "      <td>...</td>\n",
       "      <td>...</td>\n",
       "      <td>...</td>\n",
       "      <td>...</td>\n",
       "      <td>...</td>\n",
       "      <td>...</td>\n",
       "      <td>...</td>\n",
       "      <td>...</td>\n",
       "      <td>...</td>\n",
       "      <td>...</td>\n",
       "      <td>...</td>\n",
       "      <td>...</td>\n",
       "      <td>...</td>\n",
       "      <td>...</td>\n",
       "      <td>...</td>\n",
       "      <td>...</td>\n",
       "      <td>...</td>\n",
       "      <td>...</td>\n",
       "      <td>...</td>\n",
       "      <td>...</td>\n",
       "      <td>...</td>\n",
       "      <td>...</td>\n",
       "    </tr>\n",
       "    <tr>\n",
       "      <th>1992636</th>\n",
       "      <td>3503616</td>\n",
       "      <td>0.0</td>\n",
       "      <td>0</td>\n",
       "      <td>0.0</td>\n",
       "      <td>0</td>\n",
       "      <td>0.0</td>\n",
       "      <td>0.0</td>\n",
       "      <td>0.0</td>\n",
       "      <td>9834.0</td>\n",
       "      <td>0.0</td>\n",
       "      <td>0.0</td>\n",
       "      <td>0.0</td>\n",
       "      <td>156728.0</td>\n",
       "      <td>0.0</td>\n",
       "      <td>0.0</td>\n",
       "      <td>0.0</td>\n",
       "      <td>0.0</td>\n",
       "      <td>0.0</td>\n",
       "      <td>3531.0</td>\n",
       "      <td>10840.0</td>\n",
       "      <td>0.0</td>\n",
       "      <td>2644.0</td>\n",
       "      <td>167180.0</td>\n",
       "      <td>0.0</td>\n",
       "      <td>0.0</td>\n",
       "      <td>0.0</td>\n",
       "      <td>0.0</td>\n",
       "      <td>1205.0</td>\n",
       "      <td>0.0</td>\n",
       "      <td>0.0</td>\n",
       "      <td>40745.0</td>\n",
       "      <td>0.0</td>\n",
       "      <td>24375.0</td>\n",
       "      <td>0.0</td>\n",
       "      <td>0.0</td>\n",
       "      <td>0.0</td>\n",
       "      <td>0.0</td>\n",
       "      <td>0.0</td>\n",
       "      <td>14807.0</td>\n",
       "      <td>0.0</td>\n",
       "      <td>1516.0</td>\n",
       "    </tr>\n",
       "    <tr>\n",
       "      <th>1992637</th>\n",
       "      <td>3503629</td>\n",
       "      <td>0.0</td>\n",
       "      <td>0</td>\n",
       "      <td>0.0</td>\n",
       "      <td>0</td>\n",
       "      <td>0.0</td>\n",
       "      <td>0.0</td>\n",
       "      <td>0.0</td>\n",
       "      <td>21258.0</td>\n",
       "      <td>0.0</td>\n",
       "      <td>0.0</td>\n",
       "      <td>0.0</td>\n",
       "      <td>0.0</td>\n",
       "      <td>0.0</td>\n",
       "      <td>0.0</td>\n",
       "      <td>0.0</td>\n",
       "      <td>0.0</td>\n",
       "      <td>0.0</td>\n",
       "      <td>274570.0</td>\n",
       "      <td>441.0</td>\n",
       "      <td>33.0</td>\n",
       "      <td>0.0</td>\n",
       "      <td>6916.0</td>\n",
       "      <td>0.0</td>\n",
       "      <td>0.0</td>\n",
       "      <td>0.0</td>\n",
       "      <td>0.0</td>\n",
       "      <td>0.0</td>\n",
       "      <td>0.0</td>\n",
       "      <td>0.0</td>\n",
       "      <td>33267.0</td>\n",
       "      <td>0.0</td>\n",
       "      <td>93900.0</td>\n",
       "      <td>0.0</td>\n",
       "      <td>0.0</td>\n",
       "      <td>0.0</td>\n",
       "      <td>0.0</td>\n",
       "      <td>0.0</td>\n",
       "      <td>36303.0</td>\n",
       "      <td>0.0</td>\n",
       "      <td>2686.0</td>\n",
       "    </tr>\n",
       "    <tr>\n",
       "      <th>1992638</th>\n",
       "      <td>3503973</td>\n",
       "      <td>0.0</td>\n",
       "      <td>0</td>\n",
       "      <td>0.0</td>\n",
       "      <td>0</td>\n",
       "      <td>12777.0</td>\n",
       "      <td>0.0</td>\n",
       "      <td>0.0</td>\n",
       "      <td>362.0</td>\n",
       "      <td>173.0</td>\n",
       "      <td>0.0</td>\n",
       "      <td>0.0</td>\n",
       "      <td>47044.0</td>\n",
       "      <td>0.0</td>\n",
       "      <td>0.0</td>\n",
       "      <td>0.0</td>\n",
       "      <td>0.0</td>\n",
       "      <td>0.0</td>\n",
       "      <td>44322.0</td>\n",
       "      <td>295806.0</td>\n",
       "      <td>88798.0</td>\n",
       "      <td>851.0</td>\n",
       "      <td>2148.0</td>\n",
       "      <td>0.0</td>\n",
       "      <td>0.0</td>\n",
       "      <td>0.0</td>\n",
       "      <td>0.0</td>\n",
       "      <td>0.0</td>\n",
       "      <td>0.0</td>\n",
       "      <td>0.0</td>\n",
       "      <td>124989.0</td>\n",
       "      <td>0.0</td>\n",
       "      <td>15558.0</td>\n",
       "      <td>588.0</td>\n",
       "      <td>0.0</td>\n",
       "      <td>0.0</td>\n",
       "      <td>21102.0</td>\n",
       "      <td>0.0</td>\n",
       "      <td>0.0</td>\n",
       "      <td>0.0</td>\n",
       "      <td>0.0</td>\n",
       "    </tr>\n",
       "    <tr>\n",
       "      <th>1992639</th>\n",
       "      <td>3504311</td>\n",
       "      <td>0.0</td>\n",
       "      <td>0</td>\n",
       "      <td>0.0</td>\n",
       "      <td>0</td>\n",
       "      <td>0.0</td>\n",
       "      <td>0.0</td>\n",
       "      <td>0.0</td>\n",
       "      <td>8354.0</td>\n",
       "      <td>0.0</td>\n",
       "      <td>1885.0</td>\n",
       "      <td>0.0</td>\n",
       "      <td>0.0</td>\n",
       "      <td>0.0</td>\n",
       "      <td>0.0</td>\n",
       "      <td>0.0</td>\n",
       "      <td>0.0</td>\n",
       "      <td>0.0</td>\n",
       "      <td>210713.0</td>\n",
       "      <td>5906.0</td>\n",
       "      <td>0.0</td>\n",
       "      <td>0.0</td>\n",
       "      <td>2263.0</td>\n",
       "      <td>14.0</td>\n",
       "      <td>0.0</td>\n",
       "      <td>0.0</td>\n",
       "      <td>0.0</td>\n",
       "      <td>0.0</td>\n",
       "      <td>0.0</td>\n",
       "      <td>0.0</td>\n",
       "      <td>445377.0</td>\n",
       "      <td>0.0</td>\n",
       "      <td>0.0</td>\n",
       "      <td>0.0</td>\n",
       "      <td>0.0</td>\n",
       "      <td>0.0</td>\n",
       "      <td>0.0</td>\n",
       "      <td>0.0</td>\n",
       "      <td>15448.0</td>\n",
       "      <td>0.0</td>\n",
       "      <td>996.0</td>\n",
       "    </tr>\n",
       "    <tr>\n",
       "      <th>1992640</th>\n",
       "      <td>3504352</td>\n",
       "      <td>0.0</td>\n",
       "      <td>0</td>\n",
       "      <td>0.0</td>\n",
       "      <td>0</td>\n",
       "      <td>0.0</td>\n",
       "      <td>0.0</td>\n",
       "      <td>0.0</td>\n",
       "      <td>0.0</td>\n",
       "      <td>0.0</td>\n",
       "      <td>0.0</td>\n",
       "      <td>0.0</td>\n",
       "      <td>0.0</td>\n",
       "      <td>0.0</td>\n",
       "      <td>0.0</td>\n",
       "      <td>0.0</td>\n",
       "      <td>0.0</td>\n",
       "      <td>0.0</td>\n",
       "      <td>7.0</td>\n",
       "      <td>15299.0</td>\n",
       "      <td>53581.0</td>\n",
       "      <td>0.0</td>\n",
       "      <td>1506.0</td>\n",
       "      <td>0.0</td>\n",
       "      <td>0.0</td>\n",
       "      <td>0.0</td>\n",
       "      <td>0.0</td>\n",
       "      <td>0.0</td>\n",
       "      <td>0.0</td>\n",
       "      <td>0.0</td>\n",
       "      <td>34808.0</td>\n",
       "      <td>0.0</td>\n",
       "      <td>0.0</td>\n",
       "      <td>0.0</td>\n",
       "      <td>0.0</td>\n",
       "      <td>0.0</td>\n",
       "      <td>0.0</td>\n",
       "      <td>0.0</td>\n",
       "      <td>6.0</td>\n",
       "      <td>0.0</td>\n",
       "      <td>0.0</td>\n",
       "    </tr>\n",
       "    <tr>\n",
       "      <th>1992641</th>\n",
       "      <td>3504514</td>\n",
       "      <td>0.0</td>\n",
       "      <td>0</td>\n",
       "      <td>0.0</td>\n",
       "      <td>0</td>\n",
       "      <td>0.0</td>\n",
       "      <td>0.0</td>\n",
       "      <td>0.0</td>\n",
       "      <td>186.0</td>\n",
       "      <td>0.0</td>\n",
       "      <td>6.0</td>\n",
       "      <td>0.0</td>\n",
       "      <td>13144.0</td>\n",
       "      <td>0.0</td>\n",
       "      <td>0.0</td>\n",
       "      <td>0.0</td>\n",
       "      <td>0.0</td>\n",
       "      <td>0.0</td>\n",
       "      <td>26320.0</td>\n",
       "      <td>23485.0</td>\n",
       "      <td>6154.0</td>\n",
       "      <td>475.0</td>\n",
       "      <td>0.0</td>\n",
       "      <td>0.0</td>\n",
       "      <td>0.0</td>\n",
       "      <td>0.0</td>\n",
       "      <td>0.0</td>\n",
       "      <td>0.0</td>\n",
       "      <td>0.0</td>\n",
       "      <td>0.0</td>\n",
       "      <td>118714.0</td>\n",
       "      <td>0.0</td>\n",
       "      <td>53458.0</td>\n",
       "      <td>0.0</td>\n",
       "      <td>0.0</td>\n",
       "      <td>0.0</td>\n",
       "      <td>1304186.0</td>\n",
       "      <td>0.0</td>\n",
       "      <td>1311.0</td>\n",
       "      <td>0.0</td>\n",
       "      <td>708.0</td>\n",
       "    </tr>\n",
       "    <tr>\n",
       "      <th>1992642</th>\n",
       "      <td>3505187</td>\n",
       "      <td>0.0</td>\n",
       "      <td>0</td>\n",
       "      <td>0.0</td>\n",
       "      <td>0</td>\n",
       "      <td>0.0</td>\n",
       "      <td>0.0</td>\n",
       "      <td>0.0</td>\n",
       "      <td>11987.0</td>\n",
       "      <td>0.0</td>\n",
       "      <td>440.0</td>\n",
       "      <td>0.0</td>\n",
       "      <td>0.0</td>\n",
       "      <td>0.0</td>\n",
       "      <td>0.0</td>\n",
       "      <td>590.0</td>\n",
       "      <td>0.0</td>\n",
       "      <td>0.0</td>\n",
       "      <td>85432.0</td>\n",
       "      <td>98.0</td>\n",
       "      <td>28.0</td>\n",
       "      <td>34796.0</td>\n",
       "      <td>19382.0</td>\n",
       "      <td>0.0</td>\n",
       "      <td>0.0</td>\n",
       "      <td>0.0</td>\n",
       "      <td>0.0</td>\n",
       "      <td>0.0</td>\n",
       "      <td>0.0</td>\n",
       "      <td>0.0</td>\n",
       "      <td>79141.0</td>\n",
       "      <td>0.0</td>\n",
       "      <td>0.0</td>\n",
       "      <td>0.0</td>\n",
       "      <td>20.0</td>\n",
       "      <td>0.0</td>\n",
       "      <td>0.0</td>\n",
       "      <td>0.0</td>\n",
       "      <td>15520.0</td>\n",
       "      <td>0.0</td>\n",
       "      <td>650.0</td>\n",
       "    </tr>\n",
       "    <tr>\n",
       "      <th>1992643</th>\n",
       "      <td>3505546</td>\n",
       "      <td>0.0</td>\n",
       "      <td>0</td>\n",
       "      <td>0.0</td>\n",
       "      <td>0</td>\n",
       "      <td>0.0</td>\n",
       "      <td>0.0</td>\n",
       "      <td>0.0</td>\n",
       "      <td>0.0</td>\n",
       "      <td>0.0</td>\n",
       "      <td>0.0</td>\n",
       "      <td>0.0</td>\n",
       "      <td>0.0</td>\n",
       "      <td>0.0</td>\n",
       "      <td>0.0</td>\n",
       "      <td>0.0</td>\n",
       "      <td>0.0</td>\n",
       "      <td>0.0</td>\n",
       "      <td>60.0</td>\n",
       "      <td>6234.0</td>\n",
       "      <td>2.0</td>\n",
       "      <td>0.0</td>\n",
       "      <td>27026.0</td>\n",
       "      <td>0.0</td>\n",
       "      <td>0.0</td>\n",
       "      <td>0.0</td>\n",
       "      <td>0.0</td>\n",
       "      <td>0.0</td>\n",
       "      <td>0.0</td>\n",
       "      <td>0.0</td>\n",
       "      <td>144077.0</td>\n",
       "      <td>0.0</td>\n",
       "      <td>0.0</td>\n",
       "      <td>0.0</td>\n",
       "      <td>0.0</td>\n",
       "      <td>0.0</td>\n",
       "      <td>0.0</td>\n",
       "      <td>0.0</td>\n",
       "      <td>0.0</td>\n",
       "      <td>0.0</td>\n",
       "      <td>0.0</td>\n",
       "    </tr>\n",
       "    <tr>\n",
       "      <th>1992644</th>\n",
       "      <td>3505714</td>\n",
       "      <td>0.0</td>\n",
       "      <td>0</td>\n",
       "      <td>0.0</td>\n",
       "      <td>0</td>\n",
       "      <td>0.0</td>\n",
       "      <td>0.0</td>\n",
       "      <td>0.0</td>\n",
       "      <td>4140.0</td>\n",
       "      <td>0.0</td>\n",
       "      <td>4204.0</td>\n",
       "      <td>0.0</td>\n",
       "      <td>0.0</td>\n",
       "      <td>0.0</td>\n",
       "      <td>0.0</td>\n",
       "      <td>38836.0</td>\n",
       "      <td>0.0</td>\n",
       "      <td>0.0</td>\n",
       "      <td>47004.0</td>\n",
       "      <td>16732.0</td>\n",
       "      <td>100458.0</td>\n",
       "      <td>6018.0</td>\n",
       "      <td>1748.0</td>\n",
       "      <td>0.0</td>\n",
       "      <td>0.0</td>\n",
       "      <td>0.0</td>\n",
       "      <td>0.0</td>\n",
       "      <td>130.0</td>\n",
       "      <td>0.0</td>\n",
       "      <td>0.0</td>\n",
       "      <td>444309.0</td>\n",
       "      <td>0.0</td>\n",
       "      <td>14405.0</td>\n",
       "      <td>0.0</td>\n",
       "      <td>0.0</td>\n",
       "      <td>0.0</td>\n",
       "      <td>0.0</td>\n",
       "      <td>0.0</td>\n",
       "      <td>10354.0</td>\n",
       "      <td>2439.0</td>\n",
       "      <td>6480.0</td>\n",
       "    </tr>\n",
       "    <tr>\n",
       "      <th>1992645</th>\n",
       "      <td>3506303</td>\n",
       "      <td>0.0</td>\n",
       "      <td>0</td>\n",
       "      <td>0.0</td>\n",
       "      <td>0</td>\n",
       "      <td>0.0</td>\n",
       "      <td>0.0</td>\n",
       "      <td>0.0</td>\n",
       "      <td>12384.0</td>\n",
       "      <td>0.0</td>\n",
       "      <td>1556.0</td>\n",
       "      <td>0.0</td>\n",
       "      <td>0.0</td>\n",
       "      <td>0.0</td>\n",
       "      <td>0.0</td>\n",
       "      <td>0.0</td>\n",
       "      <td>0.0</td>\n",
       "      <td>0.0</td>\n",
       "      <td>1604.0</td>\n",
       "      <td>3538.0</td>\n",
       "      <td>358.0</td>\n",
       "      <td>34.0</td>\n",
       "      <td>0.0</td>\n",
       "      <td>616.0</td>\n",
       "      <td>0.0</td>\n",
       "      <td>0.0</td>\n",
       "      <td>0.0</td>\n",
       "      <td>0.0</td>\n",
       "      <td>0.0</td>\n",
       "      <td>0.0</td>\n",
       "      <td>411503.0</td>\n",
       "      <td>0.0</td>\n",
       "      <td>0.0</td>\n",
       "      <td>0.0</td>\n",
       "      <td>0.0</td>\n",
       "      <td>0.0</td>\n",
       "      <td>0.0</td>\n",
       "      <td>0.0</td>\n",
       "      <td>289624.0</td>\n",
       "      <td>1640.0</td>\n",
       "      <td>11547.0</td>\n",
       "    </tr>\n",
       "    <tr>\n",
       "      <th>1992646</th>\n",
       "      <td>3506616</td>\n",
       "      <td>0.0</td>\n",
       "      <td>0</td>\n",
       "      <td>0.0</td>\n",
       "      <td>0</td>\n",
       "      <td>0.0</td>\n",
       "      <td>0.0</td>\n",
       "      <td>0.0</td>\n",
       "      <td>5147.0</td>\n",
       "      <td>0.0</td>\n",
       "      <td>0.0</td>\n",
       "      <td>0.0</td>\n",
       "      <td>0.0</td>\n",
       "      <td>0.0</td>\n",
       "      <td>0.0</td>\n",
       "      <td>669.0</td>\n",
       "      <td>0.0</td>\n",
       "      <td>0.0</td>\n",
       "      <td>10252.0</td>\n",
       "      <td>1890.0</td>\n",
       "      <td>1253.0</td>\n",
       "      <td>2865.0</td>\n",
       "      <td>195.0</td>\n",
       "      <td>0.0</td>\n",
       "      <td>0.0</td>\n",
       "      <td>0.0</td>\n",
       "      <td>0.0</td>\n",
       "      <td>32.0</td>\n",
       "      <td>0.0</td>\n",
       "      <td>0.0</td>\n",
       "      <td>517766.0</td>\n",
       "      <td>0.0</td>\n",
       "      <td>0.0</td>\n",
       "      <td>0.0</td>\n",
       "      <td>0.0</td>\n",
       "      <td>0.0</td>\n",
       "      <td>0.0</td>\n",
       "      <td>0.0</td>\n",
       "      <td>16.0</td>\n",
       "      <td>0.0</td>\n",
       "      <td>9404.0</td>\n",
       "    </tr>\n",
       "    <tr>\n",
       "      <th>1992647</th>\n",
       "      <td>3506831</td>\n",
       "      <td>0.0</td>\n",
       "      <td>0</td>\n",
       "      <td>0.0</td>\n",
       "      <td>0</td>\n",
       "      <td>0.0</td>\n",
       "      <td>0.0</td>\n",
       "      <td>0.0</td>\n",
       "      <td>0.0</td>\n",
       "      <td>0.0</td>\n",
       "      <td>0.0</td>\n",
       "      <td>0.0</td>\n",
       "      <td>0.0</td>\n",
       "      <td>0.0</td>\n",
       "      <td>0.0</td>\n",
       "      <td>0.0</td>\n",
       "      <td>0.0</td>\n",
       "      <td>0.0</td>\n",
       "      <td>573.0</td>\n",
       "      <td>15842.0</td>\n",
       "      <td>64462.0</td>\n",
       "      <td>0.0</td>\n",
       "      <td>86.0</td>\n",
       "      <td>0.0</td>\n",
       "      <td>0.0</td>\n",
       "      <td>0.0</td>\n",
       "      <td>0.0</td>\n",
       "      <td>0.0</td>\n",
       "      <td>0.0</td>\n",
       "      <td>0.0</td>\n",
       "      <td>61242.0</td>\n",
       "      <td>0.0</td>\n",
       "      <td>0.0</td>\n",
       "      <td>0.0</td>\n",
       "      <td>0.0</td>\n",
       "      <td>0.0</td>\n",
       "      <td>0.0</td>\n",
       "      <td>0.0</td>\n",
       "      <td>0.0</td>\n",
       "      <td>0.0</td>\n",
       "      <td>0.0</td>\n",
       "    </tr>\n",
       "    <tr>\n",
       "      <th>1992648</th>\n",
       "      <td>3506845</td>\n",
       "      <td>0.0</td>\n",
       "      <td>0</td>\n",
       "      <td>0.0</td>\n",
       "      <td>0</td>\n",
       "      <td>85605.0</td>\n",
       "      <td>0.0</td>\n",
       "      <td>0.0</td>\n",
       "      <td>21000.0</td>\n",
       "      <td>0.0</td>\n",
       "      <td>660.0</td>\n",
       "      <td>0.0</td>\n",
       "      <td>18330.0</td>\n",
       "      <td>0.0</td>\n",
       "      <td>0.0</td>\n",
       "      <td>327.0</td>\n",
       "      <td>0.0</td>\n",
       "      <td>0.0</td>\n",
       "      <td>4165.0</td>\n",
       "      <td>111990.0</td>\n",
       "      <td>114410.0</td>\n",
       "      <td>7458.0</td>\n",
       "      <td>2903.0</td>\n",
       "      <td>512.0</td>\n",
       "      <td>0.0</td>\n",
       "      <td>31240.0</td>\n",
       "      <td>0.0</td>\n",
       "      <td>0.0</td>\n",
       "      <td>0.0</td>\n",
       "      <td>0.0</td>\n",
       "      <td>99091.0</td>\n",
       "      <td>0.0</td>\n",
       "      <td>232555.0</td>\n",
       "      <td>0.0</td>\n",
       "      <td>454.0</td>\n",
       "      <td>0.0</td>\n",
       "      <td>0.0</td>\n",
       "      <td>0.0</td>\n",
       "      <td>21373.0</td>\n",
       "      <td>0.0</td>\n",
       "      <td>3845.0</td>\n",
       "    </tr>\n",
       "    <tr>\n",
       "      <th>1992649</th>\n",
       "      <td>3506846</td>\n",
       "      <td>0.0</td>\n",
       "      <td>0</td>\n",
       "      <td>0.0</td>\n",
       "      <td>0</td>\n",
       "      <td>0.0</td>\n",
       "      <td>0.0</td>\n",
       "      <td>0.0</td>\n",
       "      <td>116.0</td>\n",
       "      <td>0.0</td>\n",
       "      <td>0.0</td>\n",
       "      <td>0.0</td>\n",
       "      <td>0.0</td>\n",
       "      <td>0.0</td>\n",
       "      <td>0.0</td>\n",
       "      <td>2008.0</td>\n",
       "      <td>0.0</td>\n",
       "      <td>0.0</td>\n",
       "      <td>2285.0</td>\n",
       "      <td>39958.0</td>\n",
       "      <td>0.0</td>\n",
       "      <td>6606.0</td>\n",
       "      <td>10576.0</td>\n",
       "      <td>37.0</td>\n",
       "      <td>0.0</td>\n",
       "      <td>0.0</td>\n",
       "      <td>0.0</td>\n",
       "      <td>0.0</td>\n",
       "      <td>0.0</td>\n",
       "      <td>0.0</td>\n",
       "      <td>17332.0</td>\n",
       "      <td>0.0</td>\n",
       "      <td>0.0</td>\n",
       "      <td>0.0</td>\n",
       "      <td>0.0</td>\n",
       "      <td>0.0</td>\n",
       "      <td>0.0</td>\n",
       "      <td>0.0</td>\n",
       "      <td>1038.0</td>\n",
       "      <td>0.0</td>\n",
       "      <td>2450.0</td>\n",
       "    </tr>\n",
       "    <tr>\n",
       "      <th>1992650</th>\n",
       "      <td>3507232</td>\n",
       "      <td>0.0</td>\n",
       "      <td>0</td>\n",
       "      <td>0.0</td>\n",
       "      <td>0</td>\n",
       "      <td>1246.0</td>\n",
       "      <td>0.0</td>\n",
       "      <td>0.0</td>\n",
       "      <td>3989.0</td>\n",
       "      <td>0.0</td>\n",
       "      <td>1154.0</td>\n",
       "      <td>0.0</td>\n",
       "      <td>4418.0</td>\n",
       "      <td>0.0</td>\n",
       "      <td>0.0</td>\n",
       "      <td>0.0</td>\n",
       "      <td>0.0</td>\n",
       "      <td>0.0</td>\n",
       "      <td>22152.0</td>\n",
       "      <td>2746.0</td>\n",
       "      <td>23541.0</td>\n",
       "      <td>6599.0</td>\n",
       "      <td>250420.0</td>\n",
       "      <td>0.0</td>\n",
       "      <td>0.0</td>\n",
       "      <td>0.0</td>\n",
       "      <td>0.0</td>\n",
       "      <td>0.0</td>\n",
       "      <td>0.0</td>\n",
       "      <td>0.0</td>\n",
       "      <td>288592.0</td>\n",
       "      <td>0.0</td>\n",
       "      <td>8140.0</td>\n",
       "      <td>0.0</td>\n",
       "      <td>0.0</td>\n",
       "      <td>0.0</td>\n",
       "      <td>0.0</td>\n",
       "      <td>0.0</td>\n",
       "      <td>31844.0</td>\n",
       "      <td>0.0</td>\n",
       "      <td>897.0</td>\n",
       "    </tr>\n",
       "    <tr>\n",
       "      <th>1992651</th>\n",
       "      <td>3507816</td>\n",
       "      <td>0.0</td>\n",
       "      <td>0</td>\n",
       "      <td>0.0</td>\n",
       "      <td>0</td>\n",
       "      <td>618.0</td>\n",
       "      <td>0.0</td>\n",
       "      <td>0.0</td>\n",
       "      <td>4385.0</td>\n",
       "      <td>0.0</td>\n",
       "      <td>1545.0</td>\n",
       "      <td>0.0</td>\n",
       "      <td>214266.0</td>\n",
       "      <td>0.0</td>\n",
       "      <td>0.0</td>\n",
       "      <td>0.0</td>\n",
       "      <td>0.0</td>\n",
       "      <td>0.0</td>\n",
       "      <td>29179.0</td>\n",
       "      <td>145736.0</td>\n",
       "      <td>621.0</td>\n",
       "      <td>7331.0</td>\n",
       "      <td>324.0</td>\n",
       "      <td>0.0</td>\n",
       "      <td>0.0</td>\n",
       "      <td>0.0</td>\n",
       "      <td>0.0</td>\n",
       "      <td>353.0</td>\n",
       "      <td>0.0</td>\n",
       "      <td>0.0</td>\n",
       "      <td>302243.0</td>\n",
       "      <td>0.0</td>\n",
       "      <td>562.0</td>\n",
       "      <td>0.0</td>\n",
       "      <td>406.0</td>\n",
       "      <td>0.0</td>\n",
       "      <td>0.0</td>\n",
       "      <td>0.0</td>\n",
       "      <td>16806.0</td>\n",
       "      <td>0.0</td>\n",
       "      <td>280.0</td>\n",
       "    </tr>\n",
       "    <tr>\n",
       "      <th>1992652</th>\n",
       "      <td>3509290</td>\n",
       "      <td>0.0</td>\n",
       "      <td>0</td>\n",
       "      <td>0.0</td>\n",
       "      <td>0</td>\n",
       "      <td>0.0</td>\n",
       "      <td>0.0</td>\n",
       "      <td>0.0</td>\n",
       "      <td>25354.0</td>\n",
       "      <td>0.0</td>\n",
       "      <td>4519.0</td>\n",
       "      <td>0.0</td>\n",
       "      <td>0.0</td>\n",
       "      <td>0.0</td>\n",
       "      <td>0.0</td>\n",
       "      <td>1250.0</td>\n",
       "      <td>0.0</td>\n",
       "      <td>0.0</td>\n",
       "      <td>14872.0</td>\n",
       "      <td>152755.0</td>\n",
       "      <td>48161.0</td>\n",
       "      <td>23602.0</td>\n",
       "      <td>12673.0</td>\n",
       "      <td>2699.0</td>\n",
       "      <td>0.0</td>\n",
       "      <td>0.0</td>\n",
       "      <td>0.0</td>\n",
       "      <td>0.0</td>\n",
       "      <td>0.0</td>\n",
       "      <td>0.0</td>\n",
       "      <td>122425.0</td>\n",
       "      <td>0.0</td>\n",
       "      <td>0.0</td>\n",
       "      <td>0.0</td>\n",
       "      <td>0.0</td>\n",
       "      <td>0.0</td>\n",
       "      <td>0.0</td>\n",
       "      <td>0.0</td>\n",
       "      <td>42785.0</td>\n",
       "      <td>550.0</td>\n",
       "      <td>5972.0</td>\n",
       "    </tr>\n",
       "    <tr>\n",
       "      <th>1992653</th>\n",
       "      <td>3509407</td>\n",
       "      <td>0.0</td>\n",
       "      <td>0</td>\n",
       "      <td>0.0</td>\n",
       "      <td>0</td>\n",
       "      <td>0.0</td>\n",
       "      <td>0.0</td>\n",
       "      <td>0.0</td>\n",
       "      <td>49.0</td>\n",
       "      <td>0.0</td>\n",
       "      <td>0.0</td>\n",
       "      <td>0.0</td>\n",
       "      <td>0.0</td>\n",
       "      <td>0.0</td>\n",
       "      <td>0.0</td>\n",
       "      <td>0.0</td>\n",
       "      <td>0.0</td>\n",
       "      <td>0.0</td>\n",
       "      <td>45785.0</td>\n",
       "      <td>0.0</td>\n",
       "      <td>0.0</td>\n",
       "      <td>10.0</td>\n",
       "      <td>4.0</td>\n",
       "      <td>0.0</td>\n",
       "      <td>0.0</td>\n",
       "      <td>0.0</td>\n",
       "      <td>0.0</td>\n",
       "      <td>0.0</td>\n",
       "      <td>0.0</td>\n",
       "      <td>0.0</td>\n",
       "      <td>6895.0</td>\n",
       "      <td>0.0</td>\n",
       "      <td>0.0</td>\n",
       "      <td>0.0</td>\n",
       "      <td>0.0</td>\n",
       "      <td>0.0</td>\n",
       "      <td>0.0</td>\n",
       "      <td>0.0</td>\n",
       "      <td>0.0</td>\n",
       "      <td>0.0</td>\n",
       "      <td>0.0</td>\n",
       "    </tr>\n",
       "    <tr>\n",
       "      <th>1992654</th>\n",
       "      <td>3509706</td>\n",
       "      <td>0.0</td>\n",
       "      <td>0</td>\n",
       "      <td>0.0</td>\n",
       "      <td>0</td>\n",
       "      <td>0.0</td>\n",
       "      <td>0.0</td>\n",
       "      <td>0.0</td>\n",
       "      <td>7190.0</td>\n",
       "      <td>211.0</td>\n",
       "      <td>2976.0</td>\n",
       "      <td>0.0</td>\n",
       "      <td>38774.0</td>\n",
       "      <td>0.0</td>\n",
       "      <td>0.0</td>\n",
       "      <td>0.0</td>\n",
       "      <td>0.0</td>\n",
       "      <td>0.0</td>\n",
       "      <td>12914.0</td>\n",
       "      <td>222993.0</td>\n",
       "      <td>149710.0</td>\n",
       "      <td>50.0</td>\n",
       "      <td>14126.0</td>\n",
       "      <td>0.0</td>\n",
       "      <td>0.0</td>\n",
       "      <td>0.0</td>\n",
       "      <td>0.0</td>\n",
       "      <td>232.0</td>\n",
       "      <td>0.0</td>\n",
       "      <td>0.0</td>\n",
       "      <td>72530.0</td>\n",
       "      <td>0.0</td>\n",
       "      <td>0.0</td>\n",
       "      <td>0.0</td>\n",
       "      <td>0.0</td>\n",
       "      <td>0.0</td>\n",
       "      <td>0.0</td>\n",
       "      <td>0.0</td>\n",
       "      <td>33889.0</td>\n",
       "      <td>0.0</td>\n",
       "      <td>5737.0</td>\n",
       "    </tr>\n",
       "    <tr>\n",
       "      <th>1992655</th>\n",
       "      <td>3509801</td>\n",
       "      <td>0.0</td>\n",
       "      <td>0</td>\n",
       "      <td>0.0</td>\n",
       "      <td>0</td>\n",
       "      <td>85816.0</td>\n",
       "      <td>0.0</td>\n",
       "      <td>0.0</td>\n",
       "      <td>101852.0</td>\n",
       "      <td>1799.0</td>\n",
       "      <td>28537.0</td>\n",
       "      <td>0.0</td>\n",
       "      <td>0.0</td>\n",
       "      <td>0.0</td>\n",
       "      <td>0.0</td>\n",
       "      <td>436.0</td>\n",
       "      <td>0.0</td>\n",
       "      <td>0.0</td>\n",
       "      <td>6735.0</td>\n",
       "      <td>112220.0</td>\n",
       "      <td>0.0</td>\n",
       "      <td>336.0</td>\n",
       "      <td>155621.0</td>\n",
       "      <td>730.0</td>\n",
       "      <td>0.0</td>\n",
       "      <td>48260.0</td>\n",
       "      <td>0.0</td>\n",
       "      <td>0.0</td>\n",
       "      <td>0.0</td>\n",
       "      <td>0.0</td>\n",
       "      <td>136660.0</td>\n",
       "      <td>0.0</td>\n",
       "      <td>0.0</td>\n",
       "      <td>0.0</td>\n",
       "      <td>43120.0</td>\n",
       "      <td>0.0</td>\n",
       "      <td>0.0</td>\n",
       "      <td>0.0</td>\n",
       "      <td>122406.0</td>\n",
       "      <td>1503.0</td>\n",
       "      <td>986.0</td>\n",
       "    </tr>\n",
       "    <tr>\n",
       "      <th>1992656</th>\n",
       "      <td>3510006</td>\n",
       "      <td>0.0</td>\n",
       "      <td>0</td>\n",
       "      <td>0.0</td>\n",
       "      <td>0</td>\n",
       "      <td>2.0</td>\n",
       "      <td>0.0</td>\n",
       "      <td>0.0</td>\n",
       "      <td>2732.0</td>\n",
       "      <td>573.0</td>\n",
       "      <td>468.0</td>\n",
       "      <td>0.0</td>\n",
       "      <td>0.0</td>\n",
       "      <td>0.0</td>\n",
       "      <td>0.0</td>\n",
       "      <td>0.0</td>\n",
       "      <td>0.0</td>\n",
       "      <td>0.0</td>\n",
       "      <td>476.0</td>\n",
       "      <td>69399.0</td>\n",
       "      <td>102405.0</td>\n",
       "      <td>5297.0</td>\n",
       "      <td>5491.0</td>\n",
       "      <td>622.0</td>\n",
       "      <td>0.0</td>\n",
       "      <td>0.0</td>\n",
       "      <td>0.0</td>\n",
       "      <td>0.0</td>\n",
       "      <td>0.0</td>\n",
       "      <td>0.0</td>\n",
       "      <td>96809.0</td>\n",
       "      <td>0.0</td>\n",
       "      <td>0.0</td>\n",
       "      <td>0.0</td>\n",
       "      <td>0.0</td>\n",
       "      <td>0.0</td>\n",
       "      <td>0.0</td>\n",
       "      <td>0.0</td>\n",
       "      <td>9814.0</td>\n",
       "      <td>35038.0</td>\n",
       "      <td>1877.0</td>\n",
       "    </tr>\n",
       "    <tr>\n",
       "      <th>1992657</th>\n",
       "      <td>3510091</td>\n",
       "      <td>0.0</td>\n",
       "      <td>0</td>\n",
       "      <td>0.0</td>\n",
       "      <td>0</td>\n",
       "      <td>0.0</td>\n",
       "      <td>0.0</td>\n",
       "      <td>0.0</td>\n",
       "      <td>1750.0</td>\n",
       "      <td>26.0</td>\n",
       "      <td>3260.0</td>\n",
       "      <td>0.0</td>\n",
       "      <td>0.0</td>\n",
       "      <td>0.0</td>\n",
       "      <td>0.0</td>\n",
       "      <td>7946.0</td>\n",
       "      <td>0.0</td>\n",
       "      <td>0.0</td>\n",
       "      <td>12881.0</td>\n",
       "      <td>76094.0</td>\n",
       "      <td>127.0</td>\n",
       "      <td>0.0</td>\n",
       "      <td>7722.0</td>\n",
       "      <td>726.0</td>\n",
       "      <td>0.0</td>\n",
       "      <td>0.0</td>\n",
       "      <td>0.0</td>\n",
       "      <td>0.0</td>\n",
       "      <td>0.0</td>\n",
       "      <td>0.0</td>\n",
       "      <td>158056.0</td>\n",
       "      <td>0.0</td>\n",
       "      <td>0.0</td>\n",
       "      <td>0.0</td>\n",
       "      <td>6260.0</td>\n",
       "      <td>0.0</td>\n",
       "      <td>0.0</td>\n",
       "      <td>0.0</td>\n",
       "      <td>110405.0</td>\n",
       "      <td>560.0</td>\n",
       "      <td>7361.0</td>\n",
       "    </tr>\n",
       "    <tr>\n",
       "      <th>1992658</th>\n",
       "      <td>3510555</td>\n",
       "      <td>0.0</td>\n",
       "      <td>0</td>\n",
       "      <td>0.0</td>\n",
       "      <td>0</td>\n",
       "      <td>0.0</td>\n",
       "      <td>0.0</td>\n",
       "      <td>0.0</td>\n",
       "      <td>5837.0</td>\n",
       "      <td>0.0</td>\n",
       "      <td>0.0</td>\n",
       "      <td>0.0</td>\n",
       "      <td>0.0</td>\n",
       "      <td>0.0</td>\n",
       "      <td>0.0</td>\n",
       "      <td>0.0</td>\n",
       "      <td>0.0</td>\n",
       "      <td>0.0</td>\n",
       "      <td>299805.0</td>\n",
       "      <td>155538.0</td>\n",
       "      <td>3882.0</td>\n",
       "      <td>11817.0</td>\n",
       "      <td>0.0</td>\n",
       "      <td>0.0</td>\n",
       "      <td>0.0</td>\n",
       "      <td>0.0</td>\n",
       "      <td>0.0</td>\n",
       "      <td>0.0</td>\n",
       "      <td>0.0</td>\n",
       "      <td>0.0</td>\n",
       "      <td>162406.0</td>\n",
       "      <td>0.0</td>\n",
       "      <td>255304.0</td>\n",
       "      <td>0.0</td>\n",
       "      <td>0.0</td>\n",
       "      <td>0.0</td>\n",
       "      <td>0.0</td>\n",
       "      <td>0.0</td>\n",
       "      <td>19621.0</td>\n",
       "      <td>0.0</td>\n",
       "      <td>0.0</td>\n",
       "    </tr>\n",
       "    <tr>\n",
       "      <th>1992659</th>\n",
       "      <td>3510610</td>\n",
       "      <td>0.0</td>\n",
       "      <td>0</td>\n",
       "      <td>0.0</td>\n",
       "      <td>0</td>\n",
       "      <td>63678.0</td>\n",
       "      <td>0.0</td>\n",
       "      <td>0.0</td>\n",
       "      <td>20.0</td>\n",
       "      <td>0.0</td>\n",
       "      <td>0.0</td>\n",
       "      <td>0.0</td>\n",
       "      <td>2559.0</td>\n",
       "      <td>0.0</td>\n",
       "      <td>0.0</td>\n",
       "      <td>0.0</td>\n",
       "      <td>0.0</td>\n",
       "      <td>0.0</td>\n",
       "      <td>312.0</td>\n",
       "      <td>282670.0</td>\n",
       "      <td>16050.0</td>\n",
       "      <td>0.0</td>\n",
       "      <td>86.0</td>\n",
       "      <td>0.0</td>\n",
       "      <td>0.0</td>\n",
       "      <td>31295.0</td>\n",
       "      <td>0.0</td>\n",
       "      <td>0.0</td>\n",
       "      <td>0.0</td>\n",
       "      <td>0.0</td>\n",
       "      <td>423.0</td>\n",
       "      <td>0.0</td>\n",
       "      <td>0.0</td>\n",
       "      <td>0.0</td>\n",
       "      <td>0.0</td>\n",
       "      <td>0.0</td>\n",
       "      <td>0.0</td>\n",
       "      <td>0.0</td>\n",
       "      <td>2425.0</td>\n",
       "      <td>0.0</td>\n",
       "      <td>0.0</td>\n",
       "    </tr>\n",
       "    <tr>\n",
       "      <th>1992660</th>\n",
       "      <td>3510959</td>\n",
       "      <td>0.0</td>\n",
       "      <td>0</td>\n",
       "      <td>0.0</td>\n",
       "      <td>0</td>\n",
       "      <td>0.0</td>\n",
       "      <td>0.0</td>\n",
       "      <td>0.0</td>\n",
       "      <td>8766.0</td>\n",
       "      <td>8976.0</td>\n",
       "      <td>1366.0</td>\n",
       "      <td>0.0</td>\n",
       "      <td>0.0</td>\n",
       "      <td>0.0</td>\n",
       "      <td>0.0</td>\n",
       "      <td>0.0</td>\n",
       "      <td>0.0</td>\n",
       "      <td>0.0</td>\n",
       "      <td>27595.0</td>\n",
       "      <td>120358.0</td>\n",
       "      <td>4449.0</td>\n",
       "      <td>3271.0</td>\n",
       "      <td>2270.0</td>\n",
       "      <td>209.0</td>\n",
       "      <td>0.0</td>\n",
       "      <td>0.0</td>\n",
       "      <td>0.0</td>\n",
       "      <td>0.0</td>\n",
       "      <td>0.0</td>\n",
       "      <td>0.0</td>\n",
       "      <td>216695.0</td>\n",
       "      <td>0.0</td>\n",
       "      <td>165177.0</td>\n",
       "      <td>0.0</td>\n",
       "      <td>12828.0</td>\n",
       "      <td>0.0</td>\n",
       "      <td>44446.0</td>\n",
       "      <td>0.0</td>\n",
       "      <td>48861.0</td>\n",
       "      <td>400.0</td>\n",
       "      <td>12626.0</td>\n",
       "    </tr>\n",
       "    <tr>\n",
       "      <th>1992661</th>\n",
       "      <td>3511161</td>\n",
       "      <td>0.0</td>\n",
       "      <td>0</td>\n",
       "      <td>0.0</td>\n",
       "      <td>0</td>\n",
       "      <td>0.0</td>\n",
       "      <td>0.0</td>\n",
       "      <td>0.0</td>\n",
       "      <td>464.0</td>\n",
       "      <td>0.0</td>\n",
       "      <td>47017.0</td>\n",
       "      <td>0.0</td>\n",
       "      <td>0.0</td>\n",
       "      <td>0.0</td>\n",
       "      <td>0.0</td>\n",
       "      <td>0.0</td>\n",
       "      <td>0.0</td>\n",
       "      <td>0.0</td>\n",
       "      <td>35854.0</td>\n",
       "      <td>2744.0</td>\n",
       "      <td>649.0</td>\n",
       "      <td>49632.0</td>\n",
       "      <td>6100.0</td>\n",
       "      <td>0.0</td>\n",
       "      <td>0.0</td>\n",
       "      <td>0.0</td>\n",
       "      <td>0.0</td>\n",
       "      <td>0.0</td>\n",
       "      <td>0.0</td>\n",
       "      <td>0.0</td>\n",
       "      <td>134983.0</td>\n",
       "      <td>0.0</td>\n",
       "      <td>0.0</td>\n",
       "      <td>0.0</td>\n",
       "      <td>0.0</td>\n",
       "      <td>0.0</td>\n",
       "      <td>0.0</td>\n",
       "      <td>0.0</td>\n",
       "      <td>38594.0</td>\n",
       "      <td>0.0</td>\n",
       "      <td>390.0</td>\n",
       "    </tr>\n",
       "    <tr>\n",
       "      <th>1992662</th>\n",
       "      <td>3511548</td>\n",
       "      <td>0.0</td>\n",
       "      <td>0</td>\n",
       "      <td>0.0</td>\n",
       "      <td>0</td>\n",
       "      <td>984.0</td>\n",
       "      <td>0.0</td>\n",
       "      <td>0.0</td>\n",
       "      <td>3180.0</td>\n",
       "      <td>0.0</td>\n",
       "      <td>9425.0</td>\n",
       "      <td>0.0</td>\n",
       "      <td>198789.0</td>\n",
       "      <td>0.0</td>\n",
       "      <td>0.0</td>\n",
       "      <td>100405.0</td>\n",
       "      <td>0.0</td>\n",
       "      <td>0.0</td>\n",
       "      <td>11383.0</td>\n",
       "      <td>21479.0</td>\n",
       "      <td>72903.0</td>\n",
       "      <td>10144.0</td>\n",
       "      <td>52893.0</td>\n",
       "      <td>0.0</td>\n",
       "      <td>0.0</td>\n",
       "      <td>0.0</td>\n",
       "      <td>0.0</td>\n",
       "      <td>847.0</td>\n",
       "      <td>0.0</td>\n",
       "      <td>0.0</td>\n",
       "      <td>191089.0</td>\n",
       "      <td>0.0</td>\n",
       "      <td>0.0</td>\n",
       "      <td>0.0</td>\n",
       "      <td>4610.0</td>\n",
       "      <td>0.0</td>\n",
       "      <td>0.0</td>\n",
       "      <td>0.0</td>\n",
       "      <td>9097.0</td>\n",
       "      <td>405.0</td>\n",
       "      <td>851.0</td>\n",
       "    </tr>\n",
       "    <tr>\n",
       "      <th>1992663</th>\n",
       "      <td>3511641</td>\n",
       "      <td>0.0</td>\n",
       "      <td>0</td>\n",
       "      <td>0.0</td>\n",
       "      <td>0</td>\n",
       "      <td>12912.0</td>\n",
       "      <td>0.0</td>\n",
       "      <td>0.0</td>\n",
       "      <td>1511.0</td>\n",
       "      <td>0.0</td>\n",
       "      <td>22.0</td>\n",
       "      <td>0.0</td>\n",
       "      <td>0.0</td>\n",
       "      <td>0.0</td>\n",
       "      <td>0.0</td>\n",
       "      <td>0.0</td>\n",
       "      <td>0.0</td>\n",
       "      <td>0.0</td>\n",
       "      <td>11586.0</td>\n",
       "      <td>354.0</td>\n",
       "      <td>11381.0</td>\n",
       "      <td>0.0</td>\n",
       "      <td>0.0</td>\n",
       "      <td>0.0</td>\n",
       "      <td>0.0</td>\n",
       "      <td>0.0</td>\n",
       "      <td>0.0</td>\n",
       "      <td>0.0</td>\n",
       "      <td>0.0</td>\n",
       "      <td>0.0</td>\n",
       "      <td>58130.0</td>\n",
       "      <td>0.0</td>\n",
       "      <td>12944.0</td>\n",
       "      <td>0.0</td>\n",
       "      <td>0.0</td>\n",
       "      <td>0.0</td>\n",
       "      <td>6925.0</td>\n",
       "      <td>0.0</td>\n",
       "      <td>987.0</td>\n",
       "      <td>0.0</td>\n",
       "      <td>104.0</td>\n",
       "    </tr>\n",
       "    <tr>\n",
       "      <th>1992664</th>\n",
       "      <td>3511901</td>\n",
       "      <td>0.0</td>\n",
       "      <td>0</td>\n",
       "      <td>0.0</td>\n",
       "      <td>0</td>\n",
       "      <td>0.0</td>\n",
       "      <td>0.0</td>\n",
       "      <td>0.0</td>\n",
       "      <td>44989.0</td>\n",
       "      <td>0.0</td>\n",
       "      <td>0.0</td>\n",
       "      <td>0.0</td>\n",
       "      <td>0.0</td>\n",
       "      <td>0.0</td>\n",
       "      <td>0.0</td>\n",
       "      <td>0.0</td>\n",
       "      <td>0.0</td>\n",
       "      <td>0.0</td>\n",
       "      <td>262809.0</td>\n",
       "      <td>47417.0</td>\n",
       "      <td>133906.0</td>\n",
       "      <td>0.0</td>\n",
       "      <td>388214.0</td>\n",
       "      <td>0.0</td>\n",
       "      <td>0.0</td>\n",
       "      <td>0.0</td>\n",
       "      <td>0.0</td>\n",
       "      <td>0.0</td>\n",
       "      <td>0.0</td>\n",
       "      <td>0.0</td>\n",
       "      <td>501622.0</td>\n",
       "      <td>0.0</td>\n",
       "      <td>0.0</td>\n",
       "      <td>0.0</td>\n",
       "      <td>0.0</td>\n",
       "      <td>0.0</td>\n",
       "      <td>0.0</td>\n",
       "      <td>0.0</td>\n",
       "      <td>1262.0</td>\n",
       "      <td>0.0</td>\n",
       "      <td>0.0</td>\n",
       "    </tr>\n",
       "    <tr>\n",
       "      <th>1992665</th>\n",
       "      <td>3511958</td>\n",
       "      <td>0.0</td>\n",
       "      <td>0</td>\n",
       "      <td>0.0</td>\n",
       "      <td>0</td>\n",
       "      <td>0.0</td>\n",
       "      <td>0.0</td>\n",
       "      <td>0.0</td>\n",
       "      <td>0.0</td>\n",
       "      <td>0.0</td>\n",
       "      <td>0.0</td>\n",
       "      <td>0.0</td>\n",
       "      <td>0.0</td>\n",
       "      <td>0.0</td>\n",
       "      <td>0.0</td>\n",
       "      <td>0.0</td>\n",
       "      <td>0.0</td>\n",
       "      <td>0.0</td>\n",
       "      <td>0.0</td>\n",
       "      <td>17456.0</td>\n",
       "      <td>0.0</td>\n",
       "      <td>0.0</td>\n",
       "      <td>0.0</td>\n",
       "      <td>0.0</td>\n",
       "      <td>0.0</td>\n",
       "      <td>0.0</td>\n",
       "      <td>0.0</td>\n",
       "      <td>0.0</td>\n",
       "      <td>0.0</td>\n",
       "      <td>0.0</td>\n",
       "      <td>3400.0</td>\n",
       "      <td>0.0</td>\n",
       "      <td>0.0</td>\n",
       "      <td>0.0</td>\n",
       "      <td>0.0</td>\n",
       "      <td>0.0</td>\n",
       "      <td>0.0</td>\n",
       "      <td>0.0</td>\n",
       "      <td>0.0</td>\n",
       "      <td>0.0</td>\n",
       "      <td>0.0</td>\n",
       "    </tr>\n",
       "  </tbody>\n",
       "</table>\n",
       "<p>1992666 rows × 41 columns</p>\n",
       "</div>"
      ],
      "text/plain": [
       "             uid  duration0  duration1  duration2  duration3  duration4  \\\n",
       "0        1000364        0.0          0        0.0          0        0.0   \n",
       "1        1000387        0.0          0        0.0          0        0.0   \n",
       "2        1000872        0.0          0        0.0          0        0.0   \n",
       "3        1000951        0.0          0        0.0          0        0.0   \n",
       "4        1001091     1271.0          0        0.0          0        0.0   \n",
       "5        1001365        0.0          0        0.0          0        0.0   \n",
       "6        1001441        0.0          0        0.0          0        0.0   \n",
       "7        1001627        0.0          0        0.0          0        0.0   \n",
       "8        1001700        0.0          0        0.0          0    44061.0   \n",
       "9        1001710        0.0          0        0.0          0    27833.0   \n",
       "10       1002654        0.0          0        0.0          0        0.0   \n",
       "11       1002722        0.0          0        0.0          0        0.0   \n",
       "12       1003058        0.0          0        0.0          0    27504.0   \n",
       "13       1003472        0.0          0        0.0          0   206465.0   \n",
       "14       1003568        0.0          0        0.0          0        0.0   \n",
       "15       1003619        0.0          0        0.0          0        0.0   \n",
       "16       1004358        0.0          0        0.0          0        0.0   \n",
       "17       1004475        0.0          0        0.0          0        0.0   \n",
       "18       1004705        0.0          0        0.0          0        0.0   \n",
       "19       1004744        0.0          0        0.0          0        0.0   \n",
       "20       1004976        0.0          0        0.0          0   241117.0   \n",
       "21       1005101        0.0          0        0.0          0        0.0   \n",
       "22       1005832        0.0          0        0.0          0        0.0   \n",
       "23       1006498        0.0          0        0.0          0        0.0   \n",
       "24       1006566        0.0          0        0.0          0        0.0   \n",
       "25       1007354        0.0          0        0.0          0      156.0   \n",
       "26       1007859        0.0          0        0.0          0       18.0   \n",
       "27       1008159      452.0          0        0.0          0   127311.0   \n",
       "28       1008197        0.0          0        0.0          0        0.0   \n",
       "29       1008222        0.0          0        0.0          0        0.0   \n",
       "...          ...        ...        ...        ...        ...        ...   \n",
       "1992636  3503616        0.0          0        0.0          0        0.0   \n",
       "1992637  3503629        0.0          0        0.0          0        0.0   \n",
       "1992638  3503973        0.0          0        0.0          0    12777.0   \n",
       "1992639  3504311        0.0          0        0.0          0        0.0   \n",
       "1992640  3504352        0.0          0        0.0          0        0.0   \n",
       "1992641  3504514        0.0          0        0.0          0        0.0   \n",
       "1992642  3505187        0.0          0        0.0          0        0.0   \n",
       "1992643  3505546        0.0          0        0.0          0        0.0   \n",
       "1992644  3505714        0.0          0        0.0          0        0.0   \n",
       "1992645  3506303        0.0          0        0.0          0        0.0   \n",
       "1992646  3506616        0.0          0        0.0          0        0.0   \n",
       "1992647  3506831        0.0          0        0.0          0        0.0   \n",
       "1992648  3506845        0.0          0        0.0          0    85605.0   \n",
       "1992649  3506846        0.0          0        0.0          0        0.0   \n",
       "1992650  3507232        0.0          0        0.0          0     1246.0   \n",
       "1992651  3507816        0.0          0        0.0          0      618.0   \n",
       "1992652  3509290        0.0          0        0.0          0        0.0   \n",
       "1992653  3509407        0.0          0        0.0          0        0.0   \n",
       "1992654  3509706        0.0          0        0.0          0        0.0   \n",
       "1992655  3509801        0.0          0        0.0          0    85816.0   \n",
       "1992656  3510006        0.0          0        0.0          0        2.0   \n",
       "1992657  3510091        0.0          0        0.0          0        0.0   \n",
       "1992658  3510555        0.0          0        0.0          0        0.0   \n",
       "1992659  3510610        0.0          0        0.0          0    63678.0   \n",
       "1992660  3510959        0.0          0        0.0          0        0.0   \n",
       "1992661  3511161        0.0          0        0.0          0        0.0   \n",
       "1992662  3511548        0.0          0        0.0          0      984.0   \n",
       "1992663  3511641        0.0          0        0.0          0    12912.0   \n",
       "1992664  3511901        0.0          0        0.0          0        0.0   \n",
       "1992665  3511958        0.0          0        0.0          0        0.0   \n",
       "\n",
       "         duration5  duration6  duration7  duration8  duration9  duration10  \\\n",
       "0              0.0        0.0        0.0        0.0        0.0         0.0   \n",
       "1              0.0        0.0     6330.0        0.0    12871.0         0.0   \n",
       "2              0.0        0.0    25421.0        0.0    17558.0         0.0   \n",
       "3              0.0        0.0      724.0        0.0    13677.0         0.0   \n",
       "4              0.0        0.0     2550.0        0.0    16552.0         0.0   \n",
       "5              0.0        0.0     5472.0        0.0     4250.0         0.0   \n",
       "6              0.0        0.0   151790.0        0.0     1348.0         0.0   \n",
       "7              0.0        0.0     3449.0        0.0     5184.0         0.0   \n",
       "8              0.0        0.0     2753.0        0.0    14119.0         0.0   \n",
       "9              0.0        0.0    33252.0        0.0     6896.0         0.0   \n",
       "10             0.0        0.0    13814.0        0.0     7667.0         0.0   \n",
       "11             0.0        0.0     2172.0        0.0        0.0         0.0   \n",
       "12             0.0        0.0    15731.0        0.0      868.0         0.0   \n",
       "13             0.0        0.0        0.0        0.0        0.0         0.0   \n",
       "14             0.0        0.0    58670.0        0.0     7474.0         0.0   \n",
       "15             0.0        0.0     3254.0        0.0    13032.0         0.0   \n",
       "16             0.0        0.0      289.0        0.0    11724.0         0.0   \n",
       "17             0.0        0.0        0.0        0.0        0.0         0.0   \n",
       "18             0.0        0.0    15344.0      122.0     5962.0         0.0   \n",
       "19             0.0        0.0     1121.0        0.0     1622.0         0.0   \n",
       "20             0.0        0.0     3100.0        0.0        0.0         0.0   \n",
       "21             0.0        0.0      619.0        0.0    93935.0         0.0   \n",
       "22             0.0        0.0     1166.0        0.0     4328.0         0.0   \n",
       "23             0.0        0.0      570.0        0.0        0.0         0.0   \n",
       "24             0.0        0.0     4132.0        0.0        0.0         0.0   \n",
       "25             0.0     2170.0      154.0        0.0        0.0         0.0   \n",
       "26             0.0        0.0      417.0        0.0     1764.0         0.0   \n",
       "27             0.0     2224.0    26880.0      560.0    38646.0         0.0   \n",
       "28             0.0        0.0      244.0        0.0     1009.0         0.0   \n",
       "29             0.0        0.0       40.0       20.0        0.0         0.0   \n",
       "...            ...        ...        ...        ...        ...         ...   \n",
       "1992636        0.0        0.0     9834.0        0.0        0.0         0.0   \n",
       "1992637        0.0        0.0    21258.0        0.0        0.0         0.0   \n",
       "1992638        0.0        0.0      362.0      173.0        0.0         0.0   \n",
       "1992639        0.0        0.0     8354.0        0.0     1885.0         0.0   \n",
       "1992640        0.0        0.0        0.0        0.0        0.0         0.0   \n",
       "1992641        0.0        0.0      186.0        0.0        6.0         0.0   \n",
       "1992642        0.0        0.0    11987.0        0.0      440.0         0.0   \n",
       "1992643        0.0        0.0        0.0        0.0        0.0         0.0   \n",
       "1992644        0.0        0.0     4140.0        0.0     4204.0         0.0   \n",
       "1992645        0.0        0.0    12384.0        0.0     1556.0         0.0   \n",
       "1992646        0.0        0.0     5147.0        0.0        0.0         0.0   \n",
       "1992647        0.0        0.0        0.0        0.0        0.0         0.0   \n",
       "1992648        0.0        0.0    21000.0        0.0      660.0         0.0   \n",
       "1992649        0.0        0.0      116.0        0.0        0.0         0.0   \n",
       "1992650        0.0        0.0     3989.0        0.0     1154.0         0.0   \n",
       "1992651        0.0        0.0     4385.0        0.0     1545.0         0.0   \n",
       "1992652        0.0        0.0    25354.0        0.0     4519.0         0.0   \n",
       "1992653        0.0        0.0       49.0        0.0        0.0         0.0   \n",
       "1992654        0.0        0.0     7190.0      211.0     2976.0         0.0   \n",
       "1992655        0.0        0.0   101852.0     1799.0    28537.0         0.0   \n",
       "1992656        0.0        0.0     2732.0      573.0      468.0         0.0   \n",
       "1992657        0.0        0.0     1750.0       26.0     3260.0         0.0   \n",
       "1992658        0.0        0.0     5837.0        0.0        0.0         0.0   \n",
       "1992659        0.0        0.0       20.0        0.0        0.0         0.0   \n",
       "1992660        0.0        0.0     8766.0     8976.0     1366.0         0.0   \n",
       "1992661        0.0        0.0      464.0        0.0    47017.0         0.0   \n",
       "1992662        0.0        0.0     3180.0        0.0     9425.0         0.0   \n",
       "1992663        0.0        0.0     1511.0        0.0       22.0         0.0   \n",
       "1992664        0.0        0.0    44989.0        0.0        0.0         0.0   \n",
       "1992665        0.0        0.0        0.0        0.0        0.0         0.0   \n",
       "\n",
       "         duration11  duration12  duration13  duration14  duration15  \\\n",
       "0               0.0         0.0         0.0         0.0         0.0   \n",
       "1          109901.0         0.0         0.0         0.0         0.0   \n",
       "2               0.0         0.0         0.0     20772.0         0.0   \n",
       "3               0.0         0.0         0.0         0.0         0.0   \n",
       "4           23718.0         0.0         0.0      7326.0         0.0   \n",
       "5               0.0         0.0         0.0      1581.0         0.0   \n",
       "6               0.0         0.0         0.0         0.0         0.0   \n",
       "7               0.0         0.0         0.0         0.0         0.0   \n",
       "8               0.0         0.0         0.0         0.0         0.0   \n",
       "9               0.0         0.0         0.0         0.0         0.0   \n",
       "10              0.0         0.0         0.0         0.0         0.0   \n",
       "11              0.0         0.0         0.0         0.0         0.0   \n",
       "12              0.0         0.0         0.0         0.0         0.0   \n",
       "13              0.0         0.0         0.0         0.0         0.0   \n",
       "14              0.0         0.0         0.0         0.0         0.0   \n",
       "15          89444.0         0.0         0.0     15086.0         0.0   \n",
       "16              0.0         0.0         0.0       498.0         0.0   \n",
       "17              0.0         0.0         0.0         0.0         0.0   \n",
       "18              0.0         0.0         0.0      9326.0         0.0   \n",
       "19              0.0         0.0         0.0         0.0         0.0   \n",
       "20              0.0         0.0         0.0     17965.0         0.0   \n",
       "21          55208.0         0.0         0.0         0.0         0.0   \n",
       "22              0.0         0.0         0.0         0.0         0.0   \n",
       "23              0.0         0.0         0.0     21090.0         0.0   \n",
       "24           3829.0         0.0         0.0         0.0         0.0   \n",
       "25              0.0         0.0         0.0         0.0         0.0   \n",
       "26             84.0         0.0         0.0         0.0         0.0   \n",
       "27          62615.0         0.0         0.0     34895.0         0.0   \n",
       "28              0.0         0.0         0.0         0.0         0.0   \n",
       "29              0.0         0.0         0.0         0.0         0.0   \n",
       "...             ...         ...         ...         ...         ...   \n",
       "1992636    156728.0         0.0         0.0         0.0         0.0   \n",
       "1992637         0.0         0.0         0.0         0.0         0.0   \n",
       "1992638     47044.0         0.0         0.0         0.0         0.0   \n",
       "1992639         0.0         0.0         0.0         0.0         0.0   \n",
       "1992640         0.0         0.0         0.0         0.0         0.0   \n",
       "1992641     13144.0         0.0         0.0         0.0         0.0   \n",
       "1992642         0.0         0.0         0.0       590.0         0.0   \n",
       "1992643         0.0         0.0         0.0         0.0         0.0   \n",
       "1992644         0.0         0.0         0.0     38836.0         0.0   \n",
       "1992645         0.0         0.0         0.0         0.0         0.0   \n",
       "1992646         0.0         0.0         0.0       669.0         0.0   \n",
       "1992647         0.0         0.0         0.0         0.0         0.0   \n",
       "1992648     18330.0         0.0         0.0       327.0         0.0   \n",
       "1992649         0.0         0.0         0.0      2008.0         0.0   \n",
       "1992650      4418.0         0.0         0.0         0.0         0.0   \n",
       "1992651    214266.0         0.0         0.0         0.0         0.0   \n",
       "1992652         0.0         0.0         0.0      1250.0         0.0   \n",
       "1992653         0.0         0.0         0.0         0.0         0.0   \n",
       "1992654     38774.0         0.0         0.0         0.0         0.0   \n",
       "1992655         0.0         0.0         0.0       436.0         0.0   \n",
       "1992656         0.0         0.0         0.0         0.0         0.0   \n",
       "1992657         0.0         0.0         0.0      7946.0         0.0   \n",
       "1992658         0.0         0.0         0.0         0.0         0.0   \n",
       "1992659      2559.0         0.0         0.0         0.0         0.0   \n",
       "1992660         0.0         0.0         0.0         0.0         0.0   \n",
       "1992661         0.0         0.0         0.0         0.0         0.0   \n",
       "1992662    198789.0         0.0         0.0    100405.0         0.0   \n",
       "1992663         0.0         0.0         0.0         0.0         0.0   \n",
       "1992664         0.0         0.0         0.0         0.0         0.0   \n",
       "1992665         0.0         0.0         0.0         0.0         0.0   \n",
       "\n",
       "         duration16  duration17  duration18  duration19  duration20  \\\n",
       "0               0.0        10.0     40589.0         0.0        32.0   \n",
       "1               0.0     39409.0    195735.0    274784.0      2408.0   \n",
       "2               0.0      5135.0     10821.0      5278.0       707.0   \n",
       "3               0.0     10325.0     81252.0       678.0         0.0   \n",
       "4               0.0     51220.0    214100.0     11368.0       601.0   \n",
       "5               0.0      4193.0      7825.0         0.0         0.0   \n",
       "6               0.0      6192.0    195634.0     78716.0      1150.0   \n",
       "7               0.0      5711.0     81032.0         0.0         6.0   \n",
       "8               0.0     52482.0     56869.0     33709.0    110355.0   \n",
       "9               0.0     13561.0     43192.0         0.0      1876.0   \n",
       "10              0.0    573263.0     35705.0    105642.0         0.0   \n",
       "11              0.0      2910.0     13774.0     13449.0        66.0   \n",
       "12              0.0    118230.0    149617.0         0.0      7212.0   \n",
       "13              0.0     17545.0    210335.0       723.0         0.0   \n",
       "14              0.0       323.0         0.0         0.0        76.0   \n",
       "15              0.0     28941.0     64491.0    237406.0      1584.0   \n",
       "16              0.0      7303.0     68193.0         0.0        51.0   \n",
       "17              0.0       246.0      5904.0      3103.0       146.0   \n",
       "18              0.0      8594.0    145289.0    189807.0      2538.0   \n",
       "19              0.0      2349.0     39661.0      2218.0      1164.0   \n",
       "20              0.0     68662.0      2195.0     10527.0      3787.0   \n",
       "21              0.0      7655.0     51334.0    124369.0       324.0   \n",
       "22              0.0      3570.0    308497.0     36786.0    201295.0   \n",
       "23              0.0       856.0      9347.0        27.0         0.0   \n",
       "24              0.0     45462.0     24170.0         0.0         1.0   \n",
       "25              0.0      4184.0     34233.0      3732.0       818.0   \n",
       "26              0.0     52683.0    378441.0     31066.0         0.0   \n",
       "27              0.0    901562.0   1861871.0    438644.0    239949.0   \n",
       "28              0.0     19450.0      2963.0         0.0     10772.0   \n",
       "29              0.0       218.0    142711.0         0.0         0.0   \n",
       "...             ...         ...         ...         ...         ...   \n",
       "1992636         0.0      3531.0     10840.0         0.0      2644.0   \n",
       "1992637         0.0    274570.0       441.0        33.0         0.0   \n",
       "1992638         0.0     44322.0    295806.0     88798.0       851.0   \n",
       "1992639         0.0    210713.0      5906.0         0.0         0.0   \n",
       "1992640         0.0         7.0     15299.0     53581.0         0.0   \n",
       "1992641         0.0     26320.0     23485.0      6154.0       475.0   \n",
       "1992642         0.0     85432.0        98.0        28.0     34796.0   \n",
       "1992643         0.0        60.0      6234.0         2.0         0.0   \n",
       "1992644         0.0     47004.0     16732.0    100458.0      6018.0   \n",
       "1992645         0.0      1604.0      3538.0       358.0        34.0   \n",
       "1992646         0.0     10252.0      1890.0      1253.0      2865.0   \n",
       "1992647         0.0       573.0     15842.0     64462.0         0.0   \n",
       "1992648         0.0      4165.0    111990.0    114410.0      7458.0   \n",
       "1992649         0.0      2285.0     39958.0         0.0      6606.0   \n",
       "1992650         0.0     22152.0      2746.0     23541.0      6599.0   \n",
       "1992651         0.0     29179.0    145736.0       621.0      7331.0   \n",
       "1992652         0.0     14872.0    152755.0     48161.0     23602.0   \n",
       "1992653         0.0     45785.0         0.0         0.0        10.0   \n",
       "1992654         0.0     12914.0    222993.0    149710.0        50.0   \n",
       "1992655         0.0      6735.0    112220.0         0.0       336.0   \n",
       "1992656         0.0       476.0     69399.0    102405.0      5297.0   \n",
       "1992657         0.0     12881.0     76094.0       127.0         0.0   \n",
       "1992658         0.0    299805.0    155538.0      3882.0     11817.0   \n",
       "1992659         0.0       312.0    282670.0     16050.0         0.0   \n",
       "1992660         0.0     27595.0    120358.0      4449.0      3271.0   \n",
       "1992661         0.0     35854.0      2744.0       649.0     49632.0   \n",
       "1992662         0.0     11383.0     21479.0     72903.0     10144.0   \n",
       "1992663         0.0     11586.0       354.0     11381.0         0.0   \n",
       "1992664         0.0    262809.0     47417.0    133906.0         0.0   \n",
       "1992665         0.0         0.0     17456.0         0.0         0.0   \n",
       "\n",
       "         duration21  duration22  duration23  duration24  duration25  \\\n",
       "0           30228.0         0.0         0.0         0.0         0.0   \n",
       "1           55456.0         0.0         0.0         0.0         0.0   \n",
       "2            1683.0         0.0         0.0         0.0         0.0   \n",
       "3               0.0         0.0         0.0    188948.0         0.0   \n",
       "4            3221.0      8543.0         0.0         0.0         0.0   \n",
       "5               0.0         0.0         0.0         0.0         0.0   \n",
       "6          139516.0       712.0         0.0         0.0         0.0   \n",
       "7               0.0         0.0         0.0         0.0         0.0   \n",
       "8           23291.0         0.0         0.0     27732.0         0.0   \n",
       "9          160697.0      4429.0         0.0         0.0         0.0   \n",
       "10           2308.0         0.0         0.0         0.0         0.0   \n",
       "11              0.0         0.0         0.0         0.0         0.0   \n",
       "12          29633.0         0.0         0.0    196447.0         0.0   \n",
       "13           2830.0         0.0         0.0         0.0         0.0   \n",
       "14         212447.0       322.0         0.0         0.0         0.0   \n",
       "15           5398.0         0.0         0.0      7337.0         0.0   \n",
       "16            296.0         0.0         0.0     25694.0         0.0   \n",
       "17            429.0         0.0         0.0         0.0         0.0   \n",
       "18             54.0       746.0         0.0         0.0         0.0   \n",
       "19              0.0         0.0         0.0         0.0         0.0   \n",
       "20           3640.0         0.0         0.0         0.0         0.0   \n",
       "21           3554.0      2832.0         0.0        57.0         0.0   \n",
       "22             98.0     26548.0         0.0         0.0         0.0   \n",
       "23              0.0         0.0         0.0         0.0         0.0   \n",
       "24         111757.0         0.0         0.0     22292.0         0.0   \n",
       "25              0.0         0.0         0.0         0.0         0.0   \n",
       "26            191.0       376.0         0.0    327893.0         0.0   \n",
       "27        1513489.0    188400.0         0.0      4381.0         0.0   \n",
       "28          64587.0         0.0         0.0         0.0         0.0   \n",
       "29          33552.0         0.0         0.0         0.0         0.0   \n",
       "...             ...         ...         ...         ...         ...   \n",
       "1992636    167180.0         0.0         0.0         0.0         0.0   \n",
       "1992637      6916.0         0.0         0.0         0.0         0.0   \n",
       "1992638      2148.0         0.0         0.0         0.0         0.0   \n",
       "1992639      2263.0        14.0         0.0         0.0         0.0   \n",
       "1992640      1506.0         0.0         0.0         0.0         0.0   \n",
       "1992641         0.0         0.0         0.0         0.0         0.0   \n",
       "1992642     19382.0         0.0         0.0         0.0         0.0   \n",
       "1992643     27026.0         0.0         0.0         0.0         0.0   \n",
       "1992644      1748.0         0.0         0.0         0.0         0.0   \n",
       "1992645         0.0       616.0         0.0         0.0         0.0   \n",
       "1992646       195.0         0.0         0.0         0.0         0.0   \n",
       "1992647        86.0         0.0         0.0         0.0         0.0   \n",
       "1992648      2903.0       512.0         0.0     31240.0         0.0   \n",
       "1992649     10576.0        37.0         0.0         0.0         0.0   \n",
       "1992650    250420.0         0.0         0.0         0.0         0.0   \n",
       "1992651       324.0         0.0         0.0         0.0         0.0   \n",
       "1992652     12673.0      2699.0         0.0         0.0         0.0   \n",
       "1992653         4.0         0.0         0.0         0.0         0.0   \n",
       "1992654     14126.0         0.0         0.0         0.0         0.0   \n",
       "1992655    155621.0       730.0         0.0     48260.0         0.0   \n",
       "1992656      5491.0       622.0         0.0         0.0         0.0   \n",
       "1992657      7722.0       726.0         0.0         0.0         0.0   \n",
       "1992658         0.0         0.0         0.0         0.0         0.0   \n",
       "1992659        86.0         0.0         0.0     31295.0         0.0   \n",
       "1992660      2270.0       209.0         0.0         0.0         0.0   \n",
       "1992661      6100.0         0.0         0.0         0.0         0.0   \n",
       "1992662     52893.0         0.0         0.0         0.0         0.0   \n",
       "1992663         0.0         0.0         0.0         0.0         0.0   \n",
       "1992664    388214.0         0.0         0.0         0.0         0.0   \n",
       "1992665         0.0         0.0         0.0         0.0         0.0   \n",
       "\n",
       "         duration26  duration27  duration28  duration29  duration30  \\\n",
       "0               0.0         0.0         0.0    281740.0         0.0   \n",
       "1            1157.0         0.0         0.0    133202.0         0.0   \n",
       "2               0.0         0.0         0.0    213779.0         0.0   \n",
       "3               0.0         0.0         0.0     72441.0         0.0   \n",
       "4               0.0         0.0         0.0    282536.0         0.0   \n",
       "5             306.0         0.0         0.0     87414.0         0.0   \n",
       "6               0.0         0.0         0.0    160048.0         0.0   \n",
       "7               0.0         0.0         0.0    129590.0         0.0   \n",
       "8            2624.0         0.0         0.0    127161.0         0.0   \n",
       "9             372.0         0.0         0.0    155099.0         0.0   \n",
       "10              0.0         0.0         0.0     76400.0         0.0   \n",
       "11              0.0         0.0         0.0     46128.0         0.0   \n",
       "12              0.0         0.0         0.0     52203.0         0.0   \n",
       "13              0.0         0.0         0.0     87487.0         0.0   \n",
       "14              0.0         0.0         0.0     47454.0         0.0   \n",
       "15              9.0         0.0         0.0    186779.0         0.0   \n",
       "16              0.0         0.0         0.0    208086.0         0.0   \n",
       "17              0.0         0.0         0.0      8740.0         0.0   \n",
       "18              0.0         0.0         0.0    179556.0         0.0   \n",
       "19              0.0         0.0         0.0     68741.0         0.0   \n",
       "20              0.0         0.0         0.0     43671.0         0.0   \n",
       "21            169.0         0.0         0.0    242272.0         0.0   \n",
       "22              0.0         0.0         0.0    147886.0         0.0   \n",
       "23              0.0         0.0         0.0    237864.0         0.0   \n",
       "24              0.0         0.0         0.0    193258.0         0.0   \n",
       "25              0.0         0.0         0.0     21590.0         0.0   \n",
       "26              0.0         0.0         0.0    282689.0         0.0   \n",
       "27          81818.0         0.0         0.0    680006.0         0.0   \n",
       "28              0.0         0.0         0.0    132666.0         0.0   \n",
       "29              0.0         0.0         0.0     26201.0         0.0   \n",
       "...             ...         ...         ...         ...         ...   \n",
       "1992636      1205.0         0.0         0.0     40745.0         0.0   \n",
       "1992637         0.0         0.0         0.0     33267.0         0.0   \n",
       "1992638         0.0         0.0         0.0    124989.0         0.0   \n",
       "1992639         0.0         0.0         0.0    445377.0         0.0   \n",
       "1992640         0.0         0.0         0.0     34808.0         0.0   \n",
       "1992641         0.0         0.0         0.0    118714.0         0.0   \n",
       "1992642         0.0         0.0         0.0     79141.0         0.0   \n",
       "1992643         0.0         0.0         0.0    144077.0         0.0   \n",
       "1992644       130.0         0.0         0.0    444309.0         0.0   \n",
       "1992645         0.0         0.0         0.0    411503.0         0.0   \n",
       "1992646        32.0         0.0         0.0    517766.0         0.0   \n",
       "1992647         0.0         0.0         0.0     61242.0         0.0   \n",
       "1992648         0.0         0.0         0.0     99091.0         0.0   \n",
       "1992649         0.0         0.0         0.0     17332.0         0.0   \n",
       "1992650         0.0         0.0         0.0    288592.0         0.0   \n",
       "1992651       353.0         0.0         0.0    302243.0         0.0   \n",
       "1992652         0.0         0.0         0.0    122425.0         0.0   \n",
       "1992653         0.0         0.0         0.0      6895.0         0.0   \n",
       "1992654       232.0         0.0         0.0     72530.0         0.0   \n",
       "1992655         0.0         0.0         0.0    136660.0         0.0   \n",
       "1992656         0.0         0.0         0.0     96809.0         0.0   \n",
       "1992657         0.0         0.0         0.0    158056.0         0.0   \n",
       "1992658         0.0         0.0         0.0    162406.0         0.0   \n",
       "1992659         0.0         0.0         0.0       423.0         0.0   \n",
       "1992660         0.0         0.0         0.0    216695.0         0.0   \n",
       "1992661         0.0         0.0         0.0    134983.0         0.0   \n",
       "1992662       847.0         0.0         0.0    191089.0         0.0   \n",
       "1992663         0.0         0.0         0.0     58130.0         0.0   \n",
       "1992664         0.0         0.0         0.0    501622.0         0.0   \n",
       "1992665         0.0         0.0         0.0      3400.0         0.0   \n",
       "\n",
       "         duration31  duration32  duration33  duration34  duration35  \\\n",
       "0               0.0         0.0         0.0         0.0         0.0   \n",
       "1               0.0         0.0         0.0         0.0         0.0   \n",
       "2               0.0         0.0         0.0         0.0         0.0   \n",
       "3               0.0         0.0         0.0         0.0         0.0   \n",
       "4            7390.0      5854.0      6315.0         0.0         0.0   \n",
       "5               0.0         0.0        75.0         0.0         0.0   \n",
       "6               0.0         0.0         0.0         0.0         0.0   \n",
       "7          366847.0         0.0         0.0         0.0         0.0   \n",
       "8               0.0         0.0      3831.0         0.0         0.0   \n",
       "9               0.0         0.0         0.0         0.0         0.0   \n",
       "10              0.0         0.0         3.0         0.0         0.0   \n",
       "11              0.0         0.0      5885.0         0.0         0.0   \n",
       "12              0.0         0.0         0.0         0.0         0.0   \n",
       "13              0.0         0.0         0.0         0.0         0.0   \n",
       "14              0.0         0.0         0.0         0.0         0.0   \n",
       "15          69324.0         0.0       757.0         0.0         0.0   \n",
       "16              0.0         0.0         0.0         0.0         0.0   \n",
       "17           3639.0         0.0       656.0         0.0         0.0   \n",
       "18              0.0         0.0      1382.0         0.0         0.0   \n",
       "19              0.0         0.0         0.0         0.0         0.0   \n",
       "20              0.0         0.0         0.0         0.0         0.0   \n",
       "21              0.0         0.0        46.0         0.0         0.0   \n",
       "22              0.0         0.0         0.0         0.0         0.0   \n",
       "23              0.0         0.0         0.0         0.0         0.0   \n",
       "24          69010.0         0.0      1713.0         0.0         0.0   \n",
       "25              0.0         0.0         0.0         0.0         0.0   \n",
       "26          73856.0         0.0        14.0         0.0         0.0   \n",
       "27         174934.0         0.0     32578.0         0.0       703.0   \n",
       "28              0.0         0.0      5508.0         0.0         0.0   \n",
       "29              0.0         0.0         0.0         0.0         0.0   \n",
       "...             ...         ...         ...         ...         ...   \n",
       "1992636     24375.0         0.0         0.0         0.0         0.0   \n",
       "1992637     93900.0         0.0         0.0         0.0         0.0   \n",
       "1992638     15558.0       588.0         0.0         0.0     21102.0   \n",
       "1992639         0.0         0.0         0.0         0.0         0.0   \n",
       "1992640         0.0         0.0         0.0         0.0         0.0   \n",
       "1992641     53458.0         0.0         0.0         0.0   1304186.0   \n",
       "1992642         0.0         0.0        20.0         0.0         0.0   \n",
       "1992643         0.0         0.0         0.0         0.0         0.0   \n",
       "1992644     14405.0         0.0         0.0         0.0         0.0   \n",
       "1992645         0.0         0.0         0.0         0.0         0.0   \n",
       "1992646         0.0         0.0         0.0         0.0         0.0   \n",
       "1992647         0.0         0.0         0.0         0.0         0.0   \n",
       "1992648    232555.0         0.0       454.0         0.0         0.0   \n",
       "1992649         0.0         0.0         0.0         0.0         0.0   \n",
       "1992650      8140.0         0.0         0.0         0.0         0.0   \n",
       "1992651       562.0         0.0       406.0         0.0         0.0   \n",
       "1992652         0.0         0.0         0.0         0.0         0.0   \n",
       "1992653         0.0         0.0         0.0         0.0         0.0   \n",
       "1992654         0.0         0.0         0.0         0.0         0.0   \n",
       "1992655         0.0         0.0     43120.0         0.0         0.0   \n",
       "1992656         0.0         0.0         0.0         0.0         0.0   \n",
       "1992657         0.0         0.0      6260.0         0.0         0.0   \n",
       "1992658    255304.0         0.0         0.0         0.0         0.0   \n",
       "1992659         0.0         0.0         0.0         0.0         0.0   \n",
       "1992660    165177.0         0.0     12828.0         0.0     44446.0   \n",
       "1992661         0.0         0.0         0.0         0.0         0.0   \n",
       "1992662         0.0         0.0      4610.0         0.0         0.0   \n",
       "1992663     12944.0         0.0         0.0         0.0      6925.0   \n",
       "1992664         0.0         0.0         0.0         0.0         0.0   \n",
       "1992665         0.0         0.0         0.0         0.0         0.0   \n",
       "\n",
       "         duration36  duration37  duration38  duration39  \n",
       "0               0.0     37765.0         0.0       392.0  \n",
       "1               0.0     50881.0     29069.0      6277.0  \n",
       "2               0.0     33108.0       320.0     14950.0  \n",
       "3               0.0      5243.0         0.0       787.0  \n",
       "4               0.0     54666.0        16.0     13487.0  \n",
       "5               0.0     13788.0         0.0     27495.0  \n",
       "6               0.0     45521.0         0.0     11675.0  \n",
       "7               0.0     25004.0         0.0      3931.0  \n",
       "8               0.0     10128.0     10997.0      2683.0  \n",
       "9               0.0     29133.0         0.0      9638.0  \n",
       "10              0.0      2598.0         0.0     18704.0  \n",
       "11              0.0     20224.0         0.0         0.0  \n",
       "12              0.0      1310.0         0.0        94.0  \n",
       "13              0.0     24012.0         0.0      1815.0  \n",
       "14              0.0     59143.0         0.0       376.0  \n",
       "15              0.0      2095.0         0.0       700.0  \n",
       "16              0.0    295530.0      3869.0     72108.0  \n",
       "17              0.0       931.0         0.0         0.0  \n",
       "18              0.0     46280.0      2012.0      6833.0  \n",
       "19              0.0      4632.0         0.0      7737.0  \n",
       "20              0.0      6012.0         0.0         0.0  \n",
       "21              0.0      3677.0         0.0      2755.0  \n",
       "22              0.0     36785.0         0.0      5384.0  \n",
       "23              0.0     30120.0         0.0      9085.0  \n",
       "24              0.0     18771.0         0.0         0.0  \n",
       "25              0.0      6412.0         0.0         0.0  \n",
       "26              0.0      9172.0       889.0      4002.0  \n",
       "27              0.0    135077.0     26281.0     95766.0  \n",
       "28              0.0     49144.0         0.0       712.0  \n",
       "29              0.0     30390.0         0.0       154.0  \n",
       "...             ...         ...         ...         ...  \n",
       "1992636         0.0     14807.0         0.0      1516.0  \n",
       "1992637         0.0     36303.0         0.0      2686.0  \n",
       "1992638         0.0         0.0         0.0         0.0  \n",
       "1992639         0.0     15448.0         0.0       996.0  \n",
       "1992640         0.0         6.0         0.0         0.0  \n",
       "1992641         0.0      1311.0         0.0       708.0  \n",
       "1992642         0.0     15520.0         0.0       650.0  \n",
       "1992643         0.0         0.0         0.0         0.0  \n",
       "1992644         0.0     10354.0      2439.0      6480.0  \n",
       "1992645         0.0    289624.0      1640.0     11547.0  \n",
       "1992646         0.0        16.0         0.0      9404.0  \n",
       "1992647         0.0         0.0         0.0         0.0  \n",
       "1992648         0.0     21373.0         0.0      3845.0  \n",
       "1992649         0.0      1038.0         0.0      2450.0  \n",
       "1992650         0.0     31844.0         0.0       897.0  \n",
       "1992651         0.0     16806.0         0.0       280.0  \n",
       "1992652         0.0     42785.0       550.0      5972.0  \n",
       "1992653         0.0         0.0         0.0         0.0  \n",
       "1992654         0.0     33889.0         0.0      5737.0  \n",
       "1992655         0.0    122406.0      1503.0       986.0  \n",
       "1992656         0.0      9814.0     35038.0      1877.0  \n",
       "1992657         0.0    110405.0       560.0      7361.0  \n",
       "1992658         0.0     19621.0         0.0         0.0  \n",
       "1992659         0.0      2425.0         0.0         0.0  \n",
       "1992660         0.0     48861.0       400.0     12626.0  \n",
       "1992661         0.0     38594.0         0.0       390.0  \n",
       "1992662         0.0      9097.0       405.0       851.0  \n",
       "1992663         0.0       987.0         0.0       104.0  \n",
       "1992664         0.0      1262.0         0.0         0.0  \n",
       "1992665         0.0         0.0         0.0         0.0  \n",
       "\n",
       "[1992666 rows x 41 columns]"
      ]
     },
     "execution_count": 35,
     "metadata": {},
     "output_type": "execute_result"
    }
   ],
   "source": [
    "tempdf.drop([\"Unnamed: 0\"], axis = 1)\n"
   ]
  },
  {
   "cell_type": "code",
   "execution_count": 37,
   "metadata": {},
   "outputs": [],
   "source": [
    "tempdf.drop([\"Unnamed: 0\"], axis = 1).to_csv(\"process_user_app_usage_del_unname_column.csv\",index=0)"
   ]
  },
  {
   "cell_type": "code",
   "execution_count": 10,
   "metadata": {
    "scrolled": true
   },
   "outputs": [
    {
     "name": "stdout",
     "output_type": "stream",
     "text": [
      "       uid  duration0  duration1  duration2  duration3  duration4  duration5  \\\n",
      "0  1000364        0.0          0        0.0          0        0.0        0.0   \n",
      "1  1000387        0.0          0        0.0          0        0.0        0.0   \n",
      "2  1000872        0.0          0        0.0          0        0.0        0.0   \n",
      "3  1000951        0.0          0        0.0          0        0.0        0.0   \n",
      "4  1001091     1271.0          0        0.0          0        0.0        0.0   \n",
      "\n",
      "   duration6  duration7  duration8  duration9  duration10  duration11  \\\n",
      "0        0.0        0.0        0.0        0.0         0.0         0.0   \n",
      "1        0.0     6330.0        0.0    12871.0         0.0    109901.0   \n",
      "2        0.0    25421.0        0.0    17558.0         0.0         0.0   \n",
      "3        0.0      724.0        0.0    13677.0         0.0         0.0   \n",
      "4        0.0     2550.0        0.0    16552.0         0.0     23718.0   \n",
      "\n",
      "   duration12  duration13  duration14  duration15  duration16  duration17  \\\n",
      "0         0.0         0.0         0.0         0.0         0.0        10.0   \n",
      "1         0.0         0.0         0.0         0.0         0.0     39409.0   \n",
      "2         0.0         0.0     20772.0         0.0         0.0      5135.0   \n",
      "3         0.0         0.0         0.0         0.0         0.0     10325.0   \n",
      "4         0.0         0.0      7326.0         0.0         0.0     51220.0   \n",
      "\n",
      "   duration18  duration19  duration20  duration21  duration22  duration23  \\\n",
      "0     40589.0         0.0        32.0     30228.0         0.0         0.0   \n",
      "1    195735.0    274784.0      2408.0     55456.0         0.0         0.0   \n",
      "2     10821.0      5278.0       707.0      1683.0         0.0         0.0   \n",
      "3     81252.0       678.0         0.0         0.0         0.0         0.0   \n",
      "4    214100.0     11368.0       601.0      3221.0      8543.0         0.0   \n",
      "\n",
      "   duration24  duration25  duration26  duration27  duration28  duration29  \\\n",
      "0         0.0         0.0         0.0         0.0         0.0    281740.0   \n",
      "1         0.0         0.0      1157.0         0.0         0.0    133202.0   \n",
      "2         0.0         0.0         0.0         0.0         0.0    213779.0   \n",
      "3    188948.0         0.0         0.0         0.0         0.0     72441.0   \n",
      "4         0.0         0.0         0.0         0.0         0.0    282536.0   \n",
      "\n",
      "   duration30  duration31  duration32  duration33  duration34  duration35  \\\n",
      "0         0.0         0.0         0.0         0.0         0.0         0.0   \n",
      "1         0.0         0.0         0.0         0.0         0.0         0.0   \n",
      "2         0.0         0.0         0.0         0.0         0.0         0.0   \n",
      "3         0.0         0.0         0.0         0.0         0.0         0.0   \n",
      "4         0.0      7390.0      5854.0      6315.0         0.0         0.0   \n",
      "\n",
      "   duration36  duration37  duration38  duration39  \n",
      "0         0.0     37765.0         0.0       392.0  \n",
      "1         0.0     50881.0     29069.0      6277.0  \n",
      "2         0.0     33108.0       320.0     14950.0  \n",
      "3         0.0      5243.0         0.0       787.0  \n",
      "4         0.0     54666.0        16.0     13487.0  \n",
      "(1992666, 41)\n"
     ]
    }
   ],
   "source": [
    "tempdf = pd.read_csv('process_user_app_usage_del_unname_column.csv')\n",
    "print(tempdf.head())\n",
    "print(tempdf.shape)"
   ]
  },
  {
   "cell_type": "code",
   "execution_count": 47,
   "metadata": {
    "scrolled": true
   },
   "outputs": [
    {
     "name": "stdout",
     "output_type": "stream",
     "text": [
      "       uid  age_group  gender  city  prodName  ramCapacity  ramLeftRation  \\\n",
      "0  1000001          4       0    51        78          3.0           0.43   \n",
      "1  1000011          3       0    30       138          0.0           0.00   \n",
      "2  1000015          5       1   228        78          3.0           0.34   \n",
      "3  1000019          3       0    57       166          2.0           0.00   \n",
      "4  1000023          2       1   293       164          2.0           0.34   \n",
      "\n",
      "   romCapacity  romLeftRation  color  fontSize  ct  carrier  os  bootTimes  \\\n",
      "0         32.0           0.46     80      1.15   5        1  14        108   \n",
      "1          0.0           0.00     16      0.00   6        1  15          0   \n",
      "2         32.0           0.06     80      1.30   8        2  14         12   \n",
      "3         17.0           0.00    100      0.00   7        3  15          0   \n",
      "4         16.0           0.06    119      1.00   8        2  12          5   \n",
      "\n",
      "   AFuncTimes  BFuncTimes  CFuncTimes  DFuncTimes  EFuncTimes  FFuncTimes  \\\n",
      "0         0.0         0.0        1.00        0.07         0.0         0.0   \n",
      "1         0.0         0.0        0.00        0.00         0.0         0.0   \n",
      "2         0.0         0.0        0.03        0.13         0.0         0.0   \n",
      "3         0.0         0.0        0.00        0.00         0.0         0.0   \n",
      "4         0.0         0.0        0.00        0.13         0.0         0.0   \n",
      "\n",
      "   FFuncSum  appId_x  usage_cnt  usage_appid_cnt  usage_date_cnt  \\\n",
      "0      3319       21      251.0             24.0            30.0   \n",
      "1       220       16        0.0              0.0             0.0   \n",
      "2     21881       19       87.0             10.0            19.0   \n",
      "3         0        2        0.0              0.0             0.0   \n",
      "4         0       13      112.0              8.0            29.0   \n",
      "\n",
      "   duration_mean  duration_max  duration_std  times_mean  times_max  \\\n",
      "0     806.215139       12646.0   1651.473740   49.330677      396.0   \n",
      "1       0.000000           0.0      0.000000    0.000000        0.0   \n",
      "2    2860.620690       14839.0   3242.297894  146.333333      991.0   \n",
      "3       0.000000           0.0      0.000000    0.000000        0.0   \n",
      "4    2667.589286       70806.0   9595.549063   10.955357       87.0   \n",
      "\n",
      "    times_std  category  usage_most_used_category  0  1  2  3  4  5  6  7  8  \\\n",
      "0   72.519668      11.0                      17.0  0  0  0  0  0  0  0  1  0   \n",
      "1    0.000000      41.0                      41.0  0  0  0  0  0  0  0  0  0   \n",
      "2  231.758328      10.0                      17.0  0  0  0  0  0  0  0  0  0   \n",
      "3    0.000000      41.0                      41.0  0  0  0  0  0  0  0  0  0   \n",
      "4   15.857694       7.0                      17.0  0  0  0  0  0  0  0  0  0   \n",
      "\n",
      "   9  10  11  12  13  14  15  16  17  18  19  20  21  22  23  24  25  26  27  \\\n",
      "0  1   0   0   0   0   0   0   0   9   2   1   0   0   0   0   0   0   3   0   \n",
      "1  0   0   1   0   0   0   0   0   2   3   0   0   2   0   0   0   0   0   0   \n",
      "2  0   0   0   0   0   0   0   0   5   1   1   3   1   0   0   0   0   0   0   \n",
      "3  0   0   0   0   0   0   0   0   1   0   1   0   0   0   0   0   0   0   0   \n",
      "4  0   0   0   0   0   0   0   0   6   2   1   0   0   0   0   0   0   0   0   \n",
      "\n",
      "   28  29  30  31  32  33  34  35  36  37  38  39  \n",
      "0   0   2   0   0   0   0   0   0   0   0   0   1  \n",
      "1   0   3   0   1   0   0   0   1   0   3   0   0  \n",
      "2   0   2   0   0   0   0   0   0   0   3   0   2  \n",
      "3   0   0   0   0   0   0   0   0   0   0   0   0  \n",
      "4   0   3   0   0   0   0   0   0   0   1   0   0  \n",
      "(2010000, 74)\n"
     ]
    }
   ],
   "source": [
    "final_df = pd.read_csv(\"add_40_actived_classes_features.csv\")\n",
    "print(final_df.head())\n",
    "print(final_df.shape)\n",
    "\n"
   ]
  },
  {
   "cell_type": "code",
   "execution_count": 48,
   "metadata": {
    "scrolled": true
   },
   "outputs": [
    {
     "name": "stdout",
     "output_type": "stream",
     "text": [
      "       uid  age_group  gender  city  prodName  ramCapacity  ramLeftRation  \\\n",
      "0  1000001          4       0    51        78          3.0           0.43   \n",
      "1  1000011          3       0    30       138          0.0           0.00   \n",
      "2  1000015          5       1   228        78          3.0           0.34   \n",
      "3  1000019          3       0    57       166          2.0           0.00   \n",
      "4  1000023          2       1   293       164          2.0           0.34   \n",
      "\n",
      "   romCapacity  romLeftRation  color  fontSize  ct  carrier  os  bootTimes  \\\n",
      "0         32.0           0.46     80      1.15   5        1  14        108   \n",
      "1          0.0           0.00     16      0.00   6        1  15          0   \n",
      "2         32.0           0.06     80      1.30   8        2  14         12   \n",
      "3         17.0           0.00    100      0.00   7        3  15          0   \n",
      "4         16.0           0.06    119      1.00   8        2  12          5   \n",
      "\n",
      "   AFuncTimes  BFuncTimes  CFuncTimes  DFuncTimes  EFuncTimes  FFuncTimes  \\\n",
      "0         0.0         0.0        1.00        0.07         0.0         0.0   \n",
      "1         0.0         0.0        0.00        0.00         0.0         0.0   \n",
      "2         0.0         0.0        0.03        0.13         0.0         0.0   \n",
      "3         0.0         0.0        0.00        0.00         0.0         0.0   \n",
      "4         0.0         0.0        0.00        0.13         0.0         0.0   \n",
      "\n",
      "   FFuncSum  appId_x  usage_cnt  usage_appid_cnt  usage_date_cnt  \\\n",
      "0      3319       21      251.0             24.0            30.0   \n",
      "1       220       16        0.0              0.0             0.0   \n",
      "2     21881       19       87.0             10.0            19.0   \n",
      "3         0        2        0.0              0.0             0.0   \n",
      "4         0       13      112.0              8.0            29.0   \n",
      "\n",
      "   duration_mean  duration_max  duration_std  times_mean  times_max  \\\n",
      "0     806.215139       12646.0   1651.473740   49.330677      396.0   \n",
      "1       0.000000           0.0      0.000000    0.000000        0.0   \n",
      "2    2860.620690       14839.0   3242.297894  146.333333      991.0   \n",
      "3       0.000000           0.0      0.000000    0.000000        0.0   \n",
      "4    2667.589286       70806.0   9595.549063   10.955357       87.0   \n",
      "\n",
      "    times_std  category  usage_most_used_category  0  1  2  3  4  5  6  7  8  \\\n",
      "0   72.519668      11.0                      17.0  0  0  0  0  0  0  0  1  0   \n",
      "1    0.000000      41.0                      41.0  0  0  0  0  0  0  0  0  0   \n",
      "2  231.758328      10.0                      17.0  0  0  0  0  0  0  0  0  0   \n",
      "3    0.000000      41.0                      41.0  0  0  0  0  0  0  0  0  0   \n",
      "4   15.857694       7.0                      17.0  0  0  0  0  0  0  0  0  0   \n",
      "\n",
      "   9  10  11  12  13  14  15  16  17  18  19  20  21  22  23  24  25  26  27  \\\n",
      "0  1   0   0   0   0   0   0   0   9   2   1   0   0   0   0   0   0   3   0   \n",
      "1  0   0   1   0   0   0   0   0   2   3   0   0   2   0   0   0   0   0   0   \n",
      "2  0   0   0   0   0   0   0   0   5   1   1   3   1   0   0   0   0   0   0   \n",
      "3  0   0   0   0   0   0   0   0   1   0   1   0   0   0   0   0   0   0   0   \n",
      "4  0   0   0   0   0   0   0   0   6   2   1   0   0   0   0   0   0   0   0   \n",
      "\n",
      "   28  29  30  31  32  33  34  35  36  37  38  39  duration0  duration1  \\\n",
      "0   0   2   0   0   0   0   0   0   0   0   0   1        0.0        0.0   \n",
      "1   0   3   0   1   0   0   0   1   0   3   0   0        0.0        0.0   \n",
      "2   0   2   0   0   0   0   0   0   0   3   0   2        0.0        0.0   \n",
      "3   0   0   0   0   0   0   0   0   0   0   0   0        0.0        0.0   \n",
      "4   0   3   0   0   0   0   0   0   0   1   0   0        0.0        0.0   \n",
      "\n",
      "   duration2  duration3  duration4  duration5  duration6  duration7  \\\n",
      "0        0.0        0.0        0.0        0.0        0.0      240.0   \n",
      "1        0.0        0.0        0.0        0.0        0.0        0.0   \n",
      "2        0.0        0.0        0.0        0.0        0.0      734.0   \n",
      "3        0.0        0.0        0.0        0.0        0.0        0.0   \n",
      "4        0.0        0.0        0.0        0.0        0.0        0.0   \n",
      "\n",
      "   duration8  duration9  duration10  duration11  duration12  duration13  \\\n",
      "0        0.0      328.0         0.0         0.0         0.0         0.0   \n",
      "1        0.0        0.0         0.0         0.0         0.0         0.0   \n",
      "2        0.0        0.0         0.0         0.0         0.0         0.0   \n",
      "3        0.0        0.0         0.0         0.0         0.0         0.0   \n",
      "4        0.0        0.0         0.0         0.0         0.0         0.0   \n",
      "\n",
      "   duration14  duration15  duration16  duration17  duration18  duration19  \\\n",
      "0         0.0         0.0         0.0     20211.0      4190.0      1821.0   \n",
      "1         0.0         0.0         0.0         0.0         0.0         0.0   \n",
      "2         0.0         0.0         0.0      1942.0     21510.0     57214.0   \n",
      "3         0.0         0.0         0.0         0.0         0.0         0.0   \n",
      "4         0.0         0.0         0.0      5915.0     65781.0     55974.0   \n",
      "\n",
      "   duration20  duration21  duration22  duration23  duration24  duration25  \\\n",
      "0      1146.0       842.0         0.0         0.0         0.0         0.0   \n",
      "1         0.0         0.0         0.0         0.0         0.0         0.0   \n",
      "2         0.0       143.0         0.0         0.0         0.0         0.0   \n",
      "3         0.0         0.0         0.0         0.0         0.0         0.0   \n",
      "4         0.0         0.0         0.0         0.0         0.0         0.0   \n",
      "\n",
      "   duration26  duration27  duration28  duration29  duration30  duration31  \\\n",
      "0       879.0         0.0         0.0    171673.0         0.0         0.0   \n",
      "1         0.0         0.0         0.0         0.0         0.0         0.0   \n",
      "2         0.0         0.0         0.0    142398.0         0.0         0.0   \n",
      "3         0.0         0.0         0.0         0.0         0.0         0.0   \n",
      "4         0.0         0.0         0.0    171044.0         0.0         0.0   \n",
      "\n",
      "   duration32  duration33  duration34  duration35  duration36  duration37  \\\n",
      "0         0.0         0.0         0.0         0.0         0.0       503.0   \n",
      "1         0.0         0.0         0.0         0.0         0.0         0.0   \n",
      "2         0.0         0.0         0.0         0.0         0.0     24933.0   \n",
      "3         0.0         0.0         0.0         0.0         0.0         0.0   \n",
      "4         0.0         0.0         0.0         0.0         0.0        56.0   \n",
      "\n",
      "   duration38  duration39  \n",
      "0         0.0       527.0  \n",
      "1         0.0         0.0  \n",
      "2         0.0         0.0  \n",
      "3         0.0         0.0  \n",
      "4         0.0         0.0  \n",
      "(2010000, 114)\n"
     ]
    }
   ],
   "source": [
    "final_df = pd.merge(final_df, tempdf, how='left', on='uid').fillna(0)\n",
    "print(final_df.head())\n",
    "print(final_df.shape)"
   ]
  },
  {
   "cell_type": "code",
   "execution_count": 52,
   "metadata": {
    "scrolled": true
   },
   "outputs": [
    {
     "data": {
      "text/plain": [
       "40"
      ]
     },
     "execution_count": 52,
     "metadata": {},
     "output_type": "execute_result"
    }
   ],
   "source": [
    "gc.collect()"
   ]
  },
  {
   "cell_type": "code",
   "execution_count": 51,
   "metadata": {},
   "outputs": [],
   "source": [
    "final_df.to_csv(\"2nd_feature_engineering_2010000_114.csv\",index=0)"
   ]
  },
  {
   "cell_type": "code",
   "execution_count": 11,
   "metadata": {
    "scrolled": true
   },
   "outputs": [
    {
     "name": "stdout",
     "output_type": "stream",
     "text": [
      "       uid  age_group  gender  city  prodName  ramCapacity  ramLeftRation  \\\n",
      "0  1000001          4       0    51        78          3.0           0.43   \n",
      "1  1000011          3       0    30       138          0.0           0.00   \n",
      "2  1000015          5       1   228        78          3.0           0.34   \n",
      "3  1000019          3       0    57       166          2.0           0.00   \n",
      "4  1000023          2       1   293       164          2.0           0.34   \n",
      "\n",
      "   romCapacity  romLeftRation  color  fontSize  ct  carrier  os  bootTimes  \\\n",
      "0         32.0           0.46     80      1.15   5        1  14        108   \n",
      "1          0.0           0.00     16      0.00   6        1  15          0   \n",
      "2         32.0           0.06     80      1.30   8        2  14         12   \n",
      "3         17.0           0.00    100      0.00   7        3  15          0   \n",
      "4         16.0           0.06    119      1.00   8        2  12          5   \n",
      "\n",
      "   AFuncTimes  BFuncTimes  CFuncTimes  DFuncTimes  EFuncTimes  FFuncTimes  \\\n",
      "0         0.0         0.0        1.00        0.07         0.0         0.0   \n",
      "1         0.0         0.0        0.00        0.00         0.0         0.0   \n",
      "2         0.0         0.0        0.03        0.13         0.0         0.0   \n",
      "3         0.0         0.0        0.00        0.00         0.0         0.0   \n",
      "4         0.0         0.0        0.00        0.13         0.0         0.0   \n",
      "\n",
      "   FFuncSum  appId_x  usage_cnt  usage_appid_cnt  usage_date_cnt  \\\n",
      "0      3319       21      251.0             24.0            30.0   \n",
      "1       220       16        0.0              0.0             0.0   \n",
      "2     21881       19       87.0             10.0            19.0   \n",
      "3         0        2        0.0              0.0             0.0   \n",
      "4         0       13      112.0              8.0            29.0   \n",
      "\n",
      "   duration_mean  duration_max  duration_std  times_mean  times_max  \\\n",
      "0     806.215139       12646.0   1651.473740   49.330677      396.0   \n",
      "1       0.000000           0.0      0.000000    0.000000        0.0   \n",
      "2    2860.620690       14839.0   3242.297894  146.333333      991.0   \n",
      "3       0.000000           0.0      0.000000    0.000000        0.0   \n",
      "4    2667.589286       70806.0   9595.549063   10.955357       87.0   \n",
      "\n",
      "    times_std  category  usage_most_used_category  0  1  2  3  4  5  6  7  8  \\\n",
      "0   72.519668      11.0                      17.0  0  0  0  0  0  0  0  1  0   \n",
      "1    0.000000      41.0                      41.0  0  0  0  0  0  0  0  0  0   \n",
      "2  231.758328      10.0                      17.0  0  0  0  0  0  0  0  0  0   \n",
      "3    0.000000      41.0                      41.0  0  0  0  0  0  0  0  0  0   \n",
      "4   15.857694       7.0                      17.0  0  0  0  0  0  0  0  0  0   \n",
      "\n",
      "   9  10  11  12  13  14  15  16  17  18  19  20  21  22  23  24  25  26  27  \\\n",
      "0  1   0   0   0   0   0   0   0   9   2   1   0   0   0   0   0   0   3   0   \n",
      "1  0   0   1   0   0   0   0   0   2   3   0   0   2   0   0   0   0   0   0   \n",
      "2  0   0   0   0   0   0   0   0   5   1   1   3   1   0   0   0   0   0   0   \n",
      "3  0   0   0   0   0   0   0   0   1   0   1   0   0   0   0   0   0   0   0   \n",
      "4  0   0   0   0   0   0   0   0   6   2   1   0   0   0   0   0   0   0   0   \n",
      "\n",
      "   28  29  30  31  32  33  34  35  36  37  38  39  duration0  duration1  \\\n",
      "0   0   2   0   0   0   0   0   0   0   0   0   1        0.0        0.0   \n",
      "1   0   3   0   1   0   0   0   1   0   3   0   0        0.0        0.0   \n",
      "2   0   2   0   0   0   0   0   0   0   3   0   2        0.0        0.0   \n",
      "3   0   0   0   0   0   0   0   0   0   0   0   0        0.0        0.0   \n",
      "4   0   3   0   0   0   0   0   0   0   1   0   0        0.0        0.0   \n",
      "\n",
      "   duration2  duration3  duration4  duration5  duration6  duration7  \\\n",
      "0        0.0        0.0        0.0        0.0        0.0      240.0   \n",
      "1        0.0        0.0        0.0        0.0        0.0        0.0   \n",
      "2        0.0        0.0        0.0        0.0        0.0      734.0   \n",
      "3        0.0        0.0        0.0        0.0        0.0        0.0   \n",
      "4        0.0        0.0        0.0        0.0        0.0        0.0   \n",
      "\n",
      "   duration8  duration9  duration10  duration11  duration12  duration13  \\\n",
      "0        0.0      328.0         0.0         0.0         0.0         0.0   \n",
      "1        0.0        0.0         0.0         0.0         0.0         0.0   \n",
      "2        0.0        0.0         0.0         0.0         0.0         0.0   \n",
      "3        0.0        0.0         0.0         0.0         0.0         0.0   \n",
      "4        0.0        0.0         0.0         0.0         0.0         0.0   \n",
      "\n",
      "   duration14  duration15  duration16  duration17  duration18  duration19  \\\n",
      "0         0.0         0.0         0.0     20211.0      4190.0      1821.0   \n",
      "1         0.0         0.0         0.0         0.0         0.0         0.0   \n",
      "2         0.0         0.0         0.0      1942.0     21510.0     57214.0   \n",
      "3         0.0         0.0         0.0         0.0         0.0         0.0   \n",
      "4         0.0         0.0         0.0      5915.0     65781.0     55974.0   \n",
      "\n",
      "   duration20  duration21  duration22  duration23  duration24  duration25  \\\n",
      "0      1146.0       842.0         0.0         0.0         0.0         0.0   \n",
      "1         0.0         0.0         0.0         0.0         0.0         0.0   \n",
      "2         0.0       143.0         0.0         0.0         0.0         0.0   \n",
      "3         0.0         0.0         0.0         0.0         0.0         0.0   \n",
      "4         0.0         0.0         0.0         0.0         0.0         0.0   \n",
      "\n",
      "   duration26  duration27  duration28  duration29  duration30  duration31  \\\n",
      "0       879.0         0.0         0.0    171673.0         0.0         0.0   \n",
      "1         0.0         0.0         0.0         0.0         0.0         0.0   \n",
      "2         0.0         0.0         0.0    142398.0         0.0         0.0   \n",
      "3         0.0         0.0         0.0         0.0         0.0         0.0   \n",
      "4         0.0         0.0         0.0    171044.0         0.0         0.0   \n",
      "\n",
      "   duration32  duration33  duration34  duration35  duration36  duration37  \\\n",
      "0         0.0         0.0         0.0         0.0         0.0       503.0   \n",
      "1         0.0         0.0         0.0         0.0         0.0         0.0   \n",
      "2         0.0         0.0         0.0         0.0         0.0     24933.0   \n",
      "3         0.0         0.0         0.0         0.0         0.0         0.0   \n",
      "4         0.0         0.0         0.0         0.0         0.0        56.0   \n",
      "\n",
      "   duration38  duration39  \n",
      "0         0.0       527.0  \n",
      "1         0.0         0.0  \n",
      "2         0.0         0.0  \n",
      "3         0.0         0.0  \n",
      "4         0.0         0.0  \n",
      "(2010000, 114)\n"
     ]
    }
   ],
   "source": [
    "df_train = pd.read_csv(\"2nd_feature_engineering_2010000_114.csv\")\n",
    "\n",
    "print(df_train.head())\n",
    "\n",
    "print(df_train.shape)"
   ]
  },
  {
   "cell_type": "code",
   "execution_count": 12,
   "metadata": {},
   "outputs": [],
   "source": [
    "#训练模型\n",
    "\n",
    "from sklearn.feature_selection import SelectFromModel, VarianceThreshold, SelectKBest, chi2, mutual_info_classif, f_classif\n",
    "from sklearn.preprocessing import Imputer\n",
    "from sklearn.ensemble import ExtraTreesClassifier\n",
    "\n",
    "import lightgbm as lgb\n",
    "from sklearn.model_selection import train_test_split\n",
    "from sklearn.metrics import roc_auc_score, accuracy_score, f1_score\n",
    "from sklearn.model_selection import StratifiedKFold"
   ]
  },
  {
   "cell_type": "code",
   "execution_count": null,
   "metadata": {
    "scrolled": true
   },
   "outputs": [],
   "source": [
    "#df_test = mergeAppDataUpgrade(mergeBasicTables(age_test))\n",
    "#df_test.to_csv(\"add_40_actived_classes_features_for_testSet.csv\",index=0)\n",
    "#final_test_df = pd.merge(df_test, tempdf, how='left', on='uid').fillna(0)\n",
    "#final_test_df.to_csv('2nd_feature_engineering_testSet_502500_113.csv',index=0)\n"
   ]
  },
  {
   "cell_type": "code",
   "execution_count": 16,
   "metadata": {},
   "outputs": [
    {
     "data": {
      "text/plain": [
       "0"
      ]
     },
     "execution_count": 16,
     "metadata": {},
     "output_type": "execute_result"
    }
   ],
   "source": [
    "df_test = pd.read_csv('2nd_feature_engineering_testSet_502500_113.csv')\n",
    "gc.collect()"
   ]
  },
  {
   "cell_type": "code",
   "execution_count": 62,
   "metadata": {},
   "outputs": [
    {
     "name": "stdout",
     "output_type": "stream",
     "text": [
      "             uid  age_group  gender  city  prodName  ramCapacity  \\\n",
      "0        1000001          4       0    51        78          3.0   \n",
      "1        1000011          3       0    30       138          0.0   \n",
      "2        1000015          5       1   228        78          3.0   \n",
      "3        1000019          3       0    57       166          2.0   \n",
      "4        1000023          2       1   293       164          2.0   \n",
      "5        1000025          4       0   318        81          4.0   \n",
      "6        1000029          4       0   355        64          6.0   \n",
      "7        1000035          2       0   239        64          6.0   \n",
      "8        1000037          4       0   248        10          4.0   \n",
      "9        1000038          3       0   336        13          4.0   \n",
      "10       1000040          3       0   252        49          6.0   \n",
      "11       1000044          4       0   330        66          6.0   \n",
      "12       1000046          3       0   135       165          4.0   \n",
      "13       1000051          3       1    30        68          6.0   \n",
      "14       1000055          5       0    79        13          4.0   \n",
      "15       1000056          5       0   352        10          4.0   \n",
      "16       1000058          2       0   190       198          2.0   \n",
      "17       1000063          3       0    97       209          3.0   \n",
      "18       1000064          2       0   300        13          4.0   \n",
      "19       1000065          4       0   318       215          4.0   \n",
      "20       1000068          5       1   355       139          4.0   \n",
      "21       1000071          2       1   239       217          6.0   \n",
      "22       1000073          2       1    30         1          6.0   \n",
      "23       1000074          3       0    30       161          2.0   \n",
      "24       1000075          2       0    93        68          6.0   \n",
      "25       1000077          5       0   206       119          4.0   \n",
      "26       1000078          2       0   330       144          6.0   \n",
      "27       1000082          3       0   207       168          2.0   \n",
      "28       1000085          2       0   270        68          4.0   \n",
      "29       1000087          3       0    24       142          0.0   \n",
      "...          ...        ...     ...   ...       ...          ...   \n",
      "2009970  3512471          2       1    30       144          6.0   \n",
      "2009971  3512472          1       0    51        54          4.0   \n",
      "2009972  3512473          5       0   325       209          3.0   \n",
      "2009973  3512474          2       1    51        78          3.0   \n",
      "2009974  3512475          4       1    91        10          4.0   \n",
      "2009975  3512476          3       0   130        13          4.0   \n",
      "2009976  3512477          1       0     8       161          2.0   \n",
      "2009977  3512478          4       0   200        63          6.0   \n",
      "2009978  3512479          3       0   248       141          6.0   \n",
      "2009979  3512480          6       0    84        11          4.0   \n",
      "2009980  3512481          3       0   153        11          4.0   \n",
      "2009981  3512482          2       0   141       133          3.0   \n",
      "2009982  3512483          6       0   349        63          6.0   \n",
      "2009983  3512484          2       0   355        66          6.0   \n",
      "2009984  3512485          3       0   178       143          4.0   \n",
      "2009985  3512486          5       0   300        14          4.0   \n",
      "2009986  3512487          5       1   358        61          4.0   \n",
      "2009987  3512488          6       1   300        11          4.0   \n",
      "2009988  3512489          4       0   102         5          6.0   \n",
      "2009989  3512490          5       1   121        11          4.0   \n",
      "2009990  3512491          3       0   329       133          3.0   \n",
      "2009991  3512492          2       0   294        68          6.0   \n",
      "2009992  3512493          3       1   300        61          4.0   \n",
      "2009993  3512494          2       0   300        68          4.0   \n",
      "2009994  3512495          5       0    51        48          6.0   \n",
      "2009995  3512496          1       0   160       119          4.0   \n",
      "2009996  3512497          6       0    41       116          3.0   \n",
      "2009997  3512498          2       0    84       162          2.0   \n",
      "2009998  3512499          2       0    30       129          8.0   \n",
      "2009999  3512500          3       0   143        14          4.0   \n",
      "\n",
      "         ramLeftRation  romCapacity  romLeftRation  color  fontSize  ct  \\\n",
      "0                 0.43         32.0           0.46     80   1.15000   5   \n",
      "1                 0.00          0.0           0.00     16   0.00000   6   \n",
      "2                 0.34         32.0           0.06     80   1.30000   8   \n",
      "3                 0.00         17.0           0.00    100   0.00000   7   \n",
      "4                 0.34         16.0           0.06    119   1.00000   8   \n",
      "5                 0.31         64.0           0.20     75   1.00000   6   \n",
      "6                 0.20         68.0           0.27     35   1.15000   6   \n",
      "7                 0.26         68.0           0.64     15   1.15000   8   \n",
      "8                 0.40         64.0           0.02    127   0.00000   8   \n",
      "9                 0.29         64.0           0.16     48   1.00000   6   \n",
      "10                0.20        128.0           0.52     98   1.30001   6   \n",
      "11                0.22        137.0           0.30      3   1.30001   6   \n",
      "12                0.49         64.0           0.01      8   1.00000   6   \n",
      "13                0.27        128.0           0.17    131   1.00000   6   \n",
      "14                0.37         64.0           0.58     16   0.00000   6   \n",
      "15                0.31         64.0           0.60    127   1.00000   5   \n",
      "16                0.22          8.0           0.09    134   1.00000   8   \n",
      "17                0.29         64.0           0.06     96   1.00000   6   \n",
      "18                0.33         64.0           0.26     16   1.00000   6   \n",
      "19                0.24         68.0           0.11     23   1.00000   8   \n",
      "20                0.31        128.0           0.63    114   1.00000   8   \n",
      "21                0.24         68.0           0.08     42   0.85000   6   \n",
      "22                0.27         68.0           0.26     17   1.15000   6   \n",
      "23                0.34         16.0           0.35     29   1.15000   8   \n",
      "24                0.40         64.0           0.06    131   0.00000   8   \n",
      "25                0.47         64.0           0.64    136   0.00000   8   \n",
      "26                0.34         64.0           0.46     16   0.00000   6   \n",
      "27                0.00         34.0           0.20     36   0.00000   5   \n",
      "28                0.31         64.0           0.50    131   0.00000   6   \n",
      "29                0.00          0.0           0.89    131   1.00000   6   \n",
      "...                ...          ...            ...    ...       ...  ..   \n",
      "2009970           0.21        128.0           0.21    114   1.00000   6   \n",
      "2009971           0.32         64.0           0.55     16   1.00000   8   \n",
      "2009972           0.36         64.0           0.66     96   1.15000   5   \n",
      "2009973           0.52         32.0           0.12     80   1.15000   4   \n",
      "2009974           0.35         64.0           0.64    127   0.00000   5   \n",
      "2009975           0.46         32.0           0.15     16   1.00000   8   \n",
      "2009976           0.27         16.0           0.24     14   1.00000   6   \n",
      "2009977           0.32         64.0           0.46     10   1.00000   6   \n",
      "2009978           0.17        137.0           0.80     36   0.00000   6   \n",
      "2009979           0.38         64.0           0.35     23   1.00000   6   \n",
      "2009980           0.31         64.0           0.06     23   0.00000   6   \n",
      "2009981           0.52         32.0           0.44     28   0.00000   6   \n",
      "2009982           0.27        128.0           0.71    113   0.00000   6   \n",
      "2009983           0.16        137.0           0.80     35   1.00000   6   \n",
      "2009984           0.41         32.0           0.04    114   0.85000   6   \n",
      "2009985           0.00         64.0           0.00     75   0.00000   8   \n",
      "2009986           0.35        128.0           0.80     31   1.00000   6   \n",
      "2009987           0.33         64.0           0.37    121   1.00000   6   \n",
      "2009988           0.36        128.0           0.74     89   1.00000   6   \n",
      "2009989           0.00         64.0           0.00    127   0.00000   8   \n",
      "2009990           0.35         32.0           0.16     28   0.00000   7   \n",
      "2009991           0.33         64.0           0.20     75   1.00000   6   \n",
      "2009992           0.34         64.0           0.43     95   1.00000   6   \n",
      "2009993           0.34         64.0           0.41     52   0.00000   6   \n",
      "2009994           0.26         68.0           0.54    120   0.00000   8   \n",
      "2009995           0.55         64.0           0.33    119   1.00000   6   \n",
      "2009996           0.41         32.0           0.76    107   1.30000   7   \n",
      "2009997           0.29         16.0           0.28    119   0.00000   7   \n",
      "2009998           0.17        128.0           0.84     59   1.00000   6   \n",
      "2009999           0.29         64.0           0.06     75   1.00000   8   \n",
      "\n",
      "         carrier  os  bootTimes  AFuncTimes  BFuncTimes  CFuncTimes  \\\n",
      "0              1  14        108        0.00        0.00        1.00   \n",
      "1              1  15          0        0.00        0.00        0.00   \n",
      "2              2  14         12        0.00        0.00        0.03   \n",
      "3              3  15          0        0.00        0.00        0.00   \n",
      "4              2  12          5        0.00        0.00        0.00   \n",
      "5              2  14         97        0.00        0.17        3.97   \n",
      "6              3  16         15        1.50        0.00        1.07   \n",
      "7              2  16          5        1.00        0.10        1.37   \n",
      "8              3  14          5        0.00        0.00        0.30   \n",
      "9              1  12         42        0.00        0.13        0.60   \n",
      "10             2  16         27        0.00        0.00        0.03   \n",
      "11             3  16         41        0.00        0.00        0.27   \n",
      "12             1  12         24        0.00        0.00        0.03   \n",
      "13             1  14         19        0.00        0.00        1.67   \n",
      "14             1  14          6        0.00        0.00        0.03   \n",
      "15             1  14         32        0.00        0.00        0.73   \n",
      "16             2   9         39        0.00        0.00        0.03   \n",
      "17             1   9         35        0.00        0.03        1.73   \n",
      "18             3  14        133        0.00        0.13        4.60   \n",
      "19             1  16         82        1.00        0.75        9.90   \n",
      "20             1  14          3        0.00        0.00        0.23   \n",
      "21             2  16          8        1.09        0.23        2.30   \n",
      "22             2  16          6        0.00        0.00        0.27   \n",
      "23             3   9         27        0.00        0.00        0.00   \n",
      "24             1  14         11        0.00        0.00        0.00   \n",
      "25             1  12          0        0.00        0.00        0.00   \n",
      "26             1  14          0        0.00        0.00        0.00   \n",
      "27             1  14         22        0.00        0.00        0.37   \n",
      "28             1  14          5        0.00        0.00        0.00   \n",
      "29             1  16          3        0.00        0.00        0.13   \n",
      "...          ...  ..        ...         ...         ...         ...   \n",
      "2009970        2  14          7        0.00        0.00        0.13   \n",
      "2009971        2  14          2        0.00        0.00        0.00   \n",
      "2009972        2   9         25        0.00        0.07        0.23   \n",
      "2009973        3  14         42        0.00        0.00        0.40   \n",
      "2009974        3  14         22        0.00        0.00        0.00   \n",
      "2009975        1  12         21        0.00        0.00        0.00   \n",
      "2009976        1   9         13        1.00        0.00        0.00   \n",
      "2009977        2  14         29        0.00        0.23        3.73   \n",
      "2009978        2  16          0        0.00        0.00        0.00   \n",
      "2009979        2  14         14        1.67        0.00        0.67   \n",
      "2009980        1  14          0        0.00        0.00        0.00   \n",
      "2009981        3   9          0        0.00        0.00        0.00   \n",
      "2009982        1  14          0        0.00        0.00        0.00   \n",
      "2009983        1  16          8        3.00        0.18        0.29   \n",
      "2009984        2  14         11        0.00        0.00        0.10   \n",
      "2009985        3  14          0        0.00        0.00        0.00   \n",
      "2009986        1  14         51        1.00        0.00        0.00   \n",
      "2009987        1  14          6        0.00        0.00        0.00   \n",
      "2009988        3  16         13        1.00        0.04        1.69   \n",
      "2009989        1  12          0        0.00        0.00        0.00   \n",
      "2009990        2   9          5        0.00        0.00        0.00   \n",
      "2009991        3  14         24        0.00        0.00        0.07   \n",
      "2009992        2  14          5        0.00        0.00        0.47   \n",
      "2009993        1  14          4        0.00        0.07        1.47   \n",
      "2009994        2  14          0        0.00        0.00        0.00   \n",
      "2009995        2  12         37        0.00        0.00        0.17   \n",
      "2009996        3   9         40        0.00        0.00        0.00   \n",
      "2009997        1   8          2        0.00        0.00        0.00   \n",
      "2009998        3  16          2        0.00        0.17        1.17   \n",
      "2009999        1  14         11        1.00        0.00        1.37   \n",
      "\n",
      "         DFuncTimes  EFuncTimes  FFuncTimes  FFuncSum  appId_x  usage_cnt  \\\n",
      "0              0.07        0.00        0.00      3319       21      251.0   \n",
      "1              0.00        0.00        0.00       220       16        0.0   \n",
      "2              0.13        0.00        0.00     21881       19       87.0   \n",
      "3              0.00        0.00        0.00         0        2        0.0   \n",
      "4              0.13        0.00        0.00         0       13      112.0   \n",
      "5              1.17        1.60        0.00         0       54      493.0   \n",
      "6              1.27        4.03        0.00       440       65      547.0   \n",
      "7              2.07        3.30        0.00       146       29       74.0   \n",
      "8              0.00        0.00        0.00         0       69       51.0   \n",
      "9              0.73        1.00        0.00         0       27      395.0   \n",
      "10             1.43        2.03        3.83       625       37      388.0   \n",
      "11             2.10        0.87        0.00       886       55      416.0   \n",
      "12             0.00        0.00        0.00     13030       30      209.0   \n",
      "13             0.00        0.00        0.00         0      136      823.0   \n",
      "14             0.00        0.00        0.00     10210       61      114.0   \n",
      "15             0.07        0.00        0.00         0       29      277.0   \n",
      "16             0.00        0.00        0.00         0       10       39.0   \n",
      "17             2.50        3.00        0.00     11350       51      538.0   \n",
      "18             0.00        0.00        0.00     52763       40      592.0   \n",
      "19            19.40       11.75        0.00         0       61      400.0   \n",
      "20             0.00        0.00        0.00         0       50      269.0   \n",
      "21             0.13        0.90        0.00      6186       89      682.0   \n",
      "22             0.40        0.00        0.00         0       47      400.0   \n",
      "23             0.00        0.00        0.00        21       10       20.0   \n",
      "24             0.00        0.00        0.00     19991       31        0.0   \n",
      "25             0.00        0.00        0.00         0       16        0.0   \n",
      "26             0.00        0.00        0.00         0       56        0.0   \n",
      "27             0.00        0.00        0.00     25126       20      102.0   \n",
      "28             0.00        0.00        0.00         0       25        0.0   \n",
      "29            11.00        0.00        0.00      1605       13      115.0   \n",
      "...             ...         ...         ...       ...      ...        ...   \n",
      "2009970        0.00        0.00        0.00         0       49      359.0   \n",
      "2009971       14.07        2.50        0.00       940       16       80.0   \n",
      "2009972        0.00        0.00        0.00      2684       42      213.0   \n",
      "2009973        0.00        0.00        0.00      6995       22      268.0   \n",
      "2009974        0.00        0.00        0.00      4396       18       22.0   \n",
      "2009975        0.20        0.50        0.00        49       25        5.0   \n",
      "2009976        0.03        0.03        0.00       121       16      165.0   \n",
      "2009977        5.23        8.53        0.00      3353       55      343.0   \n",
      "2009978        0.00        0.00        0.00         0       52        0.0   \n",
      "2009979        0.23        1.03        0.00         0       83      471.0   \n",
      "2009980        0.00        0.00        0.00         0       58        0.0   \n",
      "2009981        0.00        0.00        0.00      4248       32        0.0   \n",
      "2009982        0.00        0.00        0.00         0       36        0.0   \n",
      "2009983        1.21        0.86        0.00         0       26      375.0   \n",
      "2009984        0.00        0.00        0.00     75799       39      185.0   \n",
      "2009985        0.00        0.00        0.00         0       11        0.0   \n",
      "2009986        3.20        2.90        0.00         0       26      276.0   \n",
      "2009987        0.07        0.00        0.00         0       48      105.0   \n",
      "2009988        5.69       11.65        0.00      3177       34      463.0   \n",
      "2009989        0.00        0.00        0.00        36       30        0.0   \n",
      "2009990        0.00        0.00        0.00         0       35        0.0   \n",
      "2009991        0.43        0.07        2.00    154683       45      435.0   \n",
      "2009992        0.23        0.00        0.00      3193       47      289.0   \n",
      "2009993        0.00        0.00        0.00      1306       41      202.0   \n",
      "2009994        0.00        0.00        0.00         0       40        0.0   \n",
      "2009995        0.03        0.03        0.00     19431       41       28.0   \n",
      "2009996        0.67        0.07        0.00       947        6        5.0   \n",
      "2009997        0.00        0.00        0.00         0        5        0.0   \n",
      "2009998        6.83        7.83        0.00       512       27      104.0   \n",
      "2009999        3.90        2.87        0.00         0       43      349.0   \n",
      "\n",
      "         usage_appid_cnt  usage_date_cnt  duration_mean  duration_max  \\\n",
      "0                   24.0            30.0     806.215139       12646.0   \n",
      "1                    0.0             0.0       0.000000           0.0   \n",
      "2                   10.0            19.0    2860.620690       14839.0   \n",
      "3                    0.0             0.0       0.000000           0.0   \n",
      "4                    8.0            29.0    2667.589286       70806.0   \n",
      "5                   34.0            30.0     936.691684       14122.0   \n",
      "6                   72.0            30.0     571.195612        8316.0   \n",
      "7                   10.0            30.0    2867.229730       14835.0   \n",
      "8                   15.0            12.0    4739.392157       25539.0   \n",
      "9                   33.0            30.0    2301.078481       34481.0   \n",
      "10                  35.0            28.0    1079.835052       16693.0   \n",
      "11                  39.0            30.0    1427.112981       20890.0   \n",
      "12                  18.0            30.0    3193.679426       48332.0   \n",
      "13                  89.0            30.0     779.226002       22621.0   \n",
      "14                  24.0            11.0     325.324561        5513.0   \n",
      "15                  25.0            25.0    1115.472924       17230.0   \n",
      "16                   9.0            10.0    1139.410256        3784.0   \n",
      "17                  50.0            30.0    1857.578067       76106.0   \n",
      "18                  51.0            30.0    1125.680743       14931.0   \n",
      "19                  53.0            30.0    1670.310000       17463.0   \n",
      "20                  36.0            27.0    2841.646840       36638.0   \n",
      "21                  81.0            30.0    1566.448680       16831.0   \n",
      "22                  44.0            30.0    2005.720000       28143.0   \n",
      "23                   5.0             6.0    5305.950000       30814.0   \n",
      "24                   0.0             0.0       0.000000           0.0   \n",
      "25                   0.0             0.0       0.000000           0.0   \n",
      "26                   0.0             0.0       0.000000           0.0   \n",
      "27                  18.0            10.0    2979.823529       41361.0   \n",
      "28                   0.0             0.0       0.000000           0.0   \n",
      "29                  19.0            10.0    3198.904348       42205.0   \n",
      "...                  ...             ...            ...           ...   \n",
      "2009970             42.0            24.0    1564.749304       33639.0   \n",
      "2009971              9.0            30.0     424.150000        3585.0   \n",
      "2009972             21.0            30.0    4460.258216       50280.0   \n",
      "2009973             23.0            20.0    1986.694030       15203.0   \n",
      "2009974              7.0             5.0    1542.772727        5076.0   \n",
      "2009975              3.0             4.0      76.000000         131.0   \n",
      "2009976             11.0            30.0    1826.630303       28069.0   \n",
      "2009977             35.0            30.0    2081.081633       18318.0   \n",
      "2009978              0.0             0.0       0.000000           0.0   \n",
      "2009979             47.0            25.0     759.993631        9657.0   \n",
      "2009980              0.0             0.0       0.000000           0.0   \n",
      "2009981              0.0             0.0       0.000000           0.0   \n",
      "2009982              0.0             0.0       0.000000           0.0   \n",
      "2009983             29.0            30.0    1240.573333       15940.0   \n",
      "2009984             16.0            29.0     541.589189        3632.0   \n",
      "2009985              0.0             0.0       0.000000           0.0   \n",
      "2009986             19.0            30.0    1433.391304        9107.0   \n",
      "2009987             23.0            23.0     705.447619        7884.0   \n",
      "2009988             48.0            28.0    2217.853132       37565.0   \n",
      "2009989              0.0             0.0       0.000000           0.0   \n",
      "2009990              0.0             0.0       0.000000           0.0   \n",
      "2009991             47.0            30.0    2383.365517       26121.0   \n",
      "2009992             33.0            24.0    1254.425606        8688.0   \n",
      "2009993             30.0            21.0    2327.163366       16184.0   \n",
      "2009994              0.0             0.0       0.000000           0.0   \n",
      "2009995             12.0            10.0     331.071429        3248.0   \n",
      "2009996              2.0             3.0      76.800000         103.0   \n",
      "2009997              0.0             0.0       0.000000           0.0   \n",
      "2009998             27.0             8.0    1040.567308       21806.0   \n",
      "2009999             32.0            30.0    1658.160458       32424.0   \n",
      "\n",
      "         duration_std  times_mean  times_max   times_std  category  \\\n",
      "0         1651.473740   49.330677      396.0   72.519668      11.0   \n",
      "1            0.000000    0.000000        0.0    0.000000      41.0   \n",
      "2         3242.297894  146.333333      991.0  231.758328      10.0   \n",
      "3            0.000000    0.000000        0.0    0.000000      41.0   \n",
      "4         9595.549063   10.955357       87.0   15.857694       7.0   \n",
      "5         2093.831162   43.233266      372.0   66.444490      11.0   \n",
      "6         1091.198795   23.347349      372.0   41.997994      16.0   \n",
      "7         3865.272028   53.270270      243.0   60.279099       8.0   \n",
      "8         6528.830588   80.470588      336.0   84.513278      11.0   \n",
      "9         4410.445212   51.817722      617.0   94.596939      12.0   \n",
      "10        2066.843796   35.286082      414.0   67.268740      15.0   \n",
      "11        2673.029409   95.040865     1205.0  212.805405      13.0   \n",
      "12        6833.174440  122.157895     1360.0  261.108637      10.0   \n",
      "13        1787.661802   46.596598     1495.0   93.507042      14.0   \n",
      "14         733.295767   22.140351      273.0   45.379204      12.0   \n",
      "15        2495.650032   36.418773      388.0   52.214074      11.0   \n",
      "16        1132.716082   54.564103      176.0   49.095929       7.0   \n",
      "17        7226.307775   59.250929      618.0   92.467107      11.0   \n",
      "18        2157.006235   63.108108      900.0  134.500159      16.0   \n",
      "19        3272.998871   81.360000      928.0  165.614540      15.0   \n",
      "20        4876.446388   84.944238     2319.0  249.112351      15.0   \n",
      "21        2356.640670   73.991202     1117.0  124.954300      15.0   \n",
      "22        3471.452781   98.132500      992.0  166.058298      15.0   \n",
      "23        8681.528846   54.300000      209.0   56.452215       5.0   \n",
      "24           0.000000    0.000000        0.0    0.000000      41.0   \n",
      "25           0.000000    0.000000        0.0    0.000000      41.0   \n",
      "26           0.000000    0.000000        0.0    0.000000      41.0   \n",
      "27        5486.477745  111.803922     1316.0  217.690899       9.0   \n",
      "28           0.000000    0.000000        0.0    0.000000      41.0   \n",
      "29        8116.001638   53.878261      586.0  113.292212      10.0   \n",
      "...               ...         ...        ...         ...       ...   \n",
      "2009970   4322.008291   44.100279      245.0   51.915498      14.0   \n",
      "2009971    822.273940   10.475000      105.0   17.534036       8.0   \n",
      "2009972   7993.407262   56.408451      366.0   75.120452      10.0   \n",
      "2009973   2932.398570  181.496269     2183.0  310.091849      11.0   \n",
      "2009974   1526.749611  100.454545      400.0  118.205925       7.0   \n",
      "2009975     56.066924    4.000000       14.0    5.656854       2.0   \n",
      "2009976   3385.169240   40.169697      449.0   67.494139       9.0   \n",
      "2009977   3390.220384   88.230321      792.0  143.243105      13.0   \n",
      "2009978      0.000000    0.000000        0.0    0.000000      41.0   \n",
      "2009979   1258.860810   27.978769      305.0   43.235471      14.0   \n",
      "2009980      0.000000    0.000000        0.0    0.000000      41.0   \n",
      "2009981      0.000000    0.000000        0.0    0.000000      41.0   \n",
      "2009982      0.000000    0.000000        0.0    0.000000      41.0   \n",
      "2009983   2013.913787   39.888000      390.0   58.815066      13.0   \n",
      "2009984    795.232160   45.745946      374.0   78.865773       9.0   \n",
      "2009985      0.000000    0.000000        0.0    0.000000      41.0   \n",
      "2009986   1921.622165   73.721014      610.0  104.017053      10.0   \n",
      "2009987   1297.068603   24.838095      205.0   34.916693      10.0   \n",
      "2009988   4290.870748   43.265659      594.0   78.228082      17.0   \n",
      "2009989      0.000000    0.000000        0.0    0.000000      41.0   \n",
      "2009990      0.000000    0.000000        0.0    0.000000      41.0   \n",
      "2009991   4205.476785   71.202299      975.0  134.148245      14.0   \n",
      "2009992   1874.663502   61.314879      530.0  100.765755      13.0   \n",
      "2009993   3925.559744  109.450495      733.0  159.987531      12.0   \n",
      "2009994      0.000000    0.000000        0.0    0.000000      41.0   \n",
      "2009995    663.322441   25.892857      244.0   52.028724       8.0   \n",
      "2009996     42.481761    3.400000        4.0    1.341641       5.0   \n",
      "2009997      0.000000    0.000000        0.0    0.000000      41.0   \n",
      "2009998   2644.885659   37.951923      311.0   67.004040      14.0   \n",
      "2009999   3637.239774   49.320917      414.0   69.658940      12.0   \n",
      "\n",
      "         usage_most_used_category  0  1  2  3  4  5  6  7  8  9  10  11  12  \\\n",
      "0                            17.0  0  0  0  0  0  0  0  1  0  1   0   0   0   \n",
      "1                            41.0  0  0  0  0  0  0  0  0  0  0   0   1   0   \n",
      "2                            17.0  0  0  0  0  0  0  0  0  0  0   0   0   0   \n",
      "3                            41.0  0  0  0  0  0  0  0  0  0  0   0   0   0   \n",
      "4                            17.0  0  0  0  0  0  0  0  0  0  0   0   0   0   \n",
      "5                            17.0  0  0  0  0  0  0  0  1  1  2   0   0   0   \n",
      "6                            39.0  1  0  0  0  0  0  0  0  0  1   0   3   0   \n",
      "7                            17.0  0  0  0  0  0  0  0  0  0  0   0   0   0   \n",
      "8                            17.0  0  0  0  0  0  0  0  4  0  2   0   0   0   \n",
      "9                            17.0  0  0  0  0  0  0  0  0  1  0   0   0   0   \n",
      "10                           17.0  0  0  0  0  0  0  0  1  0  0   0   1   0   \n",
      "11                           17.0  0  0  0  0  0  0  0  0  0  2   0   1   0   \n",
      "12                           17.0  0  0  0  0  0  0  0  1  0  3   0   0   0   \n",
      "13                           39.0  0  0  0  0  0  0  0  1  0  6   0   0   0   \n",
      "14                           17.0  0  0  0  0  0  0  0  4  0  5   0   0   0   \n",
      "15                           17.0  0  0  0  0  0  0  0  1  0  1   0   0   0   \n",
      "16                            7.0  2  0  0  0  0  0  0  0  0  0   0   0   0   \n",
      "17                           17.0  0  0  0  0  0  0  0  1  0  1   0   0   0   \n",
      "18                           17.0  0  0  0  0  0  0  0  0  0  1   0   1   0   \n",
      "19                           17.0  0  0  0  0  0  0  0  2  0  2   0   0   0   \n",
      "20                           17.0  1  0  0  0  1  0  0  1  0  5   0   1   0   \n",
      "21                           17.0  0  0  0  0  0  0  0  0  0  1   0   0   0   \n",
      "22                           17.0  0  0  0  0  0  0  0  0  0  1   0   0   0   \n",
      "23                           17.0  0  0  0  0  0  0  0  0  0  0   0   0   0   \n",
      "24                           41.0  0  0  0  0  0  0  0  0  0  1   0   0   0   \n",
      "25                           41.0  0  0  0  0  0  0  0  0  0  0   0   0   0   \n",
      "26                           41.0  0  0  0  0  0  0  0  1  0  4   0   0   0   \n",
      "27                            7.0  0  0  0  0  0  0  0  0  0  1   0   0   0   \n",
      "28                           41.0  1  0  0  0  0  0  0  1  0  0   0   1   0   \n",
      "29                           17.0  0  0  0  0  0  0  0  0  0  2   0   0   0   \n",
      "...                           ... .. .. .. .. .. .. .. .. .. ..  ..  ..  ..   \n",
      "2009970                      17.0  0  0  0  0  0  0  0  0  0  5   0   0   0   \n",
      "2009971                      17.0  0  0  0  0  1  0  1  0  0  0   0   1   0   \n",
      "2009972                      20.0  0  0  0  0  0  0  0  0  0  1   0   0   0   \n",
      "2009973                      17.0  0  0  0  0  0  0  0  0  0  0   0   0   0   \n",
      "2009974                      17.0  0  0  0  0  0  0  0  1  0  1   0   0   0   \n",
      "2009975                      17.0  0  0  0  0  0  0  0  0  0  0   0   0   0   \n",
      "2009976                      17.0  0  0  0  0  0  0  0  0  0  0   0   0   0   \n",
      "2009977                      39.0  0  0  0  0  0  0  0  0  1  1   0   1   0   \n",
      "2009978                      41.0  0  0  0  0  0  0  0  1  0  2   0   0   0   \n",
      "2009979                      17.0  0  0  0  0  0  0  0  3  0  2   0   0   0   \n",
      "2009980                      41.0  0  0  0  0  0  0  0  0  3  5   0   0   0   \n",
      "2009981                      41.0  0  0  0  0  0  0  0  0  0  0   0   0   0   \n",
      "2009982                      41.0  0  0  0  0  0  0  0  0  0  0   0   0   0   \n",
      "2009983                      17.0  0  0  0  0  0  0  0  0  0  0   0   1   0   \n",
      "2009984                      17.0  0  0  0  0  0  0  0  0  0  0   0   0   0   \n",
      "2009985                      41.0  0  0  0  0  0  0  0  0  0  1   0   0   0   \n",
      "2009986                      17.0  0  0  0  0  0  0  0  2  0  0   0   0   0   \n",
      "2009987                      18.0  0  0  0  0  1  0  0  2  0  1   0   0   0   \n",
      "2009988                      17.0  0  0  0  0  0  0  0  0  1  3   0   1   0   \n",
      "2009989                      41.0  0  0  0  0  0  0  0  1  0  0   0   0   0   \n",
      "2009990                      41.0  0  0  0  0  0  0  0  0  0  2   0   1   0   \n",
      "2009991                      17.0  0  0  0  0  0  0  0  0  0  0   0   0   0   \n",
      "2009992                      17.0  0  0  0  0  0  0  0  0  1  2   0   0   0   \n",
      "2009993                      17.0  0  0  0  0  0  0  0  0  0  2   0   0   0   \n",
      "2009994                      41.0  1  0  0  0  0  0  0  0  0  1   0   0   0   \n",
      "2009995                      17.0  0  0  0  0  0  0  0  0  0  0   0   0   0   \n",
      "2009996                      17.0  0  0  0  0  0  0  0  0  0  0   0   0   0   \n",
      "2009997                      41.0  0  0  0  0  0  0  0  0  0  0   0   0   0   \n",
      "2009998                      29.0  0  0  0  0  0  0  0  1  0  0   0   1   0   \n",
      "2009999                      17.0  0  0  0  0  0  0  0  1  0  3   0   0   0   \n",
      "\n",
      "         13  14  15  16  17  18  19  20  21  22  23  24  25  26  27  28  29  \\\n",
      "0         0   0   0   0   9   2   1   0   0   0   0   0   0   3   0   0   2   \n",
      "1         0   0   0   0   2   3   0   0   2   0   0   0   0   0   0   0   3   \n",
      "2         0   0   0   0   5   1   1   3   1   0   0   0   0   0   0   0   2   \n",
      "3         0   0   0   0   1   0   1   0   0   0   0   0   0   0   0   0   0   \n",
      "4         0   0   0   0   6   2   1   0   0   0   0   0   0   0   0   0   3   \n",
      "5         0   0   0   0   7   6   2   3   2   1   0   0   0   2   0   0   8   \n",
      "6         0   2   0   0  19   6   1   3   4   0   0   0   0   1   0   0   7   \n",
      "7         0   0   0   0   4   3   0   2   4   2   0   0   0   0   0   0   3   \n",
      "8         0   0   0   0  17   7   2   1   4   2   0   2   0   0   0   0   4   \n",
      "9         0   0   0   0   7   4   2   1   0   0   0   0   0   0   0   0   3   \n",
      "10        0   0   0   0   7   9   1   2   4   0   0   0   0   1   0   0   4   \n",
      "11        0   1   0   0  11   4   1   3   3   4   0   0   0   3   0   0   5   \n",
      "12        0   0   0   0   7   1   0   0   1   0   0   0   0   2   0   0   8   \n",
      "13        0   6   0   0  14  20  12   8  11  11   0   0   0   1   0   0  18   \n",
      "14        0   1   0   0  15   7   2   3   3   0   0   1   0   2   0   0   3   \n",
      "15        0   2   0   0   7   1   0   1   1   0   0   0   0   0   0   0   6   \n",
      "16        0   0   0   0   2   1   2   1   0   0   0   0   0   0   0   0   1   \n",
      "17        0   1   0   0  10   3   1   5   4   1   0   1   0   0   0   0   4   \n",
      "18        0   2   0   0   9   6   3   2   2   0   0   1   0   0   0   0   3   \n",
      "19        0   3   0   0   9   4   2   4   4   3   0   0   0   3   0   0   6   \n",
      "20        0   0   0   0  10   5   1   3   4   1   0   1   0   0   0   0   3   \n",
      "21        0   1   0   0  12  12  10  16   6   1   0   1   0   0   0   0  14   \n",
      "22        0   2   0   0   4   5   2  12   3   1   0   0   0   1   0   0   6   \n",
      "23        0   0   0   0   4   2   0   2   0   0   0   0   0   0   0   0   1   \n",
      "24        0   0   0   0   4   4   2   1   0   0   0   0   0   1   0   0   4   \n",
      "25        0   0   0   0   5   4   3   1   1   0   0   0   0   0   0   0   1   \n",
      "26        0   3   0   0   8   6   0   4   4   0   0   0   0   0   0   0   6   \n",
      "27        0   0   0   0   5   5   1   1   3   0   0   0   0   0   0   0   2   \n",
      "28        0   0   0   0   4   3   1   3   4   0   0   0   0   0   0   0   2   \n",
      "29        0   0   0   0   3   3   1   1   0   0   0   0   0   0   0   0   1   \n",
      "...      ..  ..  ..  ..  ..  ..  ..  ..  ..  ..  ..  ..  ..  ..  ..  ..  ..   \n",
      "2009970   0   2   0   0   7   2   1   3   3   0   0   0   0   0   0   0   5   \n",
      "2009971   0   0   0   0   3   2   0   1   0   0   0   0   0   0   0   0   2   \n",
      "2009972   0   0   0   0  11   3   3   4   1   0   0   1   0   0   0   0   6   \n",
      "2009973   0   0   0   0   4   0   1   8   1   0   0   0   0   0   0   0   3   \n",
      "2009974   0   0   0   0   3   0   0   1   1   1   0   0   0   0   0   0   1   \n",
      "2009975   0   1   0   0   5   1   0   1   1   0   0   0   0   0   0   0   2   \n",
      "2009976   0   0   0   0   3   3   1   1   1   0   0   0   0   0   0   0   2   \n",
      "2009977   0   0   0   0   7   7   6   5   2   0   0   0   0   0   0   0   7   \n",
      "2009978   0   0   0   0  10   9   3   2   3   0   0   2   0   0   0   0   5   \n",
      "2009979   0   1   0   0  22   5   0   2   8   0   0   0   0   3   0   0   7   \n",
      "2009980   0   3   0   0  10   5   0   5   4   0   0   0   0   1   0   0   8   \n",
      "2009981   0   0   0   0   5   6   0   5   1   0   0   0   0   0   0   0   7   \n",
      "2009982   0   0   0   0   8   3   2   6   2   1   0   0   0   0   0   0   7   \n",
      "2009983   0   0   0   0   3   3   2   2   2   1   0   0   0   0   0   0   3   \n",
      "2009984   0   0   0   0   8   6   0   1   6   0   0   0   0   0   0   0   4   \n",
      "2009985   0   0   0   0   2   0   0   0   3   1   0   0   0   0   0   0   1   \n",
      "2009986   0   0   0   0   5   2   3   1   3   1   0   0   0   0   0   0   3   \n",
      "2009987   0   0   0   0   8   4   1   1   3   1   0   0   0   0   0   0   8   \n",
      "2009988   0   1   0   0   3   3   2   2   5   1   0   0   0   0   0   0   2   \n",
      "2009989   0   0   0   0   6   1   0   0   2   1   0   0   0   0   0   0   4   \n",
      "2009990   0   1   0   0   5   5   0   1   3   0   0   0   0   3   0   0   6   \n",
      "2009991   0   0   0   0  10   8   1   7   2   0   0   0   0   1   0   0   5   \n",
      "2009992   0   0   0   0   8   4   0   3   3   0   0   0   0   0   0   0   6   \n",
      "2009993   0   1   0   0   7   6   1   4   4   0   0   0   0   0   0   0   5   \n",
      "2009994   0   0   0   0   7   4   4   1   2   1   0   0   0   0   0   0   4   \n",
      "2009995   0   0   0   0   9   6   6   1   2   0   0   0   0   0   0   0   5   \n",
      "2009996   0   0   0   0   3   0   0   0   0   0   0   0   0   0   0   0   1   \n",
      "2009997   0   0   0   0   0   1   0   0   0   0   0   0   0   0   0   0   2   \n",
      "2009998   0   0   0   0   4   1   1   1   1   1   0   0   0   1   0   0   3   \n",
      "2009999   0   1   0   0   3   7   3   2   3   1   0   0   0   1   0   0   6   \n",
      "\n",
      "         30  31  32  33  34  35  36  37  38  39  duration0  duration1  \\\n",
      "0         0   0   0   0   0   0   0   0   0   1        0.0        0.0   \n",
      "1         0   1   0   0   0   1   0   3   0   0        0.0        0.0   \n",
      "2         0   0   0   0   0   0   0   3   0   2        0.0        0.0   \n",
      "3         0   0   0   0   0   0   0   0   0   0        0.0        0.0   \n",
      "4         0   0   0   0   0   0   0   1   0   0        0.0        0.0   \n",
      "5         0   0   0   2   0   0   0   3   2  10        0.0        0.0   \n",
      "6         0   0   0   3   0   0   0   8   0   5      596.0        0.0   \n",
      "7         0   0   0   0   0   0   0   5   0   3        0.0        0.0   \n",
      "8         0   0   0   3   0   0   0   7   1  10        0.0        0.0   \n",
      "9         0   0   0   1   0   0   0   7   0   0        0.0        0.0   \n",
      "10        0   1   0   0   0   0   0   4   0   2        0.0        0.0   \n",
      "11        0   0   0   0   0   0   0   9   0   7        0.0        0.0   \n",
      "12        0   0   0   0   0   0   0   2   0   4        0.0        0.0   \n",
      "13        0   0   0   2   0   0   0  11   3   9        0.0        0.0   \n",
      "14        0   0   0   0   0   0   0   9   0   4        0.0        0.0   \n",
      "15        0   0   0   1   0   0   0   2   0   3        0.0        0.0   \n",
      "16        0   1   0   0   0   0   0   0   0   0        0.0        0.0   \n",
      "17        0   0   0   0   0   0   0   5   0  12        0.0        0.0   \n",
      "18        0   1   0   0   0   0   0   3   0   3        0.0        0.0   \n",
      "19        0   0   0   2   0   0   0   4   1  10        0.0        0.0   \n",
      "20        0   0   0   0   0   0   0   8   1   2        0.0        0.0   \n",
      "21        0   0   0   1   0   0   0   8   3   2        0.0        0.0   \n",
      "22        0   1   0   1   0   0   0   6   0   1        0.0        0.0   \n",
      "23        0   0   0   0   0   0   0   0   0   0        0.0        0.0   \n",
      "24        0   1   0   0   0   0   0   4   0   8        0.0        0.0   \n",
      "25        0   0   0   0   0   0   0   1   0   0        0.0        0.0   \n",
      "26        0   1   0   1   0   0   0   8   0   8        0.0        0.0   \n",
      "27        0   0   0   0   0   0   0   1   0   0        0.0        0.0   \n",
      "28        0   2   0   0   0   0   0   2   0   0        0.0        0.0   \n",
      "29        0   0   0   0   0   0   0   1   0   1        0.0        0.0   \n",
      "...      ..  ..  ..  ..  ..  ..  ..  ..  ..  ..        ...        ...   \n",
      "2009970   0   0   0   2   0   0   0   6   2   6        0.0        0.0   \n",
      "2009971   0   1   0   0   0   0   0   3   0   0        0.0        0.0   \n",
      "2009972   0   0   0   1   0   0   0   4   0   4        0.0        0.0   \n",
      "2009973   0   0   0   0   0   0   0   1   1   0        0.0        0.0   \n",
      "2009974   0   0   0   0   0   0   0   3   0   4        0.0        0.0   \n",
      "2009975   0   0   0   0   0   0   0   2   0  10        0.0        0.0   \n",
      "2009976   0   0   0   1   0   0   0   1   0   0        0.0        0.0   \n",
      "2009977   0   0   0   0   0   0   0   6   0  10        0.0        0.0   \n",
      "2009978   0   0   0   0   0   0   0   3   1   9        0.0        0.0   \n",
      "2009979   0   0   0   4   0   0   0   7   2  15        0.0        0.0   \n",
      "2009980   0   0   0   0   0   0   0   4   0   6        0.0        0.0   \n",
      "2009981   0   2   0   1   0   1   0   1   0   1        0.0        0.0   \n",
      "2009982   0   0   0   0   0   0   0   5   0   0        0.0        0.0   \n",
      "2009983   0   0   0   0   0   1   0   4   0   1        0.0        0.0   \n",
      "2009984   0   0   0   1   0   0   0   4   0   8        0.0        0.0   \n",
      "2009985   0   0   0   0   0   0   0   2   0   1        0.0        0.0   \n",
      "2009986   0   0   0   0   0   0   0   3   1   0        0.0        0.0   \n",
      "2009987   0   0   0   3   0   0   0   9   0   3        0.0        0.0   \n",
      "2009988   0   2   0   0   0   0   0   3   0   3        0.0        0.0   \n",
      "2009989   0   0   0   1   0   0   0   5   0   9        0.0        0.0   \n",
      "2009990   0   0   0   0   0   0   0   3   0   3        0.0        0.0   \n",
      "2009991   0   1   0   0   0   0   0   6   0   1        0.0        0.0   \n",
      "2009992   0   0   0   2   0   0   0   6   6   4        0.0        0.0   \n",
      "2009993   0   0   0   1   0   0   0   5   1   1        0.0        0.0   \n",
      "2009994   0   0   0   1   0   0   0   5   0   7        0.0        0.0   \n",
      "2009995   0   0   0   0   0   0   0   8   1   1        0.0        0.0   \n",
      "2009996   0   0   0   0   0   0   0   0   0   1        0.0        0.0   \n",
      "2009997   0   0   0   0   0   0   0   2   0   0        0.0        0.0   \n",
      "2009998   0   0   0   0   0   0   0   2   0   9        0.0        0.0   \n",
      "2009999   0   0   0   1   0   0   0   7   0   2        0.0        0.0   \n",
      "\n",
      "         duration2  duration3  duration4  duration5  duration6  duration7  \\\n",
      "0              0.0        0.0        0.0        0.0        0.0      240.0   \n",
      "1              0.0        0.0        0.0        0.0        0.0        0.0   \n",
      "2              0.0        0.0        0.0        0.0        0.0      734.0   \n",
      "3              0.0        0.0        0.0        0.0        0.0        0.0   \n",
      "4              0.0        0.0        0.0        0.0        0.0        0.0   \n",
      "5              0.0        0.0     3412.0        0.0        0.0    15265.0   \n",
      "6              0.0        0.0        0.0        0.0        0.0      614.0   \n",
      "7              0.0        0.0        0.0        0.0        0.0        0.0   \n",
      "8              0.0        0.0        0.0        0.0        0.0        0.0   \n",
      "9              0.0        0.0        0.0        0.0        0.0    58786.0   \n",
      "10             0.0        0.0        1.0        0.0        0.0     4566.0   \n",
      "11             0.0        0.0        0.0        0.0        0.0     2673.0   \n",
      "12             0.0        0.0        0.0        0.0        0.0    96664.0   \n",
      "13             0.0        0.0        0.0        0.0        0.0    14965.0   \n",
      "14             0.0        0.0        0.0        0.0        0.0      369.0   \n",
      "15             0.0        0.0        0.0        0.0        0.0     1272.0   \n",
      "16             0.0        0.0        0.0        0.0        0.0        0.0   \n",
      "17             0.0        0.0        0.0        0.0        0.0    43417.0   \n",
      "18             0.0        0.0        0.0        0.0        0.0    12973.0   \n",
      "19             0.0        0.0        0.0        0.0        0.0    27418.0   \n",
      "20             0.0        0.0   128193.0        0.0        0.0     2987.0   \n",
      "21             0.0        0.0      763.0        0.0        0.0    11466.0   \n",
      "22             0.0        0.0        0.0        0.0        0.0    26341.0   \n",
      "23             0.0        0.0        0.0        0.0        0.0        0.0   \n",
      "24             0.0        0.0        0.0        0.0        0.0        0.0   \n",
      "25             0.0        0.0        0.0        0.0        0.0        0.0   \n",
      "26             0.0        0.0        0.0        0.0        0.0        0.0   \n",
      "27             0.0        0.0        0.0        0.0        0.0    15303.0   \n",
      "28             0.0        0.0        0.0        0.0        0.0        0.0   \n",
      "29             0.0        0.0        0.0        0.0        0.0     1764.0   \n",
      "...            ...        ...        ...        ...        ...        ...   \n",
      "2009970        0.0        0.0     1258.0        0.0        0.0    32716.0   \n",
      "2009971        0.0        0.0        0.0        0.0     2499.0        0.0   \n",
      "2009972        0.0        0.0        0.0        0.0        0.0        0.0   \n",
      "2009973        0.0        0.0        0.0        0.0        0.0    29061.0   \n",
      "2009974        0.0        0.0        0.0        0.0        0.0    12869.0   \n",
      "2009975        0.0        0.0        0.0        0.0        0.0        0.0   \n",
      "2009976        0.0        0.0        0.0        0.0        0.0      607.0   \n",
      "2009977        0.0        0.0        0.0        0.0        0.0     1267.0   \n",
      "2009978        0.0        0.0        0.0        0.0        0.0        0.0   \n",
      "2009979        0.0        0.0        0.0        0.0        0.0    15850.0   \n",
      "2009980        0.0        0.0        0.0        0.0        0.0        0.0   \n",
      "2009981        0.0        0.0        0.0        0.0        0.0        0.0   \n",
      "2009982        0.0        0.0        0.0        0.0        0.0        0.0   \n",
      "2009983        0.0        0.0        0.0        0.0        0.0     3535.0   \n",
      "2009984        0.0        0.0        0.0        0.0        0.0     6886.0   \n",
      "2009985        0.0        0.0        0.0        0.0        0.0        0.0   \n",
      "2009986        0.0        0.0     7780.0        0.0        0.0     4854.0   \n",
      "2009987        0.0        0.0        0.0        0.0        0.0     2266.0   \n",
      "2009988        0.0        0.0        0.0        0.0        0.0     1395.0   \n",
      "2009989        0.0        0.0        0.0        0.0        0.0        0.0   \n",
      "2009990        0.0        0.0        0.0        0.0        0.0        0.0   \n",
      "2009991        0.0        0.0        0.0        0.0        0.0     8624.0   \n",
      "2009992        0.0        0.0        0.0        0.0        0.0     7839.0   \n",
      "2009993        0.0        0.0        0.0        0.0        0.0    36561.0   \n",
      "2009994        0.0        0.0        0.0        0.0        0.0        0.0   \n",
      "2009995        0.0        0.0        0.0        0.0        0.0        0.0   \n",
      "2009996        0.0        0.0        0.0        0.0        0.0        0.0   \n",
      "2009997        0.0        0.0        0.0        0.0        0.0        0.0   \n",
      "2009998        0.0        0.0        0.0        0.0        0.0      362.0   \n",
      "2009999        0.0        0.0        0.0        0.0        0.0    25538.0   \n",
      "\n",
      "         duration8  duration9  duration10  duration11  duration12  duration13  \\\n",
      "0              0.0      328.0         0.0         0.0         0.0         0.0   \n",
      "1              0.0        0.0         0.0         0.0         0.0         0.0   \n",
      "2              0.0        0.0         0.0         0.0         0.0         0.0   \n",
      "3              0.0        0.0         0.0         0.0         0.0         0.0   \n",
      "4              0.0        0.0         0.0         0.0         0.0         0.0   \n",
      "5              0.0    15784.0         0.0         0.0         0.0         0.0   \n",
      "6              0.0      208.0         0.0     37260.0         0.0         0.0   \n",
      "7              0.0       75.0         0.0         0.0         0.0         0.0   \n",
      "8              0.0      211.0         0.0         0.0         0.0         0.0   \n",
      "9           7396.0        0.0         0.0         0.0         0.0         0.0   \n",
      "10             0.0      270.0         0.0     10225.0         0.0         0.0   \n",
      "11             0.0     4354.0         0.0      5896.0         0.0         0.0   \n",
      "12             0.0    13177.0         0.0         0.0         0.0         0.0   \n",
      "13             0.0     4507.0         0.0         0.0         0.0         0.0   \n",
      "14             0.0     1271.0         0.0         0.0         0.0         0.0   \n",
      "15             0.0        0.0         0.0         0.0         0.0         0.0   \n",
      "16             0.0        0.0         0.0         0.0         0.0         0.0   \n",
      "17             0.0     3625.0         0.0         0.0         0.0         0.0   \n",
      "18             0.0      744.0         0.0     17120.0         0.0         0.0   \n",
      "19             0.0     4439.0         0.0         0.0         0.0         0.0   \n",
      "20             0.0     7056.0         0.0         0.0         0.0         0.0   \n",
      "21             0.0        5.0         0.0         0.0         0.0         0.0   \n",
      "22             0.0    16214.0         0.0         0.0         0.0         0.0   \n",
      "23             0.0        0.0         0.0         0.0         0.0         0.0   \n",
      "24             0.0        0.0         0.0         0.0         0.0         0.0   \n",
      "25             0.0        0.0         0.0         0.0         0.0         0.0   \n",
      "26             0.0        0.0         0.0         0.0         0.0         0.0   \n",
      "27             0.0        0.0         0.0         0.0         0.0         0.0   \n",
      "28             0.0        0.0         0.0         0.0         0.0         0.0   \n",
      "29             0.0   259710.0         0.0         0.0         0.0         0.0   \n",
      "...            ...        ...         ...         ...         ...         ...   \n",
      "2009970        0.0    11066.0         0.0         0.0         0.0         0.0   \n",
      "2009971        0.0        0.0         0.0      9584.0         0.0         0.0   \n",
      "2009972        0.0        0.0         0.0         0.0         0.0         0.0   \n",
      "2009973        0.0     1070.0         0.0         0.0         0.0         0.0   \n",
      "2009974        0.0        0.0         0.0         0.0         0.0         0.0   \n",
      "2009975        0.0        0.0         0.0         0.0         0.0         0.0   \n",
      "2009976        0.0        0.0         0.0         0.0         0.0         0.0   \n",
      "2009977      380.0       92.0         0.0    107425.0         0.0         0.0   \n",
      "2009978        0.0        0.0         0.0         0.0         0.0         0.0   \n",
      "2009979        0.0      258.0         0.0         0.0         0.0         0.0   \n",
      "2009980        0.0        0.0         0.0         0.0         0.0         0.0   \n",
      "2009981        0.0        0.0         0.0         0.0         0.0         0.0   \n",
      "2009982        0.0        0.0         0.0         0.0         0.0         0.0   \n",
      "2009983        0.0      210.0         0.0     46649.0         0.0         0.0   \n",
      "2009984        0.0        0.0         0.0         0.0         0.0         0.0   \n",
      "2009985        0.0        0.0         0.0         0.0         0.0         0.0   \n",
      "2009986        0.0        0.0         0.0         0.0         0.0         0.0   \n",
      "2009987        0.0      215.0         0.0         0.0         0.0         0.0   \n",
      "2009988    10490.0     7581.0         0.0     50274.0         0.0         0.0   \n",
      "2009989        0.0        0.0         0.0         0.0         0.0         0.0   \n",
      "2009990        0.0        0.0         0.0         0.0         0.0         0.0   \n",
      "2009991        0.0       66.0         0.0         0.0         0.0         0.0   \n",
      "2009992      158.0     6699.0         0.0         0.0         0.0         0.0   \n",
      "2009993        0.0      611.0         0.0         0.0         0.0         0.0   \n",
      "2009994        0.0        0.0         0.0         0.0         0.0         0.0   \n",
      "2009995        0.0        0.0         0.0         0.0         0.0         0.0   \n",
      "2009996        0.0        0.0         0.0         0.0         0.0         0.0   \n",
      "2009997        0.0        0.0         0.0         0.0         0.0         0.0   \n",
      "2009998        0.0      313.0         0.0      6071.0         0.0         0.0   \n",
      "2009999        0.0    22851.0         0.0         0.0         0.0         0.0   \n",
      "\n",
      "         duration14  duration15  duration16  duration17  duration18  \\\n",
      "0               0.0         0.0         0.0     20211.0      4190.0   \n",
      "1               0.0         0.0         0.0         0.0         0.0   \n",
      "2               0.0         0.0         0.0      1942.0     21510.0   \n",
      "3               0.0         0.0         0.0         0.0         0.0   \n",
      "4               0.0         0.0         0.0      5915.0     65781.0   \n",
      "5               0.0         0.0         0.0    237620.0      1026.0   \n",
      "6            2766.0         0.0         0.0     31760.0     45332.0   \n",
      "7               0.0         0.0         0.0      9582.0        82.0   \n",
      "8               0.0         0.0         0.0      1151.0         0.0   \n",
      "9               0.0         0.0         0.0     63413.0    106757.0   \n",
      "10              0.0         0.0         0.0     40512.0     82503.0   \n",
      "11              4.0         0.0         0.0     15515.0    116696.0   \n",
      "12              0.0         0.0         0.0     68409.0      5482.0   \n",
      "13           5201.0         0.0         0.0     19426.0    176384.0   \n",
      "14             18.0         0.0         0.0      1490.0      2134.0   \n",
      "15          12604.0         0.0         0.0      6906.0      4133.0   \n",
      "16             54.0         0.0         0.0       369.0     13909.0   \n",
      "17              0.0         0.0         0.0    214972.0      9267.0   \n",
      "18          21017.0         0.0         0.0     32090.0    274856.0   \n",
      "19            392.0         0.0         0.0     20298.0      6706.0   \n",
      "20              0.0         0.0         0.0     35815.0     10317.0   \n",
      "21            464.0         0.0         0.0    196025.0     40078.0   \n",
      "22           8183.0         0.0         0.0      1421.0     36463.0   \n",
      "23              0.0         0.0         0.0       409.0     77665.0   \n",
      "24              0.0         0.0         0.0         0.0         0.0   \n",
      "25              0.0         0.0         0.0         0.0         0.0   \n",
      "26              0.0         0.0         0.0         0.0         0.0   \n",
      "27              0.0         0.0         0.0      5496.0     51376.0   \n",
      "28              0.0         0.0         0.0         0.0         0.0   \n",
      "29              0.0         0.0         0.0      6235.0     81790.0   \n",
      "...             ...         ...         ...         ...         ...   \n",
      "2009970        21.0         0.0         0.0       299.0    290059.0   \n",
      "2009971         0.0         0.0         0.0         0.0       549.0   \n",
      "2009972         0.0         0.0         0.0    129066.0        49.0   \n",
      "2009973         0.0         0.0         0.0     26586.0         0.0   \n",
      "2009974         0.0         0.0         0.0      4937.0         0.0   \n",
      "2009975         0.0         0.0         0.0         0.0         0.0   \n",
      "2009976         0.0         0.0         0.0     32330.0     50462.0   \n",
      "2009977         0.0         0.0         0.0     18805.0     31776.0   \n",
      "2009978         0.0         0.0         0.0         0.0         0.0   \n",
      "2009979      3528.0         0.0         0.0     37331.0         0.0   \n",
      "2009980         0.0         0.0         0.0         0.0         0.0   \n",
      "2009981         0.0         0.0         0.0         0.0         0.0   \n",
      "2009982         0.0         0.0         0.0         0.0         0.0   \n",
      "2009983         0.0         0.0         0.0      3260.0     64828.0   \n",
      "2009984         0.0         0.0         0.0     13035.0      4663.0   \n",
      "2009985         0.0         0.0         0.0         0.0         0.0   \n",
      "2009986         0.0         0.0         0.0       160.0     76259.0   \n",
      "2009987         0.0         0.0         0.0      4292.0       127.0   \n",
      "2009988      3612.0         0.0         0.0     11803.0    108506.0   \n",
      "2009989         0.0         0.0         0.0         0.0         0.0   \n",
      "2009990         0.0         0.0         0.0         0.0         0.0   \n",
      "2009991         0.0         0.0         0.0    219787.0     45700.0   \n",
      "2009992         0.0         0.0         0.0      4218.0     19249.0   \n",
      "2009993       201.0         0.0         0.0     13440.0      9214.0   \n",
      "2009994         0.0         0.0         0.0         0.0         0.0   \n",
      "2009995         0.0         0.0         0.0       497.0      3248.0   \n",
      "2009996         0.0         0.0         0.0         0.0         0.0   \n",
      "2009997         0.0         0.0         0.0         0.0         0.0   \n",
      "2009998         0.0         0.0         0.0      1425.0     33096.0   \n",
      "2009999         0.0         0.0         0.0    162087.0     16695.0   \n",
      "\n",
      "         duration19  duration20  duration21  duration22  duration23  \\\n",
      "0            1821.0      1146.0       842.0         0.0         0.0   \n",
      "1               0.0         0.0         0.0         0.0         0.0   \n",
      "2           57214.0         0.0       143.0         0.0         0.0   \n",
      "3               0.0         0.0         0.0         0.0         0.0   \n",
      "4           55974.0         0.0         0.0         0.0         0.0   \n",
      "5             994.0      8568.0         0.0      9015.0         0.0   \n",
      "6           24716.0       488.0      5848.0         0.0         0.0   \n",
      "7               0.0         0.0         0.0         0.0         0.0   \n",
      "8              32.0         0.0    165669.0         0.0         0.0   \n",
      "9          143968.0    111286.0        68.0         0.0         0.0   \n",
      "10            678.0       270.0      9476.0       146.0         0.0   \n",
      "11              2.0      1119.0         0.0      5230.0         0.0   \n",
      "12              0.0         0.0     19593.0         0.0         0.0   \n",
      "13          30911.0     52013.0     17253.0      2743.0         0.0   \n",
      "14              0.0        49.0       461.0         0.0         0.0   \n",
      "15              0.0         0.0        55.0         0.0         0.0   \n",
      "16          23962.0         0.0         0.0         0.0         0.0   \n",
      "17              0.0       777.0     82727.0      2808.0         0.0   \n",
      "18          45748.0       380.0      1931.0         0.0         0.0   \n",
      "19           5917.0     92246.0    163966.0       672.0         0.0   \n",
      "20             32.0         0.0       678.0         0.0         0.0   \n",
      "21          58501.0     52441.0     23674.0         0.0         0.0   \n",
      "22            397.0    103186.0       733.0     20658.0         0.0   \n",
      "23              0.0         0.0         0.0         0.0         0.0   \n",
      "24              0.0         0.0         0.0         0.0         0.0   \n",
      "25              0.0         0.0         0.0         0.0         0.0   \n",
      "26              0.0         0.0         0.0         0.0         0.0   \n",
      "27              0.0         0.0    107218.0         0.0         0.0   \n",
      "28              0.0         0.0         0.0         0.0         0.0   \n",
      "29           6867.0         0.0         0.0         0.0         0.0   \n",
      "...             ...         ...         ...         ...         ...   \n",
      "2009970         0.0      1086.0    154710.0       732.0         0.0   \n",
      "2009971         0.0       101.0         0.0         0.0         0.0   \n",
      "2009972     11218.0         0.0         0.0         0.0         0.0   \n",
      "2009973       630.0    131468.0      1903.0         0.0         0.0   \n",
      "2009974         0.0         0.0         0.0         0.0         0.0   \n",
      "2009975         0.0         0.0         0.0         0.0         0.0   \n",
      "2009976    132855.0        98.0     12353.0         0.0         0.0   \n",
      "2009977     41480.0      5499.0    290727.0         0.0         0.0   \n",
      "2009978         0.0         0.0         0.0         0.0         0.0   \n",
      "2009979         0.0      3893.0     54224.0         0.0         0.0   \n",
      "2009980         0.0         0.0         0.0         0.0         0.0   \n",
      "2009981         0.0         0.0         0.0         0.0         0.0   \n",
      "2009982         0.0         0.0         0.0         0.0         0.0   \n",
      "2009983     69243.0       140.0     59738.0      1156.0         0.0   \n",
      "2009984         0.0         0.0     17627.0         0.0         0.0   \n",
      "2009985         0.0         0.0         0.0         0.0         0.0   \n",
      "2009986     60428.0         0.0    100757.0         0.0         0.0   \n",
      "2009987         0.0         0.0         6.0         0.0         0.0   \n",
      "2009988      2984.0      3463.0    358754.0         4.0         0.0   \n",
      "2009989         0.0         0.0         0.0         0.0         0.0   \n",
      "2009990         0.0         0.0         0.0         0.0         0.0   \n",
      "2009991     93148.0      1100.0    120541.0         0.0         0.0   \n",
      "2009992         0.0     34917.0     34338.0         0.0         0.0   \n",
      "2009993         0.0      2431.0     77166.0         0.0         0.0   \n",
      "2009994         0.0         0.0         0.0         0.0         0.0   \n",
      "2009995         6.0         0.0         0.0         0.0         0.0   \n",
      "2009996         0.0         0.0         0.0         0.0         0.0   \n",
      "2009997         0.0         0.0         0.0         0.0         0.0   \n",
      "2009998     22746.0       172.0     21727.0      3477.0         0.0   \n",
      "2009999     27791.0         0.0    145655.0       234.0         0.0   \n",
      "\n",
      "         duration24  duration25  duration26  duration27  duration28  \\\n",
      "0               0.0         0.0       879.0         0.0         0.0   \n",
      "1               0.0         0.0         0.0         0.0         0.0   \n",
      "2               0.0         0.0         0.0         0.0         0.0   \n",
      "3               0.0         0.0         0.0         0.0         0.0   \n",
      "4               0.0         0.0         0.0         0.0         0.0   \n",
      "5               0.0         0.0         0.0         0.0         0.0   \n",
      "6               0.0         0.0       151.0         0.0         0.0   \n",
      "7               0.0         0.0         0.0         0.0         0.0   \n",
      "8               0.0         0.0         0.0         0.0         0.0   \n",
      "9               0.0         0.0         0.0         0.0         0.0   \n",
      "10             12.0         0.0         0.0         0.0         0.0   \n",
      "11              0.0         0.0      2160.0         0.0         0.0   \n",
      "12              0.0         0.0        37.0         0.0         0.0   \n",
      "13              0.0         0.0         0.0         0.0         0.0   \n",
      "14           2174.0         0.0         0.0         0.0         0.0   \n",
      "15              0.0         0.0         0.0         0.0         0.0   \n",
      "16              0.0         0.0         0.0         0.0         0.0   \n",
      "17              0.0         0.0         0.0         0.0         0.0   \n",
      "18           4220.0         0.0         0.0         0.0         0.0   \n",
      "19              0.0         0.0       578.0         0.0         0.0   \n",
      "20              0.0         0.0         0.0         0.0         0.0   \n",
      "21          18433.0         0.0         0.0         0.0         0.0   \n",
      "22              0.0         0.0     11434.0         0.0         0.0   \n",
      "23              0.0         0.0         0.0         0.0         0.0   \n",
      "24              0.0         0.0         0.0         0.0         0.0   \n",
      "25              0.0         0.0         0.0         0.0         0.0   \n",
      "26              0.0         0.0         0.0         0.0         0.0   \n",
      "27              0.0         0.0         0.0         0.0         0.0   \n",
      "28              0.0         0.0         0.0         0.0         0.0   \n",
      "29              0.0         0.0         0.0         0.0         0.0   \n",
      "...             ...         ...         ...         ...         ...   \n",
      "2009970         0.0         0.0         0.0         0.0         0.0   \n",
      "2009971         0.0         0.0         0.0         0.0         0.0   \n",
      "2009972     23821.0         0.0         0.0         0.0         0.0   \n",
      "2009973         0.0         0.0         0.0         0.0         0.0   \n",
      "2009974         0.0         0.0         0.0         0.0         0.0   \n",
      "2009975         0.0         0.0         0.0         0.0         0.0   \n",
      "2009976         0.0         0.0         0.0         0.0         0.0   \n",
      "2009977         0.0         0.0         0.0         0.0         0.0   \n",
      "2009978         0.0         0.0         0.0         0.0         0.0   \n",
      "2009979         0.0         0.0      5530.0         0.0         0.0   \n",
      "2009980         0.0         0.0         0.0         0.0         0.0   \n",
      "2009981         0.0         0.0         0.0         0.0         0.0   \n",
      "2009982         0.0         0.0         0.0         0.0         0.0   \n",
      "2009983         0.0         0.0         0.0         0.0         0.0   \n",
      "2009984         0.0         0.0         0.0         0.0         0.0   \n",
      "2009985         0.0         0.0         0.0         0.0         0.0   \n",
      "2009986         0.0         0.0         0.0         0.0         0.0   \n",
      "2009987         0.0         0.0         0.0         0.0         0.0   \n",
      "2009988         0.0         0.0      1360.0         0.0         0.0   \n",
      "2009989         0.0         0.0         0.0         0.0         0.0   \n",
      "2009990         0.0         0.0         0.0         0.0         0.0   \n",
      "2009991         0.0         0.0        13.0         0.0         0.0   \n",
      "2009992         0.0         0.0         0.0         0.0         0.0   \n",
      "2009993         0.0         0.0         0.0         0.0         0.0   \n",
      "2009994         0.0         0.0         0.0         0.0         0.0   \n",
      "2009995         0.0         0.0         0.0         0.0         0.0   \n",
      "2009996         0.0         0.0         0.0         0.0         0.0   \n",
      "2009997         0.0         0.0         0.0         0.0         0.0   \n",
      "2009998         0.0         0.0       348.0         0.0         0.0   \n",
      "2009999         0.0         0.0      7201.0         0.0         0.0   \n",
      "\n",
      "         duration29  duration30  duration31  duration32  duration33  \\\n",
      "0          171673.0         0.0         0.0         0.0         0.0   \n",
      "1               0.0         0.0         0.0         0.0         0.0   \n",
      "2          142398.0         0.0         0.0         0.0         0.0   \n",
      "3               0.0         0.0         0.0         0.0         0.0   \n",
      "4          171044.0         0.0         0.0         0.0         0.0   \n",
      "5          108912.0         0.0         0.0         0.0         0.0   \n",
      "6          130293.0         0.0         0.0         0.0      9303.0   \n",
      "7          196312.0         0.0         0.0         0.0         0.0   \n",
      "8           74110.0         0.0         0.0         0.0         0.0   \n",
      "9          241280.0         0.0         0.0         0.0      3854.0   \n",
      "10         150645.0         0.0      2808.0         0.0         0.0   \n",
      "11         336312.0         0.0         0.0         0.0         0.0   \n",
      "12         440731.0         0.0         0.0         0.0         0.0   \n",
      "13         156222.0         0.0         0.0         0.0     23290.0   \n",
      "14          22576.0         0.0         0.0         0.0         0.0   \n",
      "15         262904.0         0.0         0.0         0.0      1956.0   \n",
      "16           6003.0         0.0       140.0         0.0         0.0   \n",
      "17         327682.0         0.0         0.0         0.0         0.0   \n",
      "18         195432.0         0.0     33403.0         0.0        12.0   \n",
      "19         325088.0         0.0         0.0         0.0       502.0   \n",
      "20         136323.0         0.0    223201.0         0.0         0.0   \n",
      "21         496923.0         0.0     74871.0         0.0         2.0   \n",
      "22         392392.0         0.0     26150.0         0.0         0.0   \n",
      "23          28045.0         0.0         0.0         0.0         0.0   \n",
      "24              0.0         0.0         0.0         0.0         0.0   \n",
      "25              0.0         0.0         0.0         0.0         0.0   \n",
      "26              0.0         0.0         0.0         0.0         0.0   \n",
      "27          62241.0         0.0         0.0         0.0         0.0   \n",
      "28              0.0         0.0         0.0         0.0         0.0   \n",
      "29          10271.0         0.0         0.0         0.0         0.0   \n",
      "...             ...         ...         ...         ...         ...   \n",
      "2009970     30856.0         0.0         0.0         0.0      5748.0   \n",
      "2009971     20489.0         0.0         0.0         0.0         0.0   \n",
      "2009972    341519.0         0.0         0.0         0.0         0.0   \n",
      "2009973    220706.0         0.0         0.0         0.0         0.0   \n",
      "2009974      1767.0         0.0         0.0         0.0         0.0   \n",
      "2009975         0.0         0.0         0.0         0.0         0.0   \n",
      "2009976     50793.0         0.0         0.0         0.0      1960.0   \n",
      "2009977     86183.0         0.0         0.0         0.0         0.0   \n",
      "2009978         0.0         0.0         0.0         0.0         0.0   \n",
      "2009979     73887.0         0.0         0.0         0.0     14904.0   \n",
      "2009980         0.0         0.0         0.0         0.0         0.0   \n",
      "2009981         0.0         0.0         0.0         0.0         0.0   \n",
      "2009982         0.0         0.0         0.0         0.0         0.0   \n",
      "2009983    162165.0         0.0         0.0         0.0         0.0   \n",
      "2009984     50774.0         0.0         0.0         0.0      3511.0   \n",
      "2009985         0.0         0.0         0.0         0.0         0.0   \n",
      "2009986     99842.0         0.0         0.0         0.0         0.0   \n",
      "2009987     56704.0         0.0         0.0         0.0       113.0   \n",
      "2009988    117095.0         0.0    302924.0         0.0         0.0   \n",
      "2009989         0.0         0.0         0.0         0.0         0.0   \n",
      "2009990         0.0         0.0         0.0         0.0         0.0   \n",
      "2009991    187548.0         0.0    336790.0         0.0         0.0   \n",
      "2009992    236704.0         0.0         0.0         0.0        68.0   \n",
      "2009993    312428.0         0.0         0.0         0.0       370.0   \n",
      "2009994         0.0         0.0         0.0         0.0         0.0   \n",
      "2009995      2081.0         0.0         0.0         0.0         0.0   \n",
      "2009996       208.0         0.0         0.0         0.0         0.0   \n",
      "2009997         0.0         0.0         0.0         0.0         0.0   \n",
      "2009998     13224.0         0.0         0.0         0.0       283.0   \n",
      "2009999    111144.0         0.0         0.0         0.0         0.0   \n",
      "\n",
      "         duration34  duration35  duration36  duration37  duration38  \\\n",
      "0               0.0         0.0         0.0       503.0         0.0   \n",
      "1               0.0         0.0         0.0         0.0         0.0   \n",
      "2               0.0         0.0         0.0     24933.0         0.0   \n",
      "3               0.0         0.0         0.0         0.0         0.0   \n",
      "4               0.0         0.0         0.0        56.0         0.0   \n",
      "5               0.0         0.0         0.0      4226.0         0.0   \n",
      "6               0.0         0.0         0.0     14013.0         0.0   \n",
      "7               0.0         0.0         0.0      3419.0         0.0   \n",
      "8               0.0         0.0         0.0         7.0         0.0   \n",
      "9               0.0         0.0         0.0    169075.0      3038.0   \n",
      "10              0.0         0.0         0.0      6892.0         0.0   \n",
      "11              0.0         0.0         0.0     98712.0         0.0   \n",
      "12              0.0         0.0         0.0     16764.0         0.0   \n",
      "13              0.0         0.0         0.0    121453.0      2481.0   \n",
      "14              0.0         0.0         0.0      6382.0         0.0   \n",
      "15              0.0         0.0         0.0     17388.0         0.0   \n",
      "16              0.0         0.0         0.0         0.0         0.0   \n",
      "17              0.0         0.0         0.0     11962.0         0.0   \n",
      "18              0.0         0.0         0.0      7198.0         0.0   \n",
      "19              0.0         0.0         0.0     11761.0       241.0   \n",
      "20              0.0         0.0         0.0    216795.0       548.0   \n",
      "21              0.0         0.0         0.0     94307.0         0.0   \n",
      "22              0.0         0.0         0.0     44091.0         0.0   \n",
      "23              0.0         0.0         0.0         0.0         0.0   \n",
      "24              0.0         0.0         0.0         0.0         0.0   \n",
      "25              0.0         0.0         0.0         0.0         0.0   \n",
      "26              0.0         0.0         0.0         0.0         0.0   \n",
      "27              0.0         0.0         0.0       493.0         0.0   \n",
      "28              0.0         0.0         0.0         0.0         0.0   \n",
      "29              0.0         0.0         0.0        61.0         0.0   \n",
      "...             ...         ...         ...         ...         ...   \n",
      "2009970         0.0         0.0         0.0     24396.0       920.0   \n",
      "2009971         0.0         0.0         0.0       615.0         0.0   \n",
      "2009972         0.0         0.0         0.0     19227.0         0.0   \n",
      "2009973         0.0         0.0         0.0    115761.0      1727.0   \n",
      "2009974         0.0         0.0         0.0       522.0         0.0   \n",
      "2009975         0.0         0.0         0.0         0.0         0.0   \n",
      "2009976         0.0         0.0         0.0     19936.0         0.0   \n",
      "2009977         0.0         0.0         0.0    126862.0         0.0   \n",
      "2009978         0.0         0.0         0.0         0.0         0.0   \n",
      "2009979         0.0         0.0         0.0     19239.0       433.0   \n",
      "2009980         0.0         0.0         0.0         0.0         0.0   \n",
      "2009981         0.0         0.0         0.0         0.0         0.0   \n",
      "2009982         0.0         0.0         0.0         0.0         0.0   \n",
      "2009983         0.0     42859.0         0.0      6174.0         0.0   \n",
      "2009984         0.0         0.0         0.0       668.0         0.0   \n",
      "2009985         0.0         0.0         0.0         0.0         0.0   \n",
      "2009986         0.0         0.0         0.0     45489.0         0.0   \n",
      "2009987         0.0         0.0         0.0      8318.0         0.0   \n",
      "2009988         0.0         0.0         0.0     41279.0         0.0   \n",
      "2009989         0.0         0.0         0.0         0.0         0.0   \n",
      "2009990         0.0         0.0         0.0         0.0         0.0   \n",
      "2009991         0.0         0.0         0.0     16555.0         0.0   \n",
      "2009992         0.0         0.0         0.0     17597.0        29.0   \n",
      "2009993         0.0         0.0         0.0      6929.0        40.0   \n",
      "2009994         0.0         0.0         0.0         0.0         0.0   \n",
      "2009995         0.0         0.0         0.0      2684.0         0.0   \n",
      "2009996         0.0         0.0         0.0         0.0         0.0   \n",
      "2009997         0.0         0.0         0.0         0.0         0.0   \n",
      "2009998         0.0         0.0         0.0       430.0         0.0   \n",
      "2009999         0.0         0.0         0.0     15494.0         0.0   \n",
      "\n",
      "         duration39  \n",
      "0             527.0  \n",
      "1               0.0  \n",
      "2               0.0  \n",
      "3               0.0  \n",
      "4               0.0  \n",
      "5           12379.0  \n",
      "6            4319.0  \n",
      "7            2705.0  \n",
      "8             529.0  \n",
      "9               0.0  \n",
      "10            354.0  \n",
      "11           4834.0  \n",
      "12            428.0  \n",
      "13          11138.0  \n",
      "14            162.0  \n",
      "15           1741.0  \n",
      "16              0.0  \n",
      "17         231650.0  \n",
      "18           1487.0  \n",
      "19           7892.0  \n",
      "20           2458.0  \n",
      "21             28.0  \n",
      "22         114541.0  \n",
      "23              0.0  \n",
      "24              0.0  \n",
      "25              0.0  \n",
      "26              0.0  \n",
      "27            226.0  \n",
      "28              0.0  \n",
      "29           1176.0  \n",
      "...             ...  \n",
      "2009970      5745.0  \n",
      "2009971         0.0  \n",
      "2009972      1511.0  \n",
      "2009973         0.0  \n",
      "2009974     13846.0  \n",
      "2009975       380.0  \n",
      "2009976         0.0  \n",
      "2009977      3297.0  \n",
      "2009978         0.0  \n",
      "2009979    126488.0  \n",
      "2009980         0.0  \n",
      "2009981         0.0  \n",
      "2009982         0.0  \n",
      "2009983       541.0  \n",
      "2009984         0.0  \n",
      "2009985         0.0  \n",
      "2009986         0.0  \n",
      "2009987      2031.0  \n",
      "2009988      4088.0  \n",
      "2009989         0.0  \n",
      "2009990         0.0  \n",
      "2009991      1260.0  \n",
      "2009992       713.0  \n",
      "2009993       450.0  \n",
      "2009994         0.0  \n",
      "2009995       754.0  \n",
      "2009996       176.0  \n",
      "2009997         0.0  \n",
      "2009998      4535.0  \n",
      "2009999       111.0  \n",
      "\n"
     ]
    },
    {
     "name": "stdout",
     "output_type": "stream",
     "text": [
      "[2010000 rows x 114 columns]\n",
      "            uid  gender  city  prodName  ramCapacity  ramLeftRation  \\\n",
      "0       1000002       1   298       113          0.0           0.26   \n",
      "1       1000003       0   222         6          8.0           0.35   \n",
      "2       1000004       1   198        31          3.0           0.36   \n",
      "3       1000005       0   107         1          6.0           0.00   \n",
      "4       1000006       0   284       146          2.0           0.19   \n",
      "5       1000007       1   314       191          6.0           0.20   \n",
      "6       1000008       1   298        52          6.0           0.36   \n",
      "7       1000009       0   336        52          6.0           0.39   \n",
      "8       1000010       0   298       128          6.0           0.36   \n",
      "9       1000012       0   201        66          4.0           0.31   \n",
      "10      1000013       0   133        50          4.0           0.49   \n",
      "11      1000014       1   314         3          6.0           0.49   \n",
      "12      1000016       0   348       130          3.0           0.41   \n",
      "13      1000017       1   297        13          4.0           0.29   \n",
      "14      1000018       1   350        43          6.0           0.51   \n",
      "15      1000020       0   226       119          4.0           0.38   \n",
      "16      1000021       0   143        50          4.0           0.51   \n",
      "17      1000022       0   344       125          6.0           0.25   \n",
      "18      1000024       1   147        37          4.0           0.40   \n",
      "19      1000026       0   249         1          6.0           0.20   \n",
      "20      1000027       0   307         3          6.0           0.37   \n",
      "21      1000028       0    99        90          4.0           0.35   \n",
      "22      1000030       0   133        66          4.0           0.41   \n",
      "23      1000031       0   196       184          3.0           0.47   \n",
      "24      1000032       0   298        13          4.0           0.31   \n",
      "25      1000033       0    45         2          3.0           0.58   \n",
      "26      1000034       0   307        50          4.0           0.34   \n",
      "27      1000036       0   116       191          6.0           0.22   \n",
      "28      1000039       1   179        53          6.0           0.27   \n",
      "29      1000041       0    43       125          6.0           0.26   \n",
      "...         ...     ...   ...       ...          ...            ...   \n",
      "502470  3178805       1   206        12          3.0           0.27   \n",
      "502471  3179045       1   251       153          4.0           0.21   \n",
      "502472  3179064       0   200        31          4.0           0.58   \n",
      "502473  3179100       0   301         1          6.0           0.00   \n",
      "502474  3179128       0   351       141          2.0           0.00   \n",
      "502475  3179165       1    99        44          4.0           0.25   \n",
      "502476  3179213       0   300        55          6.0           0.00   \n",
      "502477  3179270       1   188       105          3.0           0.00   \n",
      "502478  3179327       0   323        57          4.0           0.18   \n",
      "502479  3179417       0   204       106          3.0           0.39   \n",
      "502480  3179418       0   286         6          8.0           0.40   \n",
      "502481  3179611       1   356        43          6.0           0.42   \n",
      "502482  3179789       1   102        63          3.0           0.00   \n",
      "502483  3179836       0   144        10          3.0           0.48   \n",
      "502484  3179942       0   250        53          6.0           0.33   \n",
      "502485  3179947       0    18       128          6.0           0.32   \n",
      "502486  3179955       0    97       107          4.0           0.00   \n",
      "502487  3179965       0    42         3          6.0           0.40   \n",
      "502488  3180064       0   118        67          4.0           0.27   \n",
      "502489  3180116       0   107        57          4.0           0.30   \n",
      "502490  3180139       1   111       149          4.0           0.54   \n",
      "502491  3180191       0   188       113          6.0           0.31   \n",
      "502492  3180290       0   333       113          8.0           0.32   \n",
      "502493  3180573       1   147        32          3.0           0.25   \n",
      "502494  3180722       1    24        66          3.0           0.43   \n",
      "502495  3180767       0    82        55          6.0           0.30   \n",
      "502496  3181007       0   314         6          8.0           0.00   \n",
      "502497  3181086       0   111        31          4.0           0.38   \n",
      "502498  3181099       1   237       183          3.0           0.55   \n",
      "502499  3181144       0   110       125          6.0           0.43   \n",
      "\n",
      "        romCapacity  romLeftRation  color  fontSize  ct  carrier  os  \\\n",
      "0               0.0           0.59     56   1.00000   8        1  13   \n",
      "1             128.0           0.60     85   1.00000   6        1  13   \n",
      "2              32.0           0.09     20   1.00000   6        1  11   \n",
      "3              68.0           0.00     15   0.00000   6        1  13   \n",
      "4              16.0           0.42     57   0.00000   7        1   8   \n",
      "5             137.0           0.50     14   1.00000   6        2  13   \n",
      "6             128.0           0.47     91   1.15000   6        2  11   \n",
      "7              64.0           0.23    106   1.15000   6        1  11   \n",
      "8              64.0           0.01    108   0.00000   6        1  11   \n",
      "9              64.0           0.39     71   1.30001   8        1  11   \n",
      "10             64.0           0.48    106   1.00000   6        1  11   \n",
      "11            128.0           0.58     34   1.00000   8        1  13   \n",
      "12             32.0           0.46    108   1.00000   8        3   9   \n",
      "13             64.0           0.04     71   1.15000   6        1  11   \n",
      "14            128.0           0.68      3   1.00000   7        3  12   \n",
      "15             64.0           0.09     30   1.00000   8        3  11   \n",
      "16             64.0           0.88    107   1.30001   8        1  11   \n",
      "17            137.0           0.35     15   1.00000   6        3  13   \n",
      "18             64.0           0.31     91   1.00000   8        3  11   \n",
      "19             68.0           0.71     50   1.30001   8        2  13   \n",
      "20             64.0           0.34     14   1.00000   6        2  13   \n",
      "21             64.0           0.54     23   1.00000   6        3   9   \n",
      "22             64.0           0.17     71   1.00000   4        3  11   \n",
      "23             16.0           0.39    101   1.00000   6        3   8   \n",
      "24             64.0           0.06    114   0.00000   6        1  11   \n",
      "25             32.0           0.60     45   1.15000   6        1   8   \n",
      "26             64.0           0.60     30   1.00000   6        1  11   \n",
      "27            137.0           0.66    114   1.00000   8        1  13   \n",
      "28            137.0           0.51     34   1.00000   6        2  13   \n",
      "29            137.0           0.26     35   1.30000   6        3  13   \n",
      "...             ...            ...    ...       ...  ..      ...  ..   \n",
      "502470         32.0           0.08     67   1.00000   8        1  11   \n",
      "502471         34.0           0.04     35   1.00000   6        2  11   \n",
      "502472         64.0           0.77     20   0.00000   6        2  11   \n",
      "502473         68.0           0.00     18   0.00000   6        1  13   \n",
      "502474          8.0           0.21     74   0.00000   6        1   5   \n",
      "502475        137.0           0.04     15   0.85000   6        3  11   \n",
      "502476        137.0           0.59     34   1.00000   8        3  13   \n",
      "502477         34.0           0.11    101   1.15000   8        1  11   \n",
      "502478         64.0           0.17    125   1.00000   8        2  11   \n",
      "502479         34.0           0.05     95   1.15000   8        2  11   \n",
      "502480        128.0           0.62      3   1.00000   6        1  13   \n",
      "502481        128.0           0.82     42   0.00000   5        2  13   \n",
      "502482         16.0           0.68     76   1.00000   7        1   6   \n",
      "502483         32.0           0.06     88   0.00000   6        1  11   \n",
      "502484         68.0           0.24     14   1.00000   6        3  13   \n",
      "502485         64.0           0.51     15   1.15000   8        2  11   \n",
      "502486        137.0           0.00    101   0.00000   6        1  11   \n",
      "502487         64.0           0.45     14   1.00000   6        1  13   \n",
      "502488         68.0           0.46    125   0.00000   6        2  11   \n",
      "502489         64.0           0.69     15   1.00000   6        3  11   \n",
      "502490         32.0           0.06      8   1.15000   6        3  11   \n",
      "502491          4.0           0.66     56   1.00000   6        1  13   \n",
      "502492        128.0           0.72     55   1.00000   6        3  13   \n",
      "502493         32.0           0.51    121   1.00000   8        1   8   \n",
      "502494         32.0           0.35     46   1.00000   7        1   8   \n",
      "502495        137.0           0.77      3   0.00000   6        3  13   \n",
      "502496        128.0           0.00    123   0.00000   6        2  13   \n",
      "502497         32.0           0.02    125   1.00000   6        3   9   \n",
      "502498         32.0           0.25    109   0.00000   7        1   9   \n",
      "502499         68.0           0.38     35   0.00000   8        2  13   \n",
      "\n",
      "        bootTimes  AFuncTimes  BFuncTimes  CFuncTimes  DFuncTimes  EFuncTimes  \\\n",
      "0              14        0.00        0.17        4.93        1.23        3.90   \n",
      "1              13        1.00        0.00        7.73        3.00        1.70   \n",
      "2              57        0.00        0.03        1.37        0.63        0.00   \n",
      "3               0        0.00        0.00        0.00        0.00        0.00   \n",
      "4              33        0.00        0.00        0.00        0.00        0.00   \n",
      "5              14        1.50        0.13        2.93        3.13        1.27   \n",
      "6               7        0.75        0.07        0.23        3.00        2.43   \n",
      "7              25        7.00        0.07        2.33        2.57        7.63   \n",
      "8               3        0.00        0.00        0.00        0.00        0.00   \n",
      "9              91        0.00        0.00        2.80        3.13        5.80   \n",
      "10             21        0.00        0.00        9.80        0.00        0.00   \n",
      "11            118        2.00        0.00        0.90        2.97        5.87   \n",
      "12             18        0.00        0.00        0.00        2.90        1.80   \n",
      "13             25        0.00        0.00        0.23        0.00        0.00   \n",
      "14             45        0.00        0.00        0.00        0.00        0.00   \n",
      "15             18        0.00        0.00        0.00        0.03        0.20   \n",
      "16              6        0.00        0.00        0.00        0.50        2.00   \n",
      "17              4        1.25        0.00        0.77        4.40        5.63   \n",
      "18             12        4.00        0.07        1.37        1.03        1.33   \n",
      "19             21        0.00        0.00        3.40        4.77        7.67   \n",
      "20             60        0.00        0.10        0.80        6.87        2.67   \n",
      "21             30        0.00        0.03        0.30        0.30        0.20   \n",
      "22             19        0.00        0.03        0.23        0.63        0.23   \n",
      "23             36        1.00        0.00        0.07        0.10        0.07   \n",
      "24              4        0.00        0.00        0.00        0.00        0.00   \n",
      "25             15        1.00        0.00        0.00        1.83        1.50   \n",
      "26              5        0.00        0.00        0.10        2.17        2.40   \n",
      "27             22        1.00        0.00        0.23        1.83        8.67   \n",
      "28              7        1.50        0.37        1.27        2.93        4.93   \n",
      "29              9        1.50        0.00        1.23        1.30        0.00   \n",
      "...           ...         ...         ...         ...         ...         ...   \n",
      "502470         15        0.00        0.00        0.00        0.00        0.00   \n",
      "502471         10        0.00        0.07        1.33        0.00        0.00   \n",
      "502472         29        0.00        0.00        0.00        0.00        0.00   \n",
      "502473         16        3.90        0.77        2.33        0.03        0.00   \n",
      "502474          5        0.00        0.00        0.00        0.00        0.00   \n",
      "502475         42        0.00        0.83        9.60        0.00        0.00   \n",
      "502476         10        0.64        0.00        1.80        0.23        0.00   \n",
      "502477        115        0.00        0.00        0.40        0.00        0.00   \n",
      "502478         18        2.00        0.00        0.63        0.97        0.87   \n",
      "502479         11        0.50        0.07        3.27        0.77        0.17   \n",
      "502480         43        2.50        0.87        2.67        2.77        0.00   \n",
      "502481         25        0.00        0.25        1.45        0.05        0.00   \n",
      "502482         31        0.00        0.00        0.07        0.07        0.00   \n",
      "502483          6        0.00        0.00        0.00        0.00        0.00   \n",
      "502484         12        3.17        0.17        3.17        0.13        0.00   \n",
      "502485         15        0.00        0.00        2.07        2.40        2.43   \n",
      "502486          0        0.00        0.00        0.00        0.00        0.00   \n",
      "502487          8        1.00        0.00        4.00        2.67        5.17   \n",
      "502488          8        0.00        0.00        0.00        0.00        0.00   \n",
      "502489         77        1.40        0.10        2.50        1.63        0.90   \n",
      "502490         53        0.00        0.23        3.00        0.00        0.00   \n",
      "502491         18        1.00        0.13        1.00        0.20        0.73   \n",
      "502492         31        0.00        0.10        0.23        1.33        0.60   \n",
      "502493          5        0.00        0.00        0.00        0.00        0.00   \n",
      "502494         13        0.00        0.00        0.40        0.20        0.00   \n",
      "502495         14        0.00        0.00        0.00        0.00        0.00   \n",
      "502496          0        0.00        0.00        0.00        0.00        0.00   \n",
      "502497         29        0.00        0.03        0.20        2.50        2.97   \n",
      "502498          6        0.00        0.00        0.00        0.00        0.00   \n",
      "502499          0        0.00        0.00        0.00        0.00        0.00   \n",
      "\n",
      "        FFuncTimes  FFuncSum  appId_x  usage_cnt  usage_appid_cnt  \\\n",
      "0             1.00       245       69      556.0             55.0   \n",
      "1             0.00      5987       80      794.0             68.0   \n",
      "2             0.00      7460       26      475.0             27.0   \n",
      "3             0.00         0       34        0.0              0.0   \n",
      "4             0.00         0       10        0.0              0.0   \n",
      "5             0.00         0       88      846.0             70.0   \n",
      "6             0.00     29237       46      307.0             35.0   \n",
      "7             6.85     29307       41      423.0             37.0   \n",
      "8             0.00      2667       45        0.0              0.0   \n",
      "9             0.00       204       43      148.0             19.0   \n",
      "10            0.00     18352       43      309.0             35.0   \n",
      "11            0.00       370       55      366.0             42.0   \n",
      "12            0.00      2634       15      110.0             11.0   \n",
      "13            0.00         0       48      157.0             42.0   \n",
      "14            0.00      4217       29        3.0              3.0   \n",
      "15            0.00      3925       39       98.0             23.0   \n",
      "16            0.00    100875       11        5.0              3.0   \n",
      "17            0.00         0       72      295.0             40.0   \n",
      "18            0.00     60410       28      175.0             23.0   \n",
      "19            0.00       714       34      391.0             36.0   \n",
      "20            0.00      3057       67      519.0             50.0   \n",
      "21            0.00      2613       52      595.0             62.0   \n",
      "22            0.00     45301       41      351.0             30.0   \n",
      "23            0.00      4029        9      158.0             42.0   \n",
      "24            0.00     40922       56        0.0              0.0   \n",
      "25            0.00      8483       21      192.0             16.0   \n",
      "26            0.00      9770       30       84.0             15.0   \n",
      "27            0.00         0       65      715.0             61.0   \n",
      "28            5.40         0      105      639.0             79.0   \n",
      "29            0.00         0       81      376.0             42.0   \n",
      "...            ...       ...      ...        ...              ...   \n",
      "502470        0.00      2526       42       64.0             15.0   \n",
      "502471        0.00     87099       31      279.0             37.0   \n",
      "502472        0.00         0       31        0.0              0.0   \n",
      "502473        0.00         0       56      568.0             67.0   \n",
      "502474        0.00      2312       15        0.0              0.0   \n",
      "502475        0.00      2828       93      749.0             87.0   \n",
      "502476        0.00      7175       47      577.0             36.0   \n",
      "502477        0.00     28176       27      191.0             19.0   \n",
      "502478        2.67      4692       69      314.0             30.0   \n",
      "502479        0.00     26864       23      326.0             30.0   \n",
      "502480        0.00      2232       34      499.0             51.0   \n",
      "502481        0.00     25666       31      171.0             24.0   \n",
      "502482        0.00         0       23       70.0             15.0   \n",
      "502483        0.00         0       30        0.0              0.0   \n",
      "502484        0.00      2945       61      657.0             74.0   \n",
      "502485        0.00     13218       23      290.0             20.0   \n",
      "502486        0.00    207059       15        0.0              0.0   \n",
      "502487        0.00      4287       41      145.0             35.0   \n",
      "502488        0.00    206005       40      352.0             43.0   \n",
      "502489        0.00         0       33      185.0             26.0   \n",
      "502490        0.00     31996       38      424.0             50.0   \n",
      "502491        0.00      2402       37      704.0             51.0   \n",
      "502492        1.00      9496       34      629.0             69.0   \n",
      "502493        0.00         0       25       26.0             12.0   \n",
      "502494        0.00      2691       39       41.0             20.0   \n",
      "502495        0.00         0       25        0.0              0.0   \n",
      "502496        0.00       534       46        0.0              0.0   \n",
      "502497        0.00      1316       34      234.0             16.0   \n",
      "502498        0.00        18       16        0.0              0.0   \n",
      "502499        0.00         0       35        0.0              0.0   \n",
      "\n",
      "        usage_date_cnt  duration_mean  duration_max  duration_std  times_mean  \\\n",
      "0                 30.0    1259.872302       17160.0   2376.881227   32.674460   \n",
      "1                 30.0     715.931990        8178.0   1216.493068   26.872796   \n",
      "2                 30.0    1080.627368       16888.0   2125.300262   80.381053   \n",
      "3                  0.0       0.000000           0.0      0.000000    0.000000   \n",
      "4                  0.0       0.000000           0.0      0.000000    0.000000   \n",
      "5                 30.0     715.962175       15786.0   1789.822416   35.916076   \n",
      "6                 17.0    1415.260586       18465.0   3392.299561   53.491857   \n",
      "7                 30.0    2096.288416       40494.0   4539.241464   51.557920   \n",
      "8                  0.0       0.000000           0.0      0.000000    0.000000   \n",
      "9                 30.0    3248.527027       19247.0   5424.434844  111.675676   \n",
      "10                27.0     882.171521       14118.0   2271.037222   68.576052   \n",
      "11                30.0    1107.590164       10981.0   1969.972108   34.980874   \n",
      "12                30.0    1043.754545       10247.0   1794.390445   36.272727   \n",
      "13                12.0    1075.961783       12457.0   2074.329369   71.184713   \n",
      "14                 1.0     150.333333         300.0    140.607017    8.000000   \n",
      "15                21.0    1705.163265       18179.0   3673.649445   83.418367   \n",
      "16                 3.0      73.400000         160.0     79.434250    5.400000   \n",
      "17                30.0    2602.664407       36902.0   6436.363893   27.793220   \n",
      "18                30.0    3734.371429       41372.0   7826.316294   19.691429   \n",
      "19                30.0     690.406650        7282.0   1233.646816   33.199488   \n",
      "20                30.0    1867.171484       21125.0   3319.855577   58.834297   \n",
      "21                30.0    1407.623529       61438.0   5426.537549   25.843697   \n",
      "22                30.0    2983.601140       31822.0   5778.838123   36.270655   \n",
      "23                30.0    1725.303797       22533.0   3729.388959   75.746835   \n",
      "24                 0.0       0.000000           0.0      0.000000    0.000000   \n",
      "25                30.0    1855.890625       30103.0   3476.168650   32.302083   \n",
      "26                 8.0    1316.297619       16349.0   3093.934991   94.404762   \n",
      "27                30.0    1023.229371       19623.0   1837.252788   48.746853   \n",
      "28                30.0    1006.987480       10464.0   1661.747959   41.503912   \n",
      "29                30.0    1330.835106       17467.0   2583.410921   15.438830   \n",
      "...                ...            ...           ...           ...         ...   \n",
      "502470             6.0    1756.500000       21208.0   3807.057598   99.031250   \n",
      "502471            19.0    1567.082437       31062.0   3135.997401   99.620072   \n",
      "502472             0.0       0.000000           0.0      0.000000    0.000000   \n",
      "502473            30.0    1007.688380       30183.0   2361.236173   99.445423   \n",
      "502474             0.0       0.000000           0.0      0.000000    0.000000   \n",
      "502475            30.0    1386.251001       21914.0   2392.304383   52.997330   \n",
      "502476            30.0    1269.331023       16110.0   2304.914759   60.214905   \n",
      "502477            30.0    1723.057592       24404.0   3262.235421   56.287958   \n",
      "502478            30.0    1048.859873        8081.0   1618.350329   47.898089   \n",
      "502479            30.0     897.196319        6719.0   1200.124706   38.573620   \n",
      "502480            30.0    1215.318637       36710.0   2737.488422   57.651303   \n",
      "502481            13.0    1452.204678       11812.0   2450.314640  127.725146   \n",
      "502482             9.0    1946.200000       30645.0   3971.200456   96.614286   \n",
      "502483             0.0       0.000000           0.0      0.000000    0.000000   \n",
      "502484            30.0    1498.465753       43634.0   3738.670162   62.331811   \n",
      "502485            30.0    1223.189655        7505.0   1400.256831   42.455172   \n",
      "502486             0.0       0.000000           0.0      0.000000    0.000000   \n",
      "502487             8.0     735.662069        5895.0   1284.737561   57.310345   \n",
      "502488            19.0    1631.818182       17615.0   2778.064335   50.846591   \n",
      "502489            15.0    1055.983784        9007.0   1604.629794   68.151351   \n",
      "502490            27.0    1731.858491       17625.0   2751.139181   60.002358   \n",
      "502491            30.0    1292.420455       33897.0   2730.158429   39.036932   \n",
      "502492            30.0    1883.055644       77908.0   5287.151520   96.317965   \n",
      "502493             4.0    1626.307692        8270.0   2847.938971   15.846154   \n",
      "502494             3.0     764.853659        5388.0   1314.754512   96.365854   \n",
      "502495             0.0       0.000000           0.0      0.000000    0.000000   \n",
      "502496             0.0       0.000000           0.0      0.000000    0.000000   \n",
      "502497            30.0    4445.235043       39135.0   6912.664957   30.863248   \n",
      "502498             0.0       0.000000           0.0      0.000000    0.000000   \n",
      "502499             0.0       0.000000           0.0      0.000000    0.000000   \n",
      "\n",
      "        times_max   times_std  category  usage_most_used_category  0  1  2  3  \\\n",
      "0           498.0   57.986704      19.0                      39.0  0  0  0  0   \n",
      "1           353.0   44.789154      15.0                      17.0  0  0  0  0   \n",
      "2          1032.0  181.679321      10.0                      17.0  0  0  0  0   \n",
      "3             0.0    0.000000      41.0                      41.0  0  0  0  0   \n",
      "4             0.0    0.000000      41.0                      41.0  0  0  0  0   \n",
      "5          1000.0   69.172754      17.0                      39.0  0  0  0  0   \n",
      "6          1046.0  154.502414      14.0                      17.0  0  0  0  0   \n",
      "7           710.0   82.978161      14.0                      17.0  0  0  0  0   \n",
      "8             0.0    0.000000      41.0                      41.0  0  0  0  0   \n",
      "9           663.0  164.807132      10.0                       7.0  0  0  0  0   \n",
      "10         1124.0  179.812343      12.0                      17.0  0  0  0  0   \n",
      "11          459.0   65.649690      10.0                      17.0  0  0  0  0   \n",
      "12          291.0   43.939472       7.0                      18.0  0  0  0  0   \n",
      "13          589.0  135.902719      14.0                      18.0  0  0  0  0   \n",
      "14           11.0    5.196152       5.0                      17.0  0  0  0  0   \n",
      "15          783.0  179.353704       9.0                      17.0  0  0  0  0   \n",
      "16            6.0    1.341641       6.0                      17.0  0  0  0  0   \n",
      "17          240.0   35.771877      13.0                      17.0  0  0  0  0   \n",
      "18          162.0   25.713646      10.0                      17.0  0  0  0  0   \n",
      "19          541.0   54.759297      11.0                      17.0  1  0  0  0   \n",
      "20          566.0  101.199521      14.0                      17.0  0  0  0  0   \n",
      "21          452.0   46.633402      13.0                      17.0  0  0  0  0   \n",
      "22          462.0   68.139086      12.0                      17.0  0  0  0  0   \n",
      "23          672.0  125.489408       8.0                      17.0  0  0  0  0   \n",
      "24            0.0    0.000000      41.0                      41.0  0  0  0  0   \n",
      "25          274.0   37.142324       9.0                      17.0  0  0  0  0   \n",
      "26         1462.0  274.333766       8.0                      17.0  0  0  0  0   \n",
      "27          524.0   71.081690      14.0                       7.0  0  0  0  0   \n",
      "28          529.0   64.757684      15.0                      18.0  0  0  0  0   \n",
      "29          132.0   20.381337      14.0                      17.0  0  0  0  0   \n",
      "...           ...         ...       ...                       ... .. .. .. ..   \n",
      "502470      847.0  154.123221      10.0                      17.0  0  0  0  0   \n",
      "502471     1089.0  151.940514      12.0                       7.0  0  0  0  0   \n",
      "502472        0.0    0.000000      41.0                      41.0  0  0  0  0   \n",
      "502473     1897.0  207.312459      16.0                      18.0  0  0  0  0   \n",
      "502474        0.0    0.000000      41.0                      41.0  0  0  0  0   \n",
      "502475      916.0  112.352518      17.0                      17.0  0  0  0  0   \n",
      "502476     1232.0  145.415445      14.0                      17.0  0  0  0  0   \n",
      "502477      365.0   79.680453      12.0                      17.0  0  0  0  0   \n",
      "502478      346.0   69.370302       9.0                      18.0  0  0  0  0   \n",
      "502479      367.0   50.822216      12.0                      17.0  0  0  0  0   \n",
      "502480      823.0  107.354640      15.0                      17.0  0  0  0  0   \n",
      "502481     2792.0  303.205697      13.0                      17.0  0  0  0  0   \n",
      "502482      645.0  132.148828       9.0                      17.0  0  0  0  0   \n",
      "502483        0.0    0.000000      41.0                      41.0  0  0  0  0   \n",
      "502484     2076.0  166.177880      17.0                      17.0  0  0  0  0   \n",
      "502485      411.0   60.070602      10.0                      17.0  0  0  0  0   \n",
      "502486        0.0    0.000000      41.0                      41.0  0  0  0  0   \n",
      "502487      648.0  103.639099      16.0                      17.0  2  0  0  0   \n",
      "502488      452.0   70.847891      16.0                      17.0  0  0  0  0   \n",
      "502489      784.0  124.643704      13.0                       7.0  0  0  0  0   \n",
      "502490     1053.0  104.714686      13.0                      17.0  0  0  0  0   \n",
      "502491      455.0   61.479310      16.0                      17.0  0  0  0  0   \n",
      "502492     2108.0  238.010786      20.0                       7.0  1  0  0  0   \n",
      "502493      103.0   27.164230       6.0                      17.0  0  0  0  0   \n",
      "502494      723.0  144.671828       7.0                      17.0  0  0  0  0   \n",
      "502495        0.0    0.000000      41.0                      41.0  1  0  0  0   \n",
      "502496        0.0    0.000000      41.0                      41.0  0  0  0  0   \n",
      "502497      269.0   43.694100      12.0                      17.0  0  0  0  0   \n",
      "502498        0.0    0.000000      41.0                      41.0  0  0  0  0   \n",
      "502499        0.0    0.000000      41.0                      41.0  0  0  0  0   \n",
      "\n",
      "        4  5  6  7  8  9  10  11  12  13  14  15  16  17  18  19  20  21  22  \\\n",
      "0       3  0  2  3  0  4   0   1   0   0   0   0   0  10   6   1   6   4   3   \n",
      "1       0  0  0  1  0  4   0   0   0   0   0   0   0  17  13   2   1  10   3   \n",
      "2       0  0  0  2  0  2   0   0   0   0   0   0   0   6   2   0   1   1   0   \n",
      "3       0  0  0  0  0  1   0   0   0   0   6   0   0   3   6   2   0   2   0   \n",
      "4       0  0  0  0  0  1   0   0   0   0   0   0   0   4   1   0   2   0   0   \n",
      "5       0  0  0  2  2  4   0   0   0   0   0   0   0   9   9   6   3   7   3   \n",
      "6       0  0  0  1  2  3   0   0   0   0   1   0   0   6   2   0   3   1   1   \n",
      "7       0  0  0  1  0  1   0   1   0   0   1   0   0  12   6   2   1   1   0   \n",
      "8       0  0  0  1  0  6   0   0   0   0   0   0   0   5   3   3   2   4   4   \n",
      "9       0  0  0  2  0  0   0   0   0   0   0   0   0   9   5   1   1   5   1   \n",
      "10      0  0  0  1  0  4   0   0   0   0   0   0   0   6   4   0   1   3   3   \n",
      "11      0  0  0  1  0  1   0   0   0   0   0   0   0  14   6   0   8   5   2   \n",
      "12      0  0  0  0  0  0   0   0   0   0   0   0   0   3   0   1   0   0   0   \n",
      "13      9  0  0  0  0  0   0   0   0   0   1   0   0   7   4   6   2   1   0   \n",
      "14      0  0  0  0  0  0   0   1   0   0   0   0   0   5   4   5   4   2   0   \n",
      "15      0  0  0  0  0  1   0   0   0   0   1   0   0   6   4   0   1   4   2   \n",
      "16      0  0  0  0  0  0   0   0   0   0   0   0   0   3   1   1   1   1   0   \n",
      "17      0  0  0  2  0  4   0   0   0   0   0   0   0  13   8   1   1   7   5   \n",
      "18      0  0  0  0  1  0   0   0   0   0   0   0   0   5   6   2   1   3   0   \n",
      "19      0  0  0  0  0  0   0   0   0   0   0   0   0   5   5   0   1   3   0   \n",
      "20      0  0  0  0  0  4   0   0   0   0   0   0   0  10   6   2   6   7   1   \n",
      "21      0  0  0  1  0  0   0   0   0   0   0   0   0  12   7   3   5   1   0   \n",
      "22      0  0  0  1  0  0   0   1   0   0   0   0   0   6  10   1   0   2   2   \n",
      "23      0  0  0  0  0  0   0   0   0   0   0   0   0   3   1   0   1   1   0   \n",
      "24      0  0  0  3  0  2   0   1   0   0   1   0   0   8   1   4   1   2   3   \n",
      "25      0  0  0  0  0  1   0   0   0   0   0   0   0   5   5   0   1   0   0   \n",
      "26      0  0  0  0  0  0   0   0   0   0   0   0   0   9   1   1   1   2   1   \n",
      "27      0  0  0  2  0  1   0   0   0   0   1   0   0  14   4   1   4   3   2   \n",
      "28      0  0  0  3  0  0   0   0   0   0   0   0   0  16  12   3   4   7   4   \n",
      "29      1  0  0  0  0  1   0   2   0   0   2   0   0  16  19   5   6   8   1   \n",
      "...    .. .. .. .. .. ..  ..  ..  ..  ..  ..  ..  ..  ..  ..  ..  ..  ..  ..   \n",
      "502470  3  0  0  2  0  0   0   0   0   0   0   0   0   7   5   5   1   5   0   \n",
      "502471  0  0  0  0  0  1   0   0   0   0   0   0   0   7   4   4   3   2   0   \n",
      "502472  0  0  0  0  0  0   0   2   0   0   0   0   0   7   4   4   1   2   0   \n",
      "502473  0  0  0  1  0  2   0   1   0   0   0   0   0   9   9   4   4   2   1   \n",
      "502474  0  0  0  0  0  0   0   0   0   0   0   0   0   3   2   1   1   0   0   \n",
      "502475  4  0  1  0  0  3   0   0   0   0   2   0   0  12  16   8   7   7   1   \n",
      "502476  0  0  0  0  0  0   0   1   0   0   0   0   0   5   8   1  10   3   0   \n",
      "502477  0  0  0  0  0  0   0   1   0   0   0   0   0   4   5   3   2   1   0   \n",
      "502478  2  0  0  0  0  0   0   0   0   0   2   0   1  14   9   1  10   5   0   \n",
      "502479  0  0  0  0  0  0   0   0   0   0   0   0   0   6   1   4   1   2   0   \n",
      "502480  1  0  0  0  0  0   0   0   0   0   0   0   0   4   7   3   4   0   1   \n",
      "502481  0  0  0  1  0  0   0   0   0   0   0   0   0   4   7   2   2   2   0   \n",
      "502482  1  0  0  0  0  0   0   0   0   0   1   0   0   4   3   0   2   1   0   \n",
      "502483  0  0  0  0  0  1   0   0   0   0   0   0   0   7   3   1   3   0   0   \n",
      "502484  0  0  0  0  0  0   0   1   0   0   0   0   0  14  13   0   8   3   1   \n",
      "502485  0  0  0  0  0  0   0   0   0   0   0   0   0   6   2   1   3   3   0   \n",
      "502486  0  0  0  0  0  0   0   0   0   0   0   0   0   2   3   0   4   0   0   \n",
      "502487  0  0  0  0  0  0   0   2   0   0   0   0   0   9  11   1   1   3   1   \n",
      "502488  0  0  0  1  0  0   0   2   0   0   0   0   0   8   5   2   3   5   0   \n",
      "502489  1  0  0  0  0  2   0   0   0   0   0   0   0   3   6   1   2   1   0   \n",
      "502490  1  0  0  0  0  0   0   0   0   0   0   0   0  10   7   1   7   3   0   \n",
      "502491  0  0  1  0  0  1   0   1   0   0   0   0   0   5   6   2   4   1   0   \n",
      "502492  0  0  0  0  0  0   0   1   0   0   0   0   0   4   6   1   2   2   1   \n",
      "502493  3  0  0  0  0  0   0   0   0   0   0   0   0   5   7   1   1   3   0   \n",
      "502494  0  0  0  0  0  1   0   1   0   0   0   0   0   6   5   4   1   1   0   \n",
      "502495  0  0  0  0  0  1   0   1   0   0   0   0   0   4   4   5   1   0   0   \n",
      "502496  0  0  0  0  0  2   0   0   0   0   1   0   0   4   9   3   0   3   2   \n",
      "502497  0  0  0  0  0  2   0   0   0   0   1   0   0   9   6   1   1   2   0   \n",
      "502498  0  0  0  0  0  0   0   1   0   0   0   0   0   2   5   0   1   0   0   \n",
      "502499  0  0  1  1  0  0   0   0   0   0   0   0   0   4  10   2   3   3   0   \n",
      "\n",
      "        23  24  25  26  27  28  29  30  31  32  33  34  35  36  37  38  39  \\\n",
      "0        0   0   0   2   0   0   6   0   2   0   3   0   0   0   6   0   6   \n",
      "1        0   0   0   0   0   0   8   0   0   0   1   0   0   0   9   3   5   \n",
      "2        0   0   0   0   0   0   5   0   0   0   0   0   0   0   7   0   0   \n",
      "3        0   0   0   0   0   0   5   0   0   0   1   0   0   0   6   0   2   \n",
      "4        0   0   0   0   0   0   2   0   0   0   0   0   0   0   0   0   0   \n",
      "5        0   0   0   1   0   0   9   0   0   0   3   0   0   0  12   4  13   \n",
      "6        0   0   0   2   0   0   7   0   0   0   1   0   0   0   8   1   6   \n",
      "7        0   0   0   0   0   0   3   0   1   0   0   0   0   0   5   1   2   \n",
      "8        0   0   0   0   0   0   4   0   0   0   0   0   0   0   7   2   3   \n",
      "9        0   0   0   0   0   0   4   0   0   0   0   0   0   0   4   2   6   \n",
      "10       0   0   0   0   0   0   5   0   0   0   0   0   0   0   7   2   5   \n",
      "11       0   0   0   1   0   0   6   0   0   0   0   0   0   0   6   0   4   \n",
      "12       0   0   0   0   0   0   1   0   0   0   0   0   0   0   1   0   9   \n",
      "13       0   0   0   0   0   0   3   0   1   0   0   0   0   0   5   2   4   \n",
      "14       0   0   0   0   0   0   3   0   1   0   0   0   0   0   1   1   1   \n",
      "15       0   0   0   0   0   0   5   0   0   0   0   0   0   0   6   2   5   \n",
      "16       0   0   0   0   0   0   2   0   0   0   0   0   0   0   0   0   0   \n",
      "17       0   0   0   5   0   0   6   0   0   0   0   0   0   0   9   1   8   \n",
      "18       0   0   0   0   0   0   5   0   0   0   0   0   0   0   4   0   0   \n",
      "19       0   0   0   0   0   0   5   0   0   0   1   0   0   0   4   0   8   \n",
      "20       0   1   0   1   0   0   9   0   0   0   0   0   0   0   9   1   7   \n",
      "21       0   0   0   0   0   0   2   0   1   0   2   0   0   0   1   0  15   \n",
      "22       0   2   0   1   0   0   9   0   0   0   0   0   0   0   4   0   1   \n",
      "23       0   0   0   1   0   0   1   0   0   0   0   0   0   0   0   0   0   \n",
      "24       0   0   0   1   0   0  10   0   0   0   2   0   0   0  11   0   3   \n",
      "25       0   0   0   0   0   0   2   0   1   0   0   0   0   0   1   1   2   \n",
      "26       0   0   0   0   0   0   4   0   0   0   0   0   0   0   3   0   5   \n",
      "27       0   0   0   0   0   0   6   0   0   0   1   0   0   0  13   0  12   \n",
      "28       0   0   0   0   0   0   5   0   1   0   3   0   0   0  13   1  30   \n",
      "29       0   3   0   0   0   0   5   0   0   0   1   0   0   0   4   0   5   \n",
      "...     ..  ..  ..  ..  ..  ..  ..  ..  ..  ..  ..  ..  ..  ..  ..  ..  ..   \n",
      "502470   0   4   0   0   0   0   4   0   1   0   0   0   0   0   4   0   0   \n",
      "502471   0   0   0   0   0   0   6   0   0   0   0   0   1   0   3   0   0   \n",
      "502472   0   0   0   0   0   0   4   0   1   0   0   0   0   0   5   0   1   \n",
      "502473   0   0   0   0   0   0   8   0   1   0   3   0   0   0   8   1   0   \n",
      "502474   0   0   0   0   0   0   2   0   0   1   0   0   0   0   2   0   1   \n",
      "502475   0   0   0   0   0   0  14   0   0   0   2   0   0   0   4   4   4   \n",
      "502476   0   0   0   0   0   0   6   0   1   0   1   0   0   0   5   1   1   \n",
      "502477   0   0   0   0   0   0   4   0   0   0   0   0   0   0   3   0   3   \n",
      "502478   0   1   0   0   0   0  11   0   3   0   0   0   0   0   4   1   1   \n",
      "502479   0   0   0   0   0   0   2   0   1   0   0   0   0   0   3   0   1   \n",
      "502480   0   0   0   0   0   0   4   0   0   0   0   0   1   0   7   1   0   \n",
      "502481   0   0   0   0   0   0   5   0   1   0   1   0   0   0   4   0   1   \n",
      "502482   0   0   0   0   0   0   4   0   0   0   0   0   0   0   2   0   0   \n",
      "502483   0   0   0   0   0   0   3   0   1   0   0   0   0   0   4   2   1   \n",
      "502484   0   1   0   0   0   0   9   0   0   0   0   0   1   0   5   0   2   \n",
      "502485   0   0   0   0   0   0   3   0   0   0   0   0   0   0   3   0   1   \n",
      "502486   0   0   0   0   0   0   2   0   0   0   0   0   1   0   1   0   1   \n",
      "502487   0   0   0   0   0   0   3   0   1   1   0   0   1   0   3   0   0   \n",
      "502488   0   0   0   0   0   0   5   0   1   0   0   0   0   0   3   0   4   \n",
      "502489   0   0   0   0   0   0   3   0   1   0   1   0   0   0   5   2   2   \n",
      "502490   0   0   0   0   0   0   4   0   0   0   0   0   0   0   3   1   0   \n",
      "502491   0   0   0   1   0   0   7   0   1   0   0   0   1   0   5   0   0   \n",
      "502492   0   0   0   1   0   0   6   0   1   0   1   0   0   0   4   1   1   \n",
      "502493   0   0   0   0   0   0   2   0   0   0   0   0   1   0   2   0   0   \n",
      "502494   0   2   0   0   0   0   9   0   1   0   0   0   0   0   4   1   0   \n",
      "502495   0   0   0   1   0   0   2   0   1   0   1   0   0   0   2   0   0   \n",
      "502496   0   0   0   1   0   0   5   0   0   0   2   0   0   0  13   1   0   \n",
      "502497   0   1   0   0   0   0   2   0   1   0   1   0   0   0   5   0   0   \n",
      "502498   0   0   0   0   0   0   4   0   0   0   0   0   0   0   0   0   0   \n",
      "502499   0   0   0   0   0   0   3   0   0   0   0   0   0   0   5   0   2   \n",
      "\n",
      "        duration0  duration1  duration2  duration3  duration4  duration5  \\\n",
      "0             0.0        0.0        0.0        0.0    86254.0        0.0   \n",
      "1             0.0        0.0        0.0        0.0    78751.0        0.0   \n",
      "2             0.0        0.0        0.0        0.0        0.0        0.0   \n",
      "3             0.0        0.0        0.0        0.0        0.0        0.0   \n",
      "4             0.0        0.0        0.0        0.0        0.0        0.0   \n",
      "5             0.0        0.0        0.0        0.0        0.0        0.0   \n",
      "6             0.0        0.0        0.0        0.0   145076.0        0.0   \n",
      "7             0.0        0.0        0.0        0.0        0.0        0.0   \n",
      "8             0.0        0.0        0.0        0.0        0.0        0.0   \n",
      "9             0.0        0.0        0.0        0.0        0.0        0.0   \n",
      "10            0.0        0.0        0.0        0.0        0.0        0.0   \n",
      "11            0.0        0.0        0.0        0.0        0.0        0.0   \n",
      "12            0.0        0.0        0.0        0.0        0.0        0.0   \n",
      "13            0.0        0.0        0.0        0.0     3503.0        0.0   \n",
      "14            0.0        0.0        0.0        0.0        0.0        0.0   \n",
      "15            0.0        0.0        0.0        0.0        0.0        0.0   \n",
      "16            0.0        0.0        0.0        0.0        0.0        0.0   \n",
      "17            0.0        0.0        0.0        0.0        0.0        0.0   \n",
      "18            0.0        0.0        0.0        0.0        0.0        0.0   \n",
      "19          156.0        0.0        0.0        0.0        0.0        0.0   \n",
      "20            0.0        0.0        0.0        0.0        0.0        0.0   \n",
      "21            0.0        0.0        0.0        0.0        0.0        0.0   \n",
      "22            0.0        0.0        0.0        0.0        0.0        0.0   \n",
      "23            0.0        0.0        0.0        0.0        0.0        0.0   \n",
      "24            0.0        0.0        0.0        0.0        0.0        0.0   \n",
      "25            0.0        0.0        0.0        0.0    23206.0        0.0   \n",
      "26            0.0        0.0        0.0        0.0        0.0        0.0   \n",
      "27            0.0        0.0        0.0        0.0        0.0        0.0   \n",
      "28            0.0        0.0        0.0        0.0     5382.0        0.0   \n",
      "29            0.0        0.0        0.0        0.0   125689.0        0.0   \n",
      "...           ...        ...        ...        ...        ...        ...   \n",
      "502470        0.0        0.0        0.0        0.0        0.0        0.0   \n",
      "502471        0.0        0.0        0.0        0.0        0.0        0.0   \n",
      "502472        0.0        0.0        0.0        0.0        0.0        0.0   \n",
      "502473        0.0        0.0        0.0        0.0        0.0        0.0   \n",
      "502474        0.0        0.0        0.0        0.0        0.0        0.0   \n",
      "502475        0.0        0.0        0.0        0.0     7666.0        0.0   \n",
      "502476        0.0        0.0        0.0        0.0        0.0        0.0   \n",
      "502477        0.0        0.0        0.0        0.0        0.0        0.0   \n",
      "502478        0.0        0.0        0.0        0.0        0.0        0.0   \n",
      "502479        0.0        0.0        0.0        0.0        0.0        0.0   \n",
      "502480        0.0        0.0        0.0        0.0     3343.0        0.0   \n",
      "502481        0.0        0.0        0.0        0.0        0.0        0.0   \n",
      "502482        0.0        0.0        0.0        0.0    58311.0        0.0   \n",
      "502483        0.0        0.0        0.0        0.0        0.0        0.0   \n",
      "502484        0.0        0.0        0.0        0.0    11416.0        0.0   \n",
      "502485        0.0        0.0        0.0        0.0        0.0        0.0   \n",
      "502486        0.0        0.0        0.0        0.0        0.0        0.0   \n",
      "502487      524.0        0.0        0.0        0.0        0.0        0.0   \n",
      "502488        0.0        0.0        0.0        0.0    23503.0        0.0   \n",
      "502489        0.0        0.0        0.0        0.0    21471.0        0.0   \n",
      "502490        0.0        0.0        0.0        0.0   174065.0        0.0   \n",
      "502491        0.0        0.0        0.0        0.0     2826.0        0.0   \n",
      "502492      290.0        0.0        0.0        0.0        0.0        0.0   \n",
      "502493     1984.0        0.0        0.0        0.0        0.0        0.0   \n",
      "502494        0.0        0.0        0.0        0.0        0.0        0.0   \n",
      "502495        0.0        0.0        0.0        0.0        0.0        0.0   \n",
      "502496        0.0        0.0        0.0        0.0        0.0        0.0   \n",
      "502497        0.0        0.0        0.0        0.0        0.0        0.0   \n",
      "502498        0.0        0.0        0.0        0.0        0.0        0.0   \n",
      "502499        0.0        0.0        0.0        0.0        0.0        0.0   \n",
      "\n",
      "        duration6  duration7  duration8  duration9  duration10  duration11  \\\n",
      "0          1016.0    11449.0        0.0     6222.0         0.0         0.0   \n",
      "1             0.0     3920.0        0.0      494.0         0.0         0.0   \n",
      "2             0.0    20496.0        0.0     2091.0         0.0         0.0   \n",
      "3             0.0        0.0        0.0        0.0         0.0         0.0   \n",
      "4             0.0        0.0        0.0        0.0         0.0         0.0   \n",
      "5             0.0     8274.0     2549.0      649.0         0.0         0.0   \n",
      "6             0.0      797.0     2933.0     5985.0         0.0         0.0   \n",
      "7             0.0    57311.0        0.0      370.0         0.0     31758.0   \n",
      "8             0.0        0.0        0.0        0.0         0.0         0.0   \n",
      "9             0.0      544.0        0.0        0.0         0.0         0.0   \n",
      "10            0.0      854.0        0.0     5141.0         0.0         0.0   \n",
      "11            0.0     2470.0        0.0        0.0         0.0         0.0   \n",
      "12            0.0        0.0        0.0        0.0         0.0         0.0   \n",
      "13            0.0     1456.0        0.0        0.0         0.0      3687.0   \n",
      "14            0.0        0.0        0.0        0.0         0.0         0.0   \n",
      "15            0.0       20.0        0.0        0.0         0.0         0.0   \n",
      "16            0.0        0.0        0.0        0.0         0.0         0.0   \n",
      "17            0.0     1514.0        0.0     1686.0         0.0         0.0   \n",
      "18            0.0        0.0     4394.0        0.0         0.0         0.0   \n",
      "19            0.0    11266.0        0.0        8.0         0.0         0.0   \n",
      "20            0.0     3460.0        0.0   152369.0         0.0         0.0   \n",
      "21            0.0     7738.0        0.0      632.0         0.0         0.0   \n",
      "22            0.0    18077.0        0.0        0.0         0.0    133873.0   \n",
      "23            0.0    28819.0        0.0        0.0         0.0         0.0   \n",
      "24            0.0        0.0        0.0        0.0         0.0         0.0   \n",
      "25            0.0        0.0        0.0      568.0         0.0         0.0   \n",
      "26            0.0      267.0        0.0        0.0         0.0         0.0   \n",
      "27            0.0    21572.0       41.0     1115.0         0.0         0.0   \n",
      "28            0.0    16497.0        0.0        0.0         0.0         0.0   \n",
      "29            0.0     2343.0        0.0      220.0         0.0     45855.0   \n",
      "...           ...        ...        ...        ...         ...         ...   \n",
      "502470        0.0      192.0        0.0        0.0         0.0         0.0   \n",
      "502471        0.0      365.0        0.0      185.0         0.0         0.0   \n",
      "502472        0.0        0.0        0.0        0.0         0.0         0.0   \n",
      "502473        0.0     3229.0        0.0     1579.0         0.0         4.0   \n",
      "502474        0.0        0.0        0.0        0.0         0.0         0.0   \n",
      "502475   203444.0    17955.0        0.0     9887.0         0.0         0.0   \n",
      "502476        0.0     7063.0        0.0      929.0         0.0     78881.0   \n",
      "502477        0.0      630.0        0.0        0.0         0.0      3774.0   \n",
      "502478        0.0      321.0        0.0        0.0         0.0         0.0   \n",
      "502479        0.0     3678.0        0.0     7460.0         0.0         0.0   \n",
      "502480    18098.0     2823.0        0.0      218.0         0.0      8348.0   \n",
      "502481        0.0     3040.0        0.0        0.0         0.0         0.0   \n",
      "502482        0.0        0.0        0.0        0.0         0.0         0.0   \n",
      "502483        0.0        0.0        0.0        0.0         0.0         0.0   \n",
      "502484        0.0     6548.0        0.0        0.0         0.0      9616.0   \n",
      "502485        0.0        0.0        0.0      252.0         0.0         0.0   \n",
      "502486        0.0        0.0        0.0        0.0         0.0         0.0   \n",
      "502487        0.0        0.0        0.0      849.0         0.0     13475.0   \n",
      "502488        0.0    26879.0        0.0        0.0         0.0     65051.0   \n",
      "502489        0.0       34.0        0.0     1174.0         0.0         0.0   \n",
      "502490        0.0     8556.0        0.0        0.0         0.0         0.0   \n",
      "502491    24717.0     5189.0        0.0      304.0         0.0     15320.0   \n",
      "502492        0.0     3499.0        0.0     7984.0         0.0    107543.0   \n",
      "502493        0.0        0.0        0.0        0.0         0.0         0.0   \n",
      "502494        0.0       18.0        0.0        0.0         0.0         0.0   \n",
      "502495        0.0        0.0        0.0        0.0         0.0         0.0   \n",
      "502496        0.0        0.0        0.0        0.0         0.0         0.0   \n",
      "502497        0.0     3490.0        0.0     1440.0         0.0         0.0   \n",
      "502498        0.0        0.0        0.0        0.0         0.0         0.0   \n",
      "502499        0.0        0.0        0.0        0.0         0.0         0.0   \n",
      "\n",
      "        duration12  duration13  duration14  duration15  duration16  \\\n",
      "0              0.0         0.0         0.0         0.0         0.0   \n",
      "1              0.0         0.0         0.0         0.0         0.0   \n",
      "2              0.0         0.0         0.0         0.0         0.0   \n",
      "3              0.0         0.0         0.0         0.0         0.0   \n",
      "4              0.0         0.0         0.0         0.0         0.0   \n",
      "5              0.0         0.0         0.0         0.0         0.0   \n",
      "6              0.0         0.0      1389.0         0.0         0.0   \n",
      "7              0.0         0.0     14467.0         0.0         0.0   \n",
      "8              0.0         0.0         0.0         0.0         0.0   \n",
      "9              0.0         0.0         0.0         0.0         0.0   \n",
      "10             0.0         0.0         0.0         0.0         0.0   \n",
      "11             0.0         0.0         0.0         0.0         0.0   \n",
      "12             0.0         0.0         0.0         0.0         0.0   \n",
      "13             0.0         0.0      1517.0         0.0         0.0   \n",
      "14             0.0         0.0         0.0         0.0         0.0   \n",
      "15             0.0         0.0         0.0         0.0         0.0   \n",
      "16             0.0         0.0         0.0         0.0         0.0   \n",
      "17             0.0         0.0         0.0         0.0         0.0   \n",
      "18             0.0         0.0         0.0         0.0         0.0   \n",
      "19             0.0         0.0         0.0         0.0         0.0   \n",
      "20             0.0         0.0         0.0         0.0         0.0   \n",
      "21             0.0         0.0         0.0         0.0         0.0   \n",
      "22             0.0         0.0         0.0         0.0         0.0   \n",
      "23             0.0         0.0         0.0         0.0         0.0   \n",
      "24             0.0         0.0         0.0         0.0         0.0   \n",
      "25             0.0         0.0         0.0         0.0         0.0   \n",
      "26             0.0         0.0         0.0         0.0         0.0   \n",
      "27             0.0         0.0       376.0         0.0         0.0   \n",
      "28             0.0         0.0         0.0         0.0         0.0   \n",
      "29             0.0         0.0      3841.0         0.0         0.0   \n",
      "...            ...         ...         ...         ...         ...   \n",
      "502470         0.0         0.0         0.0         0.0         0.0   \n",
      "502471         0.0         0.0         0.0         0.0         0.0   \n",
      "502472         0.0         0.0         0.0         0.0         0.0   \n",
      "502473         0.0         0.0         0.0         0.0         0.0   \n",
      "502474         0.0         0.0         0.0         0.0         0.0   \n",
      "502475         0.0         0.0        64.0         0.0         0.0   \n",
      "502476         0.0         0.0         0.0         0.0         0.0   \n",
      "502477         0.0         0.0         0.0         0.0         0.0   \n",
      "502478         0.0         0.0         0.0         0.0         0.0   \n",
      "502479         0.0         0.0         0.0         0.0         0.0   \n",
      "502480         0.0         0.0         0.0         0.0         0.0   \n",
      "502481         0.0         0.0         0.0         0.0         0.0   \n",
      "502482         0.0         0.0         0.0         0.0         0.0   \n",
      "502483         0.0         0.0         0.0         0.0         0.0   \n",
      "502484         0.0         0.0         0.0         0.0         0.0   \n",
      "502485         0.0         0.0         0.0         0.0         0.0   \n",
      "502486         0.0         0.0         0.0         0.0         0.0   \n",
      "502487         0.0         0.0         0.0         0.0         0.0   \n",
      "502488         0.0         0.0         0.0         0.0         0.0   \n",
      "502489         0.0         0.0         0.0         0.0         0.0   \n",
      "502490         0.0         0.0      1545.0         0.0         0.0   \n",
      "502491         0.0         0.0         0.0         0.0         0.0   \n",
      "502492         0.0         0.0         0.0         0.0         0.0   \n",
      "502493         0.0         0.0         0.0         0.0         0.0   \n",
      "502494         0.0         0.0         0.0         0.0         0.0   \n",
      "502495         0.0         0.0         0.0         0.0         0.0   \n",
      "502496         0.0         0.0         0.0         0.0         0.0   \n",
      "502497         0.0         0.0         0.0         0.0         0.0   \n",
      "502498         0.0         0.0         0.0         0.0         0.0   \n",
      "502499         0.0         0.0         0.0         0.0         0.0   \n",
      "\n",
      "        duration17  duration18  duration19  duration20  duration21  \\\n",
      "0          27150.0    216184.0     62668.0      2904.0     78869.0   \n",
      "1          86273.0     57992.0     14786.0      2877.0    120148.0   \n",
      "2          28768.0    210514.0         0.0         0.0        62.0   \n",
      "3              0.0         0.0         0.0         0.0         0.0   \n",
      "4              0.0         0.0         0.0         0.0         0.0   \n",
      "5           5667.0    266218.0     11294.0      5314.0    105577.0   \n",
      "6            160.0     35558.0         0.0     22730.0      3237.0   \n",
      "7          30477.0    102351.0     11615.0      1582.0     69683.0   \n",
      "8              0.0         0.0         0.0         0.0         0.0   \n",
      "9          38438.0      2878.0         0.0       999.0       273.0   \n",
      "10          6230.0     13295.0         0.0      9147.0      7062.0   \n",
      "11         28806.0     19639.0         0.0    128180.0     26475.0   \n",
      "12             0.0         0.0         0.0         0.0         0.0   \n",
      "13          6854.0     21501.0     12290.0       486.0      3064.0   \n",
      "14            21.0       300.0         0.0         0.0         0.0   \n",
      "15          1149.0      9701.0         0.0       390.0     23203.0   \n",
      "16             0.0       320.0         0.0         0.0         0.0   \n",
      "17         23020.0      2640.0         0.0         0.0    629513.0   \n",
      "18         67914.0    514586.0       200.0         0.0     17621.0   \n",
      "19         29432.0      4061.0         0.0      2035.0    107445.0   \n",
      "20         13041.0       911.0         6.0     12204.0    323056.0   \n",
      "21        569650.0     45398.0      1527.0      8174.0     10676.0   \n",
      "22          6629.0    225860.0         0.0         0.0        40.0   \n",
      "23          1931.0      4138.0         0.0         3.0     15620.0   \n",
      "24             0.0         0.0         0.0         0.0         0.0   \n",
      "25         19678.0     78911.0         0.0       946.0         0.0   \n",
      "26          1592.0       261.0      6178.0         0.0         0.0   \n",
      "27         29418.0    115712.0         6.0       140.0     36087.0   \n",
      "28         28714.0    155975.0     31014.0      9315.0    121430.0   \n",
      "29        173317.0      7636.0      6099.0      5381.0     53745.0   \n",
      "...            ...         ...         ...         ...         ...   \n",
      "502470       930.0     53673.0     12365.0         0.0      8255.0   \n",
      "502471     17032.0     15692.0     48215.0      2820.0    155946.0   \n",
      "502472         0.0         0.0         0.0         0.0         0.0   \n",
      "502473    231611.0    107421.0      2392.0      7681.0      2746.0   \n",
      "502474         0.0         0.0         0.0         0.0         0.0   \n",
      "502475     32356.0    186280.0     78126.0     37472.0     30180.0   \n",
      "502476     34107.0    239173.0    161201.0     10336.0        80.0   \n",
      "502477      1311.0    120919.0      3928.0       225.0     77026.0   \n",
      "502478      3348.0     89081.0         0.0       714.0    169591.0   \n",
      "502479     20667.0     25487.0    102710.0         4.0     23496.0   \n",
      "502480     31734.0    208170.0     53721.0     21436.0      2186.0   \n",
      "502481      1340.0      4568.0     52700.0        46.0       790.0   \n",
      "502482       561.0      9034.0         0.0       439.0       103.0   \n",
      "502483         0.0         0.0         0.0         0.0         0.0   \n",
      "502484     20148.0    161987.0         0.0     53192.0    313236.0   \n",
      "502485     52839.0     54200.0         0.0       164.0    164194.0   \n",
      "502486         0.0         0.0         0.0         0.0         0.0   \n",
      "502487      3198.0     11641.0     32877.0       182.0       929.0   \n",
      "502488     10576.0    174286.0    110896.0      5063.0     27498.0   \n",
      "502489       352.0     14962.0     38225.0      2876.0         0.0   \n",
      "502490     19417.0    216915.0     68588.0     37174.0     20032.0   \n",
      "502491    281231.0    269695.0     16423.0      8291.0     11395.0   \n",
      "502492      1914.0    151396.0     80659.0         6.0    176784.0   \n",
      "502493       472.0     39654.0         0.0         0.0         0.0   \n",
      "502494       862.0       389.0         0.0         0.0         0.0   \n",
      "502495         0.0         0.0         0.0         0.0         0.0   \n",
      "502496         0.0         0.0         0.0         0.0         0.0   \n",
      "502497     13684.0    211035.0    363077.0      8400.0     19498.0   \n",
      "502498         0.0         0.0         0.0         0.0         0.0   \n",
      "502499         0.0         0.0         0.0         0.0         0.0   \n",
      "\n",
      "        duration22  duration23  duration24  duration25  duration26  \\\n",
      "0            974.0         0.0       178.0         0.0      1576.0   \n",
      "1           1096.0         0.0      2482.0         0.0         0.0   \n",
      "2              0.0         0.0         0.0         0.0         0.0   \n",
      "3              0.0         0.0         0.0         0.0         0.0   \n",
      "4              0.0         0.0         0.0         0.0         0.0   \n",
      "5           3556.0         0.0         0.0         0.0         0.0   \n",
      "6              0.0         0.0         0.0         0.0      1342.0   \n",
      "7              0.0         0.0         0.0         0.0         0.0   \n",
      "8              0.0         0.0         0.0         0.0         0.0   \n",
      "9              0.0         0.0         0.0         0.0         0.0   \n",
      "10          1751.0         0.0         0.0         0.0         0.0   \n",
      "11             0.0         0.0         0.0         0.0        78.0   \n",
      "12             0.0         0.0         0.0         0.0         0.0   \n",
      "13             0.0         0.0         0.0         0.0         0.0   \n",
      "14             0.0         0.0         0.0         0.0         0.0   \n",
      "15             0.0         0.0         0.0         0.0         0.0   \n",
      "16             0.0         0.0         0.0         0.0         0.0   \n",
      "17          7524.0         0.0         0.0         0.0     14045.0   \n",
      "18             0.0         0.0         0.0         0.0         0.0   \n",
      "19             0.0         0.0         0.0         0.0         0.0   \n",
      "20             0.0         0.0    170277.0         0.0      1327.0   \n",
      "21             0.0         0.0         0.0         0.0         0.0   \n",
      "22             4.0         0.0    127874.0         0.0         0.0   \n",
      "23             0.0         0.0         0.0         0.0         0.0   \n",
      "24             0.0         0.0         0.0         0.0         0.0   \n",
      "25             0.0         0.0         0.0         0.0         0.0   \n",
      "26             0.0         0.0         0.0         0.0         0.0   \n",
      "27          2335.0         0.0         0.0         0.0         0.0   \n",
      "28           494.0         0.0         0.0         0.0         0.0   \n",
      "29             0.0         0.0         0.0         0.0         0.0   \n",
      "...            ...         ...         ...         ...         ...   \n",
      "502470         0.0         0.0         0.0         0.0         0.0   \n",
      "502471         0.0         0.0         0.0         0.0         0.0   \n",
      "502472         0.0         0.0         0.0         0.0         0.0   \n",
      "502473         0.0         0.0         0.0         0.0         0.0   \n",
      "502474         0.0         0.0         0.0         0.0         0.0   \n",
      "502475         0.0         0.0         0.0         0.0         0.0   \n",
      "502476         0.0         0.0         0.0         0.0         0.0   \n",
      "502477         0.0         0.0         0.0         0.0         0.0   \n",
      "502478         0.0         0.0         0.0         0.0         0.0   \n",
      "502479       630.0         0.0         0.0         0.0         0.0   \n",
      "502480         0.0         0.0         0.0         0.0         0.0   \n",
      "502481       226.0         0.0         0.0         0.0         0.0   \n",
      "502482         0.0         0.0         0.0         0.0         0.0   \n",
      "502483         0.0         0.0         0.0         0.0         0.0   \n",
      "502484         0.0         0.0     10181.0         0.0         0.0   \n",
      "502485         0.0         0.0         0.0         0.0         0.0   \n",
      "502486         0.0         0.0         0.0         0.0         0.0   \n",
      "502487       267.0         0.0         0.0         0.0         0.0   \n",
      "502488         0.0         0.0         0.0         0.0         0.0   \n",
      "502489         0.0         0.0         0.0         0.0         0.0   \n",
      "502490         0.0         0.0         0.0         0.0         0.0   \n",
      "502491         0.0         0.0         0.0         0.0       898.0   \n",
      "502492       666.0         0.0         0.0         0.0      1715.0   \n",
      "502493         0.0         0.0         0.0         0.0         0.0   \n",
      "502494         0.0         0.0         0.0         0.0         0.0   \n",
      "502495         0.0         0.0         0.0         0.0         0.0   \n",
      "502496         0.0         0.0         0.0         0.0         0.0   \n",
      "502497         0.0         0.0     49050.0         0.0         0.0   \n",
      "502498         0.0         0.0         0.0         0.0         0.0   \n",
      "502499         0.0         0.0         0.0         0.0         0.0   \n",
      "\n",
      "        duration27  duration28  duration29  duration30  duration31  \\\n",
      "0              0.0         0.0    122945.0         0.0      1670.0   \n",
      "1              0.0         0.0    146516.0         0.0         0.0   \n",
      "2              0.0         0.0    193092.0         0.0         0.0   \n",
      "3              0.0         0.0         0.0         0.0         0.0   \n",
      "4              0.0         0.0         0.0         0.0         0.0   \n",
      "5              0.0         0.0     66478.0         0.0     47013.0   \n",
      "6              0.0         0.0    200756.0         0.0         0.0   \n",
      "7              0.0         0.0    403003.0         0.0    141129.0   \n",
      "8              0.0         0.0         0.0         0.0         0.0   \n",
      "9              0.0         0.0    430809.0         0.0         0.0   \n",
      "10             0.0         0.0    206220.0         0.0         0.0   \n",
      "11             0.0         0.0    186034.0         0.0         0.0   \n",
      "12             0.0         0.0     95605.0         0.0         0.0   \n",
      "13             0.0         0.0     77641.0         0.0         0.0   \n",
      "14             0.0         0.0       130.0         0.0         0.0   \n",
      "15             0.0         0.0    111713.0         0.0         0.0   \n",
      "16             0.0         0.0         3.0         0.0         0.0   \n",
      "17             0.0         0.0     59925.0         0.0         0.0   \n",
      "18             0.0         0.0     47007.0         0.0         0.0   \n",
      "19             0.0         0.0     77605.0         0.0         0.0   \n",
      "20             0.0         0.0    220369.0         0.0         0.0   \n",
      "21             0.0         0.0     73609.0         0.0       122.0   \n",
      "22             0.0         0.0    528451.0         0.0         0.0   \n",
      "23             0.0         0.0    206709.0         0.0         0.0   \n",
      "24             0.0         0.0         0.0         0.0         0.0   \n",
      "25             0.0         0.0     94432.0         0.0     99326.0   \n",
      "26             0.0         0.0     27727.0         0.0         0.0   \n",
      "27             0.0         0.0    201991.0         0.0         0.0   \n",
      "28             0.0         0.0    141253.0         0.0         0.0   \n",
      "29             0.0         0.0     50770.0         0.0       128.0   \n",
      "...            ...         ...         ...         ...         ...   \n",
      "502470         0.0         0.0     28507.0         0.0      1589.0   \n",
      "502471         0.0         0.0    137590.0         0.0         0.0   \n",
      "502472         0.0         0.0         0.0         0.0         0.0   \n",
      "502473         0.0         0.0    121034.0         0.0     14395.0   \n",
      "502474         0.0         0.0         0.0         0.0         0.0   \n",
      "502475         0.0         0.0    360628.0         0.0         0.0   \n",
      "502476         0.0         0.0    154929.0         0.0         0.0   \n",
      "502477         0.0         0.0     96085.0         0.0         0.0   \n",
      "502478         0.0         0.0     50214.0         0.0         0.0   \n",
      "502479         0.0         0.0     79149.0         0.0         0.0   \n",
      "502480         0.0         0.0    156031.0         0.0      3092.0   \n",
      "502481         0.0         0.0     92154.0         0.0     47540.0   \n",
      "502482         0.0         0.0     56072.0         0.0         0.0   \n",
      "502483         0.0         0.0         0.0         0.0         0.0   \n",
      "502484         0.0         0.0    333881.0         0.0      4117.0   \n",
      "502485         0.0         0.0     79802.0         0.0         0.0   \n",
      "502486         0.0         0.0         0.0         0.0         0.0   \n",
      "502487         0.0         0.0     30116.0         0.0      4960.0   \n",
      "502488         0.0         0.0     37042.0         0.0     60116.0   \n",
      "502489         0.0         0.0     85341.0         0.0     21197.0   \n",
      "502490         0.0         0.0    155608.0         0.0         0.0   \n",
      "502491         0.0         0.0     74762.0         0.0    123433.0   \n",
      "502492         0.0         0.0    460465.0         0.0    155378.0   \n",
      "502493         0.0         0.0        20.0         0.0         0.0   \n",
      "502494         0.0         0.0     22299.0         0.0      3780.0   \n",
      "502495         0.0         0.0         0.0         0.0         0.0   \n",
      "502496         0.0         0.0         0.0         0.0         0.0   \n",
      "502497         0.0         0.0     23406.0         0.0    346096.0   \n",
      "502498         0.0         0.0         0.0         0.0         0.0   \n",
      "502499         0.0         0.0         0.0         0.0         0.0   \n",
      "\n",
      "        duration32  duration33  duration34  duration35  duration36  \\\n",
      "0              0.0      8519.0         0.0         0.0         0.0   \n",
      "1              0.0        30.0         0.0         0.0         0.0   \n",
      "2              0.0         0.0         0.0         0.0         0.0   \n",
      "3              0.0         0.0         0.0         0.0         0.0   \n",
      "4              0.0         0.0         0.0         0.0         0.0   \n",
      "5              0.0     16942.0         0.0         0.0         0.0   \n",
      "6              0.0      1427.0         0.0         0.0         0.0   \n",
      "7              0.0         0.0         0.0         0.0         0.0   \n",
      "8              0.0         0.0         0.0         0.0         0.0   \n",
      "9              0.0         0.0         0.0         0.0         0.0   \n",
      "10             0.0         0.0         0.0         0.0         0.0   \n",
      "11             0.0         0.0         0.0         0.0         0.0   \n",
      "12             0.0         0.0         0.0         0.0         0.0   \n",
      "13             0.0         0.0         0.0         0.0         0.0   \n",
      "14             0.0         0.0         0.0         0.0         0.0   \n",
      "15             0.0         0.0         0.0         0.0         0.0   \n",
      "16             0.0         0.0         0.0         0.0         0.0   \n",
      "17             0.0         0.0         0.0         0.0         0.0   \n",
      "18             0.0         0.0         0.0         0.0         0.0   \n",
      "19             0.0         0.0         0.0         0.0         0.0   \n",
      "20             0.0         0.0         0.0         0.0         0.0   \n",
      "21             0.0      3226.0         0.0         0.0         0.0   \n",
      "22             0.0         0.0         0.0         0.0         0.0   \n",
      "23             0.0         0.0         0.0         0.0         0.0   \n",
      "24             0.0         0.0         0.0         0.0         0.0   \n",
      "25             0.0         0.0         0.0         0.0         0.0   \n",
      "26             0.0         0.0         0.0         0.0         0.0   \n",
      "27             0.0      2066.0         0.0         0.0         0.0   \n",
      "28             0.0       688.0         0.0         0.0         0.0   \n",
      "29             0.0         0.0         0.0         0.0         0.0   \n",
      "...            ...         ...         ...         ...         ...   \n",
      "502470         0.0         0.0         0.0         0.0         0.0   \n",
      "502471         0.0         0.0         0.0     18508.0         0.0   \n",
      "502472         0.0         0.0         0.0         0.0         0.0   \n",
      "502473         0.0      4701.0         0.0         0.0         0.0   \n",
      "502474         0.0         0.0         0.0         0.0         0.0   \n",
      "502475         0.0      1018.0         0.0      1856.0         0.0   \n",
      "502476         0.0       159.0         0.0         0.0         0.0   \n",
      "502477         0.0         0.0         0.0         0.0         0.0   \n",
      "502478         0.0         0.0         0.0         0.0         0.0   \n",
      "502479         0.0         0.0         0.0         0.0         0.0   \n",
      "502480         0.0         0.0         0.0     80778.0         0.0   \n",
      "502481         0.0         0.0         0.0         0.0         0.0   \n",
      "502482         0.0         0.0         0.0         0.0         0.0   \n",
      "502483         0.0         0.0         0.0         0.0         0.0   \n",
      "502484         0.0       567.0         0.0     45512.0         0.0   \n",
      "502485         0.0         0.0         0.0         0.0         0.0   \n",
      "502486         0.0         0.0         0.0         0.0         0.0   \n",
      "502487         0.0         0.0         0.0      1210.0         0.0   \n",
      "502488         0.0         0.0         0.0      7271.0         0.0   \n",
      "502489         0.0       361.0         0.0         0.0         0.0   \n",
      "502490         0.0         0.0         0.0      6636.0         0.0   \n",
      "502491         0.0         0.0         0.0      6396.0         0.0   \n",
      "502492         0.0        89.0         0.0         0.0         0.0   \n",
      "502493         0.0         0.0         0.0         8.0         0.0   \n",
      "502494         0.0         0.0         0.0         0.0         0.0   \n",
      "502495         0.0         0.0         0.0         0.0         0.0   \n",
      "502496         0.0         0.0         0.0         0.0         0.0   \n",
      "502497         0.0         0.0         0.0         0.0         0.0   \n",
      "502498         0.0         0.0         0.0         0.0         0.0   \n",
      "502499         0.0         0.0         0.0         0.0         0.0   \n",
      "\n",
      "        duration37  duration38  duration39  \n",
      "0          67954.0       531.0      3346.0  \n",
      "1          37172.0     14617.0       964.0  \n",
      "2          58199.0         0.0        76.0  \n",
      "3              0.0         0.0         0.0  \n",
      "4              0.0         0.0         0.0  \n",
      "5          54895.0       597.0     10666.0  \n",
      "6           7673.0         0.0      4364.0  \n",
      "7          21629.0      1175.0         0.0  \n",
      "8              0.0         0.0         0.0  \n",
      "9             12.0         5.0      6824.0  \n",
      "10         16487.0       412.0      5938.0  \n",
      "11          6871.0         0.0      6825.0  \n",
      "12            18.0         0.0     19190.0  \n",
      "13         33743.0      1054.0      1791.0  \n",
      "14             0.0         0.0         0.0  \n",
      "15            36.0       620.0     20274.0  \n",
      "16             0.0         0.0        44.0  \n",
      "17         10987.0       386.0     16546.0  \n",
      "18          1714.0        79.0         0.0  \n",
      "19         11979.0         0.0     23077.0  \n",
      "20         11238.0       684.0      2990.0  \n",
      "21           478.0         0.0     52433.0  \n",
      "22          5352.0         0.0      1084.0  \n",
      "23           196.0         0.0        60.0  \n",
      "24             0.0         0.0         0.0  \n",
      "25             0.0         0.0      2017.0  \n",
      "26             0.0         0.0     74544.0  \n",
      "27        127921.0         0.0    190544.0  \n",
      "28         99930.0     13297.0     19414.0  \n",
      "29         23665.0         0.0      1567.0  \n",
      "...            ...         ...         ...  \n",
      "502470      6905.0         0.0         0.0  \n",
      "502471     40631.0         0.0         0.0  \n",
      "502472         0.0         0.0         0.0  \n",
      "502473     72992.0         4.0         2.0  \n",
      "502474         0.0         0.0         0.0  \n",
      "502475     25909.0     16415.0      5718.0  \n",
      "502476      6193.0      3595.0        85.0  \n",
      "502477     24188.0         0.0       126.0  \n",
      "502478     16073.0         0.0         0.0  \n",
      "502479      4287.0         0.0      1736.0  \n",
      "502480     13067.0      3273.0         0.0  \n",
      "502481     45901.0         0.0        16.0  \n",
      "502482      9507.0      2207.0         0.0  \n",
      "502483         0.0         0.0         0.0  \n",
      "502484     10157.0       376.0       654.0  \n",
      "502485       488.0       104.0      2682.0  \n",
      "502486         0.0         0.0         0.0  \n",
      "502487      2235.0         0.0         0.0  \n",
      "502488     12189.0         0.0      4906.0  \n",
      "502489      6298.0      2656.0       410.0  \n",
      "502490     23484.0       270.0         0.0  \n",
      "502491     68984.0         0.0         0.0  \n",
      "502492     29340.0      6176.0        78.0  \n",
      "502493       146.0         0.0         0.0  \n",
      "502494      4011.0         0.0         0.0  \n",
      "502495         0.0         0.0         0.0  \n",
      "502496         0.0         0.0         0.0  \n",
      "502497      1009.0         0.0         0.0  \n",
      "502498         0.0         0.0         0.0  \n",
      "502499         0.0         0.0         0.0  \n",
      "\n"
     ]
    },
    {
     "name": "stdout",
     "output_type": "stream",
     "text": [
      "[502500 rows x 113 columns]\n"
     ]
    }
   ],
   "source": [
    "print(df_train)\n",
    "print(df_test)"
   ]
  },
  {
   "cell_type": "code",
   "execution_count": 26,
   "metadata": {
    "scrolled": true
   },
   "outputs": [
    {
     "name": "stdout",
     "output_type": "stream",
     "text": [
      "开始训练模型：\n",
      "0\n",
      "training start...\n",
      "[1]\tvalid_0's multi_error: 0.701493\n",
      "Training until validation scores don't improve for 50 rounds.\n",
      "[2]\tvalid_0's multi_error: 0.676951\n",
      "[3]\tvalid_0's multi_error: 0.653935\n",
      "[4]\tvalid_0's multi_error: 0.634784\n",
      "[5]\tvalid_0's multi_error: 0.612902\n",
      "[6]\tvalid_0's multi_error: 0.59788\n",
      "[7]\tvalid_0's multi_error: 0.588113\n",
      "[8]\tvalid_0's multi_error: 0.580389\n",
      "[9]\tvalid_0's multi_error: 0.575157\n",
      "[10]\tvalid_0's multi_error: 0.570362\n",
      "[11]\tvalid_0's multi_error: 0.566151\n",
      "[12]\tvalid_0's multi_error: 0.562414\n",
      "[13]\tvalid_0's multi_error: 0.559547\n",
      "[14]\tvalid_0's multi_error: 0.556666\n",
      "[15]\tvalid_0's multi_error: 0.554274\n",
      "[16]\tvalid_0's multi_error: 0.552428\n",
      "[17]\tvalid_0's multi_error: 0.550374\n",
      "[18]\tvalid_0's multi_error: 0.548936\n",
      "[19]\tvalid_0's multi_error: 0.547435\n",
      "[20]\tvalid_0's multi_error: 0.545902\n",
      "[21]\tvalid_0's multi_error: 0.54438\n",
      "[22]\tvalid_0's multi_error: 0.542971\n",
      "[23]\tvalid_0's multi_error: 0.541547\n",
      "[24]\tvalid_0's multi_error: 0.539942\n",
      "[25]\tvalid_0's multi_error: 0.538845\n",
      "[26]\tvalid_0's multi_error: 0.537508\n",
      "[27]\tvalid_0's multi_error: 0.53649\n",
      "[28]\tvalid_0's multi_error: 0.535171\n",
      "[29]\tvalid_0's multi_error: 0.533963\n",
      "[30]\tvalid_0's multi_error: 0.532957\n",
      "[31]\tvalid_0's multi_error: 0.531719\n",
      "[32]\tvalid_0's multi_error: 0.530519\n",
      "[33]\tvalid_0's multi_error: 0.529748\n",
      "[34]\tvalid_0's multi_error: 0.528954\n",
      "[35]\tvalid_0's multi_error: 0.527834\n",
      "[36]\tvalid_0's multi_error: 0.52695\n",
      "[37]\tvalid_0's multi_error: 0.526113\n",
      "[38]\tvalid_0's multi_error: 0.525222\n",
      "[39]\tvalid_0's multi_error: 0.524538\n",
      "[40]\tvalid_0's multi_error: 0.523616\n",
      "[41]\tvalid_0's multi_error: 0.522665\n",
      "[42]\tvalid_0's multi_error: 0.521813\n",
      "[43]\tvalid_0's multi_error: 0.52138\n",
      "[44]\tvalid_0's multi_error: 0.520416\n",
      "[45]\tvalid_0's multi_error: 0.519777\n",
      "[46]\tvalid_0's multi_error: 0.518951\n",
      "[47]\tvalid_0's multi_error: 0.518622\n",
      "[48]\tvalid_0's multi_error: 0.517935\n",
      "[49]\tvalid_0's multi_error: 0.517245\n",
      "[50]\tvalid_0's multi_error: 0.516705\n",
      "[51]\tvalid_0's multi_error: 0.516084\n",
      "[52]\tvalid_0's multi_error: 0.51579\n",
      "[53]\tvalid_0's multi_error: 0.515263\n",
      "[54]\tvalid_0's multi_error: 0.514613\n",
      "[55]\tvalid_0's multi_error: 0.514186\n",
      "[56]\tvalid_0's multi_error: 0.513687\n",
      "[57]\tvalid_0's multi_error: 0.512995\n",
      "[58]\tvalid_0's multi_error: 0.512384\n",
      "[59]\tvalid_0's multi_error: 0.511977\n",
      "[60]\tvalid_0's multi_error: 0.511553\n",
      "[61]\tvalid_0's multi_error: 0.511025\n",
      "[62]\tvalid_0's multi_error: 0.510563\n",
      "[63]\tvalid_0's multi_error: 0.509916\n",
      "[64]\tvalid_0's multi_error: 0.509553\n",
      "[65]\tvalid_0's multi_error: 0.509232\n",
      "[66]\tvalid_0's multi_error: 0.508584\n",
      "[67]\tvalid_0's multi_error: 0.508344\n",
      "[68]\tvalid_0's multi_error: 0.50795\n",
      "[69]\tvalid_0's multi_error: 0.507434\n",
      "[70]\tvalid_0's multi_error: 0.50696\n",
      "[71]\tvalid_0's multi_error: 0.506593\n",
      "[72]\tvalid_0's multi_error: 0.50622\n",
      "[73]\tvalid_0's multi_error: 0.50571\n",
      "[74]\tvalid_0's multi_error: 0.50542\n",
      "[75]\tvalid_0's multi_error: 0.505066\n",
      "[76]\tvalid_0's multi_error: 0.504726\n",
      "[77]\tvalid_0's multi_error: 0.504295\n",
      "[78]\tvalid_0's multi_error: 0.504038\n",
      "[79]\tvalid_0's multi_error: 0.503811\n",
      "[80]\tvalid_0's multi_error: 0.503489\n",
      "[81]\tvalid_0's multi_error: 0.503259\n",
      "[82]\tvalid_0's multi_error: 0.50304\n",
      "[83]\tvalid_0's multi_error: 0.502632\n",
      "[84]\tvalid_0's multi_error: 0.502292\n",
      "[85]\tvalid_0's multi_error: 0.50198\n",
      "[86]\tvalid_0's multi_error: 0.501619\n",
      "[87]\tvalid_0's multi_error: 0.501363\n",
      "[88]\tvalid_0's multi_error: 0.501096\n",
      "[89]\tvalid_0's multi_error: 0.500859\n",
      "[90]\tvalid_0's multi_error: 0.500583\n",
      "[91]\tvalid_0's multi_error: 0.500453\n",
      "[92]\tvalid_0's multi_error: 0.500198\n",
      "[93]\tvalid_0's multi_error: 0.499947\n",
      "[94]\tvalid_0's multi_error: 0.499719\n",
      "[95]\tvalid_0's multi_error: 0.499641\n",
      "[96]\tvalid_0's multi_error: 0.499435\n",
      "[97]\tvalid_0's multi_error: 0.49915\n",
      "[98]\tvalid_0's multi_error: 0.498865\n",
      "[99]\tvalid_0's multi_error: 0.498568\n",
      "[100]\tvalid_0's multi_error: 0.498295\n",
      "[101]\tvalid_0's multi_error: 0.498108\n",
      "[102]\tvalid_0's multi_error: 0.497913\n",
      "[103]\tvalid_0's multi_error: 0.497623\n",
      "[104]\tvalid_0's multi_error: 0.497441\n",
      "[105]\tvalid_0's multi_error: 0.497114\n",
      "[106]\tvalid_0's multi_error: 0.497046\n",
      "[107]\tvalid_0's multi_error: 0.496643\n",
      "[108]\tvalid_0's multi_error: 0.496538\n",
      "[109]\tvalid_0's multi_error: 0.49626\n",
      "[110]\tvalid_0's multi_error: 0.496068\n",
      "[111]\tvalid_0's multi_error: 0.495905\n",
      "[112]\tvalid_0's multi_error: 0.495777\n",
      "[113]\tvalid_0's multi_error: 0.495643\n",
      "[114]\tvalid_0's multi_error: 0.495546\n",
      "[115]\tvalid_0's multi_error: 0.495456\n",
      "[116]\tvalid_0's multi_error: 0.495195\n",
      "[117]\tvalid_0's multi_error: 0.49498\n",
      "[118]\tvalid_0's multi_error: 0.494841\n",
      "[119]\tvalid_0's multi_error: 0.49484\n",
      "[120]\tvalid_0's multi_error: 0.494698\n",
      "[121]\tvalid_0's multi_error: 0.494554\n",
      "[122]\tvalid_0's multi_error: 0.494217\n",
      "[123]\tvalid_0's multi_error: 0.494117\n",
      "[124]\tvalid_0's multi_error: 0.493963\n",
      "[125]\tvalid_0's multi_error: 0.493895\n",
      "[126]\tvalid_0's multi_error: 0.493595\n",
      "[127]\tvalid_0's multi_error: 0.49349\n",
      "[128]\tvalid_0's multi_error: 0.493189\n",
      "[129]\tvalid_0's multi_error: 0.493004\n",
      "[130]\tvalid_0's multi_error: 0.492844\n",
      "[131]\tvalid_0's multi_error: 0.49272\n",
      "[132]\tvalid_0's multi_error: 0.492635\n",
      "[133]\tvalid_0's multi_error: 0.492517\n",
      "[134]\tvalid_0's multi_error: 0.492323\n",
      "[135]\tvalid_0's multi_error: 0.492183\n",
      "[136]\tvalid_0's multi_error: 0.492053\n",
      "[137]\tvalid_0's multi_error: 0.491786\n",
      "[138]\tvalid_0's multi_error: 0.49159\n",
      "[139]\tvalid_0's multi_error: 0.491359\n",
      "[140]\tvalid_0's multi_error: 0.491275\n",
      "[141]\tvalid_0's multi_error: 0.491152\n",
      "[142]\tvalid_0's multi_error: 0.490969\n",
      "[143]\tvalid_0's multi_error: 0.490923\n",
      "[144]\tvalid_0's multi_error: 0.490747\n",
      "[145]\tvalid_0's multi_error: 0.490711\n",
      "[146]\tvalid_0's multi_error: 0.490492\n",
      "[147]\tvalid_0's multi_error: 0.490398\n",
      "[148]\tvalid_0's multi_error: 0.490244\n",
      "[149]\tvalid_0's multi_error: 0.49016\n",
      "[150]\tvalid_0's multi_error: 0.490065\n",
      "[151]\tvalid_0's multi_error: 0.489914\n",
      "[152]\tvalid_0's multi_error: 0.489792\n",
      "[153]\tvalid_0's multi_error: 0.489641\n",
      "[154]\tvalid_0's multi_error: 0.489405\n",
      "[155]\tvalid_0's multi_error: 0.489383\n",
      "[156]\tvalid_0's multi_error: 0.489156\n",
      "[157]\tvalid_0's multi_error: 0.489016\n",
      "[158]\tvalid_0's multi_error: 0.488908\n",
      "[159]\tvalid_0's multi_error: 0.488808\n",
      "[160]\tvalid_0's multi_error: 0.488722\n",
      "[161]\tvalid_0's multi_error: 0.488628\n",
      "[162]\tvalid_0's multi_error: 0.488459\n",
      "[163]\tvalid_0's multi_error: 0.488392\n",
      "[164]\tvalid_0's multi_error: 0.488352\n",
      "[165]\tvalid_0's multi_error: 0.488141\n",
      "[166]\tvalid_0's multi_error: 0.487986\n",
      "[167]\tvalid_0's multi_error: 0.487819\n",
      "[168]\tvalid_0's multi_error: 0.487789\n",
      "[169]\tvalid_0's multi_error: 0.487613\n",
      "[170]\tvalid_0's multi_error: 0.487359\n",
      "[171]\tvalid_0's multi_error: 0.48729\n",
      "[172]\tvalid_0's multi_error: 0.48724\n",
      "[173]\tvalid_0's multi_error: 0.48706\n",
      "[174]\tvalid_0's multi_error: 0.486914\n",
      "[175]\tvalid_0's multi_error: 0.486814\n",
      "[176]\tvalid_0's multi_error: 0.486641\n",
      "[177]\tvalid_0's multi_error: 0.486493\n",
      "[178]\tvalid_0's multi_error: 0.486414\n",
      "[179]\tvalid_0's multi_error: 0.486329\n",
      "[180]\tvalid_0's multi_error: 0.486349\n",
      "[181]\tvalid_0's multi_error: 0.486172\n",
      "[182]\tvalid_0's multi_error: 0.486011\n",
      "[183]\tvalid_0's multi_error: 0.485944\n",
      "[184]\tvalid_0's multi_error: 0.48581\n",
      "[185]\tvalid_0's multi_error: 0.485826\n",
      "[186]\tvalid_0's multi_error: 0.485753\n",
      "[187]\tvalid_0's multi_error: 0.485675\n",
      "[188]\tvalid_0's multi_error: 0.485569\n",
      "[189]\tvalid_0's multi_error: 0.485526\n",
      "[190]\tvalid_0's multi_error: 0.48551\n",
      "[191]\tvalid_0's multi_error: 0.485484\n",
      "[192]\tvalid_0's multi_error: 0.485362\n",
      "[193]\tvalid_0's multi_error: 0.485299\n",
      "[194]\tvalid_0's multi_error: 0.485128\n",
      "[195]\tvalid_0's multi_error: 0.485107\n",
      "[196]\tvalid_0's multi_error: 0.484963\n",
      "[197]\tvalid_0's multi_error: 0.484893\n",
      "[198]\tvalid_0's multi_error: 0.484825\n",
      "[199]\tvalid_0's multi_error: 0.484756\n",
      "[200]\tvalid_0's multi_error: 0.484732\n",
      "[201]\tvalid_0's multi_error: 0.484646\n",
      "[202]\tvalid_0's multi_error: 0.484523\n",
      "[203]\tvalid_0's multi_error: 0.484453\n",
      "[204]\tvalid_0's multi_error: 0.484349\n",
      "[205]\tvalid_0's multi_error: 0.484171\n",
      "[206]\tvalid_0's multi_error: 0.484159\n",
      "[207]\tvalid_0's multi_error: 0.484098\n",
      "[208]\tvalid_0's multi_error: 0.484053\n",
      "[209]\tvalid_0's multi_error: 0.483941\n",
      "[210]\tvalid_0's multi_error: 0.483855\n",
      "[211]\tvalid_0's multi_error: 0.483808\n",
      "[212]\tvalid_0's multi_error: 0.483763\n",
      "[213]\tvalid_0's multi_error: 0.483617\n",
      "[214]\tvalid_0's multi_error: 0.483487\n",
      "[215]\tvalid_0's multi_error: 0.483428\n",
      "[216]\tvalid_0's multi_error: 0.483308\n",
      "[217]\tvalid_0's multi_error: 0.483268\n",
      "[218]\tvalid_0's multi_error: 0.483189\n",
      "[219]\tvalid_0's multi_error: 0.483155\n",
      "[220]\tvalid_0's multi_error: 0.483095\n",
      "[221]\tvalid_0's multi_error: 0.483028\n",
      "[222]\tvalid_0's multi_error: 0.482926\n",
      "[223]\tvalid_0's multi_error: 0.482935\n",
      "[224]\tvalid_0's multi_error: 0.482855\n",
      "[225]\tvalid_0's multi_error: 0.482844\n",
      "[226]\tvalid_0's multi_error: 0.482668\n",
      "[227]\tvalid_0's multi_error: 0.482572\n",
      "[228]\tvalid_0's multi_error: 0.482484\n",
      "[229]\tvalid_0's multi_error: 0.482405\n",
      "[230]\tvalid_0's multi_error: 0.482325\n",
      "[231]\tvalid_0's multi_error: 0.482301\n",
      "[232]\tvalid_0's multi_error: 0.48226\n",
      "[233]\tvalid_0's multi_error: 0.482141\n",
      "[234]\tvalid_0's multi_error: 0.482049\n",
      "[235]\tvalid_0's multi_error: 0.482032\n",
      "[236]\tvalid_0's multi_error: 0.481917\n",
      "[237]\tvalid_0's multi_error: 0.481857\n",
      "[238]\tvalid_0's multi_error: 0.481843\n",
      "[239]\tvalid_0's multi_error: 0.481769\n",
      "[240]\tvalid_0's multi_error: 0.481726\n",
      "[241]\tvalid_0's multi_error: 0.481565\n",
      "[242]\tvalid_0's multi_error: 0.481571\n",
      "[243]\tvalid_0's multi_error: 0.481505\n",
      "[244]\tvalid_0's multi_error: 0.481413\n",
      "[245]\tvalid_0's multi_error: 0.481292\n",
      "[246]\tvalid_0's multi_error: 0.481129\n",
      "[247]\tvalid_0's multi_error: 0.481178\n",
      "[248]\tvalid_0's multi_error: 0.481065\n",
      "[249]\tvalid_0's multi_error: 0.481019\n",
      "[250]\tvalid_0's multi_error: 0.480934\n",
      "[251]\tvalid_0's multi_error: 0.480825\n",
      "[252]\tvalid_0's multi_error: 0.480786\n",
      "[253]\tvalid_0's multi_error: 0.480726\n",
      "[254]\tvalid_0's multi_error: 0.480666\n",
      "[255]\tvalid_0's multi_error: 0.480566\n",
      "[256]\tvalid_0's multi_error: 0.480574\n",
      "[257]\tvalid_0's multi_error: 0.480592\n",
      "[258]\tvalid_0's multi_error: 0.480375\n",
      "[259]\tvalid_0's multi_error: 0.480305\n",
      "[260]\tvalid_0's multi_error: 0.480305\n",
      "[261]\tvalid_0's multi_error: 0.480343\n",
      "[262]\tvalid_0's multi_error: 0.480343\n",
      "[263]\tvalid_0's multi_error: 0.480272\n",
      "[264]\tvalid_0's multi_error: 0.480208\n",
      "[265]\tvalid_0's multi_error: 0.480175\n",
      "[266]\tvalid_0's multi_error: 0.480065\n",
      "[267]\tvalid_0's multi_error: 0.480004\n",
      "[268]\tvalid_0's multi_error: 0.480029\n",
      "[269]\tvalid_0's multi_error: 0.479956\n",
      "[270]\tvalid_0's multi_error: 0.479917\n",
      "[271]\tvalid_0's multi_error: 0.479835\n",
      "[272]\tvalid_0's multi_error: 0.479841\n",
      "[273]\tvalid_0's multi_error: 0.479759\n",
      "[274]\tvalid_0's multi_error: 0.479777\n",
      "[275]\tvalid_0's multi_error: 0.479701\n",
      "[276]\tvalid_0's multi_error: 0.479669\n",
      "[277]\tvalid_0's multi_error: 0.479562\n",
      "[278]\tvalid_0's multi_error: 0.479481\n",
      "[279]\tvalid_0's multi_error: 0.479468\n",
      "[280]\tvalid_0's multi_error: 0.479446\n",
      "[281]\tvalid_0's multi_error: 0.479347\n",
      "[282]\tvalid_0's multi_error: 0.479238\n",
      "[283]\tvalid_0's multi_error: 0.479234\n",
      "[284]\tvalid_0's multi_error: 0.479174\n",
      "[285]\tvalid_0's multi_error: 0.47916\n",
      "[286]\tvalid_0's multi_error: 0.479204\n",
      "[287]\tvalid_0's multi_error: 0.479104\n",
      "[288]\tvalid_0's multi_error: 0.479101\n",
      "[289]\tvalid_0's multi_error: 0.479069\n",
      "[290]\tvalid_0's multi_error: 0.478946\n",
      "[291]\tvalid_0's multi_error: 0.478904\n",
      "[292]\tvalid_0's multi_error: 0.478899\n",
      "[293]\tvalid_0's multi_error: 0.478774\n",
      "[294]\tvalid_0's multi_error: 0.478728\n",
      "[295]\tvalid_0's multi_error: 0.478649\n",
      "[296]\tvalid_0's multi_error: 0.478665\n",
      "[297]\tvalid_0's multi_error: 0.478629\n",
      "[298]\tvalid_0's multi_error: 0.478526\n",
      "[299]\tvalid_0's multi_error: 0.478519\n",
      "[300]\tvalid_0's multi_error: 0.47858\n",
      "[301]\tvalid_0's multi_error: 0.478452\n",
      "[302]\tvalid_0's multi_error: 0.478389\n",
      "[303]\tvalid_0's multi_error: 0.478374\n",
      "[304]\tvalid_0's multi_error: 0.478311\n",
      "[305]\tvalid_0's multi_error: 0.47825\n",
      "[306]\tvalid_0's multi_error: 0.478269\n",
      "[307]\tvalid_0's multi_error: 0.478249\n",
      "[308]\tvalid_0's multi_error: 0.47822\n",
      "[309]\tvalid_0's multi_error: 0.478116\n",
      "[310]\tvalid_0's multi_error: 0.478093\n",
      "[311]\tvalid_0's multi_error: 0.478046\n",
      "[312]\tvalid_0's multi_error: 0.478074\n",
      "[313]\tvalid_0's multi_error: 0.477963\n",
      "[314]\tvalid_0's multi_error: 0.477971\n",
      "[315]\tvalid_0's multi_error: 0.477841\n",
      "[316]\tvalid_0's multi_error: 0.477843\n",
      "[317]\tvalid_0's multi_error: 0.477816\n",
      "[318]\tvalid_0's multi_error: 0.477831\n",
      "[319]\tvalid_0's multi_error: 0.477735\n",
      "[320]\tvalid_0's multi_error: 0.477772\n",
      "[321]\tvalid_0's multi_error: 0.477707\n",
      "[322]\tvalid_0's multi_error: 0.477595\n",
      "[323]\tvalid_0's multi_error: 0.477559\n",
      "[324]\tvalid_0's multi_error: 0.477541\n",
      "[325]\tvalid_0's multi_error: 0.477507\n",
      "[326]\tvalid_0's multi_error: 0.477575\n",
      "[327]\tvalid_0's multi_error: 0.477519\n",
      "[328]\tvalid_0's multi_error: 0.477463\n",
      "[329]\tvalid_0's multi_error: 0.47746\n",
      "[330]\tvalid_0's multi_error: 0.477392\n",
      "[331]\tvalid_0's multi_error: 0.477366\n",
      "[332]\tvalid_0's multi_error: 0.477329\n",
      "[333]\tvalid_0's multi_error: 0.47734\n",
      "[334]\tvalid_0's multi_error: 0.477225\n",
      "[335]\tvalid_0's multi_error: 0.477192\n",
      "[336]\tvalid_0's multi_error: 0.477147\n",
      "[337]\tvalid_0's multi_error: 0.477138\n",
      "[338]\tvalid_0's multi_error: 0.477131\n",
      "[339]\tvalid_0's multi_error: 0.477143\n",
      "[340]\tvalid_0's multi_error: 0.477093\n",
      "[341]\tvalid_0's multi_error: 0.477043\n",
      "[342]\tvalid_0's multi_error: 0.476955\n",
      "[343]\tvalid_0's multi_error: 0.476853\n",
      "[344]\tvalid_0's multi_error: 0.476863\n",
      "[345]\tvalid_0's multi_error: 0.47672\n",
      "[346]\tvalid_0's multi_error: 0.47676\n",
      "[347]\tvalid_0's multi_error: 0.476696\n",
      "[348]\tvalid_0's multi_error: 0.476674\n",
      "[349]\tvalid_0's multi_error: 0.476731\n",
      "[350]\tvalid_0's multi_error: 0.476753\n",
      "[351]\tvalid_0's multi_error: 0.476699\n",
      "[352]\tvalid_0's multi_error: 0.476631\n",
      "[353]\tvalid_0's multi_error: 0.476643\n",
      "[354]\tvalid_0's multi_error: 0.476657\n",
      "[355]\tvalid_0's multi_error: 0.476653\n",
      "[356]\tvalid_0's multi_error: 0.476617\n",
      "[357]\tvalid_0's multi_error: 0.476602\n",
      "[358]\tvalid_0's multi_error: 0.476532\n",
      "[359]\tvalid_0's multi_error: 0.476563\n",
      "[360]\tvalid_0's multi_error: 0.476607\n",
      "[361]\tvalid_0's multi_error: 0.476568\n",
      "[362]\tvalid_0's multi_error: 0.47651\n",
      "[363]\tvalid_0's multi_error: 0.476508\n",
      "[364]\tvalid_0's multi_error: 0.476477\n",
      "[365]\tvalid_0's multi_error: 0.476422\n",
      "[366]\tvalid_0's multi_error: 0.476411\n",
      "[367]\tvalid_0's multi_error: 0.476374\n",
      "[368]\tvalid_0's multi_error: 0.476326\n",
      "[369]\tvalid_0's multi_error: 0.476381\n",
      "[370]\tvalid_0's multi_error: 0.476363\n",
      "[371]\tvalid_0's multi_error: 0.476241\n",
      "[372]\tvalid_0's multi_error: 0.476284\n",
      "[373]\tvalid_0's multi_error: 0.476249\n",
      "[374]\tvalid_0's multi_error: 0.476192\n",
      "[375]\tvalid_0's multi_error: 0.476195\n",
      "[376]\tvalid_0's multi_error: 0.476175\n",
      "[377]\tvalid_0's multi_error: 0.476123\n",
      "[378]\tvalid_0's multi_error: 0.476095\n",
      "[379]\tvalid_0's multi_error: 0.476081\n",
      "[380]\tvalid_0's multi_error: 0.476034\n",
      "[381]\tvalid_0's multi_error: 0.476005\n",
      "[382]\tvalid_0's multi_error: 0.475944\n",
      "[383]\tvalid_0's multi_error: 0.475907\n",
      "[384]\tvalid_0's multi_error: 0.475868\n",
      "[385]\tvalid_0's multi_error: 0.475855\n",
      "[386]\tvalid_0's multi_error: 0.475774\n",
      "[387]\tvalid_0's multi_error: 0.475771\n",
      "[388]\tvalid_0's multi_error: 0.475716\n",
      "[389]\tvalid_0's multi_error: 0.475722\n",
      "[390]\tvalid_0's multi_error: 0.475708\n",
      "[391]\tvalid_0's multi_error: 0.475641\n",
      "[392]\tvalid_0's multi_error: 0.475629\n",
      "[393]\tvalid_0's multi_error: 0.475629\n",
      "[394]\tvalid_0's multi_error: 0.475634\n",
      "[395]\tvalid_0's multi_error: 0.475544\n",
      "[396]\tvalid_0's multi_error: 0.475508\n",
      "[397]\tvalid_0's multi_error: 0.475549\n",
      "[398]\tvalid_0's multi_error: 0.475514\n",
      "[399]\tvalid_0's multi_error: 0.475523\n",
      "[400]\tvalid_0's multi_error: 0.475472\n",
      "[401]\tvalid_0's multi_error: 0.475435\n",
      "[402]\tvalid_0's multi_error: 0.475434\n",
      "[403]\tvalid_0's multi_error: 0.475434\n",
      "[404]\tvalid_0's multi_error: 0.475414\n",
      "[405]\tvalid_0's multi_error: 0.475375\n",
      "[406]\tvalid_0's multi_error: 0.47545\n",
      "[407]\tvalid_0's multi_error: 0.475377\n",
      "[408]\tvalid_0's multi_error: 0.475389\n",
      "[409]\tvalid_0's multi_error: 0.475355\n",
      "[410]\tvalid_0's multi_error: 0.475296\n",
      "[411]\tvalid_0's multi_error: 0.475269\n",
      "[412]\tvalid_0's multi_error: 0.475274\n",
      "[413]\tvalid_0's multi_error: 0.475238\n",
      "[414]\tvalid_0's multi_error: 0.475213\n",
      "[415]\tvalid_0's multi_error: 0.475199\n",
      "[416]\tvalid_0's multi_error: 0.475149\n",
      "[417]\tvalid_0's multi_error: 0.475101\n",
      "[418]\tvalid_0's multi_error: 0.475032\n",
      "[419]\tvalid_0's multi_error: 0.475066\n",
      "[420]\tvalid_0's multi_error: 0.475053\n",
      "[421]\tvalid_0's multi_error: 0.475031\n",
      "[422]\tvalid_0's multi_error: 0.475031\n",
      "[423]\tvalid_0's multi_error: 0.475001\n",
      "[424]\tvalid_0's multi_error: 0.474972\n",
      "[425]\tvalid_0's multi_error: 0.474932\n",
      "[426]\tvalid_0's multi_error: 0.474919\n",
      "[427]\tvalid_0's multi_error: 0.474875\n",
      "[428]\tvalid_0's multi_error: 0.474905\n",
      "[429]\tvalid_0's multi_error: 0.474847\n",
      "[430]\tvalid_0's multi_error: 0.474793\n",
      "[431]\tvalid_0's multi_error: 0.47478\n"
     ]
    },
    {
     "name": "stdout",
     "output_type": "stream",
     "text": [
      "[432]\tvalid_0's multi_error: 0.47478\n",
      "[433]\tvalid_0's multi_error: 0.474743\n",
      "[434]\tvalid_0's multi_error: 0.474772\n",
      "[435]\tvalid_0's multi_error: 0.474769\n",
      "[436]\tvalid_0's multi_error: 0.474759\n",
      "[437]\tvalid_0's multi_error: 0.474762\n",
      "[438]\tvalid_0's multi_error: 0.474753\n",
      "[439]\tvalid_0's multi_error: 0.474732\n",
      "[440]\tvalid_0's multi_error: 0.474747\n",
      "[441]\tvalid_0's multi_error: 0.47476\n",
      "[442]\tvalid_0's multi_error: 0.474789\n",
      "[443]\tvalid_0's multi_error: 0.474775\n",
      "[444]\tvalid_0's multi_error: 0.474752\n",
      "[445]\tvalid_0's multi_error: 0.47475\n",
      "[446]\tvalid_0's multi_error: 0.474784\n",
      "[447]\tvalid_0's multi_error: 0.474725\n",
      "[448]\tvalid_0's multi_error: 0.474687\n",
      "[449]\tvalid_0's multi_error: 0.474658\n",
      "[450]\tvalid_0's multi_error: 0.474566\n",
      "[451]\tvalid_0's multi_error: 0.474555\n",
      "[452]\tvalid_0's multi_error: 0.474547\n",
      "[453]\tvalid_0's multi_error: 0.474575\n",
      "[454]\tvalid_0's multi_error: 0.474566\n",
      "[455]\tvalid_0's multi_error: 0.474526\n",
      "[456]\tvalid_0's multi_error: 0.47455\n",
      "[457]\tvalid_0's multi_error: 0.474549\n",
      "[458]\tvalid_0's multi_error: 0.474462\n",
      "[459]\tvalid_0's multi_error: 0.474377\n",
      "[460]\tvalid_0's multi_error: 0.474384\n",
      "[461]\tvalid_0's multi_error: 0.47441\n",
      "[462]\tvalid_0's multi_error: 0.47441\n",
      "[463]\tvalid_0's multi_error: 0.474369\n",
      "[464]\tvalid_0's multi_error: 0.474311\n",
      "[465]\tvalid_0's multi_error: 0.474396\n",
      "[466]\tvalid_0's multi_error: 0.474349\n",
      "[467]\tvalid_0's multi_error: 0.474277\n",
      "[468]\tvalid_0's multi_error: 0.474349\n",
      "[469]\tvalid_0's multi_error: 0.47428\n",
      "[470]\tvalid_0's multi_error: 0.474244\n",
      "[471]\tvalid_0's multi_error: 0.474207\n",
      "[472]\tvalid_0's multi_error: 0.474219\n",
      "[473]\tvalid_0's multi_error: 0.474211\n",
      "[474]\tvalid_0's multi_error: 0.474228\n",
      "[475]\tvalid_0's multi_error: 0.474234\n",
      "[476]\tvalid_0's multi_error: 0.474258\n",
      "[477]\tvalid_0's multi_error: 0.474186\n",
      "[478]\tvalid_0's multi_error: 0.474184\n",
      "[479]\tvalid_0's multi_error: 0.474152\n",
      "[480]\tvalid_0's multi_error: 0.474089\n",
      "[481]\tvalid_0's multi_error: 0.47408\n",
      "[482]\tvalid_0's multi_error: 0.47401\n",
      "[483]\tvalid_0's multi_error: 0.474019\n",
      "[484]\tvalid_0's multi_error: 0.474017\n",
      "[485]\tvalid_0's multi_error: 0.474069\n",
      "[486]\tvalid_0's multi_error: 0.47401\n",
      "[487]\tvalid_0's multi_error: 0.474022\n",
      "[488]\tvalid_0's multi_error: 0.473984\n",
      "[489]\tvalid_0's multi_error: 0.473968\n",
      "[490]\tvalid_0's multi_error: 0.474017\n",
      "[491]\tvalid_0's multi_error: 0.473993\n",
      "[492]\tvalid_0's multi_error: 0.473958\n",
      "[493]\tvalid_0's multi_error: 0.473955\n",
      "[494]\tvalid_0's multi_error: 0.47394\n",
      "[495]\tvalid_0's multi_error: 0.473955\n",
      "[496]\tvalid_0's multi_error: 0.473905\n",
      "[497]\tvalid_0's multi_error: 0.473889\n",
      "[498]\tvalid_0's multi_error: 0.47392\n",
      "[499]\tvalid_0's multi_error: 0.473923\n",
      "[500]\tvalid_0's multi_error: 0.473919\n",
      "[501]\tvalid_0's multi_error: 0.473878\n",
      "[502]\tvalid_0's multi_error: 0.473877\n",
      "[503]\tvalid_0's multi_error: 0.473858\n",
      "[504]\tvalid_0's multi_error: 0.473868\n",
      "[505]\tvalid_0's multi_error: 0.473805\n",
      "[506]\tvalid_0's multi_error: 0.473819\n",
      "[507]\tvalid_0's multi_error: 0.473813\n",
      "[508]\tvalid_0's multi_error: 0.473795\n",
      "[509]\tvalid_0's multi_error: 0.473775\n",
      "[510]\tvalid_0's multi_error: 0.473734\n",
      "[511]\tvalid_0's multi_error: 0.473744\n",
      "[512]\tvalid_0's multi_error: 0.473702\n",
      "[513]\tvalid_0's multi_error: 0.473714\n",
      "[514]\tvalid_0's multi_error: 0.473713\n",
      "[515]\tvalid_0's multi_error: 0.473699\n",
      "[516]\tvalid_0's multi_error: 0.473663\n",
      "[517]\tvalid_0's multi_error: 0.473647\n",
      "[518]\tvalid_0's multi_error: 0.473653\n",
      "[519]\tvalid_0's multi_error: 0.473662\n",
      "[520]\tvalid_0's multi_error: 0.473641\n",
      "[521]\tvalid_0's multi_error: 0.473638\n",
      "[522]\tvalid_0's multi_error: 0.47365\n",
      "[523]\tvalid_0's multi_error: 0.473655\n",
      "[524]\tvalid_0's multi_error: 0.473601\n",
      "[525]\tvalid_0's multi_error: 0.473599\n",
      "[526]\tvalid_0's multi_error: 0.473532\n",
      "[527]\tvalid_0's multi_error: 0.473525\n",
      "[528]\tvalid_0's multi_error: 0.473525\n",
      "[529]\tvalid_0's multi_error: 0.47354\n",
      "[530]\tvalid_0's multi_error: 0.473498\n",
      "[531]\tvalid_0's multi_error: 0.47346\n",
      "[532]\tvalid_0's multi_error: 0.473408\n",
      "[533]\tvalid_0's multi_error: 0.473458\n",
      "[534]\tvalid_0's multi_error: 0.473463\n",
      "[535]\tvalid_0's multi_error: 0.47349\n",
      "[536]\tvalid_0's multi_error: 0.473484\n",
      "[537]\tvalid_0's multi_error: 0.473443\n",
      "[538]\tvalid_0's multi_error: 0.473384\n",
      "[539]\tvalid_0's multi_error: 0.473389\n",
      "[540]\tvalid_0's multi_error: 0.473392\n",
      "[541]\tvalid_0's multi_error: 0.473378\n",
      "[542]\tvalid_0's multi_error: 0.473317\n",
      "[543]\tvalid_0's multi_error: 0.473301\n",
      "[544]\tvalid_0's multi_error: 0.473286\n",
      "[545]\tvalid_0's multi_error: 0.47329\n",
      "[546]\tvalid_0's multi_error: 0.47324\n",
      "[547]\tvalid_0's multi_error: 0.47321\n",
      "[548]\tvalid_0's multi_error: 0.473225\n",
      "[549]\tvalid_0's multi_error: 0.473247\n",
      "[550]\tvalid_0's multi_error: 0.473235\n",
      "[551]\tvalid_0's multi_error: 0.473184\n",
      "[552]\tvalid_0's multi_error: 0.47311\n",
      "[553]\tvalid_0's multi_error: 0.473086\n",
      "[554]\tvalid_0's multi_error: 0.473084\n",
      "[555]\tvalid_0's multi_error: 0.473058\n",
      "[556]\tvalid_0's multi_error: 0.473056\n",
      "[557]\tvalid_0's multi_error: 0.473007\n",
      "[558]\tvalid_0's multi_error: 0.473011\n",
      "[559]\tvalid_0's multi_error: 0.473007\n",
      "[560]\tvalid_0's multi_error: 0.472978\n",
      "[561]\tvalid_0's multi_error: 0.47296\n",
      "[562]\tvalid_0's multi_error: 0.47298\n",
      "[563]\tvalid_0's multi_error: 0.472975\n",
      "[564]\tvalid_0's multi_error: 0.472929\n",
      "[565]\tvalid_0's multi_error: 0.47298\n",
      "[566]\tvalid_0's multi_error: 0.472981\n",
      "[567]\tvalid_0's multi_error: 0.472923\n",
      "[568]\tvalid_0's multi_error: 0.472956\n",
      "[569]\tvalid_0's multi_error: 0.472914\n",
      "[570]\tvalid_0's multi_error: 0.472902\n",
      "[571]\tvalid_0's multi_error: 0.472877\n",
      "[572]\tvalid_0's multi_error: 0.472871\n",
      "[573]\tvalid_0's multi_error: 0.472872\n",
      "[574]\tvalid_0's multi_error: 0.472846\n",
      "[575]\tvalid_0's multi_error: 0.472853\n",
      "[576]\tvalid_0's multi_error: 0.472862\n",
      "[577]\tvalid_0's multi_error: 0.472875\n",
      "[578]\tvalid_0's multi_error: 0.472871\n",
      "[579]\tvalid_0's multi_error: 0.472884\n",
      "[580]\tvalid_0's multi_error: 0.472875\n",
      "[581]\tvalid_0's multi_error: 0.472868\n",
      "[582]\tvalid_0's multi_error: 0.472837\n",
      "[583]\tvalid_0's multi_error: 0.472805\n",
      "[584]\tvalid_0's multi_error: 0.472802\n",
      "[585]\tvalid_0's multi_error: 0.472772\n",
      "[586]\tvalid_0's multi_error: 0.472811\n",
      "[587]\tvalid_0's multi_error: 0.472819\n",
      "[588]\tvalid_0's multi_error: 0.472819\n",
      "[589]\tvalid_0's multi_error: 0.472799\n",
      "[590]\tvalid_0's multi_error: 0.472777\n",
      "[591]\tvalid_0's multi_error: 0.472725\n",
      "[592]\tvalid_0's multi_error: 0.472698\n",
      "[593]\tvalid_0's multi_error: 0.472662\n",
      "[594]\tvalid_0's multi_error: 0.472668\n",
      "[595]\tvalid_0's multi_error: 0.472687\n",
      "[596]\tvalid_0's multi_error: 0.472734\n",
      "[597]\tvalid_0's multi_error: 0.472726\n",
      "[598]\tvalid_0's multi_error: 0.472711\n",
      "[599]\tvalid_0's multi_error: 0.472659\n",
      "[600]\tvalid_0's multi_error: 0.472646\n",
      "[601]\tvalid_0's multi_error: 0.472608\n",
      "[602]\tvalid_0's multi_error: 0.472631\n",
      "[603]\tvalid_0's multi_error: 0.472637\n",
      "[604]\tvalid_0's multi_error: 0.472607\n",
      "[605]\tvalid_0's multi_error: 0.472575\n",
      "[606]\tvalid_0's multi_error: 0.472625\n",
      "[607]\tvalid_0's multi_error: 0.472655\n",
      "[608]\tvalid_0's multi_error: 0.472686\n",
      "[609]\tvalid_0's multi_error: 0.472677\n",
      "[610]\tvalid_0's multi_error: 0.472711\n",
      "[611]\tvalid_0's multi_error: 0.472716\n",
      "[612]\tvalid_0's multi_error: 0.472707\n",
      "[613]\tvalid_0's multi_error: 0.472653\n",
      "[614]\tvalid_0's multi_error: 0.472613\n",
      "[615]\tvalid_0's multi_error: 0.472605\n",
      "[616]\tvalid_0's multi_error: 0.47256\n",
      "[617]\tvalid_0's multi_error: 0.472541\n",
      "[618]\tvalid_0's multi_error: 0.472587\n",
      "[619]\tvalid_0's multi_error: 0.47262\n",
      "[620]\tvalid_0's multi_error: 0.472644\n",
      "[621]\tvalid_0's multi_error: 0.472617\n",
      "[622]\tvalid_0's multi_error: 0.47262\n",
      "[623]\tvalid_0's multi_error: 0.472599\n",
      "[624]\tvalid_0's multi_error: 0.472556\n",
      "[625]\tvalid_0's multi_error: 0.472543\n",
      "[626]\tvalid_0's multi_error: 0.472484\n",
      "[627]\tvalid_0's multi_error: 0.472453\n",
      "[628]\tvalid_0's multi_error: 0.472459\n",
      "[629]\tvalid_0's multi_error: 0.472487\n",
      "[630]\tvalid_0's multi_error: 0.472468\n",
      "[631]\tvalid_0's multi_error: 0.472463\n",
      "[632]\tvalid_0's multi_error: 0.472428\n",
      "[633]\tvalid_0's multi_error: 0.472483\n",
      "[634]\tvalid_0's multi_error: 0.472465\n",
      "[635]\tvalid_0's multi_error: 0.472453\n",
      "[636]\tvalid_0's multi_error: 0.472452\n",
      "[637]\tvalid_0's multi_error: 0.47241\n",
      "[638]\tvalid_0's multi_error: 0.472426\n",
      "[639]\tvalid_0's multi_error: 0.47239\n",
      "[640]\tvalid_0's multi_error: 0.472402\n",
      "[641]\tvalid_0's multi_error: 0.472407\n",
      "[642]\tvalid_0's multi_error: 0.472395\n",
      "[643]\tvalid_0's multi_error: 0.472399\n",
      "[644]\tvalid_0's multi_error: 0.472399\n",
      "[645]\tvalid_0's multi_error: 0.472369\n",
      "[646]\tvalid_0's multi_error: 0.472349\n",
      "[647]\tvalid_0's multi_error: 0.472366\n",
      "[648]\tvalid_0's multi_error: 0.472344\n",
      "[649]\tvalid_0's multi_error: 0.472319\n",
      "[650]\tvalid_0's multi_error: 0.472286\n",
      "[651]\tvalid_0's multi_error: 0.472299\n",
      "[652]\tvalid_0's multi_error: 0.472286\n",
      "[653]\tvalid_0's multi_error: 0.47226\n",
      "[654]\tvalid_0's multi_error: 0.472244\n",
      "[655]\tvalid_0's multi_error: 0.472296\n",
      "[656]\tvalid_0's multi_error: 0.472322\n",
      "[657]\tvalid_0's multi_error: 0.472334\n",
      "[658]\tvalid_0's multi_error: 0.472286\n",
      "[659]\tvalid_0's multi_error: 0.472232\n",
      "[660]\tvalid_0's multi_error: 0.472222\n",
      "[661]\tvalid_0's multi_error: 0.472246\n",
      "[662]\tvalid_0's multi_error: 0.472266\n",
      "[663]\tvalid_0's multi_error: 0.472269\n",
      "[664]\tvalid_0's multi_error: 0.47222\n",
      "[665]\tvalid_0's multi_error: 0.47221\n",
      "[666]\tvalid_0's multi_error: 0.472183\n",
      "[667]\tvalid_0's multi_error: 0.47214\n",
      "[668]\tvalid_0's multi_error: 0.472174\n",
      "[669]\tvalid_0's multi_error: 0.472153\n",
      "[670]\tvalid_0's multi_error: 0.472159\n",
      "[671]\tvalid_0's multi_error: 0.472168\n",
      "[672]\tvalid_0's multi_error: 0.472195\n",
      "[673]\tvalid_0's multi_error: 0.472169\n",
      "[674]\tvalid_0's multi_error: 0.472178\n",
      "[675]\tvalid_0's multi_error: 0.472155\n",
      "[676]\tvalid_0's multi_error: 0.472183\n",
      "[677]\tvalid_0's multi_error: 0.472193\n",
      "[678]\tvalid_0's multi_error: 0.472138\n",
      "[679]\tvalid_0's multi_error: 0.472169\n",
      "[680]\tvalid_0's multi_error: 0.472105\n",
      "[681]\tvalid_0's multi_error: 0.47214\n",
      "[682]\tvalid_0's multi_error: 0.472105\n",
      "[683]\tvalid_0's multi_error: 0.472113\n",
      "[684]\tvalid_0's multi_error: 0.472116\n",
      "[685]\tvalid_0's multi_error: 0.472113\n",
      "[686]\tvalid_0's multi_error: 0.472074\n",
      "[687]\tvalid_0's multi_error: 0.472069\n",
      "[688]\tvalid_0's multi_error: 0.472065\n",
      "[689]\tvalid_0's multi_error: 0.47204\n",
      "[690]\tvalid_0's multi_error: 0.472023\n",
      "[691]\tvalid_0's multi_error: 0.471987\n",
      "[692]\tvalid_0's multi_error: 0.472031\n",
      "[693]\tvalid_0's multi_error: 0.472028\n",
      "[694]\tvalid_0's multi_error: 0.472044\n",
      "[695]\tvalid_0's multi_error: 0.472049\n",
      "[696]\tvalid_0's multi_error: 0.472089\n",
      "[697]\tvalid_0's multi_error: 0.472078\n",
      "[698]\tvalid_0's multi_error: 0.472071\n",
      "[699]\tvalid_0's multi_error: 0.472068\n",
      "[700]\tvalid_0's multi_error: 0.472002\n",
      "[701]\tvalid_0's multi_error: 0.471963\n",
      "[702]\tvalid_0's multi_error: 0.471893\n",
      "[703]\tvalid_0's multi_error: 0.471881\n",
      "[704]\tvalid_0's multi_error: 0.471855\n",
      "[705]\tvalid_0's multi_error: 0.471865\n",
      "[706]\tvalid_0's multi_error: 0.47186\n",
      "[707]\tvalid_0's multi_error: 0.471837\n",
      "[708]\tvalid_0's multi_error: 0.471829\n",
      "[709]\tvalid_0's multi_error: 0.471798\n",
      "[710]\tvalid_0's multi_error: 0.47179\n",
      "[711]\tvalid_0's multi_error: 0.471807\n",
      "[712]\tvalid_0's multi_error: 0.471795\n",
      "[713]\tvalid_0's multi_error: 0.471804\n",
      "[714]\tvalid_0's multi_error: 0.471795\n",
      "[715]\tvalid_0's multi_error: 0.471771\n",
      "[716]\tvalid_0's multi_error: 0.471758\n",
      "[717]\tvalid_0's multi_error: 0.47176\n",
      "[718]\tvalid_0's multi_error: 0.47175\n",
      "[719]\tvalid_0's multi_error: 0.471735\n",
      "[720]\tvalid_0's multi_error: 0.471716\n",
      "[721]\tvalid_0's multi_error: 0.471756\n",
      "[722]\tvalid_0's multi_error: 0.471792\n",
      "[723]\tvalid_0's multi_error: 0.471786\n",
      "[724]\tvalid_0's multi_error: 0.471798\n",
      "[725]\tvalid_0's multi_error: 0.471798\n",
      "[726]\tvalid_0's multi_error: 0.47176\n",
      "[727]\tvalid_0's multi_error: 0.471768\n",
      "[728]\tvalid_0's multi_error: 0.471766\n",
      "[729]\tvalid_0's multi_error: 0.471784\n",
      "[730]\tvalid_0's multi_error: 0.471731\n",
      "[731]\tvalid_0's multi_error: 0.47174\n",
      "[732]\tvalid_0's multi_error: 0.471743\n",
      "[733]\tvalid_0's multi_error: 0.471711\n",
      "[734]\tvalid_0's multi_error: 0.471699\n",
      "[735]\tvalid_0's multi_error: 0.471668\n",
      "[736]\tvalid_0's multi_error: 0.471728\n",
      "[737]\tvalid_0's multi_error: 0.471713\n",
      "[738]\tvalid_0's multi_error: 0.47172\n",
      "[739]\tvalid_0's multi_error: 0.471702\n",
      "[740]\tvalid_0's multi_error: 0.471732\n",
      "[741]\tvalid_0's multi_error: 0.471617\n",
      "[742]\tvalid_0's multi_error: 0.471604\n",
      "[743]\tvalid_0's multi_error: 0.471586\n",
      "[744]\tvalid_0's multi_error: 0.471555\n",
      "[745]\tvalid_0's multi_error: 0.47162\n",
      "[746]\tvalid_0's multi_error: 0.471631\n",
      "[747]\tvalid_0's multi_error: 0.47159\n",
      "[748]\tvalid_0's multi_error: 0.471605\n",
      "[749]\tvalid_0's multi_error: 0.471559\n",
      "[750]\tvalid_0's multi_error: 0.471562\n",
      "[751]\tvalid_0's multi_error: 0.471514\n",
      "[752]\tvalid_0's multi_error: 0.471507\n",
      "[753]\tvalid_0's multi_error: 0.471529\n",
      "[754]\tvalid_0's multi_error: 0.471549\n",
      "[755]\tvalid_0's multi_error: 0.471519\n",
      "[756]\tvalid_0's multi_error: 0.471526\n",
      "[757]\tvalid_0's multi_error: 0.471566\n",
      "[758]\tvalid_0's multi_error: 0.471605\n",
      "[759]\tvalid_0's multi_error: 0.471602\n",
      "[760]\tvalid_0's multi_error: 0.471613\n",
      "[761]\tvalid_0's multi_error: 0.471605\n",
      "[762]\tvalid_0's multi_error: 0.471563\n",
      "[763]\tvalid_0's multi_error: 0.471516\n",
      "[764]\tvalid_0's multi_error: 0.471553\n",
      "[765]\tvalid_0's multi_error: 0.471519\n",
      "[766]\tvalid_0's multi_error: 0.47149\n",
      "[767]\tvalid_0's multi_error: 0.471472\n",
      "[768]\tvalid_0's multi_error: 0.471434\n",
      "[769]\tvalid_0's multi_error: 0.471435\n",
      "[770]\tvalid_0's multi_error: 0.471468\n",
      "[771]\tvalid_0's multi_error: 0.471484\n",
      "[772]\tvalid_0's multi_error: 0.47149\n",
      "[773]\tvalid_0's multi_error: 0.471492\n",
      "[774]\tvalid_0's multi_error: 0.471455\n",
      "[775]\tvalid_0's multi_error: 0.471465\n",
      "[776]\tvalid_0's multi_error: 0.471452\n",
      "[777]\tvalid_0's multi_error: 0.471441\n",
      "[778]\tvalid_0's multi_error: 0.471396\n",
      "[779]\tvalid_0's multi_error: 0.471375\n",
      "[780]\tvalid_0's multi_error: 0.471304\n",
      "[781]\tvalid_0's multi_error: 0.471307\n",
      "[782]\tvalid_0's multi_error: 0.471346\n",
      "[783]\tvalid_0's multi_error: 0.471326\n",
      "[784]\tvalid_0's multi_error: 0.471356\n",
      "[785]\tvalid_0's multi_error: 0.471314\n",
      "[786]\tvalid_0's multi_error: 0.471269\n",
      "[787]\tvalid_0's multi_error: 0.471234\n",
      "[788]\tvalid_0's multi_error: 0.471225\n",
      "[789]\tvalid_0's multi_error: 0.471274\n",
      "[790]\tvalid_0's multi_error: 0.471268\n",
      "[791]\tvalid_0's multi_error: 0.471204\n",
      "[792]\tvalid_0's multi_error: 0.471168\n",
      "[793]\tvalid_0's multi_error: 0.471158\n",
      "[794]\tvalid_0's multi_error: 0.471199\n",
      "[795]\tvalid_0's multi_error: 0.471201\n",
      "[796]\tvalid_0's multi_error: 0.471174\n",
      "[797]\tvalid_0's multi_error: 0.471178\n",
      "[798]\tvalid_0's multi_error: 0.471165\n",
      "[799]\tvalid_0's multi_error: 0.471181\n",
      "[800]\tvalid_0's multi_error: 0.471193\n",
      "[801]\tvalid_0's multi_error: 0.471156\n",
      "[802]\tvalid_0's multi_error: 0.471125\n",
      "[803]\tvalid_0's multi_error: 0.471101\n",
      "[804]\tvalid_0's multi_error: 0.471104\n",
      "[805]\tvalid_0's multi_error: 0.471071\n",
      "[806]\tvalid_0's multi_error: 0.471101\n",
      "[807]\tvalid_0's multi_error: 0.471093\n",
      "[808]\tvalid_0's multi_error: 0.471084\n",
      "[809]\tvalid_0's multi_error: 0.471095\n",
      "[810]\tvalid_0's multi_error: 0.471087\n",
      "[811]\tvalid_0's multi_error: 0.471083\n",
      "[812]\tvalid_0's multi_error: 0.471046\n",
      "[813]\tvalid_0's multi_error: 0.471026\n",
      "[814]\tvalid_0's multi_error: 0.471013\n",
      "[815]\tvalid_0's multi_error: 0.471031\n",
      "[816]\tvalid_0's multi_error: 0.471046\n",
      "[817]\tvalid_0's multi_error: 0.471072\n",
      "[818]\tvalid_0's multi_error: 0.471068\n",
      "[819]\tvalid_0's multi_error: 0.471114\n",
      "[820]\tvalid_0's multi_error: 0.471111\n",
      "[821]\tvalid_0's multi_error: 0.471107\n",
      "[822]\tvalid_0's multi_error: 0.471089\n",
      "[823]\tvalid_0's multi_error: 0.471105\n",
      "[824]\tvalid_0's multi_error: 0.471071\n",
      "[825]\tvalid_0's multi_error: 0.471108\n",
      "[826]\tvalid_0's multi_error: 0.471128\n",
      "[827]\tvalid_0's multi_error: 0.471116\n",
      "[828]\tvalid_0's multi_error: 0.471111\n",
      "[829]\tvalid_0's multi_error: 0.471055\n",
      "[830]\tvalid_0's multi_error: 0.471066\n",
      "[831]\tvalid_0's multi_error: 0.471062\n",
      "[832]\tvalid_0's multi_error: 0.471075\n",
      "[833]\tvalid_0's multi_error: 0.471062\n",
      "[834]\tvalid_0's multi_error: 0.471078\n",
      "[835]\tvalid_0's multi_error: 0.471063\n",
      "[836]\tvalid_0's multi_error: 0.471011\n",
      "[837]\tvalid_0's multi_error: 0.471084\n",
      "[838]\tvalid_0's multi_error: 0.471084\n",
      "[839]\tvalid_0's multi_error: 0.471069\n",
      "[840]\tvalid_0's multi_error: 0.471074\n",
      "[841]\tvalid_0's multi_error: 0.471093\n",
      "[842]\tvalid_0's multi_error: 0.471074\n",
      "[843]\tvalid_0's multi_error: 0.471069\n",
      "[844]\tvalid_0's multi_error: 0.47105\n",
      "[845]\tvalid_0's multi_error: 0.47105\n",
      "[846]\tvalid_0's multi_error: 0.47102\n",
      "[847]\tvalid_0's multi_error: 0.471043\n",
      "[848]\tvalid_0's multi_error: 0.471023\n",
      "[849]\tvalid_0's multi_error: 0.471025\n",
      "[850]\tvalid_0's multi_error: 0.471026\n",
      "[851]\tvalid_0's multi_error: 0.471081\n",
      "[852]\tvalid_0's multi_error: 0.471052\n",
      "[853]\tvalid_0's multi_error: 0.471011\n",
      "[854]\tvalid_0's multi_error: 0.471034\n",
      "[855]\tvalid_0's multi_error: 0.471044\n",
      "[856]\tvalid_0's multi_error: 0.471035\n",
      "[857]\tvalid_0's multi_error: 0.470987\n",
      "[858]\tvalid_0's multi_error: 0.47101\n",
      "[859]\tvalid_0's multi_error: 0.471002\n",
      "[860]\tvalid_0's multi_error: 0.470987\n",
      "[861]\tvalid_0's multi_error: 0.470969\n",
      "[862]\tvalid_0's multi_error: 0.47096\n",
      "[863]\tvalid_0's multi_error: 0.470952\n"
     ]
    },
    {
     "name": "stdout",
     "output_type": "stream",
     "text": [
      "[864]\tvalid_0's multi_error: 0.470914\n",
      "[865]\tvalid_0's multi_error: 0.470892\n",
      "[866]\tvalid_0's multi_error: 0.470896\n",
      "[867]\tvalid_0's multi_error: 0.470901\n",
      "[868]\tvalid_0's multi_error: 0.470855\n",
      "[869]\tvalid_0's multi_error: 0.470866\n",
      "[870]\tvalid_0's multi_error: 0.470884\n",
      "[871]\tvalid_0's multi_error: 0.470889\n",
      "[872]\tvalid_0's multi_error: 0.470878\n",
      "[873]\tvalid_0's multi_error: 0.470893\n",
      "[874]\tvalid_0's multi_error: 0.470886\n",
      "[875]\tvalid_0's multi_error: 0.47088\n",
      "[876]\tvalid_0's multi_error: 0.470863\n",
      "[877]\tvalid_0's multi_error: 0.470852\n",
      "[878]\tvalid_0's multi_error: 0.470834\n",
      "[879]\tvalid_0's multi_error: 0.470843\n",
      "[880]\tvalid_0's multi_error: 0.470868\n",
      "[881]\tvalid_0's multi_error: 0.47089\n",
      "[882]\tvalid_0's multi_error: 0.470892\n",
      "[883]\tvalid_0's multi_error: 0.470874\n",
      "[884]\tvalid_0's multi_error: 0.470884\n",
      "[885]\tvalid_0's multi_error: 0.470893\n",
      "[886]\tvalid_0's multi_error: 0.470902\n",
      "[887]\tvalid_0's multi_error: 0.470886\n",
      "[888]\tvalid_0's multi_error: 0.470883\n",
      "[889]\tvalid_0's multi_error: 0.470832\n",
      "[890]\tvalid_0's multi_error: 0.470808\n",
      "[891]\tvalid_0's multi_error: 0.470772\n",
      "[892]\tvalid_0's multi_error: 0.470746\n",
      "[893]\tvalid_0's multi_error: 0.470749\n",
      "[894]\tvalid_0's multi_error: 0.470763\n",
      "[895]\tvalid_0's multi_error: 0.47079\n",
      "[896]\tvalid_0's multi_error: 0.470795\n",
      "[897]\tvalid_0's multi_error: 0.470784\n",
      "[898]\tvalid_0's multi_error: 0.47076\n",
      "[899]\tvalid_0's multi_error: 0.470804\n",
      "[900]\tvalid_0's multi_error: 0.470808\n",
      "[901]\tvalid_0's multi_error: 0.47081\n",
      "[902]\tvalid_0's multi_error: 0.470802\n",
      "[903]\tvalid_0's multi_error: 0.47078\n",
      "[904]\tvalid_0's multi_error: 0.470823\n",
      "[905]\tvalid_0's multi_error: 0.470834\n",
      "[906]\tvalid_0's multi_error: 0.470832\n",
      "[907]\tvalid_0's multi_error: 0.470829\n",
      "[908]\tvalid_0's multi_error: 0.470884\n",
      "[909]\tvalid_0's multi_error: 0.470892\n",
      "[910]\tvalid_0's multi_error: 0.470866\n",
      "[911]\tvalid_0's multi_error: 0.470872\n",
      "[912]\tvalid_0's multi_error: 0.470875\n",
      "[913]\tvalid_0's multi_error: 0.470858\n",
      "[914]\tvalid_0's multi_error: 0.470778\n",
      "[915]\tvalid_0's multi_error: 0.470746\n",
      "[916]\tvalid_0's multi_error: 0.470747\n",
      "[917]\tvalid_0's multi_error: 0.470759\n",
      "[918]\tvalid_0's multi_error: 0.470738\n",
      "[919]\tvalid_0's multi_error: 0.470771\n",
      "[920]\tvalid_0's multi_error: 0.470752\n",
      "[921]\tvalid_0's multi_error: 0.470771\n",
      "[922]\tvalid_0's multi_error: 0.470752\n",
      "[923]\tvalid_0's multi_error: 0.47079\n",
      "[924]\tvalid_0's multi_error: 0.470792\n",
      "[925]\tvalid_0's multi_error: 0.470796\n",
      "[926]\tvalid_0's multi_error: 0.470811\n",
      "[927]\tvalid_0's multi_error: 0.470792\n",
      "[928]\tvalid_0's multi_error: 0.470796\n",
      "[929]\tvalid_0's multi_error: 0.470781\n",
      "[930]\tvalid_0's multi_error: 0.470753\n",
      "[931]\tvalid_0's multi_error: 0.470717\n",
      "[932]\tvalid_0's multi_error: 0.470705\n",
      "[933]\tvalid_0's multi_error: 0.470686\n",
      "[934]\tvalid_0's multi_error: 0.470701\n",
      "[935]\tvalid_0's multi_error: 0.470693\n",
      "[936]\tvalid_0's multi_error: 0.47064\n",
      "[937]\tvalid_0's multi_error: 0.470607\n",
      "[938]\tvalid_0's multi_error: 0.470587\n",
      "[939]\tvalid_0's multi_error: 0.470572\n",
      "[940]\tvalid_0's multi_error: 0.470631\n",
      "[941]\tvalid_0's multi_error: 0.470635\n",
      "[942]\tvalid_0's multi_error: 0.470652\n",
      "[943]\tvalid_0's multi_error: 0.470614\n",
      "[944]\tvalid_0's multi_error: 0.470608\n",
      "[945]\tvalid_0's multi_error: 0.47059\n",
      "[946]\tvalid_0's multi_error: 0.470625\n",
      "[947]\tvalid_0's multi_error: 0.470644\n",
      "[948]\tvalid_0's multi_error: 0.470632\n",
      "[949]\tvalid_0's multi_error: 0.470641\n",
      "[950]\tvalid_0's multi_error: 0.470649\n",
      "[951]\tvalid_0's multi_error: 0.470625\n",
      "[952]\tvalid_0's multi_error: 0.47061\n",
      "[953]\tvalid_0's multi_error: 0.470619\n",
      "[954]\tvalid_0's multi_error: 0.470623\n",
      "[955]\tvalid_0's multi_error: 0.470631\n",
      "[956]\tvalid_0's multi_error: 0.470611\n",
      "[957]\tvalid_0's multi_error: 0.470571\n",
      "[958]\tvalid_0's multi_error: 0.470552\n",
      "[959]\tvalid_0's multi_error: 0.470528\n",
      "[960]\tvalid_0's multi_error: 0.470529\n",
      "[961]\tvalid_0's multi_error: 0.470496\n",
      "[962]\tvalid_0's multi_error: 0.470508\n",
      "[963]\tvalid_0's multi_error: 0.470495\n",
      "[964]\tvalid_0's multi_error: 0.470505\n",
      "[965]\tvalid_0's multi_error: 0.470513\n",
      "[966]\tvalid_0's multi_error: 0.470502\n",
      "[967]\tvalid_0's multi_error: 0.470519\n",
      "[968]\tvalid_0's multi_error: 0.470483\n",
      "[969]\tvalid_0's multi_error: 0.470452\n",
      "[970]\tvalid_0's multi_error: 0.470416\n",
      "[971]\tvalid_0's multi_error: 0.47045\n",
      "[972]\tvalid_0's multi_error: 0.470416\n",
      "[973]\tvalid_0's multi_error: 0.470395\n",
      "[974]\tvalid_0's multi_error: 0.47039\n",
      "[975]\tvalid_0's multi_error: 0.470398\n",
      "[976]\tvalid_0's multi_error: 0.47038\n",
      "[977]\tvalid_0's multi_error: 0.470395\n",
      "[978]\tvalid_0's multi_error: 0.470399\n",
      "[979]\tvalid_0's multi_error: 0.470407\n",
      "[980]\tvalid_0's multi_error: 0.470396\n",
      "[981]\tvalid_0's multi_error: 0.470386\n",
      "[982]\tvalid_0's multi_error: 0.470365\n",
      "[983]\tvalid_0's multi_error: 0.470338\n",
      "[984]\tvalid_0's multi_error: 0.470372\n",
      "[985]\tvalid_0's multi_error: 0.470371\n",
      "[986]\tvalid_0's multi_error: 0.470387\n",
      "[987]\tvalid_0's multi_error: 0.470393\n",
      "[988]\tvalid_0's multi_error: 0.470393\n",
      "[989]\tvalid_0's multi_error: 0.470387\n",
      "[990]\tvalid_0's multi_error: 0.470416\n",
      "[991]\tvalid_0's multi_error: 0.470422\n",
      "[992]\tvalid_0's multi_error: 0.470423\n",
      "[993]\tvalid_0's multi_error: 0.470419\n",
      "[994]\tvalid_0's multi_error: 0.470393\n",
      "[995]\tvalid_0's multi_error: 0.470404\n",
      "[996]\tvalid_0's multi_error: 0.470407\n",
      "[997]\tvalid_0's multi_error: 0.470396\n",
      "[998]\tvalid_0's multi_error: 0.470458\n",
      "[999]\tvalid_0's multi_error: 0.470466\n",
      "[1000]\tvalid_0's multi_error: 0.470423\n",
      "[1001]\tvalid_0's multi_error: 0.47045\n",
      "[1002]\tvalid_0's multi_error: 0.470413\n",
      "[1003]\tvalid_0's multi_error: 0.47044\n",
      "[1004]\tvalid_0's multi_error: 0.470365\n",
      "[1005]\tvalid_0's multi_error: 0.470407\n",
      "[1006]\tvalid_0's multi_error: 0.470408\n",
      "[1007]\tvalid_0's multi_error: 0.470422\n",
      "[1008]\tvalid_0's multi_error: 0.470386\n",
      "[1009]\tvalid_0's multi_error: 0.470398\n",
      "[1010]\tvalid_0's multi_error: 0.470353\n",
      "[1011]\tvalid_0's multi_error: 0.470387\n",
      "[1012]\tvalid_0's multi_error: 0.470401\n",
      "[1013]\tvalid_0's multi_error: 0.470363\n",
      "[1014]\tvalid_0's multi_error: 0.470319\n",
      "[1015]\tvalid_0's multi_error: 0.47031\n",
      "[1016]\tvalid_0's multi_error: 0.470278\n",
      "[1017]\tvalid_0's multi_error: 0.470272\n",
      "[1018]\tvalid_0's multi_error: 0.47031\n",
      "[1019]\tvalid_0's multi_error: 0.470331\n",
      "[1020]\tvalid_0's multi_error: 0.47032\n",
      "[1021]\tvalid_0's multi_error: 0.47032\n",
      "[1022]\tvalid_0's multi_error: 0.470335\n",
      "[1023]\tvalid_0's multi_error: 0.470329\n",
      "[1024]\tvalid_0's multi_error: 0.470337\n",
      "[1025]\tvalid_0's multi_error: 0.470343\n",
      "[1026]\tvalid_0's multi_error: 0.470353\n",
      "[1027]\tvalid_0's multi_error: 0.470334\n",
      "[1028]\tvalid_0's multi_error: 0.470325\n",
      "[1029]\tvalid_0's multi_error: 0.470331\n",
      "[1030]\tvalid_0's multi_error: 0.470335\n",
      "[1031]\tvalid_0's multi_error: 0.470334\n",
      "[1032]\tvalid_0's multi_error: 0.470298\n",
      "[1033]\tvalid_0's multi_error: 0.470249\n",
      "[1034]\tvalid_0's multi_error: 0.470258\n",
      "[1035]\tvalid_0's multi_error: 0.47026\n",
      "[1036]\tvalid_0's multi_error: 0.47031\n",
      "[1037]\tvalid_0's multi_error: 0.470275\n",
      "[1038]\tvalid_0's multi_error: 0.470258\n",
      "[1039]\tvalid_0's multi_error: 0.470271\n",
      "[1040]\tvalid_0's multi_error: 0.470262\n",
      "[1041]\tvalid_0's multi_error: 0.470219\n",
      "[1042]\tvalid_0's multi_error: 0.470198\n",
      "[1043]\tvalid_0's multi_error: 0.47024\n",
      "[1044]\tvalid_0's multi_error: 0.470225\n",
      "[1045]\tvalid_0's multi_error: 0.470208\n",
      "[1046]\tvalid_0's multi_error: 0.470183\n",
      "[1047]\tvalid_0's multi_error: 0.47019\n",
      "[1048]\tvalid_0's multi_error: 0.470184\n",
      "[1049]\tvalid_0's multi_error: 0.470208\n",
      "[1050]\tvalid_0's multi_error: 0.470163\n",
      "[1051]\tvalid_0's multi_error: 0.47016\n",
      "[1052]\tvalid_0's multi_error: 0.470162\n",
      "[1053]\tvalid_0's multi_error: 0.470162\n",
      "[1054]\tvalid_0's multi_error: 0.470174\n",
      "[1055]\tvalid_0's multi_error: 0.470146\n",
      "[1056]\tvalid_0's multi_error: 0.470101\n",
      "[1057]\tvalid_0's multi_error: 0.470077\n",
      "[1058]\tvalid_0's multi_error: 0.470075\n",
      "[1059]\tvalid_0's multi_error: 0.470066\n",
      "[1060]\tvalid_0's multi_error: 0.470059\n",
      "[1061]\tvalid_0's multi_error: 0.470058\n",
      "[1062]\tvalid_0's multi_error: 0.470071\n",
      "[1063]\tvalid_0's multi_error: 0.470075\n",
      "[1064]\tvalid_0's multi_error: 0.470063\n",
      "[1065]\tvalid_0's multi_error: 0.470069\n",
      "[1066]\tvalid_0's multi_error: 0.470055\n",
      "[1067]\tvalid_0's multi_error: 0.470095\n",
      "[1068]\tvalid_0's multi_error: 0.47009\n",
      "[1069]\tvalid_0's multi_error: 0.470069\n",
      "[1070]\tvalid_0's multi_error: 0.470074\n",
      "[1071]\tvalid_0's multi_error: 0.470038\n",
      "[1072]\tvalid_0's multi_error: 0.470019\n",
      "[1073]\tvalid_0's multi_error: 0.470019\n",
      "[1074]\tvalid_0's multi_error: 0.470059\n",
      "[1075]\tvalid_0's multi_error: 0.470099\n",
      "[1076]\tvalid_0's multi_error: 0.470083\n",
      "[1077]\tvalid_0's multi_error: 0.47008\n",
      "[1078]\tvalid_0's multi_error: 0.470086\n",
      "[1079]\tvalid_0's multi_error: 0.470101\n",
      "[1080]\tvalid_0's multi_error: 0.470104\n",
      "[1081]\tvalid_0's multi_error: 0.470149\n",
      "[1082]\tvalid_0's multi_error: 0.470137\n",
      "[1083]\tvalid_0's multi_error: 0.470128\n",
      "[1084]\tvalid_0's multi_error: 0.470083\n",
      "[1085]\tvalid_0's multi_error: 0.470044\n",
      "[1086]\tvalid_0's multi_error: 0.470083\n",
      "[1087]\tvalid_0's multi_error: 0.470049\n",
      "[1088]\tvalid_0's multi_error: 0.470068\n",
      "[1089]\tvalid_0's multi_error: 0.470086\n",
      "[1090]\tvalid_0's multi_error: 0.470058\n",
      "[1091]\tvalid_0's multi_error: 0.470062\n",
      "[1092]\tvalid_0's multi_error: 0.470034\n",
      "[1093]\tvalid_0's multi_error: 0.47005\n",
      "[1094]\tvalid_0's multi_error: 0.470058\n",
      "[1095]\tvalid_0's multi_error: 0.470093\n",
      "[1096]\tvalid_0's multi_error: 0.470087\n",
      "[1097]\tvalid_0's multi_error: 0.470102\n",
      "[1098]\tvalid_0's multi_error: 0.470065\n",
      "[1099]\tvalid_0's multi_error: 0.470034\n",
      "[1100]\tvalid_0's multi_error: 0.469996\n",
      "[1101]\tvalid_0's multi_error: 0.469992\n",
      "[1102]\tvalid_0's multi_error: 0.46998\n",
      "[1103]\tvalid_0's multi_error: 0.469965\n",
      "[1104]\tvalid_0's multi_error: 0.469977\n",
      "[1105]\tvalid_0's multi_error: 0.469963\n",
      "[1106]\tvalid_0's multi_error: 0.469941\n",
      "[1107]\tvalid_0's multi_error: 0.469955\n",
      "[1108]\tvalid_0's multi_error: 0.469941\n",
      "[1109]\tvalid_0's multi_error: 0.469943\n",
      "[1110]\tvalid_0's multi_error: 0.469881\n",
      "[1111]\tvalid_0's multi_error: 0.469822\n",
      "[1112]\tvalid_0's multi_error: 0.469849\n",
      "[1113]\tvalid_0's multi_error: 0.469868\n",
      "[1114]\tvalid_0's multi_error: 0.469886\n",
      "[1115]\tvalid_0's multi_error: 0.469881\n",
      "[1116]\tvalid_0's multi_error: 0.469878\n",
      "[1117]\tvalid_0's multi_error: 0.469847\n",
      "[1118]\tvalid_0's multi_error: 0.469819\n",
      "[1119]\tvalid_0's multi_error: 0.469853\n",
      "[1120]\tvalid_0's multi_error: 0.469874\n",
      "[1121]\tvalid_0's multi_error: 0.469825\n",
      "[1122]\tvalid_0's multi_error: 0.469828\n",
      "[1123]\tvalid_0's multi_error: 0.469795\n",
      "[1124]\tvalid_0's multi_error: 0.469765\n",
      "[1125]\tvalid_0's multi_error: 0.469744\n",
      "[1126]\tvalid_0's multi_error: 0.469747\n",
      "[1127]\tvalid_0's multi_error: 0.46974\n",
      "[1128]\tvalid_0's multi_error: 0.469774\n",
      "[1129]\tvalid_0's multi_error: 0.469747\n",
      "[1130]\tvalid_0's multi_error: 0.469777\n",
      "[1131]\tvalid_0's multi_error: 0.469783\n",
      "[1132]\tvalid_0's multi_error: 0.46976\n",
      "[1133]\tvalid_0's multi_error: 0.469763\n",
      "[1134]\tvalid_0's multi_error: 0.469755\n",
      "[1135]\tvalid_0's multi_error: 0.469746\n",
      "[1136]\tvalid_0's multi_error: 0.469743\n",
      "[1137]\tvalid_0's multi_error: 0.469714\n",
      "[1138]\tvalid_0's multi_error: 0.469755\n",
      "[1139]\tvalid_0's multi_error: 0.469743\n",
      "[1140]\tvalid_0's multi_error: 0.469734\n",
      "[1141]\tvalid_0's multi_error: 0.469725\n",
      "[1142]\tvalid_0's multi_error: 0.469774\n",
      "[1143]\tvalid_0's multi_error: 0.46979\n",
      "[1144]\tvalid_0's multi_error: 0.469784\n",
      "[1145]\tvalid_0's multi_error: 0.469784\n",
      "[1146]\tvalid_0's multi_error: 0.469786\n",
      "[1147]\tvalid_0's multi_error: 0.46981\n",
      "[1148]\tvalid_0's multi_error: 0.469813\n",
      "[1149]\tvalid_0's multi_error: 0.469831\n",
      "[1150]\tvalid_0's multi_error: 0.469826\n",
      "[1151]\tvalid_0's multi_error: 0.469802\n",
      "[1152]\tvalid_0's multi_error: 0.46979\n",
      "[1153]\tvalid_0's multi_error: 0.469781\n",
      "[1154]\tvalid_0's multi_error: 0.469784\n",
      "[1155]\tvalid_0's multi_error: 0.469778\n",
      "[1156]\tvalid_0's multi_error: 0.469793\n",
      "[1157]\tvalid_0's multi_error: 0.469802\n",
      "[1158]\tvalid_0's multi_error: 0.469792\n",
      "[1159]\tvalid_0's multi_error: 0.469801\n",
      "[1160]\tvalid_0's multi_error: 0.469781\n",
      "[1161]\tvalid_0's multi_error: 0.469774\n",
      "[1162]\tvalid_0's multi_error: 0.469784\n",
      "[1163]\tvalid_0's multi_error: 0.469762\n",
      "[1164]\tvalid_0's multi_error: 0.46976\n",
      "[1165]\tvalid_0's multi_error: 0.469729\n",
      "[1166]\tvalid_0's multi_error: 0.469735\n",
      "[1167]\tvalid_0's multi_error: 0.469732\n",
      "[1168]\tvalid_0's multi_error: 0.469725\n",
      "[1169]\tvalid_0's multi_error: 0.469681\n",
      "[1170]\tvalid_0's multi_error: 0.469659\n",
      "[1171]\tvalid_0's multi_error: 0.469638\n",
      "[1172]\tvalid_0's multi_error: 0.469641\n",
      "[1173]\tvalid_0's multi_error: 0.469625\n",
      "[1174]\tvalid_0's multi_error: 0.469589\n",
      "[1175]\tvalid_0's multi_error: 0.469598\n",
      "[1176]\tvalid_0's multi_error: 0.469598\n",
      "[1177]\tvalid_0's multi_error: 0.469587\n",
      "[1178]\tvalid_0's multi_error: 0.469635\n",
      "[1179]\tvalid_0's multi_error: 0.469601\n",
      "[1180]\tvalid_0's multi_error: 0.469614\n",
      "[1181]\tvalid_0's multi_error: 0.469626\n",
      "[1182]\tvalid_0's multi_error: 0.469625\n",
      "[1183]\tvalid_0's multi_error: 0.469629\n",
      "[1184]\tvalid_0's multi_error: 0.469622\n",
      "[1185]\tvalid_0's multi_error: 0.469643\n",
      "[1186]\tvalid_0's multi_error: 0.469634\n",
      "[1187]\tvalid_0's multi_error: 0.469638\n",
      "[1188]\tvalid_0's multi_error: 0.469644\n",
      "[1189]\tvalid_0's multi_error: 0.469619\n",
      "[1190]\tvalid_0's multi_error: 0.469659\n",
      "[1191]\tvalid_0's multi_error: 0.469632\n",
      "[1192]\tvalid_0's multi_error: 0.46962\n",
      "[1193]\tvalid_0's multi_error: 0.469625\n",
      "[1194]\tvalid_0's multi_error: 0.46964\n",
      "[1195]\tvalid_0's multi_error: 0.469598\n",
      "[1196]\tvalid_0's multi_error: 0.469583\n",
      "[1197]\tvalid_0's multi_error: 0.469574\n",
      "[1198]\tvalid_0's multi_error: 0.469538\n",
      "[1199]\tvalid_0's multi_error: 0.469541\n",
      "[1200]\tvalid_0's multi_error: 0.469519\n",
      "[1201]\tvalid_0's multi_error: 0.469534\n",
      "[1202]\tvalid_0's multi_error: 0.469529\n",
      "[1203]\tvalid_0's multi_error: 0.469517\n",
      "[1204]\tvalid_0's multi_error: 0.469504\n",
      "[1205]\tvalid_0's multi_error: 0.46952\n",
      "[1206]\tvalid_0's multi_error: 0.469538\n",
      "[1207]\tvalid_0's multi_error: 0.469555\n",
      "[1208]\tvalid_0's multi_error: 0.469528\n",
      "[1209]\tvalid_0's multi_error: 0.469522\n",
      "[1210]\tvalid_0's multi_error: 0.469484\n",
      "[1211]\tvalid_0's multi_error: 0.469511\n",
      "[1212]\tvalid_0's multi_error: 0.469507\n",
      "[1213]\tvalid_0's multi_error: 0.469528\n",
      "[1214]\tvalid_0's multi_error: 0.469528\n",
      "[1215]\tvalid_0's multi_error: 0.46952\n",
      "[1216]\tvalid_0's multi_error: 0.469531\n",
      "[1217]\tvalid_0's multi_error: 0.469547\n",
      "[1218]\tvalid_0's multi_error: 0.469546\n",
      "[1219]\tvalid_0's multi_error: 0.469529\n",
      "[1220]\tvalid_0's multi_error: 0.469528\n",
      "[1221]\tvalid_0's multi_error: 0.469496\n",
      "[1222]\tvalid_0's multi_error: 0.469478\n",
      "[1223]\tvalid_0's multi_error: 0.469484\n",
      "[1224]\tvalid_0's multi_error: 0.469502\n",
      "[1225]\tvalid_0's multi_error: 0.469541\n",
      "[1226]\tvalid_0's multi_error: 0.469517\n",
      "[1227]\tvalid_0's multi_error: 0.469514\n",
      "[1228]\tvalid_0's multi_error: 0.469541\n",
      "[1229]\tvalid_0's multi_error: 0.46955\n",
      "[1230]\tvalid_0's multi_error: 0.469505\n",
      "[1231]\tvalid_0's multi_error: 0.469487\n",
      "[1232]\tvalid_0's multi_error: 0.469489\n",
      "[1233]\tvalid_0's multi_error: 0.469449\n",
      "[1234]\tvalid_0's multi_error: 0.469456\n",
      "[1235]\tvalid_0's multi_error: 0.469452\n",
      "[1236]\tvalid_0's multi_error: 0.469459\n",
      "[1237]\tvalid_0's multi_error: 0.469474\n",
      "[1238]\tvalid_0's multi_error: 0.469459\n",
      "[1239]\tvalid_0's multi_error: 0.469472\n",
      "[1240]\tvalid_0's multi_error: 0.469496\n",
      "[1241]\tvalid_0's multi_error: 0.46949\n",
      "[1242]\tvalid_0's multi_error: 0.469449\n",
      "[1243]\tvalid_0's multi_error: 0.469411\n",
      "[1244]\tvalid_0's multi_error: 0.469425\n",
      "[1245]\tvalid_0's multi_error: 0.469484\n",
      "[1246]\tvalid_0's multi_error: 0.469496\n",
      "[1247]\tvalid_0's multi_error: 0.469493\n",
      "[1248]\tvalid_0's multi_error: 0.469484\n",
      "[1249]\tvalid_0's multi_error: 0.469452\n",
      "[1250]\tvalid_0's multi_error: 0.46946\n",
      "[1251]\tvalid_0's multi_error: 0.469422\n",
      "[1252]\tvalid_0's multi_error: 0.469417\n",
      "[1253]\tvalid_0's multi_error: 0.469446\n",
      "[1254]\tvalid_0's multi_error: 0.469416\n",
      "[1255]\tvalid_0's multi_error: 0.469407\n",
      "[1256]\tvalid_0's multi_error: 0.469363\n",
      "[1257]\tvalid_0's multi_error: 0.46936\n",
      "[1258]\tvalid_0's multi_error: 0.469368\n",
      "[1259]\tvalid_0's multi_error: 0.469362\n",
      "[1260]\tvalid_0's multi_error: 0.469352\n",
      "[1261]\tvalid_0's multi_error: 0.469337\n",
      "[1262]\tvalid_0's multi_error: 0.469314\n",
      "[1263]\tvalid_0's multi_error: 0.469332\n",
      "[1264]\tvalid_0's multi_error: 0.469341\n",
      "[1265]\tvalid_0's multi_error: 0.469326\n",
      "[1266]\tvalid_0's multi_error: 0.469341\n",
      "[1267]\tvalid_0's multi_error: 0.469326\n",
      "[1268]\tvalid_0's multi_error: 0.469329\n",
      "[1269]\tvalid_0's multi_error: 0.469272\n",
      "[1270]\tvalid_0's multi_error: 0.46929\n",
      "[1271]\tvalid_0's multi_error: 0.469292\n",
      "[1272]\tvalid_0's multi_error: 0.469301\n",
      "[1273]\tvalid_0's multi_error: 0.469305\n",
      "[1274]\tvalid_0's multi_error: 0.469299\n",
      "[1275]\tvalid_0's multi_error: 0.46934\n",
      "[1276]\tvalid_0's multi_error: 0.469368\n",
      "[1277]\tvalid_0's multi_error: 0.469372\n",
      "[1278]\tvalid_0's multi_error: 0.46941\n",
      "[1279]\tvalid_0's multi_error: 0.469417\n",
      "[1280]\tvalid_0's multi_error: 0.469459\n",
      "[1281]\tvalid_0's multi_error: 0.469417\n",
      "[1282]\tvalid_0's multi_error: 0.469419\n",
      "[1283]\tvalid_0's multi_error: 0.469358\n",
      "[1284]\tvalid_0's multi_error: 0.469334\n",
      "[1285]\tvalid_0's multi_error: 0.469325\n",
      "[1286]\tvalid_0's multi_error: 0.469338\n",
      "[1287]\tvalid_0's multi_error: 0.469359\n"
     ]
    },
    {
     "name": "stdout",
     "output_type": "stream",
     "text": [
      "[1288]\tvalid_0's multi_error: 0.469323\n",
      "[1289]\tvalid_0's multi_error: 0.469344\n",
      "[1290]\tvalid_0's multi_error: 0.469398\n",
      "[1291]\tvalid_0's multi_error: 0.469404\n",
      "[1292]\tvalid_0's multi_error: 0.469386\n",
      "[1293]\tvalid_0's multi_error: 0.469378\n",
      "[1294]\tvalid_0's multi_error: 0.46931\n",
      "[1295]\tvalid_0's multi_error: 0.469301\n",
      "[1296]\tvalid_0's multi_error: 0.469307\n",
      "[1297]\tvalid_0's multi_error: 0.469295\n",
      "[1298]\tvalid_0's multi_error: 0.46934\n",
      "[1299]\tvalid_0's multi_error: 0.469344\n",
      "[1300]\tvalid_0's multi_error: 0.469314\n",
      "[1301]\tvalid_0's multi_error: 0.469338\n",
      "[1302]\tvalid_0's multi_error: 0.469347\n",
      "[1303]\tvalid_0's multi_error: 0.469347\n",
      "[1304]\tvalid_0's multi_error: 0.46936\n",
      "[1305]\tvalid_0's multi_error: 0.469396\n",
      "[1306]\tvalid_0's multi_error: 0.469377\n",
      "[1307]\tvalid_0's multi_error: 0.469365\n",
      "[1308]\tvalid_0's multi_error: 0.469356\n",
      "[1309]\tvalid_0's multi_error: 0.469355\n",
      "[1310]\tvalid_0's multi_error: 0.469334\n",
      "[1311]\tvalid_0's multi_error: 0.469317\n",
      "[1312]\tvalid_0's multi_error: 0.469329\n",
      "[1313]\tvalid_0's multi_error: 0.469311\n",
      "[1314]\tvalid_0's multi_error: 0.469293\n",
      "[1315]\tvalid_0's multi_error: 0.469319\n",
      "[1316]\tvalid_0's multi_error: 0.469335\n",
      "[1317]\tvalid_0's multi_error: 0.469311\n",
      "[1318]\tvalid_0's multi_error: 0.469311\n",
      "[1319]\tvalid_0's multi_error: 0.469295\n",
      "Early stopping, best iteration is:\n",
      "[1269]\tvalid_0's multi_error: 0.469272\n",
      "1\n",
      "training start...\n",
      "[1]\tvalid_0's multi_error: 0.701493\n",
      "Training until validation scores don't improve for 50 rounds.\n",
      "[2]\tvalid_0's multi_error: 0.678197\n",
      "[3]\tvalid_0's multi_error: 0.653013\n",
      "[4]\tvalid_0's multi_error: 0.634279\n",
      "[5]\tvalid_0's multi_error: 0.614363\n",
      "[6]\tvalid_0's multi_error: 0.598088\n",
      "[7]\tvalid_0's multi_error: 0.588433\n",
      "[8]\tvalid_0's multi_error: 0.580588\n",
      "[9]\tvalid_0's multi_error: 0.575058\n",
      "[10]\tvalid_0's multi_error: 0.570236\n",
      "[11]\tvalid_0's multi_error: 0.566273\n",
      "[12]\tvalid_0's multi_error: 0.562361\n",
      "[13]\tvalid_0's multi_error: 0.559364\n",
      "[14]\tvalid_0's multi_error: 0.556466\n",
      "[15]\tvalid_0's multi_error: 0.55427\n",
      "[16]\tvalid_0's multi_error: 0.552069\n",
      "[17]\tvalid_0's multi_error: 0.550485\n",
      "[18]\tvalid_0's multi_error: 0.549094\n",
      "[19]\tvalid_0's multi_error: 0.547719\n",
      "[20]\tvalid_0's multi_error: 0.546181\n",
      "[21]\tvalid_0's multi_error: 0.54459\n",
      "[22]\tvalid_0's multi_error: 0.543054\n",
      "[23]\tvalid_0's multi_error: 0.541672\n",
      "[24]\tvalid_0's multi_error: 0.540142\n",
      "[25]\tvalid_0's multi_error: 0.538754\n",
      "[26]\tvalid_0's multi_error: 0.537463\n",
      "[27]\tvalid_0's multi_error: 0.536336\n",
      "[28]\tvalid_0's multi_error: 0.534864\n",
      "[29]\tvalid_0's multi_error: 0.533907\n",
      "[30]\tvalid_0's multi_error: 0.533031\n",
      "[31]\tvalid_0's multi_error: 0.531982\n",
      "[32]\tvalid_0's multi_error: 0.530985\n",
      "[33]\tvalid_0's multi_error: 0.52999\n",
      "[34]\tvalid_0's multi_error: 0.529113\n",
      "[35]\tvalid_0's multi_error: 0.528381\n",
      "[36]\tvalid_0's multi_error: 0.527401\n",
      "[37]\tvalid_0's multi_error: 0.526406\n",
      "[38]\tvalid_0's multi_error: 0.525619\n",
      "[39]\tvalid_0's multi_error: 0.524969\n",
      "[40]\tvalid_0's multi_error: 0.524004\n",
      "[41]\tvalid_0's multi_error: 0.523345\n",
      "[42]\tvalid_0's multi_error: 0.522697\n",
      "[43]\tvalid_0's multi_error: 0.521945\n",
      "[44]\tvalid_0's multi_error: 0.521209\n",
      "[45]\tvalid_0's multi_error: 0.520681\n",
      "[46]\tvalid_0's multi_error: 0.520187\n",
      "[47]\tvalid_0's multi_error: 0.519182\n",
      "[48]\tvalid_0's multi_error: 0.518548\n",
      "[49]\tvalid_0's multi_error: 0.518021\n",
      "[50]\tvalid_0's multi_error: 0.517264\n",
      "[51]\tvalid_0's multi_error: 0.516572\n",
      "[52]\tvalid_0's multi_error: 0.515839\n",
      "[53]\tvalid_0's multi_error: 0.515525\n",
      "[54]\tvalid_0's multi_error: 0.514512\n",
      "[55]\tvalid_0's multi_error: 0.51407\n",
      "[56]\tvalid_0's multi_error: 0.513815\n",
      "[57]\tvalid_0's multi_error: 0.513269\n",
      "[58]\tvalid_0's multi_error: 0.512763\n",
      "[59]\tvalid_0's multi_error: 0.51226\n",
      "[60]\tvalid_0's multi_error: 0.511819\n",
      "[61]\tvalid_0's multi_error: 0.511497\n",
      "[62]\tvalid_0's multi_error: 0.510976\n",
      "[63]\tvalid_0's multi_error: 0.510449\n",
      "[64]\tvalid_0's multi_error: 0.509921\n",
      "[65]\tvalid_0's multi_error: 0.509433\n",
      "[66]\tvalid_0's multi_error: 0.509009\n",
      "[67]\tvalid_0's multi_error: 0.50851\n",
      "[68]\tvalid_0's multi_error: 0.508124\n",
      "[69]\tvalid_0's multi_error: 0.507696\n",
      "[70]\tvalid_0's multi_error: 0.507215\n",
      "[71]\tvalid_0's multi_error: 0.506776\n",
      "[72]\tvalid_0's multi_error: 0.5065\n",
      "[73]\tvalid_0's multi_error: 0.506258\n",
      "[74]\tvalid_0's multi_error: 0.50593\n",
      "[75]\tvalid_0's multi_error: 0.505642\n",
      "[76]\tvalid_0's multi_error: 0.505285\n",
      "[77]\tvalid_0's multi_error: 0.504728\n",
      "[78]\tvalid_0's multi_error: 0.504397\n",
      "[79]\tvalid_0's multi_error: 0.50407\n",
      "[80]\tvalid_0's multi_error: 0.503809\n",
      "[81]\tvalid_0's multi_error: 0.503496\n",
      "[82]\tvalid_0's multi_error: 0.503399\n",
      "[83]\tvalid_0's multi_error: 0.502918\n",
      "[84]\tvalid_0's multi_error: 0.50263\n",
      "[85]\tvalid_0's multi_error: 0.502331\n",
      "[86]\tvalid_0's multi_error: 0.502118\n",
      "[87]\tvalid_0's multi_error: 0.501663\n",
      "[88]\tvalid_0's multi_error: 0.501433\n",
      "[89]\tvalid_0's multi_error: 0.501046\n",
      "[90]\tvalid_0's multi_error: 0.500776\n",
      "[91]\tvalid_0's multi_error: 0.500561\n",
      "[92]\tvalid_0's multi_error: 0.500333\n",
      "[93]\tvalid_0's multi_error: 0.500182\n",
      "[94]\tvalid_0's multi_error: 0.499863\n",
      "[95]\tvalid_0's multi_error: 0.499676\n",
      "[96]\tvalid_0's multi_error: 0.499533\n",
      "[97]\tvalid_0's multi_error: 0.499231\n",
      "[98]\tvalid_0's multi_error: 0.498924\n",
      "[99]\tvalid_0's multi_error: 0.498666\n",
      "[100]\tvalid_0's multi_error: 0.498543\n",
      "[101]\tvalid_0's multi_error: 0.498269\n",
      "[102]\tvalid_0's multi_error: 0.497976\n",
      "[103]\tvalid_0's multi_error: 0.49791\n",
      "[104]\tvalid_0's multi_error: 0.497679\n",
      "[105]\tvalid_0's multi_error: 0.497464\n",
      "[106]\tvalid_0's multi_error: 0.497121\n",
      "[107]\tvalid_0's multi_error: 0.496922\n",
      "[108]\tvalid_0's multi_error: 0.49674\n",
      "[109]\tvalid_0's multi_error: 0.496373\n",
      "[110]\tvalid_0's multi_error: 0.496228\n",
      "[111]\tvalid_0's multi_error: 0.496057\n",
      "[112]\tvalid_0's multi_error: 0.495758\n",
      "[113]\tvalid_0's multi_error: 0.495624\n",
      "[114]\tvalid_0's multi_error: 0.495303\n",
      "[115]\tvalid_0's multi_error: 0.495239\n",
      "[116]\tvalid_0's multi_error: 0.495112\n",
      "[117]\tvalid_0's multi_error: 0.494858\n",
      "[118]\tvalid_0's multi_error: 0.494651\n",
      "[119]\tvalid_0's multi_error: 0.494475\n",
      "[120]\tvalid_0's multi_error: 0.494209\n",
      "[121]\tvalid_0's multi_error: 0.494112\n",
      "[122]\tvalid_0's multi_error: 0.493925\n",
      "[123]\tvalid_0's multi_error: 0.493779\n",
      "[124]\tvalid_0's multi_error: 0.493597\n",
      "[125]\tvalid_0's multi_error: 0.493427\n",
      "[126]\tvalid_0's multi_error: 0.493236\n",
      "[127]\tvalid_0's multi_error: 0.492991\n",
      "[128]\tvalid_0's multi_error: 0.492969\n",
      "[129]\tvalid_0's multi_error: 0.492727\n",
      "[130]\tvalid_0's multi_error: 0.492566\n",
      "[131]\tvalid_0's multi_error: 0.492373\n",
      "[132]\tvalid_0's multi_error: 0.492225\n",
      "[133]\tvalid_0's multi_error: 0.492097\n",
      "[134]\tvalid_0's multi_error: 0.491933\n",
      "[135]\tvalid_0's multi_error: 0.491743\n",
      "[136]\tvalid_0's multi_error: 0.491567\n",
      "[137]\tvalid_0's multi_error: 0.491403\n",
      "[138]\tvalid_0's multi_error: 0.491158\n",
      "[139]\tvalid_0's multi_error: 0.491016\n",
      "[140]\tvalid_0's multi_error: 0.490888\n",
      "[141]\tvalid_0's multi_error: 0.490854\n",
      "[142]\tvalid_0's multi_error: 0.4907\n",
      "[143]\tvalid_0's multi_error: 0.49051\n",
      "[144]\tvalid_0's multi_error: 0.490379\n",
      "[145]\tvalid_0's multi_error: 0.490242\n",
      "[146]\tvalid_0's multi_error: 0.490084\n",
      "[147]\tvalid_0's multi_error: 0.490009\n",
      "[148]\tvalid_0's multi_error: 0.489918\n",
      "[149]\tvalid_0's multi_error: 0.489807\n",
      "[150]\tvalid_0's multi_error: 0.48973\n",
      "[151]\tvalid_0's multi_error: 0.489469\n",
      "[152]\tvalid_0's multi_error: 0.489355\n",
      "[153]\tvalid_0's multi_error: 0.489228\n",
      "[154]\tvalid_0's multi_error: 0.488999\n",
      "[155]\tvalid_0's multi_error: 0.488964\n",
      "[156]\tvalid_0's multi_error: 0.488875\n",
      "[157]\tvalid_0's multi_error: 0.488746\n",
      "[158]\tvalid_0's multi_error: 0.488678\n",
      "[159]\tvalid_0's multi_error: 0.488425\n",
      "[160]\tvalid_0's multi_error: 0.488267\n",
      "[161]\tvalid_0's multi_error: 0.488231\n",
      "[162]\tvalid_0's multi_error: 0.488133\n",
      "[163]\tvalid_0's multi_error: 0.488007\n",
      "[164]\tvalid_0's multi_error: 0.487882\n",
      "[165]\tvalid_0's multi_error: 0.487854\n",
      "[166]\tvalid_0's multi_error: 0.487825\n",
      "[167]\tvalid_0's multi_error: 0.487743\n",
      "[168]\tvalid_0's multi_error: 0.487645\n",
      "[169]\tvalid_0's multi_error: 0.487579\n",
      "[170]\tvalid_0's multi_error: 0.487349\n",
      "[171]\tvalid_0's multi_error: 0.487299\n",
      "[172]\tvalid_0's multi_error: 0.48724\n",
      "[173]\tvalid_0's multi_error: 0.487185\n",
      "[174]\tvalid_0's multi_error: 0.48703\n",
      "[175]\tvalid_0's multi_error: 0.486982\n",
      "[176]\tvalid_0's multi_error: 0.486839\n",
      "[177]\tvalid_0's multi_error: 0.486722\n",
      "[178]\tvalid_0's multi_error: 0.486645\n",
      "[179]\tvalid_0's multi_error: 0.486503\n",
      "[180]\tvalid_0's multi_error: 0.486455\n",
      "[181]\tvalid_0's multi_error: 0.486319\n",
      "[182]\tvalid_0's multi_error: 0.486169\n",
      "[183]\tvalid_0's multi_error: 0.48607\n",
      "[184]\tvalid_0's multi_error: 0.485925\n",
      "[185]\tvalid_0's multi_error: 0.485954\n",
      "[186]\tvalid_0's multi_error: 0.485839\n",
      "[187]\tvalid_0's multi_error: 0.485873\n",
      "[188]\tvalid_0's multi_error: 0.48576\n",
      "[189]\tvalid_0's multi_error: 0.485645\n",
      "[190]\tvalid_0's multi_error: 0.485575\n",
      "[191]\tvalid_0's multi_error: 0.485379\n",
      "[192]\tvalid_0's multi_error: 0.485306\n",
      "[193]\tvalid_0's multi_error: 0.485252\n",
      "[194]\tvalid_0's multi_error: 0.485175\n",
      "[195]\tvalid_0's multi_error: 0.485113\n",
      "[196]\tvalid_0's multi_error: 0.485172\n",
      "[197]\tvalid_0's multi_error: 0.485088\n",
      "[198]\tvalid_0's multi_error: 0.484978\n",
      "[199]\tvalid_0's multi_error: 0.484955\n",
      "[200]\tvalid_0's multi_error: 0.484794\n",
      "[201]\tvalid_0's multi_error: 0.484622\n",
      "[202]\tvalid_0's multi_error: 0.484567\n",
      "[203]\tvalid_0's multi_error: 0.484622\n",
      "[204]\tvalid_0's multi_error: 0.484521\n",
      "[205]\tvalid_0's multi_error: 0.484336\n",
      "[206]\tvalid_0's multi_error: 0.484348\n",
      "[207]\tvalid_0's multi_error: 0.484352\n",
      "[208]\tvalid_0's multi_error: 0.484248\n",
      "[209]\tvalid_0's multi_error: 0.484094\n",
      "[210]\tvalid_0's multi_error: 0.484049\n",
      "[211]\tvalid_0's multi_error: 0.483928\n",
      "[212]\tvalid_0's multi_error: 0.483936\n",
      "[213]\tvalid_0's multi_error: 0.483924\n",
      "[214]\tvalid_0's multi_error: 0.483764\n",
      "[215]\tvalid_0's multi_error: 0.483649\n",
      "[216]\tvalid_0's multi_error: 0.483609\n",
      "[217]\tvalid_0's multi_error: 0.48356\n",
      "[218]\tvalid_0's multi_error: 0.483485\n",
      "[219]\tvalid_0's multi_error: 0.483406\n",
      "[220]\tvalid_0's multi_error: 0.483307\n",
      "[221]\tvalid_0's multi_error: 0.483297\n",
      "[222]\tvalid_0's multi_error: 0.483179\n",
      "[223]\tvalid_0's multi_error: 0.483137\n",
      "[224]\tvalid_0's multi_error: 0.483001\n",
      "[225]\tvalid_0's multi_error: 0.482933\n",
      "[226]\tvalid_0's multi_error: 0.482834\n",
      "[227]\tvalid_0's multi_error: 0.482793\n",
      "[228]\tvalid_0's multi_error: 0.482703\n",
      "[229]\tvalid_0's multi_error: 0.48263\n",
      "[230]\tvalid_0's multi_error: 0.48253\n",
      "[231]\tvalid_0's multi_error: 0.482548\n",
      "[232]\tvalid_0's multi_error: 0.482464\n",
      "[233]\tvalid_0's multi_error: 0.482378\n",
      "[234]\tvalid_0's multi_error: 0.482284\n",
      "[235]\tvalid_0's multi_error: 0.482275\n",
      "[236]\tvalid_0's multi_error: 0.482284\n",
      "[237]\tvalid_0's multi_error: 0.482227\n",
      "[238]\tvalid_0's multi_error: 0.482212\n",
      "[239]\tvalid_0's multi_error: 0.482067\n",
      "[240]\tvalid_0's multi_error: 0.482079\n",
      "[241]\tvalid_0's multi_error: 0.481951\n",
      "[242]\tvalid_0's multi_error: 0.481857\n",
      "[243]\tvalid_0's multi_error: 0.481827\n",
      "[244]\tvalid_0's multi_error: 0.481799\n",
      "[245]\tvalid_0's multi_error: 0.481696\n",
      "[246]\tvalid_0's multi_error: 0.481679\n",
      "[247]\tvalid_0's multi_error: 0.481554\n",
      "[248]\tvalid_0's multi_error: 0.481601\n",
      "[249]\tvalid_0's multi_error: 0.48153\n",
      "[250]\tvalid_0's multi_error: 0.481443\n",
      "[251]\tvalid_0's multi_error: 0.481528\n",
      "[252]\tvalid_0's multi_error: 0.48151\n",
      "[253]\tvalid_0's multi_error: 0.48141\n",
      "[254]\tvalid_0's multi_error: 0.481379\n",
      "[255]\tvalid_0's multi_error: 0.481342\n",
      "[256]\tvalid_0's multi_error: 0.48119\n",
      "[257]\tvalid_0's multi_error: 0.481085\n",
      "[258]\tvalid_0's multi_error: 0.481031\n",
      "[259]\tvalid_0's multi_error: 0.480954\n",
      "[260]\tvalid_0's multi_error: 0.480854\n",
      "[261]\tvalid_0's multi_error: 0.480766\n",
      "[262]\tvalid_0's multi_error: 0.480758\n",
      "[263]\tvalid_0's multi_error: 0.480703\n",
      "[264]\tvalid_0's multi_error: 0.480646\n",
      "[265]\tvalid_0's multi_error: 0.480637\n",
      "[266]\tvalid_0's multi_error: 0.480652\n",
      "[267]\tvalid_0's multi_error: 0.480531\n",
      "[268]\tvalid_0's multi_error: 0.480415\n",
      "[269]\tvalid_0's multi_error: 0.480387\n",
      "[270]\tvalid_0's multi_error: 0.480364\n",
      "[271]\tvalid_0's multi_error: 0.480275\n",
      "[272]\tvalid_0's multi_error: 0.480248\n",
      "[273]\tvalid_0's multi_error: 0.480312\n",
      "[274]\tvalid_0's multi_error: 0.480234\n",
      "[275]\tvalid_0's multi_error: 0.480163\n",
      "[276]\tvalid_0's multi_error: 0.480073\n",
      "[277]\tvalid_0's multi_error: 0.480016\n",
      "[278]\tvalid_0's multi_error: 0.479899\n",
      "[279]\tvalid_0's multi_error: 0.479948\n",
      "[280]\tvalid_0's multi_error: 0.479903\n",
      "[281]\tvalid_0's multi_error: 0.479864\n",
      "[282]\tvalid_0's multi_error: 0.479763\n",
      "[283]\tvalid_0's multi_error: 0.47976\n",
      "[284]\tvalid_0's multi_error: 0.479646\n",
      "[285]\tvalid_0's multi_error: 0.479591\n",
      "[286]\tvalid_0's multi_error: 0.479581\n",
      "[287]\tvalid_0's multi_error: 0.479557\n",
      "[288]\tvalid_0's multi_error: 0.479543\n",
      "[289]\tvalid_0's multi_error: 0.479537\n",
      "[290]\tvalid_0's multi_error: 0.479442\n",
      "[291]\tvalid_0's multi_error: 0.479393\n",
      "[292]\tvalid_0's multi_error: 0.479351\n",
      "[293]\tvalid_0's multi_error: 0.479266\n",
      "[294]\tvalid_0's multi_error: 0.479167\n",
      "[295]\tvalid_0's multi_error: 0.47914\n",
      "[296]\tvalid_0's multi_error: 0.479069\n",
      "[297]\tvalid_0's multi_error: 0.479006\n",
      "[298]\tvalid_0's multi_error: 0.479004\n",
      "[299]\tvalid_0's multi_error: 0.47897\n",
      "[300]\tvalid_0's multi_error: 0.478961\n",
      "[301]\tvalid_0's multi_error: 0.478942\n",
      "[302]\tvalid_0's multi_error: 0.47893\n",
      "[303]\tvalid_0's multi_error: 0.478918\n",
      "[304]\tvalid_0's multi_error: 0.478872\n",
      "[305]\tvalid_0's multi_error: 0.478821\n",
      "[306]\tvalid_0's multi_error: 0.478752\n",
      "[307]\tvalid_0's multi_error: 0.478704\n",
      "[308]\tvalid_0's multi_error: 0.478707\n",
      "[309]\tvalid_0's multi_error: 0.478642\n",
      "[310]\tvalid_0's multi_error: 0.478637\n",
      "[311]\tvalid_0's multi_error: 0.478682\n",
      "[312]\tvalid_0's multi_error: 0.47869\n",
      "[313]\tvalid_0's multi_error: 0.478685\n",
      "[314]\tvalid_0's multi_error: 0.478624\n",
      "[315]\tvalid_0's multi_error: 0.478624\n",
      "[316]\tvalid_0's multi_error: 0.478488\n",
      "[317]\tvalid_0's multi_error: 0.478415\n",
      "[318]\tvalid_0's multi_error: 0.478318\n",
      "[319]\tvalid_0's multi_error: 0.478348\n",
      "[320]\tvalid_0's multi_error: 0.478321\n",
      "[321]\tvalid_0's multi_error: 0.478273\n",
      "[322]\tvalid_0's multi_error: 0.478282\n",
      "[323]\tvalid_0's multi_error: 0.478275\n",
      "[324]\tvalid_0's multi_error: 0.478179\n",
      "[325]\tvalid_0's multi_error: 0.478176\n",
      "[326]\tvalid_0's multi_error: 0.478106\n",
      "[327]\tvalid_0's multi_error: 0.478091\n",
      "[328]\tvalid_0's multi_error: 0.478027\n",
      "[329]\tvalid_0's multi_error: 0.47804\n",
      "[330]\tvalid_0's multi_error: 0.47797\n",
      "[331]\tvalid_0's multi_error: 0.478051\n",
      "[332]\tvalid_0's multi_error: 0.478004\n",
      "[333]\tvalid_0's multi_error: 0.477972\n",
      "[334]\tvalid_0's multi_error: 0.477946\n",
      "[335]\tvalid_0's multi_error: 0.477873\n",
      "[336]\tvalid_0's multi_error: 0.477757\n",
      "[337]\tvalid_0's multi_error: 0.477767\n",
      "[338]\tvalid_0's multi_error: 0.477751\n",
      "[339]\tvalid_0's multi_error: 0.47773\n",
      "[340]\tvalid_0's multi_error: 0.477646\n",
      "[341]\tvalid_0's multi_error: 0.477543\n",
      "[342]\tvalid_0's multi_error: 0.477536\n",
      "[343]\tvalid_0's multi_error: 0.477493\n",
      "[344]\tvalid_0's multi_error: 0.477467\n",
      "[345]\tvalid_0's multi_error: 0.477446\n",
      "[346]\tvalid_0's multi_error: 0.477325\n",
      "[347]\tvalid_0's multi_error: 0.4773\n",
      "[348]\tvalid_0's multi_error: 0.477303\n",
      "[349]\tvalid_0's multi_error: 0.477307\n",
      "[350]\tvalid_0's multi_error: 0.477285\n",
      "[351]\tvalid_0's multi_error: 0.4773\n",
      "[352]\tvalid_0's multi_error: 0.477233\n",
      "[353]\tvalid_0's multi_error: 0.47713\n",
      "[354]\tvalid_0's multi_error: 0.47716\n",
      "[355]\tvalid_0's multi_error: 0.477091\n",
      "[356]\tvalid_0's multi_error: 0.477057\n",
      "[357]\tvalid_0's multi_error: 0.477055\n",
      "[358]\tvalid_0's multi_error: 0.477051\n",
      "[359]\tvalid_0's multi_error: 0.477034\n",
      "[360]\tvalid_0's multi_error: 0.477039\n",
      "[361]\tvalid_0's multi_error: 0.476934\n",
      "[362]\tvalid_0's multi_error: 0.476797\n",
      "[363]\tvalid_0's multi_error: 0.476763\n",
      "[364]\tvalid_0's multi_error: 0.476755\n",
      "[365]\tvalid_0's multi_error: 0.476791\n",
      "[366]\tvalid_0's multi_error: 0.47679\n",
      "[367]\tvalid_0's multi_error: 0.47676\n",
      "[368]\tvalid_0's multi_error: 0.476694\n",
      "[369]\tvalid_0's multi_error: 0.476673\n",
      "[370]\tvalid_0's multi_error: 0.476651\n",
      "[371]\tvalid_0's multi_error: 0.476655\n",
      "[372]\tvalid_0's multi_error: 0.47661\n",
      "[373]\tvalid_0's multi_error: 0.476616\n",
      "[374]\tvalid_0's multi_error: 0.476594\n",
      "[375]\tvalid_0's multi_error: 0.476567\n",
      "[376]\tvalid_0's multi_error: 0.47649\n",
      "[377]\tvalid_0's multi_error: 0.476516\n",
      "[378]\tvalid_0's multi_error: 0.476476\n",
      "[379]\tvalid_0's multi_error: 0.476437\n",
      "[380]\tvalid_0's multi_error: 0.476393\n",
      "[381]\tvalid_0's multi_error: 0.476424\n",
      "[382]\tvalid_0's multi_error: 0.476382\n",
      "[383]\tvalid_0's multi_error: 0.476258\n",
      "[384]\tvalid_0's multi_error: 0.476312\n",
      "[385]\tvalid_0's multi_error: 0.476272\n",
      "[386]\tvalid_0's multi_error: 0.476272\n",
      "[387]\tvalid_0's multi_error: 0.476297\n",
      "[388]\tvalid_0's multi_error: 0.476304\n",
      "[389]\tvalid_0's multi_error: 0.476276\n",
      "[390]\tvalid_0's multi_error: 0.476236\n",
      "[391]\tvalid_0's multi_error: 0.476222\n",
      "[392]\tvalid_0's multi_error: 0.476191\n",
      "[393]\tvalid_0's multi_error: 0.476164\n",
      "[394]\tvalid_0's multi_error: 0.476167\n",
      "[395]\tvalid_0's multi_error: 0.476158\n",
      "[396]\tvalid_0's multi_error: 0.476161\n",
      "[397]\tvalid_0's multi_error: 0.476197\n",
      "[398]\tvalid_0's multi_error: 0.476134\n"
     ]
    },
    {
     "name": "stdout",
     "output_type": "stream",
     "text": [
      "[399]\tvalid_0's multi_error: 0.476178\n",
      "[400]\tvalid_0's multi_error: 0.476134\n",
      "[401]\tvalid_0's multi_error: 0.476118\n",
      "[402]\tvalid_0's multi_error: 0.476082\n",
      "[403]\tvalid_0's multi_error: 0.476057\n",
      "[404]\tvalid_0's multi_error: 0.476042\n",
      "[405]\tvalid_0's multi_error: 0.476012\n",
      "[406]\tvalid_0's multi_error: 0.476\n",
      "[407]\tvalid_0's multi_error: 0.475999\n",
      "[408]\tvalid_0's multi_error: 0.475909\n",
      "[409]\tvalid_0's multi_error: 0.475931\n",
      "[410]\tvalid_0's multi_error: 0.475918\n",
      "[411]\tvalid_0's multi_error: 0.475875\n",
      "[412]\tvalid_0's multi_error: 0.475775\n",
      "[413]\tvalid_0's multi_error: 0.475796\n",
      "[414]\tvalid_0's multi_error: 0.475724\n",
      "[415]\tvalid_0's multi_error: 0.47574\n",
      "[416]\tvalid_0's multi_error: 0.475746\n",
      "[417]\tvalid_0's multi_error: 0.475685\n",
      "[418]\tvalid_0's multi_error: 0.475693\n",
      "[419]\tvalid_0's multi_error: 0.475679\n",
      "[420]\tvalid_0's multi_error: 0.475651\n",
      "[421]\tvalid_0's multi_error: 0.475627\n",
      "[422]\tvalid_0's multi_error: 0.475618\n",
      "[423]\tvalid_0's multi_error: 0.475585\n",
      "[424]\tvalid_0's multi_error: 0.475554\n",
      "[425]\tvalid_0's multi_error: 0.475607\n",
      "[426]\tvalid_0's multi_error: 0.475567\n",
      "[427]\tvalid_0's multi_error: 0.475542\n",
      "[428]\tvalid_0's multi_error: 0.475499\n",
      "[429]\tvalid_0's multi_error: 0.475437\n",
      "[430]\tvalid_0's multi_error: 0.475454\n",
      "[431]\tvalid_0's multi_error: 0.475467\n",
      "[432]\tvalid_0's multi_error: 0.475458\n",
      "[433]\tvalid_0's multi_error: 0.475397\n",
      "[434]\tvalid_0's multi_error: 0.475343\n",
      "[435]\tvalid_0's multi_error: 0.475337\n",
      "[436]\tvalid_0's multi_error: 0.475325\n",
      "[437]\tvalid_0's multi_error: 0.475321\n",
      "[438]\tvalid_0's multi_error: 0.47527\n",
      "[439]\tvalid_0's multi_error: 0.475266\n",
      "[440]\tvalid_0's multi_error: 0.475299\n",
      "[441]\tvalid_0's multi_error: 0.475246\n",
      "[442]\tvalid_0's multi_error: 0.475257\n",
      "[443]\tvalid_0's multi_error: 0.475234\n",
      "[444]\tvalid_0's multi_error: 0.475234\n",
      "[445]\tvalid_0's multi_error: 0.475237\n",
      "[446]\tvalid_0's multi_error: 0.47519\n",
      "[447]\tvalid_0's multi_error: 0.475182\n",
      "[448]\tvalid_0's multi_error: 0.47523\n",
      "[449]\tvalid_0's multi_error: 0.475188\n",
      "[450]\tvalid_0's multi_error: 0.475173\n",
      "[451]\tvalid_0's multi_error: 0.475185\n",
      "[452]\tvalid_0's multi_error: 0.475215\n",
      "[453]\tvalid_0's multi_error: 0.475172\n",
      "[454]\tvalid_0's multi_error: 0.47516\n",
      "[455]\tvalid_0's multi_error: 0.47513\n",
      "[456]\tvalid_0's multi_error: 0.475076\n",
      "[457]\tvalid_0's multi_error: 0.475081\n",
      "[458]\tvalid_0's multi_error: 0.475061\n",
      "[459]\tvalid_0's multi_error: 0.475018\n",
      "[460]\tvalid_0's multi_error: 0.475019\n",
      "[461]\tvalid_0's multi_error: 0.475013\n",
      "[462]\tvalid_0's multi_error: 0.475016\n",
      "[463]\tvalid_0's multi_error: 0.474996\n",
      "[464]\tvalid_0's multi_error: 0.475039\n",
      "[465]\tvalid_0's multi_error: 0.475001\n",
      "[466]\tvalid_0's multi_error: 0.475016\n",
      "[467]\tvalid_0's multi_error: 0.474985\n",
      "[468]\tvalid_0's multi_error: 0.474945\n",
      "[469]\tvalid_0's multi_error: 0.474922\n",
      "[470]\tvalid_0's multi_error: 0.47496\n",
      "[471]\tvalid_0's multi_error: 0.474936\n",
      "[472]\tvalid_0's multi_error: 0.474909\n",
      "[473]\tvalid_0's multi_error: 0.474855\n",
      "[474]\tvalid_0's multi_error: 0.474849\n",
      "[475]\tvalid_0's multi_error: 0.474801\n",
      "[476]\tvalid_0's multi_error: 0.474779\n",
      "[477]\tvalid_0's multi_error: 0.474806\n",
      "[478]\tvalid_0's multi_error: 0.474812\n",
      "[479]\tvalid_0's multi_error: 0.4748\n",
      "[480]\tvalid_0's multi_error: 0.474766\n",
      "[481]\tvalid_0's multi_error: 0.474784\n",
      "[482]\tvalid_0's multi_error: 0.474776\n",
      "[483]\tvalid_0's multi_error: 0.474794\n",
      "[484]\tvalid_0's multi_error: 0.47474\n",
      "[485]\tvalid_0's multi_error: 0.474757\n",
      "[486]\tvalid_0's multi_error: 0.474736\n",
      "[487]\tvalid_0's multi_error: 0.474737\n",
      "[488]\tvalid_0's multi_error: 0.47474\n",
      "[489]\tvalid_0's multi_error: 0.474742\n",
      "[490]\tvalid_0's multi_error: 0.474728\n",
      "[491]\tvalid_0's multi_error: 0.474767\n",
      "[492]\tvalid_0's multi_error: 0.474764\n",
      "[493]\tvalid_0's multi_error: 0.474722\n",
      "[494]\tvalid_0's multi_error: 0.47467\n",
      "[495]\tvalid_0's multi_error: 0.474704\n",
      "[496]\tvalid_0's multi_error: 0.474657\n",
      "[497]\tvalid_0's multi_error: 0.47467\n",
      "[498]\tvalid_0's multi_error: 0.474661\n",
      "[499]\tvalid_0's multi_error: 0.474688\n",
      "[500]\tvalid_0's multi_error: 0.474678\n",
      "[501]\tvalid_0's multi_error: 0.474667\n",
      "[502]\tvalid_0's multi_error: 0.474618\n",
      "[503]\tvalid_0's multi_error: 0.474563\n",
      "[504]\tvalid_0's multi_error: 0.474504\n",
      "[505]\tvalid_0's multi_error: 0.47451\n",
      "[506]\tvalid_0's multi_error: 0.47449\n",
      "[507]\tvalid_0's multi_error: 0.474457\n",
      "[508]\tvalid_0's multi_error: 0.474458\n",
      "[509]\tvalid_0's multi_error: 0.474469\n",
      "[510]\tvalid_0's multi_error: 0.474433\n",
      "[511]\tvalid_0's multi_error: 0.474424\n",
      "[512]\tvalid_0's multi_error: 0.474397\n",
      "[513]\tvalid_0's multi_error: 0.474387\n",
      "[514]\tvalid_0's multi_error: 0.474434\n",
      "[515]\tvalid_0's multi_error: 0.474394\n",
      "[516]\tvalid_0's multi_error: 0.47433\n",
      "[517]\tvalid_0's multi_error: 0.474325\n",
      "[518]\tvalid_0's multi_error: 0.47433\n",
      "[519]\tvalid_0's multi_error: 0.474325\n",
      "[520]\tvalid_0's multi_error: 0.474276\n",
      "[521]\tvalid_0's multi_error: 0.474234\n",
      "[522]\tvalid_0's multi_error: 0.474276\n",
      "[523]\tvalid_0's multi_error: 0.474303\n",
      "[524]\tvalid_0's multi_error: 0.474319\n",
      "[525]\tvalid_0's multi_error: 0.474318\n",
      "[526]\tvalid_0's multi_error: 0.474322\n",
      "[527]\tvalid_0's multi_error: 0.474297\n",
      "[528]\tvalid_0's multi_error: 0.47431\n",
      "[529]\tvalid_0's multi_error: 0.474279\n",
      "[530]\tvalid_0's multi_error: 0.474294\n",
      "[531]\tvalid_0's multi_error: 0.474249\n",
      "[532]\tvalid_0's multi_error: 0.474197\n",
      "[533]\tvalid_0's multi_error: 0.474234\n",
      "[534]\tvalid_0's multi_error: 0.474249\n",
      "[535]\tvalid_0's multi_error: 0.47426\n",
      "[536]\tvalid_0's multi_error: 0.47424\n",
      "[537]\tvalid_0's multi_error: 0.474218\n",
      "[538]\tvalid_0's multi_error: 0.474213\n",
      "[539]\tvalid_0's multi_error: 0.474193\n",
      "[540]\tvalid_0's multi_error: 0.474212\n",
      "[541]\tvalid_0's multi_error: 0.474224\n",
      "[542]\tvalid_0's multi_error: 0.474179\n",
      "[543]\tvalid_0's multi_error: 0.474172\n",
      "[544]\tvalid_0's multi_error: 0.474136\n",
      "[545]\tvalid_0's multi_error: 0.474154\n",
      "[546]\tvalid_0's multi_error: 0.47414\n",
      "[547]\tvalid_0's multi_error: 0.474121\n",
      "[548]\tvalid_0's multi_error: 0.474109\n",
      "[549]\tvalid_0's multi_error: 0.474072\n",
      "[550]\tvalid_0's multi_error: 0.474067\n",
      "[551]\tvalid_0's multi_error: 0.474034\n",
      "[552]\tvalid_0's multi_error: 0.474067\n",
      "[553]\tvalid_0's multi_error: 0.474049\n",
      "[554]\tvalid_0's multi_error: 0.474012\n",
      "[555]\tvalid_0's multi_error: 0.474025\n",
      "[556]\tvalid_0's multi_error: 0.474019\n",
      "[557]\tvalid_0's multi_error: 0.473954\n",
      "[558]\tvalid_0's multi_error: 0.473994\n",
      "[559]\tvalid_0's multi_error: 0.473943\n",
      "[560]\tvalid_0's multi_error: 0.473903\n",
      "[561]\tvalid_0's multi_error: 0.473904\n",
      "[562]\tvalid_0's multi_error: 0.4739\n",
      "[563]\tvalid_0's multi_error: 0.473884\n",
      "[564]\tvalid_0's multi_error: 0.473858\n",
      "[565]\tvalid_0's multi_error: 0.473831\n",
      "[566]\tvalid_0's multi_error: 0.473784\n",
      "[567]\tvalid_0's multi_error: 0.47383\n",
      "[568]\tvalid_0's multi_error: 0.473849\n",
      "[569]\tvalid_0's multi_error: 0.47386\n",
      "[570]\tvalid_0's multi_error: 0.473852\n",
      "[571]\tvalid_0's multi_error: 0.47381\n",
      "[572]\tvalid_0's multi_error: 0.473776\n",
      "[573]\tvalid_0's multi_error: 0.473797\n",
      "[574]\tvalid_0's multi_error: 0.473797\n",
      "[575]\tvalid_0's multi_error: 0.473839\n",
      "[576]\tvalid_0's multi_error: 0.473858\n",
      "[577]\tvalid_0's multi_error: 0.473794\n",
      "[578]\tvalid_0's multi_error: 0.473781\n",
      "[579]\tvalid_0's multi_error: 0.473757\n",
      "[580]\tvalid_0's multi_error: 0.473767\n",
      "[581]\tvalid_0's multi_error: 0.473758\n",
      "[582]\tvalid_0's multi_error: 0.473731\n",
      "[583]\tvalid_0's multi_error: 0.473696\n",
      "[584]\tvalid_0's multi_error: 0.473728\n",
      "[585]\tvalid_0's multi_error: 0.473728\n",
      "[586]\tvalid_0's multi_error: 0.47373\n",
      "[587]\tvalid_0's multi_error: 0.473743\n",
      "[588]\tvalid_0's multi_error: 0.473766\n",
      "[589]\tvalid_0's multi_error: 0.473737\n",
      "[590]\tvalid_0's multi_error: 0.473755\n",
      "[591]\tvalid_0's multi_error: 0.473746\n",
      "[592]\tvalid_0's multi_error: 0.47371\n",
      "[593]\tvalid_0's multi_error: 0.473691\n",
      "[594]\tvalid_0's multi_error: 0.473681\n",
      "[595]\tvalid_0's multi_error: 0.473649\n",
      "[596]\tvalid_0's multi_error: 0.473658\n",
      "[597]\tvalid_0's multi_error: 0.473666\n",
      "[598]\tvalid_0's multi_error: 0.473661\n",
      "[599]\tvalid_0's multi_error: 0.473609\n",
      "[600]\tvalid_0's multi_error: 0.473607\n",
      "[601]\tvalid_0's multi_error: 0.473587\n",
      "[602]\tvalid_0's multi_error: 0.473563\n",
      "[603]\tvalid_0's multi_error: 0.473543\n",
      "[604]\tvalid_0's multi_error: 0.473516\n",
      "[605]\tvalid_0's multi_error: 0.473493\n",
      "[606]\tvalid_0's multi_error: 0.473496\n",
      "[607]\tvalid_0's multi_error: 0.473506\n",
      "[608]\tvalid_0's multi_error: 0.473478\n",
      "[609]\tvalid_0's multi_error: 0.473475\n",
      "[610]\tvalid_0's multi_error: 0.473476\n",
      "[611]\tvalid_0's multi_error: 0.473494\n",
      "[612]\tvalid_0's multi_error: 0.473461\n",
      "[613]\tvalid_0's multi_error: 0.473466\n",
      "[614]\tvalid_0's multi_error: 0.473479\n",
      "[615]\tvalid_0's multi_error: 0.473487\n",
      "[616]\tvalid_0's multi_error: 0.473473\n",
      "[617]\tvalid_0's multi_error: 0.473452\n",
      "[618]\tvalid_0's multi_error: 0.473504\n",
      "[619]\tvalid_0's multi_error: 0.473494\n",
      "[620]\tvalid_0's multi_error: 0.473424\n",
      "[621]\tvalid_0's multi_error: 0.473428\n",
      "[622]\tvalid_0's multi_error: 0.473485\n",
      "[623]\tvalid_0's multi_error: 0.473484\n",
      "[624]\tvalid_0's multi_error: 0.473482\n",
      "[625]\tvalid_0's multi_error: 0.473482\n",
      "[626]\tvalid_0's multi_error: 0.473454\n",
      "[627]\tvalid_0's multi_error: 0.473448\n",
      "[628]\tvalid_0's multi_error: 0.473451\n",
      "[629]\tvalid_0's multi_error: 0.473425\n",
      "[630]\tvalid_0's multi_error: 0.473415\n",
      "[631]\tvalid_0's multi_error: 0.473409\n",
      "[632]\tvalid_0's multi_error: 0.473343\n",
      "[633]\tvalid_0's multi_error: 0.473397\n",
      "[634]\tvalid_0's multi_error: 0.473381\n",
      "[635]\tvalid_0's multi_error: 0.473358\n",
      "[636]\tvalid_0's multi_error: 0.473333\n",
      "[637]\tvalid_0's multi_error: 0.473337\n",
      "[638]\tvalid_0's multi_error: 0.473304\n",
      "[639]\tvalid_0's multi_error: 0.473261\n",
      "[640]\tvalid_0's multi_error: 0.473269\n",
      "[641]\tvalid_0's multi_error: 0.47321\n",
      "[642]\tvalid_0's multi_error: 0.47324\n",
      "[643]\tvalid_0's multi_error: 0.473237\n",
      "[644]\tvalid_0's multi_error: 0.473222\n",
      "[645]\tvalid_0's multi_error: 0.473179\n",
      "[646]\tvalid_0's multi_error: 0.473137\n",
      "[647]\tvalid_0's multi_error: 0.473203\n",
      "[648]\tvalid_0's multi_error: 0.473158\n",
      "[649]\tvalid_0's multi_error: 0.473116\n",
      "[650]\tvalid_0's multi_error: 0.473096\n",
      "[651]\tvalid_0's multi_error: 0.473101\n",
      "[652]\tvalid_0's multi_error: 0.473076\n",
      "[653]\tvalid_0's multi_error: 0.473061\n",
      "[654]\tvalid_0's multi_error: 0.473075\n",
      "[655]\tvalid_0's multi_error: 0.473067\n",
      "[656]\tvalid_0's multi_error: 0.473076\n",
      "[657]\tvalid_0's multi_error: 0.473088\n",
      "[658]\tvalid_0's multi_error: 0.47306\n",
      "[659]\tvalid_0's multi_error: 0.473067\n",
      "[660]\tvalid_0's multi_error: 0.473045\n",
      "[661]\tvalid_0's multi_error: 0.473039\n",
      "[662]\tvalid_0's multi_error: 0.47307\n",
      "[663]\tvalid_0's multi_error: 0.473028\n",
      "[664]\tvalid_0's multi_error: 0.47303\n",
      "[665]\tvalid_0's multi_error: 0.473004\n",
      "[666]\tvalid_0's multi_error: 0.473049\n",
      "[667]\tvalid_0's multi_error: 0.473006\n",
      "[668]\tvalid_0's multi_error: 0.472996\n",
      "[669]\tvalid_0's multi_error: 0.472987\n",
      "[670]\tvalid_0's multi_error: 0.472985\n",
      "[671]\tvalid_0's multi_error: 0.472967\n",
      "[672]\tvalid_0's multi_error: 0.472948\n",
      "[673]\tvalid_0's multi_error: 0.472969\n",
      "[674]\tvalid_0's multi_error: 0.472924\n",
      "[675]\tvalid_0's multi_error: 0.472901\n",
      "[676]\tvalid_0's multi_error: 0.472919\n",
      "[677]\tvalid_0's multi_error: 0.472945\n",
      "[678]\tvalid_0's multi_error: 0.472949\n",
      "[679]\tvalid_0's multi_error: 0.472934\n",
      "[680]\tvalid_0's multi_error: 0.472906\n",
      "[681]\tvalid_0's multi_error: 0.472897\n",
      "[682]\tvalid_0's multi_error: 0.472837\n",
      "[683]\tvalid_0's multi_error: 0.472869\n",
      "[684]\tvalid_0's multi_error: 0.472901\n",
      "[685]\tvalid_0's multi_error: 0.472885\n",
      "[686]\tvalid_0's multi_error: 0.47284\n",
      "[687]\tvalid_0's multi_error: 0.472852\n",
      "[688]\tvalid_0's multi_error: 0.472848\n",
      "[689]\tvalid_0's multi_error: 0.47283\n",
      "[690]\tvalid_0's multi_error: 0.472858\n",
      "[691]\tvalid_0's multi_error: 0.472827\n",
      "[692]\tvalid_0's multi_error: 0.472804\n",
      "[693]\tvalid_0's multi_error: 0.472842\n",
      "[694]\tvalid_0's multi_error: 0.472836\n",
      "[695]\tvalid_0's multi_error: 0.472807\n",
      "[696]\tvalid_0's multi_error: 0.472761\n",
      "[697]\tvalid_0's multi_error: 0.472725\n",
      "[698]\tvalid_0's multi_error: 0.47276\n",
      "[699]\tvalid_0's multi_error: 0.472775\n",
      "[700]\tvalid_0's multi_error: 0.472699\n",
      "[701]\tvalid_0's multi_error: 0.472763\n",
      "[702]\tvalid_0's multi_error: 0.472739\n",
      "[703]\tvalid_0's multi_error: 0.472757\n",
      "[704]\tvalid_0's multi_error: 0.472736\n",
      "[705]\tvalid_0's multi_error: 0.472685\n",
      "[706]\tvalid_0's multi_error: 0.472684\n",
      "[707]\tvalid_0's multi_error: 0.472609\n",
      "[708]\tvalid_0's multi_error: 0.472642\n",
      "[709]\tvalid_0's multi_error: 0.472676\n",
      "[710]\tvalid_0's multi_error: 0.472712\n",
      "[711]\tvalid_0's multi_error: 0.472728\n",
      "[712]\tvalid_0's multi_error: 0.472688\n",
      "[713]\tvalid_0's multi_error: 0.472663\n",
      "[714]\tvalid_0's multi_error: 0.472685\n",
      "[715]\tvalid_0's multi_error: 0.472704\n",
      "[716]\tvalid_0's multi_error: 0.472712\n",
      "[717]\tvalid_0's multi_error: 0.472722\n",
      "[718]\tvalid_0's multi_error: 0.472663\n",
      "[719]\tvalid_0's multi_error: 0.472636\n",
      "[720]\tvalid_0's multi_error: 0.472634\n",
      "[721]\tvalid_0's multi_error: 0.472639\n",
      "[722]\tvalid_0's multi_error: 0.47264\n",
      "[723]\tvalid_0's multi_error: 0.47261\n",
      "[724]\tvalid_0's multi_error: 0.47259\n",
      "[725]\tvalid_0's multi_error: 0.472573\n",
      "[726]\tvalid_0's multi_error: 0.472576\n",
      "[727]\tvalid_0's multi_error: 0.472622\n",
      "[728]\tvalid_0's multi_error: 0.472561\n",
      "[729]\tvalid_0's multi_error: 0.472542\n",
      "[730]\tvalid_0's multi_error: 0.472579\n",
      "[731]\tvalid_0's multi_error: 0.472543\n",
      "[732]\tvalid_0's multi_error: 0.472545\n",
      "[733]\tvalid_0's multi_error: 0.472546\n",
      "[734]\tvalid_0's multi_error: 0.472546\n",
      "[735]\tvalid_0's multi_error: 0.472507\n",
      "[736]\tvalid_0's multi_error: 0.472472\n",
      "[737]\tvalid_0's multi_error: 0.472457\n",
      "[738]\tvalid_0's multi_error: 0.472464\n",
      "[739]\tvalid_0's multi_error: 0.472469\n",
      "[740]\tvalid_0's multi_error: 0.472472\n",
      "[741]\tvalid_0's multi_error: 0.47244\n",
      "[742]\tvalid_0's multi_error: 0.472397\n",
      "[743]\tvalid_0's multi_error: 0.47239\n",
      "[744]\tvalid_0's multi_error: 0.472409\n",
      "[745]\tvalid_0's multi_error: 0.472394\n",
      "[746]\tvalid_0's multi_error: 0.472388\n",
      "[747]\tvalid_0's multi_error: 0.472424\n",
      "[748]\tvalid_0's multi_error: 0.472437\n",
      "[749]\tvalid_0's multi_error: 0.472352\n",
      "[750]\tvalid_0's multi_error: 0.47229\n",
      "[751]\tvalid_0's multi_error: 0.472291\n",
      "[752]\tvalid_0's multi_error: 0.472255\n",
      "[753]\tvalid_0's multi_error: 0.472249\n",
      "[754]\tvalid_0's multi_error: 0.472293\n",
      "[755]\tvalid_0's multi_error: 0.472299\n",
      "[756]\tvalid_0's multi_error: 0.472301\n",
      "[757]\tvalid_0's multi_error: 0.472321\n",
      "[758]\tvalid_0's multi_error: 0.472325\n",
      "[759]\tvalid_0's multi_error: 0.472276\n",
      "[760]\tvalid_0's multi_error: 0.472263\n",
      "[761]\tvalid_0's multi_error: 0.472263\n",
      "[762]\tvalid_0's multi_error: 0.472245\n",
      "[763]\tvalid_0's multi_error: 0.472254\n",
      "[764]\tvalid_0's multi_error: 0.472228\n",
      "[765]\tvalid_0's multi_error: 0.472225\n",
      "[766]\tvalid_0's multi_error: 0.472237\n",
      "[767]\tvalid_0's multi_error: 0.472188\n",
      "[768]\tvalid_0's multi_error: 0.472173\n",
      "[769]\tvalid_0's multi_error: 0.472239\n",
      "[770]\tvalid_0's multi_error: 0.472279\n",
      "[771]\tvalid_0's multi_error: 0.472288\n",
      "[772]\tvalid_0's multi_error: 0.472263\n",
      "[773]\tvalid_0's multi_error: 0.472269\n",
      "[774]\tvalid_0's multi_error: 0.472269\n",
      "[775]\tvalid_0's multi_error: 0.472294\n",
      "[776]\tvalid_0's multi_error: 0.472278\n",
      "[777]\tvalid_0's multi_error: 0.472287\n",
      "[778]\tvalid_0's multi_error: 0.472224\n",
      "[779]\tvalid_0's multi_error: 0.472233\n",
      "[780]\tvalid_0's multi_error: 0.472197\n",
      "[781]\tvalid_0's multi_error: 0.472215\n",
      "[782]\tvalid_0's multi_error: 0.472227\n",
      "[783]\tvalid_0's multi_error: 0.472216\n",
      "[784]\tvalid_0's multi_error: 0.472206\n",
      "[785]\tvalid_0's multi_error: 0.472206\n",
      "[786]\tvalid_0's multi_error: 0.472221\n",
      "[787]\tvalid_0's multi_error: 0.472169\n",
      "[788]\tvalid_0's multi_error: 0.472167\n",
      "[789]\tvalid_0's multi_error: 0.472148\n",
      "[790]\tvalid_0's multi_error: 0.472139\n",
      "[791]\tvalid_0's multi_error: 0.472158\n",
      "[792]\tvalid_0's multi_error: 0.472099\n",
      "[793]\tvalid_0's multi_error: 0.47213\n",
      "[794]\tvalid_0's multi_error: 0.472145\n",
      "[795]\tvalid_0's multi_error: 0.472143\n",
      "[796]\tvalid_0's multi_error: 0.472133\n",
      "[797]\tvalid_0's multi_error: 0.472148\n",
      "[798]\tvalid_0's multi_error: 0.472124\n",
      "[799]\tvalid_0's multi_error: 0.472125\n",
      "[800]\tvalid_0's multi_error: 0.472139\n",
      "[801]\tvalid_0's multi_error: 0.472173\n",
      "[802]\tvalid_0's multi_error: 0.472115\n",
      "[803]\tvalid_0's multi_error: 0.472157\n",
      "[804]\tvalid_0's multi_error: 0.472172\n",
      "[805]\tvalid_0's multi_error: 0.472164\n",
      "[806]\tvalid_0's multi_error: 0.472158\n",
      "[807]\tvalid_0's multi_error: 0.472151\n",
      "[808]\tvalid_0's multi_error: 0.472184\n",
      "[809]\tvalid_0's multi_error: 0.472206\n",
      "[810]\tvalid_0's multi_error: 0.472152\n",
      "[811]\tvalid_0's multi_error: 0.472148\n",
      "[812]\tvalid_0's multi_error: 0.472178\n",
      "[813]\tvalid_0's multi_error: 0.472158\n",
      "[814]\tvalid_0's multi_error: 0.472124\n",
      "[815]\tvalid_0's multi_error: 0.472127\n",
      "[816]\tvalid_0's multi_error: 0.472106\n",
      "[817]\tvalid_0's multi_error: 0.47211\n",
      "[818]\tvalid_0's multi_error: 0.472118\n",
      "[819]\tvalid_0's multi_error: 0.472119\n",
      "[820]\tvalid_0's multi_error: 0.47209\n",
      "[821]\tvalid_0's multi_error: 0.472085\n",
      "[822]\tvalid_0's multi_error: 0.472084\n",
      "[823]\tvalid_0's multi_error: 0.472104\n",
      "[824]\tvalid_0's multi_error: 0.472075\n",
      "[825]\tvalid_0's multi_error: 0.472054\n",
      "[826]\tvalid_0's multi_error: 0.472063\n",
      "[827]\tvalid_0's multi_error: 0.472112\n",
      "[828]\tvalid_0's multi_error: 0.472128\n",
      "[829]\tvalid_0's multi_error: 0.472121\n",
      "[830]\tvalid_0's multi_error: 0.472103\n"
     ]
    },
    {
     "name": "stdout",
     "output_type": "stream",
     "text": [
      "[831]\tvalid_0's multi_error: 0.472116\n",
      "[832]\tvalid_0's multi_error: 0.472063\n",
      "[833]\tvalid_0's multi_error: 0.472072\n",
      "[834]\tvalid_0's multi_error: 0.472061\n",
      "[835]\tvalid_0's multi_error: 0.472052\n",
      "[836]\tvalid_0's multi_error: 0.47203\n",
      "[837]\tvalid_0's multi_error: 0.472031\n",
      "[838]\tvalid_0's multi_error: 0.472018\n",
      "[839]\tvalid_0's multi_error: 0.471976\n",
      "[840]\tvalid_0's multi_error: 0.471988\n",
      "[841]\tvalid_0's multi_error: 0.472004\n",
      "[842]\tvalid_0's multi_error: 0.472028\n",
      "[843]\tvalid_0's multi_error: 0.471997\n",
      "[844]\tvalid_0's multi_error: 0.471997\n",
      "[845]\tvalid_0's multi_error: 0.471966\n",
      "[846]\tvalid_0's multi_error: 0.47196\n",
      "[847]\tvalid_0's multi_error: 0.471927\n",
      "[848]\tvalid_0's multi_error: 0.471949\n",
      "[849]\tvalid_0's multi_error: 0.471939\n",
      "[850]\tvalid_0's multi_error: 0.47191\n",
      "[851]\tvalid_0's multi_error: 0.471915\n",
      "[852]\tvalid_0's multi_error: 0.471916\n",
      "[853]\tvalid_0's multi_error: 0.471934\n",
      "[854]\tvalid_0's multi_error: 0.471916\n",
      "[855]\tvalid_0's multi_error: 0.471885\n",
      "[856]\tvalid_0's multi_error: 0.4719\n",
      "[857]\tvalid_0's multi_error: 0.471882\n",
      "[858]\tvalid_0's multi_error: 0.471863\n",
      "[859]\tvalid_0's multi_error: 0.471837\n",
      "[860]\tvalid_0's multi_error: 0.471816\n",
      "[861]\tvalid_0's multi_error: 0.471836\n",
      "[862]\tvalid_0's multi_error: 0.471855\n",
      "[863]\tvalid_0's multi_error: 0.471837\n",
      "[864]\tvalid_0's multi_error: 0.471854\n",
      "[865]\tvalid_0's multi_error: 0.471894\n",
      "[866]\tvalid_0's multi_error: 0.471876\n",
      "[867]\tvalid_0's multi_error: 0.471885\n",
      "[868]\tvalid_0's multi_error: 0.471912\n",
      "[869]\tvalid_0's multi_error: 0.471897\n",
      "[870]\tvalid_0's multi_error: 0.47186\n",
      "[871]\tvalid_0's multi_error: 0.471827\n",
      "[872]\tvalid_0's multi_error: 0.471787\n",
      "[873]\tvalid_0's multi_error: 0.47181\n",
      "[874]\tvalid_0's multi_error: 0.471803\n",
      "[875]\tvalid_0's multi_error: 0.471818\n",
      "[876]\tvalid_0's multi_error: 0.471757\n",
      "[877]\tvalid_0's multi_error: 0.471758\n",
      "[878]\tvalid_0's multi_error: 0.471751\n",
      "[879]\tvalid_0's multi_error: 0.471748\n",
      "[880]\tvalid_0's multi_error: 0.471772\n",
      "[881]\tvalid_0's multi_error: 0.4718\n",
      "[882]\tvalid_0's multi_error: 0.471761\n",
      "[883]\tvalid_0's multi_error: 0.471745\n",
      "[884]\tvalid_0's multi_error: 0.471763\n",
      "[885]\tvalid_0's multi_error: 0.471754\n",
      "[886]\tvalid_0's multi_error: 0.471796\n",
      "[887]\tvalid_0's multi_error: 0.471755\n",
      "[888]\tvalid_0's multi_error: 0.471767\n",
      "[889]\tvalid_0's multi_error: 0.471754\n",
      "[890]\tvalid_0's multi_error: 0.471716\n",
      "[891]\tvalid_0's multi_error: 0.471719\n",
      "[892]\tvalid_0's multi_error: 0.471684\n",
      "[893]\tvalid_0's multi_error: 0.471678\n",
      "[894]\tvalid_0's multi_error: 0.471654\n",
      "[895]\tvalid_0's multi_error: 0.47166\n",
      "[896]\tvalid_0's multi_error: 0.471673\n",
      "[897]\tvalid_0's multi_error: 0.471628\n",
      "[898]\tvalid_0's multi_error: 0.471621\n",
      "[899]\tvalid_0's multi_error: 0.471648\n",
      "[900]\tvalid_0's multi_error: 0.471642\n",
      "[901]\tvalid_0's multi_error: 0.471651\n",
      "[902]\tvalid_0's multi_error: 0.471634\n",
      "[903]\tvalid_0's multi_error: 0.471642\n",
      "[904]\tvalid_0's multi_error: 0.471691\n",
      "[905]\tvalid_0's multi_error: 0.471713\n",
      "[906]\tvalid_0's multi_error: 0.471678\n",
      "[907]\tvalid_0's multi_error: 0.471688\n",
      "[908]\tvalid_0's multi_error: 0.471654\n",
      "[909]\tvalid_0's multi_error: 0.471639\n",
      "[910]\tvalid_0's multi_error: 0.471652\n",
      "[911]\tvalid_0's multi_error: 0.471637\n",
      "[912]\tvalid_0's multi_error: 0.471648\n",
      "[913]\tvalid_0's multi_error: 0.471606\n",
      "[914]\tvalid_0's multi_error: 0.47159\n",
      "[915]\tvalid_0's multi_error: 0.471607\n",
      "[916]\tvalid_0's multi_error: 0.471588\n",
      "[917]\tvalid_0's multi_error: 0.471591\n",
      "[918]\tvalid_0's multi_error: 0.47159\n",
      "[919]\tvalid_0's multi_error: 0.471582\n",
      "[920]\tvalid_0's multi_error: 0.471591\n",
      "[921]\tvalid_0's multi_error: 0.471551\n",
      "[922]\tvalid_0's multi_error: 0.471531\n",
      "[923]\tvalid_0's multi_error: 0.471527\n",
      "[924]\tvalid_0's multi_error: 0.471543\n",
      "[925]\tvalid_0's multi_error: 0.471548\n",
      "[926]\tvalid_0's multi_error: 0.471557\n",
      "[927]\tvalid_0's multi_error: 0.471536\n",
      "[928]\tvalid_0's multi_error: 0.471521\n",
      "[929]\tvalid_0's multi_error: 0.471522\n",
      "[930]\tvalid_0's multi_error: 0.471533\n",
      "[931]\tvalid_0's multi_error: 0.471522\n",
      "[932]\tvalid_0's multi_error: 0.471543\n",
      "[933]\tvalid_0's multi_error: 0.47156\n",
      "[934]\tvalid_0's multi_error: 0.471543\n",
      "[935]\tvalid_0's multi_error: 0.471521\n",
      "[936]\tvalid_0's multi_error: 0.471525\n",
      "[937]\tvalid_0's multi_error: 0.471521\n",
      "[938]\tvalid_0's multi_error: 0.471494\n",
      "[939]\tvalid_0's multi_error: 0.471512\n",
      "[940]\tvalid_0's multi_error: 0.471516\n",
      "[941]\tvalid_0's multi_error: 0.471507\n",
      "[942]\tvalid_0's multi_error: 0.471521\n",
      "[943]\tvalid_0's multi_error: 0.47151\n",
      "[944]\tvalid_0's multi_error: 0.471507\n",
      "[945]\tvalid_0's multi_error: 0.471509\n",
      "[946]\tvalid_0's multi_error: 0.471525\n",
      "[947]\tvalid_0's multi_error: 0.471543\n",
      "[948]\tvalid_0's multi_error: 0.471555\n",
      "[949]\tvalid_0's multi_error: 0.471579\n",
      "[950]\tvalid_0's multi_error: 0.471594\n",
      "[951]\tvalid_0's multi_error: 0.471581\n",
      "[952]\tvalid_0's multi_error: 0.471587\n",
      "[953]\tvalid_0's multi_error: 0.471548\n",
      "[954]\tvalid_0's multi_error: 0.4715\n",
      "[955]\tvalid_0's multi_error: 0.471499\n",
      "[956]\tvalid_0's multi_error: 0.471518\n",
      "[957]\tvalid_0's multi_error: 0.471503\n",
      "[958]\tvalid_0's multi_error: 0.471496\n",
      "[959]\tvalid_0's multi_error: 0.471496\n",
      "[960]\tvalid_0's multi_error: 0.471484\n",
      "[961]\tvalid_0's multi_error: 0.471451\n",
      "[962]\tvalid_0's multi_error: 0.471485\n",
      "[963]\tvalid_0's multi_error: 0.471497\n",
      "[964]\tvalid_0's multi_error: 0.471451\n",
      "[965]\tvalid_0's multi_error: 0.471473\n",
      "[966]\tvalid_0's multi_error: 0.471421\n",
      "[967]\tvalid_0's multi_error: 0.471413\n",
      "[968]\tvalid_0's multi_error: 0.471407\n",
      "[969]\tvalid_0's multi_error: 0.47141\n",
      "[970]\tvalid_0's multi_error: 0.471416\n",
      "[971]\tvalid_0's multi_error: 0.471382\n",
      "[972]\tvalid_0's multi_error: 0.471406\n",
      "[973]\tvalid_0's multi_error: 0.471387\n",
      "[974]\tvalid_0's multi_error: 0.47137\n",
      "[975]\tvalid_0's multi_error: 0.47134\n",
      "[976]\tvalid_0's multi_error: 0.471339\n",
      "[977]\tvalid_0's multi_error: 0.471318\n",
      "[978]\tvalid_0's multi_error: 0.471325\n",
      "[979]\tvalid_0's multi_error: 0.471373\n",
      "[980]\tvalid_0's multi_error: 0.471382\n",
      "[981]\tvalid_0's multi_error: 0.471381\n",
      "[982]\tvalid_0's multi_error: 0.47136\n",
      "[983]\tvalid_0's multi_error: 0.471384\n",
      "[984]\tvalid_0's multi_error: 0.471425\n",
      "[985]\tvalid_0's multi_error: 0.47144\n",
      "[986]\tvalid_0's multi_error: 0.471485\n",
      "[987]\tvalid_0's multi_error: 0.471467\n",
      "[988]\tvalid_0's multi_error: 0.471488\n",
      "[989]\tvalid_0's multi_error: 0.471469\n",
      "[990]\tvalid_0's multi_error: 0.471433\n",
      "[991]\tvalid_0's multi_error: 0.471428\n",
      "[992]\tvalid_0's multi_error: 0.471431\n",
      "[993]\tvalid_0's multi_error: 0.47141\n",
      "[994]\tvalid_0's multi_error: 0.471399\n",
      "[995]\tvalid_0's multi_error: 0.471412\n",
      "[996]\tvalid_0's multi_error: 0.471378\n",
      "[997]\tvalid_0's multi_error: 0.471366\n",
      "[998]\tvalid_0's multi_error: 0.471388\n",
      "[999]\tvalid_0's multi_error: 0.471396\n",
      "[1000]\tvalid_0's multi_error: 0.4714\n",
      "[1001]\tvalid_0's multi_error: 0.471396\n",
      "[1002]\tvalid_0's multi_error: 0.471343\n",
      "[1003]\tvalid_0's multi_error: 0.471336\n",
      "[1004]\tvalid_0's multi_error: 0.47131\n",
      "[1005]\tvalid_0's multi_error: 0.471312\n",
      "[1006]\tvalid_0's multi_error: 0.471263\n",
      "[1007]\tvalid_0's multi_error: 0.471278\n",
      "[1008]\tvalid_0's multi_error: 0.471306\n",
      "[1009]\tvalid_0's multi_error: 0.47133\n",
      "[1010]\tvalid_0's multi_error: 0.471258\n",
      "[1011]\tvalid_0's multi_error: 0.47126\n",
      "[1012]\tvalid_0's multi_error: 0.471236\n",
      "[1013]\tvalid_0's multi_error: 0.471179\n",
      "[1014]\tvalid_0's multi_error: 0.471182\n",
      "[1015]\tvalid_0's multi_error: 0.471149\n",
      "[1016]\tvalid_0's multi_error: 0.471164\n",
      "[1017]\tvalid_0's multi_error: 0.471134\n",
      "[1018]\tvalid_0's multi_error: 0.471131\n",
      "[1019]\tvalid_0's multi_error: 0.471157\n",
      "[1020]\tvalid_0's multi_error: 0.471152\n",
      "[1021]\tvalid_0's multi_error: 0.471145\n",
      "[1022]\tvalid_0's multi_error: 0.471145\n",
      "[1023]\tvalid_0's multi_error: 0.4712\n",
      "[1024]\tvalid_0's multi_error: 0.471199\n",
      "[1025]\tvalid_0's multi_error: 0.471173\n",
      "[1026]\tvalid_0's multi_error: 0.471182\n",
      "[1027]\tvalid_0's multi_error: 0.471187\n",
      "[1028]\tvalid_0's multi_error: 0.471216\n",
      "[1029]\tvalid_0's multi_error: 0.471203\n",
      "[1030]\tvalid_0's multi_error: 0.47117\n",
      "[1031]\tvalid_0's multi_error: 0.471172\n",
      "[1032]\tvalid_0's multi_error: 0.471176\n",
      "[1033]\tvalid_0's multi_error: 0.471161\n",
      "[1034]\tvalid_0's multi_error: 0.471139\n",
      "[1035]\tvalid_0's multi_error: 0.471139\n",
      "[1036]\tvalid_0's multi_error: 0.471076\n",
      "[1037]\tvalid_0's multi_error: 0.471109\n",
      "[1038]\tvalid_0's multi_error: 0.471081\n",
      "[1039]\tvalid_0's multi_error: 0.471107\n",
      "[1040]\tvalid_0's multi_error: 0.471125\n",
      "[1041]\tvalid_0's multi_error: 0.471158\n",
      "[1042]\tvalid_0's multi_error: 0.47114\n",
      "[1043]\tvalid_0's multi_error: 0.471163\n",
      "[1044]\tvalid_0's multi_error: 0.471166\n",
      "[1045]\tvalid_0's multi_error: 0.471182\n",
      "[1046]\tvalid_0's multi_error: 0.471155\n",
      "[1047]\tvalid_0's multi_error: 0.471128\n",
      "[1048]\tvalid_0's multi_error: 0.471143\n",
      "[1049]\tvalid_0's multi_error: 0.471136\n",
      "[1050]\tvalid_0's multi_error: 0.47113\n",
      "[1051]\tvalid_0's multi_error: 0.471103\n",
      "[1052]\tvalid_0's multi_error: 0.471136\n",
      "[1053]\tvalid_0's multi_error: 0.471139\n",
      "[1054]\tvalid_0's multi_error: 0.471125\n",
      "[1055]\tvalid_0's multi_error: 0.471145\n",
      "[1056]\tvalid_0's multi_error: 0.471151\n",
      "[1057]\tvalid_0's multi_error: 0.47113\n",
      "[1058]\tvalid_0's multi_error: 0.471099\n",
      "[1059]\tvalid_0's multi_error: 0.471075\n",
      "[1060]\tvalid_0's multi_error: 0.471064\n",
      "[1061]\tvalid_0's multi_error: 0.471042\n",
      "[1062]\tvalid_0's multi_error: 0.471001\n",
      "[1063]\tvalid_0's multi_error: 0.470987\n",
      "[1064]\tvalid_0's multi_error: 0.470984\n",
      "[1065]\tvalid_0's multi_error: 0.470966\n",
      "[1066]\tvalid_0's multi_error: 0.470979\n",
      "[1067]\tvalid_0's multi_error: 0.471009\n",
      "[1068]\tvalid_0's multi_error: 0.470975\n",
      "[1069]\tvalid_0's multi_error: 0.470978\n",
      "[1070]\tvalid_0's multi_error: 0.470957\n",
      "[1071]\tvalid_0's multi_error: 0.470936\n",
      "[1072]\tvalid_0's multi_error: 0.470939\n",
      "[1073]\tvalid_0's multi_error: 0.470933\n",
      "[1074]\tvalid_0's multi_error: 0.470909\n",
      "[1075]\tvalid_0's multi_error: 0.470906\n",
      "[1076]\tvalid_0's multi_error: 0.470884\n",
      "[1077]\tvalid_0's multi_error: 0.470891\n",
      "[1078]\tvalid_0's multi_error: 0.470891\n",
      "[1079]\tvalid_0's multi_error: 0.470919\n",
      "[1080]\tvalid_0's multi_error: 0.47091\n",
      "[1081]\tvalid_0's multi_error: 0.470913\n",
      "[1082]\tvalid_0's multi_error: 0.47094\n",
      "[1083]\tvalid_0's multi_error: 0.470924\n",
      "[1084]\tvalid_0's multi_error: 0.470912\n",
      "[1085]\tvalid_0's multi_error: 0.470916\n",
      "[1086]\tvalid_0's multi_error: 0.470896\n",
      "[1087]\tvalid_0's multi_error: 0.470867\n",
      "[1088]\tvalid_0's multi_error: 0.470867\n",
      "[1089]\tvalid_0's multi_error: 0.470866\n",
      "[1090]\tvalid_0's multi_error: 0.470836\n",
      "[1091]\tvalid_0's multi_error: 0.470848\n",
      "[1092]\tvalid_0's multi_error: 0.470888\n",
      "[1093]\tvalid_0's multi_error: 0.470873\n",
      "[1094]\tvalid_0's multi_error: 0.470875\n",
      "[1095]\tvalid_0's multi_error: 0.470864\n",
      "[1096]\tvalid_0's multi_error: 0.470887\n",
      "[1097]\tvalid_0's multi_error: 0.470881\n",
      "[1098]\tvalid_0's multi_error: 0.470864\n",
      "[1099]\tvalid_0's multi_error: 0.470876\n",
      "[1100]\tvalid_0's multi_error: 0.470849\n",
      "[1101]\tvalid_0's multi_error: 0.470837\n",
      "[1102]\tvalid_0's multi_error: 0.470885\n",
      "[1103]\tvalid_0's multi_error: 0.470843\n",
      "[1104]\tvalid_0's multi_error: 0.47086\n",
      "[1105]\tvalid_0's multi_error: 0.470887\n",
      "[1106]\tvalid_0's multi_error: 0.47089\n",
      "[1107]\tvalid_0's multi_error: 0.470858\n",
      "[1108]\tvalid_0's multi_error: 0.470852\n",
      "[1109]\tvalid_0's multi_error: 0.470858\n",
      "[1110]\tvalid_0's multi_error: 0.470867\n",
      "[1111]\tvalid_0's multi_error: 0.470882\n",
      "[1112]\tvalid_0's multi_error: 0.470891\n",
      "[1113]\tvalid_0's multi_error: 0.470916\n",
      "[1114]\tvalid_0's multi_error: 0.470894\n",
      "[1115]\tvalid_0's multi_error: 0.470872\n",
      "[1116]\tvalid_0's multi_error: 0.470878\n",
      "[1117]\tvalid_0's multi_error: 0.470873\n",
      "[1118]\tvalid_0's multi_error: 0.470878\n",
      "[1119]\tvalid_0's multi_error: 0.47087\n",
      "[1120]\tvalid_0's multi_error: 0.470857\n",
      "[1121]\tvalid_0's multi_error: 0.470809\n",
      "[1122]\tvalid_0's multi_error: 0.470861\n",
      "[1123]\tvalid_0's multi_error: 0.470831\n",
      "[1124]\tvalid_0's multi_error: 0.470851\n",
      "[1125]\tvalid_0's multi_error: 0.470836\n",
      "[1126]\tvalid_0's multi_error: 0.470824\n",
      "[1127]\tvalid_0's multi_error: 0.470852\n",
      "[1128]\tvalid_0's multi_error: 0.470843\n",
      "[1129]\tvalid_0's multi_error: 0.470849\n",
      "[1130]\tvalid_0's multi_error: 0.470782\n",
      "[1131]\tvalid_0's multi_error: 0.470801\n",
      "[1132]\tvalid_0's multi_error: 0.470807\n",
      "[1133]\tvalid_0's multi_error: 0.470806\n",
      "[1134]\tvalid_0's multi_error: 0.470799\n",
      "[1135]\tvalid_0's multi_error: 0.470803\n",
      "[1136]\tvalid_0's multi_error: 0.47083\n",
      "[1137]\tvalid_0's multi_error: 0.470827\n",
      "[1138]\tvalid_0's multi_error: 0.470809\n",
      "[1139]\tvalid_0's multi_error: 0.4708\n",
      "[1140]\tvalid_0's multi_error: 0.470819\n",
      "[1141]\tvalid_0's multi_error: 0.470866\n",
      "[1142]\tvalid_0's multi_error: 0.470876\n",
      "[1143]\tvalid_0's multi_error: 0.470867\n",
      "[1144]\tvalid_0's multi_error: 0.47086\n",
      "[1145]\tvalid_0's multi_error: 0.470839\n",
      "[1146]\tvalid_0's multi_error: 0.470815\n",
      "[1147]\tvalid_0's multi_error: 0.470834\n",
      "[1148]\tvalid_0's multi_error: 0.470852\n",
      "[1149]\tvalid_0's multi_error: 0.470858\n",
      "[1150]\tvalid_0's multi_error: 0.470864\n",
      "[1151]\tvalid_0's multi_error: 0.470804\n",
      "[1152]\tvalid_0's multi_error: 0.470784\n",
      "[1153]\tvalid_0's multi_error: 0.470821\n",
      "[1154]\tvalid_0's multi_error: 0.470784\n",
      "[1155]\tvalid_0's multi_error: 0.470758\n",
      "[1156]\tvalid_0's multi_error: 0.470751\n",
      "[1157]\tvalid_0's multi_error: 0.470769\n",
      "[1158]\tvalid_0's multi_error: 0.470773\n",
      "[1159]\tvalid_0's multi_error: 0.470748\n",
      "[1160]\tvalid_0's multi_error: 0.470767\n",
      "[1161]\tvalid_0's multi_error: 0.470779\n",
      "[1162]\tvalid_0's multi_error: 0.4708\n",
      "[1163]\tvalid_0's multi_error: 0.470784\n",
      "[1164]\tvalid_0's multi_error: 0.470819\n",
      "[1165]\tvalid_0's multi_error: 0.4708\n",
      "[1166]\tvalid_0's multi_error: 0.470754\n",
      "[1167]\tvalid_0's multi_error: 0.470727\n",
      "[1168]\tvalid_0's multi_error: 0.470736\n",
      "[1169]\tvalid_0's multi_error: 0.470733\n",
      "[1170]\tvalid_0's multi_error: 0.470734\n",
      "[1171]\tvalid_0's multi_error: 0.470742\n",
      "[1172]\tvalid_0's multi_error: 0.470748\n",
      "[1173]\tvalid_0's multi_error: 0.470727\n",
      "[1174]\tvalid_0's multi_error: 0.470703\n",
      "[1175]\tvalid_0's multi_error: 0.470681\n",
      "[1176]\tvalid_0's multi_error: 0.470685\n",
      "[1177]\tvalid_0's multi_error: 0.470642\n",
      "[1178]\tvalid_0's multi_error: 0.470619\n",
      "[1179]\tvalid_0's multi_error: 0.470593\n",
      "[1180]\tvalid_0's multi_error: 0.470582\n",
      "[1181]\tvalid_0's multi_error: 0.470555\n",
      "[1182]\tvalid_0's multi_error: 0.470558\n",
      "[1183]\tvalid_0's multi_error: 0.470524\n",
      "[1184]\tvalid_0's multi_error: 0.470546\n",
      "[1185]\tvalid_0's multi_error: 0.470548\n",
      "[1186]\tvalid_0's multi_error: 0.470578\n",
      "[1187]\tvalid_0's multi_error: 0.470579\n",
      "[1188]\tvalid_0's multi_error: 0.470557\n",
      "[1189]\tvalid_0's multi_error: 0.470557\n",
      "[1190]\tvalid_0's multi_error: 0.470545\n",
      "[1191]\tvalid_0's multi_error: 0.470563\n",
      "[1192]\tvalid_0's multi_error: 0.47059\n",
      "[1193]\tvalid_0's multi_error: 0.470572\n",
      "[1194]\tvalid_0's multi_error: 0.470572\n",
      "[1195]\tvalid_0's multi_error: 0.470594\n",
      "[1196]\tvalid_0's multi_error: 0.470564\n",
      "[1197]\tvalid_0's multi_error: 0.470543\n",
      "[1198]\tvalid_0's multi_error: 0.47053\n",
      "[1199]\tvalid_0's multi_error: 0.470516\n",
      "[1200]\tvalid_0's multi_error: 0.470548\n",
      "[1201]\tvalid_0's multi_error: 0.470484\n",
      "[1202]\tvalid_0's multi_error: 0.47049\n",
      "[1203]\tvalid_0's multi_error: 0.470549\n",
      "[1204]\tvalid_0's multi_error: 0.47051\n",
      "[1205]\tvalid_0's multi_error: 0.470501\n",
      "[1206]\tvalid_0's multi_error: 0.470525\n",
      "[1207]\tvalid_0's multi_error: 0.470539\n",
      "[1208]\tvalid_0's multi_error: 0.470546\n",
      "[1209]\tvalid_0's multi_error: 0.470563\n",
      "[1210]\tvalid_0's multi_error: 0.470555\n",
      "[1211]\tvalid_0's multi_error: 0.470539\n",
      "[1212]\tvalid_0's multi_error: 0.470533\n",
      "[1213]\tvalid_0's multi_error: 0.470542\n",
      "[1214]\tvalid_0's multi_error: 0.470545\n",
      "[1215]\tvalid_0's multi_error: 0.470521\n",
      "[1216]\tvalid_0's multi_error: 0.470482\n",
      "[1217]\tvalid_0's multi_error: 0.470512\n",
      "[1218]\tvalid_0's multi_error: 0.470509\n",
      "[1219]\tvalid_0's multi_error: 0.470488\n",
      "[1220]\tvalid_0's multi_error: 0.470497\n",
      "[1221]\tvalid_0's multi_error: 0.470458\n",
      "[1222]\tvalid_0's multi_error: 0.47047\n",
      "[1223]\tvalid_0's multi_error: 0.470419\n",
      "[1224]\tvalid_0's multi_error: 0.470425\n",
      "[1225]\tvalid_0's multi_error: 0.470415\n",
      "[1226]\tvalid_0's multi_error: 0.47039\n",
      "[1227]\tvalid_0's multi_error: 0.470351\n",
      "[1228]\tvalid_0's multi_error: 0.470354\n",
      "[1229]\tvalid_0's multi_error: 0.470331\n",
      "[1230]\tvalid_0's multi_error: 0.470327\n",
      "[1231]\tvalid_0's multi_error: 0.470372\n",
      "[1232]\tvalid_0's multi_error: 0.470379\n",
      "[1233]\tvalid_0's multi_error: 0.470382\n",
      "[1234]\tvalid_0's multi_error: 0.470379\n",
      "[1235]\tvalid_0's multi_error: 0.47041\n",
      "[1236]\tvalid_0's multi_error: 0.470422\n",
      "[1237]\tvalid_0's multi_error: 0.470378\n",
      "[1238]\tvalid_0's multi_error: 0.470367\n",
      "[1239]\tvalid_0's multi_error: 0.470348\n",
      "[1240]\tvalid_0's multi_error: 0.470348\n",
      "[1241]\tvalid_0's multi_error: 0.470351\n",
      "[1242]\tvalid_0's multi_error: 0.470369\n",
      "[1243]\tvalid_0's multi_error: 0.470346\n",
      "[1244]\tvalid_0's multi_error: 0.470316\n",
      "[1245]\tvalid_0's multi_error: 0.470337\n",
      "[1246]\tvalid_0's multi_error: 0.470299\n",
      "[1247]\tvalid_0's multi_error: 0.470345\n",
      "[1248]\tvalid_0's multi_error: 0.470358\n",
      "[1249]\tvalid_0's multi_error: 0.470343\n",
      "[1250]\tvalid_0's multi_error: 0.470363\n",
      "[1251]\tvalid_0's multi_error: 0.470379\n",
      "[1252]\tvalid_0's multi_error: 0.470346\n",
      "[1253]\tvalid_0's multi_error: 0.470394\n",
      "[1254]\tvalid_0's multi_error: 0.470375\n",
      "[1255]\tvalid_0's multi_error: 0.470384\n"
     ]
    },
    {
     "name": "stdout",
     "output_type": "stream",
     "text": [
      "[1256]\tvalid_0's multi_error: 0.470372\n",
      "[1257]\tvalid_0's multi_error: 0.470346\n",
      "[1258]\tvalid_0's multi_error: 0.470336\n",
      "[1259]\tvalid_0's multi_error: 0.470351\n",
      "[1260]\tvalid_0's multi_error: 0.47033\n",
      "[1261]\tvalid_0's multi_error: 0.470306\n",
      "[1262]\tvalid_0's multi_error: 0.470325\n",
      "[1263]\tvalid_0's multi_error: 0.470349\n",
      "[1264]\tvalid_0's multi_error: 0.470349\n",
      "[1265]\tvalid_0's multi_error: 0.470375\n",
      "[1266]\tvalid_0's multi_error: 0.470419\n",
      "[1267]\tvalid_0's multi_error: 0.470419\n",
      "[1268]\tvalid_0's multi_error: 0.470387\n",
      "[1269]\tvalid_0's multi_error: 0.470416\n",
      "[1270]\tvalid_0's multi_error: 0.470413\n",
      "[1271]\tvalid_0's multi_error: 0.470396\n",
      "[1272]\tvalid_0's multi_error: 0.470373\n",
      "[1273]\tvalid_0's multi_error: 0.470354\n",
      "[1274]\tvalid_0's multi_error: 0.470376\n",
      "[1275]\tvalid_0's multi_error: 0.470369\n",
      "[1276]\tvalid_0's multi_error: 0.470339\n",
      "[1277]\tvalid_0's multi_error: 0.470327\n",
      "[1278]\tvalid_0's multi_error: 0.470307\n",
      "[1279]\tvalid_0's multi_error: 0.470319\n",
      "[1280]\tvalid_0's multi_error: 0.47031\n",
      "[1281]\tvalid_0's multi_error: 0.470312\n",
      "[1282]\tvalid_0's multi_error: 0.470316\n",
      "[1283]\tvalid_0's multi_error: 0.470303\n",
      "[1284]\tvalid_0's multi_error: 0.470263\n",
      "[1285]\tvalid_0's multi_error: 0.470243\n",
      "[1286]\tvalid_0's multi_error: 0.470266\n",
      "[1287]\tvalid_0's multi_error: 0.470233\n",
      "[1288]\tvalid_0's multi_error: 0.470245\n",
      "[1289]\tvalid_0's multi_error: 0.47024\n",
      "[1290]\tvalid_0's multi_error: 0.470269\n",
      "[1291]\tvalid_0's multi_error: 0.470266\n",
      "[1292]\tvalid_0's multi_error: 0.470284\n",
      "[1293]\tvalid_0's multi_error: 0.470306\n",
      "[1294]\tvalid_0's multi_error: 0.47029\n",
      "[1295]\tvalid_0's multi_error: 0.470276\n",
      "[1296]\tvalid_0's multi_error: 0.470237\n",
      "[1297]\tvalid_0's multi_error: 0.470228\n",
      "[1298]\tvalid_0's multi_error: 0.470196\n",
      "[1299]\tvalid_0's multi_error: 0.470199\n",
      "[1300]\tvalid_0's multi_error: 0.470224\n",
      "[1301]\tvalid_0's multi_error: 0.470206\n",
      "[1302]\tvalid_0's multi_error: 0.470224\n",
      "[1303]\tvalid_0's multi_error: 0.470215\n",
      "[1304]\tvalid_0's multi_error: 0.470236\n",
      "[1305]\tvalid_0's multi_error: 0.470246\n",
      "[1306]\tvalid_0's multi_error: 0.470246\n",
      "[1307]\tvalid_0's multi_error: 0.470267\n",
      "[1308]\tvalid_0's multi_error: 0.470251\n",
      "[1309]\tvalid_0's multi_error: 0.470237\n",
      "[1310]\tvalid_0's multi_error: 0.47023\n",
      "[1311]\tvalid_0's multi_error: 0.470245\n",
      "[1312]\tvalid_0's multi_error: 0.470257\n",
      "[1313]\tvalid_0's multi_error: 0.470219\n",
      "[1314]\tvalid_0's multi_error: 0.470248\n",
      "[1315]\tvalid_0's multi_error: 0.470242\n",
      "[1316]\tvalid_0's multi_error: 0.470239\n",
      "[1317]\tvalid_0's multi_error: 0.470224\n",
      "[1318]\tvalid_0's multi_error: 0.470237\n",
      "[1319]\tvalid_0's multi_error: 0.470233\n",
      "[1320]\tvalid_0's multi_error: 0.470243\n",
      "[1321]\tvalid_0's multi_error: 0.470248\n",
      "[1322]\tvalid_0's multi_error: 0.470278\n",
      "[1323]\tvalid_0's multi_error: 0.470254\n",
      "[1324]\tvalid_0's multi_error: 0.470267\n",
      "[1325]\tvalid_0's multi_error: 0.470216\n",
      "[1326]\tvalid_0's multi_error: 0.470243\n",
      "[1327]\tvalid_0's multi_error: 0.470254\n",
      "[1328]\tvalid_0's multi_error: 0.470267\n",
      "[1329]\tvalid_0's multi_error: 0.470275\n",
      "[1330]\tvalid_0's multi_error: 0.470269\n",
      "[1331]\tvalid_0's multi_error: 0.470273\n",
      "[1332]\tvalid_0's multi_error: 0.470243\n",
      "[1333]\tvalid_0's multi_error: 0.47026\n",
      "[1334]\tvalid_0's multi_error: 0.470219\n",
      "[1335]\tvalid_0's multi_error: 0.470234\n",
      "[1336]\tvalid_0's multi_error: 0.470237\n",
      "[1337]\tvalid_0's multi_error: 0.470243\n",
      "[1338]\tvalid_0's multi_error: 0.470257\n",
      "[1339]\tvalid_0's multi_error: 0.470272\n",
      "[1340]\tvalid_0's multi_error: 0.470281\n",
      "[1341]\tvalid_0's multi_error: 0.470343\n",
      "[1342]\tvalid_0's multi_error: 0.470348\n",
      "[1343]\tvalid_0's multi_error: 0.470334\n",
      "[1344]\tvalid_0's multi_error: 0.470318\n",
      "[1345]\tvalid_0's multi_error: 0.470316\n",
      "[1346]\tvalid_0's multi_error: 0.470328\n",
      "[1347]\tvalid_0's multi_error: 0.470299\n",
      "[1348]\tvalid_0's multi_error: 0.470275\n",
      "Early stopping, best iteration is:\n",
      "[1298]\tvalid_0's multi_error: 0.470196\n",
      "2\n",
      "training start...\n",
      "[1]\tvalid_0's multi_error: 0.701492\n",
      "Training until validation scores don't improve for 50 rounds.\n",
      "[2]\tvalid_0's multi_error: 0.679783\n",
      "[3]\tvalid_0's multi_error: 0.658104\n",
      "[4]\tvalid_0's multi_error: 0.635343\n",
      "[5]\tvalid_0's multi_error: 0.614135\n",
      "[6]\tvalid_0's multi_error: 0.596884\n",
      "[7]\tvalid_0's multi_error: 0.585359\n",
      "[8]\tvalid_0's multi_error: 0.578687\n",
      "[9]\tvalid_0's multi_error: 0.573147\n",
      "[10]\tvalid_0's multi_error: 0.568644\n",
      "[11]\tvalid_0's multi_error: 0.565119\n",
      "[12]\tvalid_0's multi_error: 0.561674\n",
      "[13]\tvalid_0's multi_error: 0.558737\n",
      "[14]\tvalid_0's multi_error: 0.556223\n",
      "[15]\tvalid_0's multi_error: 0.55385\n",
      "[16]\tvalid_0's multi_error: 0.551802\n",
      "[17]\tvalid_0's multi_error: 0.550077\n",
      "[18]\tvalid_0's multi_error: 0.548234\n",
      "[19]\tvalid_0's multi_error: 0.546405\n",
      "[20]\tvalid_0's multi_error: 0.544887\n",
      "[21]\tvalid_0's multi_error: 0.543808\n",
      "[22]\tvalid_0's multi_error: 0.54215\n",
      "[23]\tvalid_0's multi_error: 0.541096\n",
      "[24]\tvalid_0's multi_error: 0.539632\n",
      "[25]\tvalid_0's multi_error: 0.538286\n",
      "[26]\tvalid_0's multi_error: 0.537205\n",
      "[27]\tvalid_0's multi_error: 0.535807\n",
      "[28]\tvalid_0's multi_error: 0.534962\n",
      "[29]\tvalid_0's multi_error: 0.533832\n",
      "[30]\tvalid_0's multi_error: 0.532805\n",
      "[31]\tvalid_0's multi_error: 0.531941\n",
      "[32]\tvalid_0's multi_error: 0.530849\n",
      "[33]\tvalid_0's multi_error: 0.529747\n",
      "[34]\tvalid_0's multi_error: 0.528747\n",
      "[35]\tvalid_0's multi_error: 0.527962\n",
      "[36]\tvalid_0's multi_error: 0.527017\n",
      "[37]\tvalid_0's multi_error: 0.526289\n",
      "[38]\tvalid_0's multi_error: 0.52548\n",
      "[39]\tvalid_0's multi_error: 0.524787\n",
      "[40]\tvalid_0's multi_error: 0.523928\n",
      "[41]\tvalid_0's multi_error: 0.523131\n",
      "[42]\tvalid_0's multi_error: 0.522423\n",
      "[43]\tvalid_0's multi_error: 0.52156\n",
      "[44]\tvalid_0's multi_error: 0.520944\n",
      "[45]\tvalid_0's multi_error: 0.520271\n",
      "[46]\tvalid_0's multi_error: 0.519763\n",
      "[47]\tvalid_0's multi_error: 0.518929\n",
      "[48]\tvalid_0's multi_error: 0.518252\n",
      "[49]\tvalid_0's multi_error: 0.517722\n",
      "[50]\tvalid_0's multi_error: 0.517298\n",
      "[51]\tvalid_0's multi_error: 0.51661\n",
      "[52]\tvalid_0's multi_error: 0.516057\n",
      "[53]\tvalid_0's multi_error: 0.515586\n",
      "[54]\tvalid_0's multi_error: 0.514929\n",
      "[55]\tvalid_0's multi_error: 0.514459\n",
      "[56]\tvalid_0's multi_error: 0.514053\n",
      "[57]\tvalid_0's multi_error: 0.513587\n",
      "[58]\tvalid_0's multi_error: 0.513007\n",
      "[59]\tvalid_0's multi_error: 0.512526\n",
      "[60]\tvalid_0's multi_error: 0.511972\n",
      "[61]\tvalid_0's multi_error: 0.511431\n",
      "[62]\tvalid_0's multi_error: 0.51095\n",
      "[63]\tvalid_0's multi_error: 0.510537\n",
      "[64]\tvalid_0's multi_error: 0.51024\n",
      "[65]\tvalid_0's multi_error: 0.509816\n",
      "[66]\tvalid_0's multi_error: 0.509471\n",
      "[67]\tvalid_0's multi_error: 0.509134\n",
      "[68]\tvalid_0's multi_error: 0.508602\n",
      "[69]\tvalid_0's multi_error: 0.508235\n",
      "[70]\tvalid_0's multi_error: 0.50784\n",
      "[71]\tvalid_0's multi_error: 0.507443\n",
      "[72]\tvalid_0's multi_error: 0.506949\n",
      "[73]\tvalid_0's multi_error: 0.506526\n",
      "[74]\tvalid_0's multi_error: 0.506213\n",
      "[75]\tvalid_0's multi_error: 0.505701\n",
      "[76]\tvalid_0's multi_error: 0.505437\n",
      "[77]\tvalid_0's multi_error: 0.505117\n",
      "[78]\tvalid_0's multi_error: 0.50468\n",
      "[79]\tvalid_0's multi_error: 0.504317\n",
      "[80]\tvalid_0's multi_error: 0.503926\n",
      "[81]\tvalid_0's multi_error: 0.503537\n",
      "[82]\tvalid_0's multi_error: 0.503235\n",
      "[83]\tvalid_0's multi_error: 0.503098\n",
      "[84]\tvalid_0's multi_error: 0.502816\n",
      "[85]\tvalid_0's multi_error: 0.50249\n",
      "[86]\tvalid_0's multi_error: 0.50215\n",
      "[87]\tvalid_0's multi_error: 0.501874\n",
      "[88]\tvalid_0's multi_error: 0.501908\n",
      "[89]\tvalid_0's multi_error: 0.501495\n",
      "[90]\tvalid_0's multi_error: 0.501307\n",
      "[91]\tvalid_0's multi_error: 0.501004\n",
      "[92]\tvalid_0's multi_error: 0.50072\n",
      "[93]\tvalid_0's multi_error: 0.500317\n",
      "[94]\tvalid_0's multi_error: 0.500087\n",
      "[95]\tvalid_0's multi_error: 0.499922\n",
      "[96]\tvalid_0's multi_error: 0.499756\n",
      "[97]\tvalid_0's multi_error: 0.499532\n",
      "[98]\tvalid_0's multi_error: 0.49922\n",
      "[99]\tvalid_0's multi_error: 0.498998\n",
      "[100]\tvalid_0's multi_error: 0.498751\n",
      "[101]\tvalid_0's multi_error: 0.49839\n",
      "[102]\tvalid_0's multi_error: 0.498108\n",
      "[103]\tvalid_0's multi_error: 0.49789\n",
      "[104]\tvalid_0's multi_error: 0.497632\n",
      "[105]\tvalid_0's multi_error: 0.497428\n",
      "[106]\tvalid_0's multi_error: 0.497101\n",
      "[107]\tvalid_0's multi_error: 0.496987\n",
      "[108]\tvalid_0's multi_error: 0.49681\n",
      "[109]\tvalid_0's multi_error: 0.496669\n",
      "[110]\tvalid_0's multi_error: 0.496602\n",
      "[111]\tvalid_0's multi_error: 0.496347\n",
      "[112]\tvalid_0's multi_error: 0.496256\n",
      "[113]\tvalid_0's multi_error: 0.495905\n",
      "[114]\tvalid_0's multi_error: 0.495798\n",
      "[115]\tvalid_0's multi_error: 0.495553\n",
      "[116]\tvalid_0's multi_error: 0.495326\n",
      "[117]\tvalid_0's multi_error: 0.495259\n",
      "[118]\tvalid_0's multi_error: 0.495062\n",
      "[119]\tvalid_0's multi_error: 0.494935\n",
      "[120]\tvalid_0's multi_error: 0.494577\n",
      "[121]\tvalid_0's multi_error: 0.494407\n",
      "[122]\tvalid_0's multi_error: 0.494247\n",
      "[123]\tvalid_0's multi_error: 0.494208\n",
      "[124]\tvalid_0's multi_error: 0.493901\n",
      "[125]\tvalid_0's multi_error: 0.49378\n",
      "[126]\tvalid_0's multi_error: 0.493563\n",
      "[127]\tvalid_0's multi_error: 0.493448\n",
      "[128]\tvalid_0's multi_error: 0.493431\n",
      "[129]\tvalid_0's multi_error: 0.49321\n",
      "[130]\tvalid_0's multi_error: 0.493146\n",
      "[131]\tvalid_0's multi_error: 0.492963\n",
      "[132]\tvalid_0's multi_error: 0.492771\n",
      "[133]\tvalid_0's multi_error: 0.492638\n",
      "[134]\tvalid_0's multi_error: 0.49249\n",
      "[135]\tvalid_0's multi_error: 0.492423\n",
      "[136]\tvalid_0's multi_error: 0.492263\n",
      "[137]\tvalid_0's multi_error: 0.492234\n",
      "[138]\tvalid_0's multi_error: 0.49194\n",
      "[139]\tvalid_0's multi_error: 0.491759\n",
      "[140]\tvalid_0's multi_error: 0.491678\n",
      "[141]\tvalid_0's multi_error: 0.491531\n",
      "[142]\tvalid_0's multi_error: 0.49145\n",
      "[143]\tvalid_0's multi_error: 0.491419\n",
      "[144]\tvalid_0's multi_error: 0.491275\n",
      "[145]\tvalid_0's multi_error: 0.49114\n",
      "[146]\tvalid_0's multi_error: 0.490974\n",
      "[147]\tvalid_0's multi_error: 0.490844\n",
      "[148]\tvalid_0's multi_error: 0.490708\n",
      "[149]\tvalid_0's multi_error: 0.490575\n",
      "[150]\tvalid_0's multi_error: 0.490472\n",
      "[151]\tvalid_0's multi_error: 0.490305\n",
      "[152]\tvalid_0's multi_error: 0.490102\n",
      "[153]\tvalid_0's multi_error: 0.490025\n",
      "[154]\tvalid_0's multi_error: 0.489932\n",
      "[155]\tvalid_0's multi_error: 0.489898\n",
      "[156]\tvalid_0's multi_error: 0.489659\n",
      "[157]\tvalid_0's multi_error: 0.48959\n",
      "[158]\tvalid_0's multi_error: 0.489463\n",
      "[159]\tvalid_0's multi_error: 0.489347\n",
      "[160]\tvalid_0's multi_error: 0.489126\n",
      "[161]\tvalid_0's multi_error: 0.48908\n",
      "[162]\tvalid_0's multi_error: 0.489002\n",
      "[163]\tvalid_0's multi_error: 0.488931\n",
      "[164]\tvalid_0's multi_error: 0.488838\n",
      "[165]\tvalid_0's multi_error: 0.488725\n",
      "[166]\tvalid_0's multi_error: 0.488672\n",
      "[167]\tvalid_0's multi_error: 0.48849\n",
      "[168]\tvalid_0's multi_error: 0.488286\n",
      "[169]\tvalid_0's multi_error: 0.488238\n",
      "[170]\tvalid_0's multi_error: 0.488171\n",
      "[171]\tvalid_0's multi_error: 0.487971\n",
      "[172]\tvalid_0's multi_error: 0.487841\n",
      "[173]\tvalid_0's multi_error: 0.487708\n",
      "[174]\tvalid_0's multi_error: 0.487598\n",
      "[175]\tvalid_0's multi_error: 0.48752\n",
      "[176]\tvalid_0's multi_error: 0.487471\n",
      "[177]\tvalid_0's multi_error: 0.487362\n",
      "[178]\tvalid_0's multi_error: 0.487307\n",
      "[179]\tvalid_0's multi_error: 0.48721\n",
      "[180]\tvalid_0's multi_error: 0.487101\n",
      "[181]\tvalid_0's multi_error: 0.486987\n",
      "[182]\tvalid_0's multi_error: 0.486981\n",
      "[183]\tvalid_0's multi_error: 0.486814\n",
      "[184]\tvalid_0's multi_error: 0.486684\n",
      "[185]\tvalid_0's multi_error: 0.486738\n",
      "[186]\tvalid_0's multi_error: 0.486619\n",
      "[187]\tvalid_0's multi_error: 0.486481\n",
      "[188]\tvalid_0's multi_error: 0.486363\n",
      "[189]\tvalid_0's multi_error: 0.486332\n",
      "[190]\tvalid_0's multi_error: 0.486195\n",
      "[191]\tvalid_0's multi_error: 0.486016\n",
      "[192]\tvalid_0's multi_error: 0.486038\n",
      "[193]\tvalid_0's multi_error: 0.485831\n",
      "[194]\tvalid_0's multi_error: 0.485796\n",
      "[195]\tvalid_0's multi_error: 0.485728\n",
      "[196]\tvalid_0's multi_error: 0.48558\n",
      "[197]\tvalid_0's multi_error: 0.485534\n",
      "[198]\tvalid_0's multi_error: 0.485446\n",
      "[199]\tvalid_0's multi_error: 0.485462\n",
      "[200]\tvalid_0's multi_error: 0.485392\n",
      "[201]\tvalid_0's multi_error: 0.485316\n",
      "[202]\tvalid_0's multi_error: 0.485268\n",
      "[203]\tvalid_0's multi_error: 0.485174\n",
      "[204]\tvalid_0's multi_error: 0.48511\n",
      "[205]\tvalid_0's multi_error: 0.484983\n",
      "[206]\tvalid_0's multi_error: 0.484911\n",
      "[207]\tvalid_0's multi_error: 0.484881\n",
      "[208]\tvalid_0's multi_error: 0.484778\n",
      "[209]\tvalid_0's multi_error: 0.484704\n",
      "[210]\tvalid_0's multi_error: 0.484602\n",
      "[211]\tvalid_0's multi_error: 0.484517\n",
      "[212]\tvalid_0's multi_error: 0.484348\n",
      "[213]\tvalid_0's multi_error: 0.484262\n",
      "[214]\tvalid_0's multi_error: 0.484122\n",
      "[215]\tvalid_0's multi_error: 0.484086\n",
      "[216]\tvalid_0's multi_error: 0.484066\n",
      "[217]\tvalid_0's multi_error: 0.484069\n",
      "[218]\tvalid_0's multi_error: 0.48391\n",
      "[219]\tvalid_0's multi_error: 0.483902\n",
      "[220]\tvalid_0's multi_error: 0.483808\n",
      "[221]\tvalid_0's multi_error: 0.483625\n",
      "[222]\tvalid_0's multi_error: 0.483547\n",
      "[223]\tvalid_0's multi_error: 0.48346\n",
      "[224]\tvalid_0's multi_error: 0.483337\n",
      "[225]\tvalid_0's multi_error: 0.483286\n",
      "[226]\tvalid_0's multi_error: 0.483222\n",
      "[227]\tvalid_0's multi_error: 0.48319\n",
      "[228]\tvalid_0's multi_error: 0.483057\n",
      "[229]\tvalid_0's multi_error: 0.482977\n",
      "[230]\tvalid_0's multi_error: 0.48288\n",
      "[231]\tvalid_0's multi_error: 0.482844\n",
      "[232]\tvalid_0's multi_error: 0.482831\n",
      "[233]\tvalid_0's multi_error: 0.482756\n",
      "[234]\tvalid_0's multi_error: 0.482728\n",
      "[235]\tvalid_0's multi_error: 0.48255\n",
      "[236]\tvalid_0's multi_error: 0.482557\n",
      "[237]\tvalid_0's multi_error: 0.482499\n",
      "[238]\tvalid_0's multi_error: 0.482537\n",
      "[239]\tvalid_0's multi_error: 0.482435\n",
      "[240]\tvalid_0's multi_error: 0.482299\n",
      "[241]\tvalid_0's multi_error: 0.482298\n",
      "[242]\tvalid_0's multi_error: 0.482187\n",
      "[243]\tvalid_0's multi_error: 0.482169\n",
      "[244]\tvalid_0's multi_error: 0.482044\n",
      "[245]\tvalid_0's multi_error: 0.48202\n",
      "[246]\tvalid_0's multi_error: 0.482022\n",
      "[247]\tvalid_0's multi_error: 0.481959\n",
      "[248]\tvalid_0's multi_error: 0.481896\n",
      "[249]\tvalid_0's multi_error: 0.48185\n",
      "[250]\tvalid_0's multi_error: 0.481753\n",
      "[251]\tvalid_0's multi_error: 0.481698\n",
      "[252]\tvalid_0's multi_error: 0.481571\n",
      "[253]\tvalid_0's multi_error: 0.481545\n",
      "[254]\tvalid_0's multi_error: 0.48144\n",
      "[255]\tvalid_0's multi_error: 0.481408\n",
      "[256]\tvalid_0's multi_error: 0.481289\n",
      "[257]\tvalid_0's multi_error: 0.481331\n",
      "[258]\tvalid_0's multi_error: 0.481199\n",
      "[259]\tvalid_0's multi_error: 0.48122\n",
      "[260]\tvalid_0's multi_error: 0.481241\n",
      "[261]\tvalid_0's multi_error: 0.481217\n",
      "[262]\tvalid_0's multi_error: 0.481222\n",
      "[263]\tvalid_0's multi_error: 0.481187\n",
      "[264]\tvalid_0's multi_error: 0.481122\n",
      "[265]\tvalid_0's multi_error: 0.48106\n",
      "[266]\tvalid_0's multi_error: 0.481057\n",
      "[267]\tvalid_0's multi_error: 0.481022\n",
      "[268]\tvalid_0's multi_error: 0.48091\n",
      "[269]\tvalid_0's multi_error: 0.480832\n",
      "[270]\tvalid_0's multi_error: 0.480748\n",
      "[271]\tvalid_0's multi_error: 0.480777\n",
      "[272]\tvalid_0's multi_error: 0.480728\n",
      "[273]\tvalid_0's multi_error: 0.480669\n",
      "[274]\tvalid_0's multi_error: 0.48062\n",
      "[275]\tvalid_0's multi_error: 0.480569\n",
      "[276]\tvalid_0's multi_error: 0.480559\n",
      "[277]\tvalid_0's multi_error: 0.480426\n",
      "[278]\tvalid_0's multi_error: 0.480331\n",
      "[279]\tvalid_0's multi_error: 0.480274\n",
      "[280]\tvalid_0's multi_error: 0.480295\n",
      "[281]\tvalid_0's multi_error: 0.480232\n",
      "[282]\tvalid_0's multi_error: 0.480193\n",
      "[283]\tvalid_0's multi_error: 0.480148\n",
      "[284]\tvalid_0's multi_error: 0.480134\n",
      "[285]\tvalid_0's multi_error: 0.480096\n",
      "[286]\tvalid_0's multi_error: 0.48001\n",
      "[287]\tvalid_0's multi_error: 0.480029\n",
      "[288]\tvalid_0's multi_error: 0.480008\n",
      "[289]\tvalid_0's multi_error: 0.479965\n",
      "[290]\tvalid_0's multi_error: 0.479953\n",
      "[291]\tvalid_0's multi_error: 0.479922\n",
      "[292]\tvalid_0's multi_error: 0.479911\n",
      "[293]\tvalid_0's multi_error: 0.47988\n",
      "[294]\tvalid_0's multi_error: 0.479883\n",
      "[295]\tvalid_0's multi_error: 0.479822\n",
      "[296]\tvalid_0's multi_error: 0.47979\n",
      "[297]\tvalid_0's multi_error: 0.479759\n",
      "[298]\tvalid_0's multi_error: 0.479689\n",
      "[299]\tvalid_0's multi_error: 0.479623\n",
      "[300]\tvalid_0's multi_error: 0.479629\n",
      "[301]\tvalid_0's multi_error: 0.479584\n",
      "[302]\tvalid_0's multi_error: 0.479451\n",
      "[303]\tvalid_0's multi_error: 0.479438\n",
      "[304]\tvalid_0's multi_error: 0.47945\n",
      "[305]\tvalid_0's multi_error: 0.479305\n",
      "[306]\tvalid_0's multi_error: 0.479278\n",
      "[307]\tvalid_0's multi_error: 0.479254\n",
      "[308]\tvalid_0's multi_error: 0.479175\n",
      "[309]\tvalid_0's multi_error: 0.479129\n",
      "[310]\tvalid_0's multi_error: 0.479174\n",
      "[311]\tvalid_0's multi_error: 0.479102\n",
      "[312]\tvalid_0's multi_error: 0.479083\n",
      "[313]\tvalid_0's multi_error: 0.479044\n",
      "[314]\tvalid_0's multi_error: 0.479032\n",
      "[315]\tvalid_0's multi_error: 0.479077\n",
      "[316]\tvalid_0's multi_error: 0.479038\n",
      "[317]\tvalid_0's multi_error: 0.479014\n",
      "[318]\tvalid_0's multi_error: 0.478962\n",
      "[319]\tvalid_0's multi_error: 0.478895\n",
      "[320]\tvalid_0's multi_error: 0.478798\n",
      "[321]\tvalid_0's multi_error: 0.478792\n",
      "[322]\tvalid_0's multi_error: 0.478669\n",
      "[323]\tvalid_0's multi_error: 0.478654\n",
      "[324]\tvalid_0's multi_error: 0.478643\n",
      "[325]\tvalid_0's multi_error: 0.478575\n",
      "[326]\tvalid_0's multi_error: 0.478619\n",
      "[327]\tvalid_0's multi_error: 0.478514\n",
      "[328]\tvalid_0's multi_error: 0.478528\n",
      "[329]\tvalid_0's multi_error: 0.478462\n",
      "[330]\tvalid_0's multi_error: 0.478387\n",
      "[331]\tvalid_0's multi_error: 0.478401\n",
      "[332]\tvalid_0's multi_error: 0.478389\n",
      "[333]\tvalid_0's multi_error: 0.478343\n",
      "[334]\tvalid_0's multi_error: 0.478331\n",
      "[335]\tvalid_0's multi_error: 0.478332\n"
     ]
    },
    {
     "name": "stdout",
     "output_type": "stream",
     "text": [
      "[336]\tvalid_0's multi_error: 0.478313\n",
      "[337]\tvalid_0's multi_error: 0.478262\n",
      "[338]\tvalid_0's multi_error: 0.478207\n",
      "[339]\tvalid_0's multi_error: 0.478129\n",
      "[340]\tvalid_0's multi_error: 0.478057\n",
      "[341]\tvalid_0's multi_error: 0.477999\n",
      "[342]\tvalid_0's multi_error: 0.477944\n",
      "[343]\tvalid_0's multi_error: 0.477968\n",
      "[344]\tvalid_0's multi_error: 0.477975\n",
      "[345]\tvalid_0's multi_error: 0.477947\n",
      "[346]\tvalid_0's multi_error: 0.477878\n",
      "[347]\tvalid_0's multi_error: 0.477844\n",
      "[348]\tvalid_0's multi_error: 0.477814\n",
      "[349]\tvalid_0's multi_error: 0.477795\n",
      "[350]\tvalid_0's multi_error: 0.477735\n",
      "[351]\tvalid_0's multi_error: 0.477714\n",
      "[352]\tvalid_0's multi_error: 0.477644\n",
      "[353]\tvalid_0's multi_error: 0.477617\n",
      "[354]\tvalid_0's multi_error: 0.47759\n",
      "[355]\tvalid_0's multi_error: 0.477611\n",
      "[356]\tvalid_0's multi_error: 0.477656\n",
      "[357]\tvalid_0's multi_error: 0.477601\n",
      "[358]\tvalid_0's multi_error: 0.477595\n",
      "[359]\tvalid_0's multi_error: 0.477571\n",
      "[360]\tvalid_0's multi_error: 0.477516\n",
      "[361]\tvalid_0's multi_error: 0.477474\n",
      "[362]\tvalid_0's multi_error: 0.477459\n",
      "[363]\tvalid_0's multi_error: 0.477445\n",
      "[364]\tvalid_0's multi_error: 0.477366\n",
      "[365]\tvalid_0's multi_error: 0.477416\n",
      "[366]\tvalid_0's multi_error: 0.477437\n",
      "[367]\tvalid_0's multi_error: 0.477371\n",
      "[368]\tvalid_0's multi_error: 0.477343\n",
      "[369]\tvalid_0's multi_error: 0.477231\n",
      "[370]\tvalid_0's multi_error: 0.477192\n",
      "[371]\tvalid_0's multi_error: 0.477157\n",
      "[372]\tvalid_0's multi_error: 0.477134\n",
      "[373]\tvalid_0's multi_error: 0.477157\n",
      "[374]\tvalid_0's multi_error: 0.47711\n",
      "[375]\tvalid_0's multi_error: 0.477122\n",
      "[376]\tvalid_0's multi_error: 0.47706\n",
      "[377]\tvalid_0's multi_error: 0.477043\n",
      "[378]\tvalid_0's multi_error: 0.476987\n",
      "[379]\tvalid_0's multi_error: 0.476935\n",
      "[380]\tvalid_0's multi_error: 0.476914\n",
      "[381]\tvalid_0's multi_error: 0.476878\n",
      "[382]\tvalid_0's multi_error: 0.476856\n",
      "[383]\tvalid_0's multi_error: 0.476871\n",
      "[384]\tvalid_0's multi_error: 0.476945\n",
      "[385]\tvalid_0's multi_error: 0.47689\n",
      "[386]\tvalid_0's multi_error: 0.476808\n",
      "[387]\tvalid_0's multi_error: 0.476823\n",
      "[388]\tvalid_0's multi_error: 0.476759\n",
      "[389]\tvalid_0's multi_error: 0.476725\n",
      "[390]\tvalid_0's multi_error: 0.47671\n",
      "[391]\tvalid_0's multi_error: 0.476678\n",
      "[392]\tvalid_0's multi_error: 0.47666\n",
      "[393]\tvalid_0's multi_error: 0.476595\n",
      "[394]\tvalid_0's multi_error: 0.47649\n",
      "[395]\tvalid_0's multi_error: 0.47651\n",
      "[396]\tvalid_0's multi_error: 0.476523\n",
      "[397]\tvalid_0's multi_error: 0.476532\n",
      "[398]\tvalid_0's multi_error: 0.476438\n",
      "[399]\tvalid_0's multi_error: 0.476411\n",
      "[400]\tvalid_0's multi_error: 0.476413\n",
      "[401]\tvalid_0's multi_error: 0.476386\n",
      "[402]\tvalid_0's multi_error: 0.476408\n",
      "[403]\tvalid_0's multi_error: 0.476407\n",
      "[404]\tvalid_0's multi_error: 0.476413\n",
      "[405]\tvalid_0's multi_error: 0.476443\n",
      "[406]\tvalid_0's multi_error: 0.476493\n",
      "[407]\tvalid_0's multi_error: 0.476448\n",
      "[408]\tvalid_0's multi_error: 0.476443\n",
      "[409]\tvalid_0's multi_error: 0.476404\n",
      "[410]\tvalid_0's multi_error: 0.476434\n",
      "[411]\tvalid_0's multi_error: 0.476372\n",
      "[412]\tvalid_0's multi_error: 0.476334\n",
      "[413]\tvalid_0's multi_error: 0.476302\n",
      "[414]\tvalid_0's multi_error: 0.476253\n",
      "[415]\tvalid_0's multi_error: 0.476266\n",
      "[416]\tvalid_0's multi_error: 0.476234\n",
      "[417]\tvalid_0's multi_error: 0.476232\n",
      "[418]\tvalid_0's multi_error: 0.476229\n",
      "[419]\tvalid_0's multi_error: 0.476192\n",
      "[420]\tvalid_0's multi_error: 0.476144\n",
      "[421]\tvalid_0's multi_error: 0.476145\n",
      "[422]\tvalid_0's multi_error: 0.476148\n",
      "[423]\tvalid_0's multi_error: 0.476078\n",
      "[424]\tvalid_0's multi_error: 0.476014\n",
      "[425]\tvalid_0's multi_error: 0.476043\n",
      "[426]\tvalid_0's multi_error: 0.476002\n",
      "[427]\tvalid_0's multi_error: 0.476002\n",
      "[428]\tvalid_0's multi_error: 0.475971\n",
      "[429]\tvalid_0's multi_error: 0.475951\n",
      "[430]\tvalid_0's multi_error: 0.475962\n",
      "[431]\tvalid_0's multi_error: 0.475928\n",
      "[432]\tvalid_0's multi_error: 0.475904\n",
      "[433]\tvalid_0's multi_error: 0.475923\n",
      "[434]\tvalid_0's multi_error: 0.475893\n",
      "[435]\tvalid_0's multi_error: 0.475914\n",
      "[436]\tvalid_0's multi_error: 0.475848\n",
      "[437]\tvalid_0's multi_error: 0.475874\n",
      "[438]\tvalid_0's multi_error: 0.475848\n",
      "[439]\tvalid_0's multi_error: 0.475825\n",
      "[440]\tvalid_0's multi_error: 0.475795\n",
      "[441]\tvalid_0's multi_error: 0.475823\n",
      "[442]\tvalid_0's multi_error: 0.475778\n",
      "[443]\tvalid_0's multi_error: 0.475845\n",
      "[444]\tvalid_0's multi_error: 0.475808\n",
      "[445]\tvalid_0's multi_error: 0.475737\n",
      "[446]\tvalid_0's multi_error: 0.475768\n",
      "[447]\tvalid_0's multi_error: 0.475692\n",
      "[448]\tvalid_0's multi_error: 0.47565\n",
      "[449]\tvalid_0's multi_error: 0.475665\n",
      "[450]\tvalid_0's multi_error: 0.475693\n",
      "[451]\tvalid_0's multi_error: 0.47566\n",
      "[452]\tvalid_0's multi_error: 0.47564\n",
      "[453]\tvalid_0's multi_error: 0.475637\n",
      "[454]\tvalid_0's multi_error: 0.475663\n",
      "[455]\tvalid_0's multi_error: 0.475672\n",
      "[456]\tvalid_0's multi_error: 0.475629\n",
      "[457]\tvalid_0's multi_error: 0.475645\n",
      "[458]\tvalid_0's multi_error: 0.475648\n",
      "[459]\tvalid_0's multi_error: 0.475647\n",
      "[460]\tvalid_0's multi_error: 0.475628\n",
      "[461]\tvalid_0's multi_error: 0.47559\n",
      "[462]\tvalid_0's multi_error: 0.475547\n",
      "[463]\tvalid_0's multi_error: 0.475551\n",
      "[464]\tvalid_0's multi_error: 0.475556\n",
      "[465]\tvalid_0's multi_error: 0.475526\n",
      "[466]\tvalid_0's multi_error: 0.475607\n",
      "[467]\tvalid_0's multi_error: 0.475569\n",
      "[468]\tvalid_0's multi_error: 0.475501\n",
      "[469]\tvalid_0's multi_error: 0.475484\n",
      "[470]\tvalid_0's multi_error: 0.475468\n",
      "[471]\tvalid_0's multi_error: 0.475475\n",
      "[472]\tvalid_0's multi_error: 0.475462\n",
      "[473]\tvalid_0's multi_error: 0.475438\n",
      "[474]\tvalid_0's multi_error: 0.47539\n",
      "[475]\tvalid_0's multi_error: 0.475374\n",
      "[476]\tvalid_0's multi_error: 0.475322\n",
      "[477]\tvalid_0's multi_error: 0.475311\n",
      "[478]\tvalid_0's multi_error: 0.47531\n",
      "[479]\tvalid_0's multi_error: 0.475316\n",
      "[480]\tvalid_0's multi_error: 0.475298\n",
      "[481]\tvalid_0's multi_error: 0.475295\n",
      "[482]\tvalid_0's multi_error: 0.47526\n",
      "[483]\tvalid_0's multi_error: 0.475263\n",
      "[484]\tvalid_0's multi_error: 0.47525\n",
      "[485]\tvalid_0's multi_error: 0.47521\n",
      "[486]\tvalid_0's multi_error: 0.475181\n",
      "[487]\tvalid_0's multi_error: 0.475151\n",
      "[488]\tvalid_0's multi_error: 0.47516\n",
      "[489]\tvalid_0's multi_error: 0.475148\n",
      "[490]\tvalid_0's multi_error: 0.475198\n",
      "[491]\tvalid_0's multi_error: 0.475178\n",
      "[492]\tvalid_0's multi_error: 0.475156\n",
      "[493]\tvalid_0's multi_error: 0.475138\n",
      "[494]\tvalid_0's multi_error: 0.475131\n",
      "[495]\tvalid_0's multi_error: 0.475119\n",
      "[496]\tvalid_0's multi_error: 0.475069\n",
      "[497]\tvalid_0's multi_error: 0.475087\n",
      "[498]\tvalid_0's multi_error: 0.475069\n",
      "[499]\tvalid_0's multi_error: 0.475026\n",
      "[500]\tvalid_0's multi_error: 0.475022\n",
      "[501]\tvalid_0's multi_error: 0.475011\n",
      "[502]\tvalid_0's multi_error: 0.475038\n",
      "[503]\tvalid_0's multi_error: 0.475031\n",
      "[504]\tvalid_0's multi_error: 0.475025\n",
      "[505]\tvalid_0's multi_error: 0.475004\n",
      "[506]\tvalid_0's multi_error: 0.475048\n",
      "[507]\tvalid_0's multi_error: 0.475028\n",
      "[508]\tvalid_0's multi_error: 0.475004\n",
      "[509]\tvalid_0's multi_error: 0.474987\n",
      "[510]\tvalid_0's multi_error: 0.474971\n",
      "[511]\tvalid_0's multi_error: 0.474992\n",
      "[512]\tvalid_0's multi_error: 0.474972\n",
      "[513]\tvalid_0's multi_error: 0.474944\n",
      "[514]\tvalid_0's multi_error: 0.474919\n",
      "[515]\tvalid_0's multi_error: 0.474965\n",
      "[516]\tvalid_0's multi_error: 0.474937\n",
      "[517]\tvalid_0's multi_error: 0.474929\n",
      "[518]\tvalid_0's multi_error: 0.474966\n",
      "[519]\tvalid_0's multi_error: 0.474957\n",
      "[520]\tvalid_0's multi_error: 0.474929\n",
      "[521]\tvalid_0's multi_error: 0.474974\n",
      "[522]\tvalid_0's multi_error: 0.474895\n",
      "[523]\tvalid_0's multi_error: 0.474868\n",
      "[524]\tvalid_0's multi_error: 0.474813\n",
      "[525]\tvalid_0's multi_error: 0.474823\n",
      "[526]\tvalid_0's multi_error: 0.474774\n",
      "[527]\tvalid_0's multi_error: 0.474798\n",
      "[528]\tvalid_0's multi_error: 0.474805\n",
      "[529]\tvalid_0's multi_error: 0.47481\n",
      "[530]\tvalid_0's multi_error: 0.474765\n",
      "[531]\tvalid_0's multi_error: 0.474751\n",
      "[532]\tvalid_0's multi_error: 0.47472\n",
      "[533]\tvalid_0's multi_error: 0.474689\n",
      "[534]\tvalid_0's multi_error: 0.474675\n",
      "[535]\tvalid_0's multi_error: 0.474645\n",
      "[536]\tvalid_0's multi_error: 0.474687\n",
      "[537]\tvalid_0's multi_error: 0.474705\n",
      "[538]\tvalid_0's multi_error: 0.474707\n",
      "[539]\tvalid_0's multi_error: 0.47475\n",
      "[540]\tvalid_0's multi_error: 0.474654\n",
      "[541]\tvalid_0's multi_error: 0.474648\n",
      "[542]\tvalid_0's multi_error: 0.47464\n",
      "[543]\tvalid_0's multi_error: 0.474595\n",
      "[544]\tvalid_0's multi_error: 0.474578\n",
      "[545]\tvalid_0's multi_error: 0.474596\n",
      "[546]\tvalid_0's multi_error: 0.474628\n",
      "[547]\tvalid_0's multi_error: 0.474596\n",
      "[548]\tvalid_0's multi_error: 0.47456\n",
      "[549]\tvalid_0's multi_error: 0.474566\n",
      "[550]\tvalid_0's multi_error: 0.474548\n",
      "[551]\tvalid_0's multi_error: 0.474554\n",
      "[552]\tvalid_0's multi_error: 0.474508\n",
      "[553]\tvalid_0's multi_error: 0.474532\n",
      "[554]\tvalid_0's multi_error: 0.474525\n",
      "[555]\tvalid_0's multi_error: 0.474526\n",
      "[556]\tvalid_0's multi_error: 0.474511\n",
      "[557]\tvalid_0's multi_error: 0.474474\n",
      "[558]\tvalid_0's multi_error: 0.474483\n",
      "[559]\tvalid_0's multi_error: 0.474384\n",
      "[560]\tvalid_0's multi_error: 0.474314\n",
      "[561]\tvalid_0's multi_error: 0.474332\n",
      "[562]\tvalid_0's multi_error: 0.474319\n",
      "[563]\tvalid_0's multi_error: 0.474331\n",
      "[564]\tvalid_0's multi_error: 0.474316\n",
      "[565]\tvalid_0's multi_error: 0.474329\n",
      "[566]\tvalid_0's multi_error: 0.474329\n",
      "[567]\tvalid_0's multi_error: 0.474311\n",
      "[568]\tvalid_0's multi_error: 0.474334\n",
      "[569]\tvalid_0's multi_error: 0.474295\n",
      "[570]\tvalid_0's multi_error: 0.474272\n",
      "[571]\tvalid_0's multi_error: 0.474241\n",
      "[572]\tvalid_0's multi_error: 0.474196\n",
      "[573]\tvalid_0's multi_error: 0.47419\n",
      "[574]\tvalid_0's multi_error: 0.474171\n",
      "[575]\tvalid_0's multi_error: 0.474177\n",
      "[576]\tvalid_0's multi_error: 0.474205\n",
      "[577]\tvalid_0's multi_error: 0.474195\n",
      "[578]\tvalid_0's multi_error: 0.474157\n",
      "[579]\tvalid_0's multi_error: 0.474151\n",
      "[580]\tvalid_0's multi_error: 0.474181\n",
      "[581]\tvalid_0's multi_error: 0.474177\n",
      "[582]\tvalid_0's multi_error: 0.474153\n",
      "[583]\tvalid_0's multi_error: 0.47414\n",
      "[584]\tvalid_0's multi_error: 0.474062\n",
      "[585]\tvalid_0's multi_error: 0.474054\n",
      "[586]\tvalid_0's multi_error: 0.473995\n",
      "[587]\tvalid_0's multi_error: 0.473975\n",
      "[588]\tvalid_0's multi_error: 0.473941\n",
      "[589]\tvalid_0's multi_error: 0.473886\n",
      "[590]\tvalid_0's multi_error: 0.473835\n",
      "[591]\tvalid_0's multi_error: 0.473857\n",
      "[592]\tvalid_0's multi_error: 0.473845\n",
      "[593]\tvalid_0's multi_error: 0.473884\n",
      "[594]\tvalid_0's multi_error: 0.473911\n",
      "[595]\tvalid_0's multi_error: 0.473892\n",
      "[596]\tvalid_0's multi_error: 0.473889\n",
      "[597]\tvalid_0's multi_error: 0.473883\n",
      "[598]\tvalid_0's multi_error: 0.473865\n",
      "[599]\tvalid_0's multi_error: 0.473883\n",
      "[600]\tvalid_0's multi_error: 0.473847\n",
      "[601]\tvalid_0's multi_error: 0.473823\n",
      "[602]\tvalid_0's multi_error: 0.473831\n",
      "[603]\tvalid_0's multi_error: 0.473808\n",
      "[604]\tvalid_0's multi_error: 0.473829\n",
      "[605]\tvalid_0's multi_error: 0.473799\n",
      "[606]\tvalid_0's multi_error: 0.47381\n",
      "[607]\tvalid_0's multi_error: 0.473772\n",
      "[608]\tvalid_0's multi_error: 0.473783\n",
      "[609]\tvalid_0's multi_error: 0.473784\n",
      "[610]\tvalid_0's multi_error: 0.473819\n",
      "[611]\tvalid_0's multi_error: 0.473784\n",
      "[612]\tvalid_0's multi_error: 0.473771\n",
      "[613]\tvalid_0's multi_error: 0.473748\n",
      "[614]\tvalid_0's multi_error: 0.473742\n",
      "[615]\tvalid_0's multi_error: 0.473717\n",
      "[616]\tvalid_0's multi_error: 0.473775\n",
      "[617]\tvalid_0's multi_error: 0.473769\n",
      "[618]\tvalid_0's multi_error: 0.473799\n",
      "[619]\tvalid_0's multi_error: 0.473774\n",
      "[620]\tvalid_0's multi_error: 0.473786\n",
      "[621]\tvalid_0's multi_error: 0.473766\n",
      "[622]\tvalid_0's multi_error: 0.473756\n",
      "[623]\tvalid_0's multi_error: 0.473732\n",
      "[624]\tvalid_0's multi_error: 0.473698\n",
      "[625]\tvalid_0's multi_error: 0.473735\n",
      "[626]\tvalid_0's multi_error: 0.473729\n",
      "[627]\tvalid_0's multi_error: 0.473716\n",
      "[628]\tvalid_0's multi_error: 0.473742\n",
      "[629]\tvalid_0's multi_error: 0.473757\n",
      "[630]\tvalid_0's multi_error: 0.473734\n",
      "[631]\tvalid_0's multi_error: 0.47376\n",
      "[632]\tvalid_0's multi_error: 0.473751\n",
      "[633]\tvalid_0's multi_error: 0.473728\n",
      "[634]\tvalid_0's multi_error: 0.473713\n",
      "[635]\tvalid_0's multi_error: 0.473695\n",
      "[636]\tvalid_0's multi_error: 0.473641\n",
      "[637]\tvalid_0's multi_error: 0.473628\n",
      "[638]\tvalid_0's multi_error: 0.473583\n",
      "[639]\tvalid_0's multi_error: 0.473626\n",
      "[640]\tvalid_0's multi_error: 0.473614\n",
      "[641]\tvalid_0's multi_error: 0.473595\n",
      "[642]\tvalid_0's multi_error: 0.473569\n",
      "[643]\tvalid_0's multi_error: 0.473553\n",
      "[644]\tvalid_0's multi_error: 0.473554\n",
      "[645]\tvalid_0's multi_error: 0.47356\n",
      "[646]\tvalid_0's multi_error: 0.473554\n",
      "[647]\tvalid_0's multi_error: 0.47352\n",
      "[648]\tvalid_0's multi_error: 0.473523\n",
      "[649]\tvalid_0's multi_error: 0.47352\n",
      "[650]\tvalid_0's multi_error: 0.473475\n",
      "[651]\tvalid_0's multi_error: 0.473447\n",
      "[652]\tvalid_0's multi_error: 0.47336\n",
      "[653]\tvalid_0's multi_error: 0.473371\n",
      "[654]\tvalid_0's multi_error: 0.473366\n",
      "[655]\tvalid_0's multi_error: 0.473384\n",
      "[656]\tvalid_0's multi_error: 0.473405\n",
      "[657]\tvalid_0's multi_error: 0.473384\n",
      "[658]\tvalid_0's multi_error: 0.473374\n",
      "[659]\tvalid_0's multi_error: 0.47335\n",
      "[660]\tvalid_0's multi_error: 0.473347\n",
      "[661]\tvalid_0's multi_error: 0.473326\n",
      "[662]\tvalid_0's multi_error: 0.473317\n",
      "[663]\tvalid_0's multi_error: 0.473337\n",
      "[664]\tvalid_0's multi_error: 0.473307\n",
      "[665]\tvalid_0's multi_error: 0.473325\n",
      "[666]\tvalid_0's multi_error: 0.473357\n",
      "[667]\tvalid_0's multi_error: 0.473375\n",
      "[668]\tvalid_0's multi_error: 0.473383\n",
      "[669]\tvalid_0's multi_error: 0.473368\n",
      "[670]\tvalid_0's multi_error: 0.47338\n",
      "[671]\tvalid_0's multi_error: 0.473372\n",
      "[672]\tvalid_0's multi_error: 0.473337\n",
      "[673]\tvalid_0's multi_error: 0.473298\n",
      "[674]\tvalid_0's multi_error: 0.47328\n",
      "[675]\tvalid_0's multi_error: 0.473301\n",
      "[676]\tvalid_0's multi_error: 0.47331\n",
      "[677]\tvalid_0's multi_error: 0.473304\n",
      "[678]\tvalid_0's multi_error: 0.473319\n",
      "[679]\tvalid_0's multi_error: 0.473292\n",
      "[680]\tvalid_0's multi_error: 0.473283\n",
      "[681]\tvalid_0's multi_error: 0.473269\n",
      "[682]\tvalid_0's multi_error: 0.473268\n",
      "[683]\tvalid_0's multi_error: 0.47328\n",
      "[684]\tvalid_0's multi_error: 0.473271\n",
      "[685]\tvalid_0's multi_error: 0.473266\n",
      "[686]\tvalid_0's multi_error: 0.473265\n",
      "[687]\tvalid_0's multi_error: 0.47324\n",
      "[688]\tvalid_0's multi_error: 0.473208\n",
      "[689]\tvalid_0's multi_error: 0.473226\n",
      "[690]\tvalid_0's multi_error: 0.47325\n",
      "[691]\tvalid_0's multi_error: 0.473235\n",
      "[692]\tvalid_0's multi_error: 0.473241\n",
      "[693]\tvalid_0's multi_error: 0.473268\n",
      "[694]\tvalid_0's multi_error: 0.473265\n",
      "[695]\tvalid_0's multi_error: 0.473295\n",
      "[696]\tvalid_0's multi_error: 0.473292\n",
      "[697]\tvalid_0's multi_error: 0.473253\n",
      "[698]\tvalid_0's multi_error: 0.473244\n",
      "[699]\tvalid_0's multi_error: 0.473248\n",
      "[700]\tvalid_0's multi_error: 0.473207\n",
      "[701]\tvalid_0's multi_error: 0.473229\n",
      "[702]\tvalid_0's multi_error: 0.473177\n",
      "[703]\tvalid_0's multi_error: 0.473196\n",
      "[704]\tvalid_0's multi_error: 0.473219\n",
      "[705]\tvalid_0's multi_error: 0.47318\n",
      "[706]\tvalid_0's multi_error: 0.473207\n",
      "[707]\tvalid_0's multi_error: 0.47319\n",
      "[708]\tvalid_0's multi_error: 0.473187\n",
      "[709]\tvalid_0's multi_error: 0.473193\n",
      "[710]\tvalid_0's multi_error: 0.473145\n",
      "[711]\tvalid_0's multi_error: 0.473126\n",
      "[712]\tvalid_0's multi_error: 0.473134\n",
      "[713]\tvalid_0's multi_error: 0.473128\n",
      "[714]\tvalid_0's multi_error: 0.473092\n",
      "[715]\tvalid_0's multi_error: 0.473083\n",
      "[716]\tvalid_0's multi_error: 0.473081\n",
      "[717]\tvalid_0's multi_error: 0.473062\n",
      "[718]\tvalid_0's multi_error: 0.473062\n",
      "[719]\tvalid_0's multi_error: 0.473063\n",
      "[720]\tvalid_0's multi_error: 0.473044\n",
      "[721]\tvalid_0's multi_error: 0.473031\n",
      "[722]\tvalid_0's multi_error: 0.473045\n",
      "[723]\tvalid_0's multi_error: 0.473054\n",
      "[724]\tvalid_0's multi_error: 0.473004\n",
      "[725]\tvalid_0's multi_error: 0.473008\n",
      "[726]\tvalid_0's multi_error: 0.473023\n",
      "[727]\tvalid_0's multi_error: 0.473007\n",
      "[728]\tvalid_0's multi_error: 0.47299\n",
      "[729]\tvalid_0's multi_error: 0.473022\n",
      "[730]\tvalid_0's multi_error: 0.473034\n",
      "[731]\tvalid_0's multi_error: 0.473037\n",
      "[732]\tvalid_0's multi_error: 0.473023\n",
      "[733]\tvalid_0's multi_error: 0.473016\n",
      "[734]\tvalid_0's multi_error: 0.473017\n",
      "[735]\tvalid_0's multi_error: 0.473026\n",
      "[736]\tvalid_0's multi_error: 0.473008\n",
      "[737]\tvalid_0's multi_error: 0.47298\n",
      "[738]\tvalid_0's multi_error: 0.47292\n",
      "[739]\tvalid_0's multi_error: 0.472942\n",
      "[740]\tvalid_0's multi_error: 0.47294\n",
      "[741]\tvalid_0's multi_error: 0.472938\n",
      "[742]\tvalid_0's multi_error: 0.472923\n",
      "[743]\tvalid_0's multi_error: 0.47291\n",
      "[744]\tvalid_0's multi_error: 0.472925\n",
      "[745]\tvalid_0's multi_error: 0.472884\n",
      "[746]\tvalid_0's multi_error: 0.47292\n",
      "[747]\tvalid_0's multi_error: 0.472872\n",
      "[748]\tvalid_0's multi_error: 0.472877\n",
      "[749]\tvalid_0's multi_error: 0.472866\n",
      "[750]\tvalid_0's multi_error: 0.472831\n",
      "[751]\tvalid_0's multi_error: 0.472848\n",
      "[752]\tvalid_0's multi_error: 0.472817\n",
      "[753]\tvalid_0's multi_error: 0.472805\n",
      "[754]\tvalid_0's multi_error: 0.472799\n",
      "[755]\tvalid_0's multi_error: 0.472823\n",
      "[756]\tvalid_0's multi_error: 0.47282\n",
      "[757]\tvalid_0's multi_error: 0.472823\n",
      "[758]\tvalid_0's multi_error: 0.472817\n",
      "[759]\tvalid_0's multi_error: 0.472811\n",
      "[760]\tvalid_0's multi_error: 0.47279\n",
      "[761]\tvalid_0's multi_error: 0.472759\n",
      "[762]\tvalid_0's multi_error: 0.472741\n",
      "[763]\tvalid_0's multi_error: 0.472725\n",
      "[764]\tvalid_0's multi_error: 0.47274\n",
      "[765]\tvalid_0's multi_error: 0.472741\n",
      "[766]\tvalid_0's multi_error: 0.472695\n",
      "[767]\tvalid_0's multi_error: 0.472675\n"
     ]
    },
    {
     "name": "stdout",
     "output_type": "stream",
     "text": [
      "[768]\tvalid_0's multi_error: 0.472689\n",
      "[769]\tvalid_0's multi_error: 0.472629\n",
      "[770]\tvalid_0's multi_error: 0.472651\n",
      "[771]\tvalid_0's multi_error: 0.472689\n",
      "[772]\tvalid_0's multi_error: 0.472716\n",
      "[773]\tvalid_0's multi_error: 0.47271\n",
      "[774]\tvalid_0's multi_error: 0.472686\n",
      "[775]\tvalid_0's multi_error: 0.472711\n",
      "[776]\tvalid_0's multi_error: 0.472707\n",
      "[777]\tvalid_0's multi_error: 0.472711\n",
      "[778]\tvalid_0's multi_error: 0.472696\n",
      "[779]\tvalid_0's multi_error: 0.472719\n",
      "[780]\tvalid_0's multi_error: 0.472735\n",
      "[781]\tvalid_0's multi_error: 0.472705\n",
      "[782]\tvalid_0's multi_error: 0.472662\n",
      "[783]\tvalid_0's multi_error: 0.472659\n",
      "[784]\tvalid_0's multi_error: 0.472668\n",
      "[785]\tvalid_0's multi_error: 0.472666\n",
      "[786]\tvalid_0's multi_error: 0.472662\n",
      "[787]\tvalid_0's multi_error: 0.472651\n",
      "[788]\tvalid_0's multi_error: 0.472645\n",
      "[789]\tvalid_0's multi_error: 0.472641\n",
      "[790]\tvalid_0's multi_error: 0.472651\n",
      "[791]\tvalid_0's multi_error: 0.472666\n",
      "[792]\tvalid_0's multi_error: 0.472641\n",
      "[793]\tvalid_0's multi_error: 0.472637\n",
      "[794]\tvalid_0's multi_error: 0.472641\n",
      "[795]\tvalid_0's multi_error: 0.472669\n",
      "[796]\tvalid_0's multi_error: 0.472666\n",
      "[797]\tvalid_0's multi_error: 0.47265\n",
      "[798]\tvalid_0's multi_error: 0.472663\n",
      "[799]\tvalid_0's multi_error: 0.472656\n",
      "[800]\tvalid_0's multi_error: 0.472659\n",
      "[801]\tvalid_0's multi_error: 0.472678\n",
      "[802]\tvalid_0's multi_error: 0.472656\n",
      "[803]\tvalid_0's multi_error: 0.472632\n",
      "[804]\tvalid_0's multi_error: 0.472641\n",
      "[805]\tvalid_0's multi_error: 0.472628\n",
      "[806]\tvalid_0's multi_error: 0.472642\n",
      "[807]\tvalid_0's multi_error: 0.472611\n",
      "[808]\tvalid_0's multi_error: 0.472623\n",
      "[809]\tvalid_0's multi_error: 0.472653\n",
      "[810]\tvalid_0's multi_error: 0.472675\n",
      "[811]\tvalid_0's multi_error: 0.472641\n",
      "[812]\tvalid_0's multi_error: 0.472592\n",
      "[813]\tvalid_0's multi_error: 0.472596\n",
      "[814]\tvalid_0's multi_error: 0.472605\n",
      "[815]\tvalid_0's multi_error: 0.472581\n",
      "[816]\tvalid_0's multi_error: 0.472541\n",
      "[817]\tvalid_0's multi_error: 0.472542\n",
      "[818]\tvalid_0's multi_error: 0.472545\n",
      "[819]\tvalid_0's multi_error: 0.472565\n",
      "[820]\tvalid_0's multi_error: 0.472559\n",
      "[821]\tvalid_0's multi_error: 0.472544\n",
      "[822]\tvalid_0's multi_error: 0.472562\n",
      "[823]\tvalid_0's multi_error: 0.47251\n",
      "[824]\tvalid_0's multi_error: 0.472551\n",
      "[825]\tvalid_0's multi_error: 0.472513\n",
      "[826]\tvalid_0's multi_error: 0.472502\n",
      "[827]\tvalid_0's multi_error: 0.472501\n",
      "[828]\tvalid_0's multi_error: 0.472504\n",
      "[829]\tvalid_0's multi_error: 0.472551\n",
      "[830]\tvalid_0's multi_error: 0.472535\n",
      "[831]\tvalid_0's multi_error: 0.472526\n",
      "[832]\tvalid_0's multi_error: 0.472489\n",
      "[833]\tvalid_0's multi_error: 0.472493\n",
      "[834]\tvalid_0's multi_error: 0.472505\n",
      "[835]\tvalid_0's multi_error: 0.472501\n",
      "[836]\tvalid_0's multi_error: 0.472493\n",
      "[837]\tvalid_0's multi_error: 0.472501\n",
      "[838]\tvalid_0's multi_error: 0.47245\n",
      "[839]\tvalid_0's multi_error: 0.472471\n",
      "[840]\tvalid_0's multi_error: 0.472445\n",
      "[841]\tvalid_0's multi_error: 0.472425\n",
      "[842]\tvalid_0's multi_error: 0.472413\n",
      "[843]\tvalid_0's multi_error: 0.472389\n",
      "[844]\tvalid_0's multi_error: 0.472395\n",
      "[845]\tvalid_0's multi_error: 0.472337\n",
      "[846]\tvalid_0's multi_error: 0.472332\n",
      "[847]\tvalid_0's multi_error: 0.472314\n",
      "[848]\tvalid_0's multi_error: 0.472316\n",
      "[849]\tvalid_0's multi_error: 0.472299\n",
      "[850]\tvalid_0's multi_error: 0.472302\n",
      "[851]\tvalid_0's multi_error: 0.472332\n",
      "[852]\tvalid_0's multi_error: 0.472265\n",
      "[853]\tvalid_0's multi_error: 0.472272\n",
      "[854]\tvalid_0's multi_error: 0.472281\n",
      "[855]\tvalid_0's multi_error: 0.472296\n",
      "[856]\tvalid_0's multi_error: 0.472284\n",
      "[857]\tvalid_0's multi_error: 0.472286\n",
      "[858]\tvalid_0's multi_error: 0.472289\n",
      "[859]\tvalid_0's multi_error: 0.472283\n",
      "[860]\tvalid_0's multi_error: 0.47229\n",
      "[861]\tvalid_0's multi_error: 0.472272\n",
      "[862]\tvalid_0's multi_error: 0.472269\n",
      "[863]\tvalid_0's multi_error: 0.47228\n",
      "[864]\tvalid_0's multi_error: 0.472241\n",
      "[865]\tvalid_0's multi_error: 0.472219\n",
      "[866]\tvalid_0's multi_error: 0.472228\n",
      "[867]\tvalid_0's multi_error: 0.472241\n",
      "[868]\tvalid_0's multi_error: 0.472223\n",
      "[869]\tvalid_0's multi_error: 0.472223\n",
      "[870]\tvalid_0's multi_error: 0.472241\n",
      "[871]\tvalid_0's multi_error: 0.472253\n",
      "[872]\tvalid_0's multi_error: 0.472259\n",
      "[873]\tvalid_0's multi_error: 0.472242\n",
      "[874]\tvalid_0's multi_error: 0.47224\n",
      "[875]\tvalid_0's multi_error: 0.472235\n",
      "[876]\tvalid_0's multi_error: 0.472277\n",
      "[877]\tvalid_0's multi_error: 0.472278\n",
      "[878]\tvalid_0's multi_error: 0.472265\n",
      "[879]\tvalid_0's multi_error: 0.472257\n",
      "[880]\tvalid_0's multi_error: 0.472278\n",
      "[881]\tvalid_0's multi_error: 0.472259\n",
      "[882]\tvalid_0's multi_error: 0.472262\n",
      "[883]\tvalid_0's multi_error: 0.472223\n",
      "[884]\tvalid_0's multi_error: 0.472226\n",
      "[885]\tvalid_0's multi_error: 0.472214\n",
      "[886]\tvalid_0's multi_error: 0.472231\n",
      "[887]\tvalid_0's multi_error: 0.47221\n",
      "[888]\tvalid_0's multi_error: 0.472208\n",
      "[889]\tvalid_0's multi_error: 0.472216\n",
      "[890]\tvalid_0's multi_error: 0.472189\n",
      "[891]\tvalid_0's multi_error: 0.47214\n",
      "[892]\tvalid_0's multi_error: 0.472114\n",
      "[893]\tvalid_0's multi_error: 0.472125\n",
      "[894]\tvalid_0's multi_error: 0.472166\n",
      "[895]\tvalid_0's multi_error: 0.472154\n",
      "[896]\tvalid_0's multi_error: 0.472168\n",
      "[897]\tvalid_0's multi_error: 0.472192\n",
      "[898]\tvalid_0's multi_error: 0.472163\n",
      "[899]\tvalid_0's multi_error: 0.472175\n",
      "[900]\tvalid_0's multi_error: 0.472154\n",
      "[901]\tvalid_0's multi_error: 0.472126\n",
      "[902]\tvalid_0's multi_error: 0.472092\n",
      "[903]\tvalid_0's multi_error: 0.472062\n",
      "[904]\tvalid_0's multi_error: 0.472054\n",
      "[905]\tvalid_0's multi_error: 0.472044\n",
      "[906]\tvalid_0's multi_error: 0.472044\n",
      "[907]\tvalid_0's multi_error: 0.472069\n",
      "[908]\tvalid_0's multi_error: 0.472056\n",
      "[909]\tvalid_0's multi_error: 0.472032\n",
      "[910]\tvalid_0's multi_error: 0.471983\n",
      "[911]\tvalid_0's multi_error: 0.47198\n",
      "[912]\tvalid_0's multi_error: 0.472038\n",
      "[913]\tvalid_0's multi_error: 0.471989\n",
      "[914]\tvalid_0's multi_error: 0.471998\n",
      "[915]\tvalid_0's multi_error: 0.471966\n",
      "[916]\tvalid_0's multi_error: 0.471938\n",
      "[917]\tvalid_0's multi_error: 0.471948\n",
      "[918]\tvalid_0's multi_error: 0.471966\n",
      "[919]\tvalid_0's multi_error: 0.471937\n",
      "[920]\tvalid_0's multi_error: 0.47196\n",
      "[921]\tvalid_0's multi_error: 0.471923\n",
      "[922]\tvalid_0's multi_error: 0.471908\n",
      "[923]\tvalid_0's multi_error: 0.471956\n",
      "[924]\tvalid_0's multi_error: 0.472005\n",
      "[925]\tvalid_0's multi_error: 0.472001\n",
      "[926]\tvalid_0's multi_error: 0.472001\n",
      "[927]\tvalid_0's multi_error: 0.472002\n",
      "[928]\tvalid_0's multi_error: 0.471971\n",
      "[929]\tvalid_0's multi_error: 0.471971\n",
      "[930]\tvalid_0's multi_error: 0.471972\n",
      "[931]\tvalid_0's multi_error: 0.471977\n",
      "[932]\tvalid_0's multi_error: 0.471987\n",
      "[933]\tvalid_0's multi_error: 0.471954\n",
      "[934]\tvalid_0's multi_error: 0.471975\n",
      "[935]\tvalid_0's multi_error: 0.471998\n",
      "[936]\tvalid_0's multi_error: 0.471996\n",
      "[937]\tvalid_0's multi_error: 0.471984\n",
      "[938]\tvalid_0's multi_error: 0.471977\n",
      "[939]\tvalid_0's multi_error: 0.471953\n",
      "[940]\tvalid_0's multi_error: 0.471925\n",
      "[941]\tvalid_0's multi_error: 0.471889\n",
      "[942]\tvalid_0's multi_error: 0.471841\n",
      "[943]\tvalid_0's multi_error: 0.471851\n",
      "[944]\tvalid_0's multi_error: 0.471898\n",
      "[945]\tvalid_0's multi_error: 0.471851\n",
      "[946]\tvalid_0's multi_error: 0.47186\n",
      "[947]\tvalid_0's multi_error: 0.471829\n",
      "[948]\tvalid_0's multi_error: 0.47181\n",
      "[949]\tvalid_0's multi_error: 0.471823\n",
      "[950]\tvalid_0's multi_error: 0.471801\n",
      "[951]\tvalid_0's multi_error: 0.471798\n",
      "[952]\tvalid_0's multi_error: 0.471798\n",
      "[953]\tvalid_0's multi_error: 0.471814\n",
      "[954]\tvalid_0's multi_error: 0.471792\n",
      "[955]\tvalid_0's multi_error: 0.471804\n",
      "[956]\tvalid_0's multi_error: 0.471789\n",
      "[957]\tvalid_0's multi_error: 0.471774\n",
      "[958]\tvalid_0's multi_error: 0.471777\n",
      "[959]\tvalid_0's multi_error: 0.471808\n",
      "[960]\tvalid_0's multi_error: 0.471822\n",
      "[961]\tvalid_0's multi_error: 0.471822\n",
      "[962]\tvalid_0's multi_error: 0.471811\n",
      "[963]\tvalid_0's multi_error: 0.471828\n",
      "[964]\tvalid_0's multi_error: 0.471804\n",
      "[965]\tvalid_0's multi_error: 0.471822\n",
      "[966]\tvalid_0's multi_error: 0.471811\n",
      "[967]\tvalid_0's multi_error: 0.471786\n",
      "[968]\tvalid_0's multi_error: 0.471738\n",
      "[969]\tvalid_0's multi_error: 0.471735\n",
      "[970]\tvalid_0's multi_error: 0.471714\n",
      "[971]\tvalid_0's multi_error: 0.471748\n",
      "[972]\tvalid_0's multi_error: 0.471775\n",
      "[973]\tvalid_0's multi_error: 0.471762\n",
      "[974]\tvalid_0's multi_error: 0.471753\n",
      "[975]\tvalid_0's multi_error: 0.471747\n",
      "[976]\tvalid_0's multi_error: 0.47171\n",
      "[977]\tvalid_0's multi_error: 0.471726\n",
      "[978]\tvalid_0's multi_error: 0.471705\n",
      "[979]\tvalid_0's multi_error: 0.471698\n",
      "[980]\tvalid_0's multi_error: 0.471702\n",
      "[981]\tvalid_0's multi_error: 0.471731\n",
      "[982]\tvalid_0's multi_error: 0.471705\n",
      "[983]\tvalid_0's multi_error: 0.471698\n",
      "[984]\tvalid_0's multi_error: 0.471713\n",
      "[985]\tvalid_0's multi_error: 0.471692\n",
      "[986]\tvalid_0's multi_error: 0.47172\n",
      "[987]\tvalid_0's multi_error: 0.471701\n",
      "[988]\tvalid_0's multi_error: 0.471669\n",
      "[989]\tvalid_0's multi_error: 0.471669\n",
      "[990]\tvalid_0's multi_error: 0.471641\n",
      "[991]\tvalid_0's multi_error: 0.471642\n",
      "[992]\tvalid_0's multi_error: 0.47166\n",
      "[993]\tvalid_0's multi_error: 0.471671\n",
      "[994]\tvalid_0's multi_error: 0.471654\n",
      "[995]\tvalid_0's multi_error: 0.471642\n",
      "[996]\tvalid_0's multi_error: 0.47162\n",
      "[997]\tvalid_0's multi_error: 0.471616\n",
      "[998]\tvalid_0's multi_error: 0.471593\n",
      "[999]\tvalid_0's multi_error: 0.471572\n",
      "[1000]\tvalid_0's multi_error: 0.471571\n",
      "[1001]\tvalid_0's multi_error: 0.471599\n",
      "[1002]\tvalid_0's multi_error: 0.471589\n",
      "[1003]\tvalid_0's multi_error: 0.471581\n",
      "[1004]\tvalid_0's multi_error: 0.47155\n",
      "[1005]\tvalid_0's multi_error: 0.471551\n",
      "[1006]\tvalid_0's multi_error: 0.47155\n",
      "[1007]\tvalid_0's multi_error: 0.471534\n",
      "[1008]\tvalid_0's multi_error: 0.471535\n",
      "[1009]\tvalid_0's multi_error: 0.471519\n",
      "[1010]\tvalid_0's multi_error: 0.471525\n",
      "[1011]\tvalid_0's multi_error: 0.471505\n",
      "[1012]\tvalid_0's multi_error: 0.47155\n",
      "[1013]\tvalid_0's multi_error: 0.471541\n",
      "[1014]\tvalid_0's multi_error: 0.471522\n",
      "[1015]\tvalid_0's multi_error: 0.471505\n",
      "[1016]\tvalid_0's multi_error: 0.471484\n",
      "[1017]\tvalid_0's multi_error: 0.471498\n",
      "[1018]\tvalid_0's multi_error: 0.471499\n",
      "[1019]\tvalid_0's multi_error: 0.471478\n",
      "[1020]\tvalid_0's multi_error: 0.471508\n",
      "[1021]\tvalid_0's multi_error: 0.47149\n",
      "[1022]\tvalid_0's multi_error: 0.471501\n",
      "[1023]\tvalid_0's multi_error: 0.471477\n",
      "[1024]\tvalid_0's multi_error: 0.471532\n",
      "[1025]\tvalid_0's multi_error: 0.471532\n",
      "[1026]\tvalid_0's multi_error: 0.471469\n",
      "[1027]\tvalid_0's multi_error: 0.471445\n",
      "[1028]\tvalid_0's multi_error: 0.471441\n",
      "[1029]\tvalid_0's multi_error: 0.471438\n",
      "[1030]\tvalid_0's multi_error: 0.471442\n",
      "[1031]\tvalid_0's multi_error: 0.471447\n",
      "[1032]\tvalid_0's multi_error: 0.471487\n",
      "[1033]\tvalid_0's multi_error: 0.471468\n",
      "[1034]\tvalid_0's multi_error: 0.471432\n",
      "[1035]\tvalid_0's multi_error: 0.471475\n",
      "[1036]\tvalid_0's multi_error: 0.471537\n",
      "[1037]\tvalid_0's multi_error: 0.471525\n",
      "[1038]\tvalid_0's multi_error: 0.471531\n",
      "[1039]\tvalid_0's multi_error: 0.471545\n",
      "[1040]\tvalid_0's multi_error: 0.471544\n",
      "[1041]\tvalid_0's multi_error: 0.471547\n",
      "[1042]\tvalid_0's multi_error: 0.471584\n",
      "[1043]\tvalid_0's multi_error: 0.471575\n",
      "[1044]\tvalid_0's multi_error: 0.471592\n",
      "[1045]\tvalid_0's multi_error: 0.471572\n",
      "[1046]\tvalid_0's multi_error: 0.47155\n",
      "[1047]\tvalid_0's multi_error: 0.471472\n",
      "[1048]\tvalid_0's multi_error: 0.471456\n",
      "[1049]\tvalid_0's multi_error: 0.471471\n",
      "[1050]\tvalid_0's multi_error: 0.471469\n",
      "[1051]\tvalid_0's multi_error: 0.471486\n",
      "[1052]\tvalid_0's multi_error: 0.471466\n",
      "[1053]\tvalid_0's multi_error: 0.471468\n",
      "[1054]\tvalid_0's multi_error: 0.471474\n",
      "[1055]\tvalid_0's multi_error: 0.471468\n",
      "[1056]\tvalid_0's multi_error: 0.47146\n",
      "[1057]\tvalid_0's multi_error: 0.471428\n",
      "[1058]\tvalid_0's multi_error: 0.471411\n",
      "[1059]\tvalid_0's multi_error: 0.471402\n",
      "[1060]\tvalid_0's multi_error: 0.471429\n",
      "[1061]\tvalid_0's multi_error: 0.471447\n",
      "[1062]\tvalid_0's multi_error: 0.471434\n",
      "[1063]\tvalid_0's multi_error: 0.47144\n",
      "[1064]\tvalid_0's multi_error: 0.471425\n",
      "[1065]\tvalid_0's multi_error: 0.471437\n",
      "[1066]\tvalid_0's multi_error: 0.471456\n",
      "[1067]\tvalid_0's multi_error: 0.471453\n",
      "[1068]\tvalid_0's multi_error: 0.471462\n",
      "[1069]\tvalid_0's multi_error: 0.471469\n",
      "[1070]\tvalid_0's multi_error: 0.471474\n",
      "[1071]\tvalid_0's multi_error: 0.471432\n",
      "[1072]\tvalid_0's multi_error: 0.471414\n",
      "[1073]\tvalid_0's multi_error: 0.471395\n",
      "[1074]\tvalid_0's multi_error: 0.471366\n",
      "[1075]\tvalid_0's multi_error: 0.471365\n",
      "[1076]\tvalid_0's multi_error: 0.471329\n",
      "[1077]\tvalid_0's multi_error: 0.471326\n",
      "[1078]\tvalid_0's multi_error: 0.471269\n",
      "[1079]\tvalid_0's multi_error: 0.471314\n",
      "[1080]\tvalid_0's multi_error: 0.47132\n",
      "[1081]\tvalid_0's multi_error: 0.471347\n",
      "[1082]\tvalid_0's multi_error: 0.471359\n",
      "[1083]\tvalid_0's multi_error: 0.471366\n",
      "[1084]\tvalid_0's multi_error: 0.471375\n",
      "[1085]\tvalid_0's multi_error: 0.471366\n",
      "[1086]\tvalid_0's multi_error: 0.471384\n",
      "[1087]\tvalid_0's multi_error: 0.471384\n",
      "[1088]\tvalid_0's multi_error: 0.471392\n",
      "[1089]\tvalid_0's multi_error: 0.471404\n",
      "[1090]\tvalid_0's multi_error: 0.471465\n",
      "[1091]\tvalid_0's multi_error: 0.471472\n",
      "[1092]\tvalid_0's multi_error: 0.471454\n",
      "[1093]\tvalid_0's multi_error: 0.471431\n",
      "[1094]\tvalid_0's multi_error: 0.471437\n",
      "[1095]\tvalid_0's multi_error: 0.471408\n",
      "[1096]\tvalid_0's multi_error: 0.471405\n",
      "[1097]\tvalid_0's multi_error: 0.471384\n",
      "[1098]\tvalid_0's multi_error: 0.471405\n",
      "[1099]\tvalid_0's multi_error: 0.471393\n",
      "[1100]\tvalid_0's multi_error: 0.471398\n",
      "[1101]\tvalid_0's multi_error: 0.471384\n",
      "[1102]\tvalid_0's multi_error: 0.471408\n",
      "[1103]\tvalid_0's multi_error: 0.471407\n",
      "[1104]\tvalid_0's multi_error: 0.471413\n",
      "[1105]\tvalid_0's multi_error: 0.471417\n",
      "[1106]\tvalid_0's multi_error: 0.471417\n",
      "[1107]\tvalid_0's multi_error: 0.471404\n",
      "[1108]\tvalid_0's multi_error: 0.471368\n",
      "[1109]\tvalid_0's multi_error: 0.471363\n",
      "[1110]\tvalid_0's multi_error: 0.471374\n",
      "[1111]\tvalid_0's multi_error: 0.471408\n",
      "[1112]\tvalid_0's multi_error: 0.471395\n",
      "[1113]\tvalid_0's multi_error: 0.471381\n",
      "[1114]\tvalid_0's multi_error: 0.47136\n",
      "[1115]\tvalid_0's multi_error: 0.47136\n",
      "[1116]\tvalid_0's multi_error: 0.471363\n",
      "[1117]\tvalid_0's multi_error: 0.471392\n",
      "[1118]\tvalid_0's multi_error: 0.471387\n",
      "[1119]\tvalid_0's multi_error: 0.471335\n",
      "[1120]\tvalid_0's multi_error: 0.471323\n",
      "[1121]\tvalid_0's multi_error: 0.47132\n",
      "[1122]\tvalid_0's multi_error: 0.471326\n",
      "[1123]\tvalid_0's multi_error: 0.471287\n",
      "[1124]\tvalid_0's multi_error: 0.471277\n",
      "[1125]\tvalid_0's multi_error: 0.471278\n",
      "[1126]\tvalid_0's multi_error: 0.471289\n",
      "[1127]\tvalid_0's multi_error: 0.471298\n",
      "[1128]\tvalid_0's multi_error: 0.47131\n",
      "Early stopping, best iteration is:\n",
      "[1078]\tvalid_0's multi_error: 0.471269\n"
     ]
    }
   ],
   "source": [
    "print(\"开始训练模型：\")\n",
    "param = {\n",
    "        'learning_rate': 0.13,\n",
    "        'lambda_l1': 1,\n",
    "        'lambda_l2': 0.01,\n",
    "        'max_depth': 20,\n",
    "        'objective': 'multiclass',\n",
    "        'num_class': 7,\n",
    "        'num_leaves': 31,\n",
    "        'min_data_in_leaf': 50,\n",
    "        'max_bin': 230,\n",
    "        'feature_fraction': 0.8,\n",
    "        'metric': {'multi_error'}\n",
    "        }\n",
    "\n",
    "X = df_train.drop(['age_group','uid'], axis=1)\n",
    "y = df_train['age_group']\n",
    "uid = df_test['uid']\n",
    "test = df_test.drop('uid', axis=1)\n",
    "\n",
    "xx_score = []\n",
    "cv_pred = []\n",
    "skf = StratifiedKFold(n_splits=3, random_state=1030, shuffle=True)\n",
    "for index, (train_index, vali_index) in enumerate(skf.split(X, y)):\n",
    "    print(index)\n",
    "    x_train, y_train, x_vali, y_vali = np.array(X)[train_index], np.array(y)[train_index], np.array(X)[vali_index], np.array(y)[vali_index]\n",
    "    train = lgb.Dataset(x_train, y_train)\n",
    "    vali =lgb.Dataset(x_vali, y_vali)\n",
    "    print(\"training start...\")\n",
    "    model = lgb.train(param, train, num_boost_round=2000, valid_sets=[vali], early_stopping_rounds=50)\n",
    "    xx_pred = model.predict(x_vali,num_iteration=model.best_iteration)\n",
    "    xx_pred = [np.argmax(x) for x in xx_pred]\n",
    "    xx_score.append(f1_score(y_vali,xx_pred,average='weighted'))\n",
    "    y_test = model.predict(test,num_iteration=model.best_iteration)\n",
    "    y_test = [np.argmax(x) for x in y_test]\n",
    "    if index == 0:\n",
    "        cv_pred = np.array(y_test).reshape(-1, 1)\n",
    "    else:\n",
    "        cv_pred = np.hstack((cv_pred, np.array(y_test).reshape(-1, 1)))\n",
    "        \n",
    "submit = []\n",
    "for line in cv_pred:\n",
    "    submit.append(np.argmax(np.bincount(line)))\n",
    "df = pd.DataFrame({'id':uid.as_matrix(),'label':submit})\n",
    "df.to_csv('submission.csv',index=False)"
   ]
  },
  {
   "cell_type": "code",
   "execution_count": 27,
   "metadata": {},
   "outputs": [
    {
     "name": "stdout",
     "output_type": "stream",
     "text": [
      "accuracy_score is 0.528731 \n"
     ]
    }
   ],
   "source": [
    "predicts = model.predict(x_vali)\n",
    "predicts = [np.argmax(x) for x in predicts]\n",
    "cv_pred = np.hstack((cv_pred, np.array(y_test).reshape(-1, 1)))\n",
    "\n",
    "results = []\n",
    "for line in cv_pred:\n",
    "    results.append(np.argmax(np.bincount(line)))\n",
    "\n",
    "from sklearn.metrics import roc_auc_score, accuracy_score, f1_score\n",
    "acc_score = accuracy_score(y_vali, predicts)\n",
    "\n",
    "\n",
    "print(\"accuracy_score is %f \"% acc_score)"
   ]
  },
  {
   "cell_type": "code",
   "execution_count": 28,
   "metadata": {},
   "outputs": [],
   "source": [
    "#保存  每次超参数组合以及测试集上得到的acc  到文件中\n",
    "\n",
    "path_csv='Record_param_acc_lost'+'.csv'\n",
    "for (k,v) in  param.items():\n",
    "    SaveFile2csv(path_csv, [k, str(v)])\n",
    "    \n",
    "#record_parameters_auc_loss_txt.append('\\nlost:'+answer_detail+\\\n",
    "#                '\\n-------------------------------------------------------------------------------\\n')\n",
    "#print(record_parameters_auc_loss_csv)\n",
    "SaveFile2csv(path_csv, ['\\nAccuracy score', str(acc_score)])"
   ]
  }
 ],
 "metadata": {
  "kernelspec": {
   "display_name": "Python 3",
   "language": "python",
   "name": "python3"
  },
  "language_info": {
   "codemirror_mode": {
    "name": "ipython",
    "version": 3
   },
   "file_extension": ".py",
   "mimetype": "text/x-python",
   "name": "python",
   "nbconvert_exporter": "python",
   "pygments_lexer": "ipython3",
   "version": "3.6.7"
  }
 },
 "nbformat": 4,
 "nbformat_minor": 2
}
